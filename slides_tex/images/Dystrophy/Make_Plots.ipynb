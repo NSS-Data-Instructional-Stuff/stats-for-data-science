{
 "cells": [
  {
   "cell_type": "markdown",
   "metadata": {},
   "source": [
    "Duchenne Muscular Dystrophy (DMD) is a genetically transmitted disease, passed from a mother to her children. Affected female offspring usually suffer no apparent symptoms, male offspring with the disease die at young age. Although female carriers have no physical symptoms they tend to exhibit elevated levels of certain serum enzymes or proteins. \n",
    "The dystrophy dataset contains 209 observations of 75 female DMD carriers and 134 female DMD non-carrier. It includes 6 variables describing age of the female and the serum parameters serum marker creatine kinase (CK), serum marker hemopexin (H), serum marker pyruvate kinase (PK) and serum marker lactate dehydroginase (LD). The serum markers CK and H may be measured rather inexpensive from frozen serum, PK and LD requires fresh serum.\n",
    "\n",
    "The first two serum markers, creatine kinase and hemopexin (ck,h), are inexpensive to obtain, while the last two, pyruvate kinase and lactate dehydroginase (pk,ld), are more expensive. It is of interest to measure how much pk and ld add toward predicting the carrier status. The importance of age and sample date is also of interest. Percy noted that the water supply for the lab changed during the study."
   ]
  },
  {
   "cell_type": "code",
   "execution_count": 35,
   "metadata": {},
   "outputs": [],
   "source": [
    "import pandas as pd\n",
    "import numpy as np"
   ]
  },
  {
   "cell_type": "code",
   "execution_count": 2,
   "metadata": {},
   "outputs": [],
   "source": [
    "dystrophy = pd.read_csv('dystrophy.csv')"
   ]
  },
  {
   "cell_type": "code",
   "execution_count": 5,
   "metadata": {},
   "outputs": [
    {
     "data": {
      "text/html": [
       "<div>\n",
       "<style scoped>\n",
       "    .dataframe tbody tr th:only-of-type {\n",
       "        vertical-align: middle;\n",
       "    }\n",
       "\n",
       "    .dataframe tbody tr th {\n",
       "        vertical-align: top;\n",
       "    }\n",
       "\n",
       "    .dataframe thead th {\n",
       "        text-align: right;\n",
       "    }\n",
       "</style>\n",
       "<table border=\"1\" class=\"dataframe\">\n",
       "  <thead>\n",
       "    <tr style=\"text-align: right;\">\n",
       "      <th></th>\n",
       "      <th>OBS</th>\n",
       "      <th>HospID</th>\n",
       "      <th>AGE</th>\n",
       "      <th>M</th>\n",
       "      <th>Y</th>\n",
       "      <th>CK</th>\n",
       "      <th>H</th>\n",
       "      <th>PK</th>\n",
       "      <th>LD</th>\n",
       "      <th>Class</th>\n",
       "    </tr>\n",
       "  </thead>\n",
       "  <tbody>\n",
       "    <tr>\n",
       "      <th>0</th>\n",
       "      <td>1</td>\n",
       "      <td>1007</td>\n",
       "      <td>22</td>\n",
       "      <td>6</td>\n",
       "      <td>79</td>\n",
       "      <td>52.0</td>\n",
       "      <td>83.5</td>\n",
       "      <td>10.9</td>\n",
       "      <td>176.0</td>\n",
       "      <td>normal</td>\n",
       "    </tr>\n",
       "    <tr>\n",
       "      <th>1</th>\n",
       "      <td>1</td>\n",
       "      <td>786</td>\n",
       "      <td>32</td>\n",
       "      <td>8</td>\n",
       "      <td>78</td>\n",
       "      <td>20.0</td>\n",
       "      <td>77.0</td>\n",
       "      <td>11.0</td>\n",
       "      <td>200.0</td>\n",
       "      <td>normal</td>\n",
       "    </tr>\n",
       "    <tr>\n",
       "      <th>2</th>\n",
       "      <td>1</td>\n",
       "      <td>778</td>\n",
       "      <td>36</td>\n",
       "      <td>7</td>\n",
       "      <td>78</td>\n",
       "      <td>28.0</td>\n",
       "      <td>86.5</td>\n",
       "      <td>13.2</td>\n",
       "      <td>171.0</td>\n",
       "      <td>normal</td>\n",
       "    </tr>\n",
       "    <tr>\n",
       "      <th>3</th>\n",
       "      <td>1</td>\n",
       "      <td>1306</td>\n",
       "      <td>22</td>\n",
       "      <td>11</td>\n",
       "      <td>79</td>\n",
       "      <td>30.0</td>\n",
       "      <td>104.0</td>\n",
       "      <td>22.6</td>\n",
       "      <td>230.0</td>\n",
       "      <td>normal</td>\n",
       "    </tr>\n",
       "    <tr>\n",
       "      <th>4</th>\n",
       "      <td>1</td>\n",
       "      <td>895</td>\n",
       "      <td>23</td>\n",
       "      <td>1</td>\n",
       "      <td>78</td>\n",
       "      <td>40.0</td>\n",
       "      <td>83.0</td>\n",
       "      <td>15.2</td>\n",
       "      <td>205.0</td>\n",
       "      <td>normal</td>\n",
       "    </tr>\n",
       "  </tbody>\n",
       "</table>\n",
       "</div>"
      ],
      "text/plain": [
       "   OBS  HospID  AGE   M   Y    CK      H    PK     LD   Class\n",
       "0    1    1007   22   6  79  52.0   83.5  10.9  176.0  normal\n",
       "1    1     786   32   8  78  20.0   77.0  11.0  200.0  normal\n",
       "2    1     778   36   7  78  28.0   86.5  13.2  171.0  normal\n",
       "3    1    1306   22  11  79  30.0  104.0  22.6  230.0  normal\n",
       "4    1     895   23   1  78  40.0   83.0  15.2  205.0  normal"
      ]
     },
     "execution_count": 5,
     "metadata": {},
     "output_type": "execute_result"
    }
   ],
   "source": [
    "dystrophy.head()"
   ]
  },
  {
   "cell_type": "code",
   "execution_count": 6,
   "metadata": {},
   "outputs": [],
   "source": [
    "dystrophy = dystrophy.dropna()"
   ]
  },
  {
   "cell_type": "code",
   "execution_count": 7,
   "metadata": {},
   "outputs": [],
   "source": [
    "import seaborn as sns\n",
    "import matplotlib.pyplot as plt\n",
    "%matplotlib inline"
   ]
  },
  {
   "cell_type": "code",
   "execution_count": 14,
   "metadata": {},
   "outputs": [
    {
     "data": {
      "image/png": "[encoded data removed]",
      "text/plain": [
       "<Figure size 432x288 with 1 Axes>"
      ]
     },
     "metadata": {
      "needs_background": "light"
     },
     "output_type": "display_data"
    }
   ],
   "source": [
    "sns.boxplot(data = dystrophy, x = 'Class', y = 'LD')\n",
    "plt.ylabel('lactate dehydroginase (LD)', fontsize = 12)\n",
    "plt.xlabel('')\n",
    "plt.xticks(fontsize = 12)\n",
    "plt.title('Distribution of LD Values', fontsize = 12);\n",
    "\n",
    "plt.savefig('LD_box.png')"
   ]
  },
  {
   "cell_type": "code",
   "execution_count": 22,
   "metadata": {},
   "outputs": [],
   "source": [
    "dystrophy['carrier'] = (dystrophy.Class == 'carrier').astype('int')"
   ]
  },
  {
   "cell_type": "code",
   "execution_count": 23,
   "metadata": {},
   "outputs": [
    {
     "data": {
      "text/html": [
       "<div>\n",
       "<style scoped>\n",
       "    .dataframe tbody tr th:only-of-type {\n",
       "        vertical-align: middle;\n",
       "    }\n",
       "\n",
       "    .dataframe tbody tr th {\n",
       "        vertical-align: top;\n",
       "    }\n",
       "\n",
       "    .dataframe thead th {\n",
       "        text-align: right;\n",
       "    }\n",
       "</style>\n",
       "<table border=\"1\" class=\"dataframe\">\n",
       "  <thead>\n",
       "    <tr style=\"text-align: right;\">\n",
       "      <th></th>\n",
       "      <th>OBS</th>\n",
       "      <th>HospID</th>\n",
       "      <th>AGE</th>\n",
       "      <th>M</th>\n",
       "      <th>Y</th>\n",
       "      <th>CK</th>\n",
       "      <th>H</th>\n",
       "      <th>PK</th>\n",
       "      <th>LD</th>\n",
       "      <th>Class</th>\n",
       "      <th>carrier</th>\n",
       "    </tr>\n",
       "  </thead>\n",
       "  <tbody>\n",
       "    <tr>\n",
       "      <th>0</th>\n",
       "      <td>1</td>\n",
       "      <td>1007</td>\n",
       "      <td>22</td>\n",
       "      <td>6</td>\n",
       "      <td>79</td>\n",
       "      <td>52.0</td>\n",
       "      <td>83.5</td>\n",
       "      <td>10.9</td>\n",
       "      <td>176.0</td>\n",
       "      <td>normal</td>\n",
       "      <td>0</td>\n",
       "    </tr>\n",
       "    <tr>\n",
       "      <th>1</th>\n",
       "      <td>1</td>\n",
       "      <td>786</td>\n",
       "      <td>32</td>\n",
       "      <td>8</td>\n",
       "      <td>78</td>\n",
       "      <td>20.0</td>\n",
       "      <td>77.0</td>\n",
       "      <td>11.0</td>\n",
       "      <td>200.0</td>\n",
       "      <td>normal</td>\n",
       "      <td>0</td>\n",
       "    </tr>\n",
       "    <tr>\n",
       "      <th>2</th>\n",
       "      <td>1</td>\n",
       "      <td>778</td>\n",
       "      <td>36</td>\n",
       "      <td>7</td>\n",
       "      <td>78</td>\n",
       "      <td>28.0</td>\n",
       "      <td>86.5</td>\n",
       "      <td>13.2</td>\n",
       "      <td>171.0</td>\n",
       "      <td>normal</td>\n",
       "      <td>0</td>\n",
       "    </tr>\n",
       "    <tr>\n",
       "      <th>3</th>\n",
       "      <td>1</td>\n",
       "      <td>1306</td>\n",
       "      <td>22</td>\n",
       "      <td>11</td>\n",
       "      <td>79</td>\n",
       "      <td>30.0</td>\n",
       "      <td>104.0</td>\n",
       "      <td>22.6</td>\n",
       "      <td>230.0</td>\n",
       "      <td>normal</td>\n",
       "      <td>0</td>\n",
       "    </tr>\n",
       "    <tr>\n",
       "      <th>4</th>\n",
       "      <td>1</td>\n",
       "      <td>895</td>\n",
       "      <td>23</td>\n",
       "      <td>1</td>\n",
       "      <td>78</td>\n",
       "      <td>40.0</td>\n",
       "      <td>83.0</td>\n",
       "      <td>15.2</td>\n",
       "      <td>205.0</td>\n",
       "      <td>normal</td>\n",
       "      <td>0</td>\n",
       "    </tr>\n",
       "  </tbody>\n",
       "</table>\n",
       "</div>"
      ],
      "text/plain": [
       "   OBS  HospID  AGE   M   Y    CK      H    PK     LD   Class  carrier\n",
       "0    1    1007   22   6  79  52.0   83.5  10.9  176.0  normal        0\n",
       "1    1     786   32   8  78  20.0   77.0  11.0  200.0  normal        0\n",
       "2    1     778   36   7  78  28.0   86.5  13.2  171.0  normal        0\n",
       "3    1    1306   22  11  79  30.0  104.0  22.6  230.0  normal        0\n",
       "4    1     895   23   1  78  40.0   83.0  15.2  205.0  normal        0"
      ]
     },
     "execution_count": 23,
     "metadata": {},
     "output_type": "execute_result"
    }
   ],
   "source": [
    "dystrophy.head()"
   ]
  },
  {
   "cell_type": "code",
   "execution_count": 28,
   "metadata": {},
   "outputs": [
    {
     "data": {
      "image/png": "[encoded data removed]",
      "text/plain": [
       "<Figure size 432x288 with 1 Axes>"
      ]
     },
     "metadata": {
      "needs_background": "light"
     },
     "output_type": "display_data"
    }
   ],
   "source": [
    "dystrophy.plot(x = 'LD', y = 'carrier', kind = 'scatter')\n",
    "plt.title('Carrier vs. LD')\n",
    "plt.ylabel('carrier', fontsize = 12)\n",
    "plt.xlabel('LD', fontsize = 12);\n",
    "\n",
    "plt.savefig('scatter_01.png')"
   ]
  },
  {
   "cell_type": "code",
   "execution_count": 29,
   "metadata": {},
   "outputs": [],
   "source": [
    "from sklearn.linear_model import LinearRegression"
   ]
  },
  {
   "cell_type": "code",
   "execution_count": 36,
   "metadata": {},
   "outputs": [],
   "source": [
    "lin_reg = LinearRegression()"
   ]
  },
  {
   "cell_type": "code",
   "execution_count": 37,
   "metadata": {},
   "outputs": [],
   "source": [
    "X = dystrophy[['LD']]\n",
    "y = dystrophy.carrier"
   ]
  },
  {
   "cell_type": "code",
   "execution_count": 38,
   "metadata": {},
   "outputs": [
    {
     "data": {
      "text/plain": [
       "LinearRegression(copy_X=True, fit_intercept=True, n_jobs=None, normalize=False)"
      ]
     },
     "execution_count": 38,
     "metadata": {},
     "output_type": "execute_result"
    }
   ],
   "source": [
    "lin_reg.fit(X, y)"
   ]
  },
  {
   "cell_type": "code",
   "execution_count": 39,
   "metadata": {},
   "outputs": [
    {
     "data": {
      "text/plain": [
       "-0.4829035086626903"
      ]
     },
     "execution_count": 39,
     "metadata": {},
     "output_type": "execute_result"
    }
   ],
   "source": [
    "lin_reg.intercept_"
   ]
  },
  {
   "cell_type": "code",
   "execution_count": 40,
   "metadata": {},
   "outputs": [
    {
     "data": {
      "text/plain": [
       "array([0.00426057])"
      ]
     },
     "execution_count": 40,
     "metadata": {},
     "output_type": "execute_result"
    }
   ],
   "source": [
    "lin_reg.coef_"
   ]
  },
  {
   "cell_type": "code",
   "execution_count": 50,
   "metadata": {},
   "outputs": [
    {
     "data": {
      "image/png": "[encoded data removed]",
      "text/plain": [
       "<Figure size 576x360 with 1 Axes>"
      ]
     },
     "metadata": {
      "needs_background": "light"
     },
     "output_type": "display_data"
    }
   ],
   "source": [
    "m = lin_reg.coef_[0]\n",
    "b = lin_reg.intercept_\n",
    "\n",
    "x = np.linspace(start = X.min(), stop = X.max())\n",
    "y = m*x + b\n",
    "\n",
    "fig, ax = plt.subplots(figsize = (8,5))\n",
    "\n",
    "dystrophy.plot(x = 'LD', y = 'carrier', kind = 'scatter', ax = ax)\n",
    "plt.plot(x = x, y = y)\n",
    "plt.title('Carrier vs. LD')\n",
    "plt.ylabel('carrier', fontsize = 12)\n",
    "plt.xlabel('LD', fontsize = 12);"
   ]
  },
  {
   "cell_type": "code",
   "execution_count": 69,
   "metadata": {},
   "outputs": [
    {
     "data": {
      "image/png": "[encoded data removed]",
      "text/plain": [
       "<Figure size 576x360 with 1 Axes>"
      ]
     },
     "metadata": {
      "needs_background": "light"
     },
     "output_type": "display_data"
    }
   ],
   "source": [
    "m = lin_reg.coef_[0]\n",
    "b = lin_reg.intercept_\n",
    "\n",
    "x = np.linspace(start = X.min(), stop = X.max())\n",
    "y = m*x + b\n",
    "\n",
    "fig, ax = plt.subplots(figsize = (8,5))\n",
    "dystrophy.plot(x = 'LD', y = 'carrier', kind = 'scatter', ax = ax)\n",
    "plt.plot(x, y, color = 'red')\n",
    "\n",
    "plt.title('Carrier vs. LD')\n",
    "plt.ylabel('carrier', fontsize = 12)\n",
    "plt.xlabel('LD', fontsize = 12);\n",
    "\n",
    "plt.tight_layout()\n",
    "plt.savefig('scatter_02.png')"
   ]
  },
  {
   "cell_type": "code",
   "execution_count": 55,
   "metadata": {},
   "outputs": [
    {
     "data": {
      "image/png": "[encoded data removed]",
      "text/plain": [
       "<Figure size 576x360 with 1 Axes>"
      ]
     },
     "metadata": {
      "needs_background": "light"
     },
     "output_type": "display_data"
    }
   ],
   "source": [
    "')"
   ]
  },
  {
   "cell_type": "code",
   "execution_count": 58,
   "metadata": {},
   "outputs": [],
   "source": [
    "x = np.linspace(-5, 5, num = 250)\n",
    "y = 1 / (1 + np.exp(-x))"
   ]
  },
  {
   "cell_type": "code",
   "execution_count": 61,
   "metadata": {},
   "outputs": [
    {
     "data": {
      "image/png": "[encoded data removed]",
      "text/plain": [
       "<Figure size 432x288 with 1 Axes>"
      ]
     },
     "metadata": {
      "needs_background": "light"
     },
     "output_type": "display_data"
    }
   ],
   "source": [
    "plt.plot(x, y)\n",
    "plt.title('The Logistic Function');\n",
    "plt.savefig('logistic.png')"
   ]
  },
  {
   "cell_type": "code",
   "execution_count": 62,
   "metadata": {},
   "outputs": [],
   "source": [
    "from sklearn.linear_model import LogisticRegression"
   ]
  },
  {
   "cell_type": "code",
   "execution_count": 63,
   "metadata": {},
   "outputs": [],
   "source": [
    "lr = LogisticRegression()"
   ]
  },
  {
   "cell_type": "code",
   "execution_count": 71,
   "metadata": {},
   "outputs": [],
   "source": [
    "X = dystrophy[['LD']]\n",
    "y = dystrophy.carrier"
   ]
  },
  {
   "cell_type": "code",
   "execution_count": 72,
   "metadata": {},
   "outputs": [
    {
     "data": {
      "text/plain": [
       "LogisticRegression(C=1.0, class_weight=None, dual=False, fit_intercept=True,\n",
       "                   intercept_scaling=1, l1_ratio=None, max_iter=100,\n",
       "                   multi_class='auto', n_jobs=None, penalty='l2',\n",
       "                   random_state=None, solver='lbfgs', tol=0.0001, verbose=0,\n",
       "                   warm_start=False)"
      ]
     },
     "execution_count": 72,
     "metadata": {},
     "output_type": "execute_result"
    }
   ],
   "source": [
    "lr.fit(X, y)"
   ]
  },
  {
   "cell_type": "code",
   "execution_count": 73,
   "metadata": {},
   "outputs": [
    {
     "data": {
      "text/plain": [
       "array([0.02904558])"
      ]
     },
     "execution_count": 73,
     "metadata": {},
     "output_type": "execute_result"
    }
   ],
   "source": [
    "lr.coef_[0]"
   ]
  },
  {
   "cell_type": "code",
   "execution_count": 74,
   "metadata": {},
   "outputs": [
    {
     "data": {
      "text/plain": [
       "array([-6.40684315])"
      ]
     },
     "execution_count": 74,
     "metadata": {},
     "output_type": "execute_result"
    }
   ],
   "source": [
    "lr.intercept_"
   ]
  },
  {
   "cell_type": "code",
   "execution_count": 75,
   "metadata": {},
   "outputs": [
    {
     "data": {
      "image/png": "[encoded data removed]",
      "text/plain": [
       "<Figure size 576x360 with 1 Axes>"
      ]
     },
     "metadata": {
      "needs_background": "light"
     },
     "output_type": "display_data"
    }
   ],
   "source": [
    "m = lr.coef_[0]\n",
    "b = lr.intercept_\n",
    "\n",
    "x = np.linspace(start = X.min(), stop = X.max())\n",
    "y = 1 / (1 + np.exp(-(m*x + b)))\n",
    "\n",
    "fig, ax = plt.subplots(figsize = (8,5))\n",
    "dystrophy.plot(x = 'LD', y = 'carrier', kind = 'scatter', ax = ax)\n",
    "plt.plot(x, y, color = 'red')\n",
    "\n",
    "plt.title('Carrier vs. LD')\n",
    "plt.ylabel('carrier', fontsize = 12)\n",
    "plt.xlabel('LD', fontsize = 12);\n",
    "\n",
    "plt.tight_layout()\n",
    "plt.savefig('scatter_03.png')\n"
   ]
  },
  {
   "cell_type": "code",
   "execution_count": 41,
   "metadata": {},
   "outputs": [
    {
     "data": {
      "image/png": "[encoded data removed]",
      "text/plain": [
       "<Figure size 432x288 with 1 Axes>"
      ]
     },
     "metadata": {
      "needs_background": "light"
     },
     "output_type": "display_data"
    }
   ],
   "source": [
    "sns.scatterplot(x = np.log(dystrophy.CK), y = lr.predict_proba(X)[:,0], hue = y);"
   ]
  },
  {
   "cell_type": "code",
   "execution_count": 43,
   "metadata": {},
   "outputs": [
    {
     "data": {
      "text/plain": [
       "array([[0.33304343, 0.66695657]])"
      ]
     },
     "execution_count": 43,
     "metadata": {},
     "output_type": "execute_result"
    }
   ],
   "source": [
    "lr.predict_proba(np.array([58]).reshape(1,-1))"
   ]
  },
  {
   "cell_type": "code",
   "execution_count": 44,
   "metadata": {},
   "outputs": [
    {
     "data": {
      "text/plain": [
       "array([[0.99698034, 0.00301966]])"
      ]
     },
     "execution_count": 44,
     "metadata": {},
     "output_type": "execute_result"
    }
   ],
   "source": [
    "lr.predict_proba(np.array([200]).reshape(1,-1))"
   ]
  },
  {
   "cell_type": "code",
   "execution_count": 45,
   "metadata": {},
   "outputs": [
    {
     "data": {
      "text/html": [
       "<div>\n",
       "<style scoped>\n",
       "    .dataframe tbody tr th:only-of-type {\n",
       "        vertical-align: middle;\n",
       "    }\n",
       "\n",
       "    .dataframe tbody tr th {\n",
       "        vertical-align: top;\n",
       "    }\n",
       "\n",
       "    .dataframe thead th {\n",
       "        text-align: right;\n",
       "    }\n",
       "</style>\n",
       "<table border=\"1\" class=\"dataframe\">\n",
       "  <thead>\n",
       "    <tr style=\"text-align: right;\">\n",
       "      <th></th>\n",
       "      <th>OBS</th>\n",
       "      <th>HospID</th>\n",
       "      <th>AGE</th>\n",
       "      <th>M</th>\n",
       "      <th>Y</th>\n",
       "      <th>CK</th>\n",
       "      <th>H</th>\n",
       "      <th>PK</th>\n",
       "      <th>LD</th>\n",
       "      <th>Class</th>\n",
       "    </tr>\n",
       "  </thead>\n",
       "  <tbody>\n",
       "    <tr>\n",
       "      <th>0</th>\n",
       "      <td>1</td>\n",
       "      <td>1007</td>\n",
       "      <td>22</td>\n",
       "      <td>6</td>\n",
       "      <td>79</td>\n",
       "      <td>52.0</td>\n",
       "      <td>83.5</td>\n",
       "      <td>10.9</td>\n",
       "      <td>176.0</td>\n",
       "      <td>normal</td>\n",
       "    </tr>\n",
       "    <tr>\n",
       "      <th>1</th>\n",
       "      <td>1</td>\n",
       "      <td>786</td>\n",
       "      <td>32</td>\n",
       "      <td>8</td>\n",
       "      <td>78</td>\n",
       "      <td>20.0</td>\n",
       "      <td>77.0</td>\n",
       "      <td>11.0</td>\n",
       "      <td>200.0</td>\n",
       "      <td>normal</td>\n",
       "    </tr>\n",
       "    <tr>\n",
       "      <th>2</th>\n",
       "      <td>1</td>\n",
       "      <td>778</td>\n",
       "      <td>36</td>\n",
       "      <td>7</td>\n",
       "      <td>78</td>\n",
       "      <td>28.0</td>\n",
       "      <td>86.5</td>\n",
       "      <td>13.2</td>\n",
       "      <td>171.0</td>\n",
       "      <td>normal</td>\n",
       "    </tr>\n",
       "    <tr>\n",
       "      <th>3</th>\n",
       "      <td>1</td>\n",
       "      <td>1306</td>\n",
       "      <td>22</td>\n",
       "      <td>11</td>\n",
       "      <td>79</td>\n",
       "      <td>30.0</td>\n",
       "      <td>104.0</td>\n",
       "      <td>22.6</td>\n",
       "      <td>230.0</td>\n",
       "      <td>normal</td>\n",
       "    </tr>\n",
       "    <tr>\n",
       "      <th>4</th>\n",
       "      <td>1</td>\n",
       "      <td>895</td>\n",
       "      <td>23</td>\n",
       "      <td>1</td>\n",
       "      <td>78</td>\n",
       "      <td>40.0</td>\n",
       "      <td>83.0</td>\n",
       "      <td>15.2</td>\n",
       "      <td>205.0</td>\n",
       "      <td>normal</td>\n",
       "    </tr>\n",
       "  </tbody>\n",
       "</table>\n",
       "</div>"
      ],
      "text/plain": [
       "   OBS  HospID  AGE   M   Y    CK      H    PK     LD   Class\n",
       "0    1    1007   22   6  79  52.0   83.5  10.9  176.0  normal\n",
       "1    1     786   32   8  78  20.0   77.0  11.0  200.0  normal\n",
       "2    1     778   36   7  78  28.0   86.5  13.2  171.0  normal\n",
       "3    1    1306   22  11  79  30.0  104.0  22.6  230.0  normal\n",
       "4    1     895   23   1  78  40.0   83.0  15.2  205.0  normal"
      ]
     },
     "execution_count": 45,
     "metadata": {},
     "output_type": "execute_result"
    }
   ],
   "source": [
    "dystrophy.head()"
   ]
  },
  {
   "cell_type": "code",
   "execution_count": 49,
   "metadata": {},
   "outputs": [
    {
     "data": {
      "text/plain": [
       "Class\n",
       "carrier    23.932836\n",
       "normal     12.145522\n",
       "Name: PK, dtype: float64"
      ]
     },
     "execution_count": 49,
     "metadata": {},
     "output_type": "execute_result"
    }
   ],
   "source": [
    "dystrophy.groupby('Class').PK.mean()"
   ]
  },
  {
   "cell_type": "code",
   "execution_count": 50,
   "metadata": {},
   "outputs": [
    {
     "data": {
      "text/plain": [
       "<matplotlib.axes._subplots.AxesSubplot at 0x7f8ff23ecdd0>"
      ]
     },
     "execution_count": 50,
     "metadata": {},
     "output_type": "execute_result"
    },
    {
     "data": {
      "image/png": "[encoded data removed]",
      "text/plain": [
       "<Figure size 432x288 with 1 Axes>"
      ]
     },
     "metadata": {
      "needs_background": "light"
     },
     "output_type": "display_data"
    }
   ],
   "source": [
    "sns.boxplot(data = dystrophy, x = 'Class', y = 'PK')"
   ]
  },
  {
   "cell_type": "code",
   "execution_count": 52,
   "metadata": {},
   "outputs": [
    {
     "data": {
      "image/png": "[encoded data removed]",
      "text/plain": [
       "<Figure size 432x288 with 1 Axes>"
      ]
     },
     "metadata": {
      "needs_background": "light"
     },
     "output_type": "display_data"
    }
   ],
   "source": [
    "sns.boxplot(data = dystrophy, x = 'Class', y = 'LD');"
   ]
  },
  {
   "cell_type": "code",
   "execution_count": 57,
   "metadata": {},
   "outputs": [],
   "source": [
    "dystrophy = dystrophy.dropna()"
   ]
  },
  {
   "cell_type": "code",
   "execution_count": 60,
   "metadata": {},
   "outputs": [],
   "source": [
    "X = dystrophy[['LD']]\n",
    "y = dystrophy.Class"
   ]
  },
  {
   "cell_type": "code",
   "execution_count": 61,
   "metadata": {},
   "outputs": [
    {
     "data": {
      "text/plain": [
       "LogisticRegression(C=1.0, class_weight=None, dual=False, fit_intercept=True,\n",
       "                   intercept_scaling=1, l1_ratio=None, max_iter=100,\n",
       "                   multi_class='auto', n_jobs=None, penalty='l2',\n",
       "                   random_state=None, solver='lbfgs', tol=0.0001, verbose=0,\n",
       "                   warm_start=False)"
      ]
     },
     "execution_count": 61,
     "metadata": {},
     "output_type": "execute_result"
    }
   ],
   "source": [
    "lr.fit(X, y)"
   ]
  },
  {
   "cell_type": "code",
   "execution_count": 62,
   "metadata": {},
   "outputs": [
    {
     "data": {
      "text/plain": [
       "array([-0.02904558])"
      ]
     },
     "execution_count": 62,
     "metadata": {},
     "output_type": "execute_result"
    }
   ],
   "source": [
    "lr.coef_[0]"
   ]
  },
  {
   "cell_type": "code",
   "execution_count": 63,
   "metadata": {},
   "outputs": [
    {
     "data": {
      "text/plain": [
       "(194, 10)"
      ]
     },
     "execution_count": 63,
     "metadata": {},
     "output_type": "execute_result"
    }
   ],
   "source": [
    "dystrophy.shape"
   ]
  },
  {
   "cell_type": "code",
   "execution_count": null,
   "metadata": {},
   "outputs": [],
   "source": []
  }
 ],
 "metadata": {
  "kernelspec": {
   "display_name": "Python 3",
   "language": "python",
   "name": "python3"
  },
  "language_info": {
   "codemirror_mode": {
    "name": "ipython",
    "version": 3
   },
   "file_extension": ".py",
   "mimetype": "text/x-python",
   "name": "python",
   "nbconvert_exporter": "python",
   "pygments_lexer": "ipython3",
   "version": "3.7.4"
  }
 },
 "nbformat": 4,
 "nbformat_minor": 2
}
