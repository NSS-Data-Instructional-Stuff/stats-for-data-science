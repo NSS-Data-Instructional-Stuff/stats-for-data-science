{
 "cells": [
  {
   "cell_type": "markdown",
   "metadata": {},
   "source": [
    "Duchenne Muscular Dystrophy (DMD) is a genetically transmitted disease, passed from a mother to her children. Affected female offspring usually suffer no apparent symptoms, male offspring with the disease die at young age. Although female carriers have no physical symptoms they tend to exhibit elevated levels of certain serum enzymes or proteins. \n",
    "The dystrophy dataset contains 209 observations of 75 female DMD carriers and 134 female DMD non-carrier. It includes 6 variables describing age of the female and the serum parameters serum marker creatine kinase (CK), serum marker hemopexin (H), serum marker pyruvate kinase (PK) and serum marker lactate dehydroginase (LD). The serum markers CK and H may be measured rather inexpensive from frozen serum, PK and LD requires fresh serum.\n",
    "\n",
    "The first two serum markers, creatine kinase and hemopexin (ck,h), are inexpensive to obtain, while the last two, pyruvate kinase and lactate dehydroginase (pk,ld), are more expensive. It is of interest to measure how much pk and ld add toward predicting the carrier status. The importance of age and sample date is also of interest. Percy noted that the water supply for the lab changed during the study."
   ]
  },
  {
   "cell_type": "code",
   "execution_count": 1,
   "metadata": {},
   "outputs": [],
   "source": [
    "import pandas as pd\n",
    "import numpy as np"
   ]
  },
  {
   "cell_type": "code",
   "execution_count": 2,
   "metadata": {},
   "outputs": [],
   "source": [
    "dystrophy = pd.read_csv('dystrophy.csv')"
   ]
  },
  {
   "cell_type": "code",
   "execution_count": 3,
   "metadata": {},
   "outputs": [
    {
     "data": {
      "text/html": [
       "<div>\n",
       "<style scoped>\n",
       "    .dataframe tbody tr th:only-of-type {\n",
       "        vertical-align: middle;\n",
       "    }\n",
       "\n",
       "    .dataframe tbody tr th {\n",
       "        vertical-align: top;\n",
       "    }\n",
       "\n",
       "    .dataframe thead th {\n",
       "        text-align: right;\n",
       "    }\n",
       "</style>\n",
       "<table border=\"1\" class=\"dataframe\">\n",
       "  <thead>\n",
       "    <tr style=\"text-align: right;\">\n",
       "      <th></th>\n",
       "      <th>OBS</th>\n",
       "      <th>HospID</th>\n",
       "      <th>AGE</th>\n",
       "      <th>M</th>\n",
       "      <th>Y</th>\n",
       "      <th>CK</th>\n",
       "      <th>H</th>\n",
       "      <th>PK</th>\n",
       "      <th>LD</th>\n",
       "      <th>Class</th>\n",
       "    </tr>\n",
       "  </thead>\n",
       "  <tbody>\n",
       "    <tr>\n",
       "      <th>0</th>\n",
       "      <td>1</td>\n",
       "      <td>1007</td>\n",
       "      <td>22</td>\n",
       "      <td>6</td>\n",
       "      <td>79</td>\n",
       "      <td>52.0</td>\n",
       "      <td>83.5</td>\n",
       "      <td>10.9</td>\n",
       "      <td>176.0</td>\n",
       "      <td>normal</td>\n",
       "    </tr>\n",
       "    <tr>\n",
       "      <th>1</th>\n",
       "      <td>1</td>\n",
       "      <td>786</td>\n",
       "      <td>32</td>\n",
       "      <td>8</td>\n",
       "      <td>78</td>\n",
       "      <td>20.0</td>\n",
       "      <td>77.0</td>\n",
       "      <td>11.0</td>\n",
       "      <td>200.0</td>\n",
       "      <td>normal</td>\n",
       "    </tr>\n",
       "    <tr>\n",
       "      <th>2</th>\n",
       "      <td>1</td>\n",
       "      <td>778</td>\n",
       "      <td>36</td>\n",
       "      <td>7</td>\n",
       "      <td>78</td>\n",
       "      <td>28.0</td>\n",
       "      <td>86.5</td>\n",
       "      <td>13.2</td>\n",
       "      <td>171.0</td>\n",
       "      <td>normal</td>\n",
       "    </tr>\n",
       "    <tr>\n",
       "      <th>3</th>\n",
       "      <td>1</td>\n",
       "      <td>1306</td>\n",
       "      <td>22</td>\n",
       "      <td>11</td>\n",
       "      <td>79</td>\n",
       "      <td>30.0</td>\n",
       "      <td>104.0</td>\n",
       "      <td>22.6</td>\n",
       "      <td>230.0</td>\n",
       "      <td>normal</td>\n",
       "    </tr>\n",
       "    <tr>\n",
       "      <th>4</th>\n",
       "      <td>1</td>\n",
       "      <td>895</td>\n",
       "      <td>23</td>\n",
       "      <td>1</td>\n",
       "      <td>78</td>\n",
       "      <td>40.0</td>\n",
       "      <td>83.0</td>\n",
       "      <td>15.2</td>\n",
       "      <td>205.0</td>\n",
       "      <td>normal</td>\n",
       "    </tr>\n",
       "  </tbody>\n",
       "</table>\n",
       "</div>"
      ],
      "text/plain": [
       "   OBS  HospID  AGE   M   Y    CK      H    PK     LD   Class\n",
       "0    1    1007   22   6  79  52.0   83.5  10.9  176.0  normal\n",
       "1    1     786   32   8  78  20.0   77.0  11.0  200.0  normal\n",
       "2    1     778   36   7  78  28.0   86.5  13.2  171.0  normal\n",
       "3    1    1306   22  11  79  30.0  104.0  22.6  230.0  normal\n",
       "4    1     895   23   1  78  40.0   83.0  15.2  205.0  normal"
      ]
     },
     "execution_count": 3,
     "metadata": {},
     "output_type": "execute_result"
    }
   ],
   "source": [
    "dystrophy.head()"
   ]
  },
  {
   "cell_type": "code",
   "execution_count": 4,
   "metadata": {},
   "outputs": [],
   "source": [
    "dystrophy = dystrophy.dropna()"
   ]
  },
  {
   "cell_type": "code",
   "execution_count": 5,
   "metadata": {},
   "outputs": [],
   "source": [
    "import seaborn as sns\n",
    "import matplotlib.pyplot as plt\n",
    "%matplotlib inline"
   ]
  },
  {
   "cell_type": "code",
   "execution_count": 6,
   "metadata": {},
   "outputs": [
    {
     "data": {
      "image/png": "[encoded data removed]",
      "text/plain": [
       "<Figure size 432x288 with 1 Axes>"
      ]
     },
     "metadata": {
      "needs_background": "light"
     },
     "output_type": "display_data"
    }
   ],
   "source": [
    "sns.boxplot(data = dystrophy, x = 'Class', y = 'LD')\n",
    "plt.ylabel('lactate dehydroginase (LD)', fontsize = 12)\n",
    "plt.xlabel('')\n",
    "plt.xticks(fontsize = 12)\n",
    "plt.title('Distribution of LD Values', fontsize = 12);\n",
    "\n",
    "plt.savefig('LD_box.png')"
   ]
  },
  {
   "cell_type": "code",
   "execution_count": 7,
   "metadata": {},
   "outputs": [],
   "source": [
    "dystrophy['carrier'] = (dystrophy.Class == 'carrier').astype('int')"
   ]
  },
  {
   "cell_type": "code",
   "execution_count": 8,
   "metadata": {},
   "outputs": [
    {
     "data": {
      "text/html": [
       "<div>\n",
       "<style scoped>\n",
       "    .dataframe tbody tr th:only-of-type {\n",
       "        vertical-align: middle;\n",
       "    }\n",
       "\n",
       "    .dataframe tbody tr th {\n",
       "        vertical-align: top;\n",
       "    }\n",
       "\n",
       "    .dataframe thead th {\n",
       "        text-align: right;\n",
       "    }\n",
       "</style>\n",
       "<table border=\"1\" class=\"dataframe\">\n",
       "  <thead>\n",
       "    <tr style=\"text-align: right;\">\n",
       "      <th></th>\n",
       "      <th>OBS</th>\n",
       "      <th>HospID</th>\n",
       "      <th>AGE</th>\n",
       "      <th>M</th>\n",
       "      <th>Y</th>\n",
       "      <th>CK</th>\n",
       "      <th>H</th>\n",
       "      <th>PK</th>\n",
       "      <th>LD</th>\n",
       "      <th>Class</th>\n",
       "      <th>carrier</th>\n",
       "    </tr>\n",
       "  </thead>\n",
       "  <tbody>\n",
       "    <tr>\n",
       "      <th>0</th>\n",
       "      <td>1</td>\n",
       "      <td>1007</td>\n",
       "      <td>22</td>\n",
       "      <td>6</td>\n",
       "      <td>79</td>\n",
       "      <td>52.0</td>\n",
       "      <td>83.5</td>\n",
       "      <td>10.9</td>\n",
       "      <td>176.0</td>\n",
       "      <td>normal</td>\n",
       "      <td>0</td>\n",
       "    </tr>\n",
       "    <tr>\n",
       "      <th>1</th>\n",
       "      <td>1</td>\n",
       "      <td>786</td>\n",
       "      <td>32</td>\n",
       "      <td>8</td>\n",
       "      <td>78</td>\n",
       "      <td>20.0</td>\n",
       "      <td>77.0</td>\n",
       "      <td>11.0</td>\n",
       "      <td>200.0</td>\n",
       "      <td>normal</td>\n",
       "      <td>0</td>\n",
       "    </tr>\n",
       "    <tr>\n",
       "      <th>2</th>\n",
       "      <td>1</td>\n",
       "      <td>778</td>\n",
       "      <td>36</td>\n",
       "      <td>7</td>\n",
       "      <td>78</td>\n",
       "      <td>28.0</td>\n",
       "      <td>86.5</td>\n",
       "      <td>13.2</td>\n",
       "      <td>171.0</td>\n",
       "      <td>normal</td>\n",
       "      <td>0</td>\n",
       "    </tr>\n",
       "    <tr>\n",
       "      <th>3</th>\n",
       "      <td>1</td>\n",
       "      <td>1306</td>\n",
       "      <td>22</td>\n",
       "      <td>11</td>\n",
       "      <td>79</td>\n",
       "      <td>30.0</td>\n",
       "      <td>104.0</td>\n",
       "      <td>22.6</td>\n",
       "      <td>230.0</td>\n",
       "      <td>normal</td>\n",
       "      <td>0</td>\n",
       "    </tr>\n",
       "    <tr>\n",
       "      <th>4</th>\n",
       "      <td>1</td>\n",
       "      <td>895</td>\n",
       "      <td>23</td>\n",
       "      <td>1</td>\n",
       "      <td>78</td>\n",
       "      <td>40.0</td>\n",
       "      <td>83.0</td>\n",
       "      <td>15.2</td>\n",
       "      <td>205.0</td>\n",
       "      <td>normal</td>\n",
       "      <td>0</td>\n",
       "    </tr>\n",
       "  </tbody>\n",
       "</table>\n",
       "</div>"
      ],
      "text/plain": [
       "   OBS  HospID  AGE   M   Y    CK      H    PK     LD   Class  carrier\n",
       "0    1    1007   22   6  79  52.0   83.5  10.9  176.0  normal        0\n",
       "1    1     786   32   8  78  20.0   77.0  11.0  200.0  normal        0\n",
       "2    1     778   36   7  78  28.0   86.5  13.2  171.0  normal        0\n",
       "3    1    1306   22  11  79  30.0  104.0  22.6  230.0  normal        0\n",
       "4    1     895   23   1  78  40.0   83.0  15.2  205.0  normal        0"
      ]
     },
     "execution_count": 8,
     "metadata": {},
     "output_type": "execute_result"
    }
   ],
   "source": [
    "dystrophy.head()"
   ]
  },
  {
   "cell_type": "code",
   "execution_count": 9,
   "metadata": {},
   "outputs": [
    {
     "data": {
      "image/png": "[encoded data removed]",
      "text/plain": [
       "<Figure size 432x288 with 1 Axes>"
      ]
     },
     "metadata": {
      "needs_background": "light"
     },
     "output_type": "display_data"
    }
   ],
   "source": [
    "dystrophy.plot(x = 'LD', y = 'carrier', kind = 'scatter', edgecolor = 'black', s = 50)\n",
    "plt.title('Carrier vs. LD')\n",
    "plt.ylabel('carrier', fontsize = 12)\n",
    "plt.xlabel('LD', fontsize = 12);\n",
    "\n",
    "plt.savefig('scatter_01.png')"
   ]
  },
  {
   "cell_type": "code",
   "execution_count": 10,
   "metadata": {},
   "outputs": [],
   "source": [
    "from sklearn.linear_model import LinearRegression"
   ]
  },
  {
   "cell_type": "code",
   "execution_count": 11,
   "metadata": {},
   "outputs": [],
   "source": [
    "lin_reg = LinearRegression()"
   ]
  },
  {
   "cell_type": "code",
   "execution_count": 12,
   "metadata": {},
   "outputs": [],
   "source": [
    "X = dystrophy[['LD']]\n",
    "y = dystrophy.carrier"
   ]
  },
  {
   "cell_type": "code",
   "execution_count": 13,
   "metadata": {},
   "outputs": [],
   "source": [
    "from sklearn.model_selection import train_test_split"
   ]
  },
  {
   "cell_type": "code",
   "execution_count": 14,
   "metadata": {},
   "outputs": [],
   "source": [
    "X_train, X_test, y_train, y_test = train_test_split(X, y, stratify = y)"
   ]
  },
  {
   "cell_type": "code",
   "execution_count": 15,
   "metadata": {},
   "outputs": [
    {
     "data": {
      "text/html": [
       "<div>\n",
       "<style scoped>\n",
       "    .dataframe tbody tr th:only-of-type {\n",
       "        vertical-align: middle;\n",
       "    }\n",
       "\n",
       "    .dataframe tbody tr th {\n",
       "        vertical-align: top;\n",
       "    }\n",
       "\n",
       "    .dataframe thead th {\n",
       "        text-align: right;\n",
       "    }\n",
       "</style>\n",
       "<table border=\"1\" class=\"dataframe\">\n",
       "  <thead>\n",
       "    <tr style=\"text-align: right;\">\n",
       "      <th></th>\n",
       "      <th>OBS</th>\n",
       "      <th>HospID</th>\n",
       "      <th>AGE</th>\n",
       "      <th>M</th>\n",
       "      <th>Y</th>\n",
       "      <th>CK</th>\n",
       "      <th>H</th>\n",
       "      <th>PK</th>\n",
       "      <th>LD</th>\n",
       "      <th>Class</th>\n",
       "      <th>carrier</th>\n",
       "    </tr>\n",
       "  </thead>\n",
       "  <tbody>\n",
       "    <tr>\n",
       "      <th>0</th>\n",
       "      <td>1</td>\n",
       "      <td>1007</td>\n",
       "      <td>22</td>\n",
       "      <td>6</td>\n",
       "      <td>79</td>\n",
       "      <td>52.0</td>\n",
       "      <td>83.5</td>\n",
       "      <td>10.9</td>\n",
       "      <td>176.0</td>\n",
       "      <td>normal</td>\n",
       "      <td>0</td>\n",
       "    </tr>\n",
       "    <tr>\n",
       "      <th>1</th>\n",
       "      <td>1</td>\n",
       "      <td>786</td>\n",
       "      <td>32</td>\n",
       "      <td>8</td>\n",
       "      <td>78</td>\n",
       "      <td>20.0</td>\n",
       "      <td>77.0</td>\n",
       "      <td>11.0</td>\n",
       "      <td>200.0</td>\n",
       "      <td>normal</td>\n",
       "      <td>0</td>\n",
       "    </tr>\n",
       "    <tr>\n",
       "      <th>2</th>\n",
       "      <td>1</td>\n",
       "      <td>778</td>\n",
       "      <td>36</td>\n",
       "      <td>7</td>\n",
       "      <td>78</td>\n",
       "      <td>28.0</td>\n",
       "      <td>86.5</td>\n",
       "      <td>13.2</td>\n",
       "      <td>171.0</td>\n",
       "      <td>normal</td>\n",
       "      <td>0</td>\n",
       "    </tr>\n",
       "    <tr>\n",
       "      <th>3</th>\n",
       "      <td>1</td>\n",
       "      <td>1306</td>\n",
       "      <td>22</td>\n",
       "      <td>11</td>\n",
       "      <td>79</td>\n",
       "      <td>30.0</td>\n",
       "      <td>104.0</td>\n",
       "      <td>22.6</td>\n",
       "      <td>230.0</td>\n",
       "      <td>normal</td>\n",
       "      <td>0</td>\n",
       "    </tr>\n",
       "    <tr>\n",
       "      <th>4</th>\n",
       "      <td>1</td>\n",
       "      <td>895</td>\n",
       "      <td>23</td>\n",
       "      <td>1</td>\n",
       "      <td>78</td>\n",
       "      <td>40.0</td>\n",
       "      <td>83.0</td>\n",
       "      <td>15.2</td>\n",
       "      <td>205.0</td>\n",
       "      <td>normal</td>\n",
       "      <td>0</td>\n",
       "    </tr>\n",
       "  </tbody>\n",
       "</table>\n",
       "</div>"
      ],
      "text/plain": [
       "   OBS  HospID  AGE   M   Y    CK      H    PK     LD   Class  carrier\n",
       "0    1    1007   22   6  79  52.0   83.5  10.9  176.0  normal        0\n",
       "1    1     786   32   8  78  20.0   77.0  11.0  200.0  normal        0\n",
       "2    1     778   36   7  78  28.0   86.5  13.2  171.0  normal        0\n",
       "3    1    1306   22  11  79  30.0  104.0  22.6  230.0  normal        0\n",
       "4    1     895   23   1  78  40.0   83.0  15.2  205.0  normal        0"
      ]
     },
     "execution_count": 15,
     "metadata": {},
     "output_type": "execute_result"
    }
   ],
   "source": [
    "dystrophy.head()"
   ]
  },
  {
   "cell_type": "code",
   "execution_count": 16,
   "metadata": {},
   "outputs": [
    {
     "data": {
      "text/plain": [
       "LinearRegression(copy_X=True, fit_intercept=True, n_jobs=None, normalize=False)"
      ]
     },
     "execution_count": 16,
     "metadata": {},
     "output_type": "execute_result"
    }
   ],
   "source": [
    "lin_reg.fit(X_train, y_train)"
   ]
  },
  {
   "cell_type": "code",
   "execution_count": 17,
   "metadata": {},
   "outputs": [
    {
     "data": {
      "text/plain": [
       "-0.4552956473427786"
      ]
     },
     "execution_count": 17,
     "metadata": {},
     "output_type": "execute_result"
    }
   ],
   "source": [
    "lin_reg.intercept_"
   ]
  },
  {
   "cell_type": "code",
   "execution_count": 18,
   "metadata": {},
   "outputs": [
    {
     "data": {
      "text/plain": [
       "array([0.00415135])"
      ]
     },
     "execution_count": 18,
     "metadata": {},
     "output_type": "execute_result"
    }
   ],
   "source": [
    "lin_reg.coef_"
   ]
  },
  {
   "cell_type": "code",
   "execution_count": 19,
   "metadata": {},
   "outputs": [
    {
     "data": {
      "image/png": "[encoded data removed]",
      "text/plain": [
       "<Figure size 576x360 with 1 Axes>"
      ]
     },
     "metadata": {
      "needs_background": "light"
     },
     "output_type": "display_data"
    }
   ],
   "source": [
    "m = lin_reg.coef_[0]\n",
    "b = lin_reg.intercept_\n",
    "\n",
    "alpha = 0.75\n",
    "\n",
    "x = np.linspace(start = X.min(), stop = X.max())\n",
    "y = m*x + b\n",
    "\n",
    "fig, ax = plt.subplots(figsize = (8,5))\n",
    "\n",
    "dystrophy.plot(x = 'LD', y = 'carrier', kind = 'scatter', ax = ax, alpha = alpha, edgecolor = 'black', s = 50)\n",
    "plt.plot(x = x, y = y)\n",
    "plt.title('Carrier vs. LD')\n",
    "plt.ylabel('carrier', fontsize = 12)\n",
    "plt.xlabel('LD', fontsize = 12);"
   ]
  },
  {
   "cell_type": "code",
   "execution_count": 20,
   "metadata": {},
   "outputs": [
    {
     "data": {
      "image/png": "[encoded data removed]",
      "text/plain": [
       "<Figure size 576x360 with 1 Axes>"
      ]
     },
     "metadata": {
      "needs_background": "light"
     },
     "output_type": "display_data"
    }
   ],
   "source": [
    "m = lin_reg.coef_[0]\n",
    "b = lin_reg.intercept_\n",
    "\n",
    "x = np.linspace(start = X.min(), stop = X.max())\n",
    "y = m*x + b\n",
    "\n",
    "alpha = 0.75\n",
    "\n",
    "fig, ax = plt.subplots(figsize = (8,5))\n",
    "dystrophy.plot(x = 'LD', y = 'carrier', kind = 'scatter', ax = ax, edgecolor = 'black', s = 50, alpha = alpha)\n",
    "plt.plot(x, y, color = 'red')\n",
    "\n",
    "plt.title('Carrier vs. LD')\n",
    "plt.ylabel('carrier', fontsize = 12)\n",
    "plt.xlabel('LD', fontsize = 12);\n",
    "\n",
    "plt.tight_layout()\n",
    "plt.savefig('scatter_02.png')"
   ]
  },
  {
   "cell_type": "code",
   "execution_count": 21,
   "metadata": {},
   "outputs": [],
   "source": [
    "x = np.linspace(-5, 5, num = 250)\n",
    "y = 1 / (1 + np.exp(-x))"
   ]
  },
  {
   "cell_type": "code",
   "execution_count": 22,
   "metadata": {},
   "outputs": [
    {
     "data": {
      "image/png": "[encoded data removed]",
      "text/plain": [
       "<Figure size 432x288 with 1 Axes>"
      ]
     },
     "metadata": {
      "needs_background": "light"
     },
     "output_type": "display_data"
    }
   ],
   "source": [
    "plt.plot(x, y)\n",
    "plt.title('The Logistic Function');\n",
    "plt.savefig('logistic.png')"
   ]
  },
  {
   "cell_type": "code",
   "execution_count": 23,
   "metadata": {},
   "outputs": [],
   "source": [
    "from sklearn.linear_model import LogisticRegression\n",
    "from sklearn.preprocessing import LabelEncoder"
   ]
  },
  {
   "cell_type": "code",
   "execution_count": 24,
   "metadata": {},
   "outputs": [],
   "source": [
    "lr = LogisticRegression()"
   ]
  },
  {
   "cell_type": "code",
   "execution_count": 25,
   "metadata": {},
   "outputs": [],
   "source": [
    "le = LabelEncoder()\n",
    "dystrophy['label'] = le.fit_transform(dystrophy.Class)"
   ]
  },
  {
   "cell_type": "code",
   "execution_count": 26,
   "metadata": {},
   "outputs": [
    {
     "data": {
      "text/plain": [
       "LogisticRegression(C=1.0, class_weight=None, dual=False, fit_intercept=True,\n",
       "                   intercept_scaling=1, l1_ratio=None, max_iter=100,\n",
       "                   multi_class='auto', n_jobs=None, penalty='l2',\n",
       "                   random_state=None, solver='lbfgs', tol=0.0001, verbose=0,\n",
       "                   warm_start=False)"
      ]
     },
     "execution_count": 26,
     "metadata": {},
     "output_type": "execute_result"
    }
   ],
   "source": [
    "lr.fit(X_train, y_train)"
   ]
  },
  {
   "cell_type": "code",
   "execution_count": 27,
   "metadata": {},
   "outputs": [
    {
     "data": {
      "text/plain": [
       "array([0.02791382])"
      ]
     },
     "execution_count": 27,
     "metadata": {},
     "output_type": "execute_result"
    }
   ],
   "source": [
    "lr.coef_[0]"
   ]
  },
  {
   "cell_type": "code",
   "execution_count": 28,
   "metadata": {},
   "outputs": [
    {
     "data": {
      "text/plain": [
       "array([-6.14919885])"
      ]
     },
     "execution_count": 28,
     "metadata": {},
     "output_type": "execute_result"
    }
   ],
   "source": [
    "lr.intercept_"
   ]
  },
  {
   "cell_type": "code",
   "execution_count": 29,
   "metadata": {},
   "outputs": [
    {
     "data": {
      "image/png": "[encoded data removed]",
      "text/plain": [
       "<Figure size 576x360 with 1 Axes>"
      ]
     },
     "metadata": {
      "needs_background": "light"
     },
     "output_type": "display_data"
    }
   ],
   "source": [
    "m = lr.coef_[0]\n",
    "b = lr.intercept_\n",
    "\n",
    "alpha = 0.75\n",
    "\n",
    "x_log = np.linspace(start = X.LD.min(), stop = X.LD.max())\n",
    "y_log = 1 / (1 + np.exp(-(m*x_log + b)))\n",
    "\n",
    "df = dystrophy.loc[X_test.index]\n",
    "\n",
    "fig, ax = plt.subplots(figsize = (8,5))\n",
    "df.plot(x = 'LD', y = 'carrier', kind = 'scatter', ax = ax, alpha = alpha, s = 50, edgecolor = 'black')\n",
    "plt.plot(x_log, y_log, color = 'red')\n",
    "\n",
    "plt.title('Carrier vs. LD')\n",
    "plt.ylabel('carrier', fontsize = 12)\n",
    "plt.xlabel('LD', fontsize = 12);\n",
    "\n",
    "plt.tight_layout()\n",
    "plt.savefig('scatter_03.png')\n"
   ]
  },
  {
   "cell_type": "code",
   "execution_count": 30,
   "metadata": {},
   "outputs": [],
   "source": [
    "y_pred = lr.predict(X_test)"
   ]
  },
  {
   "cell_type": "code",
   "execution_count": 31,
   "metadata": {},
   "outputs": [
    {
     "data": {
      "image/png": "[encoded data removed]",
      "text/plain": [
       "<Figure size 576x360 with 1 Axes>"
      ]
     },
     "metadata": {
      "needs_background": "light"
     },
     "output_type": "display_data"
    }
   ],
   "source": [
    "m = lr.coef_[0]\n",
    "b = lr.intercept_\n",
    "\n",
    "x_log = np.linspace(start = X.LD.min(), stop = X.LD.max())\n",
    "y_log = 1 / (1 + np.exp(-(m*x_log + b)))\n",
    "\n",
    "alpha = 0.75\n",
    "\n",
    "fig, ax = plt.subplots(figsize = (8,5))\n",
    "\n",
    "df = dystrophy.loc[X_test.index]\n",
    "\n",
    "df[y_pred == df.carrier].plot(x = 'LD', y = 'carrier', kind = 'scatter', ax = ax, color = 'blue', \n",
    "               edgecolor = 'black', s= 50, label = 'correct prediction', alpha = alpha) \n",
    "df[y_pred != df.carrier].plot(x = 'LD', y = 'carrier', kind = 'scatter', ax = ax, color = 'red', \n",
    "               edgecolor = 'black', s= 50, label = 'incorrect prediction', alpha = alpha) \n",
    "plt.plot(x_log, y_log, color = 'red', label = 'predicted probability')\n",
    "\n",
    "plt.legend(loc = 'right')\n",
    "\n",
    "plt.title('Carrier vs. LD')\n",
    "plt.ylabel('carrier', fontsize = 12)\n",
    "plt.xlabel('LD', fontsize = 12);\n",
    "\n",
    "plt.tight_layout()\n",
    "plt.savefig('scatter_04.png')\n"
   ]
  },
  {
   "cell_type": "code",
   "execution_count": 32,
   "metadata": {},
   "outputs": [],
   "source": [
    "import numpy as np\n",
    "import pandas as pd\n",
    "import matplotlib.pyplot as plt\n",
    "import seaborn as sns\n",
    "from sklearn.metrics import confusion_matrix\n",
    "\n",
    "def cm_analysis(y_true, y_pred, labels, filename = None, ymap=None, figsize=(10,10)):\n",
    "    \"\"\"\n",
    "    Generate matrix plot of confusion matrix with pretty annotations.\n",
    "    The plot image is saved to disk.\n",
    "    args: \n",
    "      y_true:    true label of the data, with shape (nsamples,)\n",
    "      y_pred:    prediction of the data, with shape (nsamples,)\n",
    "      filename:  filename of figure file to save\n",
    "      labels:    string array, name the order of class labels in the confusion matrix.\n",
    "                 use `clf.classes_` if using scikit-learn models.\n",
    "                 with shape (nclass,).\n",
    "      ymap:      dict: any -> string, length == nclass.\n",
    "                 if not None, map the labels & ys to more understandable strings.\n",
    "                 Caution: original y_true, y_pred and labels must align.\n",
    "      figsize:   the size of the figure plotted.\n",
    "    \"\"\"\n",
    "    if ymap is not None:\n",
    "        y_pred = [ymap[yi] for yi in y_pred]\n",
    "        y_true = [ymap[yi] for yi in y_true]\n",
    "        labels = [ymap[yi] for yi in labels]\n",
    "    cm = confusion_matrix(y_true, y_pred, labels=labels)\n",
    "    cm_sum = np.sum(cm, axis=1, keepdims=True)\n",
    "    cm_perc = cm / cm_sum.astype(float) * 100\n",
    "    annot = np.empty_like(cm).astype(object)\n",
    "    annot_kws = {'fontsize': 8, 'fontweight' : 'bold'}\n",
    "    nrows, ncols = cm.shape\n",
    "    for i in range(nrows):\n",
    "        for j in range(ncols):\n",
    "            c = cm[i, j]\n",
    "            p = cm_perc[i, j]\n",
    "            if i == j == 0:\n",
    "                s = cm_sum[i]\n",
    "                annot[i, j] = 'True Negatives:\\n %.1f%%\\n%d/%d' % (p, c, s) \n",
    "            elif i == j == 1:\n",
    "                s = cm_sum[i]\n",
    "                annot[i, j] = 'True Positives:\\n %.1f%%\\n%d/%d' % (p, c, s)\n",
    "            elif c == 0:\n",
    "                annot[i, j] = ''\n",
    "            elif i == 0 and j == 1:\n",
    "                s = cm_sum[i]\n",
    "                annot[i, j] = 'False Positives:\\n %.1f%%\\n%d/%d' % (p, c, s)\n",
    "            else:\n",
    "                s = cm_sum[i]\n",
    "                annot[i, j] = 'False Negatives:\\n %.1f%%\\n%d/%d' % (p, c, s)\n",
    "    cm = pd.DataFrame(cm, index=labels, columns=labels)\n",
    "    cm.index.name = 'Actual'\n",
    "    cm.columns.name = 'Predicted'\n",
    "    fig, ax = plt.subplots(figsize=figsize)\n",
    "    sns.heatmap(cm, annot=annot, fmt='', ax=ax, linewidths = 2, linecolor = 'black', annot_kws = annot_kws,\n",
    "               cmap = 'Blues')\n",
    "    if filename:\n",
    "        plt.savefig(filename)"
   ]
  },
  {
   "cell_type": "code",
   "execution_count": 33,
   "metadata": {},
   "outputs": [
    {
     "data": {
      "image/png": "[encoded data removed]",
      "text/plain": [
       "<Figure size 288x216 with 2 Axes>"
      ]
     },
     "metadata": {
      "needs_background": "light"
     },
     "output_type": "display_data"
    }
   ],
   "source": [
    "df = dystrophy.loc[X_test.index]\n",
    "cm_analysis(le.inverse_transform(df.label),\n",
    "            le.inverse_transform(1 - y_pred), labels = ['normal', 'carrier'],\n",
    "           figsize = (4,3))\n",
    "plt.tight_layout()\n",
    "plt.savefig('cm.png', dpi = 150)"
   ]
  },
  {
   "cell_type": "code",
   "execution_count": 34,
   "metadata": {},
   "outputs": [],
   "source": [
    "from statsmodels.stats.proportion import proportion_confint\n",
    "import matplotlib.pyplot as plt\n",
    "\n",
    "def calibration_curve(y_true, y_prob, n_bins=5,\n",
    "                      strategy='quantile', alpha = 0.05,\n",
    "                     figsize = (6,4), original_data = True):\n",
    "    \"\"\"Compute true and predicted probabilities for a calibration curve.\n",
    "    The method assumes the inputs come from a binary classifier.\n",
    "    Calibration curves may also be referred to as reliability diagrams.\n",
    "    Read more in the :ref:`User Guide <calibration>`.\n",
    "    Parameters\n",
    "    ----------\n",
    "    y_true : array, shape (n_samples,)\n",
    "        True targets.\n",
    "    y_prob : array, shape (n_samples,)\n",
    "        Probabilities of the positive class.\n",
    "    normalize : bool, optional, default=False\n",
    "        Whether y_prob needs to be normalized into the bin [0, 1], i.e. is not\n",
    "        a proper probability. If True, the smallest value in y_prob is mapped\n",
    "        onto 0 and the largest one onto 1.\n",
    "    n_bins : int\n",
    "        Number of bins. A bigger number requires more data. Bins with no data\n",
    "        points (i.e. without corresponding values in y_prob) will not be\n",
    "        returned, thus there may be fewer than n_bins in the return value.\n",
    "    strategy : {'uniform', 'quantile'}, (default='quantile')\n",
    "        Strategy used to define the widths of the bins.\n",
    "        uniform\n",
    "            All bins have identical widths.\n",
    "        quantile\n",
    "            All bins have the same number of points.\n",
    "    References\n",
    "    ----------\n",
    "    Alexandru Niculescu-Mizil and Rich Caruana (2005) Predicting Good\n",
    "    Probabilities With Supervised Learning, in Proceedings of the 22nd\n",
    "    International Conference on Machine Learning (ICML).\n",
    "    See section 4 (Qualitative Analysis of Predictions).\n",
    "    \"\"\"\n",
    "    if strategy == 'quantile':  # Determine bin edges by distribution of data\n",
    "        quantiles = np.linspace(0, 1, n_bins + 1)\n",
    "        bins = np.percentile(y_prob, quantiles * 100)\n",
    "        bins[-1] = bins[-1] + 1e-8\n",
    "    elif strategy == 'uniform':\n",
    "        bins = np.linspace(0., 1. + 1e-8, n_bins + 1)\n",
    "    else:\n",
    "        raise ValueError(\"Invalid entry to 'strategy' input. Strategy \"\n",
    "                         \"must be either 'quantile' or 'uniform'.\")\n",
    "\n",
    "    binids = np.digitize(y_prob, bins) - 1\n",
    "\n",
    "    bin_sums = np.bincount(binids, weights=y_prob, minlength=len(bins))\n",
    "    bin_true = np.bincount(binids, weights=y_true, minlength=len(bins))\n",
    "    bin_total = np.bincount(binids, minlength=len(bins))\n",
    "    \n",
    "    lower_bound = np.zeros_like(bin_total).astype('float')\n",
    "    upper_bound = np.zeros_like(bin_total).astype('float')\n",
    "    \n",
    "    for i, (count, nobs) in enumerate(zip(bin_true, bin_total)):\n",
    "        if nobs != 0:\n",
    "            lower_bound[i], upper_bound[i] = proportion_confint(count = count, nobs = nobs, alpha = alpha)\n",
    "        else:\n",
    "            pass\n",
    "        \n",
    "\n",
    "    nonzero = bin_total != 0\n",
    "    prob_true = (bin_true[nonzero] / bin_total[nonzero])\n",
    "    prob_pred = (bin_sums[nonzero] / bin_total[nonzero])\n",
    "    \n",
    "    lower_bound = lower_bound[nonzero]\n",
    "    upper_bound = upper_bound[nonzero]\n",
    "    \n",
    "    fig, ax = plt.subplots(figsize = figsize)\n",
    "    \n",
    "    plt.scatter(prob_pred, prob_true, edgecolor = 'black')\n",
    "    # Add the confidence intervals:\n",
    "    for lb, ub, x in zip(lower_bound, upper_bound, prob_pred):\n",
    "        plt.plot([x, x], [lb, ub], color = 'black')\n",
    "    \n",
    "    # Include the original data\n",
    "    if original_data:\n",
    "        plt.scatter(y_prob, 1.1*y_true - 0.05, alpha = 0.5, color = 'red', zorder = -5)\n",
    "    \n",
    "    plt.plot([-0.05, 1.05], [-0.05, 1.05], color = 'black', linestyle = '--')\n",
    "    plt.xlabel('Predicted Probability')\n",
    "    plt.ylabel('Truth')\n",
    "    plt.title('Calibration Curve')\n",
    "    plt.xlim(-0.1, 1.1)\n",
    "    plt.ylim(-0.1, 1.1)\n",
    "\n",
    "    #return prob_true, prob_pred, lower_bound, upper_bound"
   ]
  },
  {
   "cell_type": "code",
   "execution_count": 35,
   "metadata": {},
   "outputs": [
    {
     "data": {
      "image/png": "[encoded data removed]",
      "text/plain": [
       "<Figure size 432x288 with 1 Axes>"
      ]
     },
     "metadata": {
      "needs_background": "light"
     },
     "output_type": "display_data"
    }
   ],
   "source": [
    "df = dystrophy.loc[X_test.index]\n",
    "y_proba = lr.predict_proba(X_test)\n",
    "calibration_curve(df.carrier, y_proba[:,1], n_bins = 5, strategy = 'quantile')\n",
    "plt.savefig('calib_01.png', dpi = 150)"
   ]
  },
  {
   "cell_type": "code",
   "execution_count": 36,
   "metadata": {},
   "outputs": [
    {
     "data": {
      "image/png": "[encoded data removed]",
      "text/plain": [
       "<Figure size 432x144 with 1 Axes>"
      ]
     },
     "metadata": {
      "needs_background": "light"
     },
     "output_type": "display_data"
    }
   ],
   "source": [
    "alpha = 0.6\n",
    "\n",
    "fig, ax = plt.subplots(figsize = (6,2))\n",
    "plt.scatter(y_proba[y_test==0,1], (np.zeros_like(y_test) - 0.05 + 0.1*(y_test == 1))[y_test==0], \n",
    "            c = 'blue', label = 'non-carrier', \n",
    "            alpha = alpha, edgecolor = 'black')\n",
    "plt.scatter(y_proba[y_test==1,1], (np.zeros_like(y_test) - 0.05 + 0.1*(y_test == 1))[y_test==1], \n",
    "            c = 'red', label = 'carrier', \n",
    "            alpha = alpha, edgecolor = 'black')\n",
    "\n",
    "plt.plot([-.0,1.], [0,0], linewidth = 3, color = 'black')\n",
    "\n",
    "\n",
    "for i in [0,1]:\n",
    "    plt.plot([i,i], [0.1, -0.1], linewidth = 3, color = 'black')\n",
    "    plt.annotate(s = str(i), xy = (i, -0.125), ha = 'center', va = 'top', fontsize = 12, fontweight = 'bold')\n",
    "\n",
    "plt.title(\"Predicted Probabilities\")\n",
    "\n",
    "plt.yticks([])\n",
    "\n",
    "plt.legend()\n",
    "plt.ylim(-0.5, 0.5);\n",
    "plt.savefig('pred_proba_01.png', dpi = 150)"
   ]
  },
  {
   "cell_type": "code",
   "execution_count": 37,
   "metadata": {},
   "outputs": [],
   "source": [
    "def calc_tpr(y_true, y_prob, threshold = 0.5):\n",
    "    tp = len(y_prob[(y_true == 1) & (y_prob >= threshold)])\n",
    "    tpr = tp / np.sum(y_true == 1)\n",
    "    \n",
    "    return tpr\n",
    "\n",
    "def calc_fpr(y_true, y_prob, threshold = 0.5):\n",
    "    fp = len(y_prob[(y_true == 0) & (y_prob >= threshold)])\n",
    "    fpr = fp / np.sum(y_true == 0)\n",
    "    \n",
    "    return fpr"
   ]
  },
  {
   "cell_type": "code",
   "execution_count": 38,
   "metadata": {},
   "outputs": [],
   "source": [
    "def tpr_fpr(y_true, y_prob):\n",
    "    thresholds = np.linspace(start = 0, stop = 1, num = 100)\n",
    "    tpr = [calc_tpr(y_true, y_prob, threshold) for threshold in thresholds]\n",
    "    fpr = [calc_fpr(y_true, y_prob, threshold) for threshold in thresholds]\n",
    "    return tpr, fpr"
   ]
  },
  {
   "cell_type": "code",
   "execution_count": 39,
   "metadata": {},
   "outputs": [],
   "source": [
    "import numpy as np\n",
    "def roc_curve(y_true, y_prob, area = False):\n",
    "    tpr, fpr = tpr_fpr(y_true, y_prob)\n",
    "    \n",
    "    roc_plot = plt.plot(fpr, tpr)\n",
    "    if area:\n",
    "        plt.fill_between(fpr, tpr, color = 'lightblue')\n",
    "    plt.plot([0,1], [0,1], color = 'black')\n",
    "    plt.title('ROC Curve')\n",
    "    plt.xlabel('False Positive Rate')\n",
    "    plt.ylabel('True Positive Rate')\n",
    "    \n",
    "    return roc_plot;"
   ]
  },
  {
   "cell_type": "code",
   "execution_count": 40,
   "metadata": {},
   "outputs": [
    {
     "data": {
      "image/png": "[encoded data removed]",
      "text/plain": [
       "<Figure size 432x288 with 1 Axes>"
      ]
     },
     "metadata": {
      "needs_background": "light"
     },
     "output_type": "display_data"
    }
   ],
   "source": [
    "roc_plot = roc_curve(y_test, y_proba[:,1])\n",
    "plt.savefig('roc_01.png', dpi = 150)"
   ]
  },
  {
   "cell_type": "code",
   "execution_count": 41,
   "metadata": {},
   "outputs": [
    {
     "data": {
      "image/png": "[encoded data removed]",
      "text/plain": [
       "<Figure size 432x288 with 1 Axes>"
      ]
     },
     "metadata": {
      "needs_background": "light"
     },
     "output_type": "display_data"
    }
   ],
   "source": [
    "roc_plot = roc_curve(y_test, y_proba[:,1], area = True)\n",
    "plt.savefig('roc_02.png', dpi = 150)"
   ]
  },
  {
   "cell_type": "code",
   "execution_count": 42,
   "metadata": {},
   "outputs": [],
   "source": [
    "from sklearn.metrics import roc_auc_score"
   ]
  },
  {
   "cell_type": "code",
   "execution_count": 43,
   "metadata": {},
   "outputs": [
    {
     "data": {
      "text/plain": [
       "0.8538602941176471"
      ]
     },
     "execution_count": 43,
     "metadata": {},
     "output_type": "execute_result"
    }
   ],
   "source": [
    "roc_auc_score(y_test, y_proba[:,1])"
   ]
  },
  {
   "cell_type": "code",
   "execution_count": 44,
   "metadata": {},
   "outputs": [],
   "source": [
    "from ipywidgets import interact, FloatSlider, fixed\n",
    "from matplotlib import gridspec"
   ]
  },
  {
   "cell_type": "code",
   "execution_count": 45,
   "metadata": {},
   "outputs": [],
   "source": [
    "tpr, fpr = tpr_fpr(y_test, y_proba[:,1])"
   ]
  },
  {
   "cell_type": "code",
   "execution_count": 46,
   "metadata": {},
   "outputs": [
    {
     "data": {
      "application/vnd.jupyter.widget-view+json": {
       "model_id": "c26ad58acf1f445597ec45729214998a",
       "version_major": 2,
       "version_minor": 0
      },
      "text/plain": [
       "interactive(children=(FloatSlider(value=0.5, continuous_update=False, description='threshold', max=1.0, step=0…"
      ]
     },
     "metadata": {},
     "output_type": "display_data"
    }
   ],
   "source": [
    "@interact(threshold = FloatSlider(value = 0.5, min = 0, max = 1, step = 0.01, continuous_update = False),\n",
    "         y_true = fixed(y_test),\n",
    "         y_prob = fixed(y_proba[:,1]),\n",
    "         tpr = fixed(tpr),\n",
    "         fpr = fixed(fpr),\n",
    "         alpha = fixed(0.6))\n",
    "def roc_interact(threshold, y_true, y_prob, tpr, fpr, alpha = 0.6):\n",
    "    fig = plt.figure(figsize=(7, 7)) \n",
    "    gs = gridspec.GridSpec(2, 1, height_ratios=[1, 3]) \n",
    "    \n",
    "    ax0 = plt.subplot(gs[0])\n",
    "    \n",
    "    ax0.scatter(y_prob[y_true==0], (np.zeros_like(y_true).astype(float) - 0.05 + 0.1*(y_true == 1))[y_true==0], \n",
    "            c = 'blue', label = 'non-carrier', \n",
    "            alpha = alpha, edgecolor = 'black')\n",
    "    ax0.scatter(y_prob[y_true==1], (np.zeros_like(y_true).astype(float) - 0.05 + 0.1*(y_true == 1))[y_true==1], \n",
    "            c = 'red', label = 'carrier', \n",
    "            alpha = alpha, edgecolor = 'black')\n",
    "    ax0.plot([-.0,1.], [0,0], linewidth = 3, color = 'black')\n",
    "    for i in [0,1]:\n",
    "        ax0.plot([i,i], [0.1, -0.1], linewidth = 3, color = 'black')\n",
    "        ax0.annotate(s = str(i), xy = (i, -0.125), ha = 'center', va = 'top', fontsize = 12, fontweight = 'bold')\n",
    "        \n",
    "    ax0.plot([threshold, threshold], [-0.4, 0.4], color = 'red', linestyle = '--', linewidth = 3)\n",
    "    \n",
    "    ax0.title.set_text(\"Predicted Probabilities\")\n",
    "    plt.sca(ax0)\n",
    "    plt.yticks([])\n",
    "    plt.legend(loc = 'upper right')\n",
    "    ax0.set_ylim(-0.5, 0.75); \n",
    "    \n",
    "    ax1 = plt.subplot(gs[1])\n",
    "    \n",
    "    ax1.plot(fpr, tpr, linewidth = 1.5)\n",
    "    ax1.plot([0,1], [0,1], color = 'black')\n",
    "    \n",
    "    plt.sca(ax1)\n",
    "    plt.title('ROC Curve')\n",
    "    plt.xlabel('False Positive Rate')\n",
    "    plt.ylabel('True Positive Rate')\n",
    "    \n",
    "    ax1.scatter([calc_fpr(y_true, y_prob, threshold)], [calc_tpr(y_true, y_prob, threshold)], color = 'black', zorder = 500);"
   ]
  },
  {
   "cell_type": "code",
   "execution_count": 47,
   "metadata": {},
   "outputs": [
    {
     "data": {
      "text/plain": [
       "Index(['OBS', 'HospID', 'AGE', 'M', 'Y', 'CK', 'H', 'PK', 'LD', 'Class',\n",
       "       'carrier', 'label'],\n",
       "      dtype='object')"
      ]
     },
     "execution_count": 47,
     "metadata": {},
     "output_type": "execute_result"
    }
   ],
   "source": [
    "dystrophy.columns"
   ]
  },
  {
   "cell_type": "code",
   "execution_count": 48,
   "metadata": {},
   "outputs": [],
   "source": [
    "X_train = dystrophy.loc[X_train.index, ['CK', 'H', 'PK', 'LD']]\n",
    "X_test = dystrophy.loc[X_test.index, ['CK', 'H', 'PK', 'LD']]"
   ]
  },
  {
   "cell_type": "code",
   "execution_count": 49,
   "metadata": {},
   "outputs": [
    {
     "data": {
      "text/plain": [
       "LogisticRegression(C=1.0, class_weight=None, dual=False, fit_intercept=True,\n",
       "                   intercept_scaling=1, l1_ratio=None, max_iter=100,\n",
       "                   multi_class='auto', n_jobs=None, penalty='l2',\n",
       "                   random_state=None, solver='lbfgs', tol=0.0001, verbose=0,\n",
       "                   warm_start=False)"
      ]
     },
     "execution_count": 49,
     "metadata": {},
     "output_type": "execute_result"
    }
   ],
   "source": [
    "lr = LogisticRegression()\n",
    "lr.fit(X_train,y_train)"
   ]
  },
  {
   "cell_type": "code",
   "execution_count": 50,
   "metadata": {},
   "outputs": [
    {
     "data": {
      "text/plain": [
       "-17.225433985156112"
      ]
     },
     "execution_count": 50,
     "metadata": {},
     "output_type": "execute_result"
    }
   ],
   "source": [
    "lr.intercept_[0]"
   ]
  },
  {
   "cell_type": "code",
   "execution_count": 51,
   "metadata": {},
   "outputs": [
    {
     "data": {
      "text/plain": [
       "array([0.04461055, 0.11634145, 0.08745461, 0.0121529 ])"
      ]
     },
     "execution_count": 51,
     "metadata": {},
     "output_type": "execute_result"
    }
   ],
   "source": [
    "lr.coef_[0]"
   ]
  },
  {
   "cell_type": "code",
   "execution_count": 53,
   "metadata": {
    "scrolled": true
   },
   "outputs": [
    {
     "data": {
      "image/png": "[encoded data removed]",
      "text/plain": [
       "<Figure size 288x216 with 2 Axes>"
      ]
     },
     "metadata": {
      "needs_background": "light"
     },
     "output_type": "display_data"
    }
   ],
   "source": [
    "y_pred = lr.predict(X_test)\n",
    "\n",
    "df = dystrophy.loc[X_test.index]\n",
    "\n",
    "cm_analysis(le.inverse_transform(df.label),\n",
    "            le.inverse_transform(1 - y_pred), labels = ['normal', 'carrier'],\n",
    "           figsize = (4,3))\n",
    "plt.tight_layout()\n",
    "plt.savefig('cm_2.png', dpi = 150)"
   ]
  },
  {
   "cell_type": "code",
   "execution_count": 54,
   "metadata": {},
   "outputs": [
    {
     "data": {
      "image/png": "[encoded data removed]",
      "text/plain": [
       "<Figure size 432x288 with 1 Axes>"
      ]
     },
     "metadata": {
      "needs_background": "light"
     },
     "output_type": "display_data"
    }
   ],
   "source": [
    "y_proba = lr.predict_proba(X_test)\n",
    "calibration_curve(y_test, y_proba[:,1], n_bins = 5, strategy = 'quantile')\n",
    "plt.savefig('calib_02.png', dpi = 150)"
   ]
  },
  {
   "cell_type": "code",
   "execution_count": 57,
   "metadata": {},
   "outputs": [
    {
     "data": {
      "image/png": "[encoded data removed]",
      "text/plain": [
       "<Figure size 432x144 with 1 Axes>"
      ]
     },
     "metadata": {
      "needs_background": "light"
     },
     "output_type": "display_data"
    }
   ],
   "source": [
    "alpha = 0.6\n",
    "\n",
    "fig, ax = plt.subplots(figsize = (6,2))\n",
    "\n",
    "plt.scatter(y_proba[y_test==0,1], (np.zeros_like(y_test) - 0.05 + 0.1*(y_test == 1))[y_test==0], \n",
    "            c = 'blue', label = 'non-carrier', \n",
    "            alpha = alpha, edgecolor = 'black')\n",
    "plt.scatter(y_proba[y_test==1,1], (np.zeros_like(y_test) - 0.05 + 0.1*(y_test == 1))[y_test==1], \n",
    "            c = 'red', label = 'carrier', \n",
    "            alpha = alpha, edgecolor = 'black')\n",
    "\n",
    "plt.plot([-.0,1.], [0,0], linewidth = 3, color = 'black')\n",
    "\n",
    "\n",
    "for i in [0,1]:\n",
    "    plt.plot([i,i], [0.1, -0.1], linewidth = 3, color = 'black')\n",
    "    plt.annotate(s = str(i), xy = (i, -0.125), ha = 'center', va = 'top', fontsize = 12, fontweight = 'bold')\n",
    "\n",
    "plt.title(\"Predicted Probabilities\")\n",
    "\n",
    "plt.yticks([])\n",
    "\n",
    "plt.legend()\n",
    "plt.ylim(-0.5, 0.5);\n",
    "plt.savefig('pred_proba_02.png', dpi = 150)\n"
   ]
  },
  {
   "cell_type": "code",
   "execution_count": 58,
   "metadata": {
    "scrolled": true
   },
   "outputs": [
    {
     "data": {
      "image/png": "[encoded data removed]",
      "text/plain": [
       "<Figure size 432x288 with 1 Axes>"
      ]
     },
     "metadata": {
      "needs_background": "light"
     },
     "output_type": "display_data"
    }
   ],
   "source": [
    "roc_plot = roc_curve(y_test, y_proba[:,1])\n",
    "plt.savefig('roc_03.png', dpi = 150)"
   ]
  },
  {
   "cell_type": "code",
   "execution_count": 60,
   "metadata": {},
   "outputs": [
    {
     "data": {
      "image/png": "[encoded data removed]",
      "text/plain": [
       "<Figure size 432x288 with 1 Axes>"
      ]
     },
     "metadata": {
      "needs_background": "light"
     },
     "output_type": "display_data"
    }
   ],
   "source": [
    "roc_plot = roc_curve(y_test, y_proba[:,1], area = True)\n",
    "plt.savefig('roc_04.png', dpi = 150)"
   ]
  },
  {
   "cell_type": "code",
   "execution_count": 61,
   "metadata": {},
   "outputs": [
    {
     "data": {
      "text/plain": [
       "0.9430147058823529"
      ]
     },
     "execution_count": 61,
     "metadata": {},
     "output_type": "execute_result"
    }
   ],
   "source": [
    "roc_auc_score(y_test, y_proba[:,1])"
   ]
  },
  {
   "cell_type": "code",
   "execution_count": 41,
   "metadata": {},
   "outputs": [
    {
     "data": {
      "image/png": "[encoded data removed]",
      "text/plain": [
       "<Figure size 432x288 with 1 Axes>"
      ]
     },
     "metadata": {
      "needs_background": "light"
     },
     "output_type": "display_data"
    }
   ],
   "source": [
    "sns.scatterplot(x = np.log(dystrophy.CK), y = lr.predict_proba(X)[:,0], hue = y);"
   ]
  },
  {
   "cell_type": "code",
   "execution_count": 43,
   "metadata": {},
   "outputs": [
    {
     "data": {
      "text/plain": [
       "array([[0.33304343, 0.66695657]])"
      ]
     },
     "execution_count": 43,
     "metadata": {},
     "output_type": "execute_result"
    }
   ],
   "source": [
    "lr.predict_proba(np.array([58]).reshape(1,-1))"
   ]
  },
  {
   "cell_type": "code",
   "execution_count": 44,
   "metadata": {},
   "outputs": [
    {
     "data": {
      "text/plain": [
       "array([[0.99698034, 0.00301966]])"
      ]
     },
     "execution_count": 44,
     "metadata": {},
     "output_type": "execute_result"
    }
   ],
   "source": [
    "lr.predict_proba(np.array([200]).reshape(1,-1))"
   ]
  },
  {
   "cell_type": "code",
   "execution_count": 45,
   "metadata": {},
   "outputs": [
    {
     "data": {
      "text/html": [
       "<div>\n",
       "<style scoped>\n",
       "    .dataframe tbody tr th:only-of-type {\n",
       "        vertical-align: middle;\n",
       "    }\n",
       "\n",
       "    .dataframe tbody tr th {\n",
       "        vertical-align: top;\n",
       "    }\n",
       "\n",
       "    .dataframe thead th {\n",
       "        text-align: right;\n",
       "    }\n",
       "</style>\n",
       "<table border=\"1\" class=\"dataframe\">\n",
       "  <thead>\n",
       "    <tr style=\"text-align: right;\">\n",
       "      <th></th>\n",
       "      <th>OBS</th>\n",
       "      <th>HospID</th>\n",
       "      <th>AGE</th>\n",
       "      <th>M</th>\n",
       "      <th>Y</th>\n",
       "      <th>CK</th>\n",
       "      <th>H</th>\n",
       "      <th>PK</th>\n",
       "      <th>LD</th>\n",
       "      <th>Class</th>\n",
       "    </tr>\n",
       "  </thead>\n",
       "  <tbody>\n",
       "    <tr>\n",
       "      <th>0</th>\n",
       "      <td>1</td>\n",
       "      <td>1007</td>\n",
       "      <td>22</td>\n",
       "      <td>6</td>\n",
       "      <td>79</td>\n",
       "      <td>52.0</td>\n",
       "      <td>83.5</td>\n",
       "      <td>10.9</td>\n",
       "      <td>176.0</td>\n",
       "      <td>normal</td>\n",
       "    </tr>\n",
       "    <tr>\n",
       "      <th>1</th>\n",
       "      <td>1</td>\n",
       "      <td>786</td>\n",
       "      <td>32</td>\n",
       "      <td>8</td>\n",
       "      <td>78</td>\n",
       "      <td>20.0</td>\n",
       "      <td>77.0</td>\n",
       "      <td>11.0</td>\n",
       "      <td>200.0</td>\n",
       "      <td>normal</td>\n",
       "    </tr>\n",
       "    <tr>\n",
       "      <th>2</th>\n",
       "      <td>1</td>\n",
       "      <td>778</td>\n",
       "      <td>36</td>\n",
       "      <td>7</td>\n",
       "      <td>78</td>\n",
       "      <td>28.0</td>\n",
       "      <td>86.5</td>\n",
       "      <td>13.2</td>\n",
       "      <td>171.0</td>\n",
       "      <td>normal</td>\n",
       "    </tr>\n",
       "    <tr>\n",
       "      <th>3</th>\n",
       "      <td>1</td>\n",
       "      <td>1306</td>\n",
       "      <td>22</td>\n",
       "      <td>11</td>\n",
       "      <td>79</td>\n",
       "      <td>30.0</td>\n",
       "      <td>104.0</td>\n",
       "      <td>22.6</td>\n",
       "      <td>230.0</td>\n",
       "      <td>normal</td>\n",
       "    </tr>\n",
       "    <tr>\n",
       "      <th>4</th>\n",
       "      <td>1</td>\n",
       "      <td>895</td>\n",
       "      <td>23</td>\n",
       "      <td>1</td>\n",
       "      <td>78</td>\n",
       "      <td>40.0</td>\n",
       "      <td>83.0</td>\n",
       "      <td>15.2</td>\n",
       "      <td>205.0</td>\n",
       "      <td>normal</td>\n",
       "    </tr>\n",
       "  </tbody>\n",
       "</table>\n",
       "</div>"
      ],
      "text/plain": [
       "   OBS  HospID  AGE   M   Y    CK      H    PK     LD   Class\n",
       "0    1    1007   22   6  79  52.0   83.5  10.9  176.0  normal\n",
       "1    1     786   32   8  78  20.0   77.0  11.0  200.0  normal\n",
       "2    1     778   36   7  78  28.0   86.5  13.2  171.0  normal\n",
       "3    1    1306   22  11  79  30.0  104.0  22.6  230.0  normal\n",
       "4    1     895   23   1  78  40.0   83.0  15.2  205.0  normal"
      ]
     },
     "execution_count": 45,
     "metadata": {},
     "output_type": "execute_result"
    }
   ],
   "source": [
    "dystrophy.head()"
   ]
  },
  {
   "cell_type": "code",
   "execution_count": 49,
   "metadata": {},
   "outputs": [
    {
     "data": {
      "text/plain": [
       "Class\n",
       "carrier    23.932836\n",
       "normal     12.145522\n",
       "Name: PK, dtype: float64"
      ]
     },
     "execution_count": 49,
     "metadata": {},
     "output_type": "execute_result"
    }
   ],
   "source": [
    "dystrophy.groupby('Class').PK.mean()"
   ]
  },
  {
   "cell_type": "code",
   "execution_count": 50,
   "metadata": {},
   "outputs": [
    {
     "data": {
      "text/plain": [
       "<matplotlib.axes._subplots.AxesSubplot at 0x7f8ff23ecdd0>"
      ]
     },
     "execution_count": 50,
     "metadata": {},
     "output_type": "execute_result"
    },
    {
     "data": {
      "image/png": "[encoded data removed]",
      "text/plain": [
       "<Figure size 432x288 with 1 Axes>"
      ]
     },
     "metadata": {
      "needs_background": "light"
     },
     "output_type": "display_data"
    }
   ],
   "source": [
    "sns.boxplot(data = dystrophy, x = 'Class', y = 'PK')"
   ]
  },
  {
   "cell_type": "code",
   "execution_count": 52,
   "metadata": {},
   "outputs": [
    {
     "data": {
      "image/png": "[encoded data removed]",
      "text/plain": [
       "<Figure size 432x288 with 1 Axes>"
      ]
     },
     "metadata": {
      "needs_background": "light"
     },
     "output_type": "display_data"
    }
   ],
   "source": [
    "sns.boxplot(data = dystrophy, x = 'Class', y = 'LD');"
   ]
  },
  {
   "cell_type": "code",
   "execution_count": 57,
   "metadata": {},
   "outputs": [],
   "source": [
    "dystrophy = dystrophy.dropna()"
   ]
  },
  {
   "cell_type": "code",
   "execution_count": 60,
   "metadata": {},
   "outputs": [],
   "source": [
    "X = dystrophy[['LD']]\n",
    "y = dystrophy.Class"
   ]
  },
  {
   "cell_type": "code",
   "execution_count": 61,
   "metadata": {},
   "outputs": [
    {
     "data": {
      "text/plain": [
       "LogisticRegression(C=1.0, class_weight=None, dual=False, fit_intercept=True,\n",
       "                   intercept_scaling=1, l1_ratio=None, max_iter=100,\n",
       "                   multi_class='auto', n_jobs=None, penalty='l2',\n",
       "                   random_state=None, solver='lbfgs', tol=0.0001, verbose=0,\n",
       "                   warm_start=False)"
      ]
     },
     "execution_count": 61,
     "metadata": {},
     "output_type": "execute_result"
    }
   ],
   "source": [
    "lr.fit(X, y)"
   ]
  },
  {
   "cell_type": "code",
   "execution_count": 62,
   "metadata": {},
   "outputs": [
    {
     "data": {
      "text/plain": [
       "array([-0.02904558])"
      ]
     },
     "execution_count": 62,
     "metadata": {},
     "output_type": "execute_result"
    }
   ],
   "source": [
    "lr.coef_[0]"
   ]
  },
  {
   "cell_type": "code",
   "execution_count": 63,
   "metadata": {},
   "outputs": [
    {
     "data": {
      "text/plain": [
       "(194, 10)"
      ]
     },
     "execution_count": 63,
     "metadata": {},
     "output_type": "execute_result"
    }
   ],
   "source": [
    "dystrophy.shape"
   ]
  },
  {
   "cell_type": "code",
   "execution_count": null,
   "metadata": {},
   "outputs": [],
   "source": []
  }
 ],
 "metadata": {
  "kernelspec": {
   "display_name": "Python 3",
   "language": "python",
   "name": "python3"
  },
  "language_info": {
   "codemirror_mode": {
    "name": "ipython",
    "version": 3
   },
   "file_extension": ".py",
   "mimetype": "text/x-python",
   "name": "python",
   "nbconvert_exporter": "python",
   "pygments_lexer": "ipython3",
   "version": "3.7.4"
  }
 },
 "nbformat": 4,
 "nbformat_minor": 2
}
