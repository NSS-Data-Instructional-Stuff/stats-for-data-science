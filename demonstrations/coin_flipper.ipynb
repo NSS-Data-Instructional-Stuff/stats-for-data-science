{
 "cells": [
  {
   "cell_type": "code",
   "execution_count": 114,
   "id": "0f94a884",
   "metadata": {},
   "outputs": [],
   "source": [
    "from coin import CoinFlipper\n",
    "coin = CoinFlipper()"
   ]
  },
  {
   "cell_type": "markdown",
   "id": "7aed97ca",
   "metadata": {},
   "source": [
    "**Challenge:** You've been given a coin and tasked with determining if it is a fair coin (whether it is equally likely to land on head and tails).\n",
    "\n",
    "To help determine determine this, you have the ability to flip the coin. For example, you could flip it just once:"
   ]
  },
  {
   "cell_type": "code",
   "execution_count": 123,
   "id": "e19ceb37",
   "metadata": {},
   "outputs": [
    {
     "name": "stdout",
     "output_type": "stream",
     "text": [
      "The coin landed on heads 0 times.\n"
     ]
    }
   ],
   "source": [
    "coin.flip(number_flips = 1)"
   ]
  },
  {
   "cell_type": "markdown",
   "id": "004fb67a",
   "metadata": {},
   "source": [
    "But you can also flip it multiple times."
   ]
  },
  {
   "cell_type": "code",
   "execution_count": 144,
   "id": "c849aac6",
   "metadata": {},
   "outputs": [
    {
     "name": "stdout",
     "output_type": "stream",
     "text": [
      "The coin landed on heads 6 times.\n"
     ]
    }
   ],
   "source": [
    "coin.flip(number_flips = 10)"
   ]
  },
  {
   "cell_type": "markdown",
   "id": "5d097dd6",
   "metadata": {},
   "source": [
    "Take some time to flip the coin and observe the outcomes.\n",
    "\n",
    "**Question:** Based on your observations, do you believe that the coin is a fair coin?\n",
    "\n",
    "If you don't think it is a fair coin, do you think it is more likely to land on heads or more likely to land on tails?"
   ]
  }
 ],
 "metadata": {
  "kernelspec": {
   "display_name": "Python 3",
   "language": "python",
   "name": "python3"
  },
  "language_info": {
   "codemirror_mode": {
    "name": "ipython",
    "version": 3
   },
   "file_extension": ".py",
   "mimetype": "text/x-python",
   "name": "python",
   "nbconvert_exporter": "python",
   "pygments_lexer": "ipython3",
   "version": "3.8.3"
  }
 },
 "nbformat": 4,
 "nbformat_minor": 5
}
