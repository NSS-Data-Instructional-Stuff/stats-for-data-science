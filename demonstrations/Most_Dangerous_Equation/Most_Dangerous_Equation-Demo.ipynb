{
 "cells": [
  {
   "cell_type": "markdown",
   "id": "4bca1482",
   "metadata": {},
   "source": [
    "## The Most Dangerous Equation Demonstration\n",
    "\n",
    "The purpose of this notebook is to illustrate the phenomenon described in the Estimation Cautions slides of the most extreme rates (both large and small) appearing in counties with the smallest populations.\n",
    "\n",
    "In this notebook, we'll perform a simulation to see this in action."
   ]
  },
  {
   "cell_type": "code",
   "execution_count": null,
   "id": "253b9693",
   "metadata": {},
   "outputs": [],
   "source": [
    "import pandas as pd\n",
    "from scipy.stats import binom\n",
    "import matplotlib.pyplot as plt"
   ]
  },
  {
   "cell_type": "markdown",
   "id": "3cc0ee5e",
   "metadata": {},
   "source": [
    "We'll start by reading in a dataset which contains county-level population estimates for the year 2019."
   ]
  },
  {
   "cell_type": "code",
   "execution_count": null,
   "id": "748fd4ca",
   "metadata": {},
   "outputs": [],
   "source": [
    "pops = pd.read_csv('county_populations.csv')"
   ]
  },
  {
   "cell_type": "code",
   "execution_count": null,
   "id": "2202e4fa",
   "metadata": {},
   "outputs": [],
   "source": [
    "pops.sort_values('POPESTIMATE2019')"
   ]
  },
  {
   "cell_type": "markdown",
   "id": "4f40272f",
   "metadata": {},
   "source": [
    "We'll set an overall incidence rate for some type of cancer."
   ]
  },
  {
   "cell_type": "code",
   "execution_count": null,
   "id": "94227964",
   "metadata": {},
   "outputs": [],
   "source": [
    "# Cancer Rate\n",
    "p = 0.005"
   ]
  },
  {
   "cell_type": "markdown",
   "id": "147d656b",
   "metadata": {},
   "source": [
    "Now, we need to perform a simulation to determine the number of cases per county. For this, we can use the `rvs` method of the `binom` class. We need to give the number of trials, `n` and the probability of success, `p`.\n",
    "\n",
    "For example, we could simulate for Kalawao County, the smallest county in the dataset."
   ]
  },
  {
   "cell_type": "code",
   "execution_count": null,
   "id": "efc61e6f",
   "metadata": {},
   "outputs": [],
   "source": [
    "# Simulating for Kalawao County\n",
    "binom.rvs(n = 86, p = p)"
   ]
  },
  {
   "cell_type": "markdown",
   "id": "f2fe9715",
   "metadata": {},
   "source": [
    "We can actually use an array to specify the number of trials. For example, if we wanted to generate our numbers for the three smallest counties, we could do so as follows:"
   ]
  },
  {
   "cell_type": "code",
   "execution_count": null,
   "id": "9215368f",
   "metadata": {},
   "outputs": [],
   "source": [
    "binom.rvs(n = [86, 169, 272], p = p)"
   ]
  },
  {
   "cell_type": "markdown",
   "id": "2f95eaac",
   "metadata": {},
   "source": [
    "Let's simulate for each county and save the results as a new column."
   ]
  },
  {
   "cell_type": "code",
   "execution_count": null,
   "id": "fe049f42",
   "metadata": {},
   "outputs": [],
   "source": [
    "pops['cancer_instances'] = binom.rvs(n = pops['POPESTIMATE2019'], p = p)"
   ]
  },
  {
   "cell_type": "code",
   "execution_count": null,
   "id": "e4fc2da6",
   "metadata": {},
   "outputs": [],
   "source": [
    "pops.sort_values('POPESTIMATE2019')"
   ]
  },
  {
   "cell_type": "markdown",
   "id": "09c48344",
   "metadata": {},
   "source": [
    "We can calculate a \"cancer rate\" by normalizing by population. We'll actually do cases per 100,000 population by also multiplying by 100,000."
   ]
  },
  {
   "cell_type": "code",
   "execution_count": null,
   "id": "aed59e45",
   "metadata": {},
   "outputs": [],
   "source": [
    "pops['cancer_rate'] = pops['cancer_instances'] / pops['POPESTIMATE2019'] * 100000"
   ]
  },
  {
   "cell_type": "code",
   "execution_count": null,
   "id": "e4aa592d",
   "metadata": {},
   "outputs": [],
   "source": [
    "pops.sort_values('POPESTIMATE2019')"
   ]
  },
  {
   "cell_type": "markdown",
   "id": "9d04ae78",
   "metadata": {},
   "source": [
    "Now, let's look at the highest cancer rates."
   ]
  },
  {
   "cell_type": "code",
   "execution_count": null,
   "id": "157e3376",
   "metadata": {},
   "outputs": [],
   "source": [
    "pops.nlargest(25, 'cancer_rate')"
   ]
  },
  {
   "cell_type": "markdown",
   "id": "1e5feff5",
   "metadata": {},
   "source": [
    "And the smallest cancer rates."
   ]
  },
  {
   "cell_type": "code",
   "execution_count": null,
   "id": "7d0a484b",
   "metadata": {},
   "outputs": [],
   "source": [
    "pops.nsmallest(25, 'cancer_rate')"
   ]
  },
  {
   "cell_type": "markdown",
   "id": "dad3dd3e",
   "metadata": {},
   "source": [
    "Finally, let's plot population size vs cancer rate. Since there are some very large counties, we'll look at only those that have population less than 100000.\n",
    "\n",
    "You'll see a funnel shape, as the larger counties tend to be closer to the overall cancer rate."
   ]
  },
  {
   "cell_type": "code",
   "execution_count": null,
   "id": "c06e04ed",
   "metadata": {},
   "outputs": [],
   "source": [
    "pops.plot(kind = 'scatter',\n",
    "         x = 'POPESTIMATE2019',\n",
    "         y = 'cancer_rate',\n",
    "         figsize = (12,6),\n",
    "         alpha = 0.5)\n",
    "\n",
    "plt.xlim(-100, 100000);"
   ]
  }
 ],
 "metadata": {
  "kernelspec": {
   "display_name": "Python 3 (ipykernel)",
   "language": "python",
   "name": "python3"
  },
  "language_info": {
   "codemirror_mode": {
    "name": "ipython",
    "version": 3
   },
   "file_extension": ".py",
   "mimetype": "text/x-python",
   "name": "python",
   "nbconvert_exporter": "python",
   "pygments_lexer": "ipython3",
   "version": "3.8.3"
  }
 },
 "nbformat": 4,
 "nbformat_minor": 5
}
