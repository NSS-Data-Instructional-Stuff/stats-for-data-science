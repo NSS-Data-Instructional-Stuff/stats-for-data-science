{
 "cells": [
  {
   "cell_type": "code",
   "execution_count": 1,
   "metadata": {},
   "outputs": [],
   "source": [
    "from demos import bootstrap_confidence_interval_plot\n",
    "from ipywidgets import interact, FloatSlider, fixed\n",
    "from scipy.stats import skewnorm"
   ]
  },
  {
   "cell_type": "code",
   "execution_count": 3,
   "metadata": {},
   "outputs": [
    {
     "data": {
      "application/vnd.jupyter.widget-view+json": {
       "model_id": "cbd9804df60143749574174d682d42ae",
       "version_major": 2,
       "version_minor": 0
      },
      "text/plain": [
       "interactive(children=(FloatSlider(value=0.95, description='Confidence Level:', max=0.99, min=0.6, step=0.01, s…"
      ]
     },
     "metadata": {},
     "output_type": "display_data"
    }
   ],
   "source": [
    "style = {'description_width': 'initial'}\n",
    "interact(bootstrap_confidence_interval_plot,\n",
    "         area = FloatSlider(value = 0.95, min = 0.6, max = .99, step = 0.01, description = \"Confidence Level:\", style = style),\n",
    "    sample_mean = FloatSlider(value = 1, min = skewnorm.ppf(0.00001, 5), max = skewnorm.ppf(0.999,5), step = 0.01, description = 'Sample Statistic:', \n",
    "                           style = style, continuous_update = True),\n",
    "        a = fixed(5));\n"
   ]
  },
  {
   "cell_type": "code",
   "execution_count": null,
   "metadata": {},
   "outputs": [],
   "source": []
  }
 ],
 "metadata": {
  "kernelspec": {
   "display_name": "Python 3",
   "language": "python",
   "name": "python3"
  },
  "language_info": {
   "codemirror_mode": {
    "name": "ipython",
    "version": 3
   },
   "file_extension": ".py",
   "mimetype": "text/x-python",
   "name": "python",
   "nbconvert_exporter": "python",
   "pygments_lexer": "ipython3",
   "version": "3.7.4"
  }
 },
 "nbformat": 4,
 "nbformat_minor": 2
}
