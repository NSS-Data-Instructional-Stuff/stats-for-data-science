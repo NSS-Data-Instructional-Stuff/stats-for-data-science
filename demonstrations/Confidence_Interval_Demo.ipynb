{
 "cells": [
  {
   "cell_type": "markdown",
   "metadata": {},
   "source": [
    "# Confidence Interval Demonstration"
   ]
  },
  {
   "cell_type": "code",
   "execution_count": 1,
   "metadata": {},
   "outputs": [],
   "source": [
    "from demos import confidence_interval_plot\n",
    "from ipywidgets import interact, FloatSlider"
   ]
  },
  {
   "cell_type": "markdown",
   "metadata": {},
   "source": [
    "In the below widget, the distribution represents the *sampling distribution of the mean*. That is, the distribution of all possible samples of a given size. This distribution is centered at the value of the (unknown) population mean, $\\mu$.\n",
    "\n",
    "Here, $\\bar{x}$ represents our (possible) sample mean. The widget demonstrates that, as long as we put an interval whose width is equal to the distance from $a$ to $b$ around our sample mean, then most of the time, that interval will contain the true population mean.\n",
    "\n",
    "Just how often will it include the true population mean? As long as $\\bar{x}$ is between $a$ and $b$ it will. But how often does that occur? It occures with frequency equal to the confidence level!"
   ]
  },
  {
   "cell_type": "code",
   "execution_count": 4,
   "metadata": {
    "scrolled": true
   },
   "outputs": [
    {
     "data": {
      "application/vnd.jupyter.widget-view+json": {
       "model_id": "39e0d24fdb2d46ef923f76caf85bf949",
       "version_major": 2,
       "version_minor": 0
      },
      "text/plain": [
       "interactive(children=(FloatSlider(value=0.95, description='Confidence Level:', max=0.99, min=0.6, step=0.01, s…"
      ]
     },
     "metadata": {},
     "output_type": "display_data"
    }
   ],
   "source": [
    "style = {'description_width': 'initial'}\n",
    "interact(confidence_interval_plot, area = FloatSlider(value = 0.95, min = 0.6, max = .99, step = 0.01, description = \"Confidence Level:\", style = style),\n",
    "    sample_mean = FloatSlider(value = 0, min = -3, max = 3, step = 0.01, description = 'Sample Mean:', \n",
    "                           style = style, continuous_update = True));"
   ]
  },
  {
   "cell_type": "code",
   "execution_count": null,
   "metadata": {},
   "outputs": [],
   "source": []
  }
 ],
 "metadata": {
  "kernelspec": {
   "display_name": "Python 3",
   "language": "python",
   "name": "python3"
  },
  "language_info": {
   "codemirror_mode": {
    "name": "ipython",
    "version": 3
   },
   "file_extension": ".py",
   "mimetype": "text/x-python",
   "name": "python",
   "nbconvert_exporter": "python",
   "pygments_lexer": "ipython3",
   "version": "3.7.4"
  }
 },
 "nbformat": 4,
 "nbformat_minor": 2
}
