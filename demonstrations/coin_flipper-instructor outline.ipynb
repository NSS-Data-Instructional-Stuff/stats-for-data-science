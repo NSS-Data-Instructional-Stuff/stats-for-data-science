{
 "cells": [
  {
   "cell_type": "markdown",
   "id": "9db42737",
   "metadata": {},
   "source": [
    "**Question:** What is the probability that a fair coin to lands on heads 0 times out of ten flips?"
   ]
  },
  {
   "cell_type": "markdown",
   "id": "a81f53de",
   "metadata": {},
   "source": [
    "P(ten heads) = P(HHHHHHHHHH)\n",
    "\n",
    "The flips are **independent**\n",
    "\n",
    "P(HHHHHHHHHH)\n",
    "= P(H)P(H)P(H)...P(H) = P(H)^10  \n",
    "= (0.5)^10"
   ]
  },
  {
   "cell_type": "code",
   "execution_count": 1,
   "id": "b609d1e0",
   "metadata": {},
   "outputs": [
    {
     "data": {
      "text/plain": [
       "0.0009765625"
      ]
     },
     "execution_count": 1,
     "metadata": {},
     "output_type": "execute_result"
    }
   ],
   "source": [
    "(0.5)**10"
   ]
  },
  {
   "cell_type": "markdown",
   "id": "ef4681d5",
   "metadata": {},
   "source": [
    "**Question:** How likely would it be for a fair coin to land on heads exactly 1 time out of ten flips?"
   ]
  },
  {
   "cell_type": "markdown",
   "id": "0d7e4095",
   "metadata": {},
   "source": [
    "**Sequences with exactly 1 heads:**\n",
    "\n",
    "HTTTTTTTTT\n",
    "THTTTTTTTT  \n",
    "TTHTTTTTTT  \n",
    "...\n",
    "\n",
    "Ten total sequences (choose where to place the heads)."
   ]
  },
  {
   "cell_type": "markdown",
   "id": "1f7cad0f",
   "metadata": {},
   "source": [
    "$$P(HTTTTTTTTT) = P(H)\\cdot P(T) \\cdot P(T)\\cdot P(T)\\cdot P(T)\\cdot P(T)\\cdot P(T)\\cdot P(T)\\cdot P(T)\\cdot P(T)$$"
   ]
  },
  {
   "cell_type": "markdown",
   "id": "194cccd1",
   "metadata": {},
   "source": [
    "$$ = P(H)^1\\cdot P(T)^9$$"
   ]
  },
  {
   "cell_type": "markdown",
   "id": "2273972c",
   "metadata": {},
   "source": [
    "$$= (0.5)^1\\cdot(0.5)^9$$"
   ]
  },
  {
   "cell_type": "markdown",
   "id": "f6fe9c0b",
   "metadata": {},
   "source": [
    "$$P(THTTTTTTTT) = P(T)\\cdot P(H) \\cdot P(T)\\cdot P(T)\\cdot P(T)\\cdot P(T)\\cdot P(T)\\cdot P(T)\\cdot P(T)\\cdot P(T)$$"
   ]
  },
  {
   "cell_type": "markdown",
   "id": "23a09128",
   "metadata": {},
   "source": [
    "$$ = P(H)^1 \\cdot P(T)^9$$"
   ]
  },
  {
   "cell_type": "markdown",
   "id": "4c0d4fef",
   "metadata": {},
   "source": [
    "$$ = (0.5)^1 \\cdot (0.5)^9 $$"
   ]
  },
  {
   "cell_type": "markdown",
   "id": "78e77343",
   "metadata": {},
   "source": [
    "**Note:** All of the listed sequence have the same probability: $(0.5)^1 \\cdot (0.5)^9$\n",
    "\n",
    "Also, they are **mutually exclusive**, so this means that the probability of any of them occurring is the same as the sum of the individual probabilities.\n",
    "\n",
    "P(exactly one heads on 10 flips) = $10 \\cdot (0.5)^1 \\cdot (0.5)^9$"
   ]
  },
  {
   "cell_type": "code",
   "execution_count": 3,
   "id": "7cd01ecc",
   "metadata": {},
   "outputs": [
    {
     "data": {
      "text/plain": [
       "0.009765625"
      ]
     },
     "execution_count": 3,
     "metadata": {},
     "output_type": "execute_result"
    }
   ],
   "source": [
    "10 * (0.5)**1 * (0.5)**9"
   ]
  },
  {
   "cell_type": "markdown",
   "id": "a00f588b",
   "metadata": {},
   "source": [
    "**Harder Question:** How likely would it be for a fair coin to land on heads 8 times out of ten flips?"
   ]
  },
  {
   "cell_type": "markdown",
   "id": "8772dff0",
   "metadata": {},
   "source": [
    "**Sequences with exactly 8 heads:**\n",
    "\n",
    "HHTTTTTTTT  \n",
    "HTHTTTTTTT  \n",
    "HTTHTTTTTT\n",
    "...\n",
    "THTHTTTTTT\n",
    "...\n",
    "\n",
    "These are harder to list. \n",
    "\n",
    "Luckily, there is a shortcut - the binomial coefficients.\n",
    "\n",
    "$\\binom{n}{k} = \\frac{n!}{k!(n-k)!} = $ Number of ways to select $k$ options out of $n$ choices.\n",
    "\n",
    "How many sequences of 10 coin flips that have exactly 2 heads -> Choose 2 options out of 10 choices -> $\\binom{10}{2}$."
   ]
  },
  {
   "cell_type": "code",
   "execution_count": 4,
   "id": "8e3ca5e7",
   "metadata": {},
   "outputs": [],
   "source": [
    "from scipy.special import binom"
   ]
  },
  {
   "cell_type": "code",
   "execution_count": 5,
   "id": "6edb2c5c",
   "metadata": {},
   "outputs": [
    {
     "data": {
      "text/plain": [
       "45.0"
      ]
     },
     "execution_count": 5,
     "metadata": {},
     "output_type": "execute_result"
    }
   ],
   "source": [
    "binom(10,2)"
   ]
  },
  {
   "cell_type": "markdown",
   "id": "2d7297e2",
   "metadata": {},
   "source": [
    "Compare to sequences with 1 heads or 0:"
   ]
  },
  {
   "cell_type": "code",
   "execution_count": 14,
   "id": "462e1dab",
   "metadata": {},
   "outputs": [
    {
     "data": {
      "text/plain": [
       "10.0"
      ]
     },
     "execution_count": 14,
     "metadata": {},
     "output_type": "execute_result"
    }
   ],
   "source": [
    "binom(10,1)"
   ]
  },
  {
   "cell_type": "code",
   "execution_count": 15,
   "id": "85fad136",
   "metadata": {},
   "outputs": [
    {
     "data": {
      "text/plain": [
       "1.0"
      ]
     },
     "execution_count": 15,
     "metadata": {},
     "output_type": "execute_result"
    }
   ],
   "source": [
    "binom(10,0)"
   ]
  },
  {
   "cell_type": "markdown",
   "id": "09d0aff5",
   "metadata": {},
   "source": [
    "What is the probability of a sequence of 10 flips with exactly 2 heads.\n",
    "\n",
    "$\\binom{10}{2} \\cdot P(H)^2 \\cdot P(T)^8 = \\binom{10}{2} \\cdot P(0.5)^2 \\cdot P(0.5)^8$"
   ]
  },
  {
   "cell_type": "code",
   "execution_count": 16,
   "id": "34132fe0",
   "metadata": {},
   "outputs": [
    {
     "data": {
      "text/plain": [
       "0.0439453125"
      ]
     },
     "execution_count": 16,
     "metadata": {},
     "output_type": "execute_result"
    }
   ],
   "source": [
    "binom(10,2) * (0.5)**2 * (0.5)**8"
   ]
  },
  {
   "cell_type": "markdown",
   "id": "48b2c5d3",
   "metadata": {},
   "source": [
    "**Can we do this for any number of heads?** \n",
    "\n",
    "The probability of exactly $k$ heads on 10 flips:\n",
    "\n",
    "$\\binom{10}{k} \\cdot (0.5)^k \\cdot (0.5)^{(10-k)}$\n",
    "\n",
    "\n",
    "**Can we do this for any number of flips?**\n",
    "\n",
    "The probability of exactly $k$ heads on $n$ flips:\n",
    "\n",
    "$\\binom{n}{k} \\cdot (0.5)^k \\cdot (0.5)^{(n-k)}$"
   ]
  },
  {
   "cell_type": "markdown",
   "id": "c858c6c1",
   "metadata": {},
   "source": [
    "**Are we done?** If we say just a single flip land on heads, this is strong evidence that the coin is not fair?\n",
    "\n",
    "How many sequences did we do before seeing a sequence where there was exactly one heads? \n",
    "\n",
    "Let's say we had to do 25 sequences before we saw the sequence with exactly one heads."
   ]
  },
  {
   "cell_type": "markdown",
   "id": "55da5425",
   "metadata": {},
   "source": [
    "X = Sequence with exactly one heads  \n",
    "Y = Any other sequence\n",
    "\n",
    "P(X) = 0.009765625  \n",
    "P(Y) = 1 - 0.009765625"
   ]
  },
  {
   "cell_type": "markdown",
   "id": "2ce53105",
   "metadata": {},
   "source": [
    "What is the probability of 25 sequences, one of which had exactly one heads?\n",
    "\n",
    "$\\binom{25}{1} \\cdot P(X)^1 \\cdot P(Y)^{24} = \\binom{25}{1}\\cdot (0.009765625)^1 \\cdot (1 - 0.009765625)^{24}$"
   ]
  },
  {
   "cell_type": "code",
   "execution_count": 13,
   "id": "6f063559",
   "metadata": {},
   "outputs": [
    {
     "data": {
      "text/plain": [
       "0.19290878806319517"
      ]
     },
     "execution_count": 13,
     "metadata": {},
     "output_type": "execute_result"
    }
   ],
   "source": [
    "binom(25, 1) * (0.009765625)**1 * (1 - 0.009765625)**24"
   ]
  },
  {
   "cell_type": "markdown",
   "id": "df384a40",
   "metadata": {},
   "source": [
    "**Can we generalize?**  \n",
    "\n",
    "Let's say we are conducting $n$ **indepdendent** trials.\n",
    "\n",
    "$X$ = \"success\"  \n",
    "$Y$ = \"failure\" = any outcome besides $X$\n",
    "\n",
    "probabilities:  \n",
    "$P(X)$  \n",
    "$P(Y) = 1 - P(X)$"
   ]
  },
  {
   "cell_type": "markdown",
   "id": "3f294224",
   "metadata": {},
   "source": [
    "P(exactly $k$ success in $n$ trials) = $\\binom{n}{k} \\cdot P(X)^k \\cdot (1 - P(X))^{n-k}$\n",
    "\n",
    "This is called the **binomial distribution**."
   ]
  }
 ],
 "metadata": {
  "kernelspec": {
   "display_name": "Python 3",
   "language": "python",
   "name": "python3"
  },
  "language_info": {
   "codemirror_mode": {
    "name": "ipython",
    "version": 3
   },
   "file_extension": ".py",
   "mimetype": "text/x-python",
   "name": "python",
   "nbconvert_exporter": "python",
   "pygments_lexer": "ipython3",
   "version": "3.8.3"
  }
 },
 "nbformat": 4,
 "nbformat_minor": 5
}
