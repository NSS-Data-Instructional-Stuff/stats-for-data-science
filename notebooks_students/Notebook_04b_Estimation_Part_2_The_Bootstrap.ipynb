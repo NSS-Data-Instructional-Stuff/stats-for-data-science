{
 "cells": [
  {
   "cell_type": "markdown",
   "metadata": {},
   "source": [
    "# Statistical Inference\n",
    "\n",
    "In this notebook, we'll see how to create bootstrap confidence intervals."
   ]
  },
  {
   "cell_type": "markdown",
   "metadata": {},
   "source": [
    "## Bootstrap Confidence Intervals\n",
    "\n",
    "The **empirical bootstrap** is a technique popularized by Bradley Efron in 1979. It is easy to understand and implement, but is just recently gaining popularity, since it is not really feasible without modern computing power. The bootstrap allows us to substitute fast computation for theoretical math.\n",
    "\n",
    "**Big Idea:** perform computations on the data itself to estimate the variation of statistics that are themselves computed from the same data. That is, the data is ‘pulling itself up by its own bootstrap.’ \n",
    "\n",
    "Since the bootstrap allows you to estimate the variance of the sampling distribution of these statistics, you can use this technique to construct confidence intervals."
   ]
  },
  {
   "cell_type": "code",
   "execution_count": null,
   "metadata": {},
   "outputs": [],
   "source": [
    "import pandas as pd\n",
    "import numpy as np\n",
    "import matplotlib.pyplot as plt\n",
    "%matplotlib inline"
   ]
  },
  {
   "cell_type": "markdown",
   "metadata": {},
   "source": [
    "You have already seen how to create a t-interval to estimate the population mean. Now, you will use the bootstrap to estimate the population median.\n",
    "\n",
    "You'll use the American Time Use Survey sleeping data again."
   ]
  },
  {
   "cell_type": "code",
   "execution_count": null,
   "metadata": {},
   "outputs": [],
   "source": [
    "sleeping = pd.read_csv('../data/atus_sleeping.csv')"
   ]
  },
  {
   "cell_type": "code",
   "execution_count": null,
   "metadata": {},
   "outputs": [],
   "source": [
    "sleeping.head()"
   ]
  },
  {
   "cell_type": "markdown",
   "metadata": {},
   "source": [
    "First, get a point estimate:"
   ]
  },
  {
   "cell_type": "code",
   "execution_count": null,
   "metadata": {},
   "outputs": [],
   "source": [
    "sleeping.minutes_spent_sleeping.median()"
   ]
  },
  {
   "cell_type": "markdown",
   "metadata": {},
   "source": [
    "The point estimate is 550 minutes."
   ]
  },
  {
   "cell_type": "markdown",
   "metadata": {},
   "source": [
    "Now, the idea is to repeatedly resample with replacement from the observations."
   ]
  },
  {
   "cell_type": "code",
   "execution_count": null,
   "metadata": {},
   "outputs": [],
   "source": [
    "point_estimate = np.median(sleeping.minutes_spent_sleeping)\n",
    "\n",
    "#Number of Resamples\n",
    "num_resamples = 10000\n",
    "\n",
    "#Confidence Level\n",
    "conf_level = 0.95\n",
    "\n",
    "#Divide the remaining area in half. Half for the left and half for the right\n",
    "margin = (1 - conf_level) / 2\n",
    "\n",
    "values = sleeping.minutes_spent_sleeping.to_list()\n",
    "\n",
    "resample_values = []\n",
    "\n",
    "for i in range(num_resamples):\n",
    "    #Resample with replacement\n",
    "    resample = np.random.choice(values, len(values))\n",
    "    \n",
    "    #Compute the resample median and save the value\n",
    "    resample_values.append(np.median(resample))\n",
    "\n",
    "#Find the quantiles of our resample values\n",
    "top_quantile = np.quantile(resample_values, q = 1 - margin)\n",
    "bottom_quantile = np.quantile(resample_values, q = margin)\n",
    "\n",
    "print('lower bound: ', point_estimate - (top_quantile - point_estimate))\n",
    "print('upper bound: ', point_estimate + (point_estimate - bottom_quantile))"
   ]
  },
  {
   "cell_type": "markdown",
   "metadata": {},
   "source": [
    "You can also look at the distribution of resample values, if you want to get an idea of the variance in the sample statistics."
   ]
  },
  {
   "cell_type": "code",
   "execution_count": null,
   "metadata": {},
   "outputs": [],
   "source": [
    "plt.hist(resample_values);"
   ]
  },
  {
   "cell_type": "markdown",
   "metadata": {},
   "source": [
    "Rather than have to rewrite or copy/paste the above code every time you want to do a bootstrap confidence interval, here is a function that can be used."
   ]
  },
  {
   "cell_type": "code",
   "execution_count": null,
   "metadata": {},
   "outputs": [],
   "source": [
    "from nssstats.bootstrap import bootstrap_ci"
   ]
  },
  {
   "cell_type": "markdown",
   "metadata": {},
   "source": [
    "To use this function, just pass in the values for which you want to perform bootstrap resampling along with the statistic you want to compute. "
   ]
  },
  {
   "cell_type": "code",
   "execution_count": null,
   "metadata": {},
   "outputs": [],
   "source": [
    "bootstrap_ci(sleeping['minutes_spent_sleeping'], statistic = np.median)"
   ]
  },
  {
   "cell_type": "markdown",
   "metadata": {},
   "source": [
    "## Bootstrap For Friday Crashes\n",
    "\n",
    "Let's say that you want to ensure that there are enough emergency responders scheduled for this upcoming Friday. You want to have a good idea of how many crashes you can expect so that there will be enough responders on call, but you do not want to schedule way too many.\n",
    "\n",
    "The file `friday_crashes.csv` contains the count of the number of reported accidents for all Fridays in 2018 in Davidson County.\n"
   ]
  },
  {
   "cell_type": "code",
   "execution_count": null,
   "metadata": {},
   "outputs": [],
   "source": [
    "friday_crashes = pd.read_csv('../data/friday_crashes.csv')"
   ]
  },
  {
   "cell_type": "code",
   "execution_count": null,
   "metadata": {},
   "outputs": [],
   "source": [
    "friday_crashes['Accident Number'].hist();"
   ]
  },
  {
   "cell_type": "markdown",
   "metadata": {},
   "source": [
    "While this contains data for every single Friday in 2018, you can view it as a sample for the *population* of *all*  Fridays. If you want to make inferences about all Fridays, you need to construct a confidence interval rather than just look at sample statistics.\n",
    "\n",
    "Perhaps you would like to have a good idea about what the 80th percentile of the number of crashes is. This way, enough responders can be scheduled so that they can cover 80% of cases.\n",
    "\n",
    "You can use the bootstrap to construct this interval. You can use the above function. This time, you need to specify that the statistic of interest is `np.quantile` and you also need to pass in the `q = 0.8` argument to specify that you're interested in the 80th percentile."
   ]
  },
  {
   "cell_type": "code",
   "execution_count": null,
   "metadata": {},
   "outputs": [],
   "source": [
    "bootstrap_ci(friday_crashes['Accident Number'].values, \n",
    "             statistic = np.quantile, q = 0.8)"
   ]
  },
  {
   "cell_type": "markdown",
   "metadata": {},
   "source": [
    "If you wanted to be extra cautious, you could plan for the upper value of this interval."
   ]
  },
  {
   "cell_type": "markdown",
   "metadata": {},
   "source": [
    "One of the advantages of using bootstrap resampling is that you can use it to compute a confidence interval for any statistic you like. Let's say you want a confidence interval for the standard deviation of the number of accidents."
   ]
  },
  {
   "cell_type": "code",
   "execution_count": null,
   "metadata": {},
   "outputs": [],
   "source": [
    "bootstrap_ci(friday_crashes['Accident Number'].values, \n",
    "             statistic = np.std)"
   ]
  }
 ],
 "metadata": {
  "kernelspec": {
   "display_name": "Python 3",
   "language": "python",
   "name": "python3"
  },
  "language_info": {
   "codemirror_mode": {
    "name": "ipython",
    "version": 3
   },
   "file_extension": ".py",
   "mimetype": "text/x-python",
   "name": "python",
   "nbconvert_exporter": "python",
   "pygments_lexer": "ipython3",
   "version": "3.7.6"
  }
 },
 "nbformat": 4,
 "nbformat_minor": 2
}
