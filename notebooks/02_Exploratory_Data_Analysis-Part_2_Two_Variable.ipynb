{
 "cells": [
  {
   "cell_type": "markdown",
   "metadata": {},
   "source": [
    "# EDA Part 2: Looking at Two-Variables"
   ]
  },
  {
   "cell_type": "markdown",
   "metadata": {},
   "source": [
    "Concepts:\n",
    "\n",
    "Scatterplots\n",
    "Covariance + Correlation (Linear and Rank???)\n",
    "\n",
    "Including Categorical Variables"
   ]
  },
  {
   "cell_type": "markdown",
   "metadata": {},
   "source": [
    "# Scatterplots\n",
    "\n",
    "So far, we have looked at exploring one variable at a time through summary statistics, histograms, boxplots, etc.\n",
    "\n",
    "What do we do when we have more than one numeric variable. We can start by visualizing the relationship between the variables through a scatterplot.\n",
    "\n",
    "A scatterplot can provide a quick view of the general relationship between variables. On a scatterplot, each point corresponds to a single observation."
   ]
  },
  {
   "cell_type": "markdown",
   "metadata": {},
   "source": [
    "## Things to Look for in a Scatterplot:\n",
    "\n",
    "1. **Direction of Association:** Positive or Negative\n",
    "2. **Form of Associatoin:** Linear? Curved? Neither?\n",
    "3. **Strength of Association**\n",
    "4. **Outliers**"
   ]
  },
  {
   "cell_type": "code",
   "execution_count": 1,
   "metadata": {},
   "outputs": [],
   "source": [
    "import pandas as pd\n",
    "import matplotlib.pyplot as plt\n",
    "%matplotlib inline"
   ]
  },
  {
   "cell_type": "code",
   "execution_count": 2,
   "metadata": {},
   "outputs": [],
   "source": [
    "cars = pd.read_csv('../data/auto-mpg.csv')"
   ]
  },
  {
   "cell_type": "code",
   "execution_count": 3,
   "metadata": {},
   "outputs": [
    {
     "data": {
      "text/html": [
       "<div>\n",
       "<style scoped>\n",
       "    .dataframe tbody tr th:only-of-type {\n",
       "        vertical-align: middle;\n",
       "    }\n",
       "\n",
       "    .dataframe tbody tr th {\n",
       "        vertical-align: top;\n",
       "    }\n",
       "\n",
       "    .dataframe thead th {\n",
       "        text-align: right;\n",
       "    }\n",
       "</style>\n",
       "<table border=\"1\" class=\"dataframe\">\n",
       "  <thead>\n",
       "    <tr style=\"text-align: right;\">\n",
       "      <th></th>\n",
       "      <th>mpg</th>\n",
       "      <th>cylinders</th>\n",
       "      <th>displacement</th>\n",
       "      <th>horsepower</th>\n",
       "      <th>weight</th>\n",
       "      <th>acceleration</th>\n",
       "      <th>model year</th>\n",
       "      <th>origin</th>\n",
       "      <th>car name</th>\n",
       "    </tr>\n",
       "  </thead>\n",
       "  <tbody>\n",
       "    <tr>\n",
       "      <th>0</th>\n",
       "      <td>18.0</td>\n",
       "      <td>8</td>\n",
       "      <td>307.0</td>\n",
       "      <td>130</td>\n",
       "      <td>3504</td>\n",
       "      <td>12.0</td>\n",
       "      <td>70</td>\n",
       "      <td>1</td>\n",
       "      <td>chevrolet chevelle malibu</td>\n",
       "    </tr>\n",
       "    <tr>\n",
       "      <th>1</th>\n",
       "      <td>15.0</td>\n",
       "      <td>8</td>\n",
       "      <td>350.0</td>\n",
       "      <td>165</td>\n",
       "      <td>3693</td>\n",
       "      <td>11.5</td>\n",
       "      <td>70</td>\n",
       "      <td>1</td>\n",
       "      <td>buick skylark 320</td>\n",
       "    </tr>\n",
       "    <tr>\n",
       "      <th>2</th>\n",
       "      <td>18.0</td>\n",
       "      <td>8</td>\n",
       "      <td>318.0</td>\n",
       "      <td>150</td>\n",
       "      <td>3436</td>\n",
       "      <td>11.0</td>\n",
       "      <td>70</td>\n",
       "      <td>1</td>\n",
       "      <td>plymouth satellite</td>\n",
       "    </tr>\n",
       "    <tr>\n",
       "      <th>3</th>\n",
       "      <td>16.0</td>\n",
       "      <td>8</td>\n",
       "      <td>304.0</td>\n",
       "      <td>150</td>\n",
       "      <td>3433</td>\n",
       "      <td>12.0</td>\n",
       "      <td>70</td>\n",
       "      <td>1</td>\n",
       "      <td>amc rebel sst</td>\n",
       "    </tr>\n",
       "    <tr>\n",
       "      <th>4</th>\n",
       "      <td>17.0</td>\n",
       "      <td>8</td>\n",
       "      <td>302.0</td>\n",
       "      <td>140</td>\n",
       "      <td>3449</td>\n",
       "      <td>10.5</td>\n",
       "      <td>70</td>\n",
       "      <td>1</td>\n",
       "      <td>ford torino</td>\n",
       "    </tr>\n",
       "  </tbody>\n",
       "</table>\n",
       "</div>"
      ],
      "text/plain": [
       "    mpg  cylinders  displacement horsepower  weight  acceleration  model year  \\\n",
       "0  18.0          8         307.0        130    3504          12.0          70   \n",
       "1  15.0          8         350.0        165    3693          11.5          70   \n",
       "2  18.0          8         318.0        150    3436          11.0          70   \n",
       "3  16.0          8         304.0        150    3433          12.0          70   \n",
       "4  17.0          8         302.0        140    3449          10.5          70   \n",
       "\n",
       "   origin                   car name  \n",
       "0       1  chevrolet chevelle malibu  \n",
       "1       1          buick skylark 320  \n",
       "2       1         plymouth satellite  \n",
       "3       1              amc rebel sst  \n",
       "4       1                ford torino  "
      ]
     },
     "execution_count": 3,
     "metadata": {},
     "output_type": "execute_result"
    }
   ],
   "source": [
    "cars.head()"
   ]
  },
  {
   "cell_type": "code",
   "execution_count": 9,
   "metadata": {},
   "outputs": [],
   "source": [
    "cars.horsepower = pd.to_numeric(cars.horsepower, errors='coerce')"
   ]
  },
  {
   "cell_type": "code",
   "execution_count": 11,
   "metadata": {},
   "outputs": [],
   "source": [
    "cars = cars.dropna()"
   ]
  },
  {
   "cell_type": "code",
   "execution_count": 14,
   "metadata": {},
   "outputs": [
    {
     "data": {
      "image/png": "[encoded data removed]",
      "text/plain": [
       "<Figure size 432x288 with 1 Axes>"
      ]
     },
     "metadata": {
      "needs_background": "light"
     },
     "output_type": "display_data"
    }
   ],
   "source": [
    "cars.plot(kind = 'scatter', x = 'displacement', y = 'horsepower')\n",
    "plt.title('Horsepower vs. Displacement');"
   ]
  },
  {
   "cell_type": "markdown",
   "metadata": {},
   "source": [
    "What we see is a fairly strong positive association between displacement and horsepower. Cars with greater engine displacement tend to also have larger horsepower. Also, this is a linear trend, meaning we could draw a straight line to describe the association."
   ]
  },
  {
   "cell_type": "code",
   "execution_count": 15,
   "metadata": {},
   "outputs": [],
   "source": [
    "from ipywidgets import interact"
   ]
  },
  {
   "cell_type": "code",
   "execution_count": 16,
   "metadata": {},
   "outputs": [
    {
     "data": {
      "application/vnd.jupyter.widget-view+json": {
       "model_id": "ccee57ced85247f6a7ad8715689e23d4",
       "version_major": 2,
       "version_minor": 0
      },
      "text/plain": [
       "interactive(children=(Dropdown(description='x', options=('mpg', 'cylinders', 'displacement', 'horsepower', 'we…"
      ]
     },
     "metadata": {},
     "output_type": "display_data"
    }
   ],
   "source": [
    "@interact(x = cars.columns, y = cars.columns)\n",
    "def make_plot(x, y):\n",
    "    cars.plot(kind = 'scatter', x = x, y = y)\n",
    "    plt.title('{} vs. {}'.format(y, x));"
   ]
  },
  {
   "cell_type": "code",
   "execution_count": 17,
   "metadata": {},
   "outputs": [
    {
     "data": {
      "image/png": "[encoded data removed]",
      "text/plain": [
       "<Figure size 432x288 with 1 Axes>"
      ]
     },
     "metadata": {
      "needs_background": "light"
     },
     "output_type": "display_data"
    }
   ],
   "source": [
    "cars.plot(kind = 'scatter', x = 'horsepower', y = 'mpg')\n",
    "plt.title('Mile per Gallon vs. Horsepower');"
   ]
  },
  {
   "cell_type": "markdown",
   "metadata": {},
   "source": [
    "On the other hand, there is a negative association between horsepower and mpg, meaning that cars with greater horsepower tend to get worse gas mileage.\n",
    "\n",
    "This trend appears to be slightly curved when compared to the previous trend.\n",
    "\n",
    "Also, there is at least one point that stand out for the normal trend: the point with more than 125 horsepower and more than 30 mpg. Let's investigate this point."
   ]
  },
  {
   "cell_type": "code",
   "execution_count": 19,
   "metadata": {},
   "outputs": [
    {
     "data": {
      "text/html": [
       "<div>\n",
       "<style scoped>\n",
       "    .dataframe tbody tr th:only-of-type {\n",
       "        vertical-align: middle;\n",
       "    }\n",
       "\n",
       "    .dataframe tbody tr th {\n",
       "        vertical-align: top;\n",
       "    }\n",
       "\n",
       "    .dataframe thead th {\n",
       "        text-align: right;\n",
       "    }\n",
       "</style>\n",
       "<table border=\"1\" class=\"dataframe\">\n",
       "  <thead>\n",
       "    <tr style=\"text-align: right;\">\n",
       "      <th></th>\n",
       "      <th>mpg</th>\n",
       "      <th>cylinders</th>\n",
       "      <th>displacement</th>\n",
       "      <th>horsepower</th>\n",
       "      <th>weight</th>\n",
       "      <th>acceleration</th>\n",
       "      <th>model year</th>\n",
       "      <th>origin</th>\n",
       "      <th>car name</th>\n",
       "    </tr>\n",
       "  </thead>\n",
       "  <tbody>\n",
       "    <tr>\n",
       "      <th>333</th>\n",
       "      <td>32.7</td>\n",
       "      <td>6</td>\n",
       "      <td>168.0</td>\n",
       "      <td>132.0</td>\n",
       "      <td>2910</td>\n",
       "      <td>11.4</td>\n",
       "      <td>80</td>\n",
       "      <td>3</td>\n",
       "      <td>datsun 280-zx</td>\n",
       "    </tr>\n",
       "  </tbody>\n",
       "</table>\n",
       "</div>"
      ],
      "text/plain": [
       "      mpg  cylinders  displacement  horsepower  weight  acceleration  \\\n",
       "333  32.7          6         168.0       132.0    2910          11.4   \n",
       "\n",
       "     model year  origin       car name  \n",
       "333          80       3  datsun 280-zx  "
      ]
     },
     "execution_count": 19,
     "metadata": {},
     "output_type": "execute_result"
    }
   ],
   "source": [
    "cars[(cars.horsepower > 125) & (cars.mpg > 30)]"
   ]
  },
  {
   "cell_type": "code",
   "execution_count": 27,
   "metadata": {},
   "outputs": [
    {
     "data": {
      "text/html": [
       "<div>\n",
       "<style scoped>\n",
       "    .dataframe tbody tr th:only-of-type {\n",
       "        vertical-align: middle;\n",
       "    }\n",
       "\n",
       "    .dataframe tbody tr th {\n",
       "        vertical-align: top;\n",
       "    }\n",
       "\n",
       "    .dataframe thead th {\n",
       "        text-align: right;\n",
       "    }\n",
       "</style>\n",
       "<table border=\"1\" class=\"dataframe\">\n",
       "  <thead>\n",
       "    <tr style=\"text-align: right;\">\n",
       "      <th></th>\n",
       "      <th>displacement</th>\n",
       "      <th>horsepower</th>\n",
       "    </tr>\n",
       "  </thead>\n",
       "  <tbody>\n",
       "    <tr>\n",
       "      <th>displacement</th>\n",
       "      <td>1.000000</td>\n",
       "      <td>0.897257</td>\n",
       "    </tr>\n",
       "    <tr>\n",
       "      <th>horsepower</th>\n",
       "      <td>0.897257</td>\n",
       "      <td>1.000000</td>\n",
       "    </tr>\n",
       "  </tbody>\n",
       "</table>\n",
       "</div>"
      ],
      "text/plain": [
       "              displacement  horsepower\n",
       "displacement      1.000000    0.897257\n",
       "horsepower        0.897257    1.000000"
      ]
     },
     "execution_count": 27,
     "metadata": {},
     "output_type": "execute_result"
    }
   ],
   "source": [
    "cars[['displacement', 'horsepower']].corr()"
   ]
  },
  {
   "cell_type": "code",
   "execution_count": 28,
   "metadata": {},
   "outputs": [
    {
     "data": {
      "text/html": [
       "<div>\n",
       "<style scoped>\n",
       "    .dataframe tbody tr th:only-of-type {\n",
       "        vertical-align: middle;\n",
       "    }\n",
       "\n",
       "    .dataframe tbody tr th {\n",
       "        vertical-align: top;\n",
       "    }\n",
       "\n",
       "    .dataframe thead th {\n",
       "        text-align: right;\n",
       "    }\n",
       "</style>\n",
       "<table border=\"1\" class=\"dataframe\">\n",
       "  <thead>\n",
       "    <tr style=\"text-align: right;\">\n",
       "      <th></th>\n",
       "      <th>mpg</th>\n",
       "      <th>horsepower</th>\n",
       "    </tr>\n",
       "  </thead>\n",
       "  <tbody>\n",
       "    <tr>\n",
       "      <th>mpg</th>\n",
       "      <td>1.000000</td>\n",
       "      <td>-0.853616</td>\n",
       "    </tr>\n",
       "    <tr>\n",
       "      <th>horsepower</th>\n",
       "      <td>-0.853616</td>\n",
       "      <td>1.000000</td>\n",
       "    </tr>\n",
       "  </tbody>\n",
       "</table>\n",
       "</div>"
      ],
      "text/plain": [
       "                 mpg  horsepower\n",
       "mpg         1.000000   -0.853616\n",
       "horsepower -0.853616    1.000000"
      ]
     },
     "execution_count": 28,
     "metadata": {},
     "output_type": "execute_result"
    }
   ],
   "source": [
    "cars[['mpg', 'horsepower']].corr(method = 'spearman')"
   ]
  },
  {
   "cell_type": "code",
   "execution_count": 6,
   "metadata": {},
   "outputs": [],
   "source": [
    "mlb = pd.read_csv('../data/mlb_salaries.csv')"
   ]
  },
  {
   "cell_type": "code",
   "execution_count": 7,
   "metadata": {},
   "outputs": [
    {
     "data": {
      "text/html": [
       "<div>\n",
       "<style scoped>\n",
       "    .dataframe tbody tr th:only-of-type {\n",
       "        vertical-align: middle;\n",
       "    }\n",
       "\n",
       "    .dataframe tbody tr th {\n",
       "        vertical-align: top;\n",
       "    }\n",
       "\n",
       "    .dataframe thead th {\n",
       "        text-align: right;\n",
       "    }\n",
       "</style>\n",
       "<table border=\"1\" class=\"dataframe\">\n",
       "  <thead>\n",
       "    <tr style=\"text-align: right;\">\n",
       "      <th></th>\n",
       "      <th>team</th>\n",
       "      <th>payroll</th>\n",
       "      <th>wins</th>\n",
       "    </tr>\n",
       "  </thead>\n",
       "  <tbody>\n",
       "    <tr>\n",
       "      <th>0</th>\n",
       "      <td>Arizona Diamondbacks</td>\n",
       "      <td>96777231</td>\n",
       "      <td>85</td>\n",
       "    </tr>\n",
       "    <tr>\n",
       "      <th>1</th>\n",
       "      <td>Atlanta Braves</td>\n",
       "      <td>89551043</td>\n",
       "      <td>97</td>\n",
       "    </tr>\n",
       "    <tr>\n",
       "      <th>2</th>\n",
       "      <td>Baltimore Orioles</td>\n",
       "      <td>61124882</td>\n",
       "      <td>54</td>\n",
       "    </tr>\n",
       "    <tr>\n",
       "      <th>3</th>\n",
       "      <td>Boston Red Sox</td>\n",
       "      <td>187232500</td>\n",
       "      <td>84</td>\n",
       "    </tr>\n",
       "    <tr>\n",
       "      <th>4</th>\n",
       "      <td>Chicago Cubs</td>\n",
       "      <td>194081714</td>\n",
       "      <td>84</td>\n",
       "    </tr>\n",
       "  </tbody>\n",
       "</table>\n",
       "</div>"
      ],
      "text/plain": [
       "                   team    payroll  wins\n",
       "0  Arizona Diamondbacks   96777231    85\n",
       "1        Atlanta Braves   89551043    97\n",
       "2     Baltimore Orioles   61124882    54\n",
       "3        Boston Red Sox  187232500    84\n",
       "4          Chicago Cubs  194081714    84"
      ]
     },
     "execution_count": 7,
     "metadata": {},
     "output_type": "execute_result"
    }
   ],
   "source": [
    "mlb.head()"
   ]
  },
  {
   "cell_type": "markdown",
   "metadata": {},
   "source": [
    "This dataframe contains the total team payroll and the number of wins for each Major League Baseball team during the 2019 season. We can start exploring this dataset by examining each of the variables one at a time."
   ]
  },
  {
   "cell_type": "code",
   "execution_count": 8,
   "metadata": {},
   "outputs": [
    {
     "data": {
      "text/html": [
       "<div>\n",
       "<style scoped>\n",
       "    .dataframe tbody tr th:only-of-type {\n",
       "        vertical-align: middle;\n",
       "    }\n",
       "\n",
       "    .dataframe tbody tr th {\n",
       "        vertical-align: top;\n",
       "    }\n",
       "\n",
       "    .dataframe thead th {\n",
       "        text-align: right;\n",
       "    }\n",
       "</style>\n",
       "<table border=\"1\" class=\"dataframe\">\n",
       "  <thead>\n",
       "    <tr style=\"text-align: right;\">\n",
       "      <th></th>\n",
       "      <th>payroll</th>\n",
       "      <th>wins</th>\n",
       "    </tr>\n",
       "  </thead>\n",
       "  <tbody>\n",
       "    <tr>\n",
       "      <th>count</th>\n",
       "      <td>3.000000e+01</td>\n",
       "      <td>30.000000</td>\n",
       "    </tr>\n",
       "    <tr>\n",
       "      <th>mean</th>\n",
       "      <td>1.054060e+08</td>\n",
       "      <td>80.966667</td>\n",
       "    </tr>\n",
       "    <tr>\n",
       "      <th>std</th>\n",
       "      <td>3.736332e+07</td>\n",
       "      <td>15.899433</td>\n",
       "    </tr>\n",
       "    <tr>\n",
       "      <th>min</th>\n",
       "      <td>4.908473e+07</td>\n",
       "      <td>47.000000</td>\n",
       "    </tr>\n",
       "    <tr>\n",
       "      <th>25%</th>\n",
       "      <td>8.390430e+07</td>\n",
       "      <td>70.250000</td>\n",
       "    </tr>\n",
       "    <tr>\n",
       "      <th>50%</th>\n",
       "      <td>1.004301e+08</td>\n",
       "      <td>82.500000</td>\n",
       "    </tr>\n",
       "    <tr>\n",
       "      <th>75%</th>\n",
       "      <td>1.253203e+08</td>\n",
       "      <td>93.000000</td>\n",
       "    </tr>\n",
       "    <tr>\n",
       "      <th>max</th>\n",
       "      <td>1.940817e+08</td>\n",
       "      <td>107.000000</td>\n",
       "    </tr>\n",
       "  </tbody>\n",
       "</table>\n",
       "</div>"
      ],
      "text/plain": [
       "            payroll        wins\n",
       "count  3.000000e+01   30.000000\n",
       "mean   1.054060e+08   80.966667\n",
       "std    3.736332e+07   15.899433\n",
       "min    4.908473e+07   47.000000\n",
       "25%    8.390430e+07   70.250000\n",
       "50%    1.004301e+08   82.500000\n",
       "75%    1.253203e+08   93.000000\n",
       "max    1.940817e+08  107.000000"
      ]
     },
     "execution_count": 8,
     "metadata": {},
     "output_type": "execute_result"
    }
   ],
   "source": [
    "mlb.describe()"
   ]
  },
  {
   "cell_type": "markdown",
   "metadata": {},
   "source": [
    "We can see that payrolls range from about a \\$50 million to almost \\$200 million, with an average payroll of about \\$100 million."
   ]
  },
  {
   "cell_type": "code",
   "execution_count": 10,
   "metadata": {},
   "outputs": [
    {
     "data": {
      "image/png": "[encoded data removed]",
      "text/plain": [
       "<Figure size 432x288 with 1 Axes>"
      ]
     },
     "metadata": {
      "needs_background": "light"
     },
     "output_type": "display_data"
    }
   ],
   "source": [
    "mlb.payroll.hist();"
   ]
  },
  {
   "cell_type": "code",
   "execution_count": 12,
   "metadata": {},
   "outputs": [
    {
     "data": {
      "image/png": "[encoded data removed]",
      "text/plain": [
       "<Figure size 432x288 with 1 Axes>"
      ]
     },
     "metadata": {
      "needs_background": "light"
     },
     "output_type": "display_data"
    }
   ],
   "source": [
    "mlb.wins.hist();"
   ]
  },
  {
   "cell_type": "markdown",
   "metadata": {},
   "source": [
    "We can look at these variables one at a time, but it might be more interesting to understand how they vary together. Do teams with higher payrolls tend to have more wins?"
   ]
  },
  {
   "cell_type": "code",
   "execution_count": 16,
   "metadata": {},
   "outputs": [
    {
     "data": {
      "image/png": "[encoded data removed]",
      "text/plain": [
       "<Figure size 432x288 with 1 Axes>"
      ]
     },
     "metadata": {
      "needs_background": "light"
     },
     "output_type": "display_data"
    }
   ],
   "source": [
    "mlb.plot(kind = 'scatter', x = 'payroll', y = 'wins')\n",
    "plt.title('MLB Wins vs. Payroll, 2019');"
   ]
  },
  {
   "cell_type": "markdown",
   "metadata": {},
   "source": [
    "From the scatterplot, if you squint just right, you can make out a very slight upward trend, meaning that as payrolls increase, the number of wins tends to increase as well. But, this is not universally true. We have a team with the lowest payroll winning almost 100 games, and two teams with very large payrolls only winning about 84 games.\n",
    "\n",
    "We'll now look at two ways to quantify the strength of a relationship between two variables."
   ]
  },
  {
   "cell_type": "markdown",
   "metadata": {},
   "source": [
    "## Covariance\n",
    "\n",
    "For a dataset $\\{(x_1, y_1), (x_2, y_2), \\ldots, (x_n, y_n)\\}$ we define the **covariance** as\n",
    "\n",
    "$$cov(X, Y) = \\frac{\\sum_{i=1}^n (x_i - \\bar{x})(y_i - \\bar{y})}{n-1}$$\n",
    "\n",
    "where $\\bar{x}$ is the mean of the $x_i$'s and $\\bar{y}$ is the mean of the $y_i$'s."
   ]
  },
  {
   "cell_type": "markdown",
   "metadata": {},
   "source": [
    "To calculate the covariance of our dataset, we can use the `cov` function from `numpy`. This will return the *covariance matrix*, which shows the variance of each variable separately along with the covariance between variables."
   ]
  },
  {
   "cell_type": "code",
   "execution_count": 31,
   "metadata": {},
   "outputs": [],
   "source": [
    "import numpy as np"
   ]
  },
  {
   "cell_type": "code",
   "execution_count": 32,
   "metadata": {},
   "outputs": [
    {
     "data": {
      "text/plain": [
       "array([[1.39601801e+15, 1.74793864e+08],\n",
       "       [1.74793864e+08, 2.52791954e+02]])"
      ]
     },
     "execution_count": 32,
     "metadata": {},
     "output_type": "execute_result"
    }
   ],
   "source": [
    "np.cov(mlb.payroll, mlb.wins)"
   ]
  },
  {
   "cell_type": "markdown",
   "metadata": {},
   "source": [
    "The covariance is what is located in the upper right and the lower left entries.\n",
    "\n",
    "So what does this measure?\n",
    "\n",
    "Let's look at our plot of payrolls again."
   ]
  },
  {
   "cell_type": "code",
   "execution_count": 21,
   "metadata": {},
   "outputs": [],
   "source": [
    "payroll_mean = mlb.payroll.mean()\n",
    "wins_mean = mlb.wins.mean()"
   ]
  },
  {
   "cell_type": "code",
   "execution_count": 29,
   "metadata": {},
   "outputs": [
    {
     "data": {
      "image/png": "[encoded data removed]",
      "text/plain": [
       "<Figure size 576x432 with 1 Axes>"
      ]
     },
     "metadata": {
      "needs_background": "light"
     },
     "output_type": "display_data"
    }
   ],
   "source": [
    "fig, ax = plt.subplots(figsize = (8,6))\n",
    "mlb.plot(kind = 'scatter', x = 'payroll', y = 'wins', ax = ax)\n",
    "plt.axvline(x = payroll_mean, color = 'black')\n",
    "plt.axhline(y = wins_mean, color = 'black')\n",
    "plt.title('MLB Wins vs. Payroll, 2019');"
   ]
  },
  {
   "cell_type": "markdown",
   "metadata": {},
   "source": [
    "Points in the upper left quadrant have lower than average payroll and higher than average number of wins. Thus, $(x_i - \\bar{x})(y_i - \\bar{y})$ will be a negative number times a positive number, so negative overall.\n",
    "\n",
    "Points in the lower left quadrant have lower than average payroll and lower than average number of wins. Thus, $(x_i - \\bar{x})(y_i - \\bar{y})$ will be a positive number times a positive number, so positive overall.\n",
    "\n",
    "Similarly, for points in the upper right quadrant, $(x_i - \\bar{x})(y_i - \\bar{y})$ will be positive, and for points in the lower right, $(x_i - \\bar{x})(y_i - \\bar{y})$ will be negative.\n",
    "\n",
    "If we have more points in the lower left and upper right, when finding the covariance, we will be adding a lot of positive numbers, so the outcome is likely to be positive.\n",
    "\n",
    "If we have more points in the upper left and lower right, when finding the covariance, we will be adding a lot of negative numbers, so the outcome is likely to be negative.\n",
    "\n",
    "These two scenarios correspond to a positive trend and a negative trend, respectively.\n",
    "\n",
    "On the other hand, if points are roughly evenly spread around the four quadrants (no trend), then when finding the covariance, we will be adding a lot of both positive and negative values, so overall, the covariance will be close to zero.\n",
    "\n",
    "Thus, by examining the sign and the magnitude of the covariance, we can get an idea of the existence or nonexistence of a trend in our data. But there is one major drawback, which is that the magnitude of $(x_i - \\bar{x})$ and $(y_i - \\bar{y})$ depend on the measurement scale of our variables. In this case, we are looking at millions of dollars on the one axis, and number of wins, which are in the ballpark of 50 to 110 on the other axis. So the differences corresponding to the salaries will far outweigh those for the number of wins.\n",
    "\n",
    "What would be better would be a way to standardize these differences, so that we get a unitless measure of trend. This is exactly what the correlation does."
   ]
  },
  {
   "cell_type": "markdown",
   "metadata": {},
   "source": [
    "## (Pearson) Correlation\n",
    "\n",
    "How can we normalize these differences? The most common way to do it is to convert it into units of standard deviations (by dividing the absolute differences by the standard deviation).\n",
    "\n",
    "$$ r = \\frac{\\sum_{i=1}^n \\frac{(x_i - \\bar{x})}{s_X}\\frac{(y_i - \\bar{y})}{s_Y}}{n-1} = \\frac{cov(X,Y)}{s_X \\cdot s_Y} $$"
   ]
  },
  {
   "cell_type": "markdown",
   "metadata": {},
   "source": [
    "Again, to find the correlation coefficient, we can use `numpy`."
   ]
  },
  {
   "cell_type": "code",
   "execution_count": 46,
   "metadata": {},
   "outputs": [
    {
     "data": {
      "text/plain": [
       "array([[1.       , 0.2942382],\n",
       "       [0.2942382, 1.       ]])"
      ]
     },
     "execution_count": 46,
     "metadata": {},
     "output_type": "execute_result"
    }
   ],
   "source": [
    "np.corrcoef(mlb.payroll, mlb.wins)"
   ]
  },
  {
   "cell_type": "markdown",
   "metadata": {},
   "source": [
    "This shows that there the correlation between payroll and number of wins is roughly 0.294.\n",
    "\n",
    "TODO: Add rule of thumb for correlation here.\n",
    "\n",
    "Note: The pearson correlation measures the strength of a *linear* relationship between variables. That is, how strongly they follow a line. If we want to see this trendline, we can use the polyfit method from numpy. We'll learn much more about this trendline when we talk about linear regression later in the course."
   ]
  },
  {
   "cell_type": "code",
   "execution_count": 53,
   "metadata": {},
   "outputs": [
    {
     "data": {
      "image/png": "[encoded data removed]",
      "text/plain": [
       "<Figure size 576x432 with 1 Axes>"
      ]
     },
     "metadata": {
      "needs_background": "light"
     },
     "output_type": "display_data"
    }
   ],
   "source": [
    "fig, ax = plt.subplots(figsize = (8,6))\n",
    "mlb.plot(kind = 'scatter', x = 'payroll', y = 'wins', ax = ax)\n",
    "\n",
    "x = np.linspace(50000000, 200000000, 100)\n",
    "z = np.polyfit(mlb.payroll, mlb.wins, 1)\n",
    "p = np.poly1d(z)\n",
    "plt.plot(x,p(x),\"r--\")\n",
    "\n",
    "plt.title('MLB Wins vs. Payroll, 2019');"
   ]
  },
  {
   "cell_type": "markdown",
   "metadata": {},
   "source": [
    "TODO maybe: Add Spearman correlation coefficient."
   ]
  },
  {
   "cell_type": "markdown",
   "metadata": {},
   "source": [
    "## Categorical-Categorical\n",
    "\n",
    "When studying two categorical variables, we can perform *cross-tabulation* to see how the sample is distributed across the categories.\n",
    "\n",
    "For this example, we'll look at data from the 2018 Central Park Squirrel Census, which can be obtained from https://data.cityofnewyork.us/Environment/2018-Central-Park-Squirrel-Census-Squirrel-Data/vfnx-vebw."
   ]
  },
  {
   "cell_type": "code",
   "execution_count": 4,
   "metadata": {},
   "outputs": [
    {
     "data": {
      "text/html": [
       "<div>\n",
       "<style scoped>\n",
       "    .dataframe tbody tr th:only-of-type {\n",
       "        vertical-align: middle;\n",
       "    }\n",
       "\n",
       "    .dataframe tbody tr th {\n",
       "        vertical-align: top;\n",
       "    }\n",
       "\n",
       "    .dataframe thead th {\n",
       "        text-align: right;\n",
       "    }\n",
       "</style>\n",
       "<table border=\"1\" class=\"dataframe\">\n",
       "  <thead>\n",
       "    <tr style=\"text-align: right;\">\n",
       "      <th></th>\n",
       "      <th>X</th>\n",
       "      <th>Y</th>\n",
       "      <th>Unique Squirrel ID</th>\n",
       "      <th>Hectare</th>\n",
       "      <th>Shift</th>\n",
       "      <th>Date</th>\n",
       "      <th>Hectare Squirrel Number</th>\n",
       "      <th>Age</th>\n",
       "      <th>Primary Fur Color</th>\n",
       "      <th>Highlight Fur Color</th>\n",
       "      <th>...</th>\n",
       "      <th>Approaches</th>\n",
       "      <th>Indifferent</th>\n",
       "      <th>Runs from</th>\n",
       "      <th>Other Interactions</th>\n",
       "      <th>Lat/Long</th>\n",
       "      <th>Zip Codes</th>\n",
       "      <th>Community Districts</th>\n",
       "      <th>Borough Boundaries</th>\n",
       "      <th>City Council Districts</th>\n",
       "      <th>Police Precincts</th>\n",
       "    </tr>\n",
       "  </thead>\n",
       "  <tbody>\n",
       "    <tr>\n",
       "      <th>0</th>\n",
       "      <td>-73.956134</td>\n",
       "      <td>40.794082</td>\n",
       "      <td>37F-PM-1014-03</td>\n",
       "      <td>37F</td>\n",
       "      <td>PM</td>\n",
       "      <td>10142018</td>\n",
       "      <td>3</td>\n",
       "      <td>NaN</td>\n",
       "      <td>NaN</td>\n",
       "      <td>NaN</td>\n",
       "      <td>...</td>\n",
       "      <td>False</td>\n",
       "      <td>False</td>\n",
       "      <td>False</td>\n",
       "      <td>NaN</td>\n",
       "      <td>POINT (-73.9561344937861 40.7940823884086)</td>\n",
       "      <td>NaN</td>\n",
       "      <td>19</td>\n",
       "      <td>4</td>\n",
       "      <td>19</td>\n",
       "      <td>13</td>\n",
       "    </tr>\n",
       "    <tr>\n",
       "      <th>1</th>\n",
       "      <td>-73.957044</td>\n",
       "      <td>40.794851</td>\n",
       "      <td>37E-PM-1006-03</td>\n",
       "      <td>37E</td>\n",
       "      <td>PM</td>\n",
       "      <td>10062018</td>\n",
       "      <td>3</td>\n",
       "      <td>Adult</td>\n",
       "      <td>Gray</td>\n",
       "      <td>Cinnamon</td>\n",
       "      <td>...</td>\n",
       "      <td>False</td>\n",
       "      <td>False</td>\n",
       "      <td>True</td>\n",
       "      <td>me</td>\n",
       "      <td>POINT (-73.9570437717691 40.794850940803904)</td>\n",
       "      <td>NaN</td>\n",
       "      <td>19</td>\n",
       "      <td>4</td>\n",
       "      <td>19</td>\n",
       "      <td>13</td>\n",
       "    </tr>\n",
       "    <tr>\n",
       "      <th>2</th>\n",
       "      <td>-73.976831</td>\n",
       "      <td>40.766718</td>\n",
       "      <td>2E-AM-1010-03</td>\n",
       "      <td>02E</td>\n",
       "      <td>AM</td>\n",
       "      <td>10102018</td>\n",
       "      <td>3</td>\n",
       "      <td>Adult</td>\n",
       "      <td>Cinnamon</td>\n",
       "      <td>NaN</td>\n",
       "      <td>...</td>\n",
       "      <td>False</td>\n",
       "      <td>True</td>\n",
       "      <td>False</td>\n",
       "      <td>NaN</td>\n",
       "      <td>POINT (-73.9768311751004 40.76671780725581)</td>\n",
       "      <td>NaN</td>\n",
       "      <td>19</td>\n",
       "      <td>4</td>\n",
       "      <td>19</td>\n",
       "      <td>13</td>\n",
       "    </tr>\n",
       "    <tr>\n",
       "      <th>3</th>\n",
       "      <td>-73.975725</td>\n",
       "      <td>40.769703</td>\n",
       "      <td>5D-PM-1018-05</td>\n",
       "      <td>05D</td>\n",
       "      <td>PM</td>\n",
       "      <td>10182018</td>\n",
       "      <td>5</td>\n",
       "      <td>Juvenile</td>\n",
       "      <td>Gray</td>\n",
       "      <td>NaN</td>\n",
       "      <td>...</td>\n",
       "      <td>False</td>\n",
       "      <td>False</td>\n",
       "      <td>True</td>\n",
       "      <td>NaN</td>\n",
       "      <td>POINT (-73.9757249834141 40.7697032606755)</td>\n",
       "      <td>NaN</td>\n",
       "      <td>19</td>\n",
       "      <td>4</td>\n",
       "      <td>19</td>\n",
       "      <td>13</td>\n",
       "    </tr>\n",
       "    <tr>\n",
       "      <th>4</th>\n",
       "      <td>-73.959313</td>\n",
       "      <td>40.797533</td>\n",
       "      <td>39B-AM-1018-01</td>\n",
       "      <td>39B</td>\n",
       "      <td>AM</td>\n",
       "      <td>10182018</td>\n",
       "      <td>1</td>\n",
       "      <td>NaN</td>\n",
       "      <td>NaN</td>\n",
       "      <td>NaN</td>\n",
       "      <td>...</td>\n",
       "      <td>False</td>\n",
       "      <td>False</td>\n",
       "      <td>False</td>\n",
       "      <td>NaN</td>\n",
       "      <td>POINT (-73.9593126695714 40.797533370163)</td>\n",
       "      <td>NaN</td>\n",
       "      <td>19</td>\n",
       "      <td>4</td>\n",
       "      <td>19</td>\n",
       "      <td>13</td>\n",
       "    </tr>\n",
       "  </tbody>\n",
       "</table>\n",
       "<p>5 rows × 36 columns</p>\n",
       "</div>"
      ],
      "text/plain": [
       "           X          Y Unique Squirrel ID Hectare Shift      Date  \\\n",
       "0 -73.956134  40.794082     37F-PM-1014-03     37F    PM  10142018   \n",
       "1 -73.957044  40.794851     37E-PM-1006-03     37E    PM  10062018   \n",
       "2 -73.976831  40.766718      2E-AM-1010-03     02E    AM  10102018   \n",
       "3 -73.975725  40.769703      5D-PM-1018-05     05D    PM  10182018   \n",
       "4 -73.959313  40.797533     39B-AM-1018-01     39B    AM  10182018   \n",
       "\n",
       "   Hectare Squirrel Number       Age Primary Fur Color Highlight Fur Color  \\\n",
       "0                        3       NaN               NaN                 NaN   \n",
       "1                        3     Adult              Gray            Cinnamon   \n",
       "2                        3     Adult          Cinnamon                 NaN   \n",
       "3                        5  Juvenile              Gray                 NaN   \n",
       "4                        1       NaN               NaN                 NaN   \n",
       "\n",
       "   ... Approaches Indifferent Runs from Other Interactions  \\\n",
       "0  ...      False       False     False                NaN   \n",
       "1  ...      False       False      True                 me   \n",
       "2  ...      False        True     False                NaN   \n",
       "3  ...      False       False      True                NaN   \n",
       "4  ...      False       False     False                NaN   \n",
       "\n",
       "                                       Lat/Long  Zip Codes  \\\n",
       "0    POINT (-73.9561344937861 40.7940823884086)        NaN   \n",
       "1  POINT (-73.9570437717691 40.794850940803904)        NaN   \n",
       "2   POINT (-73.9768311751004 40.76671780725581)        NaN   \n",
       "3    POINT (-73.9757249834141 40.7697032606755)        NaN   \n",
       "4     POINT (-73.9593126695714 40.797533370163)        NaN   \n",
       "\n",
       "   Community Districts  Borough Boundaries  City Council Districts  \\\n",
       "0                   19                   4                      19   \n",
       "1                   19                   4                      19   \n",
       "2                   19                   4                      19   \n",
       "3                   19                   4                      19   \n",
       "4                   19                   4                      19   \n",
       "\n",
       "   Police Precincts  \n",
       "0                13  \n",
       "1                13  \n",
       "2                13  \n",
       "3                13  \n",
       "4                13  \n",
       "\n",
       "[5 rows x 36 columns]"
      ]
     },
     "execution_count": 4,
     "metadata": {},
     "output_type": "execute_result"
    }
   ],
   "source": [
    "squirrels = pd.read_csv('../data/2018_Central_Park_Squirrel_Census_-_Squirrel_Data.csv')\n",
    "squirrels.head()"
   ]
  },
  {
   "cell_type": "markdown",
   "metadata": {},
   "source": [
    "Let's say we are interested in seeing if squirrels of different colors behave differently around humans. We'll be looking specifically at the `Primary Fur Color` and `Runs from` column, which indicates \"Squirrel was seen running from humans, seeing them as a threat.\" We'll be using the `pandas` `crosstab` function for this."
   ]
  },
  {
   "cell_type": "code",
   "execution_count": 6,
   "metadata": {},
   "outputs": [
    {
     "data": {
      "text/html": [
       "<div>\n",
       "<style scoped>\n",
       "    .dataframe tbody tr th:only-of-type {\n",
       "        vertical-align: middle;\n",
       "    }\n",
       "\n",
       "    .dataframe tbody tr th {\n",
       "        vertical-align: top;\n",
       "    }\n",
       "\n",
       "    .dataframe thead th {\n",
       "        text-align: right;\n",
       "    }\n",
       "</style>\n",
       "<table border=\"1\" class=\"dataframe\">\n",
       "  <thead>\n",
       "    <tr style=\"text-align: right;\">\n",
       "      <th>Runs from</th>\n",
       "      <th>False</th>\n",
       "      <th>True</th>\n",
       "    </tr>\n",
       "    <tr>\n",
       "      <th>Primary Fur Color</th>\n",
       "      <th></th>\n",
       "      <th></th>\n",
       "    </tr>\n",
       "  </thead>\n",
       "  <tbody>\n",
       "    <tr>\n",
       "      <th>Black</th>\n",
       "      <td>71</td>\n",
       "      <td>32</td>\n",
       "    </tr>\n",
       "    <tr>\n",
       "      <th>Cinnamon</th>\n",
       "      <td>305</td>\n",
       "      <td>87</td>\n",
       "    </tr>\n",
       "    <tr>\n",
       "      <th>Gray</th>\n",
       "      <td>1922</td>\n",
       "      <td>551</td>\n",
       "    </tr>\n",
       "  </tbody>\n",
       "</table>\n",
       "</div>"
      ],
      "text/plain": [
       "Runs from          False  True \n",
       "Primary Fur Color              \n",
       "Black                 71     32\n",
       "Cinnamon             305     87\n",
       "Gray                1922    551"
      ]
     },
     "execution_count": 6,
     "metadata": {},
     "output_type": "execute_result"
    }
   ],
   "source": [
    "pd.crosstab(squirrels['Primary Fur Color'], squirrels['Runs from'])"
   ]
  },
  {
   "cell_type": "markdown",
   "metadata": {},
   "source": [
    "By default, `crosstab` will return counts, which can give an idea about the relative size of each group, but makes it difficult to assess exact proportions. Luckily, we can normalize our measurements to give relative proportions by specifying the `normalize` argument. To normalize across rows, we can specify `normalize = True`."
   ]
  },
  {
   "cell_type": "code",
   "execution_count": 8,
   "metadata": {},
   "outputs": [
    {
     "data": {
      "text/html": [
       "<div>\n",
       "<style scoped>\n",
       "    .dataframe tbody tr th:only-of-type {\n",
       "        vertical-align: middle;\n",
       "    }\n",
       "\n",
       "    .dataframe tbody tr th {\n",
       "        vertical-align: top;\n",
       "    }\n",
       "\n",
       "    .dataframe thead th {\n",
       "        text-align: right;\n",
       "    }\n",
       "</style>\n",
       "<table border=\"1\" class=\"dataframe\">\n",
       "  <thead>\n",
       "    <tr style=\"text-align: right;\">\n",
       "      <th>Runs from</th>\n",
       "      <th>False</th>\n",
       "      <th>True</th>\n",
       "    </tr>\n",
       "    <tr>\n",
       "      <th>Primary Fur Color</th>\n",
       "      <th></th>\n",
       "      <th></th>\n",
       "    </tr>\n",
       "  </thead>\n",
       "  <tbody>\n",
       "    <tr>\n",
       "      <th>Black</th>\n",
       "      <td>0.689320</td>\n",
       "      <td>0.310680</td>\n",
       "    </tr>\n",
       "    <tr>\n",
       "      <th>Cinnamon</th>\n",
       "      <td>0.778061</td>\n",
       "      <td>0.221939</td>\n",
       "    </tr>\n",
       "    <tr>\n",
       "      <th>Gray</th>\n",
       "      <td>0.777194</td>\n",
       "      <td>0.222806</td>\n",
       "    </tr>\n",
       "  </tbody>\n",
       "</table>\n",
       "</div>"
      ],
      "text/plain": [
       "Runs from             False     True \n",
       "Primary Fur Color                    \n",
       "Black              0.689320  0.310680\n",
       "Cinnamon           0.778061  0.221939\n",
       "Gray               0.777194  0.222806"
      ]
     },
     "execution_count": 8,
     "metadata": {},
     "output_type": "execute_result"
    }
   ],
   "source": [
    "pd.crosstab(squirrels['Primary Fur Color'], squirrels['Runs from'], normalize='index')"
   ]
  },
  {
   "cell_type": "markdown",
   "metadata": {},
   "source": [
    "Based on this, we can see that a larger proportion of black squirrels run from humans than other colors of squirrels.\n",
    "\n",
    "We can visualize our findings using a side-by-side barplot."
   ]
  },
  {
   "cell_type": "code",
   "execution_count": 16,
   "metadata": {},
   "outputs": [
    {
     "data": {
      "image/png": "[encoded data removed]",
      "text/plain": [
       "<Figure size 432x288 with 1 Axes>"
      ]
     },
     "metadata": {
      "needs_background": "light"
     },
     "output_type": "display_data"
    }
   ],
   "source": [
    "pd.crosstab(squirrels['Primary Fur Color'], squirrels['Runs from'], normalize='index').plot(kind = 'bar',\n",
    "                                                                                           edgecolor = 'black',\n",
    "                                                                                           width = 0.75)\n",
    "plt.ylabel('Proportion');"
   ]
  },
  {
   "cell_type": "code",
   "execution_count": 17,
   "metadata": {},
   "outputs": [
    {
     "data": {
      "image/png": "[encoded data removed]",
      "text/plain": [
       "<Figure size 432x288 with 1 Axes>"
      ]
     },
     "metadata": {
      "needs_background": "light"
     },
     "output_type": "display_data"
    }
   ],
   "source": [
    "pd.crosstab(squirrels['Primary Fur Color'], squirrels['Runs from'], normalize='index').plot(kind = 'bar',\n",
    "                                                                                           edgecolor = 'black',\n",
    "                                                                                           width = 0.75,\n",
    "                                                                                           stacked = True)\n",
    "plt.ylabel('Proportion');"
   ]
  },
  {
   "cell_type": "code",
   "execution_count": null,
   "metadata": {},
   "outputs": [],
   "source": []
  }
 ],
 "metadata": {
  "kernelspec": {
   "display_name": "Python 3",
   "language": "python",
   "name": "python3"
  },
  "language_info": {
   "codemirror_mode": {
    "name": "ipython",
    "version": 3
   },
   "file_extension": ".py",
   "mimetype": "text/x-python",
   "name": "python",
   "nbconvert_exporter": "python",
   "pygments_lexer": "ipython3",
   "version": "3.7.4"
  }
 },
 "nbformat": 4,
 "nbformat_minor": 2
}
