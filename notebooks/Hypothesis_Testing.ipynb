{
 "cells": [
  {
   "cell_type": "markdown",
   "metadata": {},
   "source": [
    "# Hypothesis Testing\n",
    "\n",
    "The goal of hypothesis testing is to determine whether observed effects that we see in a sample are likely to also appear in the larger population or whether it is likely that those were just due to the randomness inherent in taking a sample.\n",
    "\n",
    "We will be trying to answer “Given a sample and an apparent effect, what is the probability of seeing such an effect by chance?”\n",
    "\n",
    "Since we are only looking at a sample of the population, if we calculate statistics from this sample, we are unlikely to get the same values as the corresponding population parameters."
   ]
  },
  {
   "cell_type": "code",
   "execution_count": 1,
   "metadata": {},
   "outputs": [],
   "source": [
    "import numpy as np"
   ]
  },
  {
   "cell_type": "markdown",
   "metadata": {},
   "source": [
    "Let's take a sample of size 25 from a standard normal distribution. That is, a normal distribution with mean 0 and standard deviation 1."
   ]
  },
  {
   "cell_type": "code",
   "execution_count": 2,
   "metadata": {},
   "outputs": [],
   "source": [
    "np.random.seed(123)\n",
    "normal_sample = np.random.normal(loc = 0, size = 25)"
   ]
  },
  {
   "cell_type": "code",
   "execution_count": 3,
   "metadata": {},
   "outputs": [
    {
     "data": {
      "text/plain": [
       "0.1401027900713418"
      ]
     },
     "execution_count": 3,
     "metadata": {},
     "output_type": "execute_result"
    }
   ],
   "source": [
    "normal_sample.mean()"
   ]
  },
  {
   "cell_type": "markdown",
   "metadata": {},
   "source": [
    "Notice that even though our sample came from a population with mean 0, the sample mean was not zero. This apparent difference is due only to chance."
   ]
  },
  {
   "cell_type": "code",
   "execution_count": 4,
   "metadata": {},
   "outputs": [
    {
     "data": {
      "text/plain": [
       "-0.11355990790377175"
      ]
     },
     "execution_count": 4,
     "metadata": {},
     "output_type": "execute_result"
    }
   ],
   "source": [
    "normal_sample = np.random.normal(loc = 0, size = 25)\n",
    "normal_sample.mean()"
   ]
  },
  {
   "cell_type": "markdown",
   "metadata": {},
   "source": [
    "If we take a different sample, we get a different sample mean, also not equal to zero and this time negative."
   ]
  },
  {
   "cell_type": "markdown",
   "metadata": {},
   "source": [
    "## Hypothesis Testing Setup:\n",
    "\n",
    "We are trying to determine if an effect is due to actual differences at the population level, or if the observed differences that we see are just random noise. We do this, but giving random noise the benefit of the doubt. We tend to see patterns when what we are looking at is noise, so we start by assuming that what we see is just due to random noise. This assumption is called the null hypothesis.\n",
    "\n",
    "Null Hypothesis ($H_0$): There is no difference\n",
    "\n",
    "In order to conclude that there is an effect, we need to gather enough evidence to overcome the assumption of no effect.\n",
    "\n",
    "Alternative Hypothesis ($H_A$): There is a difference\n",
    "\n",
    "What we do is to see, under the assumption of the null hypothesis, how (un)likely it is to see an effect at least as large as the one we observed on the data. If our data is extremely unlikely (the usualy threshold is set at 5% or less likely), then we reject the null hypothesis in favor of the alternative hypothesis.\n",
    "\n",
    "## Type 1 and Type 2 Errors\n",
    "\n",
    "Why do we do hypothesis testing in this way? We don't want to conclude that there is an effect when there is not (avoiding false positives / type 1 errors)."
   ]
  },
  {
   "cell_type": "markdown",
   "metadata": {},
   "source": [
    "### Sampling Distributions\n",
    "\n",
    "Idea: We are looking at a sample and taking a statistic (eg. the mean). We need to understand the distribution of the sample means (across all possible samples)."
   ]
  },
  {
   "cell_type": "code",
   "execution_count": 5,
   "metadata": {},
   "outputs": [],
   "source": [
    "import numpy as np\n",
    "import matplotlib.pyplot as plt\n",
    "import scipy.stats as stats\n",
    "import seaborn as sns\n",
    "%matplotlib inline"
   ]
  },
  {
   "cell_type": "code",
   "execution_count": 6,
   "metadata": {},
   "outputs": [
    {
     "data": {
      "image/png": "[encoded data removed]",
      "text/plain": [
       "<Figure size 432x288 with 1 Axes>"
      ]
     },
     "metadata": {
      "needs_background": "light"
     },
     "output_type": "display_data"
    }
   ],
   "source": [
    "nd = stats.norm()\n",
    "x = np.linspace(stats.norm.ppf(0.001),\n",
    "                 stats.norm.ppf(0.999), 100)\n",
    "\n",
    "fig, ax = plt.subplots(1, 1)\n",
    "ax.plot(x, nd.pdf(x), 'k-', lw=2, label='frozen pdf');"
   ]
  },
  {
   "cell_type": "code",
   "execution_count": 7,
   "metadata": {},
   "outputs": [],
   "source": [
    "sample_means = []\n",
    "sample_size = 1000\n",
    "for _ in range(10000):\n",
    "    normal_sample = np.random.normal(loc = 0, size = sample_size)\n",
    "    sample_means.append(normal_sample.mean())"
   ]
  },
  {
   "cell_type": "code",
   "execution_count": 8,
   "metadata": {},
   "outputs": [
    {
     "data": {
      "image/png": "[encoded data removed]",
      "text/plain": [
       "<Figure size 432x288 with 1 Axes>"
      ]
     },
     "metadata": {
      "needs_background": "light"
     },
     "output_type": "display_data"
    }
   ],
   "source": [
    "nd = stats.norm()\n",
    "x = np.linspace(stats.norm.ppf(0.001),\n",
    "                 stats.norm.ppf(0.999), 100)\n",
    "\n",
    "fig, ax = plt.subplots(1, 1)\n",
    "ax.plot(x, nd.pdf(x), 'k-', lw=2, label='frozen pdf')\n",
    "\n",
    "sns.distplot(a = sample_means, ax = ax);"
   ]
  },
  {
   "cell_type": "code",
   "execution_count": 9,
   "metadata": {},
   "outputs": [
    {
     "data": {
      "text/plain": [
       "0.00041659574374614905"
      ]
     },
     "execution_count": 9,
     "metadata": {},
     "output_type": "execute_result"
    }
   ],
   "source": [
    "np.mean(sample_means)"
   ]
  },
  {
   "cell_type": "code",
   "execution_count": 10,
   "metadata": {},
   "outputs": [
    {
     "data": {
      "text/plain": [
       "0.031754123256387407"
      ]
     },
     "execution_count": 10,
     "metadata": {},
     "output_type": "execute_result"
    }
   ],
   "source": [
    "np.std(sample_means)"
   ]
  },
  {
   "cell_type": "code",
   "execution_count": 11,
   "metadata": {},
   "outputs": [
    {
     "data": {
      "text/plain": [
       "0.03162277660168379"
      ]
     },
     "execution_count": 11,
     "metadata": {},
     "output_type": "execute_result"
    }
   ],
   "source": [
    "1/np.sqrt(sample_size)"
   ]
  },
  {
   "cell_type": "markdown",
   "metadata": {},
   "source": [
    "Here is the distribution of sample means."
   ]
  },
  {
   "cell_type": "code",
   "execution_count": 12,
   "metadata": {},
   "outputs": [
    {
     "data": {
      "image/png": "[encoded data removed]",
      "text/plain": [
       "<Figure size 432x288 with 1 Axes>"
      ]
     },
     "metadata": {
      "needs_background": "light"
     },
     "output_type": "display_data"
    }
   ],
   "source": [
    "sns.distplot(a = sample_means);"
   ]
  },
  {
   "cell_type": "markdown",
   "metadata": {},
   "source": [
    "Fact: If $X \\sim N(\\mu,\\sigma)$, then the sampling distribution of the mean is normal with mean $\\mu$ and variance $\\frac{\\sigma^2}{n}$, where $n$ is the sample size."
   ]
  },
  {
   "cell_type": "markdown",
   "metadata": {},
   "source": [
    "## Central Limit Theorem\n",
    "\n",
    "(Maybe move this later? Or just do a demo with Shiny app)\n",
    "\n",
    "Given a population with a finite mean $\\mu$ and a finite non-zero variance $\\sigma^2$, the sampling distribution of the mean approaches a normal distribution with a mean of $\\mu$ and a variance of $\\frac{\\sigma^2}{n}$ as $n$, the sample size, increases.\n",
    "\n",
    "This says that no matter the population distribution (within reason), the sampling distribution approaches a normal one."
   ]
  },
  {
   "cell_type": "markdown",
   "metadata": {},
   "source": [
    "For example, let's look at a uniform distribution on [0,1]. This is a distribution with mean 0 and standard deviation $\\sqrt{\\frac{1}{12}}$"
   ]
  },
  {
   "cell_type": "code",
   "execution_count": 13,
   "metadata": {},
   "outputs": [],
   "source": [
    "from scipy.stats import uniform"
   ]
  },
  {
   "cell_type": "code",
   "execution_count": 14,
   "metadata": {},
   "outputs": [
    {
     "data": {
      "image/png": "[encoded data removed]",
      "text/plain": [
       "<Figure size 432x288 with 1 Axes>"
      ]
     },
     "metadata": {
      "needs_background": "light"
     },
     "output_type": "display_data"
    }
   ],
   "source": [
    "unif = uniform()\n",
    "x = np.linspace(0,1, 100)\n",
    "\n",
    "fig, ax = plt.subplots(1, 1)\n",
    "ax.plot(x, unif.pdf(x), 'k-', lw=2, label='frozen pdf');"
   ]
  },
  {
   "cell_type": "code",
   "execution_count": 15,
   "metadata": {},
   "outputs": [],
   "source": [
    "sample_means = []\n",
    "sample_size = 1000\n",
    "for _ in range(10000):\n",
    "    normal_sample = np.random.uniform(size = sample_size)\n",
    "    sample_means.append(normal_sample.mean())"
   ]
  },
  {
   "cell_type": "code",
   "execution_count": 16,
   "metadata": {},
   "outputs": [
    {
     "data": {
      "image/png": "[encoded data removed]",
      "text/plain": [
       "<Figure size 432x288 with 1 Axes>"
      ]
     },
     "metadata": {
      "needs_background": "light"
     },
     "output_type": "display_data"
    }
   ],
   "source": [
    "sns.distplot(a = sample_means);"
   ]
  },
  {
   "cell_type": "code",
   "execution_count": 17,
   "metadata": {},
   "outputs": [
    {
     "data": {
      "text/plain": [
       "0.4999283544405282"
      ]
     },
     "execution_count": 17,
     "metadata": {},
     "output_type": "execute_result"
    }
   ],
   "source": [
    "np.mean(sample_means)"
   ]
  },
  {
   "cell_type": "code",
   "execution_count": 18,
   "metadata": {},
   "outputs": [
    {
     "data": {
      "text/plain": [
       "0.009158324049752847"
      ]
     },
     "execution_count": 18,
     "metadata": {},
     "output_type": "execute_result"
    }
   ],
   "source": [
    "np.std(sample_means)"
   ]
  },
  {
   "cell_type": "code",
   "execution_count": 19,
   "metadata": {},
   "outputs": [
    {
     "data": {
      "text/plain": [
       "0.009128709291752768"
      ]
     },
     "execution_count": 19,
     "metadata": {},
     "output_type": "execute_result"
    }
   ],
   "source": [
    "np.sqrt(1/12) / np.sqrt(sample_size)"
   ]
  },
  {
   "cell_type": "code",
   "execution_count": null,
   "metadata": {},
   "outputs": [],
   "source": []
  },
  {
   "cell_type": "markdown",
   "metadata": {},
   "source": [
    "So if we know the population variance, and we assume something about the population mean (as in the null hypothesis), we know exactly what the sampling distribution would look like under the null hypothesis.\n",
    "\n",
    "But, this relies on knowing the population variance, which it seems very unlikely that we would if we don't know the population mean!\n",
    "\n",
    "The best that we can do is to estimate the population variance using the sample variance. So there is some amount of uncertainty in the sampling distribution of the mean.\n",
    "\n",
    "If we know that our data is (approximately) normally distributed,\n",
    "$$T = \\frac{X - \\mu}{S / \\sqrt{n}}$$\n",
    "follows a $t$-distribution with $n$-1 degrees of freedom."
   ]
  },
  {
   "cell_type": "code",
   "execution_count": 20,
   "metadata": {},
   "outputs": [],
   "source": [
    "from scipy.stats import t\n",
    "from ipywidgets import interact"
   ]
  },
  {
   "cell_type": "code",
   "execution_count": 21,
   "metadata": {},
   "outputs": [
    {
     "data": {
      "application/vnd.jupyter.widget-view+json": {
       "model_id": "cb1d67d7420648acb9e17dfb7ba9b2cf",
       "version_major": 2,
       "version_minor": 0
      },
      "text/plain": [
       "interactive(children=(IntSlider(value=5, description='df', max=15, min=-5), Output()), _dom_classes=('widget-i…"
      ]
     },
     "metadata": {},
     "output_type": "display_data"
    }
   ],
   "source": [
    "@interact(df = 5)\n",
    "def make_t_plot(df):\n",
    "    normal_dist = stats.norm()\n",
    "    t_dist = t(df = df)\n",
    "    x = np.linspace(stats.norm.ppf(0.0001),\n",
    "                     stats.norm.ppf(0.9999), 100)\n",
    "    fig, ax = plt.subplots(1, 1, figsize = (8,6))\n",
    "    ax.plot(x, normal_dist.pdf(x), 'k-', lw=2, label='normal pdf', color = 'blue')\n",
    "    ax.plot(x, t_dist.pdf(x), 'k-', lw=2, label = 't-distribution')\n",
    "    plt.legend()"
   ]
  },
  {
   "cell_type": "markdown",
   "metadata": {},
   "source": [
    "The $t$-distribution is similar to the normal distribution, in that it is symmetric. The main difference is that a $t$-distribution has \"fatter tails\". As the degrees of freedom increase, the $t$-distributions more and more closely approximate a normal distribution.\n",
    "\n",
    "In fact, is the sample size is at least 30, it is safe to simply use a normal distribution to estimate the sampling distribution of the mean."
   ]
  },
  {
   "cell_type": "code",
   "execution_count": 22,
   "metadata": {},
   "outputs": [
    {
     "data": {
      "image/png": "[encoded data removed]",
      "text/plain": [
       "<Figure size 576x432 with 1 Axes>"
      ]
     },
     "metadata": {
      "needs_background": "light"
     },
     "output_type": "display_data"
    }
   ],
   "source": [
    "make_t_plot(30)"
   ]
  },
  {
   "cell_type": "code",
   "execution_count": 24,
   "metadata": {},
   "outputs": [],
   "source": [
    "import pandas as pd"
   ]
  },
  {
   "cell_type": "markdown",
   "metadata": {},
   "source": [
    "The American Time Use Survey (ATUS) measures the amount of time people spend doing various activities, such as paid work, childcare, volunteering, and socializing. Based on this survey, Americans reported that on average, they spend 527 minutes sleeping.\n",
    "\n",
    "We think that perhaps people who are unemployed will spend more time on average sleeping. To try and determine if this is true, we have a sample of the amount of time spent sleeping as reported by 20 unemployed participants contained in the `time_use_sample.csv` file."
   ]
  },
  {
   "cell_type": "code",
   "execution_count": 27,
   "metadata": {},
   "outputs": [],
   "source": [
    "time_use_sample = pd.read_csv('../data/time_use_sample.csv')"
   ]
  },
  {
   "cell_type": "code",
   "execution_count": 28,
   "metadata": {},
   "outputs": [
    {
     "data": {
      "text/html": [
       "<div>\n",
       "<style scoped>\n",
       "    .dataframe tbody tr th:only-of-type {\n",
       "        vertical-align: middle;\n",
       "    }\n",
       "\n",
       "    .dataframe tbody tr th {\n",
       "        vertical-align: top;\n",
       "    }\n",
       "\n",
       "    .dataframe thead th {\n",
       "        text-align: right;\n",
       "    }\n",
       "</style>\n",
       "<table border=\"1\" class=\"dataframe\">\n",
       "  <thead>\n",
       "    <tr style=\"text-align: right;\">\n",
       "      <th></th>\n",
       "      <th>participant_id</th>\n",
       "      <th>minutes_spent_sleeping</th>\n",
       "    </tr>\n",
       "  </thead>\n",
       "  <tbody>\n",
       "    <tr>\n",
       "      <th>0</th>\n",
       "      <td>20180101180006</td>\n",
       "      <td>480</td>\n",
       "    </tr>\n",
       "    <tr>\n",
       "      <th>1</th>\n",
       "      <td>20180101180021</td>\n",
       "      <td>450</td>\n",
       "    </tr>\n",
       "    <tr>\n",
       "      <th>2</th>\n",
       "      <td>20180101180025</td>\n",
       "      <td>845</td>\n",
       "    </tr>\n",
       "    <tr>\n",
       "      <th>3</th>\n",
       "      <td>20180101180054</td>\n",
       "      <td>615</td>\n",
       "    </tr>\n",
       "    <tr>\n",
       "      <th>4</th>\n",
       "      <td>20180101180096</td>\n",
       "      <td>480</td>\n",
       "    </tr>\n",
       "  </tbody>\n",
       "</table>\n",
       "</div>"
      ],
      "text/plain": [
       "   participant_id  minutes_spent_sleeping\n",
       "0  20180101180006                     480\n",
       "1  20180101180021                     450\n",
       "2  20180101180025                     845\n",
       "3  20180101180054                     615\n",
       "4  20180101180096                     480"
      ]
     },
     "execution_count": 28,
     "metadata": {},
     "output_type": "execute_result"
    }
   ],
   "source": [
    "time_use_sample.head()"
   ]
  },
  {
   "cell_type": "markdown",
   "metadata": {},
   "source": [
    "Let's take a look at the distribution of reported sleeping times."
   ]
  },
  {
   "cell_type": "code",
   "execution_count": 31,
   "metadata": {},
   "outputs": [
    {
     "data": {
      "image/png": "[encoded data removed]",
      "text/plain": [
       "<Figure size 432x288 with 1 Axes>"
      ]
     },
     "metadata": {
      "needs_background": "light"
     },
     "output_type": "display_data"
    }
   ],
   "source": [
    "time_use_sample.minutes_spent_sleeping.hist();"
   ]
  },
  {
   "cell_type": "markdown",
   "metadata": {},
   "source": [
    "The overall distribution is slightly skewed to the right, but looks close enough to normal that we should be okay in using a $t$-test."
   ]
  },
  {
   "cell_type": "code",
   "execution_count": 32,
   "metadata": {},
   "outputs": [
    {
     "data": {
      "text/html": [
       "<div>\n",
       "<style scoped>\n",
       "    .dataframe tbody tr th:only-of-type {\n",
       "        vertical-align: middle;\n",
       "    }\n",
       "\n",
       "    .dataframe tbody tr th {\n",
       "        vertical-align: top;\n",
       "    }\n",
       "\n",
       "    .dataframe thead th {\n",
       "        text-align: right;\n",
       "    }\n",
       "</style>\n",
       "<table border=\"1\" class=\"dataframe\">\n",
       "  <thead>\n",
       "    <tr style=\"text-align: right;\">\n",
       "      <th></th>\n",
       "      <th>participant_id</th>\n",
       "      <th>minutes_spent_sleeping</th>\n",
       "    </tr>\n",
       "  </thead>\n",
       "  <tbody>\n",
       "    <tr>\n",
       "      <th>count</th>\n",
       "      <td>2.000000e+01</td>\n",
       "      <td>20.00000</td>\n",
       "    </tr>\n",
       "    <tr>\n",
       "      <th>mean</th>\n",
       "      <td>2.018010e+13</td>\n",
       "      <td>582.50000</td>\n",
       "    </tr>\n",
       "    <tr>\n",
       "      <th>std</th>\n",
       "      <td>3.136922e+02</td>\n",
       "      <td>176.33864</td>\n",
       "    </tr>\n",
       "    <tr>\n",
       "      <th>min</th>\n",
       "      <td>2.018010e+13</td>\n",
       "      <td>350.00000</td>\n",
       "    </tr>\n",
       "    <tr>\n",
       "      <th>25%</th>\n",
       "      <td>2.018010e+13</td>\n",
       "      <td>480.00000</td>\n",
       "    </tr>\n",
       "    <tr>\n",
       "      <th>50%</th>\n",
       "      <td>2.018010e+13</td>\n",
       "      <td>540.00000</td>\n",
       "    </tr>\n",
       "    <tr>\n",
       "      <th>75%</th>\n",
       "      <td>2.018010e+13</td>\n",
       "      <td>588.75000</td>\n",
       "    </tr>\n",
       "    <tr>\n",
       "      <th>max</th>\n",
       "      <td>2.018010e+13</td>\n",
       "      <td>1085.00000</td>\n",
       "    </tr>\n",
       "  </tbody>\n",
       "</table>\n",
       "</div>"
      ],
      "text/plain": [
       "       participant_id  minutes_spent_sleeping\n",
       "count    2.000000e+01                20.00000\n",
       "mean     2.018010e+13               582.50000\n",
       "std      3.136922e+02               176.33864\n",
       "min      2.018010e+13               350.00000\n",
       "25%      2.018010e+13               480.00000\n",
       "50%      2.018010e+13               540.00000\n",
       "75%      2.018010e+13               588.75000\n",
       "max      2.018010e+13              1085.00000"
      ]
     },
     "execution_count": 32,
     "metadata": {},
     "output_type": "execute_result"
    }
   ],
   "source": [
    "time_use_sample.describe()"
   ]
  },
  {
   "cell_type": "markdown",
   "metadata": {},
   "source": [
    "On average, in this sample, people reported sleeping for an average of 582.5 minutes, but there was quite a bit of variability, with the standard deviation being 176 minutes.\n",
    "\n",
    "Our sample mean was significantly higher (by almost an hour) than the overall average of 527 minutes. However, the high variability of the responses suggests that this difference may be due to sampling error and because of a true difference in the population.\n",
    "\n",
    "First, let's establish our null and alternative hypotheses. We're trying to determine if unemployed people get more sleep on average than the general population, so we'll start by assuming that they do not. That is the average amount of sleep for the unemployed population is equal to 527 minutes.\n",
    "\n",
    "$H_0: \\mu = 527$\n",
    "\n",
    "For our alternative hypothesis, we want to see if the average is higher for unemployed people.\n",
    "\n",
    "$H_A: \\mu > 527$\n",
    "\n",
    "This is a **one-tailed** test, since we are only interested in testing is the average is greater than 527, rather than if it is not equal to 527.\n"
   ]
  },
  {
   "cell_type": "code",
   "execution_count": 33,
   "metadata": {},
   "outputs": [],
   "source": [
    "from scipy.stats import ttest_1samp"
   ]
  },
  {
   "cell_type": "markdown",
   "metadata": {},
   "source": [
    "This will report a calculated $t$-statistic along with a $p$-value. This $p$-value says how likely, under the assumption of the null hypothesis, we would be to see an observed sample mean at least as extreme as the one observed in our sample.\n",
    "\n",
    "TODO: Mention significance level here.\n",
    "\n",
    "Warning - the function `ttest_1samp` does only two-sided tests. This means that we are checking whether the mean is not equal to the proposed population mean. By symmetry of $t$-distributions, we can adjust by cutting the reported $p$-value in half."
   ]
  },
  {
   "cell_type": "code",
   "execution_count": 39,
   "metadata": {},
   "outputs": [
    {
     "data": {
      "text/plain": [
       "Ttest_1sampResult(statistic=1.4075391880717358, pvalue=0.1754177339719552)"
      ]
     },
     "execution_count": 39,
     "metadata": {},
     "output_type": "execute_result"
    }
   ],
   "source": [
    "t_result = ttest_1samp(time_use_sample.minutes_spent_sleeping, popmean = 527)\n",
    "t_result"
   ]
  },
  {
   "cell_type": "markdown",
   "metadata": {},
   "source": [
    "What does this mean? Well, first we must divide the reported $p$-value in half since we are conducting a one-sided test."
   ]
  },
  {
   "cell_type": "code",
   "execution_count": 40,
   "metadata": {},
   "outputs": [
    {
     "data": {
      "text/plain": [
       "0.0877088669859776"
      ]
     },
     "execution_count": 40,
     "metadata": {},
     "output_type": "execute_result"
    }
   ],
   "source": [
    "t_result.pvalue / 2"
   ]
  },
  {
   "cell_type": "code",
   "execution_count": 63,
   "metadata": {},
   "outputs": [
    {
     "data": {
      "image/png": "[encoded data removed]",
      "text/plain": [
       "<Figure size 576x432 with 1 Axes>"
      ]
     },
     "metadata": {
      "needs_background": "light"
     },
     "output_type": "display_data"
    }
   ],
   "source": [
    "## TODO: Add annotations.\n",
    "\n",
    "t_dist = t(df = len(time_use_sample))\n",
    "x = np.linspace(-3, 3, 100)\n",
    "fig, ax = plt.subplots(1, 1, figsize = (8,6))\n",
    "\n",
    "ax.plot(x, t_dist.pdf(x), 'k-', lw=2, label = 't-distribution')\n",
    "\n",
    "ax.fill_between(x[x >= t_result.statistic], 0, t_dist.pdf(x[x >= t_result.statistic]))\n",
    "\n",
    "plt.plot([t_result.statistic, t_result.statistic], [0,t_dist.pdf(t_result.statistic)], color = 'black', linewidth = 2);\n",
    "\n",
    "plt.plot([-3, 3], [0,0], color = 'black', linewidth = 2);"
   ]
  },
  {
   "cell_type": "markdown",
   "metadata": {},
   "source": [
    "Based on the results of this test, we see that, even if the true mean is only 527, we will see a sample mean of at least 582.5 8.77% of the time. \n",
    "\n",
    "The standard is to only reject the null hypothesis if there is less than a 5% chance of the sample mean being as large as it was. In this case, we do not have enough evidence to  reject to conclude that unemployed people get more sleep than the general population.\n",
    "\n",
    "Let's try to understand why, even though there was such large difference (almost an hour), we were not able to conclude that this difference really exists. It has to do with two factors:\n",
    "\n",
    "* First, we had a very large sample standard deviation (120 minutes). When there is a lot of variability in the population, we get a wider sampling distribution, meaning that is it more likely for a given sample mean to be much different from the population mean.\n",
    "\n",
    "* Second, we have a small sample size. The sampling distribution of the mean's variance is inversely proportional to the sample size, so a small sample size results in a large variance in the sampling distribution, and hence, more likelihood of sample means far from the population mean."
   ]
  },
  {
   "cell_type": "markdown",
   "metadata": {},
   "source": [
    "Let's repeat this analysis, but this time with a larger sample size."
   ]
  },
  {
   "cell_type": "code",
   "execution_count": 77,
   "metadata": {},
   "outputs": [],
   "source": [
    "time_use_sample = pd.read_csv('../data/time_use_sample_b.csv')"
   ]
  },
  {
   "cell_type": "code",
   "execution_count": 78,
   "metadata": {},
   "outputs": [
    {
     "data": {
      "text/plain": [
       "count    1000.000000\n",
       "mean      539.354000\n",
       "std       149.885391\n",
       "min         0.000000\n",
       "25%       450.000000\n",
       "50%       540.000000\n",
       "75%       615.000000\n",
       "max      1350.000000\n",
       "Name: minutes_spent_sleeping, dtype: float64"
      ]
     },
     "execution_count": 78,
     "metadata": {},
     "output_type": "execute_result"
    }
   ],
   "source": [
    "time_use_sample.minutes_spent_sleeping.describe()"
   ]
  },
  {
   "cell_type": "code",
   "execution_count": 79,
   "metadata": {},
   "outputs": [
    {
     "data": {
      "image/png": "[encoded data removed]",
      "text/plain": [
       "<Figure size 432x288 with 1 Axes>"
      ]
     },
     "metadata": {
      "needs_background": "light"
     },
     "output_type": "display_data"
    }
   ],
   "source": [
    "time_use_sample.minutes_spent_sleeping.hist();"
   ]
  },
  {
   "cell_type": "code",
   "execution_count": 80,
   "metadata": {},
   "outputs": [
    {
     "data": {
      "text/plain": [
       "Ttest_1sampResult(statistic=2.606443367042204, pvalue=0.009285015789459897)"
      ]
     },
     "execution_count": 80,
     "metadata": {},
     "output_type": "execute_result"
    }
   ],
   "source": [
    "t_result = ttest_1samp(time_use_sample.minutes_spent_sleeping, popmean = 527)\n",
    "t_result"
   ]
  },
  {
   "cell_type": "code",
   "execution_count": 81,
   "metadata": {},
   "outputs": [
    {
     "data": {
      "text/plain": [
       "0.004642507894729949"
      ]
     },
     "execution_count": 81,
     "metadata": {},
     "output_type": "execute_result"
    }
   ],
   "source": [
    "t_result.pvalue / 2"
   ]
  },
  {
   "cell_type": "code",
   "execution_count": 84,
   "metadata": {},
   "outputs": [
    {
     "data": {
      "image/png": "[encoded data removed]",
      "text/plain": [
       "<Figure size 576x432 with 1 Axes>"
      ]
     },
     "metadata": {
      "needs_background": "light"
     },
     "output_type": "display_data"
    }
   ],
   "source": [
    "## TODO: Add annotations.\n",
    "\n",
    "t_dist = t(df = len(time_use_sample))\n",
    "x = np.linspace(-3, 3, 100)\n",
    "fig, ax = plt.subplots(1, 1, figsize = (8,6))\n",
    "\n",
    "ax.plot(x, t_dist.pdf(x), 'k-', lw=2, label = 't-distribution')\n",
    "\n",
    "\n",
    "x = np.linspace(t_result.statistic, 3, 20)\n",
    "ax.fill_between(x, 0, t_dist.pdf(x))\n",
    "\n",
    "plt.plot([t_result.statistic, t_result.statistic], [0,t_dist.pdf(t_result.statistic)], \n",
    "         color = 'black', linewidth = 2);\n",
    "\n",
    "plt.plot([-3, 3], [0,0], color = 'black', linewidth = 2);"
   ]
  },
  {
   "cell_type": "markdown",
   "metadata": {},
   "source": [
    "This time, we still have a very large sample standard deviation, but our sample size is so large, that the sampling distribution will have much lower variance.\n",
    "\n",
    "The $p$-value that we get shows that, if unemployed people slept on average for 527 minutes, there would only be a 0.5% chance of observing a sample mean at least as large as the one that we observed.\n",
    "\n",
    "This means that we can reject the null hypothesis in favor of the alternative hypothesis."
   ]
  },
  {
   "cell_type": "markdown",
   "metadata": {},
   "source": [
    "## Two-Sample Tests\n",
    "\n",
    "Oftentimes, we will be testing to see if there is a difference between two populations. For example, we might want to compare amount of time spent sleeping by the male population vs the female population from the American Time Use Survey."
   ]
  },
  {
   "cell_type": "code",
   "execution_count": 134,
   "metadata": {},
   "outputs": [],
   "source": [
    "sleeping = pd.read_csv('../data/atus_sleeping.csv')"
   ]
  },
  {
   "cell_type": "markdown",
   "metadata": {},
   "source": [
    "First, we can look at some summary statistics."
   ]
  },
  {
   "cell_type": "code",
   "execution_count": 135,
   "metadata": {},
   "outputs": [
    {
     "data": {
      "text/html": [
       "<div>\n",
       "<style scoped>\n",
       "    .dataframe tbody tr th:only-of-type {\n",
       "        vertical-align: middle;\n",
       "    }\n",
       "\n",
       "    .dataframe tbody tr th {\n",
       "        vertical-align: top;\n",
       "    }\n",
       "\n",
       "    .dataframe thead tr th {\n",
       "        text-align: left;\n",
       "    }\n",
       "\n",
       "    .dataframe thead tr:last-of-type th {\n",
       "        text-align: right;\n",
       "    }\n",
       "</style>\n",
       "<table border=\"1\" class=\"dataframe\">\n",
       "  <thead>\n",
       "    <tr>\n",
       "      <th></th>\n",
       "      <th colspan=\"8\" halign=\"left\">participant_id</th>\n",
       "      <th colspan=\"8\" halign=\"left\">minutes_spent_sleeping</th>\n",
       "    </tr>\n",
       "    <tr>\n",
       "      <th></th>\n",
       "      <th>count</th>\n",
       "      <th>mean</th>\n",
       "      <th>std</th>\n",
       "      <th>min</th>\n",
       "      <th>25%</th>\n",
       "      <th>50%</th>\n",
       "      <th>75%</th>\n",
       "      <th>max</th>\n",
       "      <th>count</th>\n",
       "      <th>mean</th>\n",
       "      <th>std</th>\n",
       "      <th>min</th>\n",
       "      <th>25%</th>\n",
       "      <th>50%</th>\n",
       "      <th>75%</th>\n",
       "      <th>max</th>\n",
       "    </tr>\n",
       "    <tr>\n",
       "      <th>sex</th>\n",
       "      <th></th>\n",
       "      <th></th>\n",
       "      <th></th>\n",
       "      <th></th>\n",
       "      <th></th>\n",
       "      <th></th>\n",
       "      <th></th>\n",
       "      <th></th>\n",
       "      <th></th>\n",
       "      <th></th>\n",
       "      <th></th>\n",
       "      <th></th>\n",
       "      <th></th>\n",
       "      <th></th>\n",
       "      <th></th>\n",
       "      <th></th>\n",
       "    </tr>\n",
       "  </thead>\n",
       "  <tbody>\n",
       "    <tr>\n",
       "      <th>Female</th>\n",
       "      <td>25.0</td>\n",
       "      <td>2.018058e+13</td>\n",
       "      <td>3.362890e+08</td>\n",
       "      <td>2.018011e+13</td>\n",
       "      <td>2.018030e+13</td>\n",
       "      <td>2.018050e+13</td>\n",
       "      <td>2.018081e+13</td>\n",
       "      <td>2.018121e+13</td>\n",
       "      <td>25.0</td>\n",
       "      <td>582.32</td>\n",
       "      <td>127.678868</td>\n",
       "      <td>330.0</td>\n",
       "      <td>500.0</td>\n",
       "      <td>584.0</td>\n",
       "      <td>660.0</td>\n",
       "      <td>955.0</td>\n",
       "    </tr>\n",
       "    <tr>\n",
       "      <th>Male</th>\n",
       "      <td>25.0</td>\n",
       "      <td>2.018072e+13</td>\n",
       "      <td>4.157344e+08</td>\n",
       "      <td>2.018010e+13</td>\n",
       "      <td>2.018030e+13</td>\n",
       "      <td>2.018081e+13</td>\n",
       "      <td>2.018111e+13</td>\n",
       "      <td>2.018121e+13</td>\n",
       "      <td>25.0</td>\n",
       "      <td>519.60</td>\n",
       "      <td>169.033774</td>\n",
       "      <td>270.0</td>\n",
       "      <td>420.0</td>\n",
       "      <td>485.0</td>\n",
       "      <td>629.0</td>\n",
       "      <td>1030.0</td>\n",
       "    </tr>\n",
       "  </tbody>\n",
       "</table>\n",
       "</div>"
      ],
      "text/plain": [
       "       participant_id                                                          \\\n",
       "                count          mean           std           min           25%   \n",
       "sex                                                                             \n",
       "Female           25.0  2.018058e+13  3.362890e+08  2.018011e+13  2.018030e+13   \n",
       "Male             25.0  2.018072e+13  4.157344e+08  2.018010e+13  2.018030e+13   \n",
       "\n",
       "                                                 minutes_spent_sleeping  \\\n",
       "                 50%           75%           max                  count   \n",
       "sex                                                                       \n",
       "Female  2.018050e+13  2.018081e+13  2.018121e+13                   25.0   \n",
       "Male    2.018081e+13  2.018111e+13  2.018121e+13                   25.0   \n",
       "\n",
       "                                                                \n",
       "          mean         std    min    25%    50%    75%     max  \n",
       "sex                                                             \n",
       "Female  582.32  127.678868  330.0  500.0  584.0  660.0   955.0  \n",
       "Male    519.60  169.033774  270.0  420.0  485.0  629.0  1030.0  "
      ]
     },
     "execution_count": 135,
     "metadata": {},
     "output_type": "execute_result"
    }
   ],
   "source": [
    "sleeping.groupby('sex').describe()"
   ]
  },
  {
   "cell_type": "code",
   "execution_count": 136,
   "metadata": {},
   "outputs": [
    {
     "data": {
      "image/png": "[encoded data removed]",
      "text/plain": [
       "<Figure size 432x288 with 1 Axes>"
      ]
     },
     "metadata": {
      "needs_background": "light"
     },
     "output_type": "display_data"
    }
   ],
   "source": [
    "sns.boxplot(data = sleeping, x = 'sex', y = 'minutes_spent_sleeping');"
   ]
  },
  {
   "cell_type": "markdown",
   "metadata": {},
   "source": [
    "We also need to look at our data to  ensure that it looks reasonably normally distributed."
   ]
  },
  {
   "cell_type": "code",
   "execution_count": 137,
   "metadata": {},
   "outputs": [
    {
     "data": {
      "image/png": "[encoded data removed]",
      "text/plain": [
       "<Figure size 432x288 with 1 Axes>"
      ]
     },
     "metadata": {
      "needs_background": "light"
     },
     "output_type": "display_data"
    }
   ],
   "source": [
    "sleeping.loc[sleeping.sex == 'Male', 'minutes_spent_sleeping'].hist();"
   ]
  },
  {
   "cell_type": "code",
   "execution_count": 138,
   "metadata": {},
   "outputs": [
    {
     "data": {
      "image/png": "[encoded data removed]",
      "text/plain": [
       "<Figure size 432x288 with 1 Axes>"
      ]
     },
     "metadata": {
      "needs_background": "light"
     },
     "output_type": "display_data"
    }
   ],
   "source": [
    "sleeping.loc[sleeping.sex == 'Female', 'minutes_spent_sleeping'].hist();"
   ]
  },
  {
   "cell_type": "markdown",
   "metadata": {},
   "source": [
    "There does appear to be a difference between males and females in terms of the amount of time spent sleeping. However, there is quite a bit of variability in our datasets, so we need to check to see how likely the difference that we observe is due simply to the randomness inherent in sampling."
   ]
  },
  {
   "cell_type": "markdown",
   "metadata": {},
   "source": [
    "First, let's set up our null and alternative hypotheses. Remember that the null hypothesis says that there is no difference between the population means. Let $\\mu_M$ represent the average time spent sleeping by males and $\\mu_F$ represent the average time spent sleeping by females.\n",
    "\n",
    "**Null Hypothesis:**\n",
    "\n",
    "$H_0: \\mu_M = \\mu_F$\n",
    "\n",
    "**Alternative Hypothesis:**\n",
    "\n",
    "$H_A: \\mu_M \\neq \\mu_F$"
   ]
  },
  {
   "cell_type": "code",
   "execution_count": 139,
   "metadata": {},
   "outputs": [],
   "source": [
    "from scipy.stats import ttest_ind"
   ]
  },
  {
   "cell_type": "markdown",
   "metadata": {},
   "source": [
    "When performing a 2-sample $t$-test, we have to decide whether we think that the two populations have equal variance. If not, we will do a modification, called the Welch's $t$-test. Based on our samples, it appears that the male times have more variance than the female times, so to be on the safe side, we'll assume unequal variances. We need to tell our function that we do not belive that the populations have equal variance. We do this by specifying the argument equal_var = False.\n",
    "\n",
    "http://daniellakens.blogspot.com/2015/01/always-use-welchs-t-test-instead-of.html"
   ]
  },
  {
   "cell_type": "code",
   "execution_count": 140,
   "metadata": {},
   "outputs": [
    {
     "data": {
      "text/plain": [
       "Ttest_indResult(statistic=-1.4803934746073193, pvalue=0.14578885880640693)"
      ]
     },
     "execution_count": 140,
     "metadata": {},
     "output_type": "execute_result"
    }
   ],
   "source": [
    "t_results = ttest_ind(sleeping.loc[sleeping.sex == 'Male', 'minutes_spent_sleeping'],\n",
    "                      sleeping.loc[sleeping.sex == 'Female', 'minutes_spent_sleeping'],\n",
    "                     equal_var = False)\n",
    "t_results"
   ]
  },
  {
   "cell_type": "markdown",
   "metadata": {},
   "source": [
    "What this tells us is that if the hypothesis that there is no difference between the population means is true, then we would only see a difference at least as large as the one we observed in our dataset 14.58% of the time. This does not meet the 5% threshold, so based on our sample we cannot conclude that there is a statistically significant difference between the average number of minutes spent sleeping between males and females."
   ]
  },
  {
   "cell_type": "markdown",
   "metadata": {},
   "source": [
    "## Non-Parametric Tests\n",
    "\n",
    "Using either a $t$-test of a $z$-test require us to assume that our observations come from a distribution which is approximately normal. But what if this is not true?\n",
    "\n",
    "We can use a non-parametric test. Eg. Wilcoxon signed-rank test"
   ]
  },
  {
   "cell_type": "code",
   "execution_count": 142,
   "metadata": {},
   "outputs": [],
   "source": [
    "grooming = pd.read_csv('../data/atus_grooming.csv')"
   ]
  },
  {
   "cell_type": "code",
   "execution_count": 143,
   "metadata": {},
   "outputs": [
    {
     "data": {
      "text/html": [
       "<div>\n",
       "<style scoped>\n",
       "    .dataframe tbody tr th:only-of-type {\n",
       "        vertical-align: middle;\n",
       "    }\n",
       "\n",
       "    .dataframe tbody tr th {\n",
       "        vertical-align: top;\n",
       "    }\n",
       "\n",
       "    .dataframe thead tr th {\n",
       "        text-align: left;\n",
       "    }\n",
       "\n",
       "    .dataframe thead tr:last-of-type th {\n",
       "        text-align: right;\n",
       "    }\n",
       "</style>\n",
       "<table border=\"1\" class=\"dataframe\">\n",
       "  <thead>\n",
       "    <tr>\n",
       "      <th></th>\n",
       "      <th colspan=\"8\" halign=\"left\">participant_id</th>\n",
       "      <th colspan=\"8\" halign=\"left\">minutes_spent_grooming</th>\n",
       "    </tr>\n",
       "    <tr>\n",
       "      <th></th>\n",
       "      <th>count</th>\n",
       "      <th>mean</th>\n",
       "      <th>std</th>\n",
       "      <th>min</th>\n",
       "      <th>25%</th>\n",
       "      <th>50%</th>\n",
       "      <th>75%</th>\n",
       "      <th>max</th>\n",
       "      <th>count</th>\n",
       "      <th>mean</th>\n",
       "      <th>std</th>\n",
       "      <th>min</th>\n",
       "      <th>25%</th>\n",
       "      <th>50%</th>\n",
       "      <th>75%</th>\n",
       "      <th>max</th>\n",
       "    </tr>\n",
       "    <tr>\n",
       "      <th>sex</th>\n",
       "      <th></th>\n",
       "      <th></th>\n",
       "      <th></th>\n",
       "      <th></th>\n",
       "      <th></th>\n",
       "      <th></th>\n",
       "      <th></th>\n",
       "      <th></th>\n",
       "      <th></th>\n",
       "      <th></th>\n",
       "      <th></th>\n",
       "      <th></th>\n",
       "      <th></th>\n",
       "      <th></th>\n",
       "      <th></th>\n",
       "      <th></th>\n",
       "    </tr>\n",
       "  </thead>\n",
       "  <tbody>\n",
       "    <tr>\n",
       "      <th>Female</th>\n",
       "      <td>25.0</td>\n",
       "      <td>2.018073e+13</td>\n",
       "      <td>3.290466e+08</td>\n",
       "      <td>2.018011e+13</td>\n",
       "      <td>2.018040e+13</td>\n",
       "      <td>2.018071e+13</td>\n",
       "      <td>2.018101e+13</td>\n",
       "      <td>2.018121e+13</td>\n",
       "      <td>25.0</td>\n",
       "      <td>38.76</td>\n",
       "      <td>31.620510</td>\n",
       "      <td>0.0</td>\n",
       "      <td>18.0</td>\n",
       "      <td>30.0</td>\n",
       "      <td>60.0</td>\n",
       "      <td>125.0</td>\n",
       "    </tr>\n",
       "    <tr>\n",
       "      <th>Male</th>\n",
       "      <td>25.0</td>\n",
       "      <td>2.018070e+13</td>\n",
       "      <td>3.310938e+08</td>\n",
       "      <td>2.018011e+13</td>\n",
       "      <td>2.018040e+13</td>\n",
       "      <td>2.018081e+13</td>\n",
       "      <td>2.018091e+13</td>\n",
       "      <td>2.018121e+13</td>\n",
       "      <td>25.0</td>\n",
       "      <td>18.08</td>\n",
       "      <td>19.805134</td>\n",
       "      <td>0.0</td>\n",
       "      <td>0.0</td>\n",
       "      <td>15.0</td>\n",
       "      <td>31.0</td>\n",
       "      <td>60.0</td>\n",
       "    </tr>\n",
       "  </tbody>\n",
       "</table>\n",
       "</div>"
      ],
      "text/plain": [
       "       participant_id                                                          \\\n",
       "                count          mean           std           min           25%   \n",
       "sex                                                                             \n",
       "Female           25.0  2.018073e+13  3.290466e+08  2.018011e+13  2.018040e+13   \n",
       "Male             25.0  2.018070e+13  3.310938e+08  2.018011e+13  2.018040e+13   \n",
       "\n",
       "                                                 minutes_spent_grooming  \\\n",
       "                 50%           75%           max                  count   \n",
       "sex                                                                       \n",
       "Female  2.018071e+13  2.018101e+13  2.018121e+13                   25.0   \n",
       "Male    2.018081e+13  2.018091e+13  2.018121e+13                   25.0   \n",
       "\n",
       "                                                        \n",
       "         mean        std  min   25%   50%   75%    max  \n",
       "sex                                                     \n",
       "Female  38.76  31.620510  0.0  18.0  30.0  60.0  125.0  \n",
       "Male    18.08  19.805134  0.0   0.0  15.0  31.0   60.0  "
      ]
     },
     "execution_count": 143,
     "metadata": {},
     "output_type": "execute_result"
    }
   ],
   "source": [
    "grooming.groupby('sex').describe()"
   ]
  },
  {
   "cell_type": "code",
   "execution_count": 145,
   "metadata": {},
   "outputs": [
    {
     "data": {
      "image/png": "[encoded data removed]",
      "text/plain": [
       "<Figure size 432x288 with 1 Axes>"
      ]
     },
     "metadata": {
      "needs_background": "light"
     },
     "output_type": "display_data"
    }
   ],
   "source": [
    "sns.boxplot(data = grooming, x = 'sex', y = 'minutes_spent_grooming');"
   ]
  },
  {
   "cell_type": "code",
   "execution_count": 146,
   "metadata": {},
   "outputs": [
    {
     "data": {
      "image/png": "[encoded data removed]",
      "text/plain": [
       "<Figure size 432x288 with 1 Axes>"
      ]
     },
     "metadata": {
      "needs_background": "light"
     },
     "output_type": "display_data"
    }
   ],
   "source": [
    "grooming.loc[grooming.sex == 'Male', 'minutes_spent_grooming'].hist();"
   ]
  },
  {
   "cell_type": "code",
   "execution_count": 147,
   "metadata": {},
   "outputs": [
    {
     "data": {
      "image/png": "[encoded data removed]",
      "text/plain": [
       "<Figure size 432x288 with 1 Axes>"
      ]
     },
     "metadata": {
      "needs_background": "light"
     },
     "output_type": "display_data"
    }
   ],
   "source": [
    "grooming.loc[grooming.sex == 'Female', 'minutes_spent_grooming'].hist();"
   ]
  },
  {
   "cell_type": "markdown",
   "metadata": {},
   "source": [
    "Neither of these distributions look normal. Therefore, it is better to use a non-parametric method. These non-parametric methods relax some of the distributional assumptions about our datasets.\n",
    "\n",
    "These methods are normally based on evaluating the ranks, rather than the actual values.\n",
    "\n",
    "We are not testing whether the average time spent grooming is equal, but instead that the distributions are the same.\n",
    "\n",
    "Here, we will be using the Mann–Whitney U test.\n",
    "\n",
    "**Null Hypothesis:**\n",
    "\n",
    "Let $m$ be the number of minutes spent on grooming by randomly chosen male and $f$ be the number of minutes spent on grooming by a randomly chosen female.\n",
    "\n",
    "$H_0: P(m < f) = \\frac{1}{2}$\n",
    "\n",
    "$H_A: P(m < f) > \\frac{1}{2}$"
   ]
  },
  {
   "cell_type": "code",
   "execution_count": 153,
   "metadata": {},
   "outputs": [],
   "source": [
    "from scipy.stats import mannwhitneyu"
   ]
  },
  {
   "cell_type": "markdown",
   "metadata": {},
   "source": [
    "For this test, we can specify the direction of our test. Since we are hypothesizing that "
   ]
  },
  {
   "cell_type": "code",
   "execution_count": 154,
   "metadata": {},
   "outputs": [
    {
     "data": {
      "text/plain": [
       "MannwhitneyuResult(statistic=186.5, pvalue=0.006701639259529442)"
      ]
     },
     "execution_count": 154,
     "metadata": {},
     "output_type": "execute_result"
    }
   ],
   "source": [
    "mwu_results = mannwhitneyu(grooming.loc[grooming.sex == 'Male', 'minutes_spent_grooming'],\n",
    "                      grooming.loc[grooming.sex == 'Female', 'minutes_spent_grooming'], alternative = \"less\")\n",
    "mwu_results"
   ]
  },
  {
   "cell_type": "markdown",
   "metadata": {},
   "source": [
    "Based on the results of this test, we reject the null hypothesis in favor of the alternative hypothesis that for a randomly chosen male and female, it is more likely that the female spends more time on grooming than the male."
   ]
  },
  {
   "cell_type": "markdown",
   "metadata": {},
   "source": [
    "## Power Calculations"
   ]
  },
  {
   "cell_type": "markdown",
   "metadata": {},
   "source": [
    "https://machinelearningmastery.com/statistical-power-and-power-analysis-in-python/\n",
    "\n",
    "The hypothesis testing setup we have looked at so far has been designed to avoid Type 1 (false positive) errors. Minimizing the chance of a type 1 error comes at the expense of increasing the chance of a Type 2 error (false negative). That is, we increase the likelihood of concluding that there is no effect, when in reality there is an effect.\n",
    "\n",
    "The statistical **power** of a test is the probability of detecting an effect, when there is one to detect.\n",
    "\n",
    "It is the same as 1 - (Probability of Type 2 Error).\n",
    "\n",
    "If we know the approximate effect size and the desired significance level, we can estimate the sample size needed to reject the null hypothesis."
   ]
  },
  {
   "cell_type": "markdown",
   "metadata": {},
   "source": [
    "Effect size: Cohen's $d$\n",
    "\n",
    "Cohen's $d$ is the difference between the population means divided by their pooled standard deviation. It is a way to standardize the difference.\n",
    "\n",
    "General Rule of Thumb:\n",
    "* Small effect = 0.2\n",
    "* Medium Effect = 0.5\n",
    "* Large Effect = 0.8\n",
    "\n",
    "We will need a larger sample size to detech small effects compared to large effects.\n"
   ]
  },
  {
   "cell_type": "markdown",
   "metadata": {},
   "source": [
    "Power calculations: 4 parts\n",
    "* Sample size\n",
    "* Effect size\n",
    "* Significance level\n",
    "* Power"
   ]
  },
  {
   "cell_type": "code",
   "execution_count": 88,
   "metadata": {},
   "outputs": [],
   "source": [
    "from statsmodels.stats.power import tt_ind_solve_power"
   ]
  },
  {
   "cell_type": "markdown",
   "metadata": {},
   "source": [
    "For this function, we pass in three of the arguments and it returns the fourth.\n",
    "\n",
    "For example, if we think that the effect we are trying to detect is medium (so effect_size of 0.5), and we want at least an 80\\% chance of detecting the effect at a significance level of 0.05, we pass in the following arguments."
   ]
  },
  {
   "cell_type": "code",
   "execution_count": 90,
   "metadata": {},
   "outputs": [
    {
     "data": {
      "text/plain": [
       "63.765611775409525"
      ]
     },
     "execution_count": 90,
     "metadata": {},
     "output_type": "execute_result"
    }
   ],
   "source": [
    "tt_ind_solve_power(effect_size = 0.5, alpha = 0.05, power = 0.8)"
   ]
  },
  {
   "cell_type": "markdown",
   "metadata": {},
   "source": [
    "On the other hand, if we want to be 99\\% sure of detecting the difference, we set power = 0.99, and see that we need a larger sample size."
   ]
  },
  {
   "cell_type": "code",
   "execution_count": 92,
   "metadata": {},
   "outputs": [
    {
     "data": {
      "text/plain": [
       "147.94788668637267"
      ]
     },
     "execution_count": 92,
     "metadata": {},
     "output_type": "execute_result"
    }
   ],
   "source": [
    "tt_ind_solve_power(effect_size = 0.5, alpha = 0.05, power = 0.99)"
   ]
  },
  {
   "cell_type": "markdown",
   "metadata": {},
   "source": [
    "If we think that the effect size is much smaller (say, only 0.1), and we still want a 99\\% chance of detecting it, we need a much much larger sample.\n",
    "\n",
    "https://online.stat.psu.edu/stat414/node/304/"
   ]
  },
  {
   "cell_type": "code",
   "execution_count": 93,
   "metadata": {},
   "outputs": [
    {
     "data": {
      "text/plain": [
       "3675.45516588971"
      ]
     },
     "execution_count": 93,
     "metadata": {},
     "output_type": "execute_result"
    }
   ],
   "source": [
    "tt_ind_solve_power(effect_size = 0.1, alpha = 0.05, power = 0.99)"
   ]
  },
  {
   "cell_type": "code",
   "execution_count": null,
   "metadata": {},
   "outputs": [],
   "source": []
  }
 ],
 "metadata": {
  "kernelspec": {
   "display_name": "Python 3",
   "language": "python",
   "name": "python3"
  },
  "language_info": {
   "codemirror_mode": {
    "name": "ipython",
    "version": 3
   },
   "file_extension": ".py",
   "mimetype": "text/x-python",
   "name": "python",
   "nbconvert_exporter": "python",
   "pygments_lexer": "ipython3",
   "version": "3.7.4"
  }
 },
 "nbformat": 4,
 "nbformat_minor": 2
}
