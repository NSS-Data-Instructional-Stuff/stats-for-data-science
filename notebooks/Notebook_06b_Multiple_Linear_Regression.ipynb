{
 "cells": [
  {
   "cell_type": "markdown",
   "id": "13c1cb80",
   "metadata": {},
   "source": [
    "## Multiple Linear Regression"
   ]
  },
  {
   "cell_type": "code",
   "execution_count": null,
   "id": "ac37fe64",
   "metadata": {},
   "outputs": [],
   "source": [
    "import pandas as pd\n",
    "import numpy as np\n",
    "import matplotlib.pyplot as plt\n",
    "import seaborn as sns\n",
    "from scipy.stats import norm"
   ]
  },
  {
   "cell_type": "markdown",
   "id": "b4037db2",
   "metadata": {},
   "source": [
    "We'll be using a dataset on possums in Australia and New Guinea, borrowed from the OpenIntro Statistics textbook.\n",
    "\n",
    "You can read more about it here: https://www.openintro.org/data/index.php?data=possum\n",
    "\n",
    "Our goal will be to understand the relationship between the total length in cm (`total_l`) and the other variables in our dataset."
   ]
  },
  {
   "cell_type": "code",
   "execution_count": null,
   "id": "4ad7ff00",
   "metadata": {},
   "outputs": [],
   "source": [
    "possum = pd.read_csv('../data/possum.csv')"
   ]
  },
  {
   "cell_type": "code",
   "execution_count": null,
   "id": "4bc376fe",
   "metadata": {},
   "outputs": [],
   "source": [
    "possum.head(2)"
   ]
  },
  {
   "cell_type": "code",
   "execution_count": null,
   "id": "9a1f2423",
   "metadata": {},
   "outputs": [],
   "source": [
    "import statsmodels.formula.api as sm\n",
    "import statsmodels.api as stats"
   ]
  },
  {
   "cell_type": "markdown",
   "id": "b9dd7ff5",
   "metadata": {},
   "source": [
    "**Example 1:**\n",
    "\n",
    "Question: Is tail length significantly related to total length after controlling for the head length?\n",
    "\n",
    "**Null Hypothesis:** $\\beta_{tail\\_l} = 0$\n",
    "\n",
    "**Alternative Hypothesis:** $\\beta_{tail\\_l} \\neq 0$\n",
    "\n",
    "To test this, we'll fit our reduced and full models."
   ]
  },
  {
   "cell_type": "code",
   "execution_count": null,
   "id": "28c8c08f",
   "metadata": {},
   "outputs": [],
   "source": [
    "lr_reduced = sm.ols('total_l ~ head_l', data = possum).fit()\n",
    "lr_full = sm.ols('total_l ~ head_l + tail_l', data = possum).fit()"
   ]
  },
  {
   "cell_type": "markdown",
   "id": "25de373d",
   "metadata": {},
   "source": [
    "Then use the `anova_lm` method."
   ]
  },
  {
   "cell_type": "code",
   "execution_count": null,
   "id": "ee44a65b",
   "metadata": {},
   "outputs": [],
   "source": [
    "stats.stats.anova_lm(lr_reduced, lr_full)"
   ]
  },
  {
   "cell_type": "markdown",
   "id": "7fc8557e",
   "metadata": {},
   "source": [
    "Based on this, we can reject the null hypothesis and conclude that tail length is significant after controlling for total length."
   ]
  },
  {
   "cell_type": "markdown",
   "id": "6a43d7d9",
   "metadata": {},
   "source": [
    "The dataset also contains a site variable, which indicates where the possum was trapped.\n",
    "\n",
    "**Question:** Does the average total length differ depending on the site?\n",
    "\n",
    "**Null Hypothesis:** $\\beta_{site\\_i} = 0$ for all sites\n",
    "\n",
    "**Alternative Hypothesis:** $\\beta_{site_i} \\neq 0$ for at least one site\n",
    "\n",
    "Note that site is encoded using an integer. We need to let statsmodels know that this is a categorical variable, which we can do by using a `C` in our formula."
   ]
  },
  {
   "cell_type": "code",
   "execution_count": null,
   "id": "f02ab1c4",
   "metadata": {},
   "outputs": [],
   "source": [
    "lr_reduced = sm.ols('total_l ~ 1', data = possum).fit()\n",
    "lr_full = sm.ols('total_l ~ C(site)', data = possum).fit()\n",
    "\n",
    "stats.stats.anova_lm(lr_reduced, lr_full)"
   ]
  },
  {
   "cell_type": "code",
   "execution_count": null,
   "id": "2c776b9a",
   "metadata": {},
   "outputs": [],
   "source": [
    "sns.boxplot(data = possum, x = 'site', y = 'total_l');"
   ]
  },
  {
   "cell_type": "markdown",
   "id": "8ff890f8",
   "metadata": {},
   "source": [
    "**Question:** Does the average total length differ depending on the site, after controlling for the effect all other variables?\n",
    "\n",
    "**Null Hypothesis:** $\\beta_{site\\_i} = 0$ for all sites\n",
    "\n",
    "**Alternative Hypothesis:** $\\beta_{site_i} \\neq 0$ for at least one site"
   ]
  },
  {
   "cell_type": "code",
   "execution_count": null,
   "id": "0f8ec352",
   "metadata": {},
   "outputs": [],
   "source": [
    "lr_reduced = sm.ols('total_l ~ pop + sex + age + head_l + skull_w + tail_l', data = possum).fit()\n",
    "lr_full = sm.ols('total_l ~ pop + sex + age + head_l + skull_w + tail_l + C(site)', data = possum).fit()\n",
    "\n",
    "stats.stats.anova_lm(lr_reduced, lr_full)"
   ]
  },
  {
   "cell_type": "markdown",
   "id": "bcfcdff2",
   "metadata": {},
   "source": [
    "Even after accounting for all other variables, the site is significant."
   ]
  },
  {
   "cell_type": "markdown",
   "id": "c0836ff5",
   "metadata": {},
   "source": [
    "## Interactions\n",
    "\n",
    "To create interaction terms, you separate your variables by a `:` in the formula."
   ]
  },
  {
   "cell_type": "code",
   "execution_count": null,
   "id": "ab16f697",
   "metadata": {},
   "outputs": [],
   "source": [
    "lr_full =sm.ols('total_l ~ head_l + sex + head_l:sex', data = possum).fit()\n",
    "lr_full.summary()"
   ]
  },
  {
   "cell_type": "markdown",
   "id": "80ae0e4e",
   "metadata": {},
   "source": [
    "**Question:** Are the interaction terms significant?\n",
    "\n",
    "**Null Hypothesis:** $\\beta_{head\\_l:sex} = 0$\n",
    "\n",
    "**Alternative Hypothesis:** $\\beta_{head\\_l:sex} \\neq 0$ "
   ]
  },
  {
   "cell_type": "code",
   "execution_count": null,
   "id": "f4985cf5",
   "metadata": {},
   "outputs": [],
   "source": [
    "lr_reduced =sm.ols('total_l ~ head_l + sex', data = possum).fit()\n",
    "lr_full =sm.ols('total_l ~ head_l + sex + head_l:sex', data = possum).fit()\n",
    "\n",
    "stats.stats.anova_lm(lr_reduced, lr_full)"
   ]
  },
  {
   "cell_type": "markdown",
   "id": "5119f7c0",
   "metadata": {},
   "source": [
    "Conclusion: The interaction term is significant."
   ]
  },
  {
   "cell_type": "markdown",
   "id": "3726b09d",
   "metadata": {},
   "source": [
    "## Polynomial Regression\n",
    "\n",
    "Let's revisit the cars dataset."
   ]
  },
  {
   "cell_type": "code",
   "execution_count": null,
   "id": "80767ae8",
   "metadata": {},
   "outputs": [],
   "source": [
    "cars = pd.read_csv('../data/auto-mpg.csv')"
   ]
  },
  {
   "cell_type": "code",
   "execution_count": null,
   "id": "ba341574",
   "metadata": {},
   "outputs": [],
   "source": [
    "cars.plot(kind = 'scatter', x = 'displacement', y = 'mpg', figsize = (10,6));"
   ]
  },
  {
   "cell_type": "markdown",
   "id": "d8dff3a3",
   "metadata": {},
   "source": [
    "We saw last time that when trying to fit a simple linear regression model, we saw a distinct pattern in the residuals. "
   ]
  },
  {
   "cell_type": "code",
   "execution_count": null,
   "id": "4c9e87e1",
   "metadata": {},
   "outputs": [],
   "source": [
    "lr_cars = sm.ols('mpg ~ displacement', data = cars).fit()\n",
    "\n",
    "plt.figure(figsize = (10,6))\n",
    "plt.scatter(cars['displacement'], lr_cars.resid)\n",
    "xmin, xmax = plt.xlim()\n",
    "plt.hlines(y = 0, xmin = xmin, xmax = xmax)\n",
    "plt.xlim(xmin, xmax);"
   ]
  },
  {
   "cell_type": "markdown",
   "id": "234bf1bb",
   "metadata": {},
   "source": [
    "It looks like the relationship is not linear, but instead is curved. We can try to capture this using a polynomial.\n",
    "\n",
    "$$\\text{mpg}_i = \\beta_0 + \\beta_1\\cdot \\text{displacement}_i + \\beta_2 \\cdot \\text{(displacement)}^2_i + \\epsilon_i$$ \n",
    "\n",
    "To let statsmodels know that we want a polynomial, we surround the formula with an I."
   ]
  },
  {
   "cell_type": "code",
   "execution_count": null,
   "id": "d4e0f79a",
   "metadata": {},
   "outputs": [],
   "source": [
    "lr_poly = sm.ols('mpg ~ displacement + I(displacement**2)', data = cars).fit()\n",
    "lr_poly.summary()"
   ]
  },
  {
   "cell_type": "markdown",
   "id": "9d0225ae",
   "metadata": {},
   "source": [
    "Inspecting the residuals, it looks like we have removed the nonlinearity."
   ]
  },
  {
   "cell_type": "code",
   "execution_count": null,
   "id": "cd1b372f",
   "metadata": {},
   "outputs": [],
   "source": [
    "plt.figure(figsize = (10,6))\n",
    "plt.scatter(cars['displacement'], lr_poly.resid)\n",
    "xmin, xmax = plt.xlim()\n",
    "plt.hlines(y = 0, xmin = xmin, xmax = xmax)\n",
    "plt.xlim(xmin, xmax);"
   ]
  },
  {
   "cell_type": "markdown",
   "id": "0581d90a",
   "metadata": {},
   "source": [
    "However, we have a different problem - it looks like the residuals don't have constant variance.\n",
    "\n",
    "If we look at the residuals vs the fitted values, we can see that larger values of the response have higher variance."
   ]
  },
  {
   "cell_type": "code",
   "execution_count": null,
   "id": "e0df8e0c",
   "metadata": {},
   "outputs": [],
   "source": [
    "plt.figure(figsize = (10,6))\n",
    "plt.scatter(lr_poly.fittedvalues, lr_poly.resid)\n",
    "xmin, xmax = plt.xlim()\n",
    "plt.hlines(y = 0, xmin = xmin, xmax = xmax)\n",
    "plt.xlim(xmin, xmax);"
   ]
  },
  {
   "cell_type": "markdown",
   "id": "4afec2aa",
   "metadata": {},
   "source": [
    "A potential fix to this is to use the logarithm of the target."
   ]
  },
  {
   "cell_type": "code",
   "execution_count": null,
   "id": "a6d8b124",
   "metadata": {},
   "outputs": [],
   "source": [
    "plt.scatter(x = cars['displacement'], y = np.log(cars['mpg']));"
   ]
  },
  {
   "cell_type": "code",
   "execution_count": null,
   "id": "5f4071c3",
   "metadata": {},
   "outputs": [],
   "source": [
    "lr_poly_log = sm.ols('np.log(mpg) ~ displacement + I(displacement**2)', data = cars).fit()\n",
    "lr_poly_log.summary()"
   ]
  },
  {
   "cell_type": "code",
   "execution_count": null,
   "id": "77c6e5b6",
   "metadata": {},
   "outputs": [],
   "source": [
    "plt.figure(figsize = (10,6))\n",
    "plt.scatter(lr_poly_log.fittedvalues, lr_poly_log.resid)\n",
    "xmin, xmax = plt.xlim()\n",
    "plt.hlines(y = 0, xmin = xmin, xmax = xmax)\n",
    "plt.xlim(xmin, xmax);"
   ]
  },
  {
   "cell_type": "markdown",
   "id": "b870f28b",
   "metadata": {},
   "source": [
    "Now, let's see what the intervals look like.\n",
    "\n",
    "Note that since our target is the logarithm of the mpg, we need to exponentiate our predictions."
   ]
  },
  {
   "cell_type": "code",
   "execution_count": null,
   "id": "4d90bc8c",
   "metadata": {},
   "outputs": [],
   "source": [
    "var = 'displacement'\n",
    "\n",
    "x_pred = pd.DataFrame({\n",
    "    var: np.linspace(start = cars[var].min(),\n",
    "                               stop = cars[var].max(), num = 250)\n",
    "})\n",
    "\n",
    "pred = lr_poly_log.get_prediction(x_pred).summary_frame()\n",
    "\n",
    "cars.plot(kind = 'scatter', x = var, y = 'mpg', figsize = (10,6))\n",
    "\n",
    "plt.plot(x_pred[var], np.exp(pred['mean']), color = 'grey', label = 'predicted mean')\n",
    "\n",
    "plt.plot(x_pred[var], np.exp(pred['mean_ci_lower']), color = 'blue', label = 'confidence interval')\n",
    "plt.plot(x_pred[var], np.exp(pred['mean_ci_upper']), color = 'blue')\n",
    "\n",
    "plt.plot(x_pred[var], np.exp(pred['obs_ci_lower']), color = 'black', label = 'prediction interval')\n",
    "plt.plot(x_pred[var], np.exp(pred['obs_ci_upper']), color = 'black')\n",
    "\n",
    "plt.legend();"
   ]
  }
 ],
 "metadata": {
  "kernelspec": {
   "display_name": "Python 3 (ipykernel)",
   "language": "python",
   "name": "python3"
  },
  "language_info": {
   "codemirror_mode": {
    "name": "ipython",
    "version": 3
   },
   "file_extension": ".py",
   "mimetype": "text/x-python",
   "name": "python",
   "nbconvert_exporter": "python",
   "pygments_lexer": "ipython3",
   "version": "3.8.3"
  }
 },
 "nbformat": 4,
 "nbformat_minor": 5
}
