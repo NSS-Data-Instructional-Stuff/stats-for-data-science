{
 "cells": [
  {
   "cell_type": "markdown",
   "metadata": {},
   "source": [
    "# Statistical Inference\n",
    "\n",
    "So far, we have been looking at what would be classified as descriptive statistics. We were looking at how do explore or summarize a dataset.\n",
    "\n",
    "Now, we are moving on to statistical inference, where we are interested not just in the sample that we have, but in inferring something about the population from which the sample came. Our goal is to draw conclusions from data.\n",
    "\n",
    "Three common tasks in statistical inference:\n",
    "* estimating an underlying parameter about a population (eg. the population mean)\n",
    "* providing an interval inference about the underlying parameter\n",
    "* testing if the underlying parameter satisfy certain conditions."
   ]
  },
  {
   "cell_type": "markdown",
   "metadata": {},
   "source": [
    "## Bootstrap Confidence Intervals\n",
    "\n",
    "The **empirical bootstrap** is a technique popularized by Bradley Efron in 1979. It is easy to understand and implement, but is just recently gaining popularity, since it is not really feasible without modern computing power. The bootstrap allows us to substitute fast computation for theoretical math.\n",
    "\n",
    "**Big Idea:** perform computations on the data itself to estimate the variation of statistics that are themselves computed from the same data. That is, the data is ‘pulling itself up by its own bootstrap.’ \n",
    "\n",
    "Since the bootstrap allows us to estimate the variation of these statistics, we can use this technique to construct confidence intervals."
   ]
  },
  {
   "cell_type": "code",
   "execution_count": 1,
   "metadata": {},
   "outputs": [],
   "source": [
    "import pandas as pd\n",
    "import numpy as np\n",
    "import matplotlib.pyplot as plt\n",
    "%matplotlib inline"
   ]
  },
  {
   "cell_type": "code",
   "execution_count": 2,
   "metadata": {},
   "outputs": [],
   "source": [
    "sleeping = pd.read_csv('../data/atus_sleeping.csv')"
   ]
  },
  {
   "cell_type": "code",
   "execution_count": 3,
   "metadata": {},
   "outputs": [
    {
     "data": {
      "text/html": [
       "<div>\n",
       "<style scoped>\n",
       "    .dataframe tbody tr th:only-of-type {\n",
       "        vertical-align: middle;\n",
       "    }\n",
       "\n",
       "    .dataframe tbody tr th {\n",
       "        vertical-align: top;\n",
       "    }\n",
       "\n",
       "    .dataframe thead th {\n",
       "        text-align: right;\n",
       "    }\n",
       "</style>\n",
       "<table border=\"1\" class=\"dataframe\">\n",
       "  <thead>\n",
       "    <tr style=\"text-align: right;\">\n",
       "      <th></th>\n",
       "      <th>participant_id</th>\n",
       "      <th>minutes_spent_sleeping</th>\n",
       "      <th>sex</th>\n",
       "    </tr>\n",
       "  </thead>\n",
       "  <tbody>\n",
       "    <tr>\n",
       "      <th>0</th>\n",
       "      <td>20181211181182</td>\n",
       "      <td>270</td>\n",
       "      <td>Male</td>\n",
       "    </tr>\n",
       "    <tr>\n",
       "      <th>1</th>\n",
       "      <td>20180908180663</td>\n",
       "      <td>600</td>\n",
       "      <td>Male</td>\n",
       "    </tr>\n",
       "    <tr>\n",
       "      <th>2</th>\n",
       "      <td>20180706181412</td>\n",
       "      <td>355</td>\n",
       "      <td>Male</td>\n",
       "    </tr>\n",
       "    <tr>\n",
       "      <th>3</th>\n",
       "      <td>20181009181978</td>\n",
       "      <td>405</td>\n",
       "      <td>Male</td>\n",
       "    </tr>\n",
       "    <tr>\n",
       "      <th>4</th>\n",
       "      <td>20180503180964</td>\n",
       "      <td>270</td>\n",
       "      <td>Male</td>\n",
       "    </tr>\n",
       "  </tbody>\n",
       "</table>\n",
       "</div>"
      ],
      "text/plain": [
       "   participant_id  minutes_spent_sleeping   sex\n",
       "0  20181211181182                     270  Male\n",
       "1  20180908180663                     600  Male\n",
       "2  20180706181412                     355  Male\n",
       "3  20181009181978                     405  Male\n",
       "4  20180503180964                     270  Male"
      ]
     },
     "execution_count": 3,
     "metadata": {},
     "output_type": "execute_result"
    }
   ],
   "source": [
    "sleeping.head()"
   ]
  },
  {
   "cell_type": "markdown",
   "metadata": {},
   "source": [
    "Let's build a confidence interval for the median of the number of minutes spent sleeping."
   ]
  },
  {
   "cell_type": "code",
   "execution_count": 4,
   "metadata": {},
   "outputs": [
    {
     "data": {
      "text/plain": [
       "550.0"
      ]
     },
     "execution_count": 4,
     "metadata": {},
     "output_type": "execute_result"
    }
   ],
   "source": [
    "sleeping.minutes_spent_sleeping.median()"
   ]
  },
  {
   "cell_type": "markdown",
   "metadata": {},
   "source": [
    "Our point estimate is 550 minutes."
   ]
  },
  {
   "cell_type": "markdown",
   "metadata": {},
   "source": [
    "Now, the idea is to repeatedly resample with replacement from our observations."
   ]
  },
  {
   "cell_type": "code",
   "execution_count": 5,
   "metadata": {},
   "outputs": [
    {
     "name": "stdout",
     "output_type": "stream",
     "text": [
      "lower bound:  502.5\n",
      "upper bound:  615.5\n"
     ]
    }
   ],
   "source": [
    "point_estimate = np.median(sleeping.minutes_spent_sleeping)\n",
    "\n",
    "num_resamples = 10000\n",
    "conf_level = 0.95\n",
    "margin = (1 - conf_level) / 2\n",
    "#lower_index = int(num_resamples * margin)\n",
    "#upper_index = int(num_resamples * (1-margin))\n",
    "\n",
    "values = sleeping.minutes_spent_sleeping.to_list()\n",
    "\n",
    "resample_values = []\n",
    "\n",
    "for i in range(num_resamples):\n",
    "    resample = np.random.choice(values, len(values))\n",
    "    resample_values.append(np.median(resample))\n",
    "\n",
    "top_quantile = np.quantile(resample_values, q = 1 - margin)\n",
    "bottom_quantile = np.quantile(resample_values, q = margin)\n",
    "\n",
    "print('lower bound: ', point_estimate - (top_quantile - point_estimate))\n",
    "print('upper bound: ', point_estimate + (point_estimate - bottom_quantile))"
   ]
  },
  {
   "cell_type": "code",
   "execution_count": 6,
   "metadata": {},
   "outputs": [
    {
     "data": {
      "image/png": "[encoded data removed]",
      "text/plain": [
       "<Figure size 432x288 with 1 Axes>"
      ]
     },
     "metadata": {
      "needs_background": "light"
     },
     "output_type": "display_data"
    }
   ],
   "source": [
    "plt.hist(resample_values);"
   ]
  },
  {
   "cell_type": "markdown",
   "metadata": {},
   "source": [
    "## Bootstrap For Friday Crashes\n",
    "\n",
    "Let's say that we're trying to ensure that we have enough emergency responders scheduled for this upcoming Friday. We want to have a good idea of how many crashes we can expect so that we can have enough responders on call, but do not want to schedule way too many.\n",
    "\n",
    "The file `friday_crashes.csv` contains the count of the number of reported accidents for all Fridays in 2018 in Davidson County.\n"
   ]
  },
  {
   "cell_type": "code",
   "execution_count": 7,
   "metadata": {},
   "outputs": [],
   "source": [
    "friday_crashes = pd.read_csv('../data/friday_crashes.csv')"
   ]
  },
  {
   "cell_type": "code",
   "execution_count": 8,
   "metadata": {},
   "outputs": [
    {
     "data": {
      "image/png": "[encoded data removed]",
      "text/plain": [
       "<Figure size 432x288 with 1 Axes>"
      ]
     },
     "metadata": {
      "needs_background": "light"
     },
     "output_type": "display_data"
    }
   ],
   "source": [
    "friday_crashes['Accident Number'].hist();"
   ]
  },
  {
   "cell_type": "markdown",
   "metadata": {},
   "source": [
    "While this contains data for every single Friday in 2018, we can view it as a sample for the *population* of *all*  Fridays. If we want to make inferences about all Fridays, we need to construct a confidence interval rather than just look at sample statistics.\n",
    "\n",
    "Perhaps we would like to have a good idea about what the 80th percentile of the number of crashes is. This way, we can schedule enough responders so that we are covered in 80% of cases.\n",
    "\n",
    "We can use the bootstrap to construct this interval."
   ]
  },
  {
   "cell_type": "code",
   "execution_count": 9,
   "metadata": {},
   "outputs": [
    {
     "name": "stdout",
     "output_type": "stream",
     "text": [
      "lower bound:  121.60000000000002\n",
      "upper bound:  136.60000000000002\n"
     ]
    }
   ],
   "source": [
    "values = friday_crashes['Accident Number'].values.tolist()\n",
    "\n",
    "point_estimate = np.quantile(values, q = 0.8)\n",
    "\n",
    "num_resamples = 10000\n",
    "conf_level = 0.95\n",
    "margin = (1 - conf_level) / 2\n",
    "#lower_index = int(num_resamples * margin)\n",
    "#upper_index = int(num_resamples * (1-margin))\n",
    "\n",
    "resample_values = []\n",
    "\n",
    "for i in range(num_resamples):\n",
    "    resample = np.random.choice(values, len(values))\n",
    "    resample_values.append(np.quantile(resample, q = 0.8))\n",
    "\n",
    "top_quantile = np.quantile(resample_values, q = 1 - margin)\n",
    "bottom_quantile = np.quantile(resample_values, q = margin)\n",
    "\n",
    "print('lower bound: ', point_estimate - (top_quantile - point_estimate))\n",
    "print('upper bound: ', point_estimate + (point_estimate - bottom_quantile))"
   ]
  },
  {
   "cell_type": "markdown",
   "metadata": {},
   "source": [
    "Thus, we can say that we are 95\\% confident that the 80th percentile of number of accidents on a Friday is between 121.6 and 136.8."
   ]
  },
  {
   "cell_type": "markdown",
   "metadata": {},
   "source": [
    "Here's a function that can be imported."
   ]
  },
  {
   "cell_type": "code",
   "execution_count": 10,
   "metadata": {},
   "outputs": [],
   "source": [
    "from nssstats.bootstrap import bootstrap_ci"
   ]
  },
  {
   "cell_type": "code",
   "execution_count": 11,
   "metadata": {},
   "outputs": [
    {
     "data": {
      "text/plain": [
       "(121.60000000000002, 136.60000000000002)"
      ]
     },
     "execution_count": 11,
     "metadata": {},
     "output_type": "execute_result"
    }
   ],
   "source": [
    "bootstrap_ci(friday_crashes['Accident Number'].values, statistic = np.quantile, q = 0.8)"
   ]
  },
  {
   "cell_type": "markdown",
   "metadata": {},
   "source": [
    "One of the advantages of using bootstrap resampling is that you can use reasampling to compute a confidence interval for any statistic you like. Let's say we want a confidence interval for the standard deviation of the number of accidents."
   ]
  },
  {
   "cell_type": "code",
   "execution_count": 14,
   "metadata": {},
   "outputs": [
    {
     "data": {
      "text/plain": [
       "(14.616509627403342, 25.899855706112344)"
      ]
     },
     "execution_count": 14,
     "metadata": {},
     "output_type": "execute_result"
    }
   ],
   "source": [
    "bootstrap_ci(friday_crashes['Accident Number'].values, statistic = np.std)"
   ]
  },
  {
   "cell_type": "code",
   "execution_count": null,
   "metadata": {},
   "outputs": [],
   "source": []
  }
 ],
 "metadata": {
  "kernelspec": {
   "display_name": "Python 3",
   "language": "python",
   "name": "python3"
  },
  "language_info": {
   "codemirror_mode": {
    "name": "ipython",
    "version": 3
   },
   "file_extension": ".py",
   "mimetype": "text/x-python",
   "name": "python",
   "nbconvert_exporter": "python",
   "pygments_lexer": "ipython3",
   "version": "3.7.4"
  }
 },
 "nbformat": 4,
 "nbformat_minor": 2
}
