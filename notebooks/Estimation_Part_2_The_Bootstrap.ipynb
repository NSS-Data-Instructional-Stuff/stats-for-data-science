{
 "cells": [
  {
   "cell_type": "markdown",
   "metadata": {},
   "source": [
    "# Statistical Inference\n",
    "\n",
    "In this notebook, we'll see how to create bootstrap confidence intervals."
   ]
  },
  {
   "cell_type": "markdown",
   "metadata": {},
   "source": [
    "## Bootstrap Confidence Intervals\n",
    "\n",
    "The **empirical bootstrap** is a technique popularized by Bradley Efron in 1979. It is easy to understand and implement, but is just recently gaining popularity, since it is not really feasible without modern computing power. The bootstrap allows us to substitute fast computation for theoretical math.\n",
    "\n",
    "**Big Idea:** perform computations on the data itself to estimate the variation of statistics that are themselves computed from the same data. That is, the data is ‘pulling itself up by its own bootstrap.’ \n",
    "\n",
    "Since the bootstrap allows us to estimate the variance of the sampling distribution of these statistics, we can use this technique to construct confidence intervals."
   ]
  },
  {
   "cell_type": "code",
   "execution_count": 6,
   "metadata": {},
   "outputs": [],
   "source": [
    "import pandas as pd\n",
    "import numpy as np\n",
    "import matplotlib.pyplot as plt\n",
    "%matplotlib inline"
   ]
  },
  {
   "cell_type": "markdown",
   "metadata": {},
   "source": [
    "We have already seen how to create a t-interval to estimate the population mean. Now, let's see how we can use the bootstrap to estimate the population median.\n",
    "\n",
    "We'll use the American Time Use Survey sleeping data again."
   ]
  },
  {
   "cell_type": "code",
   "execution_count": 10,
   "metadata": {},
   "outputs": [],
   "source": [
    "sleeping = pd.read_csv('../data/atus_sleeping.csv')"
   ]
  },
  {
   "cell_type": "code",
   "execution_count": 11,
   "metadata": {},
   "outputs": [
    {
     "data": {
      "text/html": [
       "<div>\n",
       "<style scoped>\n",
       "    .dataframe tbody tr th:only-of-type {\n",
       "        vertical-align: middle;\n",
       "    }\n",
       "\n",
       "    .dataframe tbody tr th {\n",
       "        vertical-align: top;\n",
       "    }\n",
       "\n",
       "    .dataframe thead th {\n",
       "        text-align: right;\n",
       "    }\n",
       "</style>\n",
       "<table border=\"1\" class=\"dataframe\">\n",
       "  <thead>\n",
       "    <tr style=\"text-align: right;\">\n",
       "      <th></th>\n",
       "      <th>participant_id</th>\n",
       "      <th>minutes_spent_sleeping</th>\n",
       "      <th>sex</th>\n",
       "    </tr>\n",
       "  </thead>\n",
       "  <tbody>\n",
       "    <tr>\n",
       "      <th>0</th>\n",
       "      <td>20181211181182</td>\n",
       "      <td>270</td>\n",
       "      <td>Male</td>\n",
       "    </tr>\n",
       "    <tr>\n",
       "      <th>1</th>\n",
       "      <td>20180908180663</td>\n",
       "      <td>600</td>\n",
       "      <td>Male</td>\n",
       "    </tr>\n",
       "    <tr>\n",
       "      <th>2</th>\n",
       "      <td>20180706181412</td>\n",
       "      <td>355</td>\n",
       "      <td>Male</td>\n",
       "    </tr>\n",
       "    <tr>\n",
       "      <th>3</th>\n",
       "      <td>20181009181978</td>\n",
       "      <td>405</td>\n",
       "      <td>Male</td>\n",
       "    </tr>\n",
       "    <tr>\n",
       "      <th>4</th>\n",
       "      <td>20180503180964</td>\n",
       "      <td>270</td>\n",
       "      <td>Male</td>\n",
       "    </tr>\n",
       "  </tbody>\n",
       "</table>\n",
       "</div>"
      ],
      "text/plain": [
       "   participant_id  minutes_spent_sleeping   sex\n",
       "0  20181211181182                     270  Male\n",
       "1  20180908180663                     600  Male\n",
       "2  20180706181412                     355  Male\n",
       "3  20181009181978                     405  Male\n",
       "4  20180503180964                     270  Male"
      ]
     },
     "execution_count": 11,
     "metadata": {},
     "output_type": "execute_result"
    }
   ],
   "source": [
    "sleeping.head()"
   ]
  },
  {
   "cell_type": "markdown",
   "metadata": {},
   "source": [
    "First, let's get a point estimate:"
   ]
  },
  {
   "cell_type": "code",
   "execution_count": 12,
   "metadata": {},
   "outputs": [
    {
     "data": {
      "text/plain": [
       "550.0"
      ]
     },
     "execution_count": 12,
     "metadata": {},
     "output_type": "execute_result"
    }
   ],
   "source": [
    "sleeping.minutes_spent_sleeping.median()"
   ]
  },
  {
   "cell_type": "markdown",
   "metadata": {},
   "source": [
    "Our point estimate is 550 minutes."
   ]
  },
  {
   "cell_type": "markdown",
   "metadata": {},
   "source": [
    "Now, the idea is to repeatedly resample with replacement from our observations."
   ]
  },
  {
   "cell_type": "code",
   "execution_count": 13,
   "metadata": {},
   "outputs": [
    {
     "name": "stdout",
     "output_type": "stream",
     "text": [
      "lower bound:  502.5\n",
      "upper bound:  615.0\n"
     ]
    }
   ],
   "source": [
    "point_estimate = np.median(sleeping.minutes_spent_sleeping)\n",
    "\n",
    "#Number of Resamples\n",
    "num_resamples = 10000\n",
    "\n",
    "#Confidence Level\n",
    "conf_level = 0.95\n",
    "\n",
    "#Divide the remaining area in half. Half for the left and half for the right\n",
    "margin = (1 - conf_level) / 2\n",
    "\n",
    "values = sleeping.minutes_spent_sleeping.to_list()\n",
    "\n",
    "resample_values = []\n",
    "\n",
    "for i in range(num_resamples):\n",
    "    #Resample with replacement\n",
    "    resample = np.random.choice(values, len(values))\n",
    "    \n",
    "    #Compute the resample median and save the value\n",
    "    resample_values.append(np.median(resample))\n",
    "\n",
    "#Find the quantiles of our resample values\n",
    "top_quantile = np.quantile(resample_values, q = 1 - margin)\n",
    "bottom_quantile = np.quantile(resample_values, q = margin)\n",
    "\n",
    "print('lower bound: ', point_estimate - (top_quantile - point_estimate))\n",
    "print('upper bound: ', point_estimate + (point_estimate - bottom_quantile))"
   ]
  },
  {
   "cell_type": "markdown",
   "metadata": {},
   "source": [
    "We can also look at the distribution of resample values, if we want to get an idea of the variance in the sample statistics."
   ]
  },
  {
   "cell_type": "code",
   "execution_count": 20,
   "metadata": {},
   "outputs": [
    {
     "data": {
      "image/png": "[encoded data removed]",
      "text/plain": [
       "<Figure size 432x288 with 1 Axes>"
      ]
     },
     "metadata": {
      "needs_background": "light"
     },
     "output_type": "display_data"
    }
   ],
   "source": [
    "plt.hist(resample_values);"
   ]
  },
  {
   "cell_type": "markdown",
   "metadata": {},
   "source": [
    "Rather than have to rewrite or copy/paste the above code every time you want to do a bootstrap confidence interval, here is a function that can be used."
   ]
  },
  {
   "cell_type": "code",
   "execution_count": 21,
   "metadata": {},
   "outputs": [],
   "source": [
    "from nssstats.bootstrap import bootstrap_ci"
   ]
  },
  {
   "cell_type": "markdown",
   "metadata": {},
   "source": [
    "To use this function, just pass in the values for which you want to perform bootstrap resampling along with the statistic you want to compute. "
   ]
  },
  {
   "cell_type": "code",
   "execution_count": 22,
   "metadata": {},
   "outputs": [
    {
     "data": {
      "text/plain": [
       "(502.5, 615.0)"
      ]
     },
     "execution_count": 22,
     "metadata": {},
     "output_type": "execute_result"
    }
   ],
   "source": [
    "bootstrap_ci(sleeping['minutes_spent_sleeping'], statistic = np.median)"
   ]
  },
  {
   "cell_type": "markdown",
   "metadata": {},
   "source": [
    "## Bootstrap For Friday Crashes\n",
    "\n",
    "Let's say that we're trying to ensure that we have enough emergency responders scheduled for this upcoming Friday. We want to have a good idea of how many crashes we can expect so that we can have enough responders on call, but do not want to schedule way too many.\n",
    "\n",
    "The file `friday_crashes.csv` contains the count of the number of reported accidents for all Fridays in 2018 in Davidson County.\n"
   ]
  },
  {
   "cell_type": "code",
   "execution_count": 23,
   "metadata": {},
   "outputs": [],
   "source": [
    "friday_crashes = pd.read_csv('../data/friday_crashes.csv')"
   ]
  },
  {
   "cell_type": "code",
   "execution_count": 24,
   "metadata": {},
   "outputs": [
    {
     "data": {
      "image/png": "[encoded data removed]",
      "text/plain": [
       "<Figure size 432x288 with 1 Axes>"
      ]
     },
     "metadata": {
      "needs_background": "light"
     },
     "output_type": "display_data"
    }
   ],
   "source": [
    "friday_crashes['Accident Number'].hist();"
   ]
  },
  {
   "cell_type": "markdown",
   "metadata": {},
   "source": [
    "While this contains data for every single Friday in 2018, we can view it as a sample for the *population* of *all*  Fridays. If we want to make inferences about all Fridays, we need to construct a confidence interval rather than just look at sample statistics.\n",
    "\n",
    "Perhaps we would like to have a good idea about what the 80th percentile of the number of crashes is. This way, we can schedule enough responders so that we are covered in 80% of cases.\n",
    "\n",
    "We can use the bootstrap to construct this interval. We can use the above function. This time, we need to specify that the statistic of interest is `np.quantile` and also need to pass in the `q = 0.8` argument to specify that we're interested in the 80th percentile."
   ]
  },
  {
   "cell_type": "code",
   "execution_count": 25,
   "metadata": {},
   "outputs": [
    {
     "data": {
      "text/plain": [
       "(121.60000000000002, 136.60000000000002)"
      ]
     },
     "execution_count": 25,
     "metadata": {},
     "output_type": "execute_result"
    }
   ],
   "source": [
    "bootstrap_ci(friday_crashes['Accident Number'].values, statistic = np.quantile, q = 0.8)"
   ]
  },
  {
   "cell_type": "markdown",
   "metadata": {},
   "source": [
    "If we wanted to be extra cautious, we could plan for the upper value of this interval."
   ]
  },
  {
   "cell_type": "markdown",
   "metadata": {},
   "source": [
    "One of the advantages of using bootstrap resampling is that you can use reasampling to compute a confidence interval for any statistic you like. Let's say we want a confidence interval for the standard deviation of the number of accidents."
   ]
  },
  {
   "cell_type": "code",
   "execution_count": 26,
   "metadata": {},
   "outputs": [
    {
     "data": {
      "text/plain": [
       "(14.546105759285076, 25.89946290340555)"
      ]
     },
     "execution_count": 26,
     "metadata": {},
     "output_type": "execute_result"
    }
   ],
   "source": [
    "bootstrap_ci(friday_crashes['Accident Number'].values, statistic = np.std)"
   ]
  }
 ],
 "metadata": {
  "kernelspec": {
   "display_name": "Python 3",
   "language": "python",
   "name": "python3"
  },
  "language_info": {
   "codemirror_mode": {
    "name": "ipython",
    "version": 3
   },
   "file_extension": ".py",
   "mimetype": "text/x-python",
   "name": "python",
   "nbconvert_exporter": "python",
   "pygments_lexer": "ipython3",
   "version": "3.7.4"
  }
 },
 "nbformat": 4,
 "nbformat_minor": 2
}
