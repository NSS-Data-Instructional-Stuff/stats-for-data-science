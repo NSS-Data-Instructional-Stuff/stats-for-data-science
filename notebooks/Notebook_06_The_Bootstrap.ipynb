{
 "cells": [
  {
   "cell_type": "markdown",
   "metadata": {},
   "source": [
    "## Bootstrap Confidence Intervals\n",
    "\n",
    "The **empirical bootstrap** is a technique popularized by Bradley Efron in 1979. It is easy to understand and implement, but is just recently gaining popularity, since it is not really feasible without modern computing power. The bootstrap allows us to substitute fast computation for theoretical math.\n",
    "\n",
    "**Big Idea:** Instead of trying to derive sampling distributions, instead approximate them by resampling from your given sample.\n",
    "\n",
    "The procedure for finding a bootstrap confidence interval:\n",
    "1. Draw a large number (1,000 or so) resamples from the original sample and calculate the statistic $s^*$ for each.\n",
    "2. Find the 0.025 and 0.975 quantiles of the set of $s^*$. We'll call them $a$ and $b$,respectively.\n",
    "3. The 95% conﬁdence interval is given by $[a, b]$"
   ]
  },
  {
   "cell_type": "code",
   "execution_count": null,
   "metadata": {},
   "outputs": [],
   "source": [
    "import pandas as pd\n",
    "import numpy as np"
   ]
  },
  {
   "cell_type": "markdown",
   "metadata": {},
   "source": [
    "Let's see how we can create bootstap confidence intervals for different parameters.\n",
    "\n",
    "For this notebook, we'll be working with the Palmer penguins dataset."
   ]
  },
  {
   "cell_type": "code",
   "execution_count": null,
   "metadata": {},
   "outputs": [],
   "source": [
    "penguins = pd.read_csv('../data/penguins.csv').dropna()\n",
    "penguins.head()"
   ]
  },
  {
   "cell_type": "markdown",
   "metadata": {},
   "source": [
    "## Bootstrap Confidence Intervals for a Single Parameter"
   ]
  },
  {
   "cell_type": "markdown",
   "metadata": {},
   "source": [
    "Let's look just at the adelie penguins."
   ]
  },
  {
   "cell_type": "code",
   "execution_count": null,
   "metadata": {},
   "outputs": [],
   "source": [
    "adelie = penguins[penguins['species'] == 'Adelie']"
   ]
  },
  {
   "cell_type": "markdown",
   "metadata": {},
   "source": [
    "First, let's build a confidence interval for the mean body mass for the Adelie penguins."
   ]
  },
  {
   "cell_type": "markdown",
   "metadata": {},
   "source": [
    "First, let's set the number of resamples that we'll use."
   ]
  },
  {
   "cell_type": "code",
   "execution_count": null,
   "metadata": {},
   "outputs": [],
   "source": [
    "#Number of Resamples\n",
    "num_resamples = 1000\n",
    "\n",
    "#Confidence Level\n",
    "conf_level = 0.95"
   ]
  },
  {
   "cell_type": "markdown",
   "metadata": {},
   "source": [
    "Using the confidence level, we can determine the cutoff values."
   ]
  },
  {
   "cell_type": "code",
   "execution_count": null,
   "metadata": {},
   "outputs": [],
   "source": [
    "margin = round((1 - conf_level) / 2, 3)\n",
    "margin"
   ]
  },
  {
   "cell_type": "markdown",
   "metadata": {},
   "source": [
    "We can extract out the sample values."
   ]
  },
  {
   "cell_type": "code",
   "execution_count": null,
   "metadata": {},
   "outputs": [],
   "source": [
    "values = adelie['body_mass_g']"
   ]
  },
  {
   "cell_type": "markdown",
   "metadata": {},
   "source": [
    "To resample these values, we can use the `choice` function from numpy's random module.\n",
    "\n",
    "This function takes in a 1-D array and will randomly sample from that array (with replacement by default). We can also use the `size` parameter in order to draw all of our resamples simulataneously. To use this parameter, we'll give it a tuple containing the number of resamples that we want and the size of the resamples (the same size as the original dataset).\n",
    "\n",
    "Here is an example use of this function:"
   ]
  },
  {
   "cell_type": "code",
   "execution_count": null,
   "metadata": {},
   "outputs": [],
   "source": [
    "np.random.choice([1,2,3], size = (5,3))"
   ]
  },
  {
   "cell_type": "markdown",
   "metadata": {},
   "source": [
    "Now, let's apply it to our sample values."
   ]
  },
  {
   "cell_type": "code",
   "execution_count": null,
   "metadata": {},
   "outputs": [],
   "source": [
    "resamples = np.random.choice(values, size = (num_resamples, values.count()))"
   ]
  },
  {
   "cell_type": "code",
   "execution_count": null,
   "metadata": {},
   "outputs": [],
   "source": [
    "resamples"
   ]
  },
  {
   "cell_type": "markdown",
   "metadata": {},
   "source": [
    "Let's verify that this is the correct shape."
   ]
  },
  {
   "cell_type": "code",
   "execution_count": null,
   "metadata": {},
   "outputs": [],
   "source": [
    "resamples.shape"
   ]
  },
  {
   "cell_type": "markdown",
   "metadata": {},
   "source": [
    "This is an array where each row is a different resample. An advantage of creating the resamples in this way is that we can compute the mean values of all resamples simultaneously using the `mean` method. When doing this, we need to specify that we want to compute these using `axis = 1`, which indicates that we are computing the mean across the rows."
   ]
  },
  {
   "cell_type": "code",
   "execution_count": null,
   "metadata": {},
   "outputs": [],
   "source": [
    "resample_stats = resamples.mean(axis = 1)\n",
    "resample_stats"
   ]
  },
  {
   "cell_type": "code",
   "execution_count": null,
   "metadata": {},
   "outputs": [],
   "source": [
    "a = np.quantile(resample_stats, q = margin)\n",
    "b = np.quantile(resample_stats, q = 1 - margin)\n",
    "\n",
    "print('lower bound: ', a)\n",
    "print('upper bound: ', b)"
   ]
  },
  {
   "cell_type": "markdown",
   "metadata": {},
   "source": [
    "Let's condense all of the code into one cell."
   ]
  },
  {
   "cell_type": "code",
   "execution_count": null,
   "metadata": {},
   "outputs": [],
   "source": [
    "num_resamples = 10000\n",
    "conf_level = 0.95\n",
    "\n",
    "margin = (1 - conf_level) / 2\n",
    "\n",
    "values = adelie['body_mass_g']\n",
    "\n",
    "resamples = np.random.choice(values, size = (num_resamples, values.count()))\n",
    "\n",
    "resample_stats = resamples.mean(axis = 1)\n",
    "\n",
    "a = np.quantile(resample_stats, q = margin)\n",
    "b = np.quantile(resample_stats, q = 1 - margin)\n",
    "\n",
    "print('lower bound: ', a)\n",
    "print('upper bound: ', b)"
   ]
  },
  {
   "cell_type": "markdown",
   "metadata": {},
   "source": [
    "Let's compare this to the $t$-interval, which we've seen before."
   ]
  },
  {
   "cell_type": "code",
   "execution_count": null,
   "metadata": {},
   "outputs": [],
   "source": [
    "from scipy.stats import t, sem"
   ]
  },
  {
   "cell_type": "code",
   "execution_count": null,
   "metadata": {},
   "outputs": [],
   "source": [
    "t.interval(confidence = 0.95, \n",
    "           df = values.count() - 1, \n",
    "           loc = values.mean(), \n",
    "           scale = sem(values))"
   ]
  },
  {
   "cell_type": "markdown",
   "metadata": {},
   "source": [
    "One major advantage of the bootstrap is that we can use it for statistics even when we don't know the exact sampling distribution. For example, let's find the 95% bootstrap confidence interval for the median.\n",
    "\n",
    "Note that the median funtion is not built into numpy arrays, but we can use the `np.median` function and specify the axis for this calculation."
   ]
  },
  {
   "cell_type": "code",
   "execution_count": null,
   "metadata": {},
   "outputs": [],
   "source": [
    "num_resamples = 10000\n",
    "conf_level = 0.95\n",
    "\n",
    "margin = (1 - conf_level) / 2\n",
    "\n",
    "values = adelie['body_mass_g']\n",
    "\n",
    "resamples = np.random.choice(values, size = (num_resamples, values.count()))\n",
    "\n",
    "resample_stats = np.median(resamples,axis = 1)\n",
    "\n",
    "a = np.quantile(resample_stats, q = margin)\n",
    "b = np.quantile(resample_stats, q = 1 - margin)\n",
    "\n",
    "print('lower bound: ', a)\n",
    "print('upper bound: ', b)"
   ]
  },
  {
   "cell_type": "markdown",
   "metadata": {},
   "source": [
    "**Your Turn:** Modify the above code to find a 95% bootstrap confidence interval for the standard deviation of the flipper length."
   ]
  },
  {
   "cell_type": "code",
   "execution_count": null,
   "metadata": {},
   "outputs": [],
   "source": [
    "# Your code here"
   ]
  },
  {
   "cell_type": "markdown",
   "metadata": {},
   "source": [
    "### Bootstrap Confidence Interval for a Proportion\n",
    "\n",
    "Now, let's see how we can create bootstrap confidence interval for a proportion.\n",
    "\n",
    "For this, we'll work with a sample from the hotel booking demand dataset, which is described [here](https://www.sciencedirect.com/science/article/pii/S2352340918315191)."
   ]
  },
  {
   "cell_type": "code",
   "execution_count": null,
   "metadata": {},
   "outputs": [],
   "source": [
    "bookings = pd.read_csv('../data/bookings_sample.csv')"
   ]
  },
  {
   "cell_type": "markdown",
   "metadata": {},
   "source": [
    "Specifically, let's estimate the proportion of reservations at city hotels that are canceled."
   ]
  },
  {
   "cell_type": "markdown",
   "metadata": {},
   "source": [
    "In order to quickly calculate a proportion, we can make use of the `mean` method of a numpy array. We can do this by checking that an observation is equal to a desired value and then using `mean` on the resulting array of Boolean values. (Note: in this case we do not have to check that the values are equal to 1 prior to using `mean`, but in cases where your variables are not encoded as 0/1, it would be necessary.)"
   ]
  },
  {
   "cell_type": "markdown",
   "metadata": {},
   "source": [
    "First, let's see what the observed frequency of bookings that are canceled."
   ]
  },
  {
   "cell_type": "code",
   "execution_count": null,
   "metadata": {},
   "outputs": [],
   "source": [
    "(bookings['is_canceled'] == 1).mean()"
   ]
  },
  {
   "cell_type": "markdown",
   "metadata": {},
   "source": [
    "Now, we can largely reuse the code from above for our confidence interval."
   ]
  },
  {
   "cell_type": "code",
   "execution_count": null,
   "metadata": {},
   "outputs": [],
   "source": [
    "num_resamples = 10000\n",
    "conf_level = 0.95\n",
    "\n",
    "margin = (1 - conf_level) / 2\n",
    "\n",
    "values = bookings['is_canceled']\n",
    "\n",
    "resamples = np.random.choice(values, size = (num_resamples, values.count()))\n",
    "\n",
    "resample_stats = resamples.mean(axis = 1)\n",
    "\n",
    "a = np.quantile(resample_stats, q = margin)\n",
    "b = np.quantile(resample_stats, q = 1 - margin)\n",
    "\n",
    "print('lower bound: ', a)\n",
    "print('upper bound: ', b)"
   ]
  },
  {
   "cell_type": "markdown",
   "metadata": {},
   "source": [
    "## Confidence Interval for a Difference"
   ]
  },
  {
   "cell_type": "markdown",
   "metadata": {},
   "source": [
    "Sometimes, you may be interested in comparing the parameter value of two different groups. We can construct a confidence interval for the difference in parameters in a similar way as above, but we'll need to resample from each group.\n",
    "\n",
    "For example, let's say we want to build a confidence interval for the difference in the mean body mass between adelie and chinstrap penguins."
   ]
  },
  {
   "cell_type": "code",
   "execution_count": null,
   "metadata": {},
   "outputs": [],
   "source": [
    "import seaborn as sns\n",
    "sns.boxplot(data = penguins, x = 'species', y = 'body_mass_g');"
   ]
  },
  {
   "cell_type": "code",
   "execution_count": null,
   "metadata": {},
   "outputs": [],
   "source": [
    "adelie = penguins[penguins['species'] == 'Adelie']\n",
    "chinstrap = penguins[penguins['species'] == 'Chinstrap']\n",
    "\n",
    "chinstrap_values = chinstrap['body_mass_g']\n",
    "adelie_values = adelie['body_mass_g']\n",
    "\n",
    "num_resamples = 10000\n",
    "conf_level = 0.95\n",
    "\n",
    "margin = (1 - conf_level) / 2\n",
    "\n",
    "chinstrap_resamples = np.random.choice(chinstrap_values, size = (num_resamples, chinstrap_values.count()))\n",
    "adelie_resamples = np.random.choice(adelie_values, size = (num_resamples, adelie_values.count()))\n",
    "\n",
    "resample_stats = chinstrap_resamples.mean(axis = 1) - adelie_resamples.mean(axis = 1)\n",
    "\n",
    "a = np.quantile(resample_stats, q = margin)\n",
    "b = np.quantile(resample_stats, q = 1 - margin)\n",
    "\n",
    "print('lower bound: ', a)\n",
    "print('upper bound: ', b)"
   ]
  },
  {
   "cell_type": "markdown",
   "metadata": {},
   "source": [
    "The fact that our confidence interval contains zero says that we can't immediately dismiss the possibility that adelie and chinstrap penguins have the same body mass on average."
   ]
  }
 ],
 "metadata": {
  "kernelspec": {
   "display_name": "Python 3 (ipykernel)",
   "language": "python",
   "name": "python3"
  },
  "language_info": {
   "codemirror_mode": {
    "name": "ipython",
    "version": 3
   },
   "file_extension": ".py",
   "mimetype": "text/x-python",
   "name": "python",
   "nbconvert_exporter": "python",
   "pygments_lexer": "ipython3",
   "version": "3.9.16"
  }
 },
 "nbformat": 4,
 "nbformat_minor": 4
}
