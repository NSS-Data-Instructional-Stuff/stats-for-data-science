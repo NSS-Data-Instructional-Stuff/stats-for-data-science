{
 "cells": [
  {
   "cell_type": "markdown",
   "metadata": {},
   "source": [
    "## Bootstrap Confidence Intervals\n",
    "\n",
    "The **empirical bootstrap** is a technique popularized by Bradley Efron in 1979. It is easy to understand and implement, but is just recently gaining popularity, since it is not really feasible without modern computing power. The bootstrap allows us to substitute fast computation for theoretical math.\n",
    "\n",
    "**Big Idea:** perform computations on the data itself to estimate the variation of statistics that are themselves computed from the same data. That is, the data is ‘pulling itself up by its own bootstrap.’ \n",
    "\n",
    "Since the bootstrap allows you to estimate the variance of the sampling distribution of these statistics, you can use this technique to construct confidence intervals.\n",
    "\n",
    "Recall the procedure for building a 95% Bootstrap Conﬁdence Interval:\n",
    "\n",
    "1. Given a sample, ﬁnd the sample statistic $s$. This is the **point estimate**.\n",
    "2. Draw a large number (1,000 or so) resamples from the original sample and calculate the statistic $s^*$ for each.\n",
    "3. Find the 0.025 and 0.975 quantiles of the set of $s^* - s$. We'll call them $a$ and $b$,respectively.\n",
    "4. The 95% conﬁdence interval is given by $[s - b, s - a]$"
   ]
  },
  {
   "cell_type": "code",
   "execution_count": 1,
   "metadata": {},
   "outputs": [],
   "source": [
    "import pandas as pd\n",
    "import numpy as np"
   ]
  },
  {
   "cell_type": "markdown",
   "metadata": {},
   "source": [
    "Let's see how we can create bootstap confidence intervals for different parameters.\n",
    "\n",
    "For this notebook, we'll be working with the Palmer penguins dataset."
   ]
  },
  {
   "cell_type": "code",
   "execution_count": 2,
   "metadata": {},
   "outputs": [],
   "source": [
    "penguins = pd.read_csv('../data/penguins.csv').dropna()"
   ]
  },
  {
   "cell_type": "code",
   "execution_count": 3,
   "metadata": {},
   "outputs": [
    {
     "data": {
      "text/html": [
       "<div>\n",
       "<style scoped>\n",
       "    .dataframe tbody tr th:only-of-type {\n",
       "        vertical-align: middle;\n",
       "    }\n",
       "\n",
       "    .dataframe tbody tr th {\n",
       "        vertical-align: top;\n",
       "    }\n",
       "\n",
       "    .dataframe thead th {\n",
       "        text-align: right;\n",
       "    }\n",
       "</style>\n",
       "<table border=\"1\" class=\"dataframe\">\n",
       "  <thead>\n",
       "    <tr style=\"text-align: right;\">\n",
       "      <th></th>\n",
       "      <th>species</th>\n",
       "      <th>island</th>\n",
       "      <th>bill_length_mm</th>\n",
       "      <th>bill_depth_mm</th>\n",
       "      <th>flipper_length_mm</th>\n",
       "      <th>body_mass_g</th>\n",
       "      <th>sex</th>\n",
       "      <th>year</th>\n",
       "    </tr>\n",
       "  </thead>\n",
       "  <tbody>\n",
       "    <tr>\n",
       "      <th>0</th>\n",
       "      <td>Adelie</td>\n",
       "      <td>Torgersen</td>\n",
       "      <td>39.1</td>\n",
       "      <td>18.7</td>\n",
       "      <td>181.0</td>\n",
       "      <td>3750.0</td>\n",
       "      <td>male</td>\n",
       "      <td>2007</td>\n",
       "    </tr>\n",
       "    <tr>\n",
       "      <th>1</th>\n",
       "      <td>Adelie</td>\n",
       "      <td>Torgersen</td>\n",
       "      <td>39.5</td>\n",
       "      <td>17.4</td>\n",
       "      <td>186.0</td>\n",
       "      <td>3800.0</td>\n",
       "      <td>female</td>\n",
       "      <td>2007</td>\n",
       "    </tr>\n",
       "    <tr>\n",
       "      <th>2</th>\n",
       "      <td>Adelie</td>\n",
       "      <td>Torgersen</td>\n",
       "      <td>40.3</td>\n",
       "      <td>18.0</td>\n",
       "      <td>195.0</td>\n",
       "      <td>3250.0</td>\n",
       "      <td>female</td>\n",
       "      <td>2007</td>\n",
       "    </tr>\n",
       "    <tr>\n",
       "      <th>4</th>\n",
       "      <td>Adelie</td>\n",
       "      <td>Torgersen</td>\n",
       "      <td>36.7</td>\n",
       "      <td>19.3</td>\n",
       "      <td>193.0</td>\n",
       "      <td>3450.0</td>\n",
       "      <td>female</td>\n",
       "      <td>2007</td>\n",
       "    </tr>\n",
       "    <tr>\n",
       "      <th>5</th>\n",
       "      <td>Adelie</td>\n",
       "      <td>Torgersen</td>\n",
       "      <td>39.3</td>\n",
       "      <td>20.6</td>\n",
       "      <td>190.0</td>\n",
       "      <td>3650.0</td>\n",
       "      <td>male</td>\n",
       "      <td>2007</td>\n",
       "    </tr>\n",
       "    <tr>\n",
       "      <th>...</th>\n",
       "      <td>...</td>\n",
       "      <td>...</td>\n",
       "      <td>...</td>\n",
       "      <td>...</td>\n",
       "      <td>...</td>\n",
       "      <td>...</td>\n",
       "      <td>...</td>\n",
       "      <td>...</td>\n",
       "    </tr>\n",
       "    <tr>\n",
       "      <th>339</th>\n",
       "      <td>Chinstrap</td>\n",
       "      <td>Dream</td>\n",
       "      <td>55.8</td>\n",
       "      <td>19.8</td>\n",
       "      <td>207.0</td>\n",
       "      <td>4000.0</td>\n",
       "      <td>male</td>\n",
       "      <td>2009</td>\n",
       "    </tr>\n",
       "    <tr>\n",
       "      <th>340</th>\n",
       "      <td>Chinstrap</td>\n",
       "      <td>Dream</td>\n",
       "      <td>43.5</td>\n",
       "      <td>18.1</td>\n",
       "      <td>202.0</td>\n",
       "      <td>3400.0</td>\n",
       "      <td>female</td>\n",
       "      <td>2009</td>\n",
       "    </tr>\n",
       "    <tr>\n",
       "      <th>341</th>\n",
       "      <td>Chinstrap</td>\n",
       "      <td>Dream</td>\n",
       "      <td>49.6</td>\n",
       "      <td>18.2</td>\n",
       "      <td>193.0</td>\n",
       "      <td>3775.0</td>\n",
       "      <td>male</td>\n",
       "      <td>2009</td>\n",
       "    </tr>\n",
       "    <tr>\n",
       "      <th>342</th>\n",
       "      <td>Chinstrap</td>\n",
       "      <td>Dream</td>\n",
       "      <td>50.8</td>\n",
       "      <td>19.0</td>\n",
       "      <td>210.0</td>\n",
       "      <td>4100.0</td>\n",
       "      <td>male</td>\n",
       "      <td>2009</td>\n",
       "    </tr>\n",
       "    <tr>\n",
       "      <th>343</th>\n",
       "      <td>Chinstrap</td>\n",
       "      <td>Dream</td>\n",
       "      <td>50.2</td>\n",
       "      <td>18.7</td>\n",
       "      <td>198.0</td>\n",
       "      <td>3775.0</td>\n",
       "      <td>female</td>\n",
       "      <td>2009</td>\n",
       "    </tr>\n",
       "  </tbody>\n",
       "</table>\n",
       "<p>333 rows × 8 columns</p>\n",
       "</div>"
      ],
      "text/plain": [
       "       species     island  bill_length_mm  bill_depth_mm  flipper_length_mm  \\\n",
       "0       Adelie  Torgersen            39.1           18.7              181.0   \n",
       "1       Adelie  Torgersen            39.5           17.4              186.0   \n",
       "2       Adelie  Torgersen            40.3           18.0              195.0   \n",
       "4       Adelie  Torgersen            36.7           19.3              193.0   \n",
       "5       Adelie  Torgersen            39.3           20.6              190.0   \n",
       "..         ...        ...             ...            ...                ...   \n",
       "339  Chinstrap      Dream            55.8           19.8              207.0   \n",
       "340  Chinstrap      Dream            43.5           18.1              202.0   \n",
       "341  Chinstrap      Dream            49.6           18.2              193.0   \n",
       "342  Chinstrap      Dream            50.8           19.0              210.0   \n",
       "343  Chinstrap      Dream            50.2           18.7              198.0   \n",
       "\n",
       "     body_mass_g     sex  year  \n",
       "0         3750.0    male  2007  \n",
       "1         3800.0  female  2007  \n",
       "2         3250.0  female  2007  \n",
       "4         3450.0  female  2007  \n",
       "5         3650.0    male  2007  \n",
       "..           ...     ...   ...  \n",
       "339       4000.0    male  2009  \n",
       "340       3400.0  female  2009  \n",
       "341       3775.0    male  2009  \n",
       "342       4100.0    male  2009  \n",
       "343       3775.0  female  2009  \n",
       "\n",
       "[333 rows x 8 columns]"
      ]
     },
     "execution_count": 3,
     "metadata": {},
     "output_type": "execute_result"
    }
   ],
   "source": [
    "penguins"
   ]
  },
  {
   "cell_type": "markdown",
   "metadata": {},
   "source": [
    "## Bootstrap Confidence Intervals for a Single Parameter"
   ]
  },
  {
   "cell_type": "markdown",
   "metadata": {},
   "source": [
    "Let's look just at the adelie penguins."
   ]
  },
  {
   "cell_type": "code",
   "execution_count": 4,
   "metadata": {},
   "outputs": [],
   "source": [
    "adelie = penguins[penguins['species'] == 'Adelie']"
   ]
  },
  {
   "cell_type": "markdown",
   "metadata": {},
   "source": [
    "First, let's build a confidence interval for the mean body mass.\n",
    "\n",
    "The first thing to do is to find our point estimate, the sample mean."
   ]
  },
  {
   "cell_type": "code",
   "execution_count": 5,
   "metadata": {},
   "outputs": [
    {
     "data": {
      "text/plain": [
       "3706.1643835616437"
      ]
     },
     "execution_count": 5,
     "metadata": {},
     "output_type": "execute_result"
    }
   ],
   "source": [
    "point_estimate = adelie['body_mass_g'].mean()\n",
    "point_estimate"
   ]
  },
  {
   "cell_type": "markdown",
   "metadata": {},
   "source": [
    "Then set the number of resamples and the confidence level."
   ]
  },
  {
   "cell_type": "code",
   "execution_count": 6,
   "metadata": {},
   "outputs": [],
   "source": [
    "#Number of Resamples\n",
    "num_resamples = 1000\n",
    "\n",
    "#Confidence Level\n",
    "conf_level = 0.95"
   ]
  },
  {
   "cell_type": "markdown",
   "metadata": {},
   "source": [
    "Using the confidence level, we can determine the cutoff values."
   ]
  },
  {
   "cell_type": "code",
   "execution_count": 7,
   "metadata": {},
   "outputs": [
    {
     "data": {
      "text/plain": [
       "0.025000000000000022"
      ]
     },
     "execution_count": 7,
     "metadata": {},
     "output_type": "execute_result"
    }
   ],
   "source": [
    "margin = (1 - conf_level) / 2\n",
    "margin"
   ]
  },
  {
   "cell_type": "markdown",
   "metadata": {},
   "source": [
    "We can extract out the sample values."
   ]
  },
  {
   "cell_type": "code",
   "execution_count": 8,
   "metadata": {},
   "outputs": [],
   "source": [
    "values = adelie['body_mass_g']"
   ]
  },
  {
   "cell_type": "markdown",
   "metadata": {},
   "source": [
    "To resample these values, we can use the `choice` function from numpy's random module.\n",
    "\n",
    "This function takes in a 1-D array and will randomly sample from that array (with replacement by default). We can also use the `size` parameter in order to draw all of our resamples simulataneously. To use this parameter, we'll give it a tuple containing the number of resamples that we want and the size of the resamples (the same size as the original dataset).\n",
    "\n",
    "Here is an example use of this function:"
   ]
  },
  {
   "cell_type": "code",
   "execution_count": 9,
   "metadata": {},
   "outputs": [
    {
     "data": {
      "text/plain": [
       "array([[2, 3, 2],\n",
       "       [1, 3, 2],\n",
       "       [2, 1, 1],\n",
       "       [1, 3, 1],\n",
       "       [2, 2, 1]])"
      ]
     },
     "execution_count": 9,
     "metadata": {},
     "output_type": "execute_result"
    }
   ],
   "source": [
    "np.random.choice([1,2,3], size = (5,3))"
   ]
  },
  {
   "cell_type": "markdown",
   "metadata": {},
   "source": [
    "Now, let's apply it to our sample values."
   ]
  },
  {
   "cell_type": "code",
   "execution_count": 10,
   "metadata": {},
   "outputs": [],
   "source": [
    "resamples = np.random.choice(values, size = (num_resamples, values.count()))"
   ]
  },
  {
   "cell_type": "code",
   "execution_count": 11,
   "metadata": {},
   "outputs": [
    {
     "data": {
      "text/plain": [
       "array([[3600., 4000., 3900., ..., 3700., 3900., 4300.],\n",
       "       [3475., 4150., 3550., ..., 3550., 3050., 3550.],\n",
       "       [4300., 3800., 4650., ..., 3550., 3300., 4150.],\n",
       "       ...,\n",
       "       [4150., 4000., 3500., ..., 3425., 3950., 3200.],\n",
       "       [4600., 3450., 4300., ..., 4075., 3350., 3550.],\n",
       "       [3475., 3200., 4300., ..., 3650., 3450., 3750.]])"
      ]
     },
     "execution_count": 11,
     "metadata": {},
     "output_type": "execute_result"
    }
   ],
   "source": [
    "resamples"
   ]
  },
  {
   "cell_type": "markdown",
   "metadata": {},
   "source": [
    "Let's verify that this is the correct shape."
   ]
  },
  {
   "cell_type": "code",
   "execution_count": 12,
   "metadata": {},
   "outputs": [
    {
     "data": {
      "text/plain": [
       "(1000, 146)"
      ]
     },
     "execution_count": 12,
     "metadata": {},
     "output_type": "execute_result"
    }
   ],
   "source": [
    "resamples.shape"
   ]
  },
  {
   "cell_type": "markdown",
   "metadata": {},
   "source": [
    "This is an array where each row is a different resample. An advantage of creating the resamples in this way is that we can compute the mean values of all resamples simultaneously using the `mean` method. When doing this, we need to specify that we want to compute these using `axis = 1`, which indicates that we are computing the mean across the rows."
   ]
  },
  {
   "cell_type": "code",
   "execution_count": 13,
   "metadata": {},
   "outputs": [
    {
     "data": {
      "text/plain": [
       "array([3706.67808219, 3750.        , 3641.95205479, 3656.84931507,\n",
       "       3732.70547945, 3726.88356164, 3686.13013699, 3686.13013699,\n",
       "       3672.43150685, 3678.93835616, 3696.74657534, 3718.49315068,\n",
       "       3693.83561644, 3637.32876712, 3784.07534247, 3731.33561644,\n",
       "       3706.50684932, 3746.91780822, 3692.80821918, 3652.39726027,\n",
       "       3711.98630137, 3707.02054795, 3703.76712329, 3698.45890411,\n",
       "       3632.87671233, 3687.15753425, 3680.1369863 , 3686.81506849,\n",
       "       3730.47945205, 3763.52739726, 3711.47260274, 3690.23972603,\n",
       "       3745.03424658, 3666.60958904, 3706.67808219, 3664.38356164,\n",
       "       3714.38356164, 3729.79452055, 3733.73287671, 3669.69178082,\n",
       "       3755.47945205, 3719.34931507, 3665.92465753, 3745.54794521,\n",
       "       3728.93835616, 3709.76027397, 3745.71917808, 3704.10958904,\n",
       "       3725.17123288, 3689.21232877, 3676.19863014, 3709.24657534,\n",
       "       3729.10958904, 3674.82876712, 3711.98630137, 3675.34246575,\n",
       "       3704.28082192, 3709.24657534, 3699.48630137, 3753.59589041,\n",
       "       3727.2260274 , 3718.66438356, 3723.11643836, 3751.19863014,\n",
       "       3711.13013699, 3698.28767123, 3757.19178082, 3670.37671233,\n",
       "       3643.32191781, 3737.67123288, 3719.8630137 , 3663.69863014,\n",
       "       3772.0890411 , 3645.89041096, 3688.52739726, 3753.42465753,\n",
       "       3733.90410959, 3677.73972603, 3728.08219178, 3685.95890411,\n",
       "       3685.44520548, 3745.37671233, 3737.67123288, 3747.0890411 ,\n",
       "       3702.05479452, 3661.30136986, 3697.94520548, 3774.31506849,\n",
       "       3754.28082192, 3660.61643836, 3706.67808219, 3702.05479452,\n",
       "       3755.82191781, 3741.95205479, 3721.40410959, 3679.45205479,\n",
       "       3769.34931507, 3669.17808219, 3716.43835616, 3727.9109589 ,\n",
       "       3703.76712329, 3676.19863014, 3675.51369863, 3682.02054795,\n",
       "       3694.34931507, 3709.24657534, 3696.57534247, 3686.64383562,\n",
       "       3688.35616438, 3703.42465753, 3663.18493151, 3722.94520548,\n",
       "       3715.92465753, 3713.86986301, 3690.06849315, 3782.87671233,\n",
       "       3721.23287671, 3641.78082192, 3719.8630137 , 3744.8630137 ,\n",
       "       3719.69178082, 3636.13013699, 3767.29452055, 3796.57534247,\n",
       "       3720.89041096, 3667.80821918, 3718.49315068, 3670.37671233,\n",
       "       3788.01369863, 3690.06849315, 3765.06849315, 3725.34246575,\n",
       "       3694.17808219, 3716.09589041, 3769.69178082, 3643.15068493,\n",
       "       3766.60958904, 3720.71917808, 3669.34931507, 3725.51369863,\n",
       "       3741.60958904, 3682.53424658, 3673.45890411, 3783.56164384,\n",
       "       3730.1369863 , 3665.4109589 , 3701.36986301, 3744.8630137 ,\n",
       "       3792.6369863 , 3734.07534247, 3733.39041096, 3661.47260274,\n",
       "       3599.82876712, 3708.56164384, 3720.71917808, 3667.80821918,\n",
       "       3682.19178082, 3735.44520548, 3705.82191781, 3655.65068493,\n",
       "       3678.08219178, 3655.1369863 , 3678.76712329, 3767.97945205,\n",
       "       3663.18493151, 3681.16438356, 3696.74657534, 3706.33561644,\n",
       "       3740.4109589 , 3783.04794521, 3775.85616438, 3669.8630137 ,\n",
       "       3642.80821918, 3729.79452055, 3728.93835616, 3666.95205479,\n",
       "       3695.20547945, 3715.23972603, 3682.70547945, 3698.97260274,\n",
       "       3700.85616438, 3703.25342466, 3713.69863014, 3687.5       ,\n",
       "       3704.28082192, 3702.73972603, 3707.70547945, 3652.56849315,\n",
       "       3685.10273973, 3731.84931507, 3650.        , 3711.30136986,\n",
       "       3641.26712329, 3764.7260274 , 3737.32876712, 3644.69178082,\n",
       "       3722.0890411 , 3721.91780822, 3721.06164384, 3672.43150685,\n",
       "       3738.35616438, 3675.68493151, 3719.52054795, 3649.82876712,\n",
       "       3705.30821918, 3680.65068493, 3724.65753425, 3654.45205479,\n",
       "       3690.4109589 , 3772.94520548, 3662.84246575, 3718.66438356,\n",
       "       3735.44520548, 3670.03424658, 3685.78767123, 3720.54794521,\n",
       "       3661.64383562, 3780.30821918, 3791.09589041, 3706.33561644,\n",
       "       3664.38356164, 3650.        , 3704.10958904, 3777.73972603,\n",
       "       3723.63013699, 3673.28767123, 3638.01369863, 3728.25342466,\n",
       "       3713.18493151, 3689.21232877, 3694.00684932, 3742.6369863 ,\n",
       "       3738.18493151, 3680.47945205, 3748.63013699, 3649.14383562,\n",
       "       3751.19863014, 3692.12328767, 3670.20547945, 3736.81506849,\n",
       "       3769.69178082, 3759.93150685, 3697.26027397, 3715.4109589 ,\n",
       "       3754.10958904, 3676.71232877, 3721.91780822, 3692.6369863 ,\n",
       "       3689.38356164, 3756.67808219, 3703.25342466, 3712.84246575,\n",
       "       3743.83561644, 3786.30136986, 3703.76712329, 3729.62328767,\n",
       "       3700.85616438, 3669.69178082, 3721.40410959, 3682.3630137 ,\n",
       "       3634.41780822, 3686.30136986, 3717.97945205, 3729.10958904,\n",
       "       3643.66438356, 3772.94520548, 3617.6369863 , 3658.73287671,\n",
       "       3719.34931507, 3702.9109589 , 3721.74657534, 3723.45890411,\n",
       "       3688.86986301, 3715.58219178, 3735.44520548, 3730.30821918,\n",
       "       3702.73972603, 3726.71232877, 3663.86986301, 3703.08219178,\n",
       "       3692.46575342, 3666.60958904, 3621.91780822, 3653.93835616,\n",
       "       3722.60273973, 3631.67808219, 3721.74657534, 3689.04109589,\n",
       "       3681.16438356, 3728.59589041, 3776.71232877, 3641.26712329,\n",
       "       3665.92465753, 3717.29452055, 3606.84931507, 3690.23972603,\n",
       "       3682.87671233, 3659.24657534, 3728.08219178, 3716.60958904,\n",
       "       3686.47260274, 3675.        , 3659.07534247, 3644.8630137 ,\n",
       "       3749.48630137, 3717.12328767, 3694.52054795, 3696.57534247,\n",
       "       3715.92465753, 3712.84246575, 3700.51369863, 3674.65753425,\n",
       "       3710.44520548, 3712.84246575, 3709.07534247, 3666.43835616,\n",
       "       3672.0890411 , 3713.01369863, 3690.75342466, 3754.79452055,\n",
       "       3738.52739726, 3767.29452055, 3765.4109589 , 3709.76027397,\n",
       "       3711.47260274, 3736.64383562, 3691.95205479, 3717.80821918,\n",
       "       3747.60273973, 3713.69863014, 3678.93835616, 3693.32191781,\n",
       "       3687.84246575, 3660.78767123, 3700.85616438, 3766.95205479,\n",
       "       3764.7260274 , 3747.94520548, 3771.40410959, 3717.97945205,\n",
       "       3663.69863014, 3767.46575342, 3732.19178082, 3736.47260274,\n",
       "       3696.91780822, 3664.38356164, 3707.53424658, 3768.32191781,\n",
       "       3622.60273973, 3707.3630137 , 3768.49315068, 3615.06849315,\n",
       "       3701.02739726, 3691.95205479, 3652.9109589 , 3676.19863014,\n",
       "       3744.34931507, 3698.63013699, 3687.15753425, 3698.97260274,\n",
       "       3707.53424658, 3755.30821918, 3709.93150685, 3724.31506849,\n",
       "       3727.73972603, 3702.2260274 , 3681.50684932, 3692.80821918,\n",
       "       3741.26712329, 3687.84246575, 3688.52739726, 3669.52054795,\n",
       "       3765.75342466, 3660.10273973, 3678.42465753, 3672.60273973,\n",
       "       3698.45890411, 3708.56164384, 3743.66438356, 3704.28082192,\n",
       "       3786.47260274, 3655.65068493, 3710.95890411, 3707.19178082,\n",
       "       3726.36986301, 3804.28082192, 3685.2739726 , 3745.71917808,\n",
       "       3735.44520548, 3740.23972603, 3680.1369863 , 3704.96575342,\n",
       "       3630.1369863 , 3712.32876712, 3701.19863014, 3658.56164384,\n",
       "       3664.89726027, 3709.93150685, 3759.24657534, 3667.6369863 ,\n",
       "       3633.56164384, 3726.36986301, 3709.41780822, 3741.95205479,\n",
       "       3688.18493151, 3698.97260274, 3647.60273973, 3678.93835616,\n",
       "       3643.32191781, 3639.89726027, 3680.1369863 , 3703.76712329,\n",
       "       3781.33561644, 3719.52054795, 3641.09589041, 3715.92465753,\n",
       "       3725.17123288, 3703.42465753, 3764.7260274 , 3706.50684932,\n",
       "       3668.66438356, 3741.09589041, 3695.03424658, 3770.37671233,\n",
       "       3685.44520548, 3698.97260274, 3729.45205479, 3719.34931507,\n",
       "       3711.98630137, 3648.28767123, 3705.82191781, 3685.61643836,\n",
       "       3745.20547945, 3726.19863014, 3752.39726027, 3646.57534247,\n",
       "       3775.68493151, 3734.07534247, 3714.38356164, 3805.47945205,\n",
       "       3740.92465753, 3673.45890411, 3761.47260274, 3664.89726027,\n",
       "       3719.17808219, 3678.08219178, 3704.96575342, 3719.34931507,\n",
       "       3655.47945205, 3757.3630137 , 3686.64383562, 3679.10958904,\n",
       "       3719.17808219, 3699.82876712, 3706.50684932, 3767.6369863 ,\n",
       "       3669.17808219, 3682.02054795, 3711.98630137, 3723.45890411,\n",
       "       3712.32876712, 3726.54109589, 3702.56849315, 3796.74657534,\n",
       "       3705.99315068, 3679.96575342, 3702.2260274 , 3705.99315068,\n",
       "       3667.29452055, 3711.47260274, 3735.2739726 , 3718.49315068,\n",
       "       3705.82191781, 3687.5       , 3779.96575342, 3619.00684932,\n",
       "       3736.98630137, 3688.01369863, 3704.45205479, 3705.82191781,\n",
       "       3795.71917808, 3695.71917808, 3718.15068493, 3735.44520548,\n",
       "       3671.06164384, 3725.51369863, 3671.40410959, 3654.62328767,\n",
       "       3802.73972603, 3673.97260274, 3694.8630137 , 3715.92465753,\n",
       "       3690.75342466, 3756.16438356, 3763.35616438, 3745.20547945,\n",
       "       3682.19178082, 3700.17123288, 3698.80136986, 3797.7739726 ,\n",
       "       3666.43835616, 3630.1369863 , 3715.75342466, 3799.48630137,\n",
       "       3685.2739726 , 3674.31506849, 3723.11643836, 3692.97945205,\n",
       "       3741.78082192, 3733.73287671, 3783.56164384, 3714.04109589,\n",
       "       3682.02054795, 3627.2260274 , 3735.2739726 , 3734.93150685,\n",
       "       3711.30136986, 3675.34246575, 3708.73287671, 3706.67808219,\n",
       "       3695.37671233, 3663.18493151, 3700.17123288, 3733.90410959,\n",
       "       3669.17808219, 3724.14383562, 3715.58219178, 3695.89041096,\n",
       "       3662.32876712, 3676.54109589, 3740.4109589 , 3615.23972603,\n",
       "       3714.89726027, 3692.12328767, 3689.38356164, 3664.21232877,\n",
       "       3724.48630137, 3696.91780822, 3689.89726027, 3612.84246575,\n",
       "       3707.53424658, 3680.30821918, 3650.68493151, 3682.70547945,\n",
       "       3733.90410959, 3731.84931507, 3679.45205479, 3665.4109589 ,\n",
       "       3685.10273973, 3722.94520548, 3724.82876712, 3738.01369863,\n",
       "       3636.30136986, 3691.43835616, 3672.43150685, 3679.96575342,\n",
       "       3688.52739726, 3705.30821918, 3654.62328767, 3704.79452055,\n",
       "       3671.06164384, 3721.74657534, 3652.9109589 , 3724.82876712,\n",
       "       3742.80821918, 3744.69178082, 3728.42465753, 3729.28082192,\n",
       "       3681.16438356, 3696.91780822, 3629.10958904, 3640.23972603,\n",
       "       3650.51369863, 3735.78767123, 3718.49315068, 3708.56164384,\n",
       "       3718.32191781, 3714.89726027, 3681.50684932, 3700.34246575,\n",
       "       3701.36986301, 3678.25342466, 3723.63013699, 3676.36986301,\n",
       "       3672.60273973, 3662.84246575, 3696.40410959, 3714.55479452,\n",
       "       3729.28082192, 3746.91780822, 3679.28082192, 3702.2260274 ,\n",
       "       3688.69863014, 3692.97945205, 3672.26027397, 3685.95890411,\n",
       "       3729.79452055, 3673.28767123, 3695.71917808, 3688.35616438,\n",
       "       3703.93835616, 3665.75342466, 3693.15068493, 3768.15068493,\n",
       "       3637.15753425, 3698.28767123, 3715.92465753, 3697.0890411 ,\n",
       "       3769.34931507, 3655.1369863 , 3737.32876712, 3710.10273973,\n",
       "       3670.37671233, 3777.05479452, 3798.80136986, 3683.21917808,\n",
       "       3672.26027397, 3719.34931507, 3691.43835616, 3719.00684932,\n",
       "       3657.53424658, 3725.85616438, 3701.71232877, 3720.54794521,\n",
       "       3759.24657534, 3736.98630137, 3654.79452055, 3717.12328767,\n",
       "       3715.92465753, 3726.88356164, 3659.5890411 , 3676.71232877,\n",
       "       3721.06164384, 3677.56849315, 3721.06164384, 3673.45890411,\n",
       "       3729.28082192, 3757.19178082, 3683.04794521, 3720.20547945,\n",
       "       3650.68493151, 3669.52054795, 3684.41780822, 3663.86986301,\n",
       "       3679.10958904, 3736.81506849, 3664.89726027, 3654.28082192,\n",
       "       3702.05479452, 3742.12328767, 3744.8630137 , 3771.40410959,\n",
       "       3663.86986301, 3713.18493151, 3696.57534247, 3742.46575342,\n",
       "       3694.69178082, 3739.04109589, 3742.97945205, 3717.80821918,\n",
       "       3754.45205479, 3635.2739726 , 3745.03424658, 3745.03424658,\n",
       "       3768.49315068, 3738.01369863, 3666.60958904, 3705.30821918,\n",
       "       3735.44520548, 3656.67808219, 3674.82876712, 3715.58219178,\n",
       "       3752.9109589 , 3719.00684932, 3679.10958904, 3735.10273973,\n",
       "       3718.83561644, 3748.11643836, 3750.68493151, 3695.89041096,\n",
       "       3656.50684932, 3696.57534247, 3717.29452055, 3711.47260274,\n",
       "       3706.84931507, 3721.40410959, 3717.12328767, 3761.13013699,\n",
       "       3652.2260274 , 3672.0890411 , 3714.04109589, 3788.69863014,\n",
       "       3632.3630137 , 3763.69863014, 3682.02054795, 3703.25342466,\n",
       "       3715.92465753, 3725.34246575, 3717.97945205, 3717.12328767,\n",
       "       3699.65753425, 3678.08219178, 3766.95205479, 3764.38356164,\n",
       "       3744.8630137 , 3665.23972603, 3742.97945205, 3699.14383562,\n",
       "       3745.03424658, 3627.2260274 , 3709.41780822, 3683.39041096,\n",
       "       3712.5       , 3774.48630137, 3664.7260274 , 3644.34931507,\n",
       "       3661.47260274, 3684.93150685, 3719.69178082, 3682.3630137 ,\n",
       "       3681.67808219, 3628.93835616, 3716.26712329, 3673.97260274,\n",
       "       3681.50684932, 3623.63013699, 3725.68493151, 3687.32876712,\n",
       "       3747.7739726 , 3712.67123288, 3738.35616438, 3751.54109589,\n",
       "       3694.17808219, 3735.95890411, 3733.21917808, 3664.7260274 ,\n",
       "       3634.24657534, 3729.10958904, 3741.95205479, 3712.67123288,\n",
       "       3702.9109589 , 3712.67123288, 3766.60958904, 3767.46575342,\n",
       "       3717.29452055, 3641.43835616, 3734.5890411 , 3694.00684932,\n",
       "       3724.82876712, 3670.20547945, 3721.91780822, 3730.30821918,\n",
       "       3713.35616438, 3728.93835616, 3650.17123288, 3666.95205479,\n",
       "       3647.0890411 , 3735.10273973, 3705.65068493, 3627.05479452,\n",
       "       3650.17123288, 3733.73287671, 3709.93150685, 3739.55479452,\n",
       "       3661.64383562, 3724.65753425, 3743.49315068, 3665.23972603,\n",
       "       3740.75342466, 3723.11643836, 3696.74657534, 3702.73972603,\n",
       "       3686.64383562, 3705.1369863 , 3614.21232877, 3668.15068493,\n",
       "       3716.43835616, 3670.20547945, 3673.28767123, 3739.55479452,\n",
       "       3700.        , 3659.24657534, 3719.34931507, 3667.29452055,\n",
       "       3702.73972603, 3686.81506849, 3660.10273973, 3738.52739726,\n",
       "       3746.40410959, 3681.16438356, 3658.21917808, 3722.26027397,\n",
       "       3767.6369863 , 3664.89726027, 3762.5       , 3657.53424658,\n",
       "       3691.26712329, 3638.86986301, 3719.17808219, 3746.40410959,\n",
       "       3620.71917808, 3628.93835616, 3669.52054795, 3764.55479452,\n",
       "       3767.80821918, 3709.41780822, 3759.07534247, 3664.38356164,\n",
       "       3749.48630137, 3812.67123288, 3699.31506849, 3677.9109589 ,\n",
       "       3705.82191781, 3792.6369863 , 3719.34931507, 3729.10958904,\n",
       "       3653.59589041, 3756.67808219, 3644.00684932, 3725.34246575,\n",
       "       3664.04109589, 3680.1369863 , 3703.93835616, 3729.10958904,\n",
       "       3699.65753425, 3647.0890411 , 3678.76712329, 3659.76027397,\n",
       "       3672.0890411 , 3630.1369863 , 3724.65753425, 3716.26712329,\n",
       "       3743.83561644, 3761.98630137, 3677.9109589 , 3715.75342466,\n",
       "       3727.39726027, 3659.5890411 , 3707.70547945, 3747.60273973,\n",
       "       3761.81506849, 3700.17123288, 3743.83561644, 3701.19863014,\n",
       "       3719.8630137 , 3691.26712329, 3701.54109589, 3727.56849315,\n",
       "       3627.56849315, 3653.08219178, 3746.74657534, 3690.92465753,\n",
       "       3769.34931507, 3668.83561644, 3722.0890411 , 3656.50684932,\n",
       "       3680.1369863 , 3712.32876712, 3702.05479452, 3643.15068493,\n",
       "       3706.50684932, 3702.73972603, 3604.96575342, 3747.43150685,\n",
       "       3657.53424658, 3712.5       , 3753.25342466, 3726.19863014,\n",
       "       3741.78082192, 3660.10273973, 3715.92465753, 3703.42465753,\n",
       "       3739.89726027, 3720.03424658, 3714.38356164, 3700.        ,\n",
       "       3651.54109589, 3701.36986301, 3705.1369863 , 3682.53424658,\n",
       "       3692.6369863 , 3665.92465753, 3718.49315068, 3673.63013699,\n",
       "       3623.45890411, 3697.0890411 , 3696.23287671, 3697.60273973,\n",
       "       3743.49315068, 3692.80821918, 3717.12328767, 3702.56849315,\n",
       "       3733.39041096, 3734.76027397, 3721.23287671, 3707.87671233,\n",
       "       3699.14383562, 3690.92465753, 3672.26027397, 3742.46575342,\n",
       "       3810.61643836, 3683.73287671, 3692.6369863 , 3699.82876712,\n",
       "       3667.6369863 , 3713.35616438, 3676.71232877, 3667.80821918,\n",
       "       3765.23972603, 3759.5890411 , 3751.02739726, 3665.58219178,\n",
       "       3712.67123288, 3704.62328767, 3689.21232877, 3688.01369863,\n",
       "       3746.40410959, 3667.12328767, 3720.37671233, 3739.21232877,\n",
       "       3700.51369863, 3744.00684932, 3780.1369863 , 3718.49315068,\n",
       "       3720.54794521, 3756.67808219, 3738.52739726, 3742.6369863 ,\n",
       "       3716.78082192, 3626.71232877, 3681.84931507, 3745.03424658,\n",
       "       3697.60273973, 3748.11643836, 3724.82876712, 3719.00684932,\n",
       "       3715.58219178, 3759.07534247, 3660.95890411, 3706.50684932,\n",
       "       3715.58219178, 3650.68493151, 3703.93835616, 3725.51369863,\n",
       "       3704.45205479, 3710.44520548, 3694.52054795, 3704.45205479,\n",
       "       3697.94520548, 3683.56164384, 3671.23287671, 3723.80136986,\n",
       "       3704.28082192, 3733.04794521, 3714.38356164, 3701.88356164,\n",
       "       3637.5       , 3665.92465753, 3692.46575342, 3663.86986301,\n",
       "       3669.34931507, 3694.69178082, 3777.56849315, 3723.28767123,\n",
       "       3674.48630137, 3722.43150685, 3627.56849315, 3730.65068493,\n",
       "       3706.84931507, 3778.93835616, 3641.26712329, 3720.03424658,\n",
       "       3735.95890411, 3629.96575342, 3678.08219178, 3648.28767123,\n",
       "       3636.30136986, 3743.32191781, 3725.        , 3767.80821918,\n",
       "       3702.05479452, 3683.39041096, 3776.71232877, 3705.99315068,\n",
       "       3682.02054795, 3691.43835616, 3756.33561644, 3649.31506849,\n",
       "       3708.90410959, 3674.14383562, 3757.02054795, 3740.4109589 ,\n",
       "       3734.5890411 , 3739.89726027, 3726.02739726, 3709.93150685,\n",
       "       3640.23972603, 3677.39726027, 3700.17123288, 3697.0890411 ])"
      ]
     },
     "execution_count": 13,
     "metadata": {},
     "output_type": "execute_result"
    }
   ],
   "source": [
    "resamples.mean(axis = 1)"
   ]
  },
  {
   "cell_type": "markdown",
   "metadata": {},
   "source": [
    "To create out bootstrap samples, we need to compute the difference between the resample means and the point estimate."
   ]
  },
  {
   "cell_type": "code",
   "execution_count": 14,
   "metadata": {},
   "outputs": [],
   "source": [
    "diffs = resamples.mean(axis = 1) - point_estimate"
   ]
  },
  {
   "cell_type": "markdown",
   "metadata": {},
   "source": [
    "Now, we can find the quantiles of these differences to get the upper and lower bounds."
   ]
  },
  {
   "cell_type": "code",
   "execution_count": 15,
   "metadata": {},
   "outputs": [
    {
     "name": "stdout",
     "output_type": "stream",
     "text": [
      "lower bound:  3632.1875\n",
      "upper bound:  3782.1917808219177\n"
     ]
    }
   ],
   "source": [
    "a = np.quantile(diffs, q = margin)\n",
    "b = np.quantile(diffs, q = 1 - margin)\n",
    "\n",
    "print('lower bound: ', point_estimate - b)\n",
    "print('upper bound: ', point_estimate - a)"
   ]
  },
  {
   "cell_type": "markdown",
   "metadata": {},
   "source": [
    "Let's condense all of the code into one cell."
   ]
  },
  {
   "cell_type": "code",
   "execution_count": 16,
   "metadata": {},
   "outputs": [
    {
     "name": "stdout",
     "output_type": "stream",
     "text": [
      "lower bound:  3631.8450342465753\n",
      "upper bound:  3779.2808219178078\n"
     ]
    }
   ],
   "source": [
    "num_resamples = 10000\n",
    "conf_level = 0.95\n",
    "\n",
    "margin = (1 - conf_level) / 2\n",
    "\n",
    "values = adelie['body_mass_g']\n",
    "\n",
    "point_estimate = values.mean()\n",
    "\n",
    "resamples = np.random.choice(values, size = (num_resamples, values.count()))\n",
    "\n",
    "diffs = resamples.mean(axis = 1) - point_estimate\n",
    "\n",
    "a = np.quantile(diffs, q = margin)\n",
    "b = np.quantile(diffs, q = 1 - margin)\n",
    "\n",
    "print('lower bound: ', point_estimate - b)\n",
    "print('upper bound: ', point_estimate - a)"
   ]
  },
  {
   "cell_type": "markdown",
   "metadata": {},
   "source": [
    "Let's compare this to the $t$-interval, which we've seen before."
   ]
  },
  {
   "cell_type": "code",
   "execution_count": 17,
   "metadata": {},
   "outputs": [],
   "source": [
    "from scipy.stats import t, sem"
   ]
  },
  {
   "cell_type": "code",
   "execution_count": 18,
   "metadata": {},
   "outputs": [
    {
     "data": {
      "text/plain": [
       "(3631.1465318672153, 3781.182235256072)"
      ]
     },
     "execution_count": 18,
     "metadata": {},
     "output_type": "execute_result"
    }
   ],
   "source": [
    "t.interval(confidence = 0.95, \n",
    "           df = values.count() - 1, \n",
    "           loc = values.mean(), \n",
    "           scale = sem(values))"
   ]
  },
  {
   "cell_type": "markdown",
   "metadata": {},
   "source": [
    "One major advantage of the bootstrap is that we can use it for statistics even when we don't know the exact sampling distribution. For example, let's find the 95% bootstrap confidence interval for the median.\n",
    "\n",
    "Note that the median funtion is not built into numpy arrays, but we can use the `np.median` function and specify the axis for this calculation."
   ]
  },
  {
   "cell_type": "code",
   "execution_count": 19,
   "metadata": {},
   "outputs": [
    {
     "name": "stdout",
     "output_type": "stream",
     "text": [
      "lower bound:  189.0\n",
      "upper bound:  191.0\n"
     ]
    }
   ],
   "source": [
    "num_resamples = 10000\n",
    "conf_level = 0.95\n",
    "\n",
    "margin = (1 - conf_level) / 2\n",
    "\n",
    "values = adelie['flipper_length_mm']\n",
    "\n",
    "point_estimate = values.median()\n",
    "\n",
    "resamples = np.random.choice(values, size = (num_resamples, values.count()))\n",
    "\n",
    "diffs = np.median(resamples, axis = 1) - point_estimate\n",
    "\n",
    "a = np.quantile(diffs, q = margin)\n",
    "b = np.quantile(diffs, q = 1 - margin)\n",
    "\n",
    "print('lower bound: ', point_estimate - b)\n",
    "print('upper bound: ', point_estimate - a)"
   ]
  },
  {
   "cell_type": "markdown",
   "metadata": {},
   "source": [
    "**Your Turn:** Modify the above code to find a 95% bootstrap confidence interval for the standard deviation of the flipper length."
   ]
  },
  {
   "cell_type": "code",
   "execution_count": 20,
   "metadata": {},
   "outputs": [],
   "source": [
    "# Your code here"
   ]
  },
  {
   "cell_type": "markdown",
   "metadata": {},
   "source": [
    "### Bootstrap Confidence Interval for a Proportion\n",
    "\n",
    "Now, let's see how we can create bootstrap confidence interval for a proportion.\n",
    "\n",
    "For this, we'll work with a sample from the hotel booking demand dataset, which is described [here](https://www.sciencedirect.com/science/article/pii/S2352340918315191)."
   ]
  },
  {
   "cell_type": "code",
   "execution_count": 21,
   "metadata": {},
   "outputs": [],
   "source": [
    "bookings = pd.read_csv('../data/bookings_sample.csv')"
   ]
  },
  {
   "cell_type": "markdown",
   "metadata": {},
   "source": [
    "Specifically, let's estimate the proportion of reservations at city hotels that are canceled."
   ]
  },
  {
   "cell_type": "markdown",
   "metadata": {},
   "source": [
    "In order to quickly calculate a proportion, we can make use of the `mean` method of a numpy array. We can do this by checking that an observation is equal to a desired value and then using `mean` on the resulting array of Boolean values. (Note: in this case we do not have to check that the values are equal to 1 prior to using `mean`, but in cases where your variables are not encoded as 0/1, it would be necessary.)"
   ]
  },
  {
   "cell_type": "markdown",
   "metadata": {},
   "source": [
    "First, let's see what the observed frequency of bookings that are canceled."
   ]
  },
  {
   "cell_type": "code",
   "execution_count": 22,
   "metadata": {},
   "outputs": [
    {
     "data": {
      "text/plain": [
       "0.41"
      ]
     },
     "execution_count": 22,
     "metadata": {},
     "output_type": "execute_result"
    }
   ],
   "source": [
    "(bookings['is_canceled'] == 1).mean()"
   ]
  },
  {
   "cell_type": "markdown",
   "metadata": {},
   "source": [
    "Now, we can largely reuse the code from above for our confidence interval."
   ]
  },
  {
   "cell_type": "code",
   "execution_count": 23,
   "metadata": {},
   "outputs": [
    {
     "name": "stdout",
     "output_type": "stream",
     "text": [
      "lower bound:  0.37999999999999995\n",
      "upper bound:  0.43999999999999995\n"
     ]
    }
   ],
   "source": [
    "num_resamples = 10000\n",
    "conf_level = 0.95\n",
    "\n",
    "margin = (1 - conf_level) / 2\n",
    "\n",
    "values = bookings['is_canceled']\n",
    "\n",
    "point_estimate = (values == 1).mean()\n",
    "\n",
    "resamples = np.random.choice(values, size = (num_resamples, values.count()))\n",
    "\n",
    "diffs = (resamples == 1).mean(axis = 1) - point_estimate\n",
    "\n",
    "a = np.quantile(diffs, q = margin)\n",
    "b = np.quantile(diffs, q = 1 - margin)\n",
    "\n",
    "print('lower bound: ', point_estimate - b)\n",
    "print('upper bound: ', point_estimate - a)"
   ]
  },
  {
   "cell_type": "markdown",
   "metadata": {},
   "source": [
    "## Confidence Interval for a Difference"
   ]
  },
  {
   "cell_type": "markdown",
   "metadata": {},
   "source": [
    "Sometimes, you may be interested in comparing the parameter value of two different groups. We can construct a confidence interval for the difference in parameters in a similar way as above, but we'll need to resample from each group.\n",
    "\n",
    "For example, let's say we want to build a confidence interval for the difference in the mean body mass between adelie and chinstrap penguins."
   ]
  },
  {
   "cell_type": "code",
   "execution_count": 24,
   "metadata": {},
   "outputs": [
    {
     "data": {
      "image/png": "[encoded data removed]",
      "text/plain": [
       "<Figure size 640x480 with 1 Axes>"
      ]
     },
     "metadata": {},
     "output_type": "display_data"
    }
   ],
   "source": [
    "import seaborn as sns\n",
    "sns.boxplot(data = penguins, x = 'species', y = 'body_mass_g');"
   ]
  },
  {
   "cell_type": "code",
   "execution_count": 25,
   "metadata": {},
   "outputs": [
    {
     "name": "stdout",
     "output_type": "stream",
     "text": [
      "lower bound:  -89.46980761482631\n",
      "upper bound:  141.91944500402903\n"
     ]
    }
   ],
   "source": [
    "chinstrap = penguins[penguins['species'] == 'Chinstrap']\n",
    "\n",
    "chinstrap_values = chinstrap['body_mass_g']\n",
    "adelie_values = adelie['body_mass_g']\n",
    "\n",
    "num_resamples = 10000\n",
    "conf_level = 0.95\n",
    "\n",
    "margin = (1 - conf_level) / 2\n",
    "\n",
    "chinstrap_resamples = np.random.choice(chinstrap_values, size = (num_resamples, chinstrap_values.count()))\n",
    "adelie_resamples = np.random.choice(adelie_values, size = (num_resamples, adelie_values.count()))\n",
    "\n",
    "point_estimate = chinstrap_values.mean() - adelie_values.mean()\n",
    "\n",
    "diffs = chinstrap_resamples.mean(axis = 1) - adelie_resamples.mean(axis = 1) - point_estimate\n",
    "\n",
    "a = np.quantile(diffs, q = margin)\n",
    "b = np.quantile(diffs, q = 1 - margin)\n",
    "\n",
    "print('lower bound: ', point_estimate - b)\n",
    "print('upper bound: ', point_estimate - a)"
   ]
  },
  {
   "cell_type": "markdown",
   "metadata": {},
   "source": [
    "The fact that our confidence interval contains zero says that we can't immediately dismiss the possibility that adelie and chinstrap penguins have the same body mass on average."
   ]
  },
  {
   "cell_type": "markdown",
   "metadata": {},
   "source": [
    "## Confidence Interval for Correlation\n",
    "\n",
    "Finally, let's see how we can construct a bootstrap confidence interval for a correlation coefficient."
   ]
  },
  {
   "cell_type": "markdown",
   "metadata": {},
   "source": [
    "First, let's remember how to find the correlation. Specifically, let's look at the correlation between flipper length and bill depth for adelie penguins."
   ]
  },
  {
   "cell_type": "code",
   "execution_count": 26,
   "metadata": {},
   "outputs": [
    {
     "data": {
      "image/png": "[encoded data removed]",
      "text/plain": [
       "<Figure size 640x480 with 1 Axes>"
      ]
     },
     "metadata": {},
     "output_type": "display_data"
    }
   ],
   "source": [
    "adelie.plot(kind = 'scatter', x = 'bill_depth_mm', y = 'flipper_length_mm');"
   ]
  },
  {
   "cell_type": "code",
   "execution_count": 27,
   "metadata": {},
   "outputs": [
    {
     "data": {
      "text/html": [
       "<div>\n",
       "<style scoped>\n",
       "    .dataframe tbody tr th:only-of-type {\n",
       "        vertical-align: middle;\n",
       "    }\n",
       "\n",
       "    .dataframe tbody tr th {\n",
       "        vertical-align: top;\n",
       "    }\n",
       "\n",
       "    .dataframe thead th {\n",
       "        text-align: right;\n",
       "    }\n",
       "</style>\n",
       "<table border=\"1\" class=\"dataframe\">\n",
       "  <thead>\n",
       "    <tr style=\"text-align: right;\">\n",
       "      <th></th>\n",
       "      <th>flipper_length_mm</th>\n",
       "      <th>bill_depth_mm</th>\n",
       "    </tr>\n",
       "  </thead>\n",
       "  <tbody>\n",
       "    <tr>\n",
       "      <th>flipper_length_mm</th>\n",
       "      <td>1.000000</td>\n",
       "      <td>0.310897</td>\n",
       "    </tr>\n",
       "    <tr>\n",
       "      <th>bill_depth_mm</th>\n",
       "      <td>0.310897</td>\n",
       "      <td>1.000000</td>\n",
       "    </tr>\n",
       "  </tbody>\n",
       "</table>\n",
       "</div>"
      ],
      "text/plain": [
       "                   flipper_length_mm  bill_depth_mm\n",
       "flipper_length_mm           1.000000       0.310897\n",
       "bill_depth_mm               0.310897       1.000000"
      ]
     },
     "execution_count": 27,
     "metadata": {},
     "output_type": "execute_result"
    }
   ],
   "source": [
    "adelie[['flipper_length_mm', 'bill_depth_mm']].corr()"
   ]
  },
  {
   "cell_type": "markdown",
   "metadata": {},
   "source": [
    "To extract just the correlation we care about, we can use the `iloc` accessor."
   ]
  },
  {
   "cell_type": "code",
   "execution_count": 28,
   "metadata": {},
   "outputs": [
    {
     "data": {
      "text/plain": [
       "0.3108973890693491"
      ]
     },
     "execution_count": 28,
     "metadata": {},
     "output_type": "execute_result"
    }
   ],
   "source": [
    "point_estimate = adelie[['flipper_length_mm', 'bill_depth_mm']].corr().iloc[0, 1]\n",
    "point_estimate"
   ]
  },
  {
   "cell_type": "markdown",
   "metadata": {},
   "source": [
    "In order to use the `np.random.choice` function, we need a one-dimensional array. For this, we can use the index of the adelie DataFrame.\n",
    "\n",
    "Note that the index object does not have a `count` method, but we can use the `len` function here."
   ]
  },
  {
   "cell_type": "code",
   "execution_count": 29,
   "metadata": {},
   "outputs": [],
   "source": [
    "values = adelie.index\n",
    "\n",
    "resamples = np.random.choice(values, size = (num_resamples, len(values)))"
   ]
  },
  {
   "cell_type": "markdown",
   "metadata": {},
   "source": [
    "What we have now is a list of lists of index values for our resamples. Let's look at the procedure that we'll use to extract the correlation coefficient for each resample.\n",
    "\n",
    "For demonstration purposes, we'll look at the first resample."
   ]
  },
  {
   "cell_type": "code",
   "execution_count": 30,
   "metadata": {},
   "outputs": [
    {
     "data": {
      "text/plain": [
       "array([ 60, 107,  97, 134, 111,  94, 131,  98,  52,  53,  30,  38,  99,\n",
       "        57, 130, 112, 116,  98, 122, 128, 135, 106, 146,  99,  86, 124,\n",
       "        85,  58,  95, 131,  42,  52,  41,  12,  66,  83,  95, 125,  80,\n",
       "        43, 104,  24,  85,  14,  74,  32,  16, 106, 117,  52, 144, 106,\n",
       "       137, 130,  23,  58, 108, 141,   4,  22,  59, 120,  98,   7, 144,\n",
       "       124,  95,  71, 130,  72, 123, 119, 125,   1,  51,  54, 145,  50,\n",
       "        90,  13, 126, 129, 109, 126,  38,   7, 105,  96,  88, 124, 138,\n",
       "        26,  43,  28,  44, 147,  97, 139,  71,  33,  37, 106,  31,  92,\n",
       "        62,  43, 147,  44,  51,  74, 105, 102,  97,  34,  40, 139, 106,\n",
       "       140,  23,  72, 100, 120, 116,  66,   1,  17,  15, 124, 123,  59,\n",
       "       126,  48,  52, 140,  96, 147, 100, 127, 132, 142, 146, 114, 141,\n",
       "        70, 139,  19])"
      ]
     },
     "execution_count": 30,
     "metadata": {},
     "output_type": "execute_result"
    }
   ],
   "source": [
    "resample = resamples[0]\n",
    "resample"
   ]
  },
  {
   "cell_type": "markdown",
   "metadata": {},
   "source": [
    "To retrieve the corresponding rows, we can use the `.loc` accessor."
   ]
  },
  {
   "cell_type": "code",
   "execution_count": 31,
   "metadata": {},
   "outputs": [
    {
     "data": {
      "text/html": [
       "<div>\n",
       "<style scoped>\n",
       "    .dataframe tbody tr th:only-of-type {\n",
       "        vertical-align: middle;\n",
       "    }\n",
       "\n",
       "    .dataframe tbody tr th {\n",
       "        vertical-align: top;\n",
       "    }\n",
       "\n",
       "    .dataframe thead th {\n",
       "        text-align: right;\n",
       "    }\n",
       "</style>\n",
       "<table border=\"1\" class=\"dataframe\">\n",
       "  <thead>\n",
       "    <tr style=\"text-align: right;\">\n",
       "      <th></th>\n",
       "      <th>species</th>\n",
       "      <th>island</th>\n",
       "      <th>bill_length_mm</th>\n",
       "      <th>bill_depth_mm</th>\n",
       "      <th>flipper_length_mm</th>\n",
       "      <th>body_mass_g</th>\n",
       "      <th>sex</th>\n",
       "      <th>year</th>\n",
       "    </tr>\n",
       "  </thead>\n",
       "  <tbody>\n",
       "    <tr>\n",
       "      <th>60</th>\n",
       "      <td>Adelie</td>\n",
       "      <td>Biscoe</td>\n",
       "      <td>35.7</td>\n",
       "      <td>16.9</td>\n",
       "      <td>185.0</td>\n",
       "      <td>3150.0</td>\n",
       "      <td>female</td>\n",
       "      <td>2008</td>\n",
       "    </tr>\n",
       "    <tr>\n",
       "      <th>107</th>\n",
       "      <td>Adelie</td>\n",
       "      <td>Biscoe</td>\n",
       "      <td>38.2</td>\n",
       "      <td>20.0</td>\n",
       "      <td>190.0</td>\n",
       "      <td>3900.0</td>\n",
       "      <td>male</td>\n",
       "      <td>2009</td>\n",
       "    </tr>\n",
       "    <tr>\n",
       "      <th>97</th>\n",
       "      <td>Adelie</td>\n",
       "      <td>Dream</td>\n",
       "      <td>40.3</td>\n",
       "      <td>18.5</td>\n",
       "      <td>196.0</td>\n",
       "      <td>4350.0</td>\n",
       "      <td>male</td>\n",
       "      <td>2008</td>\n",
       "    </tr>\n",
       "    <tr>\n",
       "      <th>134</th>\n",
       "      <td>Adelie</td>\n",
       "      <td>Dream</td>\n",
       "      <td>38.1</td>\n",
       "      <td>17.6</td>\n",
       "      <td>187.0</td>\n",
       "      <td>3425.0</td>\n",
       "      <td>female</td>\n",
       "      <td>2009</td>\n",
       "    </tr>\n",
       "    <tr>\n",
       "      <th>111</th>\n",
       "      <td>Adelie</td>\n",
       "      <td>Biscoe</td>\n",
       "      <td>45.6</td>\n",
       "      <td>20.3</td>\n",
       "      <td>191.0</td>\n",
       "      <td>4600.0</td>\n",
       "      <td>male</td>\n",
       "      <td>2009</td>\n",
       "    </tr>\n",
       "    <tr>\n",
       "      <th>...</th>\n",
       "      <td>...</td>\n",
       "      <td>...</td>\n",
       "      <td>...</td>\n",
       "      <td>...</td>\n",
       "      <td>...</td>\n",
       "      <td>...</td>\n",
       "      <td>...</td>\n",
       "      <td>...</td>\n",
       "    </tr>\n",
       "    <tr>\n",
       "      <th>114</th>\n",
       "      <td>Adelie</td>\n",
       "      <td>Biscoe</td>\n",
       "      <td>39.6</td>\n",
       "      <td>20.7</td>\n",
       "      <td>191.0</td>\n",
       "      <td>3900.0</td>\n",
       "      <td>female</td>\n",
       "      <td>2009</td>\n",
       "    </tr>\n",
       "    <tr>\n",
       "      <th>141</th>\n",
       "      <td>Adelie</td>\n",
       "      <td>Dream</td>\n",
       "      <td>40.6</td>\n",
       "      <td>17.2</td>\n",
       "      <td>187.0</td>\n",
       "      <td>3475.0</td>\n",
       "      <td>male</td>\n",
       "      <td>2009</td>\n",
       "    </tr>\n",
       "    <tr>\n",
       "      <th>70</th>\n",
       "      <td>Adelie</td>\n",
       "      <td>Torgersen</td>\n",
       "      <td>33.5</td>\n",
       "      <td>19.0</td>\n",
       "      <td>190.0</td>\n",
       "      <td>3600.0</td>\n",
       "      <td>female</td>\n",
       "      <td>2008</td>\n",
       "    </tr>\n",
       "    <tr>\n",
       "      <th>139</th>\n",
       "      <td>Adelie</td>\n",
       "      <td>Dream</td>\n",
       "      <td>39.7</td>\n",
       "      <td>17.9</td>\n",
       "      <td>193.0</td>\n",
       "      <td>4250.0</td>\n",
       "      <td>male</td>\n",
       "      <td>2009</td>\n",
       "    </tr>\n",
       "    <tr>\n",
       "      <th>19</th>\n",
       "      <td>Adelie</td>\n",
       "      <td>Torgersen</td>\n",
       "      <td>46.0</td>\n",
       "      <td>21.5</td>\n",
       "      <td>194.0</td>\n",
       "      <td>4200.0</td>\n",
       "      <td>male</td>\n",
       "      <td>2007</td>\n",
       "    </tr>\n",
       "  </tbody>\n",
       "</table>\n",
       "<p>146 rows × 8 columns</p>\n",
       "</div>"
      ],
      "text/plain": [
       "    species     island  bill_length_mm  bill_depth_mm  flipper_length_mm  \\\n",
       "60   Adelie     Biscoe            35.7           16.9              185.0   \n",
       "107  Adelie     Biscoe            38.2           20.0              190.0   \n",
       "97   Adelie      Dream            40.3           18.5              196.0   \n",
       "134  Adelie      Dream            38.1           17.6              187.0   \n",
       "111  Adelie     Biscoe            45.6           20.3              191.0   \n",
       "..      ...        ...             ...            ...                ...   \n",
       "114  Adelie     Biscoe            39.6           20.7              191.0   \n",
       "141  Adelie      Dream            40.6           17.2              187.0   \n",
       "70   Adelie  Torgersen            33.5           19.0              190.0   \n",
       "139  Adelie      Dream            39.7           17.9              193.0   \n",
       "19   Adelie  Torgersen            46.0           21.5              194.0   \n",
       "\n",
       "     body_mass_g     sex  year  \n",
       "60        3150.0  female  2008  \n",
       "107       3900.0    male  2009  \n",
       "97        4350.0    male  2008  \n",
       "134       3425.0  female  2009  \n",
       "111       4600.0    male  2009  \n",
       "..           ...     ...   ...  \n",
       "114       3900.0  female  2009  \n",
       "141       3475.0    male  2009  \n",
       "70        3600.0  female  2008  \n",
       "139       4250.0    male  2009  \n",
       "19        4200.0    male  2007  \n",
       "\n",
       "[146 rows x 8 columns]"
      ]
     },
     "execution_count": 31,
     "metadata": {},
     "output_type": "execute_result"
    }
   ],
   "source": [
    "adelie.loc[resample]"
   ]
  },
  {
   "cell_type": "markdown",
   "metadata": {},
   "source": [
    "We can then filter and calculate the correlation for this resample."
   ]
  },
  {
   "cell_type": "code",
   "execution_count": 32,
   "metadata": {},
   "outputs": [
    {
     "data": {
      "text/html": [
       "<div>\n",
       "<style scoped>\n",
       "    .dataframe tbody tr th:only-of-type {\n",
       "        vertical-align: middle;\n",
       "    }\n",
       "\n",
       "    .dataframe tbody tr th {\n",
       "        vertical-align: top;\n",
       "    }\n",
       "\n",
       "    .dataframe thead th {\n",
       "        text-align: right;\n",
       "    }\n",
       "</style>\n",
       "<table border=\"1\" class=\"dataframe\">\n",
       "  <thead>\n",
       "    <tr style=\"text-align: right;\">\n",
       "      <th></th>\n",
       "      <th>flipper_length_mm</th>\n",
       "      <th>bill_depth_mm</th>\n",
       "    </tr>\n",
       "  </thead>\n",
       "  <tbody>\n",
       "    <tr>\n",
       "      <th>flipper_length_mm</th>\n",
       "      <td>1.000000</td>\n",
       "      <td>0.363248</td>\n",
       "    </tr>\n",
       "    <tr>\n",
       "      <th>bill_depth_mm</th>\n",
       "      <td>0.363248</td>\n",
       "      <td>1.000000</td>\n",
       "    </tr>\n",
       "  </tbody>\n",
       "</table>\n",
       "</div>"
      ],
      "text/plain": [
       "                   flipper_length_mm  bill_depth_mm\n",
       "flipper_length_mm           1.000000       0.363248\n",
       "bill_depth_mm               0.363248       1.000000"
      ]
     },
     "execution_count": 32,
     "metadata": {},
     "output_type": "execute_result"
    }
   ],
   "source": [
    "adelie.loc[resample][['flipper_length_mm', 'bill_depth_mm']].corr()"
   ]
  },
  {
   "cell_type": "markdown",
   "metadata": {},
   "source": [
    "But, what we really want is the difference between this correlation and the point estimate."
   ]
  },
  {
   "cell_type": "code",
   "execution_count": 33,
   "metadata": {},
   "outputs": [
    {
     "data": {
      "text/plain": [
       "0.05235109178483738"
      ]
     },
     "execution_count": 33,
     "metadata": {},
     "output_type": "execute_result"
    }
   ],
   "source": [
    "adelie.loc[resample][['flipper_length_mm', 'bill_depth_mm']].corr().iloc[0, 1] - point_estimate"
   ]
  },
  {
   "cell_type": "markdown",
   "metadata": {},
   "source": [
    "Now that we know the procedure that we need to do for each resample, we can create a **for loop** to take each resample, extract the correlation and subtract our point estimate.\n",
    "\n",
    "We do need to store the result of each calculation, so we'll create a list and append the results to it as we go."
   ]
  },
  {
   "cell_type": "code",
   "execution_count": 34,
   "metadata": {},
   "outputs": [],
   "source": [
    "diffs = []\n",
    "\n",
    "for resample in resamples:\n",
    "    diffs.append(adelie.loc[resample][['bill_length_mm', 'bill_depth_mm']].corr().iloc[0, 1] - point_estimate)"
   ]
  },
  {
   "cell_type": "code",
   "execution_count": 35,
   "metadata": {},
   "outputs": [
    {
     "name": "stdout",
     "output_type": "stream",
     "text": [
      "lower bound:  0.09566642345205223\n",
      "upper bound:  0.39679148521716695\n"
     ]
    }
   ],
   "source": [
    "a = np.quantile(diffs, q = margin)\n",
    "b = np.quantile(diffs, q = 1 - margin)\n",
    "\n",
    "print('lower bound: ', point_estimate - b)\n",
    "print('upper bound: ', point_estimate - a)"
   ]
  },
  {
   "cell_type": "markdown",
   "metadata": {},
   "source": [
    "Based on this result, we can say that, based on the data we have, there is at best a moderate correlation between flipper length and bill depth, and it might even be a very weak one."
   ]
  }
 ],
 "metadata": {
  "kernelspec": {
   "display_name": "Python 3 (ipykernel)",
   "language": "python",
   "name": "python3"
  },
  "language_info": {
   "codemirror_mode": {
    "name": "ipython",
    "version": 3
   },
   "file_extension": ".py",
   "mimetype": "text/x-python",
   "name": "python",
   "nbconvert_exporter": "python",
   "pygments_lexer": "ipython3",
   "version": "3.9.16"
  }
 },
 "nbformat": 4,
 "nbformat_minor": 4
}
