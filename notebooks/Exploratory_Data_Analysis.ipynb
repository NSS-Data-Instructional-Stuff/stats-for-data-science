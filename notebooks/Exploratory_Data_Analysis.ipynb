{
 "cells": [
  {
   "cell_type": "markdown",
   "metadata": {},
   "source": [
    "# Descriptive Statistics\n",
    "\n",
    "**Goal:** Describe a data set in terms of its important features. Summarize a data set using a few numbers and/or a plot.\n",
    "\n",
    "Ways to describe data:\n",
    "* Shape\n",
    "* Central Tendency\n",
    "* Spread"
   ]
  },
  {
   "cell_type": "markdown",
   "metadata": {},
   "source": [
    "## Shape\n",
    "\n",
    "Symmetry/Skewness\n",
    "\n",
    "Modality"
   ]
  },
  {
   "cell_type": "markdown",
   "metadata": {},
   "source": [
    "# Measures of Central Tendency\n",
    "\n",
    "Give a central or \"typical\" value of a data set.\n",
    "The most common ones are the mean, median, and mode."
   ]
  },
  {
   "cell_type": "markdown",
   "metadata": {},
   "source": [
    "## Mean\n",
    "\n",
    "Also known as the *average* or *arithmetic mean*. Defined as total (sum) of the values of a set of observations divided by the number of observations. When calculating the mean, the only difference between a sample and population mean is the notation.\n",
    "\n",
    "$$\\text{Sample Mean: } \\bar{x} = \\frac{x_1 + x_2 + \\cdots + x_n}{n} = \\frac{\\sum\\limits_{i=1}^n x_i}{n}$$\n",
    "\n",
    "$$\\text{Population Mean: } \\mu = \\frac{x_1 + x_2 + \\cdots + x_n}{n} = \\frac{\\sum\\limits_{i=1}^n x_i}{n}$$\n",
    "\n",
    "Represents the “balance point” of the data. \n",
    "\n",
    "It is the amount that all observations would have if the total amount of the variable was evenly distributed to all observations."
   ]
  },
  {
   "cell_type": "code",
   "execution_count": 1,
   "metadata": {},
   "outputs": [],
   "source": [
    "import pandas as pd\n",
    "%matplotlib inline"
   ]
  },
  {
   "cell_type": "code",
   "execution_count": 2,
   "metadata": {},
   "outputs": [],
   "source": [
    "lakers = pd.read_csv('../data/Lakers.csv')"
   ]
  },
  {
   "cell_type": "code",
   "execution_count": 3,
   "metadata": {},
   "outputs": [
    {
     "data": {
      "text/html": [
       "<div>\n",
       "<style scoped>\n",
       "    .dataframe tbody tr th:only-of-type {\n",
       "        vertical-align: middle;\n",
       "    }\n",
       "\n",
       "    .dataframe tbody tr th {\n",
       "        vertical-align: top;\n",
       "    }\n",
       "\n",
       "    .dataframe thead th {\n",
       "        text-align: right;\n",
       "    }\n",
       "</style>\n",
       "<table border=\"1\" class=\"dataframe\">\n",
       "  <thead>\n",
       "    <tr style=\"text-align: right;\">\n",
       "      <th></th>\n",
       "      <th>player</th>\n",
       "      <th>salary</th>\n",
       "      <th>height_inches</th>\n",
       "    </tr>\n",
       "  </thead>\n",
       "  <tbody>\n",
       "    <tr>\n",
       "      <th>0</th>\n",
       "      <td>LeBron James</td>\n",
       "      <td>37436858</td>\n",
       "      <td>80</td>\n",
       "    </tr>\n",
       "    <tr>\n",
       "      <th>1</th>\n",
       "      <td>Anthony Davis</td>\n",
       "      <td>27093019</td>\n",
       "      <td>82</td>\n",
       "    </tr>\n",
       "    <tr>\n",
       "      <th>2</th>\n",
       "      <td>Danny Green</td>\n",
       "      <td>14634146</td>\n",
       "      <td>78</td>\n",
       "    </tr>\n",
       "    <tr>\n",
       "      <th>3</th>\n",
       "      <td>Kentavious Caldwell-Pope</td>\n",
       "      <td>8089282</td>\n",
       "      <td>77</td>\n",
       "    </tr>\n",
       "    <tr>\n",
       "      <th>4</th>\n",
       "      <td>Avery Bradley</td>\n",
       "      <td>4767000</td>\n",
       "      <td>74</td>\n",
       "    </tr>\n",
       "    <tr>\n",
       "      <th>5</th>\n",
       "      <td>JaVale McGee</td>\n",
       "      <td>4000000</td>\n",
       "      <td>84</td>\n",
       "    </tr>\n",
       "    <tr>\n",
       "      <th>6</th>\n",
       "      <td>DeMarcus Cousins</td>\n",
       "      <td>3500000</td>\n",
       "      <td>83</td>\n",
       "    </tr>\n",
       "    <tr>\n",
       "      <th>7</th>\n",
       "      <td>Quinn Cook</td>\n",
       "      <td>3000000</td>\n",
       "      <td>74</td>\n",
       "    </tr>\n",
       "    <tr>\n",
       "      <th>8</th>\n",
       "      <td>Alex Caruso</td>\n",
       "      <td>2750000</td>\n",
       "      <td>77</td>\n",
       "    </tr>\n",
       "    <tr>\n",
       "      <th>9</th>\n",
       "      <td>Jared Dudley</td>\n",
       "      <td>2564753</td>\n",
       "      <td>79</td>\n",
       "    </tr>\n",
       "    <tr>\n",
       "      <th>10</th>\n",
       "      <td>Dwight Howard</td>\n",
       "      <td>2564753</td>\n",
       "      <td>83</td>\n",
       "    </tr>\n",
       "    <tr>\n",
       "      <th>11</th>\n",
       "      <td>Rajon Rondo</td>\n",
       "      <td>2564753</td>\n",
       "      <td>73</td>\n",
       "    </tr>\n",
       "    <tr>\n",
       "      <th>12</th>\n",
       "      <td>Troy Daniels</td>\n",
       "      <td>2028594</td>\n",
       "      <td>76</td>\n",
       "    </tr>\n",
       "    <tr>\n",
       "      <th>13</th>\n",
       "      <td>Kyle Kuzma</td>\n",
       "      <td>1974600</td>\n",
       "      <td>81</td>\n",
       "    </tr>\n",
       "    <tr>\n",
       "      <th>14</th>\n",
       "      <td>Talen Horton-Tucker</td>\n",
       "      <td>898310</td>\n",
       "      <td>76</td>\n",
       "    </tr>\n",
       "  </tbody>\n",
       "</table>\n",
       "</div>"
      ],
      "text/plain": [
       "                      player    salary  height_inches\n",
       "0               LeBron James  37436858             80\n",
       "1              Anthony Davis  27093019             82\n",
       "2                Danny Green  14634146             78\n",
       "3   Kentavious Caldwell-Pope   8089282             77\n",
       "4              Avery Bradley   4767000             74\n",
       "5               JaVale McGee   4000000             84\n",
       "6           DeMarcus Cousins   3500000             83\n",
       "7                 Quinn Cook   3000000             74\n",
       "8                Alex Caruso   2750000             77\n",
       "9               Jared Dudley   2564753             79\n",
       "10             Dwight Howard   2564753             83\n",
       "11               Rajon Rondo   2564753             73\n",
       "12              Troy Daniels   2028594             76\n",
       "13                Kyle Kuzma   1974600             81\n",
       "14       Talen Horton-Tucker    898310             76"
      ]
     },
     "execution_count": 3,
     "metadata": {},
     "output_type": "execute_result"
    }
   ],
   "source": [
    "lakers"
   ]
  },
  {
   "cell_type": "code",
   "execution_count": 4,
   "metadata": {},
   "outputs": [
    {
     "name": "stdout",
     "output_type": "stream",
     "text": [
      "Total Lakers' payroll  $117,866,068\n"
     ]
    }
   ],
   "source": [
    "print('Total Lakers\\' payroll ', '${:,}'.format(lakers.salary.sum()))"
   ]
  },
  {
   "cell_type": "code",
   "execution_count": 5,
   "metadata": {},
   "outputs": [
    {
     "data": {
      "text/plain": [
       "7857737.866666666"
      ]
     },
     "execution_count": 5,
     "metadata": {},
     "output_type": "execute_result"
    }
   ],
   "source": [
    "lakers.salary.sum() / lakers.salary.count()"
   ]
  },
  {
   "cell_type": "code",
   "execution_count": 6,
   "metadata": {},
   "outputs": [
    {
     "data": {
      "text/plain": [
       "7857737.866666666"
      ]
     },
     "execution_count": 6,
     "metadata": {},
     "output_type": "execute_result"
    }
   ],
   "source": [
    "lakers.salary.mean()"
   ]
  },
  {
   "cell_type": "markdown",
   "metadata": {},
   "source": [
    "This says that if we distributed the total payroll evenly to all players, they would each receive a salary of $7,857,737.\n",
    "\n",
    "Notice that only 4 out of the 15 players made above the average, with the top three players making significantly higher than the average. This is typical for data sets where you have extreme observations.\n"
   ]
  },
  {
   "cell_type": "markdown",
   "metadata": {},
   "source": [
    "## Median\n",
    "\n",
    "The middle value if the data is arranged by size.\n",
    "\n",
    "For an odd number of observations, the median will be a value from the data set.\n",
    "\n",
    "For an odd number of observations, the median is the mean of the two centermost observations.\n",
    "\n",
    "The median divides the dataset exactly in half. "
   ]
  },
  {
   "cell_type": "markdown",
   "metadata": {},
   "source": [
    "In our `lakers` dataset, we have 15 observations, which means that the 8th observation corresponds to the median. In this case, Quinn Cook, who has a salary of $3,000,000."
   ]
  },
  {
   "cell_type": "code",
   "execution_count": 7,
   "metadata": {},
   "outputs": [
    {
     "data": {
      "text/plain": [
       "3000000.0"
      ]
     },
     "execution_count": 7,
     "metadata": {},
     "output_type": "execute_result"
    }
   ],
   "source": [
    "lakers.salary.median()"
   ]
  },
  {
   "cell_type": "markdown",
   "metadata": {},
   "source": [
    "Notice that the median is significantly lower than the mean. This is typical for skewed datasets.\n",
    "\n",
    "A dataset is **skewed** if most of its elements are within a certain range, but there are some number of unusually high or unusually low observations.\n",
    "\n",
    "We can detect skewness by plotting out the distribution of the dataset. \n",
    "\n",
    "Measures of central tendency can reveal asymmetries in our dataset."
   ]
  },
  {
   "cell_type": "markdown",
   "metadata": {},
   "source": [
    "### Histograms\n",
    "\n",
    "A histogram shows how many observations lie within a certain class interval. That is, it divides the dataset into *bins*, and the height of the plot above each interval is proportional to the number of observations that fall within that bin.\n",
    "\n",
    "Procedure:\n",
    "* Separate data into equal-width, non-overlapping bins\n",
    "* Count number of data points in each bin\n",
    "\n",
    "Must decide how many bins to use. Rule of thumb: $\\text{number of bins} = \\sqrt{\\text{sample size}}$"
   ]
  },
  {
   "cell_type": "code",
   "execution_count": 8,
   "metadata": {},
   "outputs": [
    {
     "data": {
      "image/png": "[encoded data removed]",
      "text/plain": [
       "<Figure size 432x288 with 1 Axes>"
      ]
     },
     "metadata": {
      "needs_background": "light"
     },
     "output_type": "display_data"
    }
   ],
   "source": [
    "lakers.salary.hist();"
   ]
  },
  {
   "cell_type": "markdown",
   "metadata": {},
   "source": [
    "Sometimes, you need to adjust the number of bins in order to get a clearer idea of the distribution of your dataset."
   ]
  },
  {
   "cell_type": "code",
   "execution_count": 9,
   "metadata": {},
   "outputs": [
    {
     "data": {
      "image/png": "[encoded data removed]",
      "text/plain": [
       "<Figure size 432x288 with 1 Axes>"
      ]
     },
     "metadata": {
      "needs_background": "light"
     },
     "output_type": "display_data"
    }
   ],
   "source": [
    "lakers.salary.hist(bins = 25);"
   ]
  },
  {
   "cell_type": "markdown",
   "metadata": {},
   "source": [
    "For our Lakers salary dataset, we can see that there are a few unusually large observations. Another way to say this is that the dataset has a long tail to the right. When a dataset has a long tail to the right, we say that it is **right-skewed**. Analogously, a dataset with a long tail to the left (unusually small observations) would be said to be **left-skewed**."
   ]
  },
  {
   "cell_type": "markdown",
   "metadata": {},
   "source": [
    "# Measures of Spread\n",
    "\n",
    "Give an idea of how similar or varied the observations in the dataset are. Typical measures: range, variance, and standard deviation."
   ]
  },
  {
   "cell_type": "markdown",
   "metadata": {},
   "source": [
    "## Range\n",
    "\n",
    "The range measures how \"wide\" a dataset is. It depends only on the largest and smallest observations.\n",
    "\n",
    "$$ \\text{range} = \\text{maximum observation} - \\text{minimum observation}$$"
   ]
  },
  {
   "cell_type": "code",
   "execution_count": 10,
   "metadata": {},
   "outputs": [
    {
     "data": {
      "text/plain": [
       "36538548"
      ]
     },
     "execution_count": 10,
     "metadata": {},
     "output_type": "execute_result"
    }
   ],
   "source": [
    "lakers.salary.max() - lakers.salary.min()"
   ]
  },
  {
   "cell_type": "markdown",
   "metadata": {},
   "source": [
    "Notice that since the range only uses the largest and smallest observations, while ignoring all others, it is very sensitive to unusually large or small observations."
   ]
  },
  {
   "cell_type": "markdown",
   "metadata": {},
   "source": [
    "## Variance and Standard Deviation\n",
    "\n",
    "The variance and standard deviation give an idea about how far, on average, observations are from the mean. The formula for variance and standard deviation differ depending on whether we are looking at the entire population or a sample.\n",
    "\n",
    "$$\\text{Population Variance: } \\sigma^2 = \\frac{\\sum\\limits_{i = 1}^n(x_i - \\mu)^2}{n}$$\n",
    "\n",
    "$$\\text{Population Standard Deviation: } \\sigma = \\sqrt{\\sigma^2} $$\n",
    "\n",
    "$$\\text{Sample Variance: } s^2 = \\frac{\\sum\\limits_{i = 1}^n(x_i - \\bar{x})^2}{n - 1}$$\n",
    "\n",
    "$$\\text{Sample Standard Deviation: } s = \\sqrt{s^2} $$"
   ]
  },
  {
   "cell_type": "markdown",
   "metadata": {},
   "source": [
    "Why the difference? When working with a sample, we divide by $n - 1$, that is, one less than the number of observations. Informally, the reason that we do this is that we are trying to approximate the population variance. We want to estimate the deviation from the mean, but at the same time, we don't know the true population mean to start with, only an estimate from the sample ($\\bar{x}$). So we are making an estimate using an estimate. To compensate for this, we need to inflate our estimate of the variance slightly, by dividing by $n - 1$ instead of $n$.\n",
    "\n",
    "Why do we have two measures - variance AND standard deviation? Notice that the units for the variance will be the squared original units.\n",
    "\n",
    "By taking the square root, we are putting our measure back into the original units."
   ]
  },
  {
   "cell_type": "markdown",
   "metadata": {},
   "source": [
    "By default, most function that calculate the variance or standard deviation will assume that we are looking at a sample. However, in this case, we have the entire population, so we need to adjust it. If we are using `pandas` methods, we can specify `ddof = 0`, which sets the \"delta degrees of freedom\", or the amount that the \"degrees of freedom\" differ from the number of observations, to be 0."
   ]
  },
  {
   "cell_type": "code",
   "execution_count": 11,
   "metadata": {},
   "outputs": [
    {
     "data": {
      "text/plain": [
       "105671728309241.28"
      ]
     },
     "execution_count": 11,
     "metadata": {},
     "output_type": "execute_result"
    }
   ],
   "source": [
    "lakers.salary.var(ddof = 0)"
   ]
  },
  {
   "cell_type": "code",
   "execution_count": 12,
   "metadata": {},
   "outputs": [
    {
     "data": {
      "text/plain": [
       "10279675.496300517"
      ]
     },
     "execution_count": 12,
     "metadata": {},
     "output_type": "execute_result"
    }
   ],
   "source": [
    "lakers.salary.std(ddof = 0)"
   ]
  },
  {
   "cell_type": "code",
   "execution_count": 13,
   "metadata": {},
   "outputs": [
    {
     "data": {
      "text/html": [
       "<div>\n",
       "<style scoped>\n",
       "    .dataframe tbody tr th:only-of-type {\n",
       "        vertical-align: middle;\n",
       "    }\n",
       "\n",
       "    .dataframe tbody tr th {\n",
       "        vertical-align: top;\n",
       "    }\n",
       "\n",
       "    .dataframe thead th {\n",
       "        text-align: right;\n",
       "    }\n",
       "</style>\n",
       "<table border=\"1\" class=\"dataframe\">\n",
       "  <thead>\n",
       "    <tr style=\"text-align: right;\">\n",
       "      <th></th>\n",
       "      <th>player</th>\n",
       "      <th>salary</th>\n",
       "      <th>height_inches</th>\n",
       "      <th>deviation</th>\n",
       "    </tr>\n",
       "  </thead>\n",
       "  <tbody>\n",
       "    <tr>\n",
       "      <th>0</th>\n",
       "      <td>LeBron James</td>\n",
       "      <td>37436858</td>\n",
       "      <td>80</td>\n",
       "      <td>2.957912e+07</td>\n",
       "    </tr>\n",
       "    <tr>\n",
       "      <th>1</th>\n",
       "      <td>Anthony Davis</td>\n",
       "      <td>27093019</td>\n",
       "      <td>82</td>\n",
       "      <td>1.923528e+07</td>\n",
       "    </tr>\n",
       "    <tr>\n",
       "      <th>2</th>\n",
       "      <td>Danny Green</td>\n",
       "      <td>14634146</td>\n",
       "      <td>78</td>\n",
       "      <td>6.776408e+06</td>\n",
       "    </tr>\n",
       "    <tr>\n",
       "      <th>3</th>\n",
       "      <td>Kentavious Caldwell-Pope</td>\n",
       "      <td>8089282</td>\n",
       "      <td>77</td>\n",
       "      <td>2.315441e+05</td>\n",
       "    </tr>\n",
       "    <tr>\n",
       "      <th>4</th>\n",
       "      <td>Avery Bradley</td>\n",
       "      <td>4767000</td>\n",
       "      <td>74</td>\n",
       "      <td>-3.090738e+06</td>\n",
       "    </tr>\n",
       "    <tr>\n",
       "      <th>5</th>\n",
       "      <td>JaVale McGee</td>\n",
       "      <td>4000000</td>\n",
       "      <td>84</td>\n",
       "      <td>-3.857738e+06</td>\n",
       "    </tr>\n",
       "    <tr>\n",
       "      <th>6</th>\n",
       "      <td>DeMarcus Cousins</td>\n",
       "      <td>3500000</td>\n",
       "      <td>83</td>\n",
       "      <td>-4.357738e+06</td>\n",
       "    </tr>\n",
       "    <tr>\n",
       "      <th>7</th>\n",
       "      <td>Quinn Cook</td>\n",
       "      <td>3000000</td>\n",
       "      <td>74</td>\n",
       "      <td>-4.857738e+06</td>\n",
       "    </tr>\n",
       "    <tr>\n",
       "      <th>8</th>\n",
       "      <td>Alex Caruso</td>\n",
       "      <td>2750000</td>\n",
       "      <td>77</td>\n",
       "      <td>-5.107738e+06</td>\n",
       "    </tr>\n",
       "    <tr>\n",
       "      <th>9</th>\n",
       "      <td>Jared Dudley</td>\n",
       "      <td>2564753</td>\n",
       "      <td>79</td>\n",
       "      <td>-5.292985e+06</td>\n",
       "    </tr>\n",
       "    <tr>\n",
       "      <th>10</th>\n",
       "      <td>Dwight Howard</td>\n",
       "      <td>2564753</td>\n",
       "      <td>83</td>\n",
       "      <td>-5.292985e+06</td>\n",
       "    </tr>\n",
       "    <tr>\n",
       "      <th>11</th>\n",
       "      <td>Rajon Rondo</td>\n",
       "      <td>2564753</td>\n",
       "      <td>73</td>\n",
       "      <td>-5.292985e+06</td>\n",
       "    </tr>\n",
       "    <tr>\n",
       "      <th>12</th>\n",
       "      <td>Troy Daniels</td>\n",
       "      <td>2028594</td>\n",
       "      <td>76</td>\n",
       "      <td>-5.829144e+06</td>\n",
       "    </tr>\n",
       "    <tr>\n",
       "      <th>13</th>\n",
       "      <td>Kyle Kuzma</td>\n",
       "      <td>1974600</td>\n",
       "      <td>81</td>\n",
       "      <td>-5.883138e+06</td>\n",
       "    </tr>\n",
       "    <tr>\n",
       "      <th>14</th>\n",
       "      <td>Talen Horton-Tucker</td>\n",
       "      <td>898310</td>\n",
       "      <td>76</td>\n",
       "      <td>-6.959428e+06</td>\n",
       "    </tr>\n",
       "  </tbody>\n",
       "</table>\n",
       "</div>"
      ],
      "text/plain": [
       "                      player    salary  height_inches     deviation\n",
       "0               LeBron James  37436858             80  2.957912e+07\n",
       "1              Anthony Davis  27093019             82  1.923528e+07\n",
       "2                Danny Green  14634146             78  6.776408e+06\n",
       "3   Kentavious Caldwell-Pope   8089282             77  2.315441e+05\n",
       "4              Avery Bradley   4767000             74 -3.090738e+06\n",
       "5               JaVale McGee   4000000             84 -3.857738e+06\n",
       "6           DeMarcus Cousins   3500000             83 -4.357738e+06\n",
       "7                 Quinn Cook   3000000             74 -4.857738e+06\n",
       "8                Alex Caruso   2750000             77 -5.107738e+06\n",
       "9               Jared Dudley   2564753             79 -5.292985e+06\n",
       "10             Dwight Howard   2564753             83 -5.292985e+06\n",
       "11               Rajon Rondo   2564753             73 -5.292985e+06\n",
       "12              Troy Daniels   2028594             76 -5.829144e+06\n",
       "13                Kyle Kuzma   1974600             81 -5.883138e+06\n",
       "14       Talen Horton-Tucker    898310             76 -6.959428e+06"
      ]
     },
     "execution_count": 13,
     "metadata": {},
     "output_type": "execute_result"
    }
   ],
   "source": [
    "lakers['deviation'] = lakers.salary - lakers.salary.mean()\n",
    "lakers"
   ]
  },
  {
   "cell_type": "code",
   "execution_count": 14,
   "metadata": {},
   "outputs": [
    {
     "data": {
      "text/html": [
       "<div>\n",
       "<style scoped>\n",
       "    .dataframe tbody tr th:only-of-type {\n",
       "        vertical-align: middle;\n",
       "    }\n",
       "\n",
       "    .dataframe tbody tr th {\n",
       "        vertical-align: top;\n",
       "    }\n",
       "\n",
       "    .dataframe thead th {\n",
       "        text-align: right;\n",
       "    }\n",
       "</style>\n",
       "<table border=\"1\" class=\"dataframe\">\n",
       "  <thead>\n",
       "    <tr style=\"text-align: right;\">\n",
       "      <th></th>\n",
       "      <th>player</th>\n",
       "      <th>salary</th>\n",
       "      <th>height_inches</th>\n",
       "      <th>deviation</th>\n",
       "      <th>squared_deviation</th>\n",
       "    </tr>\n",
       "  </thead>\n",
       "  <tbody>\n",
       "    <tr>\n",
       "      <th>0</th>\n",
       "      <td>LeBron James</td>\n",
       "      <td>37436858</td>\n",
       "      <td>80</td>\n",
       "      <td>2.957912e+07</td>\n",
       "      <td>8.749243e+14</td>\n",
       "    </tr>\n",
       "    <tr>\n",
       "      <th>1</th>\n",
       "      <td>Anthony Davis</td>\n",
       "      <td>27093019</td>\n",
       "      <td>82</td>\n",
       "      <td>1.923528e+07</td>\n",
       "      <td>3.699960e+14</td>\n",
       "    </tr>\n",
       "    <tr>\n",
       "      <th>2</th>\n",
       "      <td>Danny Green</td>\n",
       "      <td>14634146</td>\n",
       "      <td>78</td>\n",
       "      <td>6.776408e+06</td>\n",
       "      <td>4.591971e+13</td>\n",
       "    </tr>\n",
       "    <tr>\n",
       "      <th>3</th>\n",
       "      <td>Kentavious Caldwell-Pope</td>\n",
       "      <td>8089282</td>\n",
       "      <td>77</td>\n",
       "      <td>2.315441e+05</td>\n",
       "      <td>5.361269e+10</td>\n",
       "    </tr>\n",
       "    <tr>\n",
       "      <th>4</th>\n",
       "      <td>Avery Bradley</td>\n",
       "      <td>4767000</td>\n",
       "      <td>74</td>\n",
       "      <td>-3.090738e+06</td>\n",
       "      <td>9.552661e+12</td>\n",
       "    </tr>\n",
       "    <tr>\n",
       "      <th>5</th>\n",
       "      <td>JaVale McGee</td>\n",
       "      <td>4000000</td>\n",
       "      <td>84</td>\n",
       "      <td>-3.857738e+06</td>\n",
       "      <td>1.488214e+13</td>\n",
       "    </tr>\n",
       "    <tr>\n",
       "      <th>6</th>\n",
       "      <td>DeMarcus Cousins</td>\n",
       "      <td>3500000</td>\n",
       "      <td>83</td>\n",
       "      <td>-4.357738e+06</td>\n",
       "      <td>1.898988e+13</td>\n",
       "    </tr>\n",
       "    <tr>\n",
       "      <th>7</th>\n",
       "      <td>Quinn Cook</td>\n",
       "      <td>3000000</td>\n",
       "      <td>74</td>\n",
       "      <td>-4.857738e+06</td>\n",
       "      <td>2.359762e+13</td>\n",
       "    </tr>\n",
       "    <tr>\n",
       "      <th>8</th>\n",
       "      <td>Alex Caruso</td>\n",
       "      <td>2750000</td>\n",
       "      <td>77</td>\n",
       "      <td>-5.107738e+06</td>\n",
       "      <td>2.608899e+13</td>\n",
       "    </tr>\n",
       "    <tr>\n",
       "      <th>9</th>\n",
       "      <td>Jared Dudley</td>\n",
       "      <td>2564753</td>\n",
       "      <td>79</td>\n",
       "      <td>-5.292985e+06</td>\n",
       "      <td>2.801569e+13</td>\n",
       "    </tr>\n",
       "    <tr>\n",
       "      <th>10</th>\n",
       "      <td>Dwight Howard</td>\n",
       "      <td>2564753</td>\n",
       "      <td>83</td>\n",
       "      <td>-5.292985e+06</td>\n",
       "      <td>2.801569e+13</td>\n",
       "    </tr>\n",
       "    <tr>\n",
       "      <th>11</th>\n",
       "      <td>Rajon Rondo</td>\n",
       "      <td>2564753</td>\n",
       "      <td>73</td>\n",
       "      <td>-5.292985e+06</td>\n",
       "      <td>2.801569e+13</td>\n",
       "    </tr>\n",
       "    <tr>\n",
       "      <th>12</th>\n",
       "      <td>Troy Daniels</td>\n",
       "      <td>2028594</td>\n",
       "      <td>76</td>\n",
       "      <td>-5.829144e+06</td>\n",
       "      <td>3.397892e+13</td>\n",
       "    </tr>\n",
       "    <tr>\n",
       "      <th>13</th>\n",
       "      <td>Kyle Kuzma</td>\n",
       "      <td>1974600</td>\n",
       "      <td>81</td>\n",
       "      <td>-5.883138e+06</td>\n",
       "      <td>3.461131e+13</td>\n",
       "    </tr>\n",
       "    <tr>\n",
       "      <th>14</th>\n",
       "      <td>Talen Horton-Tucker</td>\n",
       "      <td>898310</td>\n",
       "      <td>76</td>\n",
       "      <td>-6.959428e+06</td>\n",
       "      <td>4.843364e+13</td>\n",
       "    </tr>\n",
       "  </tbody>\n",
       "</table>\n",
       "</div>"
      ],
      "text/plain": [
       "                      player    salary  height_inches     deviation  \\\n",
       "0               LeBron James  37436858             80  2.957912e+07   \n",
       "1              Anthony Davis  27093019             82  1.923528e+07   \n",
       "2                Danny Green  14634146             78  6.776408e+06   \n",
       "3   Kentavious Caldwell-Pope   8089282             77  2.315441e+05   \n",
       "4              Avery Bradley   4767000             74 -3.090738e+06   \n",
       "5               JaVale McGee   4000000             84 -3.857738e+06   \n",
       "6           DeMarcus Cousins   3500000             83 -4.357738e+06   \n",
       "7                 Quinn Cook   3000000             74 -4.857738e+06   \n",
       "8                Alex Caruso   2750000             77 -5.107738e+06   \n",
       "9               Jared Dudley   2564753             79 -5.292985e+06   \n",
       "10             Dwight Howard   2564753             83 -5.292985e+06   \n",
       "11               Rajon Rondo   2564753             73 -5.292985e+06   \n",
       "12              Troy Daniels   2028594             76 -5.829144e+06   \n",
       "13                Kyle Kuzma   1974600             81 -5.883138e+06   \n",
       "14       Talen Horton-Tucker    898310             76 -6.959428e+06   \n",
       "\n",
       "    squared_deviation  \n",
       "0        8.749243e+14  \n",
       "1        3.699960e+14  \n",
       "2        4.591971e+13  \n",
       "3        5.361269e+10  \n",
       "4        9.552661e+12  \n",
       "5        1.488214e+13  \n",
       "6        1.898988e+13  \n",
       "7        2.359762e+13  \n",
       "8        2.608899e+13  \n",
       "9        2.801569e+13  \n",
       "10       2.801569e+13  \n",
       "11       2.801569e+13  \n",
       "12       3.397892e+13  \n",
       "13       3.461131e+13  \n",
       "14       4.843364e+13  "
      ]
     },
     "execution_count": 14,
     "metadata": {},
     "output_type": "execute_result"
    }
   ],
   "source": [
    "lakers['squared_deviation'] = lakers.deviation**2\n",
    "lakers"
   ]
  },
  {
   "cell_type": "code",
   "execution_count": 15,
   "metadata": {},
   "outputs": [
    {
     "data": {
      "text/plain": [
       "105671728309241.28"
      ]
     },
     "execution_count": 15,
     "metadata": {},
     "output_type": "execute_result"
    }
   ],
   "source": [
    "lakers.squared_deviation.mean()"
   ]
  },
  {
   "cell_type": "code",
   "execution_count": null,
   "metadata": {},
   "outputs": [],
   "source": []
  },
  {
   "cell_type": "markdown",
   "metadata": {},
   "source": [
    "# Measures of Position\n",
    "\n",
    "Measures of position have to do with ranking where an observation is in the dataset with respect to all other values."
   ]
  },
  {
   "cell_type": "markdown",
   "metadata": {},
   "source": [
    "## $z$-scores\n",
    "\n",
    "A $z$-score measures the position of an observation, in terms of number of standard deviations from the mean. In some sense, it measures how \"unusual\" a particular observation is. It is unitless, which makes it easier to interpret in many cases. \n",
    "\n",
    "$$ z\\text{-score} = \\frac{\\text{observation} - \\bar{x}}{s^2}$$\n",
    "\n",
    "A $z$-score of 1.4 says that an observation is 1.4 standard deviations larger than the average value, whereas a $z$-score of -2.8 says that an observation is 2.8 standard deviations lower than the mean.\n",
    "\n",
    "If a dataset is reasonably close to normally-distributed (meaning that the histogram looks roughly bell-shaped), then it will be highly unusual for an observation to have a $z$-score with magnitude 3 or larger."
   ]
  },
  {
   "cell_type": "code",
   "execution_count": 16,
   "metadata": {},
   "outputs": [
    {
     "data": {
      "text/html": [
       "<div>\n",
       "<style scoped>\n",
       "    .dataframe tbody tr th:only-of-type {\n",
       "        vertical-align: middle;\n",
       "    }\n",
       "\n",
       "    .dataframe tbody tr th {\n",
       "        vertical-align: top;\n",
       "    }\n",
       "\n",
       "    .dataframe thead th {\n",
       "        text-align: right;\n",
       "    }\n",
       "</style>\n",
       "<table border=\"1\" class=\"dataframe\">\n",
       "  <thead>\n",
       "    <tr style=\"text-align: right;\">\n",
       "      <th></th>\n",
       "      <th>player</th>\n",
       "      <th>salary</th>\n",
       "      <th>height_inches</th>\n",
       "      <th>deviation</th>\n",
       "      <th>squared_deviation</th>\n",
       "      <th>salary_z-score</th>\n",
       "    </tr>\n",
       "  </thead>\n",
       "  <tbody>\n",
       "    <tr>\n",
       "      <th>0</th>\n",
       "      <td>LeBron James</td>\n",
       "      <td>37436858</td>\n",
       "      <td>80</td>\n",
       "      <td>2.957912e+07</td>\n",
       "      <td>8.749243e+14</td>\n",
       "      <td>2.877437</td>\n",
       "    </tr>\n",
       "    <tr>\n",
       "      <th>1</th>\n",
       "      <td>Anthony Davis</td>\n",
       "      <td>27093019</td>\n",
       "      <td>82</td>\n",
       "      <td>1.923528e+07</td>\n",
       "      <td>3.699960e+14</td>\n",
       "      <td>1.871195</td>\n",
       "    </tr>\n",
       "    <tr>\n",
       "      <th>2</th>\n",
       "      <td>Danny Green</td>\n",
       "      <td>14634146</td>\n",
       "      <td>78</td>\n",
       "      <td>6.776408e+06</td>\n",
       "      <td>4.591971e+13</td>\n",
       "      <td>0.659204</td>\n",
       "    </tr>\n",
       "    <tr>\n",
       "      <th>3</th>\n",
       "      <td>Kentavious Caldwell-Pope</td>\n",
       "      <td>8089282</td>\n",
       "      <td>77</td>\n",
       "      <td>2.315441e+05</td>\n",
       "      <td>5.361269e+10</td>\n",
       "      <td>0.022524</td>\n",
       "    </tr>\n",
       "    <tr>\n",
       "      <th>4</th>\n",
       "      <td>Avery Bradley</td>\n",
       "      <td>4767000</td>\n",
       "      <td>74</td>\n",
       "      <td>-3.090738e+06</td>\n",
       "      <td>9.552661e+12</td>\n",
       "      <td>-0.300665</td>\n",
       "    </tr>\n",
       "    <tr>\n",
       "      <th>5</th>\n",
       "      <td>JaVale McGee</td>\n",
       "      <td>4000000</td>\n",
       "      <td>84</td>\n",
       "      <td>-3.857738e+06</td>\n",
       "      <td>1.488214e+13</td>\n",
       "      <td>-0.375278</td>\n",
       "    </tr>\n",
       "    <tr>\n",
       "      <th>6</th>\n",
       "      <td>DeMarcus Cousins</td>\n",
       "      <td>3500000</td>\n",
       "      <td>83</td>\n",
       "      <td>-4.357738e+06</td>\n",
       "      <td>1.898988e+13</td>\n",
       "      <td>-0.423918</td>\n",
       "    </tr>\n",
       "    <tr>\n",
       "      <th>7</th>\n",
       "      <td>Quinn Cook</td>\n",
       "      <td>3000000</td>\n",
       "      <td>74</td>\n",
       "      <td>-4.857738e+06</td>\n",
       "      <td>2.359762e+13</td>\n",
       "      <td>-0.472558</td>\n",
       "    </tr>\n",
       "    <tr>\n",
       "      <th>8</th>\n",
       "      <td>Alex Caruso</td>\n",
       "      <td>2750000</td>\n",
       "      <td>77</td>\n",
       "      <td>-5.107738e+06</td>\n",
       "      <td>2.608899e+13</td>\n",
       "      <td>-0.496877</td>\n",
       "    </tr>\n",
       "    <tr>\n",
       "      <th>9</th>\n",
       "      <td>Jared Dudley</td>\n",
       "      <td>2564753</td>\n",
       "      <td>79</td>\n",
       "      <td>-5.292985e+06</td>\n",
       "      <td>2.801569e+13</td>\n",
       "      <td>-0.514898</td>\n",
       "    </tr>\n",
       "    <tr>\n",
       "      <th>10</th>\n",
       "      <td>Dwight Howard</td>\n",
       "      <td>2564753</td>\n",
       "      <td>83</td>\n",
       "      <td>-5.292985e+06</td>\n",
       "      <td>2.801569e+13</td>\n",
       "      <td>-0.514898</td>\n",
       "    </tr>\n",
       "    <tr>\n",
       "      <th>11</th>\n",
       "      <td>Rajon Rondo</td>\n",
       "      <td>2564753</td>\n",
       "      <td>73</td>\n",
       "      <td>-5.292985e+06</td>\n",
       "      <td>2.801569e+13</td>\n",
       "      <td>-0.514898</td>\n",
       "    </tr>\n",
       "    <tr>\n",
       "      <th>12</th>\n",
       "      <td>Troy Daniels</td>\n",
       "      <td>2028594</td>\n",
       "      <td>76</td>\n",
       "      <td>-5.829144e+06</td>\n",
       "      <td>3.397892e+13</td>\n",
       "      <td>-0.567055</td>\n",
       "    </tr>\n",
       "    <tr>\n",
       "      <th>13</th>\n",
       "      <td>Kyle Kuzma</td>\n",
       "      <td>1974600</td>\n",
       "      <td>81</td>\n",
       "      <td>-5.883138e+06</td>\n",
       "      <td>3.461131e+13</td>\n",
       "      <td>-0.572308</td>\n",
       "    </tr>\n",
       "    <tr>\n",
       "      <th>14</th>\n",
       "      <td>Talen Horton-Tucker</td>\n",
       "      <td>898310</td>\n",
       "      <td>76</td>\n",
       "      <td>-6.959428e+06</td>\n",
       "      <td>4.843364e+13</td>\n",
       "      <td>-0.677009</td>\n",
       "    </tr>\n",
       "  </tbody>\n",
       "</table>\n",
       "</div>"
      ],
      "text/plain": [
       "                      player    salary  height_inches     deviation  \\\n",
       "0               LeBron James  37436858             80  2.957912e+07   \n",
       "1              Anthony Davis  27093019             82  1.923528e+07   \n",
       "2                Danny Green  14634146             78  6.776408e+06   \n",
       "3   Kentavious Caldwell-Pope   8089282             77  2.315441e+05   \n",
       "4              Avery Bradley   4767000             74 -3.090738e+06   \n",
       "5               JaVale McGee   4000000             84 -3.857738e+06   \n",
       "6           DeMarcus Cousins   3500000             83 -4.357738e+06   \n",
       "7                 Quinn Cook   3000000             74 -4.857738e+06   \n",
       "8                Alex Caruso   2750000             77 -5.107738e+06   \n",
       "9               Jared Dudley   2564753             79 -5.292985e+06   \n",
       "10             Dwight Howard   2564753             83 -5.292985e+06   \n",
       "11               Rajon Rondo   2564753             73 -5.292985e+06   \n",
       "12              Troy Daniels   2028594             76 -5.829144e+06   \n",
       "13                Kyle Kuzma   1974600             81 -5.883138e+06   \n",
       "14       Talen Horton-Tucker    898310             76 -6.959428e+06   \n",
       "\n",
       "    squared_deviation  salary_z-score  \n",
       "0        8.749243e+14        2.877437  \n",
       "1        3.699960e+14        1.871195  \n",
       "2        4.591971e+13        0.659204  \n",
       "3        5.361269e+10        0.022524  \n",
       "4        9.552661e+12       -0.300665  \n",
       "5        1.488214e+13       -0.375278  \n",
       "6        1.898988e+13       -0.423918  \n",
       "7        2.359762e+13       -0.472558  \n",
       "8        2.608899e+13       -0.496877  \n",
       "9        2.801569e+13       -0.514898  \n",
       "10       2.801569e+13       -0.514898  \n",
       "11       2.801569e+13       -0.514898  \n",
       "12       3.397892e+13       -0.567055  \n",
       "13       3.461131e+13       -0.572308  \n",
       "14       4.843364e+13       -0.677009  "
      ]
     },
     "execution_count": 16,
     "metadata": {},
     "output_type": "execute_result"
    }
   ],
   "source": [
    "lakers['salary_z-score'] = (lakers.salary - lakers.salary.mean()) / lakers.salary.std(ddof = 0)\n",
    "lakers"
   ]
  },
  {
   "cell_type": "code",
   "execution_count": 17,
   "metadata": {},
   "outputs": [
    {
     "data": {
      "image/png": "[encoded data removed]",
      "text/plain": [
       "<Figure size 432x288 with 1 Axes>"
      ]
     },
     "metadata": {
      "needs_background": "light"
     },
     "output_type": "display_data"
    }
   ],
   "source": [
    "lakers.height_inches.hist();"
   ]
  },
  {
   "cell_type": "code",
   "execution_count": 18,
   "metadata": {},
   "outputs": [
    {
     "data": {
      "text/html": [
       "<div>\n",
       "<style scoped>\n",
       "    .dataframe tbody tr th:only-of-type {\n",
       "        vertical-align: middle;\n",
       "    }\n",
       "\n",
       "    .dataframe tbody tr th {\n",
       "        vertical-align: top;\n",
       "    }\n",
       "\n",
       "    .dataframe thead th {\n",
       "        text-align: right;\n",
       "    }\n",
       "</style>\n",
       "<table border=\"1\" class=\"dataframe\">\n",
       "  <thead>\n",
       "    <tr style=\"text-align: right;\">\n",
       "      <th></th>\n",
       "      <th>player</th>\n",
       "      <th>salary</th>\n",
       "      <th>height_inches</th>\n",
       "      <th>deviation</th>\n",
       "      <th>squared_deviation</th>\n",
       "      <th>salary_z-score</th>\n",
       "      <th>height_z-score</th>\n",
       "    </tr>\n",
       "  </thead>\n",
       "  <tbody>\n",
       "    <tr>\n",
       "      <th>0</th>\n",
       "      <td>LeBron James</td>\n",
       "      <td>37436858</td>\n",
       "      <td>80</td>\n",
       "      <td>2.957912e+07</td>\n",
       "      <td>8.749243e+14</td>\n",
       "      <td>2.877437</td>\n",
       "      <td>0.442963</td>\n",
       "    </tr>\n",
       "    <tr>\n",
       "      <th>1</th>\n",
       "      <td>Anthony Davis</td>\n",
       "      <td>27093019</td>\n",
       "      <td>82</td>\n",
       "      <td>1.923528e+07</td>\n",
       "      <td>3.699960e+14</td>\n",
       "      <td>1.871195</td>\n",
       "      <td>1.020742</td>\n",
       "    </tr>\n",
       "    <tr>\n",
       "      <th>2</th>\n",
       "      <td>Danny Green</td>\n",
       "      <td>14634146</td>\n",
       "      <td>78</td>\n",
       "      <td>6.776408e+06</td>\n",
       "      <td>4.591971e+13</td>\n",
       "      <td>0.659204</td>\n",
       "      <td>-0.134815</td>\n",
       "    </tr>\n",
       "    <tr>\n",
       "      <th>3</th>\n",
       "      <td>Kentavious Caldwell-Pope</td>\n",
       "      <td>8089282</td>\n",
       "      <td>77</td>\n",
       "      <td>2.315441e+05</td>\n",
       "      <td>5.361269e+10</td>\n",
       "      <td>0.022524</td>\n",
       "      <td>-0.423704</td>\n",
       "    </tr>\n",
       "    <tr>\n",
       "      <th>4</th>\n",
       "      <td>Avery Bradley</td>\n",
       "      <td>4767000</td>\n",
       "      <td>74</td>\n",
       "      <td>-3.090738e+06</td>\n",
       "      <td>9.552661e+12</td>\n",
       "      <td>-0.300665</td>\n",
       "      <td>-1.290372</td>\n",
       "    </tr>\n",
       "    <tr>\n",
       "      <th>5</th>\n",
       "      <td>JaVale McGee</td>\n",
       "      <td>4000000</td>\n",
       "      <td>84</td>\n",
       "      <td>-3.857738e+06</td>\n",
       "      <td>1.488214e+13</td>\n",
       "      <td>-0.375278</td>\n",
       "      <td>1.598520</td>\n",
       "    </tr>\n",
       "    <tr>\n",
       "      <th>6</th>\n",
       "      <td>DeMarcus Cousins</td>\n",
       "      <td>3500000</td>\n",
       "      <td>83</td>\n",
       "      <td>-4.357738e+06</td>\n",
       "      <td>1.898988e+13</td>\n",
       "      <td>-0.423918</td>\n",
       "      <td>1.309631</td>\n",
       "    </tr>\n",
       "    <tr>\n",
       "      <th>7</th>\n",
       "      <td>Quinn Cook</td>\n",
       "      <td>3000000</td>\n",
       "      <td>74</td>\n",
       "      <td>-4.857738e+06</td>\n",
       "      <td>2.359762e+13</td>\n",
       "      <td>-0.472558</td>\n",
       "      <td>-1.290372</td>\n",
       "    </tr>\n",
       "    <tr>\n",
       "      <th>8</th>\n",
       "      <td>Alex Caruso</td>\n",
       "      <td>2750000</td>\n",
       "      <td>77</td>\n",
       "      <td>-5.107738e+06</td>\n",
       "      <td>2.608899e+13</td>\n",
       "      <td>-0.496877</td>\n",
       "      <td>-0.423704</td>\n",
       "    </tr>\n",
       "    <tr>\n",
       "      <th>9</th>\n",
       "      <td>Jared Dudley</td>\n",
       "      <td>2564753</td>\n",
       "      <td>79</td>\n",
       "      <td>-5.292985e+06</td>\n",
       "      <td>2.801569e+13</td>\n",
       "      <td>-0.514898</td>\n",
       "      <td>0.154074</td>\n",
       "    </tr>\n",
       "    <tr>\n",
       "      <th>10</th>\n",
       "      <td>Dwight Howard</td>\n",
       "      <td>2564753</td>\n",
       "      <td>83</td>\n",
       "      <td>-5.292985e+06</td>\n",
       "      <td>2.801569e+13</td>\n",
       "      <td>-0.514898</td>\n",
       "      <td>1.309631</td>\n",
       "    </tr>\n",
       "    <tr>\n",
       "      <th>11</th>\n",
       "      <td>Rajon Rondo</td>\n",
       "      <td>2564753</td>\n",
       "      <td>73</td>\n",
       "      <td>-5.292985e+06</td>\n",
       "      <td>2.801569e+13</td>\n",
       "      <td>-0.514898</td>\n",
       "      <td>-1.579261</td>\n",
       "    </tr>\n",
       "    <tr>\n",
       "      <th>12</th>\n",
       "      <td>Troy Daniels</td>\n",
       "      <td>2028594</td>\n",
       "      <td>76</td>\n",
       "      <td>-5.829144e+06</td>\n",
       "      <td>3.397892e+13</td>\n",
       "      <td>-0.567055</td>\n",
       "      <td>-0.712593</td>\n",
       "    </tr>\n",
       "    <tr>\n",
       "      <th>13</th>\n",
       "      <td>Kyle Kuzma</td>\n",
       "      <td>1974600</td>\n",
       "      <td>81</td>\n",
       "      <td>-5.883138e+06</td>\n",
       "      <td>3.461131e+13</td>\n",
       "      <td>-0.572308</td>\n",
       "      <td>0.731853</td>\n",
       "    </tr>\n",
       "    <tr>\n",
       "      <th>14</th>\n",
       "      <td>Talen Horton-Tucker</td>\n",
       "      <td>898310</td>\n",
       "      <td>76</td>\n",
       "      <td>-6.959428e+06</td>\n",
       "      <td>4.843364e+13</td>\n",
       "      <td>-0.677009</td>\n",
       "      <td>-0.712593</td>\n",
       "    </tr>\n",
       "  </tbody>\n",
       "</table>\n",
       "</div>"
      ],
      "text/plain": [
       "                      player    salary  height_inches     deviation  \\\n",
       "0               LeBron James  37436858             80  2.957912e+07   \n",
       "1              Anthony Davis  27093019             82  1.923528e+07   \n",
       "2                Danny Green  14634146             78  6.776408e+06   \n",
       "3   Kentavious Caldwell-Pope   8089282             77  2.315441e+05   \n",
       "4              Avery Bradley   4767000             74 -3.090738e+06   \n",
       "5               JaVale McGee   4000000             84 -3.857738e+06   \n",
       "6           DeMarcus Cousins   3500000             83 -4.357738e+06   \n",
       "7                 Quinn Cook   3000000             74 -4.857738e+06   \n",
       "8                Alex Caruso   2750000             77 -5.107738e+06   \n",
       "9               Jared Dudley   2564753             79 -5.292985e+06   \n",
       "10             Dwight Howard   2564753             83 -5.292985e+06   \n",
       "11               Rajon Rondo   2564753             73 -5.292985e+06   \n",
       "12              Troy Daniels   2028594             76 -5.829144e+06   \n",
       "13                Kyle Kuzma   1974600             81 -5.883138e+06   \n",
       "14       Talen Horton-Tucker    898310             76 -6.959428e+06   \n",
       "\n",
       "    squared_deviation  salary_z-score  height_z-score  \n",
       "0        8.749243e+14        2.877437        0.442963  \n",
       "1        3.699960e+14        1.871195        1.020742  \n",
       "2        4.591971e+13        0.659204       -0.134815  \n",
       "3        5.361269e+10        0.022524       -0.423704  \n",
       "4        9.552661e+12       -0.300665       -1.290372  \n",
       "5        1.488214e+13       -0.375278        1.598520  \n",
       "6        1.898988e+13       -0.423918        1.309631  \n",
       "7        2.359762e+13       -0.472558       -1.290372  \n",
       "8        2.608899e+13       -0.496877       -0.423704  \n",
       "9        2.801569e+13       -0.514898        0.154074  \n",
       "10       2.801569e+13       -0.514898        1.309631  \n",
       "11       2.801569e+13       -0.514898       -1.579261  \n",
       "12       3.397892e+13       -0.567055       -0.712593  \n",
       "13       3.461131e+13       -0.572308        0.731853  \n",
       "14       4.843364e+13       -0.677009       -0.712593  "
      ]
     },
     "execution_count": 18,
     "metadata": {},
     "output_type": "execute_result"
    }
   ],
   "source": [
    "lakers['height_z-score'] = (lakers.height_inches - lakers.height_inches.mean()) / lakers.height_inches.std(ddof = 0)\n",
    "lakers"
   ]
  },
  {
   "cell_type": "markdown",
   "metadata": {},
   "source": [
    "From this, we can see that the heights of players on the team show (relatively) less dispersion. While Lebron James' salary is nearly 3 standard deviations above the average salary, the tallest player is only about 1.6 standard deviations above average.\n",
    "\n",
    "Further, we can see that the distributions of heights is much more symmetric, and does not have a tail to either side. At the same time, for this distribution, it is not really bell-shaped either, since we do not see a large number of players near the average height."
   ]
  },
  {
   "cell_type": "markdown",
   "metadata": {},
   "source": [
    "## Relative Standard Deviation (Coefficient of Variation)\n",
    "\n",
    "$\\text{CV} = \\frac{\\sigma}{\\mu}$\n",
    "\n",
    "How large is the standard deviation when compared to the mean?"
   ]
  },
  {
   "cell_type": "markdown",
   "metadata": {},
   "source": [
    "## Quartiles and Quantiles/Percentiles\n",
    "\n",
    "We have already encountered a special case of quantiles and percentiles, in the form of the median. Recall that the median of a dataset is middle observation, if the observations are placed in ascending order. Another way to view this is that the median separates the lower half of the dataset from the upper half.\n",
    "\n",
    "Instead of dividing a dataset into halves, **quartiles** divide a dataset into quarters. The **first quartile** separates the smallest quarter of observations from the highest three-quarters, the **second quartile**, aka the median, separates teh smallest half of observations from the largest half of observations, and the **third quartile** separates the smallest three-quarters from the largest quarter of observations."
   ]
  },
  {
   "cell_type": "code",
   "execution_count": 19,
   "metadata": {},
   "outputs": [
    {
     "data": {
      "text/plain": [
       "2564753.0"
      ]
     },
     "execution_count": 19,
     "metadata": {},
     "output_type": "execute_result"
    }
   ],
   "source": [
    "lakers.salary.quantile(q = 0.25)"
   ]
  },
  {
   "cell_type": "code",
   "execution_count": 20,
   "metadata": {},
   "outputs": [
    {
     "data": {
      "text/plain": [
       "3000000.0"
      ]
     },
     "execution_count": 20,
     "metadata": {},
     "output_type": "execute_result"
    }
   ],
   "source": [
    "lakers.salary.quantile(q = 0.5)"
   ]
  },
  {
   "cell_type": "code",
   "execution_count": 21,
   "metadata": {},
   "outputs": [
    {
     "data": {
      "text/plain": [
       "6428141.0"
      ]
     },
     "execution_count": 21,
     "metadata": {},
     "output_type": "execute_result"
    }
   ],
   "source": [
    "lakers.salary.quantile(q = 0.75)"
   ]
  },
  {
   "cell_type": "markdown",
   "metadata": {},
   "source": [
    "We can use the quantiles to find the **interquartile range**, which is defined as the distance from the first to the third quartile. In a way, it is a trimmed version of the range, which is not as sensitive to extreme values."
   ]
  },
  {
   "cell_type": "code",
   "execution_count": 22,
   "metadata": {},
   "outputs": [
    {
     "data": {
      "text/plain": [
       "3863388.0"
      ]
     },
     "execution_count": 22,
     "metadata": {},
     "output_type": "execute_result"
    }
   ],
   "source": [
    "lakers.salary.quantile(q = 0.75) - lakers.salary.quantile(q = 0.25)"
   ]
  },
  {
   "cell_type": "markdown",
   "metadata": {},
   "source": [
    "This tells us that the middle half of observations all fall into a range of width $3.8 million."
   ]
  },
  {
   "cell_type": "markdown",
   "metadata": {},
   "source": [
    "More generally, we can look at the quantiles or percentiles. The $n$th percentile separtes the lowest $n$% of observations from the rest. For example, the 90th percentile divides the lowest 90% of observations from the highest 10%. \n",
    "\n",
    "To find percentiles, we can use the quantile function from pandas."
   ]
  },
  {
   "cell_type": "code",
   "execution_count": 23,
   "metadata": {},
   "outputs": [
    {
     "data": {
      "text/plain": [
       "1996197.6"
      ]
     },
     "execution_count": 23,
     "metadata": {},
     "output_type": "execute_result"
    }
   ],
   "source": [
    "lakers.salary.quantile(q = 0.1)"
   ]
  },
  {
   "cell_type": "code",
   "execution_count": 24,
   "metadata": {},
   "outputs": [
    {
     "data": {
      "text/plain": [
       "22109469.799999997"
      ]
     },
     "execution_count": 24,
     "metadata": {},
     "output_type": "execute_result"
    }
   ],
   "source": [
    "lakers.salary.quantile(q = 0.9)"
   ]
  },
  {
   "cell_type": "markdown",
   "metadata": {},
   "source": [
    "Percentiles can be used to identify unusual observations, or to trim outliers from a data set.\n",
    "\n",
    "If we want to understand how a variable is distributed, we have already seen how we can use a histogram. An alternative type of plot that we can use is a **boxplot** (aka **box-and-whiskers plot**). This type of plot displays a box which starts at the first quartile and extend to the third quartile, with the second quartile marked. It also has whiskers that extend to last observations contained within the **outlier boundaries**. These boundaries are defined as being at 1.5 times the interquartile range below the first quartile and above the third quartile. Any points outside of the outiler boundaries are plotted individually."
   ]
  },
  {
   "cell_type": "code",
   "execution_count": 25,
   "metadata": {},
   "outputs": [],
   "source": [
    "import seaborn as sns"
   ]
  },
  {
   "cell_type": "code",
   "execution_count": 26,
   "metadata": {},
   "outputs": [
    {
     "data": {
      "image/png": "[encoded data removed]",
      "text/plain": [
       "<Figure size 432x288 with 1 Axes>"
      ]
     },
     "metadata": {
      "needs_background": "light"
     },
     "output_type": "display_data"
    }
   ],
   "source": [
    "sns.boxplot(lakers.salary);"
   ]
  },
  {
   "cell_type": "markdown",
   "metadata": {},
   "source": [
    "Boxplots are also good for comparing the distribution of a variable across two or more categories. For example, let's compare salaries for the Lakers to salaries for the Memphis Grizzlies."
   ]
  },
  {
   "cell_type": "code",
   "execution_count": 27,
   "metadata": {},
   "outputs": [],
   "source": [
    "lakers_grizzlies = pd.read_csv('../data/Lakers_Grizzlies.csv')"
   ]
  },
  {
   "cell_type": "code",
   "execution_count": 28,
   "metadata": {},
   "outputs": [
    {
     "data": {
      "text/html": [
       "<div>\n",
       "<style scoped>\n",
       "    .dataframe tbody tr th:only-of-type {\n",
       "        vertical-align: middle;\n",
       "    }\n",
       "\n",
       "    .dataframe tbody tr th {\n",
       "        vertical-align: top;\n",
       "    }\n",
       "\n",
       "    .dataframe thead th {\n",
       "        text-align: right;\n",
       "    }\n",
       "</style>\n",
       "<table border=\"1\" class=\"dataframe\">\n",
       "  <thead>\n",
       "    <tr style=\"text-align: right;\">\n",
       "      <th></th>\n",
       "      <th>player</th>\n",
       "      <th>salary</th>\n",
       "      <th>team</th>\n",
       "    </tr>\n",
       "  </thead>\n",
       "  <tbody>\n",
       "    <tr>\n",
       "      <th>0</th>\n",
       "      <td>Gorgui Dieng</td>\n",
       "      <td>16229213</td>\n",
       "      <td>Grizzlies</td>\n",
       "    </tr>\n",
       "    <tr>\n",
       "      <th>1</th>\n",
       "      <td>Jonas Valančiūnas</td>\n",
       "      <td>16000000</td>\n",
       "      <td>Grizzlies</td>\n",
       "    </tr>\n",
       "    <tr>\n",
       "      <th>2</th>\n",
       "      <td>Justise Winslow</td>\n",
       "      <td>13000000</td>\n",
       "      <td>Grizzlies</td>\n",
       "    </tr>\n",
       "    <tr>\n",
       "      <th>3</th>\n",
       "      <td>Kyle Anderson</td>\n",
       "      <td>9073050</td>\n",
       "      <td>Grizzlies</td>\n",
       "    </tr>\n",
       "    <tr>\n",
       "      <th>4</th>\n",
       "      <td>Ja Morant</td>\n",
       "      <td>8730240</td>\n",
       "      <td>Grizzlies</td>\n",
       "    </tr>\n",
       "    <tr>\n",
       "      <th>5</th>\n",
       "      <td>Tyus Jones</td>\n",
       "      <td>8408000</td>\n",
       "      <td>Grizzlies</td>\n",
       "    </tr>\n",
       "    <tr>\n",
       "      <th>6</th>\n",
       "      <td>Josh Jackson</td>\n",
       "      <td>7059480</td>\n",
       "      <td>Grizzlies</td>\n",
       "    </tr>\n",
       "    <tr>\n",
       "      <th>7</th>\n",
       "      <td>Jaren Jackson</td>\n",
       "      <td>6927480</td>\n",
       "      <td>Grizzlies</td>\n",
       "    </tr>\n",
       "    <tr>\n",
       "      <th>8</th>\n",
       "      <td>Marko Guduric</td>\n",
       "      <td>2625000</td>\n",
       "      <td>Grizzlies</td>\n",
       "    </tr>\n",
       "    <tr>\n",
       "      <th>9</th>\n",
       "      <td>Brandon Clarke</td>\n",
       "      <td>2478840</td>\n",
       "      <td>Grizzlies</td>\n",
       "    </tr>\n",
       "    <tr>\n",
       "      <th>10</th>\n",
       "      <td>Grayson Allen</td>\n",
       "      <td>2429400</td>\n",
       "      <td>Grizzlies</td>\n",
       "    </tr>\n",
       "    <tr>\n",
       "      <th>11</th>\n",
       "      <td>Jordan Bell</td>\n",
       "      <td>1620564</td>\n",
       "      <td>Grizzlies</td>\n",
       "    </tr>\n",
       "    <tr>\n",
       "      <th>12</th>\n",
       "      <td>Dillon Brooks</td>\n",
       "      <td>1618520</td>\n",
       "      <td>Grizzlies</td>\n",
       "    </tr>\n",
       "    <tr>\n",
       "      <th>13</th>\n",
       "      <td>De'Anthony Melton</td>\n",
       "      <td>1416852</td>\n",
       "      <td>Grizzlies</td>\n",
       "    </tr>\n",
       "    <tr>\n",
       "      <th>14</th>\n",
       "      <td>LeBron James</td>\n",
       "      <td>37436858</td>\n",
       "      <td>Lakers</td>\n",
       "    </tr>\n",
       "    <tr>\n",
       "      <th>15</th>\n",
       "      <td>Anthony Davis</td>\n",
       "      <td>27093019</td>\n",
       "      <td>Lakers</td>\n",
       "    </tr>\n",
       "    <tr>\n",
       "      <th>16</th>\n",
       "      <td>Danny Green</td>\n",
       "      <td>14634146</td>\n",
       "      <td>Lakers</td>\n",
       "    </tr>\n",
       "    <tr>\n",
       "      <th>17</th>\n",
       "      <td>Kentavious Caldwell-Pope</td>\n",
       "      <td>8089282</td>\n",
       "      <td>Lakers</td>\n",
       "    </tr>\n",
       "    <tr>\n",
       "      <th>18</th>\n",
       "      <td>Avery Bradley</td>\n",
       "      <td>4767000</td>\n",
       "      <td>Lakers</td>\n",
       "    </tr>\n",
       "    <tr>\n",
       "      <th>19</th>\n",
       "      <td>JaVale McGee</td>\n",
       "      <td>4000000</td>\n",
       "      <td>Lakers</td>\n",
       "    </tr>\n",
       "    <tr>\n",
       "      <th>20</th>\n",
       "      <td>DeMarcus Cousins</td>\n",
       "      <td>3500000</td>\n",
       "      <td>Lakers</td>\n",
       "    </tr>\n",
       "    <tr>\n",
       "      <th>21</th>\n",
       "      <td>Quinn Cook</td>\n",
       "      <td>3000000</td>\n",
       "      <td>Lakers</td>\n",
       "    </tr>\n",
       "    <tr>\n",
       "      <th>22</th>\n",
       "      <td>Alex Caruso</td>\n",
       "      <td>2750000</td>\n",
       "      <td>Lakers</td>\n",
       "    </tr>\n",
       "    <tr>\n",
       "      <th>23</th>\n",
       "      <td>Jared Dudley</td>\n",
       "      <td>2564753</td>\n",
       "      <td>Lakers</td>\n",
       "    </tr>\n",
       "    <tr>\n",
       "      <th>24</th>\n",
       "      <td>Dwight Howard</td>\n",
       "      <td>2564753</td>\n",
       "      <td>Lakers</td>\n",
       "    </tr>\n",
       "    <tr>\n",
       "      <th>25</th>\n",
       "      <td>Rajon Rondo</td>\n",
       "      <td>2564753</td>\n",
       "      <td>Lakers</td>\n",
       "    </tr>\n",
       "    <tr>\n",
       "      <th>26</th>\n",
       "      <td>Troy Daniels</td>\n",
       "      <td>2028594</td>\n",
       "      <td>Lakers</td>\n",
       "    </tr>\n",
       "    <tr>\n",
       "      <th>27</th>\n",
       "      <td>Kyle Kuzma</td>\n",
       "      <td>1974600</td>\n",
       "      <td>Lakers</td>\n",
       "    </tr>\n",
       "    <tr>\n",
       "      <th>28</th>\n",
       "      <td>Talen Horton-Tucker</td>\n",
       "      <td>898310</td>\n",
       "      <td>Lakers</td>\n",
       "    </tr>\n",
       "  </tbody>\n",
       "</table>\n",
       "</div>"
      ],
      "text/plain": [
       "                      player    salary       team\n",
       "0               Gorgui Dieng  16229213  Grizzlies\n",
       "1          Jonas Valančiūnas  16000000  Grizzlies\n",
       "2            Justise Winslow  13000000  Grizzlies\n",
       "3              Kyle Anderson   9073050  Grizzlies\n",
       "4                  Ja Morant   8730240  Grizzlies\n",
       "5                 Tyus Jones   8408000  Grizzlies\n",
       "6               Josh Jackson   7059480  Grizzlies\n",
       "7              Jaren Jackson   6927480  Grizzlies\n",
       "8              Marko Guduric   2625000  Grizzlies\n",
       "9             Brandon Clarke   2478840  Grizzlies\n",
       "10             Grayson Allen   2429400  Grizzlies\n",
       "11               Jordan Bell   1620564  Grizzlies\n",
       "12             Dillon Brooks   1618520  Grizzlies\n",
       "13         De'Anthony Melton   1416852  Grizzlies\n",
       "14              LeBron James  37436858     Lakers\n",
       "15             Anthony Davis  27093019     Lakers\n",
       "16               Danny Green  14634146     Lakers\n",
       "17  Kentavious Caldwell-Pope   8089282     Lakers\n",
       "18             Avery Bradley   4767000     Lakers\n",
       "19              JaVale McGee   4000000     Lakers\n",
       "20          DeMarcus Cousins   3500000     Lakers\n",
       "21                Quinn Cook   3000000     Lakers\n",
       "22               Alex Caruso   2750000     Lakers\n",
       "23              Jared Dudley   2564753     Lakers\n",
       "24             Dwight Howard   2564753     Lakers\n",
       "25               Rajon Rondo   2564753     Lakers\n",
       "26              Troy Daniels   2028594     Lakers\n",
       "27                Kyle Kuzma   1974600     Lakers\n",
       "28       Talen Horton-Tucker    898310     Lakers"
      ]
     },
     "execution_count": 28,
     "metadata": {},
     "output_type": "execute_result"
    }
   ],
   "source": [
    "lakers_grizzlies"
   ]
  },
  {
   "cell_type": "code",
   "execution_count": 29,
   "metadata": {},
   "outputs": [
    {
     "data": {
      "image/png": "[encoded data removed]",
      "text/plain": [
       "<Figure size 432x288 with 1 Axes>"
      ]
     },
     "metadata": {
      "needs_background": "light"
     },
     "output_type": "display_data"
    }
   ],
   "source": [
    "sns.boxplot(data = lakers_grizzlies, x = \"team\", y = \"salary\");"
   ]
  },
  {
   "cell_type": "markdown",
   "metadata": {},
   "source": [
    "From this boxplot, we can see that the Grizzlies have a wider interquartile range and higher median salary with no points considered as outliers. This may be due in part to the NBA's salary cap, which limits the total payroll of each team. Since the Lakers have several extremely highly-compensated players, it leaves less money to go around to the remaining players."
   ]
  },
  {
   "cell_type": "code",
   "execution_count": 30,
   "metadata": {},
   "outputs": [
    {
     "data": {
      "text/plain": [
       "6972617.071428572"
      ]
     },
     "execution_count": 30,
     "metadata": {},
     "output_type": "execute_result"
    }
   ],
   "source": [
    "lakers_grizzlies[lakers_grizzlies.team == 'Grizzlies'].salary.mean()"
   ]
  },
  {
   "cell_type": "code",
   "execution_count": null,
   "metadata": {},
   "outputs": [],
   "source": []
  },
  {
   "cell_type": "markdown",
   "metadata": {},
   "source": [
    "## Histograms (PMFs) to CDFs\n",
    "\n",
    "As we have more observations, we can use more bins when creating our histogram. At a certain point, it becomes too \"spiky\", and we lose out on the true picture. An alternative strategy is to smooth out the histogram using what's called kernel density estimation.\n",
    "\n",
    "This gives an approximation of the **probability density function**."
   ]
  },
  {
   "cell_type": "code",
   "execution_count": 31,
   "metadata": {},
   "outputs": [],
   "source": [
    "nhanes = pd.read_csv('../data/NHANES_2013.csv')"
   ]
  },
  {
   "cell_type": "code",
   "execution_count": 32,
   "metadata": {},
   "outputs": [
    {
     "data": {
      "text/html": [
       "<div>\n",
       "<style scoped>\n",
       "    .dataframe tbody tr th:only-of-type {\n",
       "        vertical-align: middle;\n",
       "    }\n",
       "\n",
       "    .dataframe tbody tr th {\n",
       "        vertical-align: top;\n",
       "    }\n",
       "\n",
       "    .dataframe thead th {\n",
       "        text-align: right;\n",
       "    }\n",
       "</style>\n",
       "<table border=\"1\" class=\"dataframe\">\n",
       "  <thead>\n",
       "    <tr style=\"text-align: right;\">\n",
       "      <th></th>\n",
       "      <th>SEQN</th>\n",
       "      <th>systolic_blood_pressure</th>\n",
       "      <th>add_salt_to_food</th>\n",
       "      <th>body_mass_index</th>\n",
       "      <th>vitamin_b12</th>\n",
       "      <th>iodine</th>\n",
       "    </tr>\n",
       "  </thead>\n",
       "  <tbody>\n",
       "    <tr>\n",
       "      <th>0</th>\n",
       "      <td>73557.0</td>\n",
       "      <td>122.0</td>\n",
       "      <td>Occasionally</td>\n",
       "      <td>26.7</td>\n",
       "      <td>524.0</td>\n",
       "      <td>NaN</td>\n",
       "    </tr>\n",
       "    <tr>\n",
       "      <th>1</th>\n",
       "      <td>73558.0</td>\n",
       "      <td>156.0</td>\n",
       "      <td>Occasionally</td>\n",
       "      <td>28.6</td>\n",
       "      <td>507.0</td>\n",
       "      <td>NaN</td>\n",
       "    </tr>\n",
       "    <tr>\n",
       "      <th>2</th>\n",
       "      <td>73559.0</td>\n",
       "      <td>140.0</td>\n",
       "      <td>Rarely</td>\n",
       "      <td>28.9</td>\n",
       "      <td>732.0</td>\n",
       "      <td>NaN</td>\n",
       "    </tr>\n",
       "    <tr>\n",
       "      <th>3</th>\n",
       "      <td>73560.0</td>\n",
       "      <td>108.0</td>\n",
       "      <td>Rarely</td>\n",
       "      <td>17.1</td>\n",
       "      <td>NaN</td>\n",
       "      <td>194.3</td>\n",
       "    </tr>\n",
       "    <tr>\n",
       "      <th>4</th>\n",
       "      <td>73561.0</td>\n",
       "      <td>136.0</td>\n",
       "      <td>NaN</td>\n",
       "      <td>19.7</td>\n",
       "      <td>225.0</td>\n",
       "      <td>NaN</td>\n",
       "    </tr>\n",
       "  </tbody>\n",
       "</table>\n",
       "</div>"
      ],
      "text/plain": [
       "      SEQN  systolic_blood_pressure add_salt_to_food  body_mass_index  \\\n",
       "0  73557.0                    122.0     Occasionally             26.7   \n",
       "1  73558.0                    156.0     Occasionally             28.6   \n",
       "2  73559.0                    140.0           Rarely             28.9   \n",
       "3  73560.0                    108.0           Rarely             17.1   \n",
       "4  73561.0                    136.0              NaN             19.7   \n",
       "\n",
       "   vitamin_b12  iodine  \n",
       "0        524.0     NaN  \n",
       "1        507.0     NaN  \n",
       "2        732.0     NaN  \n",
       "3          NaN   194.3  \n",
       "4        225.0     NaN  "
      ]
     },
     "execution_count": 32,
     "metadata": {},
     "output_type": "execute_result"
    }
   ],
   "source": [
    "nhanes.head()"
   ]
  },
  {
   "cell_type": "markdown",
   "metadata": {},
   "source": [
    "One downside to a histogram is that it can be highly sensitive to the choice of number of bins."
   ]
  },
  {
   "cell_type": "code",
   "execution_count": 39,
   "metadata": {},
   "outputs": [
    {
     "data": {
      "image/png": "[encoded data removed]",
      "text/plain": [
       "<Figure size 432x288 with 1 Axes>"
      ]
     },
     "metadata": {
      "needs_background": "light"
     },
     "output_type": "display_data"
    }
   ],
   "source": [
    "nhanes.systolic_blood_pressure.hist(bins = 20);"
   ]
  },
  {
   "cell_type": "code",
   "execution_count": 40,
   "metadata": {},
   "outputs": [
    {
     "data": {
      "image/png": "[encoded data removed]",
      "text/plain": [
       "<Figure size 432x288 with 1 Axes>"
      ]
     },
     "metadata": {
      "needs_background": "light"
     },
     "output_type": "display_data"
    }
   ],
   "source": [
    "nhanes.systolic_blood_pressure.hist(bins = 50);"
   ]
  },
  {
   "cell_type": "markdown",
   "metadata": {},
   "source": [
    "We get more detail with a larger number of bins, but at a certain point, it's hard to determine what are important features and what is just noise from the binning process.\n",
    "\n",
    "Check this out: https://mathisonian.github.io/kde/"
   ]
  },
  {
   "cell_type": "code",
   "execution_count": 46,
   "metadata": {},
   "outputs": [],
   "source": [
    "import seaborn as sns\n",
    "import matplotlib.pyplot as plt"
   ]
  },
  {
   "cell_type": "markdown",
   "metadata": {},
   "source": [
    "Kernel Density Estimation is a way to \"smooth\" a histogram. One way we can get a density estimate by using the `distplot` function from `seaborn`. This will create a histogram with a kde superimposed."
   ]
  },
  {
   "cell_type": "code",
   "execution_count": 48,
   "metadata": {},
   "outputs": [
    {
     "data": {
      "image/png": "[encoded data removed]",
      "text/plain": [
       "<Figure size 576x432 with 1 Axes>"
      ]
     },
     "metadata": {
      "needs_background": "light"
     },
     "output_type": "display_data"
    }
   ],
   "source": [
    "fig, ax = plt.subplots(figsize = (8,6))\n",
    "sns.distplot(nhanes.systolic_blood_pressure.dropna());"
   ]
  },
  {
   "cell_type": "markdown",
   "metadata": {},
   "source": [
    "If we want just the kernel density estimation, we can use the `kdeplot` instead. Kernel density estimation works by looking at the density of observations within a certain \"bandwidth\" around each point. We can adjust the bandwidth to see the effect on the density estimation:"
   ]
  },
  {
   "cell_type": "code",
   "execution_count": 66,
   "metadata": {},
   "outputs": [
    {
     "data": {
      "image/png": "[encoded data removed]",
      "text/plain": [
       "<Figure size 432x288 with 1 Axes>"
      ]
     },
     "metadata": {
      "needs_background": "light"
     },
     "output_type": "display_data"
    }
   ],
   "source": [
    "sns.kdeplot(nhanes.systolic_blood_pressure.dropna(), bw = 1);"
   ]
  },
  {
   "cell_type": "code",
   "execution_count": 72,
   "metadata": {},
   "outputs": [
    {
     "data": {
      "image/png": "[encoded data removed]",
      "text/plain": [
       "<Figure size 432x288 with 1 Axes>"
      ]
     },
     "metadata": {
      "needs_background": "light"
     },
     "output_type": "display_data"
    }
   ],
   "source": [
    "sns.kdeplot(nhanes.systolic_blood_pressure.dropna(), bw = 3);"
   ]
  },
  {
   "cell_type": "code",
   "execution_count": 73,
   "metadata": {},
   "outputs": [
    {
     "data": {
      "image/png": "[encoded data removed]",
      "text/plain": [
       "<Figure size 432x288 with 1 Axes>"
      ]
     },
     "metadata": {
      "needs_background": "light"
     },
     "output_type": "display_data"
    }
   ],
   "source": [
    "sns.kdeplot(nhanes.systolic_blood_pressure.dropna(), bw = 5);"
   ]
  },
  {
   "cell_type": "code",
   "execution_count": 70,
   "metadata": {},
   "outputs": [
    {
     "data": {
      "image/png": "[encoded data removed]",
      "text/plain": [
       "<Figure size 432x288 with 1 Axes>"
      ]
     },
     "metadata": {
      "needs_background": "light"
     },
     "output_type": "display_data"
    }
   ],
   "source": [
    "sns.kdeplot(nhanes.systolic_blood_pressure.dropna(), bw = 100);"
   ]
  },
  {
   "cell_type": "code",
   "execution_count": null,
   "metadata": {},
   "outputs": [],
   "source": []
  }
 ],
 "metadata": {
  "kernelspec": {
   "display_name": "Python 3",
   "language": "python",
   "name": "python3"
  },
  "language_info": {
   "codemirror_mode": {
    "name": "ipython",
    "version": 3
   },
   "file_extension": ".py",
   "mimetype": "text/x-python",
   "name": "python",
   "nbconvert_exporter": "python",
   "pygments_lexer": "ipython3",
   "version": "3.7.4"
  }
 },
 "nbformat": 4,
 "nbformat_minor": 2
}
