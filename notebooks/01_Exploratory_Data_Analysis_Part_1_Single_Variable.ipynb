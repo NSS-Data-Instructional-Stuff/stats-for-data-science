{
 "cells": [
  {
   "cell_type": "markdown",
   "metadata": {},
   "source": [
    "# Exploratory Data Analysis\n",
    "\n",
    "Exploratory data analysis (EDA) is the process of looking for patterns, differences, and other features within a dataset. You are trying to analyze your dataset to summarize its main characteristics.\n",
    "\n",
    "EDA can be used to check your data for inconsistencies or identify limitations in the data, as well as identifying trends or outliers in the data.\n",
    "\n",
    "EDA can be done to generate ideas or hypotheses about your population of interest.\n",
    "\n",
    "EDA is often done visually, by creating plots, or numerically, by calculating **descriptive statistics**.\n",
    "\n",
    "The tools that you use depend on whether you are looking at numeric or categorical variables."
   ]
  },
  {
   "cell_type": "markdown",
   "metadata": {},
   "source": [
    "## Numerical Variables\n",
    "\n",
    "You'll start by exploring a numerical variable. Specifically, you'll be looking at the salaries and the heights of the players for the 2019-2020 Los Angeles Lakers."
   ]
  },
  {
   "cell_type": "markdown",
   "metadata": {},
   "source": [
    "### Descriptive Statistics\n",
    "\n",
    "**Goal:** Describe a data set in terms of its important features. Summarize a data set using just a few numbers and/or a plot. Rather than looking at the entire dataset at once, convert it into an easily digestible form.\n",
    "\n",
    "There are three major categories of descriptive statistics:\n",
    "* Measures of Central Tendency\n",
    "* Measures of Variability/Spread\n",
    "* Measures of Position"
   ]
  },
  {
   "cell_type": "markdown",
   "metadata": {},
   "source": [
    "# Measures of Central Tendency\n",
    "\n",
    "Give a central or \"typical\" value of a data set.\n",
    "\n",
    "Most common measures of central tendency:\n",
    "* mean\n",
    "* median\n",
    "* mode"
   ]
  },
  {
   "cell_type": "markdown",
   "metadata": {},
   "source": [
    "## Mean\n",
    "\n",
    "Also known as the *average* or *arithmetic mean*. Defined as total (sum) of the values of a set of observations divided by the number of observations. When calculating the mean, the only difference between a sample and population mean is the notation.\n",
    "\n",
    "$$\\text{Sample Mean: } \\bar{x} = \\frac{x_1 + x_2 + \\cdots + x_n}{n} = \\frac{\\sum\\limits_{i=1}^n x_i}{n}$$\n",
    "\n",
    "$$\\text{Population Mean: } \\mu = \\frac{x_1 + x_2 + \\cdots + x_n}{n} = \\frac{\\sum\\limits_{i=1}^n x_i}{n}$$\n",
    "\n",
    "The mean represents the “balance point” of the data. \n",
    "\n",
    "It is the amount that all observations would have if the total amount of the variable was evenly distributed to all observations."
   ]
  },
  {
   "cell_type": "markdown",
   "metadata": {},
   "source": [
    "You will be using the `pandas` and `numpy` libraries to perform some of your calculations and the `pyplot` module from `matplotlib`. You must first import these libraries. You will *alias* `pandas` as `pd` so that when you refer to it later, you only need to type `pd`. Similarly, you will alias `numpy` and `matplotlib.pyplot`. Finally, you'll add the `%matplotlib inline` *magic* so that your plots will display in your notebook."
   ]
  },
  {
   "cell_type": "code",
   "execution_count": 1,
   "metadata": {},
   "outputs": [],
   "source": [
    "import pandas as pd\n",
    "import matplotlib.pyplot as plt\n",
    "import numpy as np\n",
    "%matplotlib inline"
   ]
  },
  {
   "cell_type": "markdown",
   "metadata": {},
   "source": [
    "First, we'll read in the dataset from a csv file."
   ]
  },
  {
   "cell_type": "code",
   "execution_count": 2,
   "metadata": {},
   "outputs": [],
   "source": [
    "lakers = pd.read_csv('../data/Lakers.csv')"
   ]
  },
  {
   "cell_type": "markdown",
   "metadata": {},
   "source": [
    "Take a look at it."
   ]
  },
  {
   "cell_type": "code",
   "execution_count": 3,
   "metadata": {},
   "outputs": [
    {
     "data": {
      "text/html": [
       "<div>\n",
       "<style scoped>\n",
       "    .dataframe tbody tr th:only-of-type {\n",
       "        vertical-align: middle;\n",
       "    }\n",
       "\n",
       "    .dataframe tbody tr th {\n",
       "        vertical-align: top;\n",
       "    }\n",
       "\n",
       "    .dataframe thead th {\n",
       "        text-align: right;\n",
       "    }\n",
       "</style>\n",
       "<table border=\"1\" class=\"dataframe\">\n",
       "  <thead>\n",
       "    <tr style=\"text-align: right;\">\n",
       "      <th></th>\n",
       "      <th>player</th>\n",
       "      <th>salary</th>\n",
       "      <th>height_inches</th>\n",
       "    </tr>\n",
       "  </thead>\n",
       "  <tbody>\n",
       "    <tr>\n",
       "      <th>0</th>\n",
       "      <td>LeBron James</td>\n",
       "      <td>37436858</td>\n",
       "      <td>80</td>\n",
       "    </tr>\n",
       "    <tr>\n",
       "      <th>1</th>\n",
       "      <td>Anthony Davis</td>\n",
       "      <td>27093019</td>\n",
       "      <td>82</td>\n",
       "    </tr>\n",
       "    <tr>\n",
       "      <th>2</th>\n",
       "      <td>Danny Green</td>\n",
       "      <td>14634146</td>\n",
       "      <td>78</td>\n",
       "    </tr>\n",
       "    <tr>\n",
       "      <th>3</th>\n",
       "      <td>Kentavious Caldwell-Pope</td>\n",
       "      <td>8089282</td>\n",
       "      <td>77</td>\n",
       "    </tr>\n",
       "    <tr>\n",
       "      <th>4</th>\n",
       "      <td>Avery Bradley</td>\n",
       "      <td>4767000</td>\n",
       "      <td>74</td>\n",
       "    </tr>\n",
       "    <tr>\n",
       "      <th>5</th>\n",
       "      <td>JaVale McGee</td>\n",
       "      <td>4000000</td>\n",
       "      <td>84</td>\n",
       "    </tr>\n",
       "    <tr>\n",
       "      <th>6</th>\n",
       "      <td>DeMarcus Cousins</td>\n",
       "      <td>3500000</td>\n",
       "      <td>83</td>\n",
       "    </tr>\n",
       "    <tr>\n",
       "      <th>7</th>\n",
       "      <td>Quinn Cook</td>\n",
       "      <td>3000000</td>\n",
       "      <td>74</td>\n",
       "    </tr>\n",
       "    <tr>\n",
       "      <th>8</th>\n",
       "      <td>Alex Caruso</td>\n",
       "      <td>2750000</td>\n",
       "      <td>77</td>\n",
       "    </tr>\n",
       "    <tr>\n",
       "      <th>9</th>\n",
       "      <td>Jared Dudley</td>\n",
       "      <td>2564753</td>\n",
       "      <td>79</td>\n",
       "    </tr>\n",
       "    <tr>\n",
       "      <th>10</th>\n",
       "      <td>Dwight Howard</td>\n",
       "      <td>2564753</td>\n",
       "      <td>83</td>\n",
       "    </tr>\n",
       "    <tr>\n",
       "      <th>11</th>\n",
       "      <td>Rajon Rondo</td>\n",
       "      <td>2564753</td>\n",
       "      <td>73</td>\n",
       "    </tr>\n",
       "    <tr>\n",
       "      <th>12</th>\n",
       "      <td>Troy Daniels</td>\n",
       "      <td>2028594</td>\n",
       "      <td>76</td>\n",
       "    </tr>\n",
       "    <tr>\n",
       "      <th>13</th>\n",
       "      <td>Kyle Kuzma</td>\n",
       "      <td>1974600</td>\n",
       "      <td>81</td>\n",
       "    </tr>\n",
       "    <tr>\n",
       "      <th>14</th>\n",
       "      <td>Talen Horton-Tucker</td>\n",
       "      <td>898310</td>\n",
       "      <td>76</td>\n",
       "    </tr>\n",
       "  </tbody>\n",
       "</table>\n",
       "</div>"
      ],
      "text/plain": [
       "                      player    salary  height_inches\n",
       "0               LeBron James  37436858             80\n",
       "1              Anthony Davis  27093019             82\n",
       "2                Danny Green  14634146             78\n",
       "3   Kentavious Caldwell-Pope   8089282             77\n",
       "4              Avery Bradley   4767000             74\n",
       "5               JaVale McGee   4000000             84\n",
       "6           DeMarcus Cousins   3500000             83\n",
       "7                 Quinn Cook   3000000             74\n",
       "8                Alex Caruso   2750000             77\n",
       "9               Jared Dudley   2564753             79\n",
       "10             Dwight Howard   2564753             83\n",
       "11               Rajon Rondo   2564753             73\n",
       "12              Troy Daniels   2028594             76\n",
       "13                Kyle Kuzma   1974600             81\n",
       "14       Talen Horton-Tucker    898310             76"
      ]
     },
     "execution_count": 3,
     "metadata": {},
     "output_type": "execute_result"
    }
   ],
   "source": [
    "lakers"
   ]
  },
  {
   "cell_type": "markdown",
   "metadata": {},
   "source": [
    "First, you'll manually calculate the mean, so that you can see how to use some of the methods available in `pandas`. \n",
    "\n",
    "To use a dataframe method, you normally type the name of the dataframe followed by a `.` and the name of the method you wish to use. \n",
    "\n",
    "Note also that when using methods, you need to put a set of parentheses after the name of the method."
   ]
  },
  {
   "cell_type": "code",
   "execution_count": 4,
   "metadata": {},
   "outputs": [
    {
     "data": {
      "text/plain": [
       "117866068"
      ]
     },
     "execution_count": 4,
     "metadata": {},
     "output_type": "execute_result"
    }
   ],
   "source": [
    "lakers.salary.sum()"
   ]
  },
  {
   "cell_type": "code",
   "execution_count": 5,
   "metadata": {},
   "outputs": [
    {
     "data": {
      "text/plain": [
       "15"
      ]
     },
     "execution_count": 5,
     "metadata": {},
     "output_type": "execute_result"
    }
   ],
   "source": [
    "lakers.salary.count()"
   ]
  },
  {
   "cell_type": "code",
   "execution_count": 6,
   "metadata": {},
   "outputs": [
    {
     "data": {
      "text/plain": [
       "7857737.866666666"
      ]
     },
     "execution_count": 6,
     "metadata": {},
     "output_type": "execute_result"
    }
   ],
   "source": [
    "lakers.salary.sum() / lakers.salary.count()"
   ]
  },
  {
   "cell_type": "markdown",
   "metadata": {},
   "source": [
    "The `pandas` library has many of the common descriptive statistics available as methods. For example, to compute the mean salary, you could take advantage of the `mean` method."
   ]
  },
  {
   "cell_type": "code",
   "execution_count": 7,
   "metadata": {},
   "outputs": [
    {
     "data": {
      "text/plain": [
       "7857737.866666666"
      ]
     },
     "execution_count": 7,
     "metadata": {},
     "output_type": "execute_result"
    }
   ],
   "source": [
    "lakers.salary.mean()"
   ]
  },
  {
   "cell_type": "markdown",
   "metadata": {},
   "source": [
    "This says that if you distributed the total payroll evenly to all players, they would each receive a salary of $7,857,737.\n",
    "\n",
    "Look back at the full dataset and notice that only 4 out of the 15 players made above the average, with the top three players making significantly higher than the average. This is typical for data sets where you have extreme observations.\n",
    "\n",
    "In this case, since Lebron James and Anthony Davis earn much higher salaries than the typical player, they end up pulling the average salary up."
   ]
  },
  {
   "cell_type": "markdown",
   "metadata": {},
   "source": [
    "You can also calculate the mean player height."
   ]
  },
  {
   "cell_type": "code",
   "execution_count": 8,
   "metadata": {},
   "outputs": [
    {
     "data": {
      "text/plain": [
       "78.46666666666667"
      ]
     },
     "execution_count": 8,
     "metadata": {},
     "output_type": "execute_result"
    }
   ],
   "source": [
    "lakers.height_inches.mean()"
   ]
  },
  {
   "cell_type": "markdown",
   "metadata": {},
   "source": [
    "Sort the table by height now to see how the mean compares to the overall distribution."
   ]
  },
  {
   "cell_type": "code",
   "execution_count": 9,
   "metadata": {},
   "outputs": [
    {
     "data": {
      "text/html": [
       "<div>\n",
       "<style scoped>\n",
       "    .dataframe tbody tr th:only-of-type {\n",
       "        vertical-align: middle;\n",
       "    }\n",
       "\n",
       "    .dataframe tbody tr th {\n",
       "        vertical-align: top;\n",
       "    }\n",
       "\n",
       "    .dataframe thead th {\n",
       "        text-align: right;\n",
       "    }\n",
       "</style>\n",
       "<table border=\"1\" class=\"dataframe\">\n",
       "  <thead>\n",
       "    <tr style=\"text-align: right;\">\n",
       "      <th></th>\n",
       "      <th>player</th>\n",
       "      <th>salary</th>\n",
       "      <th>height_inches</th>\n",
       "    </tr>\n",
       "  </thead>\n",
       "  <tbody>\n",
       "    <tr>\n",
       "      <th>0</th>\n",
       "      <td>Rajon Rondo</td>\n",
       "      <td>2564753</td>\n",
       "      <td>73</td>\n",
       "    </tr>\n",
       "    <tr>\n",
       "      <th>1</th>\n",
       "      <td>Avery Bradley</td>\n",
       "      <td>4767000</td>\n",
       "      <td>74</td>\n",
       "    </tr>\n",
       "    <tr>\n",
       "      <th>2</th>\n",
       "      <td>Quinn Cook</td>\n",
       "      <td>3000000</td>\n",
       "      <td>74</td>\n",
       "    </tr>\n",
       "    <tr>\n",
       "      <th>3</th>\n",
       "      <td>Troy Daniels</td>\n",
       "      <td>2028594</td>\n",
       "      <td>76</td>\n",
       "    </tr>\n",
       "    <tr>\n",
       "      <th>4</th>\n",
       "      <td>Talen Horton-Tucker</td>\n",
       "      <td>898310</td>\n",
       "      <td>76</td>\n",
       "    </tr>\n",
       "    <tr>\n",
       "      <th>5</th>\n",
       "      <td>Kentavious Caldwell-Pope</td>\n",
       "      <td>8089282</td>\n",
       "      <td>77</td>\n",
       "    </tr>\n",
       "    <tr>\n",
       "      <th>6</th>\n",
       "      <td>Alex Caruso</td>\n",
       "      <td>2750000</td>\n",
       "      <td>77</td>\n",
       "    </tr>\n",
       "    <tr>\n",
       "      <th>7</th>\n",
       "      <td>Danny Green</td>\n",
       "      <td>14634146</td>\n",
       "      <td>78</td>\n",
       "    </tr>\n",
       "    <tr>\n",
       "      <th>8</th>\n",
       "      <td>Jared Dudley</td>\n",
       "      <td>2564753</td>\n",
       "      <td>79</td>\n",
       "    </tr>\n",
       "    <tr>\n",
       "      <th>9</th>\n",
       "      <td>LeBron James</td>\n",
       "      <td>37436858</td>\n",
       "      <td>80</td>\n",
       "    </tr>\n",
       "    <tr>\n",
       "      <th>10</th>\n",
       "      <td>Kyle Kuzma</td>\n",
       "      <td>1974600</td>\n",
       "      <td>81</td>\n",
       "    </tr>\n",
       "    <tr>\n",
       "      <th>11</th>\n",
       "      <td>Anthony Davis</td>\n",
       "      <td>27093019</td>\n",
       "      <td>82</td>\n",
       "    </tr>\n",
       "    <tr>\n",
       "      <th>12</th>\n",
       "      <td>DeMarcus Cousins</td>\n",
       "      <td>3500000</td>\n",
       "      <td>83</td>\n",
       "    </tr>\n",
       "    <tr>\n",
       "      <th>13</th>\n",
       "      <td>Dwight Howard</td>\n",
       "      <td>2564753</td>\n",
       "      <td>83</td>\n",
       "    </tr>\n",
       "    <tr>\n",
       "      <th>14</th>\n",
       "      <td>JaVale McGee</td>\n",
       "      <td>4000000</td>\n",
       "      <td>84</td>\n",
       "    </tr>\n",
       "  </tbody>\n",
       "</table>\n",
       "</div>"
      ],
      "text/plain": [
       "                      player    salary  height_inches\n",
       "0                Rajon Rondo   2564753             73\n",
       "1              Avery Bradley   4767000             74\n",
       "2                 Quinn Cook   3000000             74\n",
       "3               Troy Daniels   2028594             76\n",
       "4        Talen Horton-Tucker    898310             76\n",
       "5   Kentavious Caldwell-Pope   8089282             77\n",
       "6                Alex Caruso   2750000             77\n",
       "7                Danny Green  14634146             78\n",
       "8               Jared Dudley   2564753             79\n",
       "9               LeBron James  37436858             80\n",
       "10                Kyle Kuzma   1974600             81\n",
       "11             Anthony Davis  27093019             82\n",
       "12          DeMarcus Cousins   3500000             83\n",
       "13             Dwight Howard   2564753             83\n",
       "14              JaVale McGee   4000000             84"
      ]
     },
     "execution_count": 9,
     "metadata": {},
     "output_type": "execute_result"
    }
   ],
   "source": [
    "lakers.sort_values('height_inches').reset_index(drop=True)"
   ]
  },
  {
   "cell_type": "markdown",
   "metadata": {},
   "source": [
    "You see that the average height, being between the 8th and 9th observation, is almost exactly in the middle of the overall distribution."
   ]
  },
  {
   "cell_type": "markdown",
   "metadata": {},
   "source": [
    "### Outliers\n",
    "\n",
    "Lebron James' salary is so much larger than the rest of the players, that it could be classified as an **outlier**. An outlier is a data point which differs significantly from other observations. It is either much higher or much lower than almost all others.\n",
    "\n",
    "There is no precise definition of an \"outlier\", and it often depends on the particular data set you a looking at and on applying some domain knowledge of the problem at hand. We will see some common rule-of-thumbs for labeling observations as outliers in following sections.\n",
    "\n",
    "If a dataset contains outliers, certain descriptive statistics can be misleading. In our case, Lebron James' salary increases the mean so that only 4 players in the dataset have salaries larger than the mean salary.\n",
    "\n",
    "Depending on what you are doing with your dataset, you may or may not need to do anything besides note any points that may be outliers. When doing exploratory analysis, the main thing you need to do with outliers is take note of them and think about them. If you are looking at a sample trying to understand a larger population, you can think about the process that led to the outliers in your sample and what that means about the larger population.\n",
    "\n",
    "If you are concerned about outliers or think that there is a good chance that your dataset contains outliers, there are other descriptive statistics which are not as sensitive to them. Such statistics are termed as **robust** statistics."
   ]
  },
  {
   "cell_type": "markdown",
   "metadata": {},
   "source": [
    "## Median\n",
    "\n",
    "The **median** is the number which divides the dataset exactly in half. It is the middle value if the data is arranged by size.\n",
    "\n",
    "For an odd number of observations, the median will be a value from the data set.\n",
    "\n",
    "For an even number of observations, the median is the mean of the two centermost observations."
   ]
  },
  {
   "cell_type": "markdown",
   "metadata": {},
   "source": [
    "In our `lakers` dataset, we have 15 observations, which means that the 8th observation corresponds to the median. In this case, Quinn Cook, who has a salary of $3,000,000."
   ]
  },
  {
   "cell_type": "code",
   "execution_count": 10,
   "metadata": {},
   "outputs": [
    {
     "data": {
      "text/plain": [
       "3000000.0"
      ]
     },
     "execution_count": 10,
     "metadata": {},
     "output_type": "execute_result"
    }
   ],
   "source": [
    "lakers.salary.median()"
   ]
  },
  {
   "cell_type": "markdown",
   "metadata": {},
   "source": [
    "We can also look at the median height."
   ]
  },
  {
   "cell_type": "code",
   "execution_count": 11,
   "metadata": {},
   "outputs": [
    {
     "data": {
      "text/plain": [
       "78.0"
      ]
     },
     "execution_count": 11,
     "metadata": {},
     "output_type": "execute_result"
    }
   ],
   "source": [
    "lakers.height_inches.median()"
   ]
  },
  {
   "cell_type": "markdown",
   "metadata": {},
   "source": [
    "Notice that the mean and median heights are very close to each other, whereas the mean and median salaries are quite far apart. If the mean and median are quite different, this is often a sign of either the presence of outliers or that you are working with a *skewed* dataset. You'll learn more about skewed datasets later in this notebook."
   ]
  },
  {
   "cell_type": "markdown",
   "metadata": {},
   "source": [
    "## Trimmed Mean\n",
    "\n",
    "Another option to reduce the effect of outliers is to use a **trimmed mean**. To compute the trimmed mean, you can remove the largest and smallest *x*% of observations and then calculate the mean. Often, the largest and smallest 10% are removed. This is a compromise between the mean and the median, in that it still takes into account a large portion of the dataset, while being less influeced by extreme observations.\n",
    "\n",
    "To calculate the trimmed mean, you can use the `trim_mean` function from the `scipy` `stats` module. To use this function, you need to pass in the data and specify the `proportiontocut` argument, as a decimal."
   ]
  },
  {
   "cell_type": "code",
   "execution_count": 12,
   "metadata": {},
   "outputs": [],
   "source": [
    "from scipy.stats import trim_mean"
   ]
  },
  {
   "cell_type": "code",
   "execution_count": 13,
   "metadata": {},
   "outputs": [
    {
     "data": {
      "text/plain": [
       "6117761.538461538"
      ]
     },
     "execution_count": 13,
     "metadata": {},
     "output_type": "execute_result"
    }
   ],
   "source": [
    "trim_mean(lakers.salary, proportiontocut=0.1)"
   ]
  },
  {
   "cell_type": "code",
   "execution_count": 14,
   "metadata": {},
   "outputs": [
    {
     "data": {
      "text/plain": [
       "78.46153846153847"
      ]
     },
     "execution_count": 14,
     "metadata": {},
     "output_type": "execute_result"
    }
   ],
   "source": [
    "trim_mean(lakers.height_inches, proportiontocut=0.1)"
   ]
  },
  {
   "cell_type": "markdown",
   "metadata": {},
   "source": [
    "## Distribution Shape\n",
    "\n",
    "When looking at a numerical variable, we can also inspect the *shape* of the distribution of that variable.\n",
    "\n",
    "The **distribution** refers to the possible values of that variable and which values occur more or less frequently than others.\n",
    "\n",
    "When talking about the shape of a distribution, there are a few different aspects we can examine:\n",
    "* **Symmetry:** Is the distribution symmetric? If so, is it \"bell-shaped\"? Is it flat?\n",
    "* **Skewness:** If it is not symmetic, does it have a long tail to one side?\n",
    "* **Peaks/Modes:** How many peaks (modes) does it have? Unimodal? Bimodal? Multimodal?\n",
    "* **Spread:** How narrow/wide is the distribution?"
   ]
  },
  {
   "cell_type": "markdown",
   "metadata": {},
   "source": [
    "### Histograms\n",
    "\n",
    "If you are trying to understand the shape of the distribution of a variable, the most common tool to use is the histrogram.\n",
    "\n",
    "A histogram shows how many observations lie within a certain class interval. That is, it divides the dataset into *bins*, and the height of the plot above each interval is proportional to the number of observations that fall within that bin.\n",
    "\n",
    "Procedure:\n",
    "* Separate data into equal-width, non-overlapping bins\n",
    "* Count number of data points in each bin\n",
    "\n",
    "When constructing a histogram, you must decide how many bins to use. A common rule of thumb is: $\\text{number of bins} = \\sqrt{\\text{sample size}}$"
   ]
  },
  {
   "cell_type": "code",
   "execution_count": 15,
   "metadata": {},
   "outputs": [
    {
     "data": {
      "image/png": "[encoded data removed]",
      "text/plain": [
       "<matplotlib.figure.Figure at 0x112118470>"
      ]
     },
     "metadata": {},
     "output_type": "display_data"
    }
   ],
   "source": [
    "lakers.salary.hist();"
   ]
  },
  {
   "cell_type": "markdown",
   "metadata": {},
   "source": [
    "Sometimes, you need to adjust the number of bins in order to get a clearer idea of the distribution of your dataset."
   ]
  },
  {
   "cell_type": "code",
   "execution_count": 16,
   "metadata": {},
   "outputs": [
    {
     "data": {
      "image/png": "[encoded data removed]",
      "text/plain": [
       "<matplotlib.figure.Figure at 0x118bdc438>"
      ]
     },
     "metadata": {},
     "output_type": "display_data"
    }
   ],
   "source": [
    "lakers.salary.hist(bins = 25);"
   ]
  },
  {
   "cell_type": "markdown",
   "metadata": {},
   "source": [
    "For the Lakers salary dataset, you can see that there are a few unusually large observations. Another way to say this is that the dataset has a long tail to the right. It is most definitely not symmetric.\n",
    "\n",
    "When a dataset has a long tail to the right, you say that it is **right-skewed**. \n",
    "\n",
    "Analogously, a dataset with a long tail to the left (unusually small observations) would be said to be **left-skewed**.\n",
    "\n",
    "For the distribution of salaries, there appears to be a single peak on the left, so this dataset would be classified as **unimodal**.\n",
    "\n",
    "You can also see where the mean and median fall in the distribution."
   ]
  },
  {
   "cell_type": "code",
   "execution_count": 17,
   "metadata": {},
   "outputs": [
    {
     "data": {
      "image/png": "[encoded data removed]",
      "text/plain": [
       "<matplotlib.figure.Figure at 0x118c29898>"
      ]
     },
     "metadata": {},
     "output_type": "display_data"
    }
   ],
   "source": [
    "lakers.salary.hist(bins = 25)\n",
    "plt.hlines(y = 0, xmin = 0, xmax = lakers.salary.max() + 500000)\n",
    "plt.annotate(s = 'Mean', ha = 'center', va = 'top', fontweight = 'bold',\n",
    "             xy = (lakers.salary.mean(), -.1), xytext = (lakers.salary.mean(), -1), arrowprops=dict(width = 8, headwidth = 20, facecolor = 'red'))\n",
    "plt.ylim(-1.5, 6.3);"
   ]
  },
  {
   "cell_type": "code",
   "execution_count": 18,
   "metadata": {},
   "outputs": [
    {
     "data": {
      "image/png": "[encoded data removed]",
      "text/plain": [
       "<matplotlib.figure.Figure at 0x118e8b748>"
      ]
     },
     "metadata": {},
     "output_type": "display_data"
    }
   ],
   "source": [
    "lakers.salary.hist(bins = 25)\n",
    "plt.hlines(y = 0, xmin = 0, xmax = lakers.salary.max() + 500000)\n",
    "plt.annotate(s = 'Median', ha = 'center', va = 'top', fontweight = 'bold',\n",
    "             xy = (lakers.salary.median(), -.1), xytext = (lakers.salary.median(), -1), arrowprops=dict(width = 8, headwidth = 20, facecolor = 'red'))\n",
    "plt.ylim(-1.5, 6.3);"
   ]
  },
  {
   "cell_type": "code",
   "execution_count": 19,
   "metadata": {},
   "outputs": [
    {
     "data": {
      "image/png": "[encoded data removed]",
      "text/plain": [
       "<matplotlib.figure.Figure at 0x118f49b70>"
      ]
     },
     "metadata": {},
     "output_type": "display_data"
    }
   ],
   "source": [
    "lakers.salary.hist(bins = 25)\n",
    "plt.hlines(y = 0, xmin = 0, xmax = lakers.salary.max() + 500000)\n",
    "plt.annotate(s = 'Mean', ha = 'center', va = 'top', fontweight = 'bold',\n",
    "             xy = (lakers.salary.mean(), -.1), xytext = (lakers.salary.mean(), -1), arrowprops=dict(width = 8, headwidth = 20, facecolor = 'red'))\n",
    "plt.annotate(s = 'Median', ha = 'center', va = 'top', fontweight = 'bold',\n",
    "             xy = (lakers.salary.median(), -.1), xytext = (lakers.salary.median(), -1), arrowprops=dict(width = 8, headwidth = 20, facecolor = 'blue'))\n",
    "plt.ylim(-1.5, 6.3);"
   ]
  },
  {
   "cell_type": "markdown",
   "metadata": {},
   "source": [
    "You can also look at the distribution of heights."
   ]
  },
  {
   "cell_type": "code",
   "execution_count": 20,
   "metadata": {},
   "outputs": [
    {
     "data": {
      "image/png": "[encoded data removed]",
      "text/plain": [
       "<matplotlib.figure.Figure at 0x118cf82b0>"
      ]
     },
     "metadata": {},
     "output_type": "display_data"
    }
   ],
   "source": [
    "lakers.height_inches.hist();"
   ]
  },
  {
   "cell_type": "markdown",
   "metadata": {},
   "source": [
    "This is a small dataset, so it's hard to definitively classify the shape. It does not appear to be skewed, but is also not symmetric, since there are more values on the lower range than on the upper range.\n",
    "\n",
    "There are two peaks, one on either side, so it could be classified as a **bimodal** distribution."
   ]
  },
  {
   "cell_type": "code",
   "execution_count": 21,
   "metadata": {},
   "outputs": [
    {
     "data": {
      "image/png": "[encoded data removed]",
      "text/plain": [
       "<matplotlib.figure.Figure at 0x1191fca90>"
      ]
     },
     "metadata": {},
     "output_type": "display_data"
    }
   ],
   "source": [
    "lakers.height_inches.hist()\n",
    "plt.hlines(y = 0, xmin = lakers.height_inches.min() - 0.5, xmax = lakers.height_inches.max() + 0.5)\n",
    "plt.annotate(s = 'Mean', ha = 'center', va = 'top', fontweight = 'bold',\n",
    "             xy = (lakers.height_inches.mean(), -.1), xytext = (lakers.height_inches.mean(), -.75), arrowprops=dict(width = 8, headwidth = 20, facecolor = 'red'))\n",
    "# plt.annotate(s = 'Median', ha = 'center', va = 'top', fontweight = 'bold',\n",
    "#              xy = (lakers.height_inches.median(), -.1), xytext = (lakers.height_inches.median(), -1), arrowprops=dict(width = 8, headwidth = 20, facecolor = 'blue'))\n",
    "plt.ylim(-1, 3.2);"
   ]
  },
  {
   "cell_type": "code",
   "execution_count": 22,
   "metadata": {},
   "outputs": [
    {
     "data": {
      "image/png": "[encoded data removed]",
      "text/plain": [
       "<matplotlib.figure.Figure at 0x1193b44a8>"
      ]
     },
     "metadata": {},
     "output_type": "display_data"
    }
   ],
   "source": [
    "lakers.height_inches.hist()\n",
    "plt.hlines(y = 0, xmin = lakers.height_inches.min() - 0.5, xmax = lakers.height_inches.max() + 0.5)\n",
    "# plt.annotate(s = 'Mean', ha = 'center', va = 'top', fontweight = 'bold',\n",
    "#              xy = (lakers.height_inches.mean(), -.1), xytext = (lakers.height_inches.mean(), -1), arrowprops=dict(width = 8, headwidth = 20, facecolor = 'red'))\n",
    "plt.annotate(s = 'Median', ha = 'center', va = 'top', fontweight = 'bold',\n",
    "             xy = (lakers.height_inches.median(), -.1), xytext = (lakers.height_inches.median(), -.75), arrowprops=dict(width = 8, headwidth = 20, facecolor = 'blue'))\n",
    "plt.ylim(-1, 3.2);"
   ]
  },
  {
   "cell_type": "markdown",
   "metadata": {},
   "source": [
    "# Measures of Spread\n",
    "\n",
    "**Goal:** Give an idea of how similar or varied the observations in the dataset are."
   ]
  },
  {
   "cell_type": "markdown",
   "metadata": {},
   "source": [
    "## Range\n",
    "\n",
    "The range measures how \"wide\" a dataset is. It depends only on the largest and smallest observations, so it is highly influenced by outliers.\n",
    "\n",
    "$$ \\text{range} = \\text{maximum observation} - \\text{minimum observation}$$"
   ]
  },
  {
   "cell_type": "code",
   "execution_count": 23,
   "metadata": {},
   "outputs": [
    {
     "data": {
      "text/plain": [
       "37436858"
      ]
     },
     "execution_count": 23,
     "metadata": {},
     "output_type": "execute_result"
    }
   ],
   "source": [
    "lakers.salary.max()"
   ]
  },
  {
   "cell_type": "markdown",
   "metadata": {},
   "source": [
    "If you want to know who has the largest salary, you can use the `nlargest` method."
   ]
  },
  {
   "cell_type": "code",
   "execution_count": 24,
   "metadata": {},
   "outputs": [
    {
     "data": {
      "text/html": [
       "<div>\n",
       "<style scoped>\n",
       "    .dataframe tbody tr th:only-of-type {\n",
       "        vertical-align: middle;\n",
       "    }\n",
       "\n",
       "    .dataframe tbody tr th {\n",
       "        vertical-align: top;\n",
       "    }\n",
       "\n",
       "    .dataframe thead th {\n",
       "        text-align: right;\n",
       "    }\n",
       "</style>\n",
       "<table border=\"1\" class=\"dataframe\">\n",
       "  <thead>\n",
       "    <tr style=\"text-align: right;\">\n",
       "      <th></th>\n",
       "      <th>player</th>\n",
       "      <th>salary</th>\n",
       "      <th>height_inches</th>\n",
       "    </tr>\n",
       "  </thead>\n",
       "  <tbody>\n",
       "    <tr>\n",
       "      <th>0</th>\n",
       "      <td>LeBron James</td>\n",
       "      <td>37436858</td>\n",
       "      <td>80</td>\n",
       "    </tr>\n",
       "  </tbody>\n",
       "</table>\n",
       "</div>"
      ],
      "text/plain": [
       "         player    salary  height_inches\n",
       "0  LeBron James  37436858             80"
      ]
     },
     "execution_count": 24,
     "metadata": {},
     "output_type": "execute_result"
    }
   ],
   "source": [
    "lakers.nlargest(1, 'salary')"
   ]
  },
  {
   "cell_type": "markdown",
   "metadata": {},
   "source": [
    "Similar for the minimum."
   ]
  },
  {
   "cell_type": "code",
   "execution_count": 25,
   "metadata": {},
   "outputs": [
    {
     "data": {
      "text/plain": [
       "898310"
      ]
     },
     "execution_count": 25,
     "metadata": {},
     "output_type": "execute_result"
    }
   ],
   "source": [
    "lakers.salary.min()"
   ]
  },
  {
   "cell_type": "code",
   "execution_count": 26,
   "metadata": {},
   "outputs": [
    {
     "data": {
      "text/html": [
       "<div>\n",
       "<style scoped>\n",
       "    .dataframe tbody tr th:only-of-type {\n",
       "        vertical-align: middle;\n",
       "    }\n",
       "\n",
       "    .dataframe tbody tr th {\n",
       "        vertical-align: top;\n",
       "    }\n",
       "\n",
       "    .dataframe thead th {\n",
       "        text-align: right;\n",
       "    }\n",
       "</style>\n",
       "<table border=\"1\" class=\"dataframe\">\n",
       "  <thead>\n",
       "    <tr style=\"text-align: right;\">\n",
       "      <th></th>\n",
       "      <th>player</th>\n",
       "      <th>salary</th>\n",
       "      <th>height_inches</th>\n",
       "    </tr>\n",
       "  </thead>\n",
       "  <tbody>\n",
       "    <tr>\n",
       "      <th>14</th>\n",
       "      <td>Talen Horton-Tucker</td>\n",
       "      <td>898310</td>\n",
       "      <td>76</td>\n",
       "    </tr>\n",
       "  </tbody>\n",
       "</table>\n",
       "</div>"
      ],
      "text/plain": [
       "                 player  salary  height_inches\n",
       "14  Talen Horton-Tucker  898310             76"
      ]
     },
     "execution_count": 26,
     "metadata": {},
     "output_type": "execute_result"
    }
   ],
   "source": [
    "lakers.nsmallest(1, 'salary')"
   ]
  },
  {
   "cell_type": "markdown",
   "metadata": {},
   "source": [
    "To find the range, you can subtract the minimum value from the maximum value."
   ]
  },
  {
   "cell_type": "code",
   "execution_count": 27,
   "metadata": {},
   "outputs": [
    {
     "data": {
      "text/plain": [
       "36538548"
      ]
     },
     "execution_count": 27,
     "metadata": {},
     "output_type": "execute_result"
    }
   ],
   "source": [
    "lakers.salary.max() - lakers.salary.min()"
   ]
  },
  {
   "cell_type": "markdown",
   "metadata": {},
   "source": [
    "The difference between the highest paid and lowest paid Laker is over \\$36 million."
   ]
  },
  {
   "cell_type": "code",
   "execution_count": 28,
   "metadata": {},
   "outputs": [
    {
     "name": "stderr",
     "output_type": "stream",
     "text": [
      "/Users/maheshrao/anaconda3/lib/python3.6/site-packages/statsmodels/compat/pandas.py:56: FutureWarning: The pandas.core.datetools module is deprecated and will be removed in a future version. Please use the pandas.tseries module instead.\n",
      "  from pandas.core import datetools\n"
     ]
    }
   ],
   "source": [
    "from nssstats.plots import range_plot"
   ]
  },
  {
   "cell_type": "code",
   "execution_count": 29,
   "metadata": {},
   "outputs": [
    {
     "data": {
      "image/png": "[encoded data removed]",
      "text/plain": [
       "<matplotlib.figure.Figure at 0x1194469e8>"
      ]
     },
     "metadata": {},
     "output_type": "display_data"
    }
   ],
   "source": [
    "range_plot(lakers.salary, bins = 25)"
   ]
  },
  {
   "cell_type": "markdown",
   "metadata": {},
   "source": [
    "What about for heights?"
   ]
  },
  {
   "cell_type": "code",
   "execution_count": 30,
   "metadata": {},
   "outputs": [
    {
     "data": {
      "text/plain": [
       "11"
      ]
     },
     "execution_count": 30,
     "metadata": {},
     "output_type": "execute_result"
    }
   ],
   "source": [
    "lakers.height_inches.max() - lakers.height_inches.min()"
   ]
  },
  {
   "cell_type": "code",
   "execution_count": 31,
   "metadata": {},
   "outputs": [
    {
     "data": {
      "image/png": "[encoded data removed]",
      "text/plain": [
       "<matplotlib.figure.Figure at 0x119225748>"
      ]
     },
     "metadata": {},
     "output_type": "display_data"
    }
   ],
   "source": [
    "range_plot(lakers.height_inches)"
   ]
  },
  {
   "cell_type": "markdown",
   "metadata": {},
   "source": [
    "There is less than a foot of difference between the tallest and shortest players."
   ]
  },
  {
   "cell_type": "markdown",
   "metadata": {},
   "source": [
    "## Variance and Standard Deviation\n",
    "\n",
    "The variance and standard deviation give an idea about how far, on average, observations are from the mean. The formula for variance and standard deviation differ depending on whether we are looking at the entire population or a sample.\n",
    "\n",
    "$$\\text{Population Variance: } \\sigma^2 = \\frac{\\sum\\limits_{i = 1}^n(x_i - \\mu)^2}{n}$$\n",
    "\n",
    "$$\\text{Population Standard Deviation: } \\sigma = \\sqrt{\\sigma^2} $$\n",
    "\n",
    "$$\\text{Sample Variance: } s^2 = \\frac{\\sum\\limits_{i = 1}^n(x_i - \\bar{x})^2}{n - 1}$$\n",
    "\n",
    "$$\\text{Sample Standard Deviation: } s = \\sqrt{s^2} $$"
   ]
  },
  {
   "cell_type": "markdown",
   "metadata": {},
   "source": [
    "Why the difference? When working with a sample, you divide by $n - 1$, that is, one less than the number of observations. Informally, the reason that you do this is that you are trying to approximate the population variance. You want to estimate the deviation from the mean, but at the same time, you don't know the true population mean to start with, only an estimate from the sample ($\\bar{x}$). So you are making an estimate using an estimate. To compensate for this, you need to inflate your estimate of the variance slightly, by dividing by $n - 1$ instead of $n$.\n",
    "\n",
    "Why do you have two measures - variance AND standard deviation? Notice that the units for the variance will be the squared original units.\n",
    "\n",
    "By taking the square root, you are putting your measure back into the original units."
   ]
  },
  {
   "cell_type": "markdown",
   "metadata": {},
   "source": [
    "By default, most functions that calculate the variance or standard deviation will assume that you are looking at a sample. However, in this case, you have the entire population, so you need to adjust it. If you are using `pandas` methods, you can specify `ddof = 0`, which sets the \"delta degrees of freedom\", or the amount that the \"degrees of freedom\" differ from the number of observations, to be 0.\n",
    "\n",
    "If you are calculating the standard deviation of a sample, you need to use `ddof = 1` (which is the default behavior)."
   ]
  },
  {
   "cell_type": "code",
   "execution_count": 32,
   "metadata": {},
   "outputs": [
    {
     "data": {
      "text/plain": [
       "105671728309241.28"
      ]
     },
     "execution_count": 32,
     "metadata": {},
     "output_type": "execute_result"
    }
   ],
   "source": [
    "lakers.salary.var(ddof = 0)"
   ]
  },
  {
   "cell_type": "code",
   "execution_count": 33,
   "metadata": {},
   "outputs": [
    {
     "data": {
      "text/plain": [
       "10279675.496300517"
      ]
     },
     "execution_count": 33,
     "metadata": {},
     "output_type": "execute_result"
    }
   ],
   "source": [
    "lakers.salary.std(ddof = 0)"
   ]
  },
  {
   "cell_type": "markdown",
   "metadata": {},
   "source": [
    "Let's see the details of the calculation to try and get a better understanding of what it is measuring."
   ]
  },
  {
   "cell_type": "code",
   "execution_count": 34,
   "metadata": {},
   "outputs": [
    {
     "data": {
      "text/html": [
       "<div>\n",
       "<style scoped>\n",
       "    .dataframe tbody tr th:only-of-type {\n",
       "        vertical-align: middle;\n",
       "    }\n",
       "\n",
       "    .dataframe tbody tr th {\n",
       "        vertical-align: top;\n",
       "    }\n",
       "\n",
       "    .dataframe thead th {\n",
       "        text-align: right;\n",
       "    }\n",
       "</style>\n",
       "<table border=\"1\" class=\"dataframe\">\n",
       "  <thead>\n",
       "    <tr style=\"text-align: right;\">\n",
       "      <th></th>\n",
       "      <th>player</th>\n",
       "      <th>salary</th>\n",
       "      <th>height_inches</th>\n",
       "      <th>deviation_from_mean</th>\n",
       "    </tr>\n",
       "  </thead>\n",
       "  <tbody>\n",
       "    <tr>\n",
       "      <th>0</th>\n",
       "      <td>LeBron James</td>\n",
       "      <td>37436858</td>\n",
       "      <td>80</td>\n",
       "      <td>2.957912e+07</td>\n",
       "    </tr>\n",
       "    <tr>\n",
       "      <th>1</th>\n",
       "      <td>Anthony Davis</td>\n",
       "      <td>27093019</td>\n",
       "      <td>82</td>\n",
       "      <td>1.923528e+07</td>\n",
       "    </tr>\n",
       "    <tr>\n",
       "      <th>2</th>\n",
       "      <td>Danny Green</td>\n",
       "      <td>14634146</td>\n",
       "      <td>78</td>\n",
       "      <td>6.776408e+06</td>\n",
       "    </tr>\n",
       "    <tr>\n",
       "      <th>3</th>\n",
       "      <td>Kentavious Caldwell-Pope</td>\n",
       "      <td>8089282</td>\n",
       "      <td>77</td>\n",
       "      <td>2.315441e+05</td>\n",
       "    </tr>\n",
       "    <tr>\n",
       "      <th>4</th>\n",
       "      <td>Avery Bradley</td>\n",
       "      <td>4767000</td>\n",
       "      <td>74</td>\n",
       "      <td>-3.090738e+06</td>\n",
       "    </tr>\n",
       "    <tr>\n",
       "      <th>5</th>\n",
       "      <td>JaVale McGee</td>\n",
       "      <td>4000000</td>\n",
       "      <td>84</td>\n",
       "      <td>-3.857738e+06</td>\n",
       "    </tr>\n",
       "    <tr>\n",
       "      <th>6</th>\n",
       "      <td>DeMarcus Cousins</td>\n",
       "      <td>3500000</td>\n",
       "      <td>83</td>\n",
       "      <td>-4.357738e+06</td>\n",
       "    </tr>\n",
       "    <tr>\n",
       "      <th>7</th>\n",
       "      <td>Quinn Cook</td>\n",
       "      <td>3000000</td>\n",
       "      <td>74</td>\n",
       "      <td>-4.857738e+06</td>\n",
       "    </tr>\n",
       "    <tr>\n",
       "      <th>8</th>\n",
       "      <td>Alex Caruso</td>\n",
       "      <td>2750000</td>\n",
       "      <td>77</td>\n",
       "      <td>-5.107738e+06</td>\n",
       "    </tr>\n",
       "    <tr>\n",
       "      <th>9</th>\n",
       "      <td>Jared Dudley</td>\n",
       "      <td>2564753</td>\n",
       "      <td>79</td>\n",
       "      <td>-5.292985e+06</td>\n",
       "    </tr>\n",
       "    <tr>\n",
       "      <th>10</th>\n",
       "      <td>Dwight Howard</td>\n",
       "      <td>2564753</td>\n",
       "      <td>83</td>\n",
       "      <td>-5.292985e+06</td>\n",
       "    </tr>\n",
       "    <tr>\n",
       "      <th>11</th>\n",
       "      <td>Rajon Rondo</td>\n",
       "      <td>2564753</td>\n",
       "      <td>73</td>\n",
       "      <td>-5.292985e+06</td>\n",
       "    </tr>\n",
       "    <tr>\n",
       "      <th>12</th>\n",
       "      <td>Troy Daniels</td>\n",
       "      <td>2028594</td>\n",
       "      <td>76</td>\n",
       "      <td>-5.829144e+06</td>\n",
       "    </tr>\n",
       "    <tr>\n",
       "      <th>13</th>\n",
       "      <td>Kyle Kuzma</td>\n",
       "      <td>1974600</td>\n",
       "      <td>81</td>\n",
       "      <td>-5.883138e+06</td>\n",
       "    </tr>\n",
       "    <tr>\n",
       "      <th>14</th>\n",
       "      <td>Talen Horton-Tucker</td>\n",
       "      <td>898310</td>\n",
       "      <td>76</td>\n",
       "      <td>-6.959428e+06</td>\n",
       "    </tr>\n",
       "  </tbody>\n",
       "</table>\n",
       "</div>"
      ],
      "text/plain": [
       "                      player    salary  height_inches  deviation_from_mean\n",
       "0               LeBron James  37436858             80         2.957912e+07\n",
       "1              Anthony Davis  27093019             82         1.923528e+07\n",
       "2                Danny Green  14634146             78         6.776408e+06\n",
       "3   Kentavious Caldwell-Pope   8089282             77         2.315441e+05\n",
       "4              Avery Bradley   4767000             74        -3.090738e+06\n",
       "5               JaVale McGee   4000000             84        -3.857738e+06\n",
       "6           DeMarcus Cousins   3500000             83        -4.357738e+06\n",
       "7                 Quinn Cook   3000000             74        -4.857738e+06\n",
       "8                Alex Caruso   2750000             77        -5.107738e+06\n",
       "9               Jared Dudley   2564753             79        -5.292985e+06\n",
       "10             Dwight Howard   2564753             83        -5.292985e+06\n",
       "11               Rajon Rondo   2564753             73        -5.292985e+06\n",
       "12              Troy Daniels   2028594             76        -5.829144e+06\n",
       "13                Kyle Kuzma   1974600             81        -5.883138e+06\n",
       "14       Talen Horton-Tucker    898310             76        -6.959428e+06"
      ]
     },
     "execution_count": 34,
     "metadata": {},
     "output_type": "execute_result"
    }
   ],
   "source": [
    "lakers['deviation_from_mean'] = lakers.salary - lakers.salary.mean()\n",
    "lakers"
   ]
  },
  {
   "cell_type": "markdown",
   "metadata": {},
   "source": [
    "First you will square each salary's distance from the mean so that you are looking at distances as positive variations whether they are above or below the mean."
   ]
  },
  {
   "cell_type": "code",
   "execution_count": 35,
   "metadata": {},
   "outputs": [
    {
     "data": {
      "text/html": [
       "<div>\n",
       "<style scoped>\n",
       "    .dataframe tbody tr th:only-of-type {\n",
       "        vertical-align: middle;\n",
       "    }\n",
       "\n",
       "    .dataframe tbody tr th {\n",
       "        vertical-align: top;\n",
       "    }\n",
       "\n",
       "    .dataframe thead th {\n",
       "        text-align: right;\n",
       "    }\n",
       "</style>\n",
       "<table border=\"1\" class=\"dataframe\">\n",
       "  <thead>\n",
       "    <tr style=\"text-align: right;\">\n",
       "      <th></th>\n",
       "      <th>player</th>\n",
       "      <th>salary</th>\n",
       "      <th>height_inches</th>\n",
       "      <th>deviation_from_mean</th>\n",
       "      <th>squared_deviation</th>\n",
       "    </tr>\n",
       "  </thead>\n",
       "  <tbody>\n",
       "    <tr>\n",
       "      <th>0</th>\n",
       "      <td>LeBron James</td>\n",
       "      <td>37436858</td>\n",
       "      <td>80</td>\n",
       "      <td>2.957912e+07</td>\n",
       "      <td>8.749243e+14</td>\n",
       "    </tr>\n",
       "    <tr>\n",
       "      <th>1</th>\n",
       "      <td>Anthony Davis</td>\n",
       "      <td>27093019</td>\n",
       "      <td>82</td>\n",
       "      <td>1.923528e+07</td>\n",
       "      <td>3.699960e+14</td>\n",
       "    </tr>\n",
       "    <tr>\n",
       "      <th>2</th>\n",
       "      <td>Danny Green</td>\n",
       "      <td>14634146</td>\n",
       "      <td>78</td>\n",
       "      <td>6.776408e+06</td>\n",
       "      <td>4.591971e+13</td>\n",
       "    </tr>\n",
       "    <tr>\n",
       "      <th>3</th>\n",
       "      <td>Kentavious Caldwell-Pope</td>\n",
       "      <td>8089282</td>\n",
       "      <td>77</td>\n",
       "      <td>2.315441e+05</td>\n",
       "      <td>5.361269e+10</td>\n",
       "    </tr>\n",
       "    <tr>\n",
       "      <th>4</th>\n",
       "      <td>Avery Bradley</td>\n",
       "      <td>4767000</td>\n",
       "      <td>74</td>\n",
       "      <td>-3.090738e+06</td>\n",
       "      <td>9.552661e+12</td>\n",
       "    </tr>\n",
       "    <tr>\n",
       "      <th>5</th>\n",
       "      <td>JaVale McGee</td>\n",
       "      <td>4000000</td>\n",
       "      <td>84</td>\n",
       "      <td>-3.857738e+06</td>\n",
       "      <td>1.488214e+13</td>\n",
       "    </tr>\n",
       "    <tr>\n",
       "      <th>6</th>\n",
       "      <td>DeMarcus Cousins</td>\n",
       "      <td>3500000</td>\n",
       "      <td>83</td>\n",
       "      <td>-4.357738e+06</td>\n",
       "      <td>1.898988e+13</td>\n",
       "    </tr>\n",
       "    <tr>\n",
       "      <th>7</th>\n",
       "      <td>Quinn Cook</td>\n",
       "      <td>3000000</td>\n",
       "      <td>74</td>\n",
       "      <td>-4.857738e+06</td>\n",
       "      <td>2.359762e+13</td>\n",
       "    </tr>\n",
       "    <tr>\n",
       "      <th>8</th>\n",
       "      <td>Alex Caruso</td>\n",
       "      <td>2750000</td>\n",
       "      <td>77</td>\n",
       "      <td>-5.107738e+06</td>\n",
       "      <td>2.608899e+13</td>\n",
       "    </tr>\n",
       "    <tr>\n",
       "      <th>9</th>\n",
       "      <td>Jared Dudley</td>\n",
       "      <td>2564753</td>\n",
       "      <td>79</td>\n",
       "      <td>-5.292985e+06</td>\n",
       "      <td>2.801569e+13</td>\n",
       "    </tr>\n",
       "    <tr>\n",
       "      <th>10</th>\n",
       "      <td>Dwight Howard</td>\n",
       "      <td>2564753</td>\n",
       "      <td>83</td>\n",
       "      <td>-5.292985e+06</td>\n",
       "      <td>2.801569e+13</td>\n",
       "    </tr>\n",
       "    <tr>\n",
       "      <th>11</th>\n",
       "      <td>Rajon Rondo</td>\n",
       "      <td>2564753</td>\n",
       "      <td>73</td>\n",
       "      <td>-5.292985e+06</td>\n",
       "      <td>2.801569e+13</td>\n",
       "    </tr>\n",
       "    <tr>\n",
       "      <th>12</th>\n",
       "      <td>Troy Daniels</td>\n",
       "      <td>2028594</td>\n",
       "      <td>76</td>\n",
       "      <td>-5.829144e+06</td>\n",
       "      <td>3.397892e+13</td>\n",
       "    </tr>\n",
       "    <tr>\n",
       "      <th>13</th>\n",
       "      <td>Kyle Kuzma</td>\n",
       "      <td>1974600</td>\n",
       "      <td>81</td>\n",
       "      <td>-5.883138e+06</td>\n",
       "      <td>3.461131e+13</td>\n",
       "    </tr>\n",
       "    <tr>\n",
       "      <th>14</th>\n",
       "      <td>Talen Horton-Tucker</td>\n",
       "      <td>898310</td>\n",
       "      <td>76</td>\n",
       "      <td>-6.959428e+06</td>\n",
       "      <td>4.843364e+13</td>\n",
       "    </tr>\n",
       "  </tbody>\n",
       "</table>\n",
       "</div>"
      ],
      "text/plain": [
       "                      player    salary  height_inches  deviation_from_mean  \\\n",
       "0               LeBron James  37436858             80         2.957912e+07   \n",
       "1              Anthony Davis  27093019             82         1.923528e+07   \n",
       "2                Danny Green  14634146             78         6.776408e+06   \n",
       "3   Kentavious Caldwell-Pope   8089282             77         2.315441e+05   \n",
       "4              Avery Bradley   4767000             74        -3.090738e+06   \n",
       "5               JaVale McGee   4000000             84        -3.857738e+06   \n",
       "6           DeMarcus Cousins   3500000             83        -4.357738e+06   \n",
       "7                 Quinn Cook   3000000             74        -4.857738e+06   \n",
       "8                Alex Caruso   2750000             77        -5.107738e+06   \n",
       "9               Jared Dudley   2564753             79        -5.292985e+06   \n",
       "10             Dwight Howard   2564753             83        -5.292985e+06   \n",
       "11               Rajon Rondo   2564753             73        -5.292985e+06   \n",
       "12              Troy Daniels   2028594             76        -5.829144e+06   \n",
       "13                Kyle Kuzma   1974600             81        -5.883138e+06   \n",
       "14       Talen Horton-Tucker    898310             76        -6.959428e+06   \n",
       "\n",
       "    squared_deviation  \n",
       "0        8.749243e+14  \n",
       "1        3.699960e+14  \n",
       "2        4.591971e+13  \n",
       "3        5.361269e+10  \n",
       "4        9.552661e+12  \n",
       "5        1.488214e+13  \n",
       "6        1.898988e+13  \n",
       "7        2.359762e+13  \n",
       "8        2.608899e+13  \n",
       "9        2.801569e+13  \n",
       "10       2.801569e+13  \n",
       "11       2.801569e+13  \n",
       "12       3.397892e+13  \n",
       "13       3.461131e+13  \n",
       "14       4.843364e+13  "
      ]
     },
     "execution_count": 35,
     "metadata": {},
     "output_type": "execute_result"
    }
   ],
   "source": [
    "lakers['squared_deviation'] = lakers.deviation_from_mean**2\n",
    "lakers"
   ]
  },
  {
   "cell_type": "markdown",
   "metadata": {},
   "source": [
    "Calculate the mean value for the squared deviations."
   ]
  },
  {
   "cell_type": "code",
   "execution_count": 36,
   "metadata": {},
   "outputs": [
    {
     "data": {
      "text/plain": [
       "105671728309241.28"
      ]
     },
     "execution_count": 36,
     "metadata": {},
     "output_type": "execute_result"
    }
   ],
   "source": [
    "lakers.squared_deviation.mean()"
   ]
  },
  {
   "cell_type": "markdown",
   "metadata": {},
   "source": [
    "Next find the square root of the average squared deviation to get the deviation in absolute terms - regardless of whether it is above or below the mean - _and_ in the original units of measurment."
   ]
  },
  {
   "cell_type": "code",
   "execution_count": 37,
   "metadata": {},
   "outputs": [
    {
     "data": {
      "text/plain": [
       "10279675.496300517"
      ]
     },
     "execution_count": 37,
     "metadata": {},
     "output_type": "execute_result"
    }
   ],
   "source": [
    "np.sqrt(lakers.squared_deviation.mean())"
   ]
  },
  {
   "cell_type": "code",
   "execution_count": 38,
   "metadata": {},
   "outputs": [],
   "source": [
    "from nssstats.plots import std_plot"
   ]
  },
  {
   "cell_type": "code",
   "execution_count": 39,
   "metadata": {},
   "outputs": [
    {
     "data": {
      "image/png": "[encoded data removed]",
      "text/plain": [
       "<matplotlib.figure.Figure at 0x1194d9a90>"
      ]
     },
     "metadata": {},
     "output_type": "display_data"
    }
   ],
   "source": [
    "std_plot(lakers.salary, bins = 25)"
   ]
  },
  {
   "cell_type": "markdown",
   "metadata": {},
   "source": [
    "Let's compare with the standard deviation for heights."
   ]
  },
  {
   "cell_type": "code",
   "execution_count": 40,
   "metadata": {},
   "outputs": [
    {
     "data": {
      "text/plain": [
       "3.461534662865912"
      ]
     },
     "execution_count": 40,
     "metadata": {},
     "output_type": "execute_result"
    }
   ],
   "source": [
    "lakers.height_inches.std(ddof = 0)"
   ]
  },
  {
   "cell_type": "code",
   "execution_count": 41,
   "metadata": {},
   "outputs": [
    {
     "data": {
      "image/png": "[encoded data removed]",
      "text/plain": [
       "<matplotlib.figure.Figure at 0x119accbe0>"
      ]
     },
     "metadata": {},
     "output_type": "display_data"
    }
   ],
   "source": [
    "std_plot(lakers.height_inches)"
   ]
  },
  {
   "cell_type": "markdown",
   "metadata": {},
   "source": [
    "## $z$-scores\n",
    "\n",
    "Often, you are not as interested in understanding \"how much\", but instead \"how different from average?\". That is, you may wish to measure how \"unusual\" a particular observation is. \n",
    "\n",
    "A $z$-score allows you to answer this question, in terms of the number of standard deviations from the mean. It is *unitless*, which means that it does not depend on what is being measured and the scale of the measurements, but instead you can compare across different types of measurements.\n",
    "\n",
    "$$ z\\text{-score} = \\frac{\\text{observation} - \\text{mean}}{\\text{standard deviation}}$$\n",
    "\n",
    "A $z$-score of 1.4 says that an observation is 1.4 standard deviations larger than the average value, whereas a $z$-score of -2.8 says that an observation is 2.8 standard deviations lower than the mean."
   ]
  },
  {
   "cell_type": "markdown",
   "metadata": {},
   "source": [
    "If a dataset is reasonably close to being normally-distributed (meaning that the histogram looks roughly bell-shaped), then it will be highly unusual for an observation to have a $z$-score with magnitude 3 or larger.\n",
    "\n",
    "**Warning**: Be cautious when using $z$-scores for small datasets, as the maximum $z$-score is limited to $\\frac{n−1}{\\sqrt{n}}$ For example, for our dataset of 15 observations, the maximum $z$-score is $\\frac{14}{\\sqrt{15}} \\approx 3.6$. \n",
    "\n",
    "Further complicating the situation is that the presence of an outlier can inflate the mean and standard deviation, especially for a small dataset, which further distorts the interpretation of $z$-scores."
   ]
  },
  {
   "cell_type": "code",
   "execution_count": 42,
   "metadata": {},
   "outputs": [
    {
     "data": {
      "text/html": [
       "<div>\n",
       "<style scoped>\n",
       "    .dataframe tbody tr th:only-of-type {\n",
       "        vertical-align: middle;\n",
       "    }\n",
       "\n",
       "    .dataframe tbody tr th {\n",
       "        vertical-align: top;\n",
       "    }\n",
       "\n",
       "    .dataframe thead th {\n",
       "        text-align: right;\n",
       "    }\n",
       "</style>\n",
       "<table border=\"1\" class=\"dataframe\">\n",
       "  <thead>\n",
       "    <tr style=\"text-align: right;\">\n",
       "      <th></th>\n",
       "      <th>player</th>\n",
       "      <th>salary</th>\n",
       "      <th>height_inches</th>\n",
       "      <th>deviation_from_mean</th>\n",
       "      <th>squared_deviation</th>\n",
       "      <th>salary_z-score</th>\n",
       "    </tr>\n",
       "  </thead>\n",
       "  <tbody>\n",
       "    <tr>\n",
       "      <th>0</th>\n",
       "      <td>LeBron James</td>\n",
       "      <td>37436858</td>\n",
       "      <td>80</td>\n",
       "      <td>2.957912e+07</td>\n",
       "      <td>8.749243e+14</td>\n",
       "      <td>2.877437</td>\n",
       "    </tr>\n",
       "    <tr>\n",
       "      <th>1</th>\n",
       "      <td>Anthony Davis</td>\n",
       "      <td>27093019</td>\n",
       "      <td>82</td>\n",
       "      <td>1.923528e+07</td>\n",
       "      <td>3.699960e+14</td>\n",
       "      <td>1.871195</td>\n",
       "    </tr>\n",
       "    <tr>\n",
       "      <th>2</th>\n",
       "      <td>Danny Green</td>\n",
       "      <td>14634146</td>\n",
       "      <td>78</td>\n",
       "      <td>6.776408e+06</td>\n",
       "      <td>4.591971e+13</td>\n",
       "      <td>0.659204</td>\n",
       "    </tr>\n",
       "    <tr>\n",
       "      <th>3</th>\n",
       "      <td>Kentavious Caldwell-Pope</td>\n",
       "      <td>8089282</td>\n",
       "      <td>77</td>\n",
       "      <td>2.315441e+05</td>\n",
       "      <td>5.361269e+10</td>\n",
       "      <td>0.022524</td>\n",
       "    </tr>\n",
       "    <tr>\n",
       "      <th>4</th>\n",
       "      <td>Avery Bradley</td>\n",
       "      <td>4767000</td>\n",
       "      <td>74</td>\n",
       "      <td>-3.090738e+06</td>\n",
       "      <td>9.552661e+12</td>\n",
       "      <td>-0.300665</td>\n",
       "    </tr>\n",
       "    <tr>\n",
       "      <th>5</th>\n",
       "      <td>JaVale McGee</td>\n",
       "      <td>4000000</td>\n",
       "      <td>84</td>\n",
       "      <td>-3.857738e+06</td>\n",
       "      <td>1.488214e+13</td>\n",
       "      <td>-0.375278</td>\n",
       "    </tr>\n",
       "    <tr>\n",
       "      <th>6</th>\n",
       "      <td>DeMarcus Cousins</td>\n",
       "      <td>3500000</td>\n",
       "      <td>83</td>\n",
       "      <td>-4.357738e+06</td>\n",
       "      <td>1.898988e+13</td>\n",
       "      <td>-0.423918</td>\n",
       "    </tr>\n",
       "    <tr>\n",
       "      <th>7</th>\n",
       "      <td>Quinn Cook</td>\n",
       "      <td>3000000</td>\n",
       "      <td>74</td>\n",
       "      <td>-4.857738e+06</td>\n",
       "      <td>2.359762e+13</td>\n",
       "      <td>-0.472558</td>\n",
       "    </tr>\n",
       "    <tr>\n",
       "      <th>8</th>\n",
       "      <td>Alex Caruso</td>\n",
       "      <td>2750000</td>\n",
       "      <td>77</td>\n",
       "      <td>-5.107738e+06</td>\n",
       "      <td>2.608899e+13</td>\n",
       "      <td>-0.496877</td>\n",
       "    </tr>\n",
       "    <tr>\n",
       "      <th>9</th>\n",
       "      <td>Jared Dudley</td>\n",
       "      <td>2564753</td>\n",
       "      <td>79</td>\n",
       "      <td>-5.292985e+06</td>\n",
       "      <td>2.801569e+13</td>\n",
       "      <td>-0.514898</td>\n",
       "    </tr>\n",
       "    <tr>\n",
       "      <th>10</th>\n",
       "      <td>Dwight Howard</td>\n",
       "      <td>2564753</td>\n",
       "      <td>83</td>\n",
       "      <td>-5.292985e+06</td>\n",
       "      <td>2.801569e+13</td>\n",
       "      <td>-0.514898</td>\n",
       "    </tr>\n",
       "    <tr>\n",
       "      <th>11</th>\n",
       "      <td>Rajon Rondo</td>\n",
       "      <td>2564753</td>\n",
       "      <td>73</td>\n",
       "      <td>-5.292985e+06</td>\n",
       "      <td>2.801569e+13</td>\n",
       "      <td>-0.514898</td>\n",
       "    </tr>\n",
       "    <tr>\n",
       "      <th>12</th>\n",
       "      <td>Troy Daniels</td>\n",
       "      <td>2028594</td>\n",
       "      <td>76</td>\n",
       "      <td>-5.829144e+06</td>\n",
       "      <td>3.397892e+13</td>\n",
       "      <td>-0.567055</td>\n",
       "    </tr>\n",
       "    <tr>\n",
       "      <th>13</th>\n",
       "      <td>Kyle Kuzma</td>\n",
       "      <td>1974600</td>\n",
       "      <td>81</td>\n",
       "      <td>-5.883138e+06</td>\n",
       "      <td>3.461131e+13</td>\n",
       "      <td>-0.572308</td>\n",
       "    </tr>\n",
       "    <tr>\n",
       "      <th>14</th>\n",
       "      <td>Talen Horton-Tucker</td>\n",
       "      <td>898310</td>\n",
       "      <td>76</td>\n",
       "      <td>-6.959428e+06</td>\n",
       "      <td>4.843364e+13</td>\n",
       "      <td>-0.677009</td>\n",
       "    </tr>\n",
       "  </tbody>\n",
       "</table>\n",
       "</div>"
      ],
      "text/plain": [
       "                      player    salary  height_inches  deviation_from_mean  \\\n",
       "0               LeBron James  37436858             80         2.957912e+07   \n",
       "1              Anthony Davis  27093019             82         1.923528e+07   \n",
       "2                Danny Green  14634146             78         6.776408e+06   \n",
       "3   Kentavious Caldwell-Pope   8089282             77         2.315441e+05   \n",
       "4              Avery Bradley   4767000             74        -3.090738e+06   \n",
       "5               JaVale McGee   4000000             84        -3.857738e+06   \n",
       "6           DeMarcus Cousins   3500000             83        -4.357738e+06   \n",
       "7                 Quinn Cook   3000000             74        -4.857738e+06   \n",
       "8                Alex Caruso   2750000             77        -5.107738e+06   \n",
       "9               Jared Dudley   2564753             79        -5.292985e+06   \n",
       "10             Dwight Howard   2564753             83        -5.292985e+06   \n",
       "11               Rajon Rondo   2564753             73        -5.292985e+06   \n",
       "12              Troy Daniels   2028594             76        -5.829144e+06   \n",
       "13                Kyle Kuzma   1974600             81        -5.883138e+06   \n",
       "14       Talen Horton-Tucker    898310             76        -6.959428e+06   \n",
       "\n",
       "    squared_deviation  salary_z-score  \n",
       "0        8.749243e+14        2.877437  \n",
       "1        3.699960e+14        1.871195  \n",
       "2        4.591971e+13        0.659204  \n",
       "3        5.361269e+10        0.022524  \n",
       "4        9.552661e+12       -0.300665  \n",
       "5        1.488214e+13       -0.375278  \n",
       "6        1.898988e+13       -0.423918  \n",
       "7        2.359762e+13       -0.472558  \n",
       "8        2.608899e+13       -0.496877  \n",
       "9        2.801569e+13       -0.514898  \n",
       "10       2.801569e+13       -0.514898  \n",
       "11       2.801569e+13       -0.514898  \n",
       "12       3.397892e+13       -0.567055  \n",
       "13       3.461131e+13       -0.572308  \n",
       "14       4.843364e+13       -0.677009  "
      ]
     },
     "execution_count": 42,
     "metadata": {},
     "output_type": "execute_result"
    }
   ],
   "source": [
    "lakers['salary_z-score'] = (lakers.salary - lakers.salary.mean()) / lakers.salary.std(ddof = 0)\n",
    "lakers"
   ]
  },
  {
   "cell_type": "code",
   "execution_count": 43,
   "metadata": {},
   "outputs": [
    {
     "data": {
      "text/html": [
       "<div>\n",
       "<style scoped>\n",
       "    .dataframe tbody tr th:only-of-type {\n",
       "        vertical-align: middle;\n",
       "    }\n",
       "\n",
       "    .dataframe tbody tr th {\n",
       "        vertical-align: top;\n",
       "    }\n",
       "\n",
       "    .dataframe thead th {\n",
       "        text-align: right;\n",
       "    }\n",
       "</style>\n",
       "<table border=\"1\" class=\"dataframe\">\n",
       "  <thead>\n",
       "    <tr style=\"text-align: right;\">\n",
       "      <th></th>\n",
       "      <th>player</th>\n",
       "      <th>salary</th>\n",
       "      <th>height_inches</th>\n",
       "      <th>deviation_from_mean</th>\n",
       "      <th>squared_deviation</th>\n",
       "      <th>salary_z-score</th>\n",
       "      <th>height_z-score</th>\n",
       "    </tr>\n",
       "  </thead>\n",
       "  <tbody>\n",
       "    <tr>\n",
       "      <th>0</th>\n",
       "      <td>LeBron James</td>\n",
       "      <td>37436858</td>\n",
       "      <td>80</td>\n",
       "      <td>2.957912e+07</td>\n",
       "      <td>8.749243e+14</td>\n",
       "      <td>2.877437</td>\n",
       "      <td>0.442963</td>\n",
       "    </tr>\n",
       "    <tr>\n",
       "      <th>1</th>\n",
       "      <td>Anthony Davis</td>\n",
       "      <td>27093019</td>\n",
       "      <td>82</td>\n",
       "      <td>1.923528e+07</td>\n",
       "      <td>3.699960e+14</td>\n",
       "      <td>1.871195</td>\n",
       "      <td>1.020742</td>\n",
       "    </tr>\n",
       "    <tr>\n",
       "      <th>2</th>\n",
       "      <td>Danny Green</td>\n",
       "      <td>14634146</td>\n",
       "      <td>78</td>\n",
       "      <td>6.776408e+06</td>\n",
       "      <td>4.591971e+13</td>\n",
       "      <td>0.659204</td>\n",
       "      <td>-0.134815</td>\n",
       "    </tr>\n",
       "    <tr>\n",
       "      <th>3</th>\n",
       "      <td>Kentavious Caldwell-Pope</td>\n",
       "      <td>8089282</td>\n",
       "      <td>77</td>\n",
       "      <td>2.315441e+05</td>\n",
       "      <td>5.361269e+10</td>\n",
       "      <td>0.022524</td>\n",
       "      <td>-0.423704</td>\n",
       "    </tr>\n",
       "    <tr>\n",
       "      <th>4</th>\n",
       "      <td>Avery Bradley</td>\n",
       "      <td>4767000</td>\n",
       "      <td>74</td>\n",
       "      <td>-3.090738e+06</td>\n",
       "      <td>9.552661e+12</td>\n",
       "      <td>-0.300665</td>\n",
       "      <td>-1.290372</td>\n",
       "    </tr>\n",
       "    <tr>\n",
       "      <th>5</th>\n",
       "      <td>JaVale McGee</td>\n",
       "      <td>4000000</td>\n",
       "      <td>84</td>\n",
       "      <td>-3.857738e+06</td>\n",
       "      <td>1.488214e+13</td>\n",
       "      <td>-0.375278</td>\n",
       "      <td>1.598520</td>\n",
       "    </tr>\n",
       "    <tr>\n",
       "      <th>6</th>\n",
       "      <td>DeMarcus Cousins</td>\n",
       "      <td>3500000</td>\n",
       "      <td>83</td>\n",
       "      <td>-4.357738e+06</td>\n",
       "      <td>1.898988e+13</td>\n",
       "      <td>-0.423918</td>\n",
       "      <td>1.309631</td>\n",
       "    </tr>\n",
       "    <tr>\n",
       "      <th>7</th>\n",
       "      <td>Quinn Cook</td>\n",
       "      <td>3000000</td>\n",
       "      <td>74</td>\n",
       "      <td>-4.857738e+06</td>\n",
       "      <td>2.359762e+13</td>\n",
       "      <td>-0.472558</td>\n",
       "      <td>-1.290372</td>\n",
       "    </tr>\n",
       "    <tr>\n",
       "      <th>8</th>\n",
       "      <td>Alex Caruso</td>\n",
       "      <td>2750000</td>\n",
       "      <td>77</td>\n",
       "      <td>-5.107738e+06</td>\n",
       "      <td>2.608899e+13</td>\n",
       "      <td>-0.496877</td>\n",
       "      <td>-0.423704</td>\n",
       "    </tr>\n",
       "    <tr>\n",
       "      <th>9</th>\n",
       "      <td>Jared Dudley</td>\n",
       "      <td>2564753</td>\n",
       "      <td>79</td>\n",
       "      <td>-5.292985e+06</td>\n",
       "      <td>2.801569e+13</td>\n",
       "      <td>-0.514898</td>\n",
       "      <td>0.154074</td>\n",
       "    </tr>\n",
       "    <tr>\n",
       "      <th>10</th>\n",
       "      <td>Dwight Howard</td>\n",
       "      <td>2564753</td>\n",
       "      <td>83</td>\n",
       "      <td>-5.292985e+06</td>\n",
       "      <td>2.801569e+13</td>\n",
       "      <td>-0.514898</td>\n",
       "      <td>1.309631</td>\n",
       "    </tr>\n",
       "    <tr>\n",
       "      <th>11</th>\n",
       "      <td>Rajon Rondo</td>\n",
       "      <td>2564753</td>\n",
       "      <td>73</td>\n",
       "      <td>-5.292985e+06</td>\n",
       "      <td>2.801569e+13</td>\n",
       "      <td>-0.514898</td>\n",
       "      <td>-1.579261</td>\n",
       "    </tr>\n",
       "    <tr>\n",
       "      <th>12</th>\n",
       "      <td>Troy Daniels</td>\n",
       "      <td>2028594</td>\n",
       "      <td>76</td>\n",
       "      <td>-5.829144e+06</td>\n",
       "      <td>3.397892e+13</td>\n",
       "      <td>-0.567055</td>\n",
       "      <td>-0.712593</td>\n",
       "    </tr>\n",
       "    <tr>\n",
       "      <th>13</th>\n",
       "      <td>Kyle Kuzma</td>\n",
       "      <td>1974600</td>\n",
       "      <td>81</td>\n",
       "      <td>-5.883138e+06</td>\n",
       "      <td>3.461131e+13</td>\n",
       "      <td>-0.572308</td>\n",
       "      <td>0.731853</td>\n",
       "    </tr>\n",
       "    <tr>\n",
       "      <th>14</th>\n",
       "      <td>Talen Horton-Tucker</td>\n",
       "      <td>898310</td>\n",
       "      <td>76</td>\n",
       "      <td>-6.959428e+06</td>\n",
       "      <td>4.843364e+13</td>\n",
       "      <td>-0.677009</td>\n",
       "      <td>-0.712593</td>\n",
       "    </tr>\n",
       "  </tbody>\n",
       "</table>\n",
       "</div>"
      ],
      "text/plain": [
       "                      player    salary  height_inches  deviation_from_mean  \\\n",
       "0               LeBron James  37436858             80         2.957912e+07   \n",
       "1              Anthony Davis  27093019             82         1.923528e+07   \n",
       "2                Danny Green  14634146             78         6.776408e+06   \n",
       "3   Kentavious Caldwell-Pope   8089282             77         2.315441e+05   \n",
       "4              Avery Bradley   4767000             74        -3.090738e+06   \n",
       "5               JaVale McGee   4000000             84        -3.857738e+06   \n",
       "6           DeMarcus Cousins   3500000             83        -4.357738e+06   \n",
       "7                 Quinn Cook   3000000             74        -4.857738e+06   \n",
       "8                Alex Caruso   2750000             77        -5.107738e+06   \n",
       "9               Jared Dudley   2564753             79        -5.292985e+06   \n",
       "10             Dwight Howard   2564753             83        -5.292985e+06   \n",
       "11               Rajon Rondo   2564753             73        -5.292985e+06   \n",
       "12              Troy Daniels   2028594             76        -5.829144e+06   \n",
       "13                Kyle Kuzma   1974600             81        -5.883138e+06   \n",
       "14       Talen Horton-Tucker    898310             76        -6.959428e+06   \n",
       "\n",
       "    squared_deviation  salary_z-score  height_z-score  \n",
       "0        8.749243e+14        2.877437        0.442963  \n",
       "1        3.699960e+14        1.871195        1.020742  \n",
       "2        4.591971e+13        0.659204       -0.134815  \n",
       "3        5.361269e+10        0.022524       -0.423704  \n",
       "4        9.552661e+12       -0.300665       -1.290372  \n",
       "5        1.488214e+13       -0.375278        1.598520  \n",
       "6        1.898988e+13       -0.423918        1.309631  \n",
       "7        2.359762e+13       -0.472558       -1.290372  \n",
       "8        2.608899e+13       -0.496877       -0.423704  \n",
       "9        2.801569e+13       -0.514898        0.154074  \n",
       "10       2.801569e+13       -0.514898        1.309631  \n",
       "11       2.801569e+13       -0.514898       -1.579261  \n",
       "12       3.397892e+13       -0.567055       -0.712593  \n",
       "13       3.461131e+13       -0.572308        0.731853  \n",
       "14       4.843364e+13       -0.677009       -0.712593  "
      ]
     },
     "execution_count": 43,
     "metadata": {},
     "output_type": "execute_result"
    }
   ],
   "source": [
    "lakers['height_z-score'] = (lakers.height_inches - lakers.height_inches.mean()) / lakers.height_inches.std(ddof = 0)\n",
    "lakers"
   ]
  },
  {
   "cell_type": "markdown",
   "metadata": {},
   "source": [
    "From this, you can see that the heights of players on the team show (relatively) less dispersion. While Lebron James' salary is nearly 3 standard deviations above the average salary, the tallest player is only about 1.6 standard deviations above average.\n",
    "\n",
    "Further, you can see that the distributions of heights is much more symmetric, and does not have a tail to either side. At the same time, for this distribution, it is not really bell-shaped either, since you do not see a large number of players near the average height."
   ]
  },
  {
   "cell_type": "markdown",
   "metadata": {},
   "source": [
    "## Relative Standard Deviation (Coefficient of Variation)\n",
    "\n",
    "What if you want to compare the entire distribution in terms of its dispersion instead of just the dispersion of a single observation? Again, if we are comparing measurements on vastly different scales (inches vs millions of dollars), the units of the measurement can obscure the true picture. You can compute the *coefficient of variation*, which will allow you to compare distributions, without having to consider the units. It is defined as the ratio of the standard deviation to the mean.\n",
    "\n",
    "$\\text{CV} = \\frac{\\sigma}{\\mu}$"
   ]
  },
  {
   "cell_type": "markdown",
   "metadata": {},
   "source": [
    "For salaries:"
   ]
  },
  {
   "cell_type": "code",
   "execution_count": 44,
   "metadata": {},
   "outputs": [
    {
     "data": {
      "text/plain": [
       "1.3082232661270057"
      ]
     },
     "execution_count": 44,
     "metadata": {},
     "output_type": "execute_result"
    }
   ],
   "source": [
    "lakers['salary'].std(ddof = 0) / lakers['salary'].mean()"
   ]
  },
  {
   "cell_type": "markdown",
   "metadata": {},
   "source": [
    "This says that the standard deviation is 1.3 times as large as the mean."
   ]
  },
  {
   "cell_type": "markdown",
   "metadata": {},
   "source": [
    "For heights:"
   ]
  },
  {
   "cell_type": "code",
   "execution_count": 45,
   "metadata": {},
   "outputs": [
    {
     "data": {
      "text/plain": [
       "0.044114715329642035"
      ]
     },
     "execution_count": 45,
     "metadata": {},
     "output_type": "execute_result"
    }
   ],
   "source": [
    "lakers['height_inches'].std(ddof = 0) / lakers['height_inches'].mean()"
   ]
  },
  {
   "cell_type": "markdown",
   "metadata": {},
   "source": [
    "On the other hand, there is very little variation in heights."
   ]
  },
  {
   "cell_type": "markdown",
   "metadata": {},
   "source": [
    "# Measures of Position\n",
    "\n",
    "Measures of position have to do with ranking where an observation is in the dataset with respect to all other values."
   ]
  },
  {
   "cell_type": "markdown",
   "metadata": {},
   "source": [
    "## Quartiles and Quantiles/Percentiles\n",
    "\n",
    "You have already encountered a special case of quantiles and percentiles, in the form of the median. Recall that the median of a dataset is the middle observation, if the observations are placed in ascending order. Another way to view this is that the median separates the lower half of the dataset from the upper half.\n",
    "\n",
    "Instead of dividing a dataset into halves, **quartiles** divide a dataset into quarters. The **first quartile** separates the smallest quarter of observations from the highest three-quarters, the **second quartile**, aka the median, separates the smallest half of observations from the largest half of observations, and the **third quartile** separates the smallest three-quarters from the largest quarter of observations."
   ]
  },
  {
   "cell_type": "code",
   "execution_count": 46,
   "metadata": {},
   "outputs": [
    {
     "data": {
      "text/plain": [
       "2564753.0"
      ]
     },
     "execution_count": 46,
     "metadata": {},
     "output_type": "execute_result"
    }
   ],
   "source": [
    "# first quartile\n",
    "lakers.salary.quantile(q = 0.25)"
   ]
  },
  {
   "cell_type": "code",
   "execution_count": 47,
   "metadata": {},
   "outputs": [
    {
     "data": {
      "text/plain": [
       "3000000.0"
      ]
     },
     "execution_count": 47,
     "metadata": {},
     "output_type": "execute_result"
    }
   ],
   "source": [
    "# second quartile\n",
    "lakers.salary.quantile(q = 0.5)"
   ]
  },
  {
   "cell_type": "code",
   "execution_count": 48,
   "metadata": {},
   "outputs": [
    {
     "data": {
      "text/plain": [
       "6428141.0"
      ]
     },
     "execution_count": 48,
     "metadata": {},
     "output_type": "execute_result"
    }
   ],
   "source": [
    "# third quartile\n",
    "lakers.salary.quantile(q = 0.75)"
   ]
  },
  {
   "cell_type": "markdown",
   "metadata": {},
   "source": [
    "You can use the quantiles to find the **interquartile range**, which is defined as the distance from the first to the third quartile. In a way, it is a trimmed version of the range, which is not as sensitive to extreme values."
   ]
  },
  {
   "cell_type": "code",
   "execution_count": 49,
   "metadata": {},
   "outputs": [
    {
     "data": {
      "text/plain": [
       "3863388.0"
      ]
     },
     "execution_count": 49,
     "metadata": {},
     "output_type": "execute_result"
    }
   ],
   "source": [
    "lakers.salary.quantile(q = 0.75) - lakers.salary.quantile(q = 0.25)"
   ]
  },
  {
   "cell_type": "code",
   "execution_count": 50,
   "metadata": {},
   "outputs": [],
   "source": [
    "from nssstats.plots import iqr_plot"
   ]
  },
  {
   "cell_type": "code",
   "execution_count": 51,
   "metadata": {},
   "outputs": [
    {
     "ename": "AttributeError",
     "evalue": "module 'numpy' has no attribute 'quantile'",
     "output_type": "error",
     "traceback": [
      "\u001b[0;31m---------------------------------------------------------------------------\u001b[0m",
      "\u001b[0;31mAttributeError\u001b[0m                            Traceback (most recent call last)",
      "\u001b[0;32m<ipython-input-51-8d1b94eec80e>\u001b[0m in \u001b[0;36m<module>\u001b[0;34m()\u001b[0m\n\u001b[0;32m----> 1\u001b[0;31m \u001b[0miqr_plot\u001b[0m\u001b[0;34m(\u001b[0m\u001b[0mlakers\u001b[0m\u001b[0;34m.\u001b[0m\u001b[0msalary\u001b[0m\u001b[0;34m,\u001b[0m \u001b[0mbins\u001b[0m \u001b[0;34m=\u001b[0m \u001b[0;36m25\u001b[0m\u001b[0;34m)\u001b[0m\u001b[0;34m\u001b[0m\u001b[0;34m\u001b[0m\u001b[0m\n\u001b[0m",
      "\u001b[0;32m~/Documents/GIT/stats-for-data-science/notebooks/nssstats/plots.py\u001b[0m in \u001b[0;36miqr_plot\u001b[0;34m(x, **kwargs)\u001b[0m\n\u001b[1;32m     51\u001b[0m \u001b[0;34m\u001b[0m\u001b[0m\n\u001b[1;32m     52\u001b[0m \u001b[0;32mdef\u001b[0m \u001b[0miqr_plot\u001b[0m\u001b[0;34m(\u001b[0m\u001b[0mx\u001b[0m\u001b[0;34m,\u001b[0m \u001b[0;34m**\u001b[0m\u001b[0mkwargs\u001b[0m\u001b[0;34m)\u001b[0m\u001b[0;34m:\u001b[0m\u001b[0;34m\u001b[0m\u001b[0;34m\u001b[0m\u001b[0m\n\u001b[0;32m---> 53\u001b[0;31m     \u001b[0mlq\u001b[0m \u001b[0;34m=\u001b[0m \u001b[0mnp\u001b[0m\u001b[0;34m.\u001b[0m\u001b[0mquantile\u001b[0m\u001b[0;34m(\u001b[0m\u001b[0mx\u001b[0m\u001b[0;34m,\u001b[0m \u001b[0;36m0.25\u001b[0m\u001b[0;34m)\u001b[0m\u001b[0;34m\u001b[0m\u001b[0;34m\u001b[0m\u001b[0m\n\u001b[0m\u001b[1;32m     54\u001b[0m     \u001b[0muq\u001b[0m \u001b[0;34m=\u001b[0m \u001b[0mnp\u001b[0m\u001b[0;34m.\u001b[0m\u001b[0mquantile\u001b[0m\u001b[0;34m(\u001b[0m\u001b[0mx\u001b[0m\u001b[0;34m,\u001b[0m \u001b[0;36m0.75\u001b[0m\u001b[0;34m)\u001b[0m\u001b[0;34m\u001b[0m\u001b[0;34m\u001b[0m\u001b[0m\n\u001b[1;32m     55\u001b[0m     \u001b[0mmed\u001b[0m \u001b[0;34m=\u001b[0m \u001b[0mnp\u001b[0m\u001b[0;34m.\u001b[0m\u001b[0mquantile\u001b[0m\u001b[0;34m(\u001b[0m\u001b[0mx\u001b[0m\u001b[0;34m,\u001b[0m \u001b[0;36m0.5\u001b[0m\u001b[0;34m)\u001b[0m\u001b[0;34m\u001b[0m\u001b[0;34m\u001b[0m\u001b[0m\n",
      "\u001b[0;31mAttributeError\u001b[0m: module 'numpy' has no attribute 'quantile'"
     ]
    }
   ],
   "source": [
    "iqr_plot(lakers.salary, bins = 25)"
   ]
  },
  {
   "cell_type": "markdown",
   "metadata": {},
   "source": [
    "This tells us that the middle half of observations all fall into a range of width $3.8 million."
   ]
  },
  {
   "cell_type": "code",
   "execution_count": 52,
   "metadata": {},
   "outputs": [
    {
     "ename": "AttributeError",
     "evalue": "module 'numpy' has no attribute 'quantile'",
     "output_type": "error",
     "traceback": [
      "\u001b[0;31m---------------------------------------------------------------------------\u001b[0m",
      "\u001b[0;31mAttributeError\u001b[0m                            Traceback (most recent call last)",
      "\u001b[0;32m<ipython-input-52-ff624db05c47>\u001b[0m in \u001b[0;36m<module>\u001b[0;34m()\u001b[0m\n\u001b[0;32m----> 1\u001b[0;31m \u001b[0miqr_plot\u001b[0m\u001b[0;34m(\u001b[0m\u001b[0mlakers\u001b[0m\u001b[0;34m.\u001b[0m\u001b[0mheight_inches\u001b[0m\u001b[0;34m)\u001b[0m\u001b[0;34m\u001b[0m\u001b[0;34m\u001b[0m\u001b[0m\n\u001b[0m",
      "\u001b[0;32m~/Documents/GIT/stats-for-data-science/notebooks/nssstats/plots.py\u001b[0m in \u001b[0;36miqr_plot\u001b[0;34m(x, **kwargs)\u001b[0m\n\u001b[1;32m     51\u001b[0m \u001b[0;34m\u001b[0m\u001b[0m\n\u001b[1;32m     52\u001b[0m \u001b[0;32mdef\u001b[0m \u001b[0miqr_plot\u001b[0m\u001b[0;34m(\u001b[0m\u001b[0mx\u001b[0m\u001b[0;34m,\u001b[0m \u001b[0;34m**\u001b[0m\u001b[0mkwargs\u001b[0m\u001b[0;34m)\u001b[0m\u001b[0;34m:\u001b[0m\u001b[0;34m\u001b[0m\u001b[0;34m\u001b[0m\u001b[0m\n\u001b[0;32m---> 53\u001b[0;31m     \u001b[0mlq\u001b[0m \u001b[0;34m=\u001b[0m \u001b[0mnp\u001b[0m\u001b[0;34m.\u001b[0m\u001b[0mquantile\u001b[0m\u001b[0;34m(\u001b[0m\u001b[0mx\u001b[0m\u001b[0;34m,\u001b[0m \u001b[0;36m0.25\u001b[0m\u001b[0;34m)\u001b[0m\u001b[0;34m\u001b[0m\u001b[0;34m\u001b[0m\u001b[0m\n\u001b[0m\u001b[1;32m     54\u001b[0m     \u001b[0muq\u001b[0m \u001b[0;34m=\u001b[0m \u001b[0mnp\u001b[0m\u001b[0;34m.\u001b[0m\u001b[0mquantile\u001b[0m\u001b[0;34m(\u001b[0m\u001b[0mx\u001b[0m\u001b[0;34m,\u001b[0m \u001b[0;36m0.75\u001b[0m\u001b[0;34m)\u001b[0m\u001b[0;34m\u001b[0m\u001b[0;34m\u001b[0m\u001b[0m\n\u001b[1;32m     55\u001b[0m     \u001b[0mmed\u001b[0m \u001b[0;34m=\u001b[0m \u001b[0mnp\u001b[0m\u001b[0;34m.\u001b[0m\u001b[0mquantile\u001b[0m\u001b[0;34m(\u001b[0m\u001b[0mx\u001b[0m\u001b[0;34m,\u001b[0m \u001b[0;36m0.5\u001b[0m\u001b[0;34m)\u001b[0m\u001b[0;34m\u001b[0m\u001b[0;34m\u001b[0m\u001b[0m\n",
      "\u001b[0;31mAttributeError\u001b[0m: module 'numpy' has no attribute 'quantile'"
     ]
    }
   ],
   "source": [
    "iqr_plot(lakers.height_inches)"
   ]
  },
  {
   "cell_type": "markdown",
   "metadata": {},
   "source": [
    "More generally, you can look at the quantiles or percentiles. The $n$th percentile separtes the lowest $n$% of observations from the rest. For example, the 90th percentile divides the lowest 90% of observations from the highest 10%. \n",
    "\n",
    "To find percentiles, you can use the quantile function from pandas."
   ]
  },
  {
   "cell_type": "code",
   "execution_count": 53,
   "metadata": {},
   "outputs": [
    {
     "data": {
      "text/plain": [
       "1996197.6"
      ]
     },
     "execution_count": 53,
     "metadata": {},
     "output_type": "execute_result"
    }
   ],
   "source": [
    "lakers.salary.quantile(q = 0.1)"
   ]
  },
  {
   "cell_type": "code",
   "execution_count": 54,
   "metadata": {},
   "outputs": [
    {
     "data": {
      "text/plain": [
       "22109469.799999997"
      ]
     },
     "execution_count": 54,
     "metadata": {},
     "output_type": "execute_result"
    }
   ],
   "source": [
    "lakers.salary.quantile(q = 0.9)"
   ]
  },
  {
   "cell_type": "markdown",
   "metadata": {},
   "source": [
    "Percentiles can be used to identify unusual observations, or to trim outliers from a data set.\n",
    "\n",
    "If you want to understand how a variable is distributed, you have already seen how to use a histogram. An alternative type of plot that you can use is a **boxplot** (aka **box-and-whiskers plot**). This type of plot displays a box which starts at the first quartile and extend to the third quartile, with the second quartile marked. It also has whiskers that extend to last observations contained within the **outlier boundaries**. \n",
    "\n",
    "These boundaries are (usually) defined as being at 1.5 times the interquartile range below the first quartile and above the third quartile. Any points outside of the outiler boundaries are plotted individually."
   ]
  },
  {
   "cell_type": "code",
   "execution_count": 55,
   "metadata": {},
   "outputs": [],
   "source": [
    "import seaborn as sns"
   ]
  },
  {
   "cell_type": "code",
   "execution_count": 56,
   "metadata": {},
   "outputs": [
    {
     "data": {
      "image/png": "[encoded data removed]",
      "text/plain": [
       "<matplotlib.figure.Figure at 0x1199f3cc0>"
      ]
     },
     "metadata": {},
     "output_type": "display_data"
    }
   ],
   "source": [
    "sns.boxplot(lakers.salary);"
   ]
  },
  {
   "cell_type": "markdown",
   "metadata": {},
   "source": [
    "Looking at the boxplot, we can detect that most salaries are less than \\$10 million, but that there are three players with very high salaries."
   ]
  },
  {
   "cell_type": "code",
   "execution_count": 57,
   "metadata": {},
   "outputs": [
    {
     "data": {
      "image/png": "[encoded data removed]",
      "text/plain": [
       "<matplotlib.figure.Figure at 0x119de22b0>"
      ]
     },
     "metadata": {},
     "output_type": "display_data"
    }
   ],
   "source": [
    "sns.boxplot(lakers.height_inches);"
   ]
  },
  {
   "cell_type": "markdown",
   "metadata": {},
   "source": [
    "Boxplots are also good for comparing the distribution of a variable across two or more categories. For example, let's compare salaries for the Lakers to salaries for the Memphis Grizzlies."
   ]
  },
  {
   "cell_type": "code",
   "execution_count": 58,
   "metadata": {},
   "outputs": [],
   "source": [
    "lakers_grizzlies = pd.read_csv('../data/Lakers_Grizzlies.csv')"
   ]
  },
  {
   "cell_type": "code",
   "execution_count": 59,
   "metadata": {},
   "outputs": [
    {
     "data": {
      "text/html": [
       "<div>\n",
       "<style scoped>\n",
       "    .dataframe tbody tr th:only-of-type {\n",
       "        vertical-align: middle;\n",
       "    }\n",
       "\n",
       "    .dataframe tbody tr th {\n",
       "        vertical-align: top;\n",
       "    }\n",
       "\n",
       "    .dataframe thead th {\n",
       "        text-align: right;\n",
       "    }\n",
       "</style>\n",
       "<table border=\"1\" class=\"dataframe\">\n",
       "  <thead>\n",
       "    <tr style=\"text-align: right;\">\n",
       "      <th></th>\n",
       "      <th>player</th>\n",
       "      <th>salary</th>\n",
       "      <th>team</th>\n",
       "    </tr>\n",
       "  </thead>\n",
       "  <tbody>\n",
       "    <tr>\n",
       "      <th>0</th>\n",
       "      <td>Gorgui Dieng</td>\n",
       "      <td>16229213</td>\n",
       "      <td>Grizzlies</td>\n",
       "    </tr>\n",
       "    <tr>\n",
       "      <th>1</th>\n",
       "      <td>Jonas Valančiūnas</td>\n",
       "      <td>16000000</td>\n",
       "      <td>Grizzlies</td>\n",
       "    </tr>\n",
       "    <tr>\n",
       "      <th>2</th>\n",
       "      <td>Justise Winslow</td>\n",
       "      <td>13000000</td>\n",
       "      <td>Grizzlies</td>\n",
       "    </tr>\n",
       "    <tr>\n",
       "      <th>3</th>\n",
       "      <td>Kyle Anderson</td>\n",
       "      <td>9073050</td>\n",
       "      <td>Grizzlies</td>\n",
       "    </tr>\n",
       "    <tr>\n",
       "      <th>4</th>\n",
       "      <td>Ja Morant</td>\n",
       "      <td>8730240</td>\n",
       "      <td>Grizzlies</td>\n",
       "    </tr>\n",
       "    <tr>\n",
       "      <th>5</th>\n",
       "      <td>Tyus Jones</td>\n",
       "      <td>8408000</td>\n",
       "      <td>Grizzlies</td>\n",
       "    </tr>\n",
       "    <tr>\n",
       "      <th>6</th>\n",
       "      <td>Josh Jackson</td>\n",
       "      <td>7059480</td>\n",
       "      <td>Grizzlies</td>\n",
       "    </tr>\n",
       "    <tr>\n",
       "      <th>7</th>\n",
       "      <td>Jaren Jackson</td>\n",
       "      <td>6927480</td>\n",
       "      <td>Grizzlies</td>\n",
       "    </tr>\n",
       "    <tr>\n",
       "      <th>8</th>\n",
       "      <td>Marko Guduric</td>\n",
       "      <td>2625000</td>\n",
       "      <td>Grizzlies</td>\n",
       "    </tr>\n",
       "    <tr>\n",
       "      <th>9</th>\n",
       "      <td>Brandon Clarke</td>\n",
       "      <td>2478840</td>\n",
       "      <td>Grizzlies</td>\n",
       "    </tr>\n",
       "    <tr>\n",
       "      <th>10</th>\n",
       "      <td>Grayson Allen</td>\n",
       "      <td>2429400</td>\n",
       "      <td>Grizzlies</td>\n",
       "    </tr>\n",
       "    <tr>\n",
       "      <th>11</th>\n",
       "      <td>Jordan Bell</td>\n",
       "      <td>1620564</td>\n",
       "      <td>Grizzlies</td>\n",
       "    </tr>\n",
       "    <tr>\n",
       "      <th>12</th>\n",
       "      <td>Dillon Brooks</td>\n",
       "      <td>1618520</td>\n",
       "      <td>Grizzlies</td>\n",
       "    </tr>\n",
       "    <tr>\n",
       "      <th>13</th>\n",
       "      <td>De'Anthony Melton</td>\n",
       "      <td>1416852</td>\n",
       "      <td>Grizzlies</td>\n",
       "    </tr>\n",
       "    <tr>\n",
       "      <th>14</th>\n",
       "      <td>LeBron James</td>\n",
       "      <td>37436858</td>\n",
       "      <td>Lakers</td>\n",
       "    </tr>\n",
       "    <tr>\n",
       "      <th>15</th>\n",
       "      <td>Anthony Davis</td>\n",
       "      <td>27093019</td>\n",
       "      <td>Lakers</td>\n",
       "    </tr>\n",
       "    <tr>\n",
       "      <th>16</th>\n",
       "      <td>Danny Green</td>\n",
       "      <td>14634146</td>\n",
       "      <td>Lakers</td>\n",
       "    </tr>\n",
       "    <tr>\n",
       "      <th>17</th>\n",
       "      <td>Kentavious Caldwell-Pope</td>\n",
       "      <td>8089282</td>\n",
       "      <td>Lakers</td>\n",
       "    </tr>\n",
       "    <tr>\n",
       "      <th>18</th>\n",
       "      <td>Avery Bradley</td>\n",
       "      <td>4767000</td>\n",
       "      <td>Lakers</td>\n",
       "    </tr>\n",
       "    <tr>\n",
       "      <th>19</th>\n",
       "      <td>JaVale McGee</td>\n",
       "      <td>4000000</td>\n",
       "      <td>Lakers</td>\n",
       "    </tr>\n",
       "    <tr>\n",
       "      <th>20</th>\n",
       "      <td>DeMarcus Cousins</td>\n",
       "      <td>3500000</td>\n",
       "      <td>Lakers</td>\n",
       "    </tr>\n",
       "    <tr>\n",
       "      <th>21</th>\n",
       "      <td>Quinn Cook</td>\n",
       "      <td>3000000</td>\n",
       "      <td>Lakers</td>\n",
       "    </tr>\n",
       "    <tr>\n",
       "      <th>22</th>\n",
       "      <td>Alex Caruso</td>\n",
       "      <td>2750000</td>\n",
       "      <td>Lakers</td>\n",
       "    </tr>\n",
       "    <tr>\n",
       "      <th>23</th>\n",
       "      <td>Jared Dudley</td>\n",
       "      <td>2564753</td>\n",
       "      <td>Lakers</td>\n",
       "    </tr>\n",
       "    <tr>\n",
       "      <th>24</th>\n",
       "      <td>Dwight Howard</td>\n",
       "      <td>2564753</td>\n",
       "      <td>Lakers</td>\n",
       "    </tr>\n",
       "    <tr>\n",
       "      <th>25</th>\n",
       "      <td>Rajon Rondo</td>\n",
       "      <td>2564753</td>\n",
       "      <td>Lakers</td>\n",
       "    </tr>\n",
       "    <tr>\n",
       "      <th>26</th>\n",
       "      <td>Troy Daniels</td>\n",
       "      <td>2028594</td>\n",
       "      <td>Lakers</td>\n",
       "    </tr>\n",
       "    <tr>\n",
       "      <th>27</th>\n",
       "      <td>Kyle Kuzma</td>\n",
       "      <td>1974600</td>\n",
       "      <td>Lakers</td>\n",
       "    </tr>\n",
       "    <tr>\n",
       "      <th>28</th>\n",
       "      <td>Talen Horton-Tucker</td>\n",
       "      <td>898310</td>\n",
       "      <td>Lakers</td>\n",
       "    </tr>\n",
       "  </tbody>\n",
       "</table>\n",
       "</div>"
      ],
      "text/plain": [
       "                      player    salary       team\n",
       "0               Gorgui Dieng  16229213  Grizzlies\n",
       "1          Jonas Valančiūnas  16000000  Grizzlies\n",
       "2            Justise Winslow  13000000  Grizzlies\n",
       "3              Kyle Anderson   9073050  Grizzlies\n",
       "4                  Ja Morant   8730240  Grizzlies\n",
       "5                 Tyus Jones   8408000  Grizzlies\n",
       "6               Josh Jackson   7059480  Grizzlies\n",
       "7              Jaren Jackson   6927480  Grizzlies\n",
       "8              Marko Guduric   2625000  Grizzlies\n",
       "9             Brandon Clarke   2478840  Grizzlies\n",
       "10             Grayson Allen   2429400  Grizzlies\n",
       "11               Jordan Bell   1620564  Grizzlies\n",
       "12             Dillon Brooks   1618520  Grizzlies\n",
       "13         De'Anthony Melton   1416852  Grizzlies\n",
       "14              LeBron James  37436858     Lakers\n",
       "15             Anthony Davis  27093019     Lakers\n",
       "16               Danny Green  14634146     Lakers\n",
       "17  Kentavious Caldwell-Pope   8089282     Lakers\n",
       "18             Avery Bradley   4767000     Lakers\n",
       "19              JaVale McGee   4000000     Lakers\n",
       "20          DeMarcus Cousins   3500000     Lakers\n",
       "21                Quinn Cook   3000000     Lakers\n",
       "22               Alex Caruso   2750000     Lakers\n",
       "23              Jared Dudley   2564753     Lakers\n",
       "24             Dwight Howard   2564753     Lakers\n",
       "25               Rajon Rondo   2564753     Lakers\n",
       "26              Troy Daniels   2028594     Lakers\n",
       "27                Kyle Kuzma   1974600     Lakers\n",
       "28       Talen Horton-Tucker    898310     Lakers"
      ]
     },
     "execution_count": 59,
     "metadata": {},
     "output_type": "execute_result"
    }
   ],
   "source": [
    "lakers_grizzlies"
   ]
  },
  {
   "cell_type": "code",
   "execution_count": 60,
   "metadata": {},
   "outputs": [
    {
     "data": {
      "image/png": "[encoded data removed]",
      "text/plain": [
       "<matplotlib.figure.Figure at 0x1199f3e48>"
      ]
     },
     "metadata": {},
     "output_type": "display_data"
    }
   ],
   "source": [
    "sns.boxplot(data = lakers_grizzlies, x = \"team\", y = \"salary\");"
   ]
  },
  {
   "cell_type": "markdown",
   "metadata": {},
   "source": [
    "From this boxplot, you can see that the Grizzlies have a wider interquartile range and higher median salary with no points considered as outliers. This may be due in part to the NBA's salary cap, which limits the total payroll of each team. Since the Lakers have several extremely highly-compensated players, it leaves less money to go around to the remaining players."
   ]
  },
  {
   "cell_type": "code",
   "execution_count": 61,
   "metadata": {},
   "outputs": [
    {
     "data": {
      "text/plain": [
       "6972617.071428572"
      ]
     },
     "execution_count": 61,
     "metadata": {},
     "output_type": "execute_result"
    }
   ],
   "source": [
    "lakers_grizzlies[lakers_grizzlies.team == 'Grizzlies'].salary.mean()"
   ]
  },
  {
   "cell_type": "markdown",
   "metadata": {},
   "source": [
    "---"
   ]
  },
  {
   "cell_type": "markdown",
   "metadata": {},
   "source": [
    "You will now look at a dataset consisting of a sample of 1000 home appraisal values from Nashville/Davidson County in the year 2009."
   ]
  },
  {
   "cell_type": "code",
   "execution_count": 62,
   "metadata": {},
   "outputs": [
    {
     "data": {
      "text/html": [
       "<div>\n",
       "<style scoped>\n",
       "    .dataframe tbody tr th:only-of-type {\n",
       "        vertical-align: middle;\n",
       "    }\n",
       "\n",
       "    .dataframe tbody tr th {\n",
       "        vertical-align: top;\n",
       "    }\n",
       "\n",
       "    .dataframe thead th {\n",
       "        text-align: right;\n",
       "    }\n",
       "</style>\n",
       "<table border=\"1\" class=\"dataframe\">\n",
       "  <thead>\n",
       "    <tr style=\"text-align: right;\">\n",
       "      <th></th>\n",
       "      <th>council_district</th>\n",
       "      <th>total_appr</th>\n",
       "      <th>finished_area</th>\n",
       "      <th>year</th>\n",
       "    </tr>\n",
       "  </thead>\n",
       "  <tbody>\n",
       "    <tr>\n",
       "      <th>0</th>\n",
       "      <td>2</td>\n",
       "      <td>129400.0</td>\n",
       "      <td>2243.0</td>\n",
       "      <td>2009</td>\n",
       "    </tr>\n",
       "    <tr>\n",
       "      <th>1</th>\n",
       "      <td>26</td>\n",
       "      <td>174700.0</td>\n",
       "      <td>1408.0</td>\n",
       "      <td>2009</td>\n",
       "    </tr>\n",
       "    <tr>\n",
       "      <th>2</th>\n",
       "      <td>4</td>\n",
       "      <td>299200.0</td>\n",
       "      <td>3037.0</td>\n",
       "      <td>2009</td>\n",
       "    </tr>\n",
       "    <tr>\n",
       "      <th>3</th>\n",
       "      <td>15</td>\n",
       "      <td>141600.0</td>\n",
       "      <td>1770.0</td>\n",
       "      <td>2009</td>\n",
       "    </tr>\n",
       "    <tr>\n",
       "      <th>4</th>\n",
       "      <td>33</td>\n",
       "      <td>80600.0</td>\n",
       "      <td>973.0</td>\n",
       "      <td>2009</td>\n",
       "    </tr>\n",
       "  </tbody>\n",
       "</table>\n",
       "</div>"
      ],
      "text/plain": [
       "   council_district  total_appr  finished_area  year\n",
       "0                 2    129400.0         2243.0  2009\n",
       "1                26    174700.0         1408.0  2009\n",
       "2                 4    299200.0         3037.0  2009\n",
       "3                15    141600.0         1770.0  2009\n",
       "4                33     80600.0          973.0  2009"
      ]
     },
     "execution_count": 62,
     "metadata": {},
     "output_type": "execute_result"
    }
   ],
   "source": [
    "houses_2009 = pd.read_csv('../data/appraisal_sample.csv')\n",
    "\n",
    "houses_2009.head()"
   ]
  },
  {
   "cell_type": "code",
   "execution_count": 63,
   "metadata": {},
   "outputs": [
    {
     "data": {
      "text/plain": [
       "221595.34166666667"
      ]
     },
     "execution_count": 63,
     "metadata": {},
     "output_type": "execute_result"
    }
   ],
   "source": [
    "houses_2009.total_appr.mean()"
   ]
  },
  {
   "cell_type": "code",
   "execution_count": 64,
   "metadata": {},
   "outputs": [
    {
     "data": {
      "text/plain": [
       "161250.0"
      ]
     },
     "execution_count": 64,
     "metadata": {},
     "output_type": "execute_result"
    }
   ],
   "source": [
    "houses_2009.total_appr.median()"
   ]
  },
  {
   "cell_type": "code",
   "execution_count": 65,
   "metadata": {},
   "outputs": [
    {
     "data": {
      "text/plain": [
       "6533800.0"
      ]
     },
     "execution_count": 65,
     "metadata": {},
     "output_type": "execute_result"
    }
   ],
   "source": [
    "houses_2009.total_appr.max()"
   ]
  },
  {
   "cell_type": "code",
   "execution_count": 66,
   "metadata": {},
   "outputs": [
    {
     "data": {
      "text/plain": [
       "10200.0"
      ]
     },
     "execution_count": 66,
     "metadata": {},
     "output_type": "execute_result"
    }
   ],
   "source": [
    "houses_2009.total_appr.min()"
   ]
  },
  {
   "cell_type": "code",
   "execution_count": 67,
   "metadata": {},
   "outputs": [
    {
     "data": {
      "text/plain": [
       "6523600.0"
      ]
     },
     "execution_count": 67,
     "metadata": {},
     "output_type": "execute_result"
    }
   ],
   "source": [
    "houses_2009.total_appr.max() - houses_2009.total_appr.min()"
   ]
  },
  {
   "cell_type": "code",
   "execution_count": 68,
   "metadata": {},
   "outputs": [
    {
     "data": {
      "image/png": "[encoded data removed]",
      "text/plain": [
       "<matplotlib.figure.Figure at 0x119c86ac8>"
      ]
     },
     "metadata": {},
     "output_type": "display_data"
    }
   ],
   "source": [
    "range_plot(houses_2009.total_appr, bins=40)"
   ]
  },
  {
   "cell_type": "code",
   "execution_count": 69,
   "metadata": {},
   "outputs": [
    {
     "data": {
      "text/plain": [
       "241083.522192335"
      ]
     },
     "execution_count": 69,
     "metadata": {},
     "output_type": "execute_result"
    }
   ],
   "source": [
    "houses_2009.total_appr.std(ddof = 1)"
   ]
  },
  {
   "cell_type": "code",
   "execution_count": 70,
   "metadata": {},
   "outputs": [
    {
     "data": {
      "image/png": "[encoded data removed]",
      "text/plain": [
       "<matplotlib.figure.Figure at 0x11a001898>"
      ]
     },
     "metadata": {},
     "output_type": "display_data"
    }
   ],
   "source": [
    "std_plot(houses_2009.total_appr, bins = 40)"
   ]
  },
  {
   "cell_type": "code",
   "execution_count": 71,
   "metadata": {},
   "outputs": [
    {
     "ename": "AttributeError",
     "evalue": "module 'numpy' has no attribute 'quantile'",
     "output_type": "error",
     "traceback": [
      "\u001b[0;31m---------------------------------------------------------------------------\u001b[0m",
      "\u001b[0;31mAttributeError\u001b[0m                            Traceback (most recent call last)",
      "\u001b[0;32m<ipython-input-71-060d7367cc9d>\u001b[0m in \u001b[0;36m<module>\u001b[0;34m()\u001b[0m\n\u001b[0;32m----> 1\u001b[0;31m \u001b[0miqr_plot\u001b[0m\u001b[0;34m(\u001b[0m\u001b[0mhouses_2009\u001b[0m\u001b[0;34m.\u001b[0m\u001b[0mtotal_appr\u001b[0m\u001b[0;34m,\u001b[0m \u001b[0mbins\u001b[0m \u001b[0;34m=\u001b[0m \u001b[0;36m40\u001b[0m\u001b[0;34m)\u001b[0m\u001b[0;34m\u001b[0m\u001b[0;34m\u001b[0m\u001b[0m\n\u001b[0m",
      "\u001b[0;32m~/Documents/GIT/stats-for-data-science/notebooks/nssstats/plots.py\u001b[0m in \u001b[0;36miqr_plot\u001b[0;34m(x, **kwargs)\u001b[0m\n\u001b[1;32m     51\u001b[0m \u001b[0;34m\u001b[0m\u001b[0m\n\u001b[1;32m     52\u001b[0m \u001b[0;32mdef\u001b[0m \u001b[0miqr_plot\u001b[0m\u001b[0;34m(\u001b[0m\u001b[0mx\u001b[0m\u001b[0;34m,\u001b[0m \u001b[0;34m**\u001b[0m\u001b[0mkwargs\u001b[0m\u001b[0;34m)\u001b[0m\u001b[0;34m:\u001b[0m\u001b[0;34m\u001b[0m\u001b[0;34m\u001b[0m\u001b[0m\n\u001b[0;32m---> 53\u001b[0;31m     \u001b[0mlq\u001b[0m \u001b[0;34m=\u001b[0m \u001b[0mnp\u001b[0m\u001b[0;34m.\u001b[0m\u001b[0mquantile\u001b[0m\u001b[0;34m(\u001b[0m\u001b[0mx\u001b[0m\u001b[0;34m,\u001b[0m \u001b[0;36m0.25\u001b[0m\u001b[0;34m)\u001b[0m\u001b[0;34m\u001b[0m\u001b[0;34m\u001b[0m\u001b[0m\n\u001b[0m\u001b[1;32m     54\u001b[0m     \u001b[0muq\u001b[0m \u001b[0;34m=\u001b[0m \u001b[0mnp\u001b[0m\u001b[0;34m.\u001b[0m\u001b[0mquantile\u001b[0m\u001b[0;34m(\u001b[0m\u001b[0mx\u001b[0m\u001b[0;34m,\u001b[0m \u001b[0;36m0.75\u001b[0m\u001b[0;34m)\u001b[0m\u001b[0;34m\u001b[0m\u001b[0;34m\u001b[0m\u001b[0m\n\u001b[1;32m     55\u001b[0m     \u001b[0mmed\u001b[0m \u001b[0;34m=\u001b[0m \u001b[0mnp\u001b[0m\u001b[0;34m.\u001b[0m\u001b[0mquantile\u001b[0m\u001b[0;34m(\u001b[0m\u001b[0mx\u001b[0m\u001b[0;34m,\u001b[0m \u001b[0;36m0.5\u001b[0m\u001b[0;34m)\u001b[0m\u001b[0;34m\u001b[0m\u001b[0;34m\u001b[0m\u001b[0m\n",
      "\u001b[0;31mAttributeError\u001b[0m: module 'numpy' has no attribute 'quantile'"
     ]
    }
   ],
   "source": [
    "iqr_plot(houses_2009.total_appr, bins = 40)"
   ]
  },
  {
   "cell_type": "markdown",
   "metadata": {},
   "source": [
    "You have seen that there is a large range and standard deviation in this dataset. Find the potential outilers for this dataset by looking at $z$-scores."
   ]
  },
  {
   "cell_type": "code",
   "execution_count": 72,
   "metadata": {},
   "outputs": [],
   "source": [
    "mu = houses_2009.total_appr.mean()\n",
    "sigma = houses_2009.total_appr.std()"
   ]
  },
  {
   "cell_type": "code",
   "execution_count": 73,
   "metadata": {
    "scrolled": true
   },
   "outputs": [],
   "source": [
    "houses_2009['z_score'] = (houses_2009.total_appr - mu) / sigma"
   ]
  },
  {
   "cell_type": "markdown",
   "metadata": {},
   "source": [
    "You can inspect those houses which have very large z-scores. To filter a dataframe, you can pass in an inequality inside a bracket, like in the following cell:"
   ]
  },
  {
   "cell_type": "code",
   "execution_count": 74,
   "metadata": {
    "scrolled": false
   },
   "outputs": [
    {
     "data": {
      "text/html": [
       "<div>\n",
       "<style scoped>\n",
       "    .dataframe tbody tr th:only-of-type {\n",
       "        vertical-align: middle;\n",
       "    }\n",
       "\n",
       "    .dataframe tbody tr th {\n",
       "        vertical-align: top;\n",
       "    }\n",
       "\n",
       "    .dataframe thead th {\n",
       "        text-align: right;\n",
       "    }\n",
       "</style>\n",
       "<table border=\"1\" class=\"dataframe\">\n",
       "  <thead>\n",
       "    <tr style=\"text-align: right;\">\n",
       "      <th></th>\n",
       "      <th>council_district</th>\n",
       "      <th>total_appr</th>\n",
       "      <th>finished_area</th>\n",
       "      <th>year</th>\n",
       "      <th>z_score</th>\n",
       "    </tr>\n",
       "  </thead>\n",
       "  <tbody>\n",
       "    <tr>\n",
       "      <th>1361</th>\n",
       "      <td>34</td>\n",
       "      <td>6533800.0</td>\n",
       "      <td>7882.00000</td>\n",
       "      <td>2013</td>\n",
       "      <td>26.182647</td>\n",
       "    </tr>\n",
       "    <tr>\n",
       "      <th>950</th>\n",
       "      <td>23</td>\n",
       "      <td>3092400.0</td>\n",
       "      <td>7893.50000</td>\n",
       "      <td>2009</td>\n",
       "      <td>11.907926</td>\n",
       "    </tr>\n",
       "    <tr>\n",
       "      <th>819</th>\n",
       "      <td>34</td>\n",
       "      <td>3010100.0</td>\n",
       "      <td>7782.00000</td>\n",
       "      <td>2009</td>\n",
       "      <td>11.566550</td>\n",
       "    </tr>\n",
       "    <tr>\n",
       "      <th>632</th>\n",
       "      <td>34</td>\n",
       "      <td>2997500.0</td>\n",
       "      <td>7090.39990</td>\n",
       "      <td>2009</td>\n",
       "      <td>11.514286</td>\n",
       "    </tr>\n",
       "    <tr>\n",
       "      <th>2918</th>\n",
       "      <td>34</td>\n",
       "      <td>2729000.0</td>\n",
       "      <td>10161.79980</td>\n",
       "      <td>2017</td>\n",
       "      <td>10.400564</td>\n",
       "    </tr>\n",
       "    <tr>\n",
       "      <th>130</th>\n",
       "      <td>23</td>\n",
       "      <td>2636100.0</td>\n",
       "      <td>11347.09961</td>\n",
       "      <td>2009</td>\n",
       "      <td>10.015221</td>\n",
       "    </tr>\n",
       "    <tr>\n",
       "      <th>2954</th>\n",
       "      <td>25</td>\n",
       "      <td>2365400.0</td>\n",
       "      <td>8020.25000</td>\n",
       "      <td>2017</td>\n",
       "      <td>8.892373</td>\n",
       "    </tr>\n",
       "    <tr>\n",
       "      <th>2118</th>\n",
       "      <td>34</td>\n",
       "      <td>2340200.0</td>\n",
       "      <td>8959.01465</td>\n",
       "      <td>2017</td>\n",
       "      <td>8.787845</td>\n",
       "    </tr>\n",
       "    <tr>\n",
       "      <th>2680</th>\n",
       "      <td>23</td>\n",
       "      <td>1861400.0</td>\n",
       "      <td>5702.00000</td>\n",
       "      <td>2017</td>\n",
       "      <td>6.801811</td>\n",
       "    </tr>\n",
       "    <tr>\n",
       "      <th>2255</th>\n",
       "      <td>23</td>\n",
       "      <td>1704600.0</td>\n",
       "      <td>5411.00000</td>\n",
       "      <td>2017</td>\n",
       "      <td>6.151414</td>\n",
       "    </tr>\n",
       "    <tr>\n",
       "      <th>1923</th>\n",
       "      <td>23</td>\n",
       "      <td>1618200.0</td>\n",
       "      <td>8574.97949</td>\n",
       "      <td>2013</td>\n",
       "      <td>5.793032</td>\n",
       "    </tr>\n",
       "    <tr>\n",
       "      <th>616</th>\n",
       "      <td>23</td>\n",
       "      <td>1530500.0</td>\n",
       "      <td>5061.50000</td>\n",
       "      <td>2009</td>\n",
       "      <td>5.429258</td>\n",
       "    </tr>\n",
       "    <tr>\n",
       "      <th>2896</th>\n",
       "      <td>34</td>\n",
       "      <td>1523500.0</td>\n",
       "      <td>5482.00000</td>\n",
       "      <td>2017</td>\n",
       "      <td>5.400222</td>\n",
       "    </tr>\n",
       "    <tr>\n",
       "      <th>851</th>\n",
       "      <td>34</td>\n",
       "      <td>1451500.0</td>\n",
       "      <td>4030.00000</td>\n",
       "      <td>2009</td>\n",
       "      <td>5.101571</td>\n",
       "    </tr>\n",
       "    <tr>\n",
       "      <th>1816</th>\n",
       "      <td>34</td>\n",
       "      <td>1432000.0</td>\n",
       "      <td>6169.00000</td>\n",
       "      <td>2013</td>\n",
       "      <td>5.020686</td>\n",
       "    </tr>\n",
       "    <tr>\n",
       "      <th>1643</th>\n",
       "      <td>34</td>\n",
       "      <td>1401700.0</td>\n",
       "      <td>8794.08008</td>\n",
       "      <td>2013</td>\n",
       "      <td>4.895003</td>\n",
       "    </tr>\n",
       "    <tr>\n",
       "      <th>2758</th>\n",
       "      <td>34</td>\n",
       "      <td>1382600.0</td>\n",
       "      <td>5167.50000</td>\n",
       "      <td>2017</td>\n",
       "      <td>4.815778</td>\n",
       "    </tr>\n",
       "    <tr>\n",
       "      <th>661</th>\n",
       "      <td>1</td>\n",
       "      <td>1365000.0</td>\n",
       "      <td>6706.41992</td>\n",
       "      <td>2009</td>\n",
       "      <td>4.742774</td>\n",
       "    </tr>\n",
       "    <tr>\n",
       "      <th>2456</th>\n",
       "      <td>34</td>\n",
       "      <td>1344700.0</td>\n",
       "      <td>8107.50000</td>\n",
       "      <td>2017</td>\n",
       "      <td>4.658571</td>\n",
       "    </tr>\n",
       "    <tr>\n",
       "      <th>2441</th>\n",
       "      <td>34</td>\n",
       "      <td>1321200.0</td>\n",
       "      <td>6057.50000</td>\n",
       "      <td>2017</td>\n",
       "      <td>4.561094</td>\n",
       "    </tr>\n",
       "    <tr>\n",
       "      <th>2764</th>\n",
       "      <td>25</td>\n",
       "      <td>1273500.0</td>\n",
       "      <td>5584.81982</td>\n",
       "      <td>2017</td>\n",
       "      <td>4.363237</td>\n",
       "    </tr>\n",
       "    <tr>\n",
       "      <th>2372</th>\n",
       "      <td>34</td>\n",
       "      <td>1229800.0</td>\n",
       "      <td>6473.00000</td>\n",
       "      <td>2017</td>\n",
       "      <td>4.181972</td>\n",
       "    </tr>\n",
       "    <tr>\n",
       "      <th>1758</th>\n",
       "      <td>24</td>\n",
       "      <td>1185700.0</td>\n",
       "      <td>7800.00000</td>\n",
       "      <td>2013</td>\n",
       "      <td>3.999048</td>\n",
       "    </tr>\n",
       "    <tr>\n",
       "      <th>2421</th>\n",
       "      <td>34</td>\n",
       "      <td>1173800.0</td>\n",
       "      <td>5921.91992</td>\n",
       "      <td>2017</td>\n",
       "      <td>3.949688</td>\n",
       "    </tr>\n",
       "    <tr>\n",
       "      <th>2235</th>\n",
       "      <td>23</td>\n",
       "      <td>1096600.0</td>\n",
       "      <td>3339.00000</td>\n",
       "      <td>2017</td>\n",
       "      <td>3.629467</td>\n",
       "    </tr>\n",
       "    <tr>\n",
       "      <th>570</th>\n",
       "      <td>25</td>\n",
       "      <td>1075100.0</td>\n",
       "      <td>4467.00000</td>\n",
       "      <td>2009</td>\n",
       "      <td>3.540286</td>\n",
       "    </tr>\n",
       "    <tr>\n",
       "      <th>1768</th>\n",
       "      <td>34</td>\n",
       "      <td>1061800.0</td>\n",
       "      <td>7468.00000</td>\n",
       "      <td>2013</td>\n",
       "      <td>3.485119</td>\n",
       "    </tr>\n",
       "    <tr>\n",
       "      <th>2777</th>\n",
       "      <td>24</td>\n",
       "      <td>1057600.0</td>\n",
       "      <td>4200.18018</td>\n",
       "      <td>2017</td>\n",
       "      <td>3.467697</td>\n",
       "    </tr>\n",
       "    <tr>\n",
       "      <th>1633</th>\n",
       "      <td>23</td>\n",
       "      <td>1050600.0</td>\n",
       "      <td>5589.00000</td>\n",
       "      <td>2013</td>\n",
       "      <td>3.438662</td>\n",
       "    </tr>\n",
       "    <tr>\n",
       "      <th>1775</th>\n",
       "      <td>23</td>\n",
       "      <td>1048900.0</td>\n",
       "      <td>5106.29980</td>\n",
       "      <td>2013</td>\n",
       "      <td>3.431610</td>\n",
       "    </tr>\n",
       "    <tr>\n",
       "      <th>2602</th>\n",
       "      <td>25</td>\n",
       "      <td>1048700.0</td>\n",
       "      <td>5573.60010</td>\n",
       "      <td>2017</td>\n",
       "      <td>3.430781</td>\n",
       "    </tr>\n",
       "    <tr>\n",
       "      <th>2800</th>\n",
       "      <td>25</td>\n",
       "      <td>1032600.0</td>\n",
       "      <td>4702.00000</td>\n",
       "      <td>2017</td>\n",
       "      <td>3.363999</td>\n",
       "    </tr>\n",
       "    <tr>\n",
       "      <th>2627</th>\n",
       "      <td>25</td>\n",
       "      <td>998100.0</td>\n",
       "      <td>3725.50000</td>\n",
       "      <td>2017</td>\n",
       "      <td>3.220895</td>\n",
       "    </tr>\n",
       "    <tr>\n",
       "      <th>2900</th>\n",
       "      <td>11</td>\n",
       "      <td>968600.0</td>\n",
       "      <td>4508.00000</td>\n",
       "      <td>2017</td>\n",
       "      <td>3.098531</td>\n",
       "    </tr>\n",
       "    <tr>\n",
       "      <th>282</th>\n",
       "      <td>34</td>\n",
       "      <td>966300.0</td>\n",
       "      <td>5808.95020</td>\n",
       "      <td>2009</td>\n",
       "      <td>3.088990</td>\n",
       "    </tr>\n",
       "    <tr>\n",
       "      <th>1190</th>\n",
       "      <td>24</td>\n",
       "      <td>960200.0</td>\n",
       "      <td>4177.00000</td>\n",
       "      <td>2013</td>\n",
       "      <td>3.063688</td>\n",
       "    </tr>\n",
       "  </tbody>\n",
       "</table>\n",
       "</div>"
      ],
      "text/plain": [
       "      council_district  total_appr  finished_area  year    z_score\n",
       "1361                34   6533800.0     7882.00000  2013  26.182647\n",
       "950                 23   3092400.0     7893.50000  2009  11.907926\n",
       "819                 34   3010100.0     7782.00000  2009  11.566550\n",
       "632                 34   2997500.0     7090.39990  2009  11.514286\n",
       "2918                34   2729000.0    10161.79980  2017  10.400564\n",
       "130                 23   2636100.0    11347.09961  2009  10.015221\n",
       "2954                25   2365400.0     8020.25000  2017   8.892373\n",
       "2118                34   2340200.0     8959.01465  2017   8.787845\n",
       "2680                23   1861400.0     5702.00000  2017   6.801811\n",
       "2255                23   1704600.0     5411.00000  2017   6.151414\n",
       "1923                23   1618200.0     8574.97949  2013   5.793032\n",
       "616                 23   1530500.0     5061.50000  2009   5.429258\n",
       "2896                34   1523500.0     5482.00000  2017   5.400222\n",
       "851                 34   1451500.0     4030.00000  2009   5.101571\n",
       "1816                34   1432000.0     6169.00000  2013   5.020686\n",
       "1643                34   1401700.0     8794.08008  2013   4.895003\n",
       "2758                34   1382600.0     5167.50000  2017   4.815778\n",
       "661                  1   1365000.0     6706.41992  2009   4.742774\n",
       "2456                34   1344700.0     8107.50000  2017   4.658571\n",
       "2441                34   1321200.0     6057.50000  2017   4.561094\n",
       "2764                25   1273500.0     5584.81982  2017   4.363237\n",
       "2372                34   1229800.0     6473.00000  2017   4.181972\n",
       "1758                24   1185700.0     7800.00000  2013   3.999048\n",
       "2421                34   1173800.0     5921.91992  2017   3.949688\n",
       "2235                23   1096600.0     3339.00000  2017   3.629467\n",
       "570                 25   1075100.0     4467.00000  2009   3.540286\n",
       "1768                34   1061800.0     7468.00000  2013   3.485119\n",
       "2777                24   1057600.0     4200.18018  2017   3.467697\n",
       "1633                23   1050600.0     5589.00000  2013   3.438662\n",
       "1775                23   1048900.0     5106.29980  2013   3.431610\n",
       "2602                25   1048700.0     5573.60010  2017   3.430781\n",
       "2800                25   1032600.0     4702.00000  2017   3.363999\n",
       "2627                25    998100.0     3725.50000  2017   3.220895\n",
       "2900                11    968600.0     4508.00000  2017   3.098531\n",
       "282                 34    966300.0     5808.95020  2009   3.088990\n",
       "1190                24    960200.0     4177.00000  2013   3.063688"
      ]
     },
     "execution_count": 74,
     "metadata": {},
     "output_type": "execute_result"
    }
   ],
   "source": [
    "houses_2009[houses_2009.z_score > 3].sort_values('total_appr', ascending = False)"
   ]
  },
  {
   "cell_type": "markdown",
   "metadata": {},
   "source": [
    "## Density Estimation\n",
    "\n",
    "As you have more observations, you can use more bins when creating our histogram. At a certain point, it becomes too \"spiky\", and you lose out on the true picture. An alternative strategy is to smooth out the histogram using what's called kernel density estimation.\n",
    "\n",
    "When creating a histogram, you are really performing **density estimation**. That is, you are trying to understand the **probability density function** which underlies the observed data.\n",
    "\n",
    "When doing statistical analysis, you are usually assuming that your dataset is only a sample from some larger population. A probability density function describes how likely you are to see observations within a certain range. Since you are only looking at a sample, you can't know what the true probability density function looks like, but you can use a variety of techniques to estimate it."
   ]
  },
  {
   "cell_type": "code",
   "execution_count": 75,
   "metadata": {},
   "outputs": [
    {
     "data": {
      "image/png": "[encoded data removed]",
      "text/plain": [
       "<matplotlib.figure.Figure at 0x11a41e240>"
      ]
     },
     "metadata": {},
     "output_type": "display_data"
    }
   ],
   "source": [
    "houses_2009.total_appr.hist();"
   ]
  },
  {
   "cell_type": "markdown",
   "metadata": {},
   "source": [
    "One downside to a histogram is that it can be highly sensitive to the choice of number of bins.\n",
    "\n",
    "Since this dataset has a handful of very large outliers, you will only look at home appraised at less than \\$1,000,000."
   ]
  },
  {
   "cell_type": "code",
   "execution_count": 76,
   "metadata": {},
   "outputs": [
    {
     "data": {
      "image/png": "[encoded data removed]",
      "text/plain": [
       "<matplotlib.figure.Figure at 0x11a570cc0>"
      ]
     },
     "metadata": {},
     "output_type": "display_data"
    }
   ],
   "source": [
    "houses_2009[houses_2009.total_appr < 1000000].total_appr.hist(bins = 20);"
   ]
  },
  {
   "cell_type": "markdown",
   "metadata": {},
   "source": [
    "As you increase the number of bins, you get more and more detail."
   ]
  },
  {
   "cell_type": "code",
   "execution_count": 77,
   "metadata": {},
   "outputs": [
    {
     "data": {
      "image/png": "[encoded data removed]",
      "text/plain": [
       "<matplotlib.figure.Figure at 0x119b5e7f0>"
      ]
     },
     "metadata": {},
     "output_type": "display_data"
    }
   ],
   "source": [
    "houses_2009[houses_2009.total_appr < 1000000].total_appr.hist(bins = 50);"
   ]
  },
  {
   "cell_type": "code",
   "execution_count": 78,
   "metadata": {},
   "outputs": [
    {
     "data": {
      "image/png": "[encoded data removed]",
      "text/plain": [
       "<matplotlib.figure.Figure at 0x11a6bd588>"
      ]
     },
     "metadata": {},
     "output_type": "display_data"
    }
   ],
   "source": [
    "houses_2009[houses_2009.total_appr < 1000000].total_appr.hist(bins = 100);"
   ]
  },
  {
   "cell_type": "markdown",
   "metadata": {},
   "source": [
    "But at a certain point, you are getting almost \"too much\" detail, and it is hard to know if you are actually seeing important aspects of the dataset or you are just seeing relics from the random sampling plus the binning process."
   ]
  },
  {
   "cell_type": "code",
   "execution_count": 79,
   "metadata": {},
   "outputs": [
    {
     "data": {
      "image/png": "[encoded data removed]",
      "text/plain": [
       "<matplotlib.figure.Figure at 0x11a8bc8d0>"
      ]
     },
     "metadata": {},
     "output_type": "display_data"
    }
   ],
   "source": [
    "houses_2009[houses_2009.total_appr < 1000000].total_appr.hist(bins = 250);"
   ]
  },
  {
   "cell_type": "markdown",
   "metadata": {},
   "source": [
    "As you have seen, the histogram is extremely sensitive to the choice of bins. As an alternative, a Kernel Density Estimation is a way to \"smooth\" a histogram. One way you can get a density estimate is by using the `distplot` function from `seaborn`. This will create a histogram with a kde superimposed."
   ]
  },
  {
   "cell_type": "code",
   "execution_count": 80,
   "metadata": {},
   "outputs": [
    {
     "data": {
      "image/png": "[encoded data removed]",
      "text/plain": [
       "<matplotlib.figure.Figure at 0x11a922278>"
      ]
     },
     "metadata": {},
     "output_type": "display_data"
    }
   ],
   "source": [
    "fig, ax = plt.subplots(figsize = (8,6))\n",
    "sns.distplot(houses_2009[houses_2009.total_appr < 1000000].total_appr);"
   ]
  },
  {
   "cell_type": "markdown",
   "metadata": {},
   "source": [
    "If you want just the kernel density estimation, you can use the `kdeplot` instead. Kernel density estimation works by looking at the density of observations within a certain \"bandwidth\" around each point. you can adjust the bandwidth to see the effect on the density estimation:"
   ]
  },
  {
   "cell_type": "code",
   "execution_count": 81,
   "metadata": {},
   "outputs": [
    {
     "data": {
      "image/png": "[encoded data removed]",
      "text/plain": [
       "<matplotlib.figure.Figure at 0x119c939b0>"
      ]
     },
     "metadata": {},
     "output_type": "display_data"
    }
   ],
   "source": [
    "sns.kdeplot(houses_2009[houses_2009.total_appr < 1000000].total_appr, bw = 1000);"
   ]
  },
  {
   "cell_type": "code",
   "execution_count": 82,
   "metadata": {},
   "outputs": [
    {
     "data": {
      "image/png": "[encoded data removed]",
      "text/plain": [
       "<matplotlib.figure.Figure at 0x119e073c8>"
      ]
     },
     "metadata": {},
     "output_type": "display_data"
    }
   ],
   "source": [
    "sns.kdeplot(houses_2009[houses_2009.total_appr < 1000000].total_appr, bw = 10000);"
   ]
  },
  {
   "cell_type": "code",
   "execution_count": 83,
   "metadata": {},
   "outputs": [
    {
     "data": {
      "image/png": "[encoded data removed]",
      "text/plain": [
       "<matplotlib.figure.Figure at 0x11a46b3c8>"
      ]
     },
     "metadata": {},
     "output_type": "display_data"
    }
   ],
   "source": [
    "sns.kdeplot(houses_2009[houses_2009.total_appr < 1000000].total_appr, bw = 25000);"
   ]
  },
  {
   "cell_type": "code",
   "execution_count": 84,
   "metadata": {},
   "outputs": [
    {
     "data": {
      "image/png": "[encoded data removed]",
      "text/plain": [
       "<matplotlib.figure.Figure at 0x11a378e80>"
      ]
     },
     "metadata": {},
     "output_type": "display_data"
    }
   ],
   "source": [
    "sns.kdeplot(houses_2009[houses_2009.total_appr < 1000000].total_appr, bw = 100000);"
   ]
  },
  {
   "cell_type": "code",
   "execution_count": 85,
   "metadata": {},
   "outputs": [
    {
     "data": {
      "image/png": "[encoded data removed]",
      "text/plain": [
       "<matplotlib.figure.Figure at 0x11a358fd0>"
      ]
     },
     "metadata": {},
     "output_type": "display_data"
    }
   ],
   "source": [
    "sns.kdeplot(houses_2009[houses_2009.total_appr < 1000000].total_appr, bw = 500000);"
   ]
  },
  {
   "cell_type": "markdown",
   "metadata": {},
   "source": [
    "By default, `kdeplot` will use a method to make a guess at a good bandwidth."
   ]
  },
  {
   "cell_type": "code",
   "execution_count": 86,
   "metadata": {
    "scrolled": true
   },
   "outputs": [
    {
     "data": {
      "image/png": "[encoded data removed]",
      "text/plain": [
       "<matplotlib.figure.Figure at 0x11a9d19b0>"
      ]
     },
     "metadata": {},
     "output_type": "display_data"
    }
   ],
   "source": [
    "sns.kdeplot(houses_2009[houses_2009.total_appr < 1000000].total_appr);"
   ]
  },
  {
   "cell_type": "markdown",
   "metadata": {},
   "source": [
    "## Violin Plots\n",
    "\n",
    "Recall that you can also look at the distribution of a variable by using a boxplot."
   ]
  },
  {
   "cell_type": "code",
   "execution_count": 87,
   "metadata": {},
   "outputs": [
    {
     "data": {
      "image/png": "[encoded data removed]",
      "text/plain": [
       "<matplotlib.figure.Figure at 0x11a7a7710>"
      ]
     },
     "metadata": {},
     "output_type": "display_data"
    }
   ],
   "source": [
    "sns.boxplot(data = houses_2009[houses_2009.total_appr < 1000000], \n",
    "               y = 'total_appr');"
   ]
  },
  {
   "cell_type": "markdown",
   "metadata": {},
   "source": [
    "However, the boxplot give a very condensed view of the dataset, and you don't know what the distribution within the whiskers or within the boxes looks like.\n",
    "\n",
    "An alternative to a boxplot or a histogram is a **violin plot**, which shows a mirrorred version of the density estimate."
   ]
  },
  {
   "cell_type": "code",
   "execution_count": 88,
   "metadata": {},
   "outputs": [
    {
     "data": {
      "image/png": "[encoded data removed]",
      "text/plain": [
       "<matplotlib.figure.Figure at 0x119f0f4e0>"
      ]
     },
     "metadata": {},
     "output_type": "display_data"
    }
   ],
   "source": [
    "sns.violinplot(data = houses_2009[houses_2009.total_appr < 1000000], \n",
    "               y = 'total_appr');"
   ]
  },
  {
   "cell_type": "markdown",
   "metadata": {},
   "source": [
    "You can also compare the distribution of appraisal values across multiple years using both boxplots and violin plots."
   ]
  },
  {
   "cell_type": "code",
   "execution_count": 89,
   "metadata": {},
   "outputs": [],
   "source": [
    "nash_appraisal = pd.read_csv('../data/appraisal_sample.csv')"
   ]
  },
  {
   "cell_type": "code",
   "execution_count": 90,
   "metadata": {},
   "outputs": [
    {
     "data": {
      "image/png": "[encoded data removed]",
      "text/plain": [
       "<matplotlib.figure.Figure at 0x119aaf438>"
      ]
     },
     "metadata": {},
     "output_type": "display_data"
    }
   ],
   "source": [
    "sns.boxplot(data = nash_appraisal[nash_appraisal.total_appr < 1000000], \n",
    "               x = 'year', y = 'total_appr');"
   ]
  },
  {
   "cell_type": "code",
   "execution_count": 91,
   "metadata": {},
   "outputs": [
    {
     "data": {
      "image/png": "[encoded data removed]",
      "text/plain": [
       "<matplotlib.figure.Figure at 0x119f3cf98>"
      ]
     },
     "metadata": {},
     "output_type": "display_data"
    }
   ],
   "source": [
    "sns.violinplot(data = nash_appraisal[nash_appraisal.total_appr < 1000000], \n",
    "               x = 'year', y = 'total_appr');"
   ]
  },
  {
   "cell_type": "markdown",
   "metadata": {},
   "source": [
    "## Qualitative Variables\n",
    "\n",
    "Recall that qualitative variables are those that fall into two or more levels. For qualitative variables, it is no longer meaningful to compute descriptive statistics such as mean or standard deviation.\n",
    "\n",
    "The most interesting information in regard to qualitative variables is the number of observations per level.\n",
    "\n",
    "This can be displayed in a **frequency table**, which shows a count of observations per category.\n",
    "\n",
    "For this example, we'll look at data from the 2018 Central Park Squirrel Census, which can be obtained from https://data.cityofnewyork.us/Environment/2018-Central-Park-Squirrel-Census-Squirrel-Data/vfnx-vebw."
   ]
  },
  {
   "cell_type": "code",
   "execution_count": 92,
   "metadata": {},
   "outputs": [
    {
     "data": {
      "text/html": [
       "<div>\n",
       "<style scoped>\n",
       "    .dataframe tbody tr th:only-of-type {\n",
       "        vertical-align: middle;\n",
       "    }\n",
       "\n",
       "    .dataframe tbody tr th {\n",
       "        vertical-align: top;\n",
       "    }\n",
       "\n",
       "    .dataframe thead th {\n",
       "        text-align: right;\n",
       "    }\n",
       "</style>\n",
       "<table border=\"1\" class=\"dataframe\">\n",
       "  <thead>\n",
       "    <tr style=\"text-align: right;\">\n",
       "      <th></th>\n",
       "      <th>X</th>\n",
       "      <th>Y</th>\n",
       "      <th>Unique Squirrel ID</th>\n",
       "      <th>Hectare</th>\n",
       "      <th>Shift</th>\n",
       "      <th>Date</th>\n",
       "      <th>Hectare Squirrel Number</th>\n",
       "      <th>Age</th>\n",
       "      <th>Primary Fur Color</th>\n",
       "      <th>Highlight Fur Color</th>\n",
       "      <th>...</th>\n",
       "      <th>Approaches</th>\n",
       "      <th>Indifferent</th>\n",
       "      <th>Runs from</th>\n",
       "      <th>Other Interactions</th>\n",
       "      <th>Lat/Long</th>\n",
       "      <th>Zip Codes</th>\n",
       "      <th>Community Districts</th>\n",
       "      <th>Borough Boundaries</th>\n",
       "      <th>City Council Districts</th>\n",
       "      <th>Police Precincts</th>\n",
       "    </tr>\n",
       "  </thead>\n",
       "  <tbody>\n",
       "    <tr>\n",
       "      <th>0</th>\n",
       "      <td>-73.956134</td>\n",
       "      <td>40.794082</td>\n",
       "      <td>37F-PM-1014-03</td>\n",
       "      <td>37F</td>\n",
       "      <td>PM</td>\n",
       "      <td>10142018</td>\n",
       "      <td>3</td>\n",
       "      <td>NaN</td>\n",
       "      <td>NaN</td>\n",
       "      <td>NaN</td>\n",
       "      <td>...</td>\n",
       "      <td>False</td>\n",
       "      <td>False</td>\n",
       "      <td>False</td>\n",
       "      <td>NaN</td>\n",
       "      <td>POINT (-73.9561344937861 40.7940823884086)</td>\n",
       "      <td>NaN</td>\n",
       "      <td>19</td>\n",
       "      <td>4</td>\n",
       "      <td>19</td>\n",
       "      <td>13</td>\n",
       "    </tr>\n",
       "    <tr>\n",
       "      <th>1</th>\n",
       "      <td>-73.957044</td>\n",
       "      <td>40.794851</td>\n",
       "      <td>37E-PM-1006-03</td>\n",
       "      <td>37E</td>\n",
       "      <td>PM</td>\n",
       "      <td>10062018</td>\n",
       "      <td>3</td>\n",
       "      <td>Adult</td>\n",
       "      <td>Gray</td>\n",
       "      <td>Cinnamon</td>\n",
       "      <td>...</td>\n",
       "      <td>False</td>\n",
       "      <td>False</td>\n",
       "      <td>True</td>\n",
       "      <td>me</td>\n",
       "      <td>POINT (-73.9570437717691 40.794850940803904)</td>\n",
       "      <td>NaN</td>\n",
       "      <td>19</td>\n",
       "      <td>4</td>\n",
       "      <td>19</td>\n",
       "      <td>13</td>\n",
       "    </tr>\n",
       "    <tr>\n",
       "      <th>2</th>\n",
       "      <td>-73.976831</td>\n",
       "      <td>40.766718</td>\n",
       "      <td>2E-AM-1010-03</td>\n",
       "      <td>02E</td>\n",
       "      <td>AM</td>\n",
       "      <td>10102018</td>\n",
       "      <td>3</td>\n",
       "      <td>Adult</td>\n",
       "      <td>Cinnamon</td>\n",
       "      <td>NaN</td>\n",
       "      <td>...</td>\n",
       "      <td>False</td>\n",
       "      <td>True</td>\n",
       "      <td>False</td>\n",
       "      <td>NaN</td>\n",
       "      <td>POINT (-73.9768311751004 40.76671780725581)</td>\n",
       "      <td>NaN</td>\n",
       "      <td>19</td>\n",
       "      <td>4</td>\n",
       "      <td>19</td>\n",
       "      <td>13</td>\n",
       "    </tr>\n",
       "    <tr>\n",
       "      <th>3</th>\n",
       "      <td>-73.975725</td>\n",
       "      <td>40.769703</td>\n",
       "      <td>5D-PM-1018-05</td>\n",
       "      <td>05D</td>\n",
       "      <td>PM</td>\n",
       "      <td>10182018</td>\n",
       "      <td>5</td>\n",
       "      <td>Juvenile</td>\n",
       "      <td>Gray</td>\n",
       "      <td>NaN</td>\n",
       "      <td>...</td>\n",
       "      <td>False</td>\n",
       "      <td>False</td>\n",
       "      <td>True</td>\n",
       "      <td>NaN</td>\n",
       "      <td>POINT (-73.9757249834141 40.7697032606755)</td>\n",
       "      <td>NaN</td>\n",
       "      <td>19</td>\n",
       "      <td>4</td>\n",
       "      <td>19</td>\n",
       "      <td>13</td>\n",
       "    </tr>\n",
       "    <tr>\n",
       "      <th>4</th>\n",
       "      <td>-73.959313</td>\n",
       "      <td>40.797533</td>\n",
       "      <td>39B-AM-1018-01</td>\n",
       "      <td>39B</td>\n",
       "      <td>AM</td>\n",
       "      <td>10182018</td>\n",
       "      <td>1</td>\n",
       "      <td>NaN</td>\n",
       "      <td>NaN</td>\n",
       "      <td>NaN</td>\n",
       "      <td>...</td>\n",
       "      <td>False</td>\n",
       "      <td>False</td>\n",
       "      <td>False</td>\n",
       "      <td>NaN</td>\n",
       "      <td>POINT (-73.9593126695714 40.797533370163)</td>\n",
       "      <td>NaN</td>\n",
       "      <td>19</td>\n",
       "      <td>4</td>\n",
       "      <td>19</td>\n",
       "      <td>13</td>\n",
       "    </tr>\n",
       "  </tbody>\n",
       "</table>\n",
       "<p>5 rows × 36 columns</p>\n",
       "</div>"
      ],
      "text/plain": [
       "           X          Y Unique Squirrel ID Hectare Shift      Date  \\\n",
       "0 -73.956134  40.794082     37F-PM-1014-03     37F    PM  10142018   \n",
       "1 -73.957044  40.794851     37E-PM-1006-03     37E    PM  10062018   \n",
       "2 -73.976831  40.766718      2E-AM-1010-03     02E    AM  10102018   \n",
       "3 -73.975725  40.769703      5D-PM-1018-05     05D    PM  10182018   \n",
       "4 -73.959313  40.797533     39B-AM-1018-01     39B    AM  10182018   \n",
       "\n",
       "   Hectare Squirrel Number       Age Primary Fur Color Highlight Fur Color  \\\n",
       "0                        3       NaN               NaN                 NaN   \n",
       "1                        3     Adult              Gray            Cinnamon   \n",
       "2                        3     Adult          Cinnamon                 NaN   \n",
       "3                        5  Juvenile              Gray                 NaN   \n",
       "4                        1       NaN               NaN                 NaN   \n",
       "\n",
       "         ...        Approaches Indifferent Runs from Other Interactions  \\\n",
       "0        ...             False       False     False                NaN   \n",
       "1        ...             False       False      True                 me   \n",
       "2        ...             False        True     False                NaN   \n",
       "3        ...             False       False      True                NaN   \n",
       "4        ...             False       False     False                NaN   \n",
       "\n",
       "                                       Lat/Long  Zip Codes  \\\n",
       "0    POINT (-73.9561344937861 40.7940823884086)        NaN   \n",
       "1  POINT (-73.9570437717691 40.794850940803904)        NaN   \n",
       "2   POINT (-73.9768311751004 40.76671780725581)        NaN   \n",
       "3    POINT (-73.9757249834141 40.7697032606755)        NaN   \n",
       "4     POINT (-73.9593126695714 40.797533370163)        NaN   \n",
       "\n",
       "   Community Districts  Borough Boundaries  City Council Districts  \\\n",
       "0                   19                   4                      19   \n",
       "1                   19                   4                      19   \n",
       "2                   19                   4                      19   \n",
       "3                   19                   4                      19   \n",
       "4                   19                   4                      19   \n",
       "\n",
       "   Police Precincts  \n",
       "0                13  \n",
       "1                13  \n",
       "2                13  \n",
       "3                13  \n",
       "4                13  \n",
       "\n",
       "[5 rows x 36 columns]"
      ]
     },
     "execution_count": 92,
     "metadata": {},
     "output_type": "execute_result"
    }
   ],
   "source": [
    "squirrels = pd.read_csv('../data/2018_Central_Park_Squirrel_Census_-_Squirrel_Data.csv')\n",
    "squirrels.head()"
   ]
  },
  {
   "cell_type": "markdown",
   "metadata": {},
   "source": [
    "You can see that one of the variables in the dataset is the primary fur color. If you want to see how many squirrels there were for each fur color, you can use the `value_counts` method from `pandas` to create a frequency table."
   ]
  },
  {
   "cell_type": "code",
   "execution_count": 93,
   "metadata": {},
   "outputs": [
    {
     "data": {
      "text/plain": [
       "Gray        2473\n",
       "Cinnamon     392\n",
       "Black        103\n",
       "Name: Primary Fur Color, dtype: int64"
      ]
     },
     "execution_count": 93,
     "metadata": {},
     "output_type": "execute_result"
    }
   ],
   "source": [
    "squirrels['Primary Fur Color'].value_counts()"
   ]
  },
  {
   "cell_type": "markdown",
   "metadata": {},
   "source": [
    "You can see that gray squirrels are by far the most common squirrel spotted in Central Park in the dataset."
   ]
  },
  {
   "cell_type": "markdown",
   "metadata": {},
   "source": [
    "If you are not interested in the *number* of observations of each level, but instead the *proportion* of observations in each category, you can add the `normalize = True` argument."
   ]
  },
  {
   "cell_type": "code",
   "execution_count": 94,
   "metadata": {},
   "outputs": [
    {
     "data": {
      "text/plain": [
       "Gray        0.833221\n",
       "Cinnamon    0.132075\n",
       "Black       0.034704\n",
       "Name: Primary Fur Color, dtype: float64"
      ]
     },
     "execution_count": 94,
     "metadata": {},
     "output_type": "execute_result"
    }
   ],
   "source": [
    "squirrels['Primary Fur Color'].value_counts(normalize = True)"
   ]
  },
  {
   "cell_type": "markdown",
   "metadata": {},
   "source": [
    "If you want to visualize the frequency per color, you can create a **bar plot**."
   ]
  },
  {
   "cell_type": "code",
   "execution_count": 95,
   "metadata": {},
   "outputs": [
    {
     "data": {
      "image/png": "[encoded data removed]",
      "text/plain": [
       "<matplotlib.figure.Figure at 0x11a7de860>"
      ]
     },
     "metadata": {},
     "output_type": "display_data"
    }
   ],
   "source": [
    "squirrels['Primary Fur Color'].value_counts().plot(kind = 'bar')\n",
    "plt.xticks(rotation = 0);"
   ]
  },
  {
   "cell_type": "code",
   "execution_count": null,
   "metadata": {},
   "outputs": [],
   "source": []
  }
 ],
 "metadata": {
  "kernelspec": {
   "display_name": "Python 3",
   "language": "python",
   "name": "python3"
  },
  "language_info": {
   "codemirror_mode": {
    "name": "ipython",
    "version": 3
   },
   "file_extension": ".py",
   "mimetype": "text/x-python",
   "name": "python",
   "nbconvert_exporter": "python",
   "pygments_lexer": "ipython3",
   "version": "3.6.10"
  }
 },
 "nbformat": 4,
 "nbformat_minor": 2
}
