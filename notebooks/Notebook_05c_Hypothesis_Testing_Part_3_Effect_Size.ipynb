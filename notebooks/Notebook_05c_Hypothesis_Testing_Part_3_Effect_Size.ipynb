{
 "cells": [
  {
   "cell_type": "markdown",
   "metadata": {},
   "source": [
    "# Hypothesis Testing Revisited\n",
    "\n",
    "The power of a hypothesis test depends on the sample size and the effect size. So, a smaller sample size can detect a large effect size. On the other hand, a large sample size can detect a tiny effect size.\n",
    "\n",
    "This means that if you are working with a large sample (as you often are when doing data analysis), you can uncover a statistically significant result, which is of no practial importance. \n",
    "\n",
    "For example, clinical trial researchers sometimes refer to this low power when a result is statistically significant but not \"clinically significant.\" They mean by this that one treatment may be better than placebo, but the difference is so marginal that it would make no difference to the patient within a clinical context."
   ]
  },
  {
   "cell_type": "markdown",
   "metadata": {},
   "source": [
    "## Measuring Effect Size\n",
    "\n",
    "Let's borrow an example from https://www.leeds.ac.uk/educol/documents/00002182.htm.\n",
    "\n",
    "Dr. Simon Fokard was trying to determine whether children learn better in the morning or afternoon.\n",
    "\n",
    "A group of 38 children were included in the experiment. \n",
    "\n",
    "Half were randomly allocated to listen to a story and answer questions about it (on tape) at 9am, the other half to hear exactly the same story and answer the same questions at 3pm. \n",
    "\n",
    "Their comprehension was measured by the number of questions answered correctly out of 20.\n",
    "\n",
    "Morning group average: 15.2\n",
    "\n",
    "Afternoon group average: 17.9\n",
    "\n",
    "Difference between group averages: 2.7\n",
    "\n",
    "So what? What more information could make this meaningful? You could look at the amount of variation in scores to contextualize the difference.\n",
    "\n",
    "On the one hand, if there were no overlap at all and every single person in the afternoon group had done better on the test than everyone in the morning group, then this would seem like a very substantial difference. "
   ]
  },
  {
   "cell_type": "code",
   "execution_count": null,
   "metadata": {},
   "outputs": [],
   "source": [
    "import numpy as np\n",
    "from scipy.stats import norm \n",
    "import matplotlib.pyplot as plt\n",
    "import seaborn as sns\n",
    "%matplotlib inline"
   ]
  },
  {
   "cell_type": "code",
   "execution_count": null,
   "metadata": {},
   "outputs": [],
   "source": [
    "morning_group = np.random.normal(loc = 15.2, scale = 0.5, size = 100)\n",
    "afternoon_group = np.random.normal(loc = 17.9, scale = 0.5, size = 100)\n",
    "\n",
    "fig, ax = plt.subplots()\n",
    "sns.distplot(morning_group, ax = ax)\n",
    "sns.distplot(afternoon_group, ax = ax)\n",
    "plt.title('No Overlap Between Groups');"
   ]
  },
  {
   "cell_type": "markdown",
   "metadata": {},
   "source": [
    "On the other hand, if the spread of scores were large and the overlap much bigger than the difference between the groups, then the effect might seem less significant. "
   ]
  },
  {
   "cell_type": "code",
   "execution_count": null,
   "metadata": {},
   "outputs": [],
   "source": [
    "morning_group = np.random.normal(loc = 15.2, scale = 4, size = 100)\n",
    "afternoon_group = np.random.normal(loc = 17.9, scale = 4, size = 100)\n",
    "\n",
    "fig, ax = plt.subplots()\n",
    "sns.distplot(morning_group, ax = ax)\n",
    "sns.distplot(afternoon_group, ax = ax)\n",
    "plt.title('Significant Overlap Between Groups');"
   ]
  },
  {
   "cell_type": "markdown",
   "metadata": {},
   "source": [
    "The most common way to measure effect size is through the use of Cohen's $d$. Say we have two samples with sample means $\\bar{x}_1$ and $\\bar{x}_2$. Then Cohen's $d$ is equal to \n",
    "$$\\text{Cohen's } d = \\frac{\\bar{x}_1 - \\bar{x}_2}{s}$$\n",
    "where $s$ is a measure of the standard deviation, usually the *pooled* standard deviation, given by\n",
    "$$s = \\sqrt{\\frac{s_1^2 + s_2^2}{2}}$$\n",
    "where $s_1$ and $s_2$ are the sample standard deviations for each sample separately."
   ]
  },
  {
   "cell_type": "markdown",
   "metadata": {},
   "source": [
    "| Effect Size ($d$) | Interpretation |\n",
    "|-------------------|----------------|\n",
    "|0.01|Very small|\n",
    "|0.2|Small|\n",
    "|0.5|Medium|\n",
    "|0.8|Large|\n",
    "|1.2|Very large|"
   ]
  },
  {
   "cell_type": "markdown",
   "metadata": {},
   "source": [
    "For this experiment, the pooled standard deviation was 3.3. This means that the effect size was equal to\n",
    "\n",
    "$$\\frac{17.9 - 15.2}{3.3} = 0.8$$\n",
    "\n",
    "What does this mean? That the average person in the afternoon group scored 0.8 standard deviations higher than the average person in the morning group. \n",
    "\n",
    "If the data is reasonably close to normally-distributed, you can further interpret this difference."
   ]
  },
  {
   "cell_type": "code",
   "execution_count": null,
   "metadata": {},
   "outputs": [],
   "source": [
    "norm_dist = norm()\n",
    "x = np.linspace(-3, 3, 100)\n",
    "fig, ax = plt.subplots(1, 1, figsize = (8,6))\n",
    "\n",
    "ax.plot(x, norm_dist.pdf(x), 'k-', lw=2, color = 'red', label = 'Morning Group')\n",
    "\n",
    "x = np.linspace(-3, 0.8, 100)\n",
    "\n",
    "ax.fill_between(x[x <= 0.8], 0, norm_dist.pdf(x[x <= 0.8]))\n",
    "\n",
    "plt.plot([0.8, 0.8], [0,norm_dist.pdf(0.8)], color = 'black', linewidth = 2);\n",
    "\n",
    "plt.plot([-3, 3], [0,0], color = 'black', linewidth = 2)\n",
    "\n",
    "afternoon_dist = norm(loc = 0.8)\n",
    "x = np.linspace(-3, 3.8, 100)\n",
    "ax.plot(x, afternoon_dist.pdf(x), 'k-', lw=2, color = 'blue', label = 'Afternoon Group')\n",
    "\n",
    "\n",
    "plt.legend();"
   ]
  },
  {
   "cell_type": "code",
   "execution_count": null,
   "metadata": {},
   "outputs": [],
   "source": [
    "norm.cdf(0.8)"
   ]
  },
  {
   "cell_type": "markdown",
   "metadata": {},
   "source": [
    "This shows that for a normally distributed population, about 78.8\\% of observations will be in the region from negative infinity to 0.8 standard deviations above the mean."
   ]
  },
  {
   "cell_type": "markdown",
   "metadata": {},
   "source": [
    "What is the probability that when choosing a person at random from the morning group and a person at random from the afternoon group, the person from the afternoon group will score higher?\n",
    "\n",
    "To answer this, you'll use the fact that if   \n",
    "**TODO:** state the formula using plain English :)   \n",
    "\n",
    "$A \\sim N(\\mu_1, \\sigma_1)$ and $B \\sim N(\\mu_2, \\sigma_2)$, then $A-B \\sim N(\\mu_1 - mu_2, \\sqrt{\\sigma_1^2, \\sigma_2^2})$"
   ]
  },
  {
   "cell_type": "code",
   "execution_count": null,
   "metadata": {},
   "outputs": [],
   "source": [
    "diff_dist = norm(loc = 0.8, scale = np.sqrt(2))\n",
    "\n",
    "1 - diff_dist.cdf(0)"
   ]
  },
  {
   "cell_type": "markdown",
   "metadata": {},
   "source": [
    "This shows that for an effect size of 0.8, there is a 71.4% chance that a randomly chosen person from the afternoon will have a higher score than a randomly chosen person from the morning group."
   ]
  },
  {
   "cell_type": "markdown",
   "metadata": {},
   "source": [
    "What if the effect size had only been 0.1?"
   ]
  },
  {
   "cell_type": "code",
   "execution_count": null,
   "metadata": {},
   "outputs": [],
   "source": [
    "norm.cdf(0.1)"
   ]
  },
  {
   "cell_type": "markdown",
   "metadata": {},
   "source": [
    "Only 54% of those in the morning group would have been below the average for the afternoon group. This difference seems of much less practial significance (even though it was statistically significant)."
   ]
  },
  {
   "cell_type": "code",
   "execution_count": null,
   "metadata": {},
   "outputs": [],
   "source": [
    "norm_dist = norm()\n",
    "x = np.linspace(-3, 3, 100)\n",
    "fig, ax = plt.subplots(1, 1, figsize = (8,6))\n",
    "\n",
    "ax.plot(x, norm_dist.pdf(x), 'k-', lw=2, color = 'red', label = 'Morning Group')\n",
    "\n",
    "x = np.linspace(-3, 0.1, 100)\n",
    "\n",
    "ax.fill_between(x[x <= 0.1], 0, norm_dist.pdf(x[x <= 0.1]))\n",
    "\n",
    "plt.plot([0.1, 0.1], [0,norm_dist.pdf(0.1)], color = 'black', linewidth = 2);\n",
    "\n",
    "plt.plot([-3, 3], [0,0], color = 'black', linewidth = 2)\n",
    "\n",
    "afternoon_dist = norm(loc = 0.1)\n",
    "x = np.linspace(-3, 3.1, 100)\n",
    "ax.plot(x, afternoon_dist.pdf(x), 'k-', lw=2, color = 'blue', label = 'Afternoon Group')\n",
    "\n",
    "\n",
    "plt.legend();"
   ]
  },
  {
   "cell_type": "code",
   "execution_count": null,
   "metadata": {},
   "outputs": [],
   "source": [
    "diff_dist = norm(loc = 0.1, scale = np.sqrt(2))\n",
    "\n",
    "1 - diff_dist.cdf(0)"
   ]
  },
  {
   "cell_type": "markdown",
   "metadata": {},
   "source": [
    "For a small effect size, there is only a 53% chance that a randomly chosen person from the afternoon group will have a higher score than a randomly chosen person from the morning group."
   ]
  },
  {
   "cell_type": "markdown",
   "metadata": {},
   "source": [
    "Let's look at another example. The following dataset has a larger sample of sleeping times by sex from the American Time Use Survey."
   ]
  },
  {
   "cell_type": "code",
   "execution_count": null,
   "metadata": {},
   "outputs": [],
   "source": [
    "import pandas as pd\n",
    "sleeping_times = pd.read_csv('../data/atus_sleeping_large_sample.csv')"
   ]
  },
  {
   "cell_type": "code",
   "execution_count": null,
   "metadata": {},
   "outputs": [],
   "source": [
    "sleeping_times.groupby('sex').minutes_spent_sleeping.agg(['mean', 'std', 'count'])"
   ]
  },
  {
   "cell_type": "markdown",
   "metadata": {},
   "source": [
    "This shows that in the sample, Females slept on average, for 8 minutes longer than Males. Use a t-test to see if this difference is statistically significant."
   ]
  },
  {
   "cell_type": "markdown",
   "metadata": {},
   "source": [
    "First, set up the null and alternative hypotheses. Remember that the null hypothesis says that there is no difference between the population means. Let $\\mu_M$ represent the average time spent sleeping by males and $\\mu_F$ represent the average time spent sleeping by females.\n",
    "\n",
    "**Null Hypothesis:**\n",
    "\n",
    "$H_0: \\mu_M = \\mu_F$\n",
    "\n",
    "**Alternative Hypothesis:**\n",
    "\n",
    "$H_A: \\mu_M < \\mu_F$"
   ]
  },
  {
   "cell_type": "code",
   "execution_count": null,
   "metadata": {},
   "outputs": [],
   "source": [
    "from scipy.stats import ttest_ind\n",
    "t_results = ttest_ind(sleeping_times.loc[sleeping_times.sex == 'Male', 'minutes_spent_sleeping'],\n",
    "                      sleeping_times.loc[sleeping_times.sex == 'Female', 'minutes_spent_sleeping'],\n",
    "                     equal_var = False)"
   ]
  },
  {
   "cell_type": "markdown",
   "metadata": {},
   "source": [
    "Here, you are doing a one-sided test, so you need to divide the $p$-value by 2."
   ]
  },
  {
   "cell_type": "code",
   "execution_count": null,
   "metadata": {},
   "outputs": [],
   "source": [
    "print(t_results.pvalue / 2)"
   ]
  },
  {
   "cell_type": "markdown",
   "metadata": {},
   "source": [
    "This says that, if there is no difference in population means, then you would see a difference as large as you did only 0.3% of the time. This means that you need to reject the null hypothesis and conclude that there is statistically significant evidence that females sleep more on average than males.\n",
    "\n",
    "But, let's find the effect size to put some context to our finding."
   ]
  },
  {
   "cell_type": "code",
   "execution_count": null,
   "metadata": {},
   "outputs": [],
   "source": [
    "pooled_std = np.sqrt((\n",
    "    np.std(sleeping_times.loc[sleeping_times.sex == 'Male', 'minutes_spent_sleeping'])**2 + \n",
    "    np.std(sleeping_times.loc[sleeping_times.sex == 'Female', 'minutes_spent_sleeping'])**2) / 2) \n",
    "\n",
    "cohen_d = (np.mean(sleeping_times.loc[sleeping_times.sex == 'Female', 'minutes_spent_sleeping']) - \n",
    "           np.mean(sleeping_times.loc[sleeping_times.sex == 'Male', 'minutes_spent_sleeping'])) / pooled_std\n",
    "print(cohen_d)"
   ]
  },
  {
   "cell_type": "markdown",
   "metadata": {},
   "source": [
    "This effect size is tiny. Remember we saw above that the observed difference is less than 8 minutes, but the standard deviation values are around 137, so the observed difference, while statistically significant, is tiny compared to the overall variability in the data."
   ]
  },
  {
   "cell_type": "code",
   "execution_count": null,
   "metadata": {},
   "outputs": [],
   "source": [
    "norm.cdf(cohen_d)"
   ]
  },
  {
   "cell_type": "markdown",
   "metadata": {},
   "source": [
    "This shows that only 52.2% of males slept for fewer minutes than the average female."
   ]
  },
  {
   "cell_type": "markdown",
   "metadata": {},
   "source": [
    "Standardize and plot the assumed population distributions to get an idea of the effect that you have uncovered."
   ]
  },
  {
   "cell_type": "code",
   "execution_count": null,
   "metadata": {},
   "outputs": [],
   "source": [
    "effect_size = cohen_d\n",
    "\n",
    "norm_dist = norm()\n",
    "x = np.linspace(-3, 3, 100)\n",
    "fig, ax = plt.subplots(1, 1, figsize = (8,6))\n",
    "\n",
    "ax.plot(x, norm_dist.pdf(x), 'k-', lw=2, color = 'red', label = 'Males')\n",
    "\n",
    "x = np.linspace(-3, effect_size, 100)\n",
    "\n",
    "ax.fill_between(x[x <= effect_size], 0, norm_dist.pdf(x[x <= effect_size]))\n",
    "\n",
    "plt.plot([effect_size, effect_size], [0,norm_dist.pdf(0.1)], color = 'black', linewidth = 2);\n",
    "\n",
    "plt.plot([-3, 3], [0,0], color = 'black', linewidth = 2)\n",
    "\n",
    "afternoon_dist = norm(loc = effect_size)\n",
    "x = np.linspace(-3, 3 + effect_size, 100)\n",
    "ax.plot(x, afternoon_dist.pdf(x), 'k-', lw=2, color = 'blue', label = 'Females')\n",
    "\n",
    "\n",
    "plt.legend();"
   ]
  },
  {
   "cell_type": "code",
   "execution_count": null,
   "metadata": {},
   "outputs": [],
   "source": [
    "diff_dist = norm(loc = cohen_d, scale = np.sqrt(2))\n",
    "\n",
    "1 - diff_dist.cdf(0)"
   ]
  },
  {
   "cell_type": "markdown",
   "metadata": {},
   "source": [
    "So, for a ranomly chosen female, there is only a 51.6% chance that she sleeps longer than a randomly chosen male."
   ]
  }
 ],
 "metadata": {
  "kernelspec": {
   "display_name": "Python 3",
   "language": "python",
   "name": "python3"
  },
  "language_info": {
   "codemirror_mode": {
    "name": "ipython",
    "version": 3
   },
   "file_extension": ".py",
   "mimetype": "text/x-python",
   "name": "python",
   "nbconvert_exporter": "python",
   "pygments_lexer": "ipython3",
   "version": "3.7.4"
  }
 },
 "nbformat": 4,
 "nbformat_minor": 2
}
