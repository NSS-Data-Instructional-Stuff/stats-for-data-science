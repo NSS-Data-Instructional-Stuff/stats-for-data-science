{
 "cells": [
  {
   "cell_type": "code",
   "execution_count": null,
   "id": "da19d76e",
   "metadata": {},
   "outputs": [],
   "source": [
    "from scipy.stats import norm\n",
    "import numpy as np\n",
    "\n",
    "import matplotlib.pyplot as plt\n",
    "import seaborn as sns"
   ]
  },
  {
   "cell_type": "markdown",
   "id": "646b94a6",
   "metadata": {},
   "source": [
    "In this notebook, we'll do some simulations of samples to get an idea about the behavior of the distribution of possible sample means."
   ]
  },
  {
   "cell_type": "markdown",
   "id": "35f5b578",
   "metadata": {},
   "source": [
    "The next cell can be used to adjust the population parameters as well as the sample size."
   ]
  },
  {
   "cell_type": "code",
   "execution_count": null,
   "id": "9eaa7f11",
   "metadata": {},
   "outputs": [],
   "source": [
    "mu = 100\n",
    "sigma = 10\n",
    "sample_size = 10\n",
    "\n",
    "num_samples = 10000"
   ]
  },
  {
   "cell_type": "markdown",
   "id": "ff4b921c",
   "metadata": {},
   "source": [
    "The next cell will generate `num_samples` samples of size `sample_size` from a normal distribution with mean `mu` and standard deviation `sigma`."
   ]
  },
  {
   "cell_type": "code",
   "execution_count": null,
   "id": "6c536599",
   "metadata": {},
   "outputs": [],
   "source": [
    "samples = np.array([\n",
    "    norm.rvs(loc = mu,\n",
    "             scale = sigma,\n",
    "             size = sample_size\n",
    "            )\n",
    "           for _ in range(num_samples) \n",
    "])"
   ]
  },
  {
   "cell_type": "markdown",
   "id": "9a2d5323",
   "metadata": {},
   "source": [
    "Each element is a sample of size `sample_size`."
   ]
  },
  {
   "cell_type": "code",
   "execution_count": null,
   "id": "bbcd2fb5",
   "metadata": {},
   "outputs": [],
   "source": [
    "samples[0]"
   ]
  },
  {
   "cell_type": "markdown",
   "id": "b0c26cf7",
   "metadata": {},
   "source": [
    "Since our result is stored in a numpy array, we can utilize some of the functionality from the numpy library. For example, for each sample, we can find the sample mean."
   ]
  },
  {
   "cell_type": "code",
   "execution_count": null,
   "id": "e5f981e3",
   "metadata": {},
   "outputs": [],
   "source": [
    "sample_means = samples.mean(axis = 1)"
   ]
  },
  {
   "cell_type": "code",
   "execution_count": null,
   "id": "14491945",
   "metadata": {},
   "outputs": [],
   "source": [
    "sample_means"
   ]
  },
  {
   "cell_type": "markdown",
   "id": "5dfe1f96",
   "metadata": {},
   "source": [
    "**Question:** What is the mean of the sample means?"
   ]
  },
  {
   "cell_type": "code",
   "execution_count": null,
   "id": "68c293a3",
   "metadata": {},
   "outputs": [],
   "source": [
    "# Your Code Here"
   ]
  },
  {
   "cell_type": "markdown",
   "id": "4ebee2c0",
   "metadata": {},
   "source": [
    "**Question:** What is the standard deviation of the sample means?"
   ]
  },
  {
   "cell_type": "code",
   "execution_count": null,
   "id": "607bfb99",
   "metadata": {},
   "outputs": [],
   "source": [
    "#Your Code Here"
   ]
  },
  {
   "cell_type": "markdown",
   "id": "0c9e60bb",
   "metadata": {},
   "source": [
    "**Question:** what does the distribution of sample means look like? Use a `kdeplot` to view this distribution."
   ]
  },
  {
   "cell_type": "code",
   "execution_count": null,
   "id": "a820d8f7",
   "metadata": {},
   "outputs": [],
   "source": [
    "# Your Code Here"
   ]
  }
 ],
 "metadata": {
  "kernelspec": {
   "display_name": "Python 3",
   "language": "python",
   "name": "python3"
  },
  "language_info": {
   "codemirror_mode": {
    "name": "ipython",
    "version": 3
   },
   "file_extension": ".py",
   "mimetype": "text/x-python",
   "name": "python",
   "nbconvert_exporter": "python",
   "pygments_lexer": "ipython3",
   "version": "3.8.3"
  }
 },
 "nbformat": 4,
 "nbformat_minor": 5
}
