{
 "cells": [
  {
   "cell_type": "markdown",
   "id": "646b94a6",
   "metadata": {},
   "source": [
    "# Sampling Distributions\n",
    "\n",
    "In this notebook, we'll do some simulations of samples to get an idea about the behavior of the distribution of possible sample means."
   ]
  },
  {
   "cell_type": "code",
   "execution_count": null,
   "id": "da19d76e",
   "metadata": {},
   "outputs": [],
   "source": [
    "from scipy.stats import norm\n",
    "import numpy as np\n",
    "\n",
    "import matplotlib.pyplot as plt"
   ]
  },
  {
   "cell_type": "markdown",
   "id": "e9412684",
   "metadata": {},
   "source": [
    "### Normal Distribution"
   ]
  },
  {
   "cell_type": "markdown",
   "id": "35f5b578",
   "metadata": {},
   "source": [
    "The next cell can be used to adjust the population parameters as well as the sample size."
   ]
  },
  {
   "cell_type": "code",
   "execution_count": null,
   "id": "9eaa7f11",
   "metadata": {},
   "outputs": [],
   "source": [
    "# Fill These Parameters In\n",
    "\n",
    "mu = \n",
    "sigma = \n",
    "sample_size = \n",
    "\n",
    "num_samples = "
   ]
  },
  {
   "cell_type": "markdown",
   "id": "ff4b921c",
   "metadata": {},
   "source": [
    "The next cell will generate `num_samples` samples of size `sample_size` from a normal distribution with mean `mu` and standard deviation `sigma`."
   ]
  },
  {
   "cell_type": "code",
   "execution_count": null,
   "id": "6c536599",
   "metadata": {},
   "outputs": [],
   "source": [
    "samples = norm.rvs(loc = mu, scale = sigma, size = (num_samples, sample_size))"
   ]
  },
  {
   "cell_type": "markdown",
   "id": "9a2d5323",
   "metadata": {},
   "source": [
    "Each element is a sample of size `sample_size`."
   ]
  },
  {
   "cell_type": "code",
   "execution_count": null,
   "id": "bbcd2fb5",
   "metadata": {},
   "outputs": [],
   "source": [
    "samples[0]"
   ]
  },
  {
   "cell_type": "markdown",
   "id": "b0c26cf7",
   "metadata": {},
   "source": [
    "Since our result is stored in a numpy array, we can utilize some of the functionality from the numpy library. For example, for each sample, we can find the sample mean."
   ]
  },
  {
   "cell_type": "code",
   "execution_count": null,
   "id": "e5f981e3",
   "metadata": {},
   "outputs": [],
   "source": [
    "sample_means = samples.mean(axis = 1)"
   ]
  },
  {
   "cell_type": "code",
   "execution_count": null,
   "id": "14491945",
   "metadata": {},
   "outputs": [],
   "source": [
    "sample_means"
   ]
  },
  {
   "cell_type": "markdown",
   "id": "5dfe1f96",
   "metadata": {},
   "source": [
    "**Question:** What is the mean of the sample means?"
   ]
  },
  {
   "cell_type": "code",
   "execution_count": null,
   "id": "68c293a3",
   "metadata": {},
   "outputs": [],
   "source": [
    "# Your Code Here"
   ]
  },
  {
   "cell_type": "markdown",
   "id": "4ebee2c0",
   "metadata": {},
   "source": [
    "**Question:** What is the standard deviation of the sample means?"
   ]
  },
  {
   "cell_type": "code",
   "execution_count": null,
   "id": "607bfb99",
   "metadata": {},
   "outputs": [],
   "source": [
    "#Your Code Here"
   ]
  },
  {
   "cell_type": "markdown",
   "id": "0c9e60bb",
   "metadata": {},
   "source": [
    "**Question:** what does the distribution of sample means look like? Use a histogramto view this distribution."
   ]
  },
  {
   "cell_type": "code",
   "execution_count": null,
   "id": "a820d8f7",
   "metadata": {},
   "outputs": [],
   "source": [
    "# Your Code Here"
   ]
  },
  {
   "cell_type": "markdown",
   "id": "8efb0870",
   "metadata": {},
   "source": [
    "## Other Distributions - The Uniform Distribution\n",
    "\n",
    "The uniform distribution is one in which all outcomes are equally probable.\n",
    "\n",
    "It has probability density function (pdf) of \n",
    "$$f(x) = c$$ for $a \\leq x \\leq b$ for some constants $a, b,$ and $c$.\n",
    "\n",
    "Let's experiment with the uniform distribution. We can import it from `scipy.stats`."
   ]
  },
  {
   "cell_type": "code",
   "execution_count": null,
   "id": "d97d0e76",
   "metadata": {},
   "outputs": [],
   "source": [
    "from scipy.stats import uniform"
   ]
  },
  {
   "cell_type": "code",
   "execution_count": null,
   "id": "a2bcbfab",
   "metadata": {},
   "outputs": [],
   "source": [
    "rvs = uniform.rvs(0, 10, size = 10000)\n",
    "\n",
    "plt.hist(rvs, bins = 'fd', edgecolor = 'black');"
   ]
  },
  {
   "cell_type": "markdown",
   "id": "a21622c5",
   "metadata": {},
   "source": [
    "Let's see how the distribution of sample means behaves as we adjust the sample size."
   ]
  },
  {
   "cell_type": "code",
   "execution_count": null,
   "id": "1ff05072",
   "metadata": {},
   "outputs": [],
   "source": [
    "# Fill These Parameters In\n",
    "\n",
    "a = 0\n",
    "b = 10\n",
    "sample_size = 1\n",
    "\n",
    "num_samples = 10000"
   ]
  },
  {
   "cell_type": "code",
   "execution_count": null,
   "id": "ccfcb6e6",
   "metadata": {},
   "outputs": [],
   "source": [
    "samples = uniform.rvs(a, b, size = (num_samples, sample_size))\n",
    "\n",
    "sample_means = samples.mean(axis = 1)\n",
    "\n",
    "plt.hist(sample_means, bins = 'fd', edgecolor = 'black');"
   ]
  },
  {
   "cell_type": "code",
   "execution_count": null,
   "id": "d2c9fd88",
   "metadata": {},
   "outputs": [],
   "source": [
    "from scipy.stats import probplot"
   ]
  },
  {
   "cell_type": "code",
   "execution_count": null,
   "id": "724f7fd5",
   "metadata": {},
   "outputs": [],
   "source": [
    "probplot(sample_means, plot = plt);"
   ]
  },
  {
   "cell_type": "markdown",
   "id": "e9b2c700",
   "metadata": {},
   "source": [
    "## The Exponential Distribution\n",
    "\n",
    "The [exponential distribution](https://en.wikipedia.org/wiki/Exponential_distribution) is a distribution which can be used to model the time to the next event for a [Poisson process](https://en.wikipedia.org/wiki/Poisson_point_process) - a process in which events occur continuously and independently at a constant average rate."
   ]
  },
  {
   "cell_type": "code",
   "execution_count": null,
   "id": "f672fd19",
   "metadata": {},
   "outputs": [],
   "source": [
    "from scipy.stats import expon"
   ]
  },
  {
   "cell_type": "markdown",
   "id": "f98b0023",
   "metadata": {},
   "source": [
    "You can see that the exponential distribution has most of its mass concentrated near zero and has a long tail to the right."
   ]
  },
  {
   "cell_type": "code",
   "execution_count": null,
   "id": "08b75889",
   "metadata": {},
   "outputs": [],
   "source": [
    "rvs = expon.rvs(size = 10000)\n",
    "\n",
    "plt.hist(rvs, bins = 'fd', edgecolor = 'black');"
   ]
  },
  {
   "cell_type": "markdown",
   "id": "35aeca64",
   "metadata": {},
   "source": [
    "Let's see how, even for the exponential distribution, the sample means eventually get very close to a normal distribution."
   ]
  },
  {
   "cell_type": "code",
   "execution_count": null,
   "id": "d2f76712",
   "metadata": {},
   "outputs": [],
   "source": [
    "# Fill These Parameters In\n",
    "sample_size = 1\n",
    "\n",
    "num_samples = 10000\n",
    "\n",
    "samples = expon.rvs(size = (num_samples, sample_size))\n",
    "\n",
    "sample_means = samples.mean(axis = 1)\n",
    "\n",
    "plt.hist(sample_means, bins = 'fd', edgecolor = 'black');"
   ]
  },
  {
   "cell_type": "code",
   "execution_count": null,
   "id": "a1dbaa3c",
   "metadata": {},
   "outputs": [],
   "source": [
    "probplot(sample_means, plot = plt);"
   ]
  },
  {
   "cell_type": "markdown",
   "id": "72744069",
   "metadata": {},
   "source": [
    "# Calculations"
   ]
  },
  {
   "cell_type": "markdown",
   "id": "01cc2497",
   "metadata": {},
   "source": [
    "**Question 1:**  The heights of men are approximately normally distributed with mean 70 inches and standard deviation of 3 inches. If we randomly select a man, what is the probability that he is between 69 and 71 inches tall?"
   ]
  },
  {
   "cell_type": "code",
   "execution_count": null,
   "id": "d9cdf650",
   "metadata": {},
   "outputs": [],
   "source": [
    "# Your Code Here"
   ]
  },
  {
   "cell_type": "markdown",
   "id": "04015c89",
   "metadata": {},
   "source": [
    "**Question 2:** The heights of men are approximately normally distributed with mean 70 inches and standard deviation of 3 inches. If we randomly select a group of 10 men, what is the probability that their average height is between 69 and 71 inches?"
   ]
  },
  {
   "cell_type": "code",
   "execution_count": null,
   "id": "17426d8a",
   "metadata": {},
   "outputs": [],
   "source": [
    "# Your Code Here"
   ]
  },
  {
   "cell_type": "markdown",
   "id": "c249a8a0",
   "metadata": {},
   "source": [
    "**Question 3:** The heights of men are approximately normally distributed with mean 70 inches and standard deviation of 3 inches. If we randomly select a group of 100 men, what is the probability that their average height is between 69 and 71 inches?"
   ]
  },
  {
   "cell_type": "code",
   "execution_count": null,
   "id": "2bd58731",
   "metadata": {},
   "outputs": [],
   "source": [
    "# Your Code Here"
   ]
  }
 ],
 "metadata": {
  "kernelspec": {
   "display_name": "Python 3 (ipykernel)",
   "language": "python",
   "name": "python3"
  },
  "language_info": {
   "codemirror_mode": {
    "name": "ipython",
    "version": 3
   },
   "file_extension": ".py",
   "mimetype": "text/x-python",
   "name": "python",
   "nbconvert_exporter": "python",
   "pygments_lexer": "ipython3",
   "version": "3.8.3"
  }
 },
 "nbformat": 4,
 "nbformat_minor": 5
}
