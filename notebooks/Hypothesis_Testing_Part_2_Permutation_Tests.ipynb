{
 "cells": [
  {
   "cell_type": "markdown",
   "metadata": {},
   "source": [
    "# Hypothesis Testing\n",
    "\n",
    "The goal of hypothesis testing is to determine whether observed effects that we see in a sample are likely to also appear in the larger population or whether it is likely that those were just due to the randomness inherent in taking a sample.\n",
    "\n",
    "We will be trying to answer “Given a sample and an apparent effect, what is the probability of seeing such an effect by chance?”\n",
    "\n",
    "Since we are only looking at a sample of the population, if we calculate statistics from this sample, we are unlikely to get the same values as the corresponding population parameters."
   ]
  },
  {
   "cell_type": "markdown",
   "metadata": {},
   "source": [
    "## Resampling/Permutation Tests\n",
    "\n",
    "NOTE: Probably this should be spun off into a new notebook, but I'll keep it here for now.\n",
    "\n",
    "With **resampling**, we draw repeated samples from observed data with the goal of assessing random variability in a statistic.\n",
    "\n",
    "**The Big Idea:** We are trying to determine if two samples came from the same underlying distribution. If they came from the same distribution, then the label is irrelevant, and if we shuffle them, then it is still a sample from the same distribution.\n",
    "\n",
    "We start with the null hypothesis that the two samples came from the same distribution, and look at the distribution of some test statistic (eg. difference in means), by randomly permuting the samples a large number of times and recalculating the test statistic."
   ]
  },
  {
   "cell_type": "markdown",
   "metadata": {},
   "source": [
    "That is, the $p$-value is the proportion of test statistics calculated from permutations that were at least as extreme as the observed test statistic.\n",
    "\n",
    "This is a non-parametric method, since we don't care how the data was generated (i.e., it doesn't matter if it was from a normal distribution).\n",
    "\n",
    "See: http://faculty.washington.edu/yenchic/18W_425/Lec3_permutation.pdf"
   ]
  },
  {
   "cell_type": "markdown",
   "metadata": {},
   "source": [
    "Let's look at the example with the amount of time spent sleeping. First, let's capture the observed difference in means."
   ]
  },
  {
   "cell_type": "code",
   "execution_count": 11,
   "metadata": {},
   "outputs": [],
   "source": [
    "import pandas as pd\n",
    "import numpy as np"
   ]
  },
  {
   "cell_type": "code",
   "execution_count": 1,
   "metadata": {},
   "outputs": [],
   "source": [
    "sleeping = pd.read_csv('../data/atus_sleeping.csv')"
   ]
  },
  {
   "cell_type": "code",
   "execution_count": 59,
   "metadata": {},
   "outputs": [
    {
     "data": {
      "text/plain": [
       "62.72000000000003"
      ]
     },
     "execution_count": 59,
     "metadata": {},
     "output_type": "execute_result"
    }
   ],
   "source": [
    "observed_difference = sleeping[sleeping.sex == 'Female'].minutes_spent_sleeping.mean() - sleeping[sleeping.sex == 'Male'].minutes_spent_sleeping.mean()\n",
    "observed_difference"
   ]
  },
  {
   "cell_type": "markdown",
   "metadata": {},
   "source": [
    "Now, we will randomly shuffle the sex labels and see what the distribution of differences looks like."
   ]
  },
  {
   "cell_type": "code",
   "execution_count": 86,
   "metadata": {},
   "outputs": [],
   "source": [
    "num_Female = len(sleeping[sleeping.sex == 'Female'])\n",
    "sleep_times = sleeping.minutes_spent_sleeping.tolist()"
   ]
  },
  {
   "cell_type": "code",
   "execution_count": 144,
   "metadata": {},
   "outputs": [
    {
     "data": {
      "text/plain": [
       "-33.91999999999996"
      ]
     },
     "execution_count": 144,
     "metadata": {},
     "output_type": "execute_result"
    }
   ],
   "source": [
    "np.random.shuffle(sleep_times)\n",
    "\n",
    "np.mean(sleep_times[:num_Female]) - np.mean(sleep_times[num_Female:])"
   ]
  },
  {
   "cell_type": "code",
   "execution_count": 167,
   "metadata": {},
   "outputs": [],
   "source": [
    "num_permutations = 10000\n",
    "\n",
    "permutation_differences = [None] * num_permutations\n",
    "for i in range(num_permutations):\n",
    "    np.random.shuffle(sleep_times)\n",
    "\n",
    "    permutation_differences[i] = np.mean(sleep_times[:num_Female]) - np.mean(sleep_times[num_Female:])"
   ]
  },
  {
   "cell_type": "code",
   "execution_count": 168,
   "metadata": {},
   "outputs": [
    {
     "data": {
      "image/png": "[encoded data removed]",
      "text/plain": [
       "<Figure size 432x288 with 1 Axes>"
      ]
     },
     "metadata": {
      "needs_background": "light"
     },
     "output_type": "display_data"
    }
   ],
   "source": [
    "plt.hist(permutation_differences, bins = 40)\n",
    "plt.axvline(x = observed_difference, color = 'black');"
   ]
  },
  {
   "cell_type": "code",
   "execution_count": 169,
   "metadata": {},
   "outputs": [
    {
     "name": "stdout",
     "output_type": "stream",
     "text": [
      "p-value:  0.0764\n"
     ]
    }
   ],
   "source": [
    "print('p-value: ', \n",
    "      len([x for x in permutation_differences if x >= observed_difference]) / len(permutation_differences))"
   ]
  },
  {
   "cell_type": "markdown",
   "metadata": {},
   "source": [
    "Now, let's repeat this for the grooming dataset."
   ]
  },
  {
   "cell_type": "code",
   "execution_count": 170,
   "metadata": {},
   "outputs": [
    {
     "data": {
      "text/plain": [
       "20.68"
      ]
     },
     "execution_count": 170,
     "metadata": {},
     "output_type": "execute_result"
    }
   ],
   "source": [
    "observed_difference = grooming[grooming.sex == 'Female'].minutes_spent_grooming.mean() - grooming[grooming.sex == 'Male'].minutes_spent_grooming.mean()\n",
    "observed_difference"
   ]
  },
  {
   "cell_type": "code",
   "execution_count": 172,
   "metadata": {},
   "outputs": [],
   "source": [
    "num_Female = len(grooming[grooming.sex == 'Female'])\n",
    "grooming_times = grooming.minutes_spent_grooming.tolist()"
   ]
  },
  {
   "cell_type": "code",
   "execution_count": 173,
   "metadata": {},
   "outputs": [],
   "source": [
    "num_permutations = 10000\n",
    "\n",
    "permutation_differences = [None] * num_permutations\n",
    "for i in range(num_permutations):\n",
    "    np.random.shuffle(grooming_times)\n",
    "\n",
    "    permutation_differences[i] = np.mean(grooming_times[:num_Female]) - np.mean(grooming_times[num_Female:])"
   ]
  },
  {
   "cell_type": "code",
   "execution_count": 175,
   "metadata": {},
   "outputs": [
    {
     "data": {
      "image/png": "[encoded data removed]",
      "text/plain": [
       "<Figure size 432x288 with 1 Axes>"
      ]
     },
     "metadata": {
      "needs_background": "light"
     },
     "output_type": "display_data"
    }
   ],
   "source": [
    "plt.hist(permutation_differences, bins = 40)\n",
    "plt.axvline(x = observed_difference, color = 'black');"
   ]
  },
  {
   "cell_type": "code",
   "execution_count": 174,
   "metadata": {},
   "outputs": [
    {
     "name": "stdout",
     "output_type": "stream",
     "text": [
      "p-value:  0.0038\n"
     ]
    }
   ],
   "source": [
    "print('p-value: ', \n",
    "      len([x for x in permutation_differences if x >= observed_difference]) / len(permutation_differences))"
   ]
  },
  {
   "cell_type": "code",
   "execution_count": 218,
   "metadata": {},
   "outputs": [],
   "source": [
    "def permutation_test(a,b, num_permutations = 10000):\n",
    "    ''' \n",
    "    Returns the p-value when conducting a permutation test for the mean of group a being larger than the mean of group b\n",
    "    a and b must be lists.\n",
    "    '''\n",
    "    \n",
    "    a, b = list(a), list(b)\n",
    "    observed_difference = np.mean(a) - np.mean(b)\n",
    "    values = a + b\n",
    "    \n",
    "    permutation_differences = [None] * num_permutations\n",
    "    for i in range(num_permutations):\n",
    "        np.random.shuffle(values)\n",
    "        permutation_differences[i] = np.mean(values[:len(a)]) - np.mean(values[len(a):])\n",
    "        \n",
    "    return len([x for x in permutation_differences if x >= observed_difference]) / num_permutations"
   ]
  },
  {
   "cell_type": "code",
   "execution_count": 223,
   "metadata": {},
   "outputs": [
    {
     "data": {
      "text/plain": [
       "0.0038"
      ]
     },
     "execution_count": 223,
     "metadata": {},
     "output_type": "execute_result"
    }
   ],
   "source": [
    "permutation_test(grooming[grooming.sex == 'Female'].minutes_spent_grooming,\n",
    "                grooming[grooming.sex == 'Male'].minutes_spent_grooming)"
   ]
  },
  {
   "cell_type": "code",
   "execution_count": 232,
   "metadata": {},
   "outputs": [
    {
     "data": {
      "text/plain": [
       "0.0721"
      ]
     },
     "execution_count": 232,
     "metadata": {},
     "output_type": "execute_result"
    }
   ],
   "source": [
    "permutation_test(sleeping[sleeping.sex == 'Female'].minutes_spent_sleeping,\n",
    "                sleeping[sleeping.sex == 'Male'].minutes_spent_sleeping)"
   ]
  },
  {
   "cell_type": "code",
   "execution_count": null,
   "metadata": {},
   "outputs": [],
   "source": []
  },
  {
   "cell_type": "markdown",
   "metadata": {},
   "source": [
    "## Permutation Test for Proportion\n",
    "\n",
    "We can also perform permutation tests for the difference in proportions. Here, we randomly shuffle the values and recalculate the difference in observed proportions across groups."
   ]
  },
  {
   "cell_type": "code",
   "execution_count": 2,
   "metadata": {},
   "outputs": [],
   "source": [
    "squirrels = pd.read_csv('../data/2018_Central_Park_Squirrel_Census_-_Squirrel_Data.csv')"
   ]
  },
  {
   "cell_type": "code",
   "execution_count": 3,
   "metadata": {},
   "outputs": [],
   "source": [
    "squirrels = squirrels[~squirrels['Primary Fur Color'].isna()]\n",
    "\n",
    "squirrels['Black'] = squirrels['Primary Fur Color'] == 'Black'"
   ]
  },
  {
   "cell_type": "code",
   "execution_count": 7,
   "metadata": {},
   "outputs": [
    {
     "data": {
      "text/plain": [
       "0.08799200257544179"
      ]
     },
     "execution_count": 7,
     "metadata": {},
     "output_type": "execute_result"
    }
   ],
   "source": [
    "observed_difference = len(squirrels[(squirrels['Black'] == True) & (squirrels['Runs from'] == True)]) / len(squirrels[squirrels['Black'] == True]) - len(squirrels[(squirrels['Black'] == False) & (squirrels['Runs from'] == True)]) / len(squirrels[squirrels['Black'] == False])\n",
    "\n",
    "observed_difference"
   ]
  },
  {
   "cell_type": "markdown",
   "metadata": {},
   "source": [
    "So in our data, we say that the proportion on black squirrels that ran away from humans was 8.8% higher than the proportion of non-black squirrels that ran away from humans."
   ]
  },
  {
   "cell_type": "code",
   "execution_count": 9,
   "metadata": {},
   "outputs": [],
   "source": [
    "num_black = len(squirrels[squirrels['Black'] == True])\n",
    "run = squirrels['Runs from'].to_list()"
   ]
  },
  {
   "cell_type": "code",
   "execution_count": 16,
   "metadata": {},
   "outputs": [],
   "source": [
    "num_permutations = 10000\n",
    "\n",
    "permutation_differences = [None] * num_permutations\n",
    "for i in range(num_permutations):\n",
    "    np.random.shuffle(run)\n",
    "\n",
    "    permutation_differences[i] = np.mean(run[:num_black]) - np.mean(run[num_black:])"
   ]
  },
  {
   "cell_type": "code",
   "execution_count": 17,
   "metadata": {},
   "outputs": [
    {
     "name": "stdout",
     "output_type": "stream",
     "text": [
      "p-value:  0.0271\n"
     ]
    }
   ],
   "source": [
    "print('p-value: ', \n",
    "      len([x for x in permutation_differences if x >= observed_difference]) / len(permutation_differences))"
   ]
  },
  {
   "cell_type": "code",
   "execution_count": null,
   "metadata": {},
   "outputs": [],
   "source": []
  }
 ],
 "metadata": {
  "kernelspec": {
   "display_name": "Python 3",
   "language": "python",
   "name": "python3"
  },
  "language_info": {
   "codemirror_mode": {
    "name": "ipython",
    "version": 3
   },
   "file_extension": ".py",
   "mimetype": "text/x-python",
   "name": "python",
   "nbconvert_exporter": "python",
   "pygments_lexer": "ipython3",
   "version": "3.7.4"
  }
 },
 "nbformat": 4,
 "nbformat_minor": 2
}
