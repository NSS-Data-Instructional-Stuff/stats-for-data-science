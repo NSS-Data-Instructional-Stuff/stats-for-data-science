{
 "cells": [
  {
   "cell_type": "markdown",
   "metadata": {},
   "source": [
    "# Hypothesis Testing\n",
    "\n",
    "The goal of hypothesis testing is to determine whether observed effects that we see in a sample are likely to also appear in the larger population or whether it is likely that those were just due to the randomness inherent in taking a sample.\n",
    "\n",
    "We will be trying to answer “Given a sample and an apparent effect, what is the probability of seeing such an effect by chance?”\n",
    "\n",
    "Since we are only looking at a sample of the population, if we calculate statistics from this sample, we are unlikely to get the same values as the corresponding population parameters."
   ]
  },
  {
   "cell_type": "markdown",
   "metadata": {},
   "source": [
    "## Resampling/Permutation Tests\n",
    "\n",
    "With **resampling**, we draw repeated samples from observed data with the goal of assessing random variability in a statistic. Similar to the bootstrap, we are not going to try and analytically determine the distribution of our test statistic, but instead build it out of our observed sample.\n",
    "\n",
    "**The Big Idea:** We are trying to determine if two samples came from the same underlying distribution. If they came from the same distribution, then the label is irrelevant, and if we shuffle them, then it is still a sample from the same distribution.\n",
    "\n",
    "We start with the null hypothesis that the two samples came from the same distribution, and look at the distribution of some test statistic (eg. difference in means), by randomly permuting the samples a large number of times and recalculating the test statistic."
   ]
  },
  {
   "cell_type": "markdown",
   "metadata": {},
   "source": [
    "That is, the $p$-value is the proportion of test statistics calculated from permutations that were at least as extreme as the observed test statistic.\n",
    "\n",
    "This is a non-parametric method, since we don't care how the data was generated (i.e., it doesn't matter if it was from a normal distribution).\n",
    "\n",
    "See: http://faculty.washington.edu/yenchic/18W_425/Lec3_permutation.pdf"
   ]
  },
  {
   "cell_type": "markdown",
   "metadata": {},
   "source": [
    "Let's look at the example with the amount of time spent sleeping. First, let's capture the observed difference in means."
   ]
  },
  {
   "cell_type": "code",
   "execution_count": 1,
   "metadata": {},
   "outputs": [],
   "source": [
    "import pandas as pd\n",
    "import numpy as np\n",
    "import matplotlib.pyplot as plt\n",
    "%matplotlib inline"
   ]
  },
  {
   "cell_type": "code",
   "execution_count": 2,
   "metadata": {},
   "outputs": [],
   "source": [
    "sleeping = pd.read_csv('../data/atus_sleeping.csv')"
   ]
  },
  {
   "cell_type": "code",
   "execution_count": 3,
   "metadata": {},
   "outputs": [
    {
     "data": {
      "text/plain": [
       "62.72000000000003"
      ]
     },
     "execution_count": 3,
     "metadata": {},
     "output_type": "execute_result"
    }
   ],
   "source": [
    "observed_difference = sleeping[sleeping.sex == 'Female'].minutes_spent_sleeping.mean() - sleeping[sleeping.sex == 'Male'].minutes_spent_sleeping.mean()\n",
    "observed_difference"
   ]
  },
  {
   "cell_type": "markdown",
   "metadata": {},
   "source": [
    "Now, we will randomly shuffle the sex labels and see what the distribution of differences looks like."
   ]
  },
  {
   "cell_type": "code",
   "execution_count": 4,
   "metadata": {},
   "outputs": [],
   "source": [
    "num_Female = len(sleeping[sleeping.sex == 'Female'])\n",
    "sleep_times = sleeping.minutes_spent_sleeping.tolist()"
   ]
  },
  {
   "cell_type": "code",
   "execution_count": 5,
   "metadata": {},
   "outputs": [],
   "source": [
    "from nssstats.permutation import generate_permutations, permutation_test_p, permutation_test_plot"
   ]
  },
  {
   "cell_type": "code",
   "execution_count": 6,
   "metadata": {},
   "outputs": [],
   "source": [
    "permutation_differences = generate_permutations(values = sleep_times, \n",
    "                                               label_count = num_Female,\n",
    "                                               num_permutations = 10000,\n",
    "                                               statistic = np.mean)"
   ]
  },
  {
   "cell_type": "code",
   "execution_count": 7,
   "metadata": {},
   "outputs": [
    {
     "data": {
      "image/png": "[encoded data removed]",
      "text/plain": [
       "<Figure size 432x288 with 1 Axes>"
      ]
     },
     "metadata": {
      "needs_background": "light"
     },
     "output_type": "display_data"
    }
   ],
   "source": [
    "permutation_test_plot(permutation_differences, observed_difference, alternative = 'larger')"
   ]
  },
  {
   "cell_type": "code",
   "execution_count": 8,
   "metadata": {},
   "outputs": [
    {
     "data": {
      "text/plain": [
       "0.072"
      ]
     },
     "execution_count": 8,
     "metadata": {},
     "output_type": "execute_result"
    }
   ],
   "source": [
    "permutation_test_p(permutation_differences, observed_difference, alternative = 'larger')"
   ]
  },
  {
   "cell_type": "markdown",
   "metadata": {},
   "source": [
    "This tells us that if there were no difference in the distribution of sleeping times, we would see a differnce in sample means at least as large as what we observed 7.2% of the time. This is not below the 5% threshold, so we will not reject the null hypothesis that there is not difference in the distribution of sleeping times among males and females."
   ]
  },
  {
   "cell_type": "markdown",
   "metadata": {},
   "source": [
    "Now, let's repeat this for the grooming dataset."
   ]
  },
  {
   "cell_type": "code",
   "execution_count": 10,
   "metadata": {},
   "outputs": [
    {
     "data": {
      "text/plain": [
       "20.68"
      ]
     },
     "execution_count": 10,
     "metadata": {},
     "output_type": "execute_result"
    }
   ],
   "source": [
    "grooming = pd.read_csv('../data/atus_grooming.csv')\n",
    "observed_difference = grooming[grooming.sex == 'Female'].minutes_spent_grooming.mean() - grooming[grooming.sex == 'Male'].minutes_spent_grooming.mean()\n",
    "observed_difference"
   ]
  },
  {
   "cell_type": "code",
   "execution_count": 11,
   "metadata": {},
   "outputs": [],
   "source": [
    "num_Female = len(grooming[grooming.sex == 'Female'])\n",
    "grooming_times = grooming.minutes_spent_grooming.tolist()"
   ]
  },
  {
   "cell_type": "code",
   "execution_count": 12,
   "metadata": {},
   "outputs": [],
   "source": [
    "permutation_differences = generate_permutations(values = grooming_times,\n",
    "                                                label_count = num_Female,\n",
    "                                                statistic = np.mean)"
   ]
  },
  {
   "cell_type": "code",
   "execution_count": 13,
   "metadata": {},
   "outputs": [
    {
     "data": {
      "image/png": "[encoded data removed]",
      "text/plain": [
       "<Figure size 432x288 with 1 Axes>"
      ]
     },
     "metadata": {
      "needs_background": "light"
     },
     "output_type": "display_data"
    }
   ],
   "source": [
    "permutation_test_plot(permutation_differences, observed_difference, alternative = 'larger')"
   ]
  },
  {
   "cell_type": "code",
   "execution_count": 14,
   "metadata": {},
   "outputs": [
    {
     "data": {
      "text/plain": [
       "0.0034"
      ]
     },
     "execution_count": 14,
     "metadata": {},
     "output_type": "execute_result"
    }
   ],
   "source": [
    "permutation_test_p(permutation_differences, observed_difference, alternative = 'larger')"
   ]
  },
  {
   "cell_type": "markdown",
   "metadata": {},
   "source": [
    "In this case, if the null hypothesis were true and there really was no difference in the distribution of time spent grooming for males and females, then we would observe an as extreme or more extreme result only 0.3% of the time. This is below the threshold of 5%, so we will reject the null hypothesis and conclude that there is a difference in the distribution of grooming times for males and females."
   ]
  },
  {
   "cell_type": "markdown",
   "metadata": {},
   "source": [
    "## Permutation Test for Proportion\n",
    "\n",
    "We can also perform permutation tests for the difference in proportions. Here, we randomly shuffle the values and recalculate the difference in observed proportions across groups.\n",
    "\n",
    "We can use the same functions as above by passing in a list of Booleans (True/False), since computing the mean of a list of Booleans is the same as calculating the proportion of True values. Python treats True as 1 and False as 0."
   ]
  },
  {
   "cell_type": "code",
   "execution_count": 15,
   "metadata": {},
   "outputs": [],
   "source": [
    "squirrels = pd.read_csv('../data/2018_Central_Park_Squirrel_Census_-_Squirrel_Data.csv')"
   ]
  },
  {
   "cell_type": "code",
   "execution_count": 17,
   "metadata": {},
   "outputs": [
    {
     "name": "stderr",
     "output_type": "stream",
     "text": [
      "/home/michael/anaconda3/lib/python3.7/site-packages/ipykernel_launcher.py:3: SettingWithCopyWarning: \n",
      "A value is trying to be set on a copy of a slice from a DataFrame.\n",
      "Try using .loc[row_indexer,col_indexer] = value instead\n",
      "\n",
      "See the caveats in the documentation: http://pandas.pydata.org/pandas-docs/stable/user_guide/indexing.html#returning-a-view-versus-a-copy\n",
      "  This is separate from the ipykernel package so we can avoid doing imports until\n"
     ]
    }
   ],
   "source": [
    "squirrels = squirrels[~squirrels['Primary Fur Color'].isna()]\n",
    "\n",
    "squirrels['Black'] = squirrels['Primary Fur Color'] == 'Black'"
   ]
  },
  {
   "cell_type": "code",
   "execution_count": 20,
   "metadata": {},
   "outputs": [
    {
     "data": {
      "text/plain": [
       "0.08799200257544179"
      ]
     },
     "execution_count": 20,
     "metadata": {},
     "output_type": "execute_result"
    }
   ],
   "source": [
    "observed_difference = np.mean(squirrels[squirrels['Black'] == True]['Runs from']) - np.mean(squirrels[squirrels['Black'] == False]['Runs from'])\n",
    "observed_difference"
   ]
  },
  {
   "cell_type": "markdown",
   "metadata": {},
   "source": [
    "So in our data, we say that the proportion on black squirrels that ran away from humans was 8.8% higher than the proportion of non-black squirrels that ran away from humans."
   ]
  },
  {
   "cell_type": "code",
   "execution_count": 21,
   "metadata": {},
   "outputs": [],
   "source": [
    "num_black = len(squirrels[squirrels['Black'] == True])\n",
    "run = squirrels['Runs from'].to_list()"
   ]
  },
  {
   "cell_type": "code",
   "execution_count": 22,
   "metadata": {},
   "outputs": [],
   "source": [
    "permutation_differences = generate_permutations(values = run, label_count = num_black)"
   ]
  },
  {
   "cell_type": "code",
   "execution_count": 23,
   "metadata": {},
   "outputs": [
    {
     "data": {
      "image/png": "[encoded data removed]",
      "text/plain": [
       "<Figure size 432x288 with 1 Axes>"
      ]
     },
     "metadata": {
      "needs_background": "light"
     },
     "output_type": "display_data"
    }
   ],
   "source": [
    "permutation_test_plot(permutation_differences, observed_difference, alternative = 'larger')"
   ]
  },
  {
   "cell_type": "code",
   "execution_count": 25,
   "metadata": {},
   "outputs": [
    {
     "data": {
      "text/plain": [
       "0.0244"
      ]
     },
     "execution_count": 25,
     "metadata": {},
     "output_type": "execute_result"
    }
   ],
   "source": [
    "permutation_test_p(permutation_differences, observed_difference, alternative = 'larger')"
   ]
  },
  {
   "cell_type": "markdown",
   "metadata": {},
   "source": [
    "Here, we would only see at least as an extreme an observation 2.4% of the time if there was no difference between black squirrels and other squirrels. Therefore, we reject the null hypothesis and conclude that there black squirrels are more likely to run away."
   ]
  },
  {
   "cell_type": "code",
   "execution_count": null,
   "metadata": {},
   "outputs": [],
   "source": []
  }
 ],
 "metadata": {
  "kernelspec": {
   "display_name": "Python 3",
   "language": "python",
   "name": "python3"
  },
  "language_info": {
   "codemirror_mode": {
    "name": "ipython",
    "version": 3
   },
   "file_extension": ".py",
   "mimetype": "text/x-python",
   "name": "python",
   "nbconvert_exporter": "python",
   "pygments_lexer": "ipython3",
   "version": "3.7.4"
  }
 },
 "nbformat": 4,
 "nbformat_minor": 2
}
