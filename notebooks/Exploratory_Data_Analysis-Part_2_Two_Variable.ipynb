{
 "cells": [
  {
   "cell_type": "markdown",
   "metadata": {},
   "source": [
    "# EDA Part 2: Looking at Two-Variables"
   ]
  },
  {
   "cell_type": "markdown",
   "metadata": {},
   "source": [
    "Concepts:\n",
    "\n",
    "Scatterplots\n",
    "Covariance + Correlation (Linear and Rank???)"
   ]
  },
  {
   "cell_type": "markdown",
   "metadata": {},
   "source": [
    "# Scatterplots\n",
    "\n",
    "So far, we have looked at exploring one variable at a time through summary statistics, histograms, boxplots, etc.\n",
    "\n",
    "What do we do when we have more than one numeric variable. We can start by visualizing the relationship between the variables through a scatterplot."
   ]
  },
  {
   "cell_type": "code",
   "execution_count": 3,
   "metadata": {},
   "outputs": [],
   "source": [
    "import pandas as pd\n",
    "import matplotlib.pyplot as plt\n",
    "%matplotlib inline"
   ]
  },
  {
   "cell_type": "code",
   "execution_count": 6,
   "metadata": {},
   "outputs": [],
   "source": [
    "mlb = pd.read_csv('../data/mlb_salaries.csv')"
   ]
  },
  {
   "cell_type": "code",
   "execution_count": 7,
   "metadata": {},
   "outputs": [
    {
     "data": {
      "text/html": [
       "<div>\n",
       "<style scoped>\n",
       "    .dataframe tbody tr th:only-of-type {\n",
       "        vertical-align: middle;\n",
       "    }\n",
       "\n",
       "    .dataframe tbody tr th {\n",
       "        vertical-align: top;\n",
       "    }\n",
       "\n",
       "    .dataframe thead th {\n",
       "        text-align: right;\n",
       "    }\n",
       "</style>\n",
       "<table border=\"1\" class=\"dataframe\">\n",
       "  <thead>\n",
       "    <tr style=\"text-align: right;\">\n",
       "      <th></th>\n",
       "      <th>team</th>\n",
       "      <th>payroll</th>\n",
       "      <th>wins</th>\n",
       "    </tr>\n",
       "  </thead>\n",
       "  <tbody>\n",
       "    <tr>\n",
       "      <th>0</th>\n",
       "      <td>Arizona Diamondbacks</td>\n",
       "      <td>96777231</td>\n",
       "      <td>85</td>\n",
       "    </tr>\n",
       "    <tr>\n",
       "      <th>1</th>\n",
       "      <td>Atlanta Braves</td>\n",
       "      <td>89551043</td>\n",
       "      <td>97</td>\n",
       "    </tr>\n",
       "    <tr>\n",
       "      <th>2</th>\n",
       "      <td>Baltimore Orioles</td>\n",
       "      <td>61124882</td>\n",
       "      <td>54</td>\n",
       "    </tr>\n",
       "    <tr>\n",
       "      <th>3</th>\n",
       "      <td>Boston Red Sox</td>\n",
       "      <td>187232500</td>\n",
       "      <td>84</td>\n",
       "    </tr>\n",
       "    <tr>\n",
       "      <th>4</th>\n",
       "      <td>Chicago Cubs</td>\n",
       "      <td>194081714</td>\n",
       "      <td>84</td>\n",
       "    </tr>\n",
       "  </tbody>\n",
       "</table>\n",
       "</div>"
      ],
      "text/plain": [
       "                   team    payroll  wins\n",
       "0  Arizona Diamondbacks   96777231    85\n",
       "1        Atlanta Braves   89551043    97\n",
       "2     Baltimore Orioles   61124882    54\n",
       "3        Boston Red Sox  187232500    84\n",
       "4          Chicago Cubs  194081714    84"
      ]
     },
     "execution_count": 7,
     "metadata": {},
     "output_type": "execute_result"
    }
   ],
   "source": [
    "mlb.head()"
   ]
  },
  {
   "cell_type": "markdown",
   "metadata": {},
   "source": [
    "This dataframe contains the total team payroll and the number of wins for each Major League Baseball team during the 2019 season. We can start exploring this dataset by examining each of the variables one at a time."
   ]
  },
  {
   "cell_type": "code",
   "execution_count": 8,
   "metadata": {},
   "outputs": [
    {
     "data": {
      "text/html": [
       "<div>\n",
       "<style scoped>\n",
       "    .dataframe tbody tr th:only-of-type {\n",
       "        vertical-align: middle;\n",
       "    }\n",
       "\n",
       "    .dataframe tbody tr th {\n",
       "        vertical-align: top;\n",
       "    }\n",
       "\n",
       "    .dataframe thead th {\n",
       "        text-align: right;\n",
       "    }\n",
       "</style>\n",
       "<table border=\"1\" class=\"dataframe\">\n",
       "  <thead>\n",
       "    <tr style=\"text-align: right;\">\n",
       "      <th></th>\n",
       "      <th>payroll</th>\n",
       "      <th>wins</th>\n",
       "    </tr>\n",
       "  </thead>\n",
       "  <tbody>\n",
       "    <tr>\n",
       "      <th>count</th>\n",
       "      <td>3.000000e+01</td>\n",
       "      <td>30.000000</td>\n",
       "    </tr>\n",
       "    <tr>\n",
       "      <th>mean</th>\n",
       "      <td>1.054060e+08</td>\n",
       "      <td>80.966667</td>\n",
       "    </tr>\n",
       "    <tr>\n",
       "      <th>std</th>\n",
       "      <td>3.736332e+07</td>\n",
       "      <td>15.899433</td>\n",
       "    </tr>\n",
       "    <tr>\n",
       "      <th>min</th>\n",
       "      <td>4.908473e+07</td>\n",
       "      <td>47.000000</td>\n",
       "    </tr>\n",
       "    <tr>\n",
       "      <th>25%</th>\n",
       "      <td>8.390430e+07</td>\n",
       "      <td>70.250000</td>\n",
       "    </tr>\n",
       "    <tr>\n",
       "      <th>50%</th>\n",
       "      <td>1.004301e+08</td>\n",
       "      <td>82.500000</td>\n",
       "    </tr>\n",
       "    <tr>\n",
       "      <th>75%</th>\n",
       "      <td>1.253203e+08</td>\n",
       "      <td>93.000000</td>\n",
       "    </tr>\n",
       "    <tr>\n",
       "      <th>max</th>\n",
       "      <td>1.940817e+08</td>\n",
       "      <td>107.000000</td>\n",
       "    </tr>\n",
       "  </tbody>\n",
       "</table>\n",
       "</div>"
      ],
      "text/plain": [
       "            payroll        wins\n",
       "count  3.000000e+01   30.000000\n",
       "mean   1.054060e+08   80.966667\n",
       "std    3.736332e+07   15.899433\n",
       "min    4.908473e+07   47.000000\n",
       "25%    8.390430e+07   70.250000\n",
       "50%    1.004301e+08   82.500000\n",
       "75%    1.253203e+08   93.000000\n",
       "max    1.940817e+08  107.000000"
      ]
     },
     "execution_count": 8,
     "metadata": {},
     "output_type": "execute_result"
    }
   ],
   "source": [
    "mlb.describe()"
   ]
  },
  {
   "cell_type": "markdown",
   "metadata": {},
   "source": [
    "We can see that payrolls range from about a \\$50 million to almost \\$200 million, with an average payroll of about \\$100 million."
   ]
  },
  {
   "cell_type": "code",
   "execution_count": 10,
   "metadata": {},
   "outputs": [
    {
     "data": {
      "image/png": "[encoded data removed]",
      "text/plain": [
       "<Figure size 432x288 with 1 Axes>"
      ]
     },
     "metadata": {
      "needs_background": "light"
     },
     "output_type": "display_data"
    }
   ],
   "source": [
    "mlb.payroll.hist();"
   ]
  },
  {
   "cell_type": "code",
   "execution_count": 12,
   "metadata": {},
   "outputs": [
    {
     "data": {
      "image/png": "[encoded data removed]",
      "text/plain": [
       "<Figure size 432x288 with 1 Axes>"
      ]
     },
     "metadata": {
      "needs_background": "light"
     },
     "output_type": "display_data"
    }
   ],
   "source": [
    "mlb.wins.hist();"
   ]
  },
  {
   "cell_type": "markdown",
   "metadata": {},
   "source": [
    "We can look at these variables one at a time, but it might be more interesting to understand how they vary together. Do teams with higher payrolls tend to have more wins?"
   ]
  },
  {
   "cell_type": "code",
   "execution_count": 16,
   "metadata": {},
   "outputs": [
    {
     "data": {
      "image/png": "[encoded data removed]",
      "text/plain": [
       "<Figure size 432x288 with 1 Axes>"
      ]
     },
     "metadata": {
      "needs_background": "light"
     },
     "output_type": "display_data"
    }
   ],
   "source": [
    "mlb.plot(kind = 'scatter', x = 'payroll', y = 'wins')\n",
    "plt.title('MLB Wins vs. Payroll, 2019');"
   ]
  },
  {
   "cell_type": "markdown",
   "metadata": {},
   "source": [
    "From the scatterplot, if you squint just right, you can make out a very slight upward trend, meaning that as payrolls increase, the number of wins tends to increase as well. But, this is not universally true. We have a team with the lowest payroll winning almost 100 games, and two teams with very large payrolls only winning about 84 games.\n",
    "\n",
    "We'll now look at two ways to quantify the strength of a relationship between two variables."
   ]
  },
  {
   "cell_type": "markdown",
   "metadata": {},
   "source": [
    "## Covariance\n",
    "\n",
    "For a dataset $\\{(x_1, y_1), (x_2, y_2), \\ldots, (x_n, y_n)\\}$ we define the **covariance** as\n",
    "\n",
    "$$cov(X, Y) = \\frac{\\sum_{i=1}^n (x_i - \\bar{x})(y_i - \\bar{y})}{n-1}$$\n",
    "\n",
    "where $\\bar{x}$ is the mean of the $x_i$'s and $\\bar{y}$ is the mean of the $y_i$'s."
   ]
  },
  {
   "cell_type": "markdown",
   "metadata": {},
   "source": [
    "To calculate the covariance of our dataset, we can use the `cov` function from `numpy`. This will return the *covariance matrix*, which shows the variance of each variable separately along with the covariance between variables."
   ]
  },
  {
   "cell_type": "code",
   "execution_count": 31,
   "metadata": {},
   "outputs": [],
   "source": [
    "import numpy as np"
   ]
  },
  {
   "cell_type": "code",
   "execution_count": 32,
   "metadata": {},
   "outputs": [
    {
     "data": {
      "text/plain": [
       "array([[1.39601801e+15, 1.74793864e+08],\n",
       "       [1.74793864e+08, 2.52791954e+02]])"
      ]
     },
     "execution_count": 32,
     "metadata": {},
     "output_type": "execute_result"
    }
   ],
   "source": [
    "np.cov(mlb.payroll, mlb.wins)"
   ]
  },
  {
   "cell_type": "markdown",
   "metadata": {},
   "source": [
    "The covariance is what is located in the upper right and the lower left entries.\n",
    "\n",
    "So what does this measure?\n",
    "\n",
    "Let's look at our plot of payrolls again."
   ]
  },
  {
   "cell_type": "code",
   "execution_count": 21,
   "metadata": {},
   "outputs": [],
   "source": [
    "payroll_mean = mlb.payroll.mean()\n",
    "wins_mean = mlb.wins.mean()"
   ]
  },
  {
   "cell_type": "code",
   "execution_count": 29,
   "metadata": {},
   "outputs": [
    {
     "data": {
      "image/png": "[encoded data removed]",
      "text/plain": [
       "<Figure size 576x432 with 1 Axes>"
      ]
     },
     "metadata": {
      "needs_background": "light"
     },
     "output_type": "display_data"
    }
   ],
   "source": [
    "fig, ax = plt.subplots(figsize = (8,6))\n",
    "mlb.plot(kind = 'scatter', x = 'payroll', y = 'wins', ax = ax)\n",
    "plt.axvline(x = payroll_mean, color = 'black')\n",
    "plt.axhline(y = wins_mean, color = 'black')\n",
    "plt.title('MLB Wins vs. Payroll, 2019');"
   ]
  },
  {
   "cell_type": "markdown",
   "metadata": {},
   "source": [
    "Points in the upper left quadrant have lower than average payroll and higher than average number of wins. Thus, $(x_i - \\bar{x})(y_i - \\bar{y})$ will be a negative number times a positive number, so negative overall.\n",
    "\n",
    "Points in the lower left quadrant have lower than average payroll and lower than average number of wins. Thus, $(x_i - \\bar{x})(y_i - \\bar{y})$ will be a positive number times a positive number, so positive overall.\n",
    "\n",
    "Similarly, for points in the upper right quadrant, $(x_i - \\bar{x})(y_i - \\bar{y})$ will be positive, and for points in the lower right, $(x_i - \\bar{x})(y_i - \\bar{y})$ will be negative.\n",
    "\n",
    "If we have more points in the lower left and upper right, when finding the covariance, we will be adding a lot of positive numbers, so the outcome is likely to be positive.\n",
    "\n",
    "If we have more points in the upper left and lower right, when finding the covariance, we will be adding a lot of negative numbers, so the outcome is likely to be negative.\n",
    "\n",
    "These two scenarios correspond to a positive trend and a negative trend, respectively.\n",
    "\n",
    "On the other hand, if points are roughly evenly spread around the four quadrants (no trend), then when finding the covariance, we will be adding a lot of both positive and negative values, so overall, the covariance will be close to zero.\n",
    "\n",
    "Thus, by examining the sign and the magnitude of the covariance, we can get an idea of the existence or nonexistence of a trend in our data. But there is one major drawback, which is that the magnitude of $(x_i - \\bar{x})$ and $(y_i - \\bar{y})$ depend on the measurement scale of our variables. In this case, we are looking at millions of dollars on the one axis, and number of wins, which are in the ballpark of 50 to 110 on the other axis. So the differences corresponding to the salaries will far outweigh those for the number of wins.\n",
    "\n",
    "What would be better would be a way to standardize these differences, so that we get a unitless measure of trend. This is exactly what the correlation does."
   ]
  },
  {
   "cell_type": "markdown",
   "metadata": {},
   "source": [
    "## (Pearson) Correlation\n",
    "\n",
    "How can we normalize these differences? The most common way to do it is to convert it into units of standard deviations (by dividing the absolute differences by the standard deviation).\n",
    "\n",
    "$$ r = \\frac{\\sum_{i=1}^n \\frac{(x_i - \\bar{x})}{s_X}\\frac{(y_i - \\bar{y})}{s_Y}}{n-1} = \\frac{cov(X,Y)}{s_X \\cdot s_Y} $$"
   ]
  },
  {
   "cell_type": "markdown",
   "metadata": {},
   "source": [
    "Again, to find the correlation coefficient, we can use `numpy`."
   ]
  },
  {
   "cell_type": "code",
   "execution_count": 46,
   "metadata": {},
   "outputs": [
    {
     "data": {
      "text/plain": [
       "array([[1.       , 0.2942382],\n",
       "       [0.2942382, 1.       ]])"
      ]
     },
     "execution_count": 46,
     "metadata": {},
     "output_type": "execute_result"
    }
   ],
   "source": [
    "np.corrcoef(mlb.payroll, mlb.wins)"
   ]
  },
  {
   "cell_type": "markdown",
   "metadata": {},
   "source": [
    "This shows that there the correlation between payroll and number of wins is roughly 0.294.\n",
    "\n",
    "TODO: Add rule of thumb for correlation here.\n",
    "\n",
    "Note: The pearson correlation measures the strength of a *linear* relationship between variables. That is, how strongly they follow a line. If we want to see this trendline, we can use the polyfit method from numpy. We'll learn much more about this trendline when we talk about linear regression later in the course."
   ]
  },
  {
   "cell_type": "code",
   "execution_count": 53,
   "metadata": {},
   "outputs": [
    {
     "data": {
      "image/png": "[encoded data removed]",
      "text/plain": [
       "<Figure size 576x432 with 1 Axes>"
      ]
     },
     "metadata": {
      "needs_background": "light"
     },
     "output_type": "display_data"
    }
   ],
   "source": [
    "fig, ax = plt.subplots(figsize = (8,6))\n",
    "mlb.plot(kind = 'scatter', x = 'payroll', y = 'wins', ax = ax)\n",
    "\n",
    "x = np.linspace(50000000, 200000000, 100)\n",
    "z = np.polyfit(mlb.payroll, mlb.wins, 1)\n",
    "p = np.poly1d(z)\n",
    "plt.plot(x,p(x),\"r--\")\n",
    "\n",
    "plt.title('MLB Wins vs. Payroll, 2019');"
   ]
  },
  {
   "cell_type": "markdown",
   "metadata": {},
   "source": [
    "TODO maybe: Add Spearman correlation coefficient."
   ]
  },
  {
   "cell_type": "code",
   "execution_count": null,
   "metadata": {},
   "outputs": [],
   "source": []
  }
 ],
 "metadata": {
  "kernelspec": {
   "display_name": "Python 3",
   "language": "python",
   "name": "python3"
  },
  "language_info": {
   "codemirror_mode": {
    "name": "ipython",
    "version": 3
   },
   "file_extension": ".py",
   "mimetype": "text/x-python",
   "name": "python",
   "nbconvert_exporter": "python",
   "pygments_lexer": "ipython3",
   "version": "3.7.4"
  }
 },
 "nbformat": 4,
 "nbformat_minor": 2
}
