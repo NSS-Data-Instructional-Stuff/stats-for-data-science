{
 "cells": [
  {
   "cell_type": "markdown",
   "metadata": {},
   "source": [
    "# Hypothesis Testing"
   ]
  },
  {
   "cell_type": "markdown",
   "metadata": {},
   "source": [
    "**Hypothesis Testing Steps:**\n",
    "\n",
    "1. State null and alternative hypotheses and significance level.\n",
    "2. Assume that the null hypothesis is true, and choose  a statistic to calculate based on your observed values.\n",
    "3. Determine/estimate how your chosen statistic is distributed under the null hypothesis\n",
    "4. Find the $p$-value: how often would you see a sample statistic as extreme or more extreme than the one you observed?\n",
    "5. If $p$-value is smaller than the significance level, reject the null hypothesis. Otherwise, do not reject the null hypothesis."
   ]
  },
  {
   "cell_type": "markdown",
   "metadata": {},
   "source": [
    "## Hypothesis Testing for a Single Mean\n",
    "\n",
    "The American Time Use Survey (ATUS) measures the amount of time people spend doing various activities, such as paid work, childcare, volunteering, and socializing.\n",
    "\n",
    "Based on this survey, Americans reported that on average, they spend 527 minutes sleeping.\n",
    "\n",
    "You suspect that unemployed people will spend more time than the average person sleeping. To try and determine if this is true, you have a sample of the amount of time spent sleeping as reported by 20 unemployed participants contained in the `time_use_sample.csv` file."
   ]
  },
  {
   "cell_type": "markdown",
   "metadata": {},
   "source": [
    "**Null and alternative hypotheses:**\n",
    "\n",
    "Null hypothesis: unemployed people sleep the same amount on average as the general population.\n",
    "\n",
    "$H_0: \\mu = 527$\n",
    "\n",
    "Alternative hypothesis, unemployed people sleep more on average than the general population.\n",
    "\n",
    "$H_1: \\mu > 527$\n",
    "\n",
    "This is a **one-tailed** test, since you are only interested in testing is the average is greater than 527, rather than if it is not equal to 527.\n",
    "\n",
    "Also, you need to specify our significance level. Here, you can use the standard significance level of 0.05."
   ]
  },
  {
   "cell_type": "markdown",
   "metadata": {},
   "source": [
    "Now, let's look at the data."
   ]
  },
  {
   "cell_type": "code",
   "execution_count": 1,
   "metadata": {},
   "outputs": [],
   "source": [
    "import pandas as pd\n",
    "import numpy as np\n",
    "import matplotlib.pyplot as plt\n",
    "%matplotlib inline"
   ]
  },
  {
   "cell_type": "code",
   "execution_count": 2,
   "metadata": {},
   "outputs": [],
   "source": [
    "time_use_sample = pd.read_csv('../data/time_use_sample.csv')"
   ]
  },
  {
   "cell_type": "code",
   "execution_count": 3,
   "metadata": {},
   "outputs": [
    {
     "data": {
      "text/html": [
       "<div>\n",
       "<style scoped>\n",
       "    .dataframe tbody tr th:only-of-type {\n",
       "        vertical-align: middle;\n",
       "    }\n",
       "\n",
       "    .dataframe tbody tr th {\n",
       "        vertical-align: top;\n",
       "    }\n",
       "\n",
       "    .dataframe thead th {\n",
       "        text-align: right;\n",
       "    }\n",
       "</style>\n",
       "<table border=\"1\" class=\"dataframe\">\n",
       "  <thead>\n",
       "    <tr style=\"text-align: right;\">\n",
       "      <th></th>\n",
       "      <th>participant_id</th>\n",
       "      <th>minutes_spent_sleeping</th>\n",
       "    </tr>\n",
       "  </thead>\n",
       "  <tbody>\n",
       "    <tr>\n",
       "      <th>0</th>\n",
       "      <td>20180101180006</td>\n",
       "      <td>480</td>\n",
       "    </tr>\n",
       "    <tr>\n",
       "      <th>1</th>\n",
       "      <td>20180101180021</td>\n",
       "      <td>450</td>\n",
       "    </tr>\n",
       "    <tr>\n",
       "      <th>2</th>\n",
       "      <td>20180101180025</td>\n",
       "      <td>845</td>\n",
       "    </tr>\n",
       "    <tr>\n",
       "      <th>3</th>\n",
       "      <td>20180101180054</td>\n",
       "      <td>615</td>\n",
       "    </tr>\n",
       "    <tr>\n",
       "      <th>4</th>\n",
       "      <td>20180101180096</td>\n",
       "      <td>480</td>\n",
       "    </tr>\n",
       "  </tbody>\n",
       "</table>\n",
       "</div>"
      ],
      "text/plain": [
       "   participant_id  minutes_spent_sleeping\n",
       "0  20180101180006                     480\n",
       "1  20180101180021                     450\n",
       "2  20180101180025                     845\n",
       "3  20180101180054                     615\n",
       "4  20180101180096                     480"
      ]
     },
     "execution_count": 3,
     "metadata": {},
     "output_type": "execute_result"
    }
   ],
   "source": [
    "time_use_sample.head()"
   ]
  },
  {
   "cell_type": "markdown",
   "metadata": {},
   "source": [
    "Let's take a look at the distribution of reported sleeping times."
   ]
  },
  {
   "cell_type": "code",
   "execution_count": 4,
   "metadata": {},
   "outputs": [
    {
     "data": {
      "image/png": "[encoded data removed]",
      "text/plain": [
       "<Figure size 432x288 with 1 Axes>"
      ]
     },
     "metadata": {
      "needs_background": "light"
     },
     "output_type": "display_data"
    }
   ],
   "source": [
    "time_use_sample.minutes_spent_sleeping.hist();"
   ]
  },
  {
   "cell_type": "code",
   "execution_count": 5,
   "metadata": {},
   "outputs": [
    {
     "data": {
      "text/plain": [
       "count      20.00000\n",
       "mean      582.50000\n",
       "std       176.33864\n",
       "min       350.00000\n",
       "25%       480.00000\n",
       "50%       540.00000\n",
       "75%       588.75000\n",
       "max      1085.00000\n",
       "Name: minutes_spent_sleeping, dtype: float64"
      ]
     },
     "execution_count": 5,
     "metadata": {},
     "output_type": "execute_result"
    }
   ],
   "source": [
    "time_use_sample['minutes_spent_sleeping'].describe()"
   ]
  },
  {
   "cell_type": "markdown",
   "metadata": {},
   "source": [
    "On average, in this sample, people reported sleeping for an average of 582.5 minutes, but there was quite a bit of variability, with the standard deviation being 176 minutes."
   ]
  },
  {
   "cell_type": "markdown",
   "metadata": {},
   "source": [
    "To run the hypothesis test, you need to quantify how unusual the observed values would be if the null hypothesis were true. You can do this by looking at what the **sampling distribution of the mean** would be, under the null hypothesis. Recall from the confidence intervals section that, as long as the population is approximately normal, or you have a large enough sample size, you can use a $t$-distribution to understand the sampling distribution of the mean.\n",
    "\n",
    "Specifically, \n",
    "$$t = \\frac{\\bar{x} - \\mu}{s/\\sqrt{n}}$$ \n",
    "\n",
    "follows a $t$-distribution with $n-1$ degrees of freedom, where $n$ is the sample size. Here $t$ is your **test statistic** and will be the basis for determining whether or not to reject the null hypothesis.\n",
    "\n",
    "The sample distribution in this case is slightly skewed to the right, but looks close enough to normal that you should be okay in using a $t$-test."
   ]
  },
  {
   "cell_type": "code",
   "execution_count": 6,
   "metadata": {},
   "outputs": [],
   "source": [
    "from scipy.stats import t"
   ]
  },
  {
   "cell_type": "markdown",
   "metadata": {},
   "source": [
    "Now, calculate the test statistic so you can see where it lands on this plot."
   ]
  },
  {
   "cell_type": "code",
   "execution_count": 7,
   "metadata": {},
   "outputs": [
    {
     "name": "stdout",
     "output_type": "stream",
     "text": [
      "1.407539188071736\n"
     ]
    }
   ],
   "source": [
    "mu = 527\n",
    "x_bar = time_use_sample.minutes_spent_sleeping.mean()\n",
    "s = time_use_sample.minutes_spent_sleeping.std()\n",
    "\n",
    "t_value = (x_bar - 527)/(s / np.sqrt(len(time_use_sample)))\n",
    "print(t_value)"
   ]
  },
  {
   "cell_type": "markdown",
   "metadata": {},
   "source": [
    "What you see is that the observed value is 1.407. Just how unusual would this be, if the null hypothesis were true? First, let's see where the test statistic lands on the sampling distribution of the mean. You can do this using the hypot_plot_mean function imported from nssstats.plots."
   ]
  },
  {
   "cell_type": "code",
   "execution_count": 8,
   "metadata": {},
   "outputs": [],
   "source": [
    "from nssstats.plots import hypot_plot_mean "
   ]
  },
  {
   "cell_type": "code",
   "execution_count": 9,
   "metadata": {},
   "outputs": [
    {
     "name": "stderr",
     "output_type": "stream",
     "text": [
      "/home/michael/Documents/NSS_Work/stats-for-data-science/notebooks/nssstats/plots.py:101: UserWarning: color is redundantly defined by the 'color' keyword argument and the fmt string \"r-\" (-> color='r'). The keyword argument will take precedence.\n",
      "  ax.plot(x, t.pdf(x, df = df),'r-', lw=3, alpha=1, label='norm pdf', color = 'black')\n"
     ]
    },
    {
     "data": {
      "image/png": "[encoded data removed]",
      "text/plain": [
       "<Figure size 576x288 with 1 Axes>"
      ]
     },
     "metadata": {},
     "output_type": "display_data"
    }
   ],
   "source": [
    "hypot_plot_mean(time_use_sample.minutes_spent_sleeping, popmean=mu, type = 'right', area = False)"
   ]
  },
  {
   "cell_type": "markdown",
   "metadata": {},
   "source": [
    "Recall that the $p$-value quantifies how unusual an observation would be if the null hypothesis were true. That is, how likely it would be to see a sample mean as extreme or more extreme than the observation. Since you are doing a one-tailed test, more extreme would correspond to a sample test statistic to the right of our observed test statistic. How likely is that? The likelihood is equal to the area under the curve to the right of the observed test statistic.\n",
    "\n",
    "You can find that area using the cumulative distribution function for the $t$ distribution with 19 degrees of freedom (one fewer than the sample size). Since you are calculating area to the right, you need to use the trick where you subtract the cdf value from 1."
   ]
  },
  {
   "cell_type": "code",
   "execution_count": 10,
   "metadata": {},
   "outputs": [
    {
     "data": {
      "text/plain": [
       "0.08770886698597757"
      ]
     },
     "execution_count": 10,
     "metadata": {},
     "output_type": "execute_result"
    }
   ],
   "source": [
    "1 - t.cdf(t_value, df = len(time_use_sample) - 1)"
   ]
  },
  {
   "cell_type": "code",
   "execution_count": 11,
   "metadata": {},
   "outputs": [
    {
     "name": "stderr",
     "output_type": "stream",
     "text": [
      "/home/michael/Documents/NSS_Work/stats-for-data-science/notebooks/nssstats/plots.py:101: UserWarning: color is redundantly defined by the 'color' keyword argument and the fmt string \"r-\" (-> color='r'). The keyword argument will take precedence.\n",
      "  ax.plot(x, t.pdf(x, df = df),'r-', lw=3, alpha=1, label='norm pdf', color = 'black')\n"
     ]
    },
    {
     "data": {
      "image/png": "[encoded data removed]",
      "text/plain": [
       "<Figure size 576x288 with 1 Axes>"
      ]
     },
     "metadata": {},
     "output_type": "display_data"
    }
   ],
   "source": [
    "hypot_plot_mean(time_use_sample.minutes_spent_sleeping, popmean=527, type = 'right')"
   ]
  },
  {
   "cell_type": "markdown",
   "metadata": {},
   "source": [
    "What you can see is that, if the null hypothesis is true, you would see something at least as extreme as our sample mean almost 9% of the time. This is not less than the threshold of 5%, so you should not reject the null hypothesis. You do not have sufficient evidence to conslude that unemployed people sleep more on average than the general population. \n",
    "\n",
    "Above, you manually calculated the test statistic and $p$-value, but in practice you can use the `ttest_1samp` function from scipy stats."
   ]
  },
  {
   "cell_type": "code",
   "execution_count": 12,
   "metadata": {},
   "outputs": [],
   "source": [
    "from scipy.stats import ttest_1samp"
   ]
  },
  {
   "cell_type": "markdown",
   "metadata": {},
   "source": [
    "To use this function, you need to pass in the column containing the data you want to test. In this case, that is `time_use_sample.minutes_spent_sleeping`. You also need to pass in the population mean under the null hypothesis. In this case, the hypothesized mean is 527.\n",
    "\n",
    "Warning - the function `ttest_1samp` does only two-sided tests. This means that you are checking whether the mean is not equal to the proposed population mean. By symmetry of $t$-distributions, you can adjust by cutting the reported $p$-value in half."
   ]
  },
  {
   "cell_type": "code",
   "execution_count": 13,
   "metadata": {},
   "outputs": [
    {
     "data": {
      "text/plain": [
       "Ttest_1sampResult(statistic=1.4075391880717358, pvalue=0.1754177339719552)"
      ]
     },
     "execution_count": 13,
     "metadata": {},
     "output_type": "execute_result"
    }
   ],
   "source": [
    "t_result = ttest_1samp(time_use_sample.minutes_spent_sleeping, popmean = 527)\n",
    "t_result"
   ]
  },
  {
   "cell_type": "markdown",
   "metadata": {},
   "source": [
    "What does this mean? Well, first you must divide the reported $p$-value in half since you are conducting a one-sided test."
   ]
  },
  {
   "cell_type": "code",
   "execution_count": 14,
   "metadata": {},
   "outputs": [
    {
     "data": {
      "text/plain": [
       "0.0877088669859776"
      ]
     },
     "execution_count": 14,
     "metadata": {},
     "output_type": "execute_result"
    }
   ],
   "source": [
    "t_result.pvalue / 2"
   ]
  },
  {
   "cell_type": "markdown",
   "metadata": {},
   "source": [
    "Based on the results of this test, you see that, even if the true mean is only 527, you will see a sample mean of at least 582.5 8.77% of the time. \n",
    "\n",
    "The standard is to only reject the null hypothesis if there is less than a 5% chance of the sample mean being as large as it was. In this case, you do not have enough evidence to reject the null hypothesis and conclude that unemployed people get more sleep than the general population."
   ]
  },
  {
   "cell_type": "markdown",
   "metadata": {},
   "source": [
    "Let's try to understand why, even though there was such large difference (almost an hour), you were not able to conclude that this difference really exists. It has to do with two factors:\n",
    "\n",
    "* First, you had a very large sample standard deviation (120 minutes). When there is a lot of variability in the population, you get a wider sampling distribution, meaning that is it more likely for a given sample mean to be much different from the population mean.\n",
    "\n",
    "* Second, you have a small sample size. The sampling distribution of the mean's variance is inversely proportional to the sample size, so a small sample size results in a large variance in the sampling distribution, and hence, more likelihood of sample means far from the population mean."
   ]
  },
  {
   "cell_type": "markdown",
   "metadata": {},
   "source": [
    "Let's repeat this analysis, but this time with a larger sample size."
   ]
  },
  {
   "cell_type": "code",
   "execution_count": 15,
   "metadata": {},
   "outputs": [],
   "source": [
    "time_use_sample_larger = pd.read_csv('../data/time_use_sample_b.csv')"
   ]
  },
  {
   "cell_type": "code",
   "execution_count": 16,
   "metadata": {},
   "outputs": [
    {
     "data": {
      "text/plain": [
       "count    1000.000000\n",
       "mean      539.354000\n",
       "std       149.885391\n",
       "min         0.000000\n",
       "25%       450.000000\n",
       "50%       540.000000\n",
       "75%       615.000000\n",
       "max      1350.000000\n",
       "Name: minutes_spent_sleeping, dtype: float64"
      ]
     },
     "execution_count": 16,
     "metadata": {},
     "output_type": "execute_result"
    }
   ],
   "source": [
    "time_use_sample_larger.minutes_spent_sleeping.describe()"
   ]
  },
  {
   "cell_type": "code",
   "execution_count": 17,
   "metadata": {},
   "outputs": [
    {
     "data": {
      "image/png": "[encoded data removed]",
      "text/plain": [
       "<Figure size 432x288 with 1 Axes>"
      ]
     },
     "metadata": {
      "needs_background": "light"
     },
     "output_type": "display_data"
    }
   ],
   "source": [
    "time_use_sample_larger.minutes_spent_sleeping.hist();"
   ]
  },
  {
   "cell_type": "markdown",
   "metadata": {},
   "source": [
    "**Using same null and alternative hypotheses as above, use `ttest_1samp` to find the $p$-value and state your conclusion.**"
   ]
  },
  {
   "cell_type": "code",
   "execution_count": 18,
   "metadata": {},
   "outputs": [
    {
     "data": {
      "text/plain": [
       "Ttest_1sampResult(statistic=2.606443367042204, pvalue=0.009285015789459897)"
      ]
     },
     "execution_count": 18,
     "metadata": {},
     "output_type": "execute_result"
    }
   ],
   "source": [
    "t_result = ttest_1samp(time_use_sample_larger.minutes_spent_sleeping, popmean = 527)\n",
    "t_result"
   ]
  },
  {
   "cell_type": "code",
   "execution_count": 19,
   "metadata": {},
   "outputs": [
    {
     "data": {
      "text/plain": [
       "0.004642507894729949"
      ]
     },
     "execution_count": 19,
     "metadata": {},
     "output_type": "execute_result"
    }
   ],
   "source": [
    "t_result.pvalue / 2"
   ]
  },
  {
   "cell_type": "code",
   "execution_count": 20,
   "metadata": {},
   "outputs": [
    {
     "name": "stderr",
     "output_type": "stream",
     "text": [
      "/home/michael/Documents/NSS_Work/stats-for-data-science/notebooks/nssstats/plots.py:101: UserWarning: color is redundantly defined by the 'color' keyword argument and the fmt string \"r-\" (-> color='r'). The keyword argument will take precedence.\n",
      "  ax.plot(x, t.pdf(x, df = df),'r-', lw=3, alpha=1, label='norm pdf', color = 'black')\n"
     ]
    },
    {
     "data": {
      "image/png": "[encoded data removed]",
      "text/plain": [
       "<Figure size 576x288 with 1 Axes>"
      ]
     },
     "metadata": {},
     "output_type": "display_data"
    }
   ],
   "source": [
    "hypot_plot_mean(time_use_sample_larger.minutes_spent_sleeping, popmean = 527, type = 'right')"
   ]
  },
  {
   "cell_type": "markdown",
   "metadata": {},
   "source": [
    "This time, you still have a very large sample standard deviation, but the sample size is so large, that the sampling distribution will have much lower variance.\n",
    "\n",
    "The $p$-value that you get shows that, if unemployed people slept on average for 527 minutes, there would only be a 0.5% chance of observing a sample mean at least as large as the one that you observed.\n",
    "\n",
    "This means that you can reject the null hypothesis in favor of the alternative hypothesis."
   ]
  },
  {
   "cell_type": "markdown",
   "metadata": {},
   "source": [
    "## Hypothesis Testing for Difference in Means\n",
    "\n",
    "Oftentimes, you will be testing to see if there is a difference between two populations. For example, you might want to compare amount of time spent sleeping by the male population vs the female population from the American Time Use Survey. In this case, you won't specify a direction for the difference. That is, you won't test that males get more sleep than females or vice versa. You'll only test that there is some difference. This means that you are doing a two-tailed test."
   ]
  },
  {
   "cell_type": "markdown",
   "metadata": {},
   "source": [
    "Before bringing in the data, let's state the null and alternative hypotheses. Remember that the null hypothesis says that there is no difference between the population means. Let $\\mu_M$ represent the average time spent sleeping by males and $\\mu_F$ represent the average time spent sleeping by females.\n",
    "\n",
    "**Null Hypothesis:**\n",
    "\n",
    "$H_0: \\mu_M = \\mu_F$\n",
    "\n",
    "**Alternative Hypothesis:**\n",
    "\n",
    "$H_1: \\mu_M \\neq \\mu_F$\n",
    "\n",
    "Again, you can use the 0.05 significance level."
   ]
  },
  {
   "cell_type": "markdown",
   "metadata": {},
   "source": [
    "Now, you can bring in the data, which is a sample of 25 men and 25 women along with the amount of time they reported sleeping."
   ]
  },
  {
   "cell_type": "code",
   "execution_count": 21,
   "metadata": {},
   "outputs": [],
   "source": [
    "sleeping = pd.read_csv('../data/atus_sleeping.csv')"
   ]
  },
  {
   "cell_type": "markdown",
   "metadata": {},
   "source": [
    "First, look at some summary statistics."
   ]
  },
  {
   "cell_type": "code",
   "execution_count": 22,
   "metadata": {},
   "outputs": [
    {
     "data": {
      "text/html": [
       "<div>\n",
       "<style scoped>\n",
       "    .dataframe tbody tr th:only-of-type {\n",
       "        vertical-align: middle;\n",
       "    }\n",
       "\n",
       "    .dataframe tbody tr th {\n",
       "        vertical-align: top;\n",
       "    }\n",
       "\n",
       "    .dataframe thead th {\n",
       "        text-align: right;\n",
       "    }\n",
       "</style>\n",
       "<table border=\"1\" class=\"dataframe\">\n",
       "  <thead>\n",
       "    <tr style=\"text-align: right;\">\n",
       "      <th></th>\n",
       "      <th>count</th>\n",
       "      <th>mean</th>\n",
       "      <th>std</th>\n",
       "      <th>min</th>\n",
       "      <th>25%</th>\n",
       "      <th>50%</th>\n",
       "      <th>75%</th>\n",
       "      <th>max</th>\n",
       "    </tr>\n",
       "    <tr>\n",
       "      <th>sex</th>\n",
       "      <th></th>\n",
       "      <th></th>\n",
       "      <th></th>\n",
       "      <th></th>\n",
       "      <th></th>\n",
       "      <th></th>\n",
       "      <th></th>\n",
       "      <th></th>\n",
       "    </tr>\n",
       "  </thead>\n",
       "  <tbody>\n",
       "    <tr>\n",
       "      <th>Female</th>\n",
       "      <td>25.0</td>\n",
       "      <td>582.32</td>\n",
       "      <td>127.678868</td>\n",
       "      <td>330.0</td>\n",
       "      <td>500.0</td>\n",
       "      <td>584.0</td>\n",
       "      <td>660.0</td>\n",
       "      <td>955.0</td>\n",
       "    </tr>\n",
       "    <tr>\n",
       "      <th>Male</th>\n",
       "      <td>25.0</td>\n",
       "      <td>519.60</td>\n",
       "      <td>169.033774</td>\n",
       "      <td>270.0</td>\n",
       "      <td>420.0</td>\n",
       "      <td>485.0</td>\n",
       "      <td>629.0</td>\n",
       "      <td>1030.0</td>\n",
       "    </tr>\n",
       "  </tbody>\n",
       "</table>\n",
       "</div>"
      ],
      "text/plain": [
       "        count    mean         std    min    25%    50%    75%     max\n",
       "sex                                                                  \n",
       "Female   25.0  582.32  127.678868  330.0  500.0  584.0  660.0   955.0\n",
       "Male     25.0  519.60  169.033774  270.0  420.0  485.0  629.0  1030.0"
      ]
     },
     "execution_count": 22,
     "metadata": {},
     "output_type": "execute_result"
    }
   ],
   "source": [
    "sleeping.groupby('sex')['minutes_spent_sleeping'].describe()"
   ]
  },
  {
   "cell_type": "code",
   "execution_count": 23,
   "metadata": {},
   "outputs": [],
   "source": [
    "import seaborn as sns"
   ]
  },
  {
   "cell_type": "code",
   "execution_count": 24,
   "metadata": {},
   "outputs": [
    {
     "data": {
      "image/png": "[encoded data removed]",
      "text/plain": [
       "<Figure size 432x288 with 1 Axes>"
      ]
     },
     "metadata": {
      "needs_background": "light"
     },
     "output_type": "display_data"
    }
   ],
   "source": [
    "sns.boxplot(data = sleeping, x = 'sex', y = 'minutes_spent_sleeping');"
   ]
  },
  {
   "cell_type": "markdown",
   "metadata": {},
   "source": [
    "You also need to look at the data to ensure that it looks reasonably normally distributed."
   ]
  },
  {
   "cell_type": "code",
   "execution_count": 25,
   "metadata": {},
   "outputs": [
    {
     "data": {
      "image/png": "[encoded data removed]",
      "text/plain": [
       "<Figure size 432x288 with 1 Axes>"
      ]
     },
     "metadata": {
      "needs_background": "light"
     },
     "output_type": "display_data"
    }
   ],
   "source": [
    "sleeping.loc[sleeping['sex'] == 'Male', 'minutes_spent_sleeping'].hist();"
   ]
  },
  {
   "cell_type": "code",
   "execution_count": 26,
   "metadata": {},
   "outputs": [
    {
     "data": {
      "image/png": "[encoded data removed]",
      "text/plain": [
       "<Figure size 432x288 with 1 Axes>"
      ]
     },
     "metadata": {
      "needs_background": "light"
     },
     "output_type": "display_data"
    }
   ],
   "source": [
    "sleeping.loc[sleeping['sex'] == 'Female', 'minutes_spent_sleeping'].hist();"
   ]
  },
  {
   "cell_type": "markdown",
   "metadata": {},
   "source": [
    "There does appear to be a difference between males and females in terms of the amount of time spent sleeping. However, there is quite a bit of variability in the dataset, so you need to check to see how likely the difference that you observe is due simply to the randomness inherent in sampling."
   ]
  },
  {
   "cell_type": "markdown",
   "metadata": {},
   "source": [
    "The next thing you need is a test statistic and an understanding of how it is distributed. You can use a test statistic derived by Welch.\n",
    "\n",
    "**Fact:** If both populations are approximately normally distributed, then \n",
    "\n",
    "$$t = \\frac{\\bar{x}_1 - \\bar{x}_2}{s}$$ approximately follows a $t$ distribution. Here\n",
    "\n",
    "$$s = \\sqrt{\\frac{s_1^2}{N_1} + \\frac{s_2^2}{N_2}}$$\n",
    "\n",
    "where $s_1$ and $s_2$ are the sample standard deviations and $N_1$ and $N_2$ are the sample sizes.\n",
    "\n",
    "This $t$ distribution has degrees of freedom equal to \n",
    "$$df = \\left(\\frac{s_1^2}{n_1}+ \\frac{s_2^2}{n_2}\\right)^2 / \\left(\\frac{s_1^4}{n_1^2(n_1-1)} + \\frac{s_2^4}{n_2^2(n_2-1)} \\right)$$\n",
    "\n",
    "See http://www.dcscience.net/welch-1947.pdf if you really want to see details, but I don't recommend it.\n",
    "\n",
    "Luckily for us, this has been implemented in `scipy.stats` as `ttest_ind`."
   ]
  },
  {
   "cell_type": "code",
   "execution_count": 27,
   "metadata": {},
   "outputs": [],
   "source": [
    "from scipy.stats import ttest_ind"
   ]
  },
  {
   "cell_type": "markdown",
   "metadata": {},
   "source": [
    "To use this function, you need to pass in the observed values for each group and specify that you want `equal_var = False`."
   ]
  },
  {
   "cell_type": "code",
   "execution_count": 28,
   "metadata": {},
   "outputs": [
    {
     "data": {
      "text/plain": [
       "Ttest_indResult(statistic=-1.4803934746073193, pvalue=0.14578885880640693)"
      ]
     },
     "execution_count": 28,
     "metadata": {},
     "output_type": "execute_result"
    }
   ],
   "source": [
    "t_results = ttest_ind(sleeping.loc[sleeping.sex == 'Male', 'minutes_spent_sleeping'],\n",
    "                      sleeping.loc[sleeping.sex == 'Female', 'minutes_spent_sleeping'],\n",
    "                     equal_var = False)\n",
    "t_results"
   ]
  },
  {
   "cell_type": "markdown",
   "metadata": {},
   "source": [
    "By default, this will conduct a two-sided test, which, in this case is what you want. Let's see how this looks on the distribution of the test statistic."
   ]
  },
  {
   "cell_type": "code",
   "execution_count": 29,
   "metadata": {},
   "outputs": [],
   "source": [
    "from nssstats.plots import hypot_plot_mean_2sample"
   ]
  },
  {
   "cell_type": "code",
   "execution_count": 30,
   "metadata": {
    "scrolled": false
   },
   "outputs": [
    {
     "name": "stderr",
     "output_type": "stream",
     "text": [
      "/home/michael/Documents/NSS_Work/stats-for-data-science/notebooks/nssstats/plots.py:196: UserWarning: color is redundantly defined by the 'color' keyword argument and the fmt string \"r-\" (-> color='r'). The keyword argument will take precedence.\n",
      "  ax.plot(x, t.pdf(x, df = df),'r-', lw=3, alpha=1, label='norm pdf', color = 'black')\n"
     ]
    },
    {
     "data": {
      "image/png": "[encoded data removed]",
      "text/plain": [
       "<Figure size 576x288 with 1 Axes>"
      ]
     },
     "metadata": {},
     "output_type": "display_data"
    }
   ],
   "source": [
    "hypot_plot_mean_2sample(sleeping.loc[sleeping.sex == 'Male', 'minutes_spent_sleeping'],\n",
    "                       sleeping.loc[sleeping.sex == 'Female', 'minutes_spent_sleeping'], type='both')"
   ]
  },
  {
   "cell_type": "markdown",
   "metadata": {},
   "source": [
    "This says that if the null hypothesis is true and there is not difference in average sleeping times, you can expect to see a difference as large as what you observed more than 14% of the time. This is not particularly compelling evidence that the null is not true. You should not reject the null. There is not enough evidence to conclude that there is a difference in average sleeping times between males and females."
   ]
  },
  {
   "cell_type": "markdown",
   "metadata": {},
   "source": [
    "## Hypothesis Testing for a Single Proportion\n",
    "\n",
    "You can test not only a hypothesis about a mean, but also about a proportion. This can be done using the `proportions_ztest` from the `statsmodels` library. "
   ]
  },
  {
   "cell_type": "code",
   "execution_count": 31,
   "metadata": {},
   "outputs": [],
   "source": [
    "from scipy.stats import binom"
   ]
  },
  {
   "cell_type": "markdown",
   "metadata": {},
   "source": [
    "Let's start with the coin example from the slides, where you suspected that our coin was not a fair coin. Recall from the slides that there were two scenarios."
   ]
  },
  {
   "cell_type": "markdown",
   "metadata": {},
   "source": [
    "**Scenario 1:** You flip the coin 100 times and get the following outcome:\n",
    "\n",
    "<table width=\"150\" border=\"3\" style=\"border: 1px solid black\"> \n",
    "    <tr> \n",
    "        <th colspan=\"2\"style=\"background-color:lightblue\"><div align=\"center\">Observed Outcome</div></th> \n",
    "    </tr> \n",
    "    <tr> \n",
    "        <td style=\"border: 1px solid black\">Heads</td> \n",
    "        <td style=\"border: 1px solid black\">47</td> \n",
    "    </tr> \n",
    "    <tr> \n",
    "        <td style=\"border: 1px solid black\">Tails</td> \n",
    "        <td style=\"border: 1px solid black\">53</td> \n",
    "    </tr> \n",
    "</table> \n",
    "\n",
    "The first thing you need to do is to state our null and alternative hypothesis.\n",
    "\n",
    "**Null Hypothesis:** The coin is eqully likely to land on heads and tails.\n",
    "$$H_0: \\text{probability of heads} = 0.5$$\n",
    "\n",
    "**Alternative Hypothesis:** The coin is more likely to land on one side of the other.\n",
    "$$H_1: \\text{probability of heads} \\neq 0.5$$\n"
   ]
  },
  {
   "cell_type": "markdown",
   "metadata": {},
   "source": [
    "To find the $p$-value, you can use the binomial distribution. Recall that the $p$-value is the probability of getting an as extreme or more extreme outcome, if the null hypothesis were true.\n",
    "\n",
    "**Question:** Which outcomes (number of heads) would be more be more extreme than the observed outcome?\n",
    "\n",
    "Answer: 47 or fewer heads or 53 or more heads."
   ]
  },
  {
   "cell_type": "markdown",
   "metadata": {},
   "source": [
    "**Now, use the binomial distribution to calculate the probability of these more extreme outcomes. That is, find the $p$-value.**"
   ]
  },
  {
   "cell_type": "code",
   "execution_count": 32,
   "metadata": {},
   "outputs": [
    {
     "data": {
      "text/plain": [
       "0.6172994135892527"
      ]
     },
     "execution_count": 32,
     "metadata": {},
     "output_type": "execute_result"
    }
   ],
   "source": [
    "binom.cdf(k = 47, n = 100, p = 0.5) + 1 - binom.cdf(k = 52, n = 100, p = 0.5)"
   ]
  },
  {
   "cell_type": "markdown",
   "metadata": {},
   "source": [
    "**State your conclusion at the 0.05 significance level.**\n",
    "\n",
    "Since the $p$-value is larger than 0.05, there is not enough evidence to reject the null hypothesis."
   ]
  },
  {
   "cell_type": "markdown",
   "metadata": {},
   "source": [
    "Now, using the same null and alternative hypothesis, repeat this for scenario two:\n",
    "\n",
    "<table width=\"150\" border=\"3\" style=\"border: 1px solid black\"> \n",
    "    <tr> \n",
    "        <th colspan=\"2\"style=\"background-color:lightblue\"><div align=\"center\">Observed Outcome</div></th> \n",
    "    </tr> \n",
    "    <tr> \n",
    "        <td style=\"border: 1px solid black\">Heads</td> \n",
    "        <td style=\"border: 1px solid black\">38</td> \n",
    "    </tr> \n",
    "    <tr> \n",
    "        <td style=\"border: 1px solid black\">Tails</td> \n",
    "        <td style=\"border: 1px solid black\">62</td> \n",
    "    </tr> \n",
    "</table> "
   ]
  },
  {
   "cell_type": "markdown",
   "metadata": {},
   "source": [
    "**What outcomes (number of heads) would be considered as extreme or more extreme that what was observed?**\n",
    "\n",
    "Answer: 38 or fewer or 62 or more."
   ]
  },
  {
   "cell_type": "markdown",
   "metadata": {},
   "source": [
    "**Use the binomial distribution to find the $p$-value.**"
   ]
  },
  {
   "cell_type": "code",
   "execution_count": 33,
   "metadata": {},
   "outputs": [
    {
     "data": {
      "text/plain": [
       "0.0209787356778518"
      ]
     },
     "execution_count": 33,
     "metadata": {},
     "output_type": "execute_result"
    }
   ],
   "source": [
    "binom.cdf(k = 38, n = 100, p = 0.5) + 1 - binom.cdf(k = 61, n = 100, p = 0.5)"
   ]
  },
  {
   "cell_type": "markdown",
   "metadata": {},
   "source": [
    "**State your conclusion at the 0.05 significance level.**"
   ]
  },
  {
   "cell_type": "markdown",
   "metadata": {},
   "source": [
    "Since p < 0.05, reject the null hypothesis. There is statistically significant evidence that the probability of the coin landing is heads is different than 0.5."
   ]
  },
  {
   "cell_type": "markdown",
   "metadata": {},
   "source": [
    "You can also do one-tailed tests for proportions. Let's say you have a die that we think might be loaded and suspect that it is more likely to land on 6. \n",
    "\n",
    "**Start by stating the null and alternative hypotheses (if we want to conduct a one-tailed test)**.\n",
    "\n",
    "$$H_0: \\text{probability of rolling a six} = 1/6$$\n",
    "\n",
    "$$H_1: \\text{probability of rolling a six} > 1/6$$"
   ]
  },
  {
   "cell_type": "markdown",
   "metadata": {},
   "source": [
    "**Your Turn**\n",
    "\n",
    "You roll it 40 times and count 10 times that it lands on 6. \n",
    "\n",
    "**Which outcomes would be considered as extreme or more extreme than what we observed?**\n",
    "\n",
    "_Give your Answer Here_"
   ]
  },
  {
   "cell_type": "markdown",
   "metadata": {},
   "source": [
    "**Use a binomial distribution to find the $p$-value**."
   ]
  },
  {
   "cell_type": "code",
   "execution_count": 34,
   "metadata": {},
   "outputs": [],
   "source": [
    "# Your Code Here"
   ]
  },
  {
   "cell_type": "markdown",
   "metadata": {},
   "source": [
    "**State your conclusion at the 0.05 significance level.**"
   ]
  },
  {
   "cell_type": "markdown",
   "metadata": {},
   "source": [
    "_State your conclusion here._"
   ]
  },
  {
   "cell_type": "markdown",
   "metadata": {},
   "source": [
    "## Hypothesis Testing for the Difference in Proportions"
   ]
  },
  {
   "cell_type": "markdown",
   "metadata": {},
   "source": [
    "Finally, let's look at the squirrel census data again. A lot of people have never seen a black squirrel, so me might hypothesize that black squirrels are more skittish and run from humans more frequently.\n",
    "\n",
    "Let's formally state this as a null and alternative hypothesis.\n",
    "\n",
    "**Null Hypothesis:** There is no difference in the proportion of black squirrels who run compared to the proportion of other other colors of squirrels who run.\n",
    "$$H_0: p_{black} = p_{other}$$\n",
    "\n",
    "**Alternative Hypothesis:** The proportion of black squirrels who run is higher than the proportion of other color colors of squirrels who run.\n",
    "$$H_1: p_{black} > p_{other}$$\n",
    "\n",
    "Now, let's bring in the data."
   ]
  },
  {
   "cell_type": "code",
   "execution_count": 35,
   "metadata": {},
   "outputs": [],
   "source": [
    "squirrels = pd.read_csv('../data/2018_Central_Park_Squirrel_Census_-_Squirrel_Data.csv')"
   ]
  },
  {
   "cell_type": "code",
   "execution_count": 36,
   "metadata": {},
   "outputs": [],
   "source": [
    "# Remove the rows with missing values for the Fur Color\n",
    "squirrels = squirrels[~squirrels['Primary Fur Color'].isna()]\n",
    "\n",
    "# Create a Boolean column indicating whether a squirrel's primary fur color is black\n",
    "squirrels['Black'] = squirrels['Primary Fur Color'] == 'Black'"
   ]
  },
  {
   "cell_type": "markdown",
   "metadata": {},
   "source": [
    "Run a cross-tabulation to see how often black squirrels run compared to other colors."
   ]
  },
  {
   "cell_type": "code",
   "execution_count": 37,
   "metadata": {},
   "outputs": [
    {
     "data": {
      "text/html": [
       "<div>\n",
       "<style scoped>\n",
       "    .dataframe tbody tr th:only-of-type {\n",
       "        vertical-align: middle;\n",
       "    }\n",
       "\n",
       "    .dataframe tbody tr th {\n",
       "        vertical-align: top;\n",
       "    }\n",
       "\n",
       "    .dataframe thead th {\n",
       "        text-align: right;\n",
       "    }\n",
       "</style>\n",
       "<table border=\"1\" class=\"dataframe\">\n",
       "  <thead>\n",
       "    <tr style=\"text-align: right;\">\n",
       "      <th>Black</th>\n",
       "      <th>False</th>\n",
       "      <th>True</th>\n",
       "    </tr>\n",
       "    <tr>\n",
       "      <th>Runs from</th>\n",
       "      <th></th>\n",
       "      <th></th>\n",
       "    </tr>\n",
       "  </thead>\n",
       "  <tbody>\n",
       "    <tr>\n",
       "      <th>False</th>\n",
       "      <td>2227</td>\n",
       "      <td>71</td>\n",
       "    </tr>\n",
       "    <tr>\n",
       "      <th>True</th>\n",
       "      <td>638</td>\n",
       "      <td>32</td>\n",
       "    </tr>\n",
       "  </tbody>\n",
       "</table>\n",
       "</div>"
      ],
      "text/plain": [
       "Black      False  True \n",
       "Runs from              \n",
       "False       2227     71\n",
       "True         638     32"
      ]
     },
     "execution_count": 37,
     "metadata": {},
     "output_type": "execute_result"
    }
   ],
   "source": [
    "ct = pd.crosstab(squirrels['Runs from'], squirrels['Black'])\n",
    "ct"
   ]
  },
  {
   "cell_type": "markdown",
   "metadata": {},
   "source": [
    "The columns of this table indicate whether a squirrel was black or not and the rows indicate whether that squirrel ran.\n",
    "\n",
    "Now, normalize by column to see the results as proportions."
   ]
  },
  {
   "cell_type": "code",
   "execution_count": 38,
   "metadata": {},
   "outputs": [
    {
     "data": {
      "text/html": [
       "<div>\n",
       "<style scoped>\n",
       "    .dataframe tbody tr th:only-of-type {\n",
       "        vertical-align: middle;\n",
       "    }\n",
       "\n",
       "    .dataframe tbody tr th {\n",
       "        vertical-align: top;\n",
       "    }\n",
       "\n",
       "    .dataframe thead th {\n",
       "        text-align: right;\n",
       "    }\n",
       "</style>\n",
       "<table border=\"1\" class=\"dataframe\">\n",
       "  <thead>\n",
       "    <tr style=\"text-align: right;\">\n",
       "      <th>Black</th>\n",
       "      <th>False</th>\n",
       "      <th>True</th>\n",
       "    </tr>\n",
       "    <tr>\n",
       "      <th>Runs from</th>\n",
       "      <th></th>\n",
       "      <th></th>\n",
       "    </tr>\n",
       "  </thead>\n",
       "  <tbody>\n",
       "    <tr>\n",
       "      <th>False</th>\n",
       "      <td>0.777312</td>\n",
       "      <td>0.68932</td>\n",
       "    </tr>\n",
       "    <tr>\n",
       "      <th>True</th>\n",
       "      <td>0.222688</td>\n",
       "      <td>0.31068</td>\n",
       "    </tr>\n",
       "  </tbody>\n",
       "</table>\n",
       "</div>"
      ],
      "text/plain": [
       "Black         False    True \n",
       "Runs from                   \n",
       "False      0.777312  0.68932\n",
       "True       0.222688  0.31068"
      ]
     },
     "execution_count": 38,
     "metadata": {},
     "output_type": "execute_result"
    }
   ],
   "source": [
    "pd.crosstab(squirrels['Runs from'], squirrels['Black'], normalize='columns')"
   ]
  },
  {
   "cell_type": "markdown",
   "metadata": {},
   "source": [
    "You can see that black squirrels were observed to be more likely to run. But is there enough evidence to conclude that this holds for the entire squirrel population?\n",
    "\n",
    "To calculate our $p$-value, you can use the `fisher_exact` from `scipy.stats`."
   ]
  },
  {
   "cell_type": "code",
   "execution_count": 39,
   "metadata": {},
   "outputs": [],
   "source": [
    "from scipy.stats import fisher_exact"
   ]
  },
  {
   "cell_type": "markdown",
   "metadata": {},
   "source": [
    "To use `fisher_exact`, you just need to pass in the non-normalized cross-tabulation and specify the alternative hypothesis ('less', 'greater', or 'two-sided').\n",
    "\n",
    "To determine the correct alternative hypothesis, just ask \"What relationship am I testing between the bottom right entry and bottom left entry of my cross-tabulation?\"\n",
    "\n",
    "In this case, the bottom right corresponds to the proportion of black squirrels that ran away and the bottom left correspond to the proportion of other squirrels that ran away. Since my alternative hypotheis is that black squirrels are more likely to run, I will use `alternative = 'greater'`."
   ]
  },
  {
   "cell_type": "code",
   "execution_count": 40,
   "metadata": {},
   "outputs": [
    {
     "data": {
      "text/plain": [
       "(1.5732261910018102, 0.026851111916672072)"
      ]
     },
     "execution_count": 40,
     "metadata": {},
     "output_type": "execute_result"
    }
   ],
   "source": [
    "fisher_exact(ct, alternative = 'greater')"
   ]
  },
  {
   "cell_type": "markdown",
   "metadata": {},
   "source": [
    "The second value returned is the $p$-value.\n",
    "\n",
    "**State your conclusion at the 0.05 significance level.**\n",
    "\n",
    "What this tells us is that if there really is no difference in population proportions, you would see a difference this extreme only 2.7% of the time. Since this is below the 5% threshold, you can reject the null hypothesis in favor of the alternative and conclude that black squirrels are more likely to run away."
   ]
  }
 ],
 "metadata": {
  "kernelspec": {
   "display_name": "Python 3",
   "language": "python",
   "name": "python3"
  },
  "language_info": {
   "codemirror_mode": {
    "name": "ipython",
    "version": 3
   },
   "file_extension": ".py",
   "mimetype": "text/x-python",
   "name": "python",
   "nbconvert_exporter": "python",
   "pygments_lexer": "ipython3",
   "version": "3.8.3"
  }
 },
 "nbformat": 4,
 "nbformat_minor": 2
}
