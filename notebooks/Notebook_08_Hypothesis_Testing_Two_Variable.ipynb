{
 "cells": [
  {
   "cell_type": "markdown",
   "metadata": {},
   "source": [
    "# Hypothesis Testing with Two Variables"
   ]
  },
  {
   "cell_type": "markdown",
   "metadata": {},
   "source": [
    "**Hypothesis Testing Steps:**\n",
    "\n",
    "1. State null and alternative hypotheses and significance level.\n",
    "2. Assume that the null hypothesis is true, and choose  a statistic to calculate based on your observed values.\n",
    "3. Determine/estimate how your chosen statistic is distributed under the null hypothesis\n",
    "4. Find the $p$-value: how often would you see a sample statistic as extreme or more extreme than the one you observed?\n",
    "5. If $p$-value is smaller than the significance level, reject the null hypothesis. Otherwise, do not reject the null hypothesis."
   ]
  },
  {
   "cell_type": "code",
   "execution_count": null,
   "metadata": {},
   "outputs": [],
   "source": [
    "import pandas as pd\n",
    "import numpy as np\n",
    "import matplotlib.pyplot as plt\n",
    "from tqdm.notebook import tqdm"
   ]
  },
  {
   "cell_type": "markdown",
   "metadata": {},
   "source": [
    "## Hypothesis Testing for Difference in Means\n",
    "\n",
    "Oftentimes, you will be testing to see if there is a difference between two populations. For example, you might want to compare amount of time spent sleeping by the male population vs the female population from the American Time Use Survey. In this case, you won't specify a direction for the difference. That is, you won't test that males get more sleep than females or vice versa. You'll only test that there is some difference. This means that you are doing a two-tailed test."
   ]
  },
  {
   "cell_type": "markdown",
   "metadata": {},
   "source": [
    "Before bringing in the data, let's state the null and alternative hypotheses. Remember that the null hypothesis says that there is no difference between the population means. Let $\\mu_M$ represent the average time spent sleeping by males and $\\mu_F$ represent the average time spent sleeping by females.\n",
    "\n",
    "**Null Hypothesis:**\n",
    "\n",
    "$H_0: \\mu_M = \\mu_F$\n",
    "\n",
    "**Alternative Hypothesis:**\n",
    "\n",
    "$H_1: \\mu_M \\neq \\mu_F$\n",
    "\n",
    "For this and all tests in this notebook, we'll use a 0.05 significance level."
   ]
  },
  {
   "cell_type": "markdown",
   "metadata": {},
   "source": [
    "Now, you can bring in the data, which is a sample of 25 men and 25 women along with the amount of time they reported sleeping."
   ]
  },
  {
   "cell_type": "code",
   "execution_count": null,
   "metadata": {},
   "outputs": [],
   "source": [
    "sleeping = pd.read_csv('../data/atus_sleeping.csv')\n",
    "sleeping.head()"
   ]
  },
  {
   "cell_type": "markdown",
   "metadata": {},
   "source": [
    "First, look at some summary statistics."
   ]
  },
  {
   "cell_type": "code",
   "execution_count": null,
   "metadata": {},
   "outputs": [],
   "source": [
    "sleeping.groupby('sex')['minutes_spent_sleeping'].describe()"
   ]
  },
  {
   "cell_type": "code",
   "execution_count": null,
   "metadata": {},
   "outputs": [],
   "source": [
    "import seaborn as sns"
   ]
  },
  {
   "cell_type": "code",
   "execution_count": null,
   "metadata": {},
   "outputs": [],
   "source": [
    "sns.boxplot(data = sleeping, x = 'sex', y = 'minutes_spent_sleeping');"
   ]
  },
  {
   "cell_type": "markdown",
   "metadata": {},
   "source": [
    "There does appear to be a difference between males and females in terms of the amount of time spent sleeping. However, there is quite a bit of variability in the dataset, so you need to check to see how likely the difference that you observe is due simply to the randomness inherent in sampling."
   ]
  },
  {
   "cell_type": "markdown",
   "metadata": {},
   "source": [
    "Now, we need to compute our test statistic and compare the observed test statistic to the overall distribution of that test statistic.\n",
    "\n",
    "### Method 1: Welch's Test \n",
    "**Fact:** If both populations are approximately normally distributed, then \n",
    "\n",
    "$$t = \\frac{\\bar{x}_1 - \\bar{x}_2}{s}$$ approximately follows a $t$ distribution. Here\n",
    "\n",
    "$$s = \\sqrt{\\frac{s_1^2}{N_1} + \\frac{s_2^2}{N_2}}$$\n",
    "\n",
    "where $s_1$ and $s_2$ are the sample standard deviations and $N_1$ and $N_2$ are the sample sizes.\n",
    "\n",
    "This $t$ distribution has degrees of freedom equal to \n",
    "$$df = \\left(\\frac{s_1^2}{n_1}+ \\frac{s_2^2}{n_2}\\right)^2 / \\left(\\frac{s_1^4}{n_1^2(n_1-1)} + \\frac{s_2^4}{n_2^2(n_2-1)} \\right)$$\n",
    "\n",
    "See http://www.dcscience.net/welch-1947.pdf if you really want to see details, but I don't recommend it.\n",
    "\n",
    "Luckily for us, this has been implemented in `scipy.stats` as `ttest_ind`."
   ]
  },
  {
   "cell_type": "code",
   "execution_count": null,
   "metadata": {},
   "outputs": [],
   "source": [
    "from scipy.stats import ttest_ind"
   ]
  },
  {
   "cell_type": "markdown",
   "metadata": {},
   "source": [
    "To use this function, you need to pass in the observed values for each group and specify that you want `equal_var = False`."
   ]
  },
  {
   "cell_type": "code",
   "execution_count": null,
   "metadata": {},
   "outputs": [],
   "source": [
    "t_results = ttest_ind(\n",
    "    sleeping.loc[sleeping.sex == 'Male', 'minutes_spent_sleeping'],\n",
    "    sleeping.loc[sleeping.sex == 'Female', 'minutes_spent_sleeping'],\n",
    "    equal_var = False,\n",
    "    alternative=\"two-sided\"\n",
    ")\n",
    "t_results"
   ]
  },
  {
   "cell_type": "code",
   "execution_count": null,
   "metadata": {},
   "outputs": [],
   "source": [
    "from nssstats.plots import hypot_plot_mean_2sample"
   ]
  },
  {
   "cell_type": "code",
   "execution_count": null,
   "metadata": {},
   "outputs": [],
   "source": [
    "hypot_plot_mean_2sample(sleeping.loc[sleeping.sex == 'Male', 'minutes_spent_sleeping'],\n",
    "                       sleeping.loc[sleeping.sex == 'Female', 'minutes_spent_sleeping'], type='both')"
   ]
  },
  {
   "cell_type": "markdown",
   "metadata": {},
   "source": [
    "This says that if the null hypothesis is true and there is no difference in average sleeping times, you can expect to see a difference as large as what you observed more than 14% of the time. This is not particularly compelling evidence that the null is not true. You should not reject the null. There is not enough evidence to conclude that there is a difference in average sleeping times between males and females."
   ]
  },
  {
   "cell_type": "markdown",
   "metadata": {},
   "source": [
    "### Method 2: Permutation Testing\n",
    "\n",
    "Rather than having to rely on a complicated derivation for the distribution of our test statistic, we can instead estimate it through simulation.\n",
    "\n",
    "In this case, the test statistic that we'll use is the difference between means for our two samples."
   ]
  },
  {
   "cell_type": "code",
   "execution_count": null,
   "metadata": {},
   "outputs": [],
   "source": [
    "observed_test_statistic = sleeping.groupby('sex')['minutes_spent_sleeping'].mean().diff().iloc[1]\n",
    "observed_test_statistic"
   ]
  },
  {
   "cell_type": "markdown",
   "metadata": {},
   "source": [
    "Now, what we'll do is to randomly shuffle our labels and recalculate to compare how unusual our observed difference is."
   ]
  },
  {
   "cell_type": "code",
   "execution_count": null,
   "metadata": {},
   "outputs": [],
   "source": [
    "sleeping_copy = sleeping.copy()\n",
    "\n",
    "sex = sleeping_copy['sex'].tolist()\n",
    "np.random.shuffle(sex)\n",
    "sleeping_copy['sex'] = sex\n",
    "sleeping_copy.head()"
   ]
  },
  {
   "cell_type": "code",
   "execution_count": null,
   "metadata": {},
   "outputs": [],
   "source": [
    "permutation_difference = sleeping_copy.groupby('sex')['minutes_spent_sleeping'].mean().diff().iloc[1]\n",
    "permutation_difference"
   ]
  },
  {
   "cell_type": "markdown",
   "metadata": {},
   "source": [
    "Now, we just need to repeat this a large number of times and record the observed differences."
   ]
  },
  {
   "cell_type": "code",
   "execution_count": null,
   "metadata": {},
   "outputs": [],
   "source": [
    "permutation_differences = []\n",
    "\n",
    "num_permutations = 5000\n",
    "for _ in tqdm(range(num_permutations)):\n",
    "    sex = sleeping_copy['sex'].tolist()\n",
    "    np.random.shuffle(sex)\n",
    "    sleeping_copy['sex'] = sex\n",
    "    permutation_difference = sleeping_copy.groupby('sex')['minutes_spent_sleeping'].mean().diff().iloc[1]\n",
    "    permutation_differences.append(permutation_difference)"
   ]
  },
  {
   "cell_type": "markdown",
   "metadata": {},
   "source": [
    "Let's compare the observed difference to the distribution of permutation differences."
   ]
  },
  {
   "cell_type": "code",
   "execution_count": null,
   "metadata": {},
   "outputs": [],
   "source": [
    "plt.hist(\n",
    "    permutation_differences,\n",
    "    edgecolor=\"black\"\n",
    ")\n",
    "\n",
    "ymin, ymax = plt.ylim()\n",
    "plt.vlines(\n",
    "    x=observed_test_statistic,\n",
    "    ymin=ymin,\n",
    "    ymax=ymax,\n",
    "    color=\"red\",\n",
    "    linestyle=\"--\"\n",
    ")\n",
    "plt.ylim(ymin, ymax);"
   ]
  },
  {
   "cell_type": "markdown",
   "metadata": {},
   "source": [
    "How often did we get a permutation difference at least as large as the observed?"
   ]
  },
  {
   "cell_type": "code",
   "execution_count": null,
   "metadata": {},
   "outputs": [],
   "source": [
    "(np.abs(np.array(permutation_differences)) > np.abs(observed_test_statistic)).mean()"
   ]
  },
  {
   "cell_type": "markdown",
   "metadata": {},
   "source": [
    "With this large a $p$-value, we cannot reject the null hypothesis."
   ]
  },
  {
   "cell_type": "markdown",
   "metadata": {},
   "source": [
    "## Hypothesis Testing for Independence of Categorical Variables\n",
    "\n",
    "What if we have two categorical variables and want to test if one influences the other. That is, are the variables independent or dependent."
   ]
  },
  {
   "cell_type": "markdown",
   "metadata": {},
   "source": [
    "Finally, let's look at the squirrel census data again. A lot of people have never seen a black squirrel, so me might hypothesize that black squirrels are more skittish and do not approach humans as frequently.\n",
    "\n",
    "Let's formally state this as a null and alternative hypothesis.\n",
    "\n",
    "**Null Hypothesis:**  \n",
    "$H_0:$ The squirrel's primary fur color and likelihood of approaching are **independent**.\n",
    "\n",
    "**Alternative Hypothesis:**   \n",
    "$H_1:$ The squirrel's primary fur color and likelihood of approaching are **dependent**.\n",
    "\n",
    "Now, let's bring in the data."
   ]
  },
  {
   "cell_type": "code",
   "execution_count": null,
   "metadata": {},
   "outputs": [],
   "source": [
    "squirrels = pd.read_csv('../data/squirrels.csv')\n",
    "squirrels = squirrels.dropna(subset=['Approaches', 'Primary Fur Color'])"
   ]
  },
  {
   "cell_type": "markdown",
   "metadata": {},
   "source": [
    "Run a cross-tabulation to see how often black squirrels run compared to other colors."
   ]
  },
  {
   "cell_type": "code",
   "execution_count": null,
   "metadata": {},
   "outputs": [],
   "source": [
    "ct = pd.crosstab(squirrels['Approaches'], squirrels['Primary Fur Color'])\n",
    "ct"
   ]
  },
  {
   "cell_type": "markdown",
   "metadata": {},
   "source": [
    "What would it mean if the primary fur color and likeliood of running from were independent. It would mean that \n",
    "$$P(\\text{Primary Fur Color }= x\\text{ and Approaches }= y) = P(\\text{Primary Fur Color }= x)\\cdot P(\\text{Approaches }= y).$$"
   ]
  },
  {
   "cell_type": "markdown",
   "metadata": {},
   "source": [
    "We can use `value_counts` to see the estimated probabilites for each variable separately."
   ]
  },
  {
   "cell_type": "code",
   "execution_count": null,
   "metadata": {},
   "outputs": [],
   "source": [
    "squirrels['Approaches'].value_counts(normalize=True).sort_index()"
   ]
  },
  {
   "cell_type": "code",
   "execution_count": null,
   "metadata": {},
   "outputs": [],
   "source": [
    "squirrels['Primary Fur Color'].value_counts(normalize=True).sort_index()"
   ]
  },
  {
   "cell_type": "markdown",
   "metadata": {},
   "source": [
    "And to get the estimated probabilities if they were independent, we can use the _outer product_."
   ]
  },
  {
   "cell_type": "code",
   "execution_count": null,
   "metadata": {},
   "outputs": [],
   "source": [
    "np.outer(\n",
    "    squirrels['Approaches'].value_counts(normalize=True).sort_index(),\n",
    "    squirrels['Primary Fur Color'].value_counts(normalize=True).sort_index()\n",
    ")"
   ]
  },
  {
   "cell_type": "code",
   "execution_count": null,
   "metadata": {},
   "outputs": [],
   "source": [
    "probs_ind = pd.DataFrame(\n",
    "    np.outer(\n",
    "        squirrels['Approaches'].value_counts(normalize=True).sort_index(),\n",
    "        squirrels['Primary Fur Color'].value_counts(normalize=True).sort_index()\n",
    "    ),\n",
    "    index = squirrels['Approaches'].value_counts(normalize=True).sort_index().index,\n",
    "    columns = squirrels['Primary Fur Color'].value_counts(normalize=True).sort_index().index\n",
    ")\n",
    "probs_ind"
   ]
  },
  {
   "cell_type": "markdown",
   "metadata": {},
   "source": [
    "Let's compare it to the observed proportions."
   ]
  },
  {
   "cell_type": "code",
   "execution_count": null,
   "metadata": {},
   "outputs": [],
   "source": [
    "pd.crosstab(squirrels['Approaches'], squirrels['Primary Fur Color'], normalize=True)"
   ]
  },
  {
   "cell_type": "markdown",
   "metadata": {},
   "source": [
    "While there isn't a perfect match, is it close enough that the difference could be attributed just to chance?\n",
    "\n",
    "To determine this, we need a test statistic and a distribution to compare it against. The typical test statistic used in this compares the observed counts in each cell of our contingency table to the expected counts if the variables were independent."
   ]
  },
  {
   "cell_type": "code",
   "execution_count": null,
   "metadata": {},
   "outputs": [],
   "source": [
    "expected_counts = probs_ind * ct.sum().sum()\n",
    "expected_counts"
   ]
  },
  {
   "cell_type": "markdown",
   "metadata": {},
   "source": [
    "The test statistic is calculated as \n",
    "\n",
    "$$\\chi^2 = \\sum_{i,j} \\frac{(observed_{i,j} - expected_{i,j})^2}{expected_{i,j}}$$"
   ]
  },
  {
   "cell_type": "code",
   "execution_count": null,
   "metadata": {},
   "outputs": [],
   "source": [
    "test_stat = ((ct - expected_counts)**2 / expected_counts).sum().sum()\n",
    "test_stat"
   ]
  },
  {
   "cell_type": "markdown",
   "metadata": {},
   "source": [
    "How unusual is this test statistic? To determine this, we need to compare it against the overall distribution of test statistics.|"
   ]
  },
  {
   "cell_type": "markdown",
   "metadata": {},
   "source": [
    "### Method 1: Use the $\\chi^2$ Distribution\n",
    "\n",
    "**Fact:** When the null hypothesis is true, the test statistic follows a $\\chi^2$ distribution with degrees of freedom equal to $(r-1)\\cdot(c-1)$, where $r$ and $c$ are the number of rows and columns of the contingency table, respectively.\n",
    "\n",
    "Let's plot this distribution compared to the test statistic."
   ]
  },
  {
   "cell_type": "code",
   "execution_count": null,
   "metadata": {},
   "outputs": [],
   "source": [
    "from scipy.stats import chi2"
   ]
  },
  {
   "cell_type": "code",
   "execution_count": null,
   "metadata": {},
   "outputs": [],
   "source": [
    "x = np.linspace(start=0, stop=25, num=1000)\n",
    "plt.plot(\n",
    "    x,\n",
    "    chi2.pdf(x, df=2),\n",
    "    color=\"black\"\n",
    ")\n",
    "plt.plot(\n",
    "    x,\n",
    "    np.zeros_like(x),\n",
    "    color=\"black\"\n",
    ")\n",
    "ymin,ymax = plt.ylim()\n",
    "plt.vlines(\n",
    "    x=test_stat,\n",
    "    ymin=ymin,\n",
    "    ymax=ymax,\n",
    "    color=\"red\",\n",
    "    linestyle=\"--\"\n",
    ")\n",
    "plt.ylim(ymin, ymax);"
   ]
  },
  {
   "cell_type": "markdown",
   "metadata": {},
   "source": [
    "To find the $p$-value, we need to know how often we get a value as extreme or more extreme than the one we observed. To do this, we can use the `sf` function. The abbreviation sf stands for \"survival function\" which gives the probability of a value at least as large as $x$."
   ]
  },
  {
   "cell_type": "code",
   "execution_count": null,
   "metadata": {},
   "outputs": [],
   "source": [
    "p = chi2.sf(x=test_stat, df=2)\n",
    "p"
   ]
  },
  {
   "cell_type": "markdown",
   "metadata": {},
   "source": [
    "Rather than doing all of these calculations ourself, we can also rely on the `chi2_contingency` function from scipy.stats."
   ]
  },
  {
   "cell_type": "code",
   "execution_count": null,
   "metadata": {},
   "outputs": [],
   "source": [
    "from scipy.stats import chi2_contingency"
   ]
  },
  {
   "cell_type": "code",
   "execution_count": null,
   "metadata": {},
   "outputs": [],
   "source": [
    "chi2_contingency(ct)"
   ]
  },
  {
   "cell_type": "markdown",
   "metadata": {},
   "source": [
    "This says that if these variables were independent, we would see such an extreme test statistic with probability 0.0000112. This is well below the significance level, meaning that we can reject the null hypothesis and conclude that primary fur color and likelihood of approaching are dependent."
   ]
  },
  {
   "cell_type": "markdown",
   "metadata": {},
   "source": [
    "### Method 2: Permutation Test\n",
    "\n",
    "We can also permute one of our variables to estimate the distribution of test statistics."
   ]
  },
  {
   "cell_type": "code",
   "execution_count": null,
   "metadata": {},
   "outputs": [],
   "source": [
    "permutation_stats = []\n",
    "squirrels_copy = squirrels.copy()\n",
    "\n",
    "num_permutations = 1000\n",
    "for _ in tqdm(range(num_permutations)):\n",
    "    runs = squirrels_copy['Approaches'].tolist()\n",
    "    np.random.shuffle(runs)\n",
    "    squirrels_copy['Approaches'] = runs\n",
    "    permutation_ct = pd.crosstab(squirrels_copy['Approaches'], squirrels_copy['Primary Fur Color'])\n",
    "    permutation_test_stat = ((permutation_ct - expected_counts)**2 / expected_counts).sum().sum()\n",
    "    permutation_stats.append(permutation_test_stat)"
   ]
  },
  {
   "cell_type": "code",
   "execution_count": null,
   "metadata": {},
   "outputs": [],
   "source": [
    "plt.hist(\n",
    "    permutation_stats,\n",
    "    edgecolor=\"black\"\n",
    ")\n",
    "\n",
    "ymin, ymax = plt.ylim()\n",
    "plt.vlines(\n",
    "    x=test_stat,\n",
    "    ymin=ymin,\n",
    "    ymax=ymax,\n",
    "    color=\"red\",\n",
    "    linestyle=\"--\"\n",
    ")\n",
    "plt.ylim(ymin, ymax);"
   ]
  },
  {
   "cell_type": "code",
   "execution_count": null,
   "metadata": {},
   "outputs": [],
   "source": [
    "(np.array(permutation_stats) >= test_stat).mean()"
   ]
  },
  {
   "cell_type": "markdown",
   "metadata": {},
   "source": [
    "## Hypothesis Testing for Correlation"
   ]
  },
  {
   "cell_type": "markdown",
   "metadata": {},
   "source": [
    "Finally, what if we want to perform a test about the relationship between two numeric variables? Specifically, what if we want to test whether the correlation between two variables is nonzero."
   ]
  },
  {
   "cell_type": "code",
   "execution_count": null,
   "metadata": {},
   "outputs": [],
   "source": [
    "nba = pd.read_csv('../data/nba_players.csv')\n",
    "nba = nba.dropna()\n",
    "nba.head()"
   ]
  },
  {
   "cell_type": "code",
   "execution_count": null,
   "metadata": {},
   "outputs": [],
   "source": [
    "nba[['height_inches', 'pts_per_game']].corr()"
   ]
  },
  {
   "cell_type": "markdown",
   "metadata": {},
   "source": [
    "Let's formally state this as a null and alternative hypothesis.\n",
    "\n",
    "**Null Hypothesis:**  \n",
    "$H_0:$ There is zero correlation between height and points per game.\n",
    "\n",
    "**Alternative Hypothesis:**   \n",
    "$H_1:$ There is a non-zero correlation between height and points per game.\n",
    "\n",
    "Now, we need to calculate our test statistic and compare it against a reference distribution."
   ]
  },
  {
   "cell_type": "markdown",
   "metadata": {},
   "source": [
    "### Method 1: Use the $t$-Distribution\n",
    "\n",
    "We can use $$t = \\frac{r\\cdot\\sqrt{n-2}}{\\sqrt{1-r^2}}$$\n",
    "\n",
    "as our test statistic, where $r$ is the observed correlation and $n$ is the sample size. If the null is true, this will follow a $t$ distribution with $n-2$ degrees of freedom. (Reference: https://online.stat.psu.edu/stat500/lesson/9/9.4/9.4.1)"
   ]
  },
  {
   "cell_type": "code",
   "execution_count": null,
   "metadata": {},
   "outputs": [],
   "source": [
    "r = nba[['height_inches', 'pts_per_game']].corr().iloc[0,1]\n",
    "n = nba.shape[0]\n",
    "print(r, n)"
   ]
  },
  {
   "cell_type": "code",
   "execution_count": null,
   "metadata": {},
   "outputs": [],
   "source": [
    "observed_t = r * np.sqrt(n-2) / np.sqrt(1 - r**2)\n",
    "observed_t"
   ]
  },
  {
   "cell_type": "code",
   "execution_count": null,
   "metadata": {},
   "outputs": [],
   "source": [
    "from scipy.stats import t"
   ]
  },
  {
   "cell_type": "code",
   "execution_count": null,
   "metadata": {},
   "outputs": [],
   "source": [
    "x = np.linspace(start=-3, stop=3, num=1000)\n",
    "plt.plot(\n",
    "    x,\n",
    "    t.pdf(x, df=n-2),\n",
    "    color=\"black\"\n",
    ")\n",
    "plt.plot(\n",
    "    x,\n",
    "    np.zeros_like(x),\n",
    "    color=\"black\"\n",
    ")\n",
    "ymin,ymax = plt.ylim()\n",
    "plt.vlines(\n",
    "    x=observed_t,\n",
    "    ymin=ymin,\n",
    "    ymax=ymax,\n",
    "    color=\"red\",\n",
    "    linestyle=\"--\"\n",
    ")\n",
    "plt.ylim(ymin, ymax);"
   ]
  },
  {
   "cell_type": "code",
   "execution_count": null,
   "metadata": {},
   "outputs": [],
   "source": [
    "2*t.cdf(observed_t, df=n-2)"
   ]
  },
  {
   "cell_type": "markdown",
   "metadata": {},
   "source": [
    "We can also let scipy stats do the hard work for us."
   ]
  },
  {
   "cell_type": "code",
   "execution_count": null,
   "metadata": {},
   "outputs": [],
   "source": [
    "from scipy.stats import pearsonr"
   ]
  },
  {
   "cell_type": "code",
   "execution_count": null,
   "metadata": {},
   "outputs": [],
   "source": [
    "pearsonr(\n",
    "    x=nba['height_inches'],\n",
    "    y=nba['pts_per_game']\n",
    ")"
   ]
  },
  {
   "cell_type": "markdown",
   "metadata": {},
   "source": [
    "Again, since the p-value is greater than the significance level, we cannot reject the null hypothesis."
   ]
  },
  {
   "cell_type": "markdown",
   "metadata": {},
   "source": [
    "### Method 2: Permutation"
   ]
  },
  {
   "cell_type": "code",
   "execution_count": null,
   "metadata": {},
   "outputs": [],
   "source": [
    "permutation_stats = []\n",
    "nba_copy = nba.copy()\n",
    "\n",
    "num_permutations = 5000\n",
    "for _ in tqdm(range(num_permutations)):\n",
    "    pts = nba_copy['pts_per_game'].tolist()\n",
    "    np.random.shuffle(pts)\n",
    "    nba_copy['pts_per_game'] = pts\n",
    "    permutation_r = nba_copy[['height_inches', 'pts_per_game']].corr().iloc[0,1]\n",
    "    permutation_stats.append(permutation_r)"
   ]
  },
  {
   "cell_type": "code",
   "execution_count": null,
   "metadata": {},
   "outputs": [],
   "source": [
    "plt.hist(\n",
    "    permutation_stats,\n",
    "    edgecolor=\"black\"\n",
    ")\n",
    "\n",
    "ymin, ymax = plt.ylim()\n",
    "plt.vlines(\n",
    "    x=r,\n",
    "    ymin=ymin,\n",
    "    ymax=ymax,\n",
    "    color=\"red\",\n",
    "    linestyle=\"--\"\n",
    ")\n",
    "plt.ylim(ymin, ymax);"
   ]
  },
  {
   "cell_type": "code",
   "execution_count": null,
   "metadata": {},
   "outputs": [],
   "source": [
    "(np.abs(np.array(permutation_stats)) >= np.abs(r)).mean()"
   ]
  },
  {
   "cell_type": "markdown",
   "metadata": {},
   "source": [
    "**Bonus (if time allows)**: We seem to be doing the same thing over and over to calculate our permutation stats. Perhaps we can write some reusable code so that we don't have to keep copying and pasting."
   ]
  }
 ],
 "metadata": {
  "kernelspec": {
   "display_name": "Python 3 (ipykernel)",
   "language": "python",
   "name": "python3"
  },
  "language_info": {
   "codemirror_mode": {
    "name": "ipython",
    "version": 3
   },
   "file_extension": ".py",
   "mimetype": "text/x-python",
   "name": "python",
   "nbconvert_exporter": "python",
   "pygments_lexer": "ipython3",
   "version": "3.9.16"
  }
 },
 "nbformat": 4,
 "nbformat_minor": 4
}
