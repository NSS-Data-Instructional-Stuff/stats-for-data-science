{
 "cells": [
  {
   "cell_type": "markdown",
   "id": "9b0fd0fe",
   "metadata": {},
   "source": [
    "# Logistic Regression\n",
    "\n",
    "In this notebook, we'll see how to build and evaluate logistic regression models using the _statsmodels_ library.\n",
    "\n",
    "We'll be working with a data set consisting of a sample of 200 subjects who were part of a study on survival of patients following admission to an adult intensive care unit. The goal of the study was to develop a logistic regression model to predict the probability of survival to hospital discharge of these patients."
   ]
  },
  {
   "cell_type": "code",
   "execution_count": null,
   "id": "8b41ecc6",
   "metadata": {},
   "outputs": [],
   "source": [
    "import numpy as np\n",
    "import matplotlib.pyplot as plt\n",
    "import pandas as pd\n",
    "import seaborn as sns"
   ]
  },
  {
   "cell_type": "code",
   "execution_count": null,
   "id": "1a2622f0",
   "metadata": {},
   "outputs": [],
   "source": [
    "icu = pd.read_csv('../data/icu.csv')"
   ]
  },
  {
   "cell_type": "code",
   "execution_count": null,
   "id": "a8ccfc2c",
   "metadata": {},
   "outputs": [],
   "source": [
    "icu.head()"
   ]
  },
  {
   "cell_type": "markdown",
   "id": "e77c5cf1",
   "metadata": {},
   "source": [
    "The variables are as follows:\n",
    "\n",
    "|Variable | Description | Codes/Values|\n",
    "|---|---|---|\n",
    "| ID | Identification Code | ID Number|\n",
    "| STA | Vital Status | 0 = Lived<br /> 1 = Died |\n",
    "| AGE | Age | Years |\n",
    "| SEX | Sex | 0 = Male<br /> 1 = Female | \n",
    "| RACE | Race | 1 = White<br />2 = Black<br />3 = Other |\n",
    "| SER | Service at ICU Admission | 0 = Medical<br />1 = Surgical |\n",
    "| CAN | Cancer Part of Present Problem | 0 = No<br />1 = Yes |\n",
    "| CRN | History of Chronic Renal Failure | 0 = No<br />1 = Yes |\n",
    "| INF | Infection Probable at ICU Admission | 0 = No<br />1 = Yes |\n",
    "| CPR | CPR Prior to ICU Admission | 0 = No<br />1 = Yes |\n",
    "| SYS | Systolic Blood Pressure at ICU Admission | mm Hg |\n",
    "| HRA | Heart Rate at ICU Admission | Beats/min |\n",
    "| PRE | Previous Admission to an ICU Within 6 Months | 0 = No<br />1 = Yes |\n",
    "| TYP | Type of Admission | 0 = Elective<br />1 = Emergency |\n",
    "| FRA | Long Bone, Multiple, Neck, Single Area, or Hip Fracture | 0 = No<br />1 = Yes |\n",
    "| PO2 | PO2 from Initial Blood Gases | 0: $>$60<br />1: $\\leq$ 60 |\n",
    "| PH | PH from Initial Blood Gases | 0: $\\geq$ 7.25<br />1: $<$7.25 |\n",
    "| PCO | PCO2 from Initial Blood Gases | 0: $\\leq$ 45<br />1: $>$45 |\n",
    "| BIC | Bicarbonate from Initial Blood Gases | 0: $\\geq$ 18<br />1: $<$ 18 |\n",
    "| CRE | Creatinine from Initial Blood Gases | 0: $\\leq$2.0<br />1: $>$2.0 |\n",
    "| LOC | Level of Consciousness at ICU Admission | 0 = No Coma or Deep Stupor<br />1 = Deep Stupor<br />2 = Coma |"
   ]
  },
  {
   "cell_type": "markdown",
   "id": "66d1ae92",
   "metadata": {},
   "source": [
    "We can start by looking at the relationship between age and status."
   ]
  },
  {
   "cell_type": "code",
   "execution_count": null,
   "id": "2a131f7b",
   "metadata": {},
   "outputs": [],
   "source": [
    "sns.boxplot(data = icu, y = 'AGE', x = 'STA')\n",
    "plt.xticks([0,1], ['Lived', 'Died'])\n",
    "plt.xlabel('')\n",
    "plt.title('Age vs. Status');"
   ]
  },
  {
   "cell_type": "markdown",
   "id": "38bbcaab",
   "metadata": {},
   "source": [
    "In order to fit our model, we'll again be using the statsmodels's formula api."
   ]
  },
  {
   "cell_type": "code",
   "execution_count": null,
   "id": "7897aff2",
   "metadata": {},
   "outputs": [],
   "source": [
    "import statsmodels.formula.api as sm"
   ]
  },
  {
   "cell_type": "markdown",
   "id": "e8c0b5f3",
   "metadata": {},
   "source": [
    "We can fit a logistic regression model similarly to how we fit a linear regression model, but this time using `logit`.\n",
    "\n",
    "Again, we use a formula specifying `target ~ predictor(s)`."
   ]
  },
  {
   "cell_type": "code",
   "execution_count": null,
   "id": "c05adeac",
   "metadata": {},
   "outputs": [],
   "source": [
    "logreg = sm.logit('STA ~ AGE', data = icu).fit()"
   ]
  },
  {
   "cell_type": "markdown",
   "id": "b859649d",
   "metadata": {},
   "source": [
    "The summary method shows coefficient estimates and confidence intervals."
   ]
  },
  {
   "cell_type": "code",
   "execution_count": null,
   "id": "812b807b",
   "metadata": {},
   "outputs": [],
   "source": [
    "logreg.summary()"
   ]
  },
  {
   "cell_type": "markdown",
   "id": "f9aafd20",
   "metadata": {},
   "source": [
    "We can get predicted probabilities using the `predict` method and passing in a DataFrame with the expected variables."
   ]
  },
  {
   "cell_type": "code",
   "execution_count": null,
   "id": "cd475cb4",
   "metadata": {},
   "outputs": [],
   "source": [
    "logreg.predict(icu)"
   ]
  },
  {
   "cell_type": "markdown",
   "id": "cd8e497f",
   "metadata": {},
   "source": [
    "### Logistic Regression Inference\n",
    "\n",
    "Let's run a few hypothesis tests for logistic regression.\n",
    "\n",
    "**Question:** Is the coefficient for SEX statistically significant, after controlling for AGE?\n",
    "\n",
    "**Null Hypothesis:** $\\beta_{sex} = 0$\n",
    "\n",
    "**Alternative Hypothesis:** $\\beta_{sex} \\neq 0$\n",
    "\n",
    "Like we did for linear regression, we need to fit a full model containing all variables of interest and then a reduced model satisfying the null hypothesis."
   ]
  },
  {
   "cell_type": "code",
   "execution_count": null,
   "id": "2fabc6ec",
   "metadata": {},
   "outputs": [],
   "source": [
    "logreg_full = sm.logit('STA ~ AGE + SEX', data = icu).fit()\n",
    "logreg_reduced = sm.logit('STA ~ AGE', data = icu).fit()"
   ]
  },
  {
   "cell_type": "markdown",
   "id": "9053d52b",
   "metadata": {},
   "source": [
    "We can access the log-likelihood values using the `llf` attribute."
   ]
  },
  {
   "cell_type": "code",
   "execution_count": null,
   "id": "a1b310d0",
   "metadata": {},
   "outputs": [],
   "source": [
    "logreg_full.llf"
   ]
  },
  {
   "cell_type": "code",
   "execution_count": null,
   "id": "8045bc2e",
   "metadata": {},
   "outputs": [],
   "source": [
    "logreg_reduced.llf"
   ]
  },
  {
   "cell_type": "markdown",
   "id": "cba086c6",
   "metadata": {},
   "source": [
    "We do see a higher log-likelihood for the full model, but the question is whether that improvement is statistically significant.\n",
    "\n",
    "The test statistic we use is \n",
    "\n",
    "$$G^2 = -2(\\text{log likelihood of reduced model} - \\text{log likelihood of full model})$$"
   ]
  },
  {
   "cell_type": "code",
   "execution_count": null,
   "id": "ef4b2af1",
   "metadata": {},
   "outputs": [],
   "source": [
    "G2 = -2 * (logreg_reduced.llf - logreg_full.llf)\n",
    "G2"
   ]
  },
  {
   "cell_type": "markdown",
   "id": "e134027a",
   "metadata": {},
   "source": [
    "Under the null hypothesis, this statistic will follow a chi-square distribution with degrees of freedom equal to the difference in parameters fit between the two models.\n",
    "\n",
    "We can import the chi-square distribution from scipy stats."
   ]
  },
  {
   "cell_type": "code",
   "execution_count": null,
   "id": "58ca22d6",
   "metadata": {},
   "outputs": [],
   "source": [
    "from scipy.stats import chi2"
   ]
  },
  {
   "cell_type": "markdown",
   "id": "e6b9518d",
   "metadata": {},
   "source": [
    "To find the degrees of freedom, we can use the `df_model` attribute."
   ]
  },
  {
   "cell_type": "code",
   "execution_count": null,
   "id": "77396802",
   "metadata": {},
   "outputs": [],
   "source": [
    "df = logreg_full.df_model - logreg_reduced.df_model"
   ]
  },
  {
   "cell_type": "markdown",
   "id": "3d94e255",
   "metadata": {},
   "source": [
    "And finally, to find the p-value, we can use the `sf` method, which stands for \"survival function\". This tells the probability of seeing a value at least as large as the one specified. This gives the $p$-value for our test."
   ]
  },
  {
   "cell_type": "code",
   "execution_count": null,
   "id": "e671fe2c",
   "metadata": {},
   "outputs": [],
   "source": [
    "chi2.sf(G2, df = df)"
   ]
  },
  {
   "cell_type": "markdown",
   "id": "ef4d24d8",
   "metadata": {},
   "source": [
    "**Conclusion:** Do not reject the null hypothesis. There is not enough evidence to conclude that the effect of sex is statistically significant, after controlling for age."
   ]
  },
  {
   "cell_type": "markdown",
   "id": "9a2f7066",
   "metadata": {},
   "source": [
    "We can condense what we did into one cell."
   ]
  },
  {
   "cell_type": "code",
   "execution_count": null,
   "id": "31ca8722",
   "metadata": {},
   "outputs": [],
   "source": [
    "logreg_full = sm.logit('STA ~ AGE + SEX', data = icu).fit()\n",
    "logreg_reduced = sm.logit('STA ~ AGE', data = icu).fit()\n",
    "\n",
    "G2 = -2 * (logreg_reduced.llf - logreg_full.llf)\n",
    "df = logreg_full.df_model - logreg_reduced.df_model\n",
    "print(f'p-value: {chi2.sf(G2, df = df)}')"
   ]
  },
  {
   "cell_type": "markdown",
   "id": "245d2229",
   "metadata": {},
   "source": [
    "**Your Turn:** Is the effect of systolic blood pressure (SYS) significant, after controlling for age?"
   ]
  },
  {
   "cell_type": "code",
   "execution_count": null,
   "id": "5751a3f9",
   "metadata": {},
   "outputs": [],
   "source": [
    "# Your Code Here"
   ]
  },
  {
   "cell_type": "code",
   "execution_count": null,
   "id": "caaf4592",
   "metadata": {},
   "outputs": [],
   "source": [
    "logreg_full = sm.logit('STA ~ AGE + SYS', data = icu).fit()\n",
    "logreg_reduced = sm.logit('STA ~ AGE', data = icu).fit()\n",
    "\n",
    "G2 = -2 * (logreg_reduced.llf - logreg_full.llf)\n",
    "df = logreg_full.df_model - logreg_reduced.df_model\n",
    "print(f'p-value: {chi2.sf(G2, df = df)}')"
   ]
  },
  {
   "cell_type": "code",
   "execution_count": null,
   "id": "4feb2cbe",
   "metadata": {},
   "outputs": [],
   "source": [
    "logreg_full.summary()"
   ]
  },
  {
   "cell_type": "markdown",
   "id": "10785cb2",
   "metadata": {},
   "source": [
    "**Questions:** Look at the coefficients for your model which includes AGE and SYS. How does the value of AGE affect the predicted probability? How does the value of SYS affect this probability?"
   ]
  },
  {
   "cell_type": "markdown",
   "id": "93f30431",
   "metadata": {},
   "source": [
    "### Generating Predictions"
   ]
  },
  {
   "cell_type": "code",
   "execution_count": null,
   "id": "72d1b647",
   "metadata": {},
   "outputs": [],
   "source": [
    "from nssstats.cm import cm_analysis\n",
    "from sklearn.model_selection import train_test_split"
   ]
  },
  {
   "cell_type": "markdown",
   "id": "d855de3d",
   "metadata": {},
   "source": [
    "If we want to evaluate how well our model does at making predictions, we need to first divide it into a training set and a test set.\n",
    "\n",
    "For this, we'll use the `train_test_split` function from scikit-learn. We need to give the full dataset, the proportion that we want to split off as a test set, and we can also specify if we want to stratify our split.\n",
    "\n",
    "Stratifying will ensure that the proportion of the stratify variable is the same in the training data and in the test data."
   ]
  },
  {
   "cell_type": "code",
   "execution_count": null,
   "id": "afcdcc17",
   "metadata": {},
   "outputs": [],
   "source": [
    "icu_train, icu_test = train_test_split(icu, test_size = 0.25, stratify = icu['STA'])"
   ]
  },
  {
   "cell_type": "markdown",
   "id": "549d33af",
   "metadata": {},
   "source": [
    "We'll fit a model using several of our predictor variables."
   ]
  },
  {
   "cell_type": "code",
   "execution_count": null,
   "id": "5ac68267",
   "metadata": {},
   "outputs": [],
   "source": [
    "logreg_pred = sm.logit('STA ~ AGE + SYS + SER + TYP + PO2 + PH + PCO + BIC + CRE + C(LOC)',\n",
    "                       data = icu_train).fit()"
   ]
  },
  {
   "cell_type": "markdown",
   "id": "23544f31",
   "metadata": {},
   "source": [
    "Once we have fit our model, we can generate predictions on the test data using the `predict` method."
   ]
  },
  {
   "cell_type": "code",
   "execution_count": null,
   "id": "24158a84",
   "metadata": {},
   "outputs": [],
   "source": [
    "y_pred = logreg_pred.predict(icu_test) > 0.5"
   ]
  },
  {
   "cell_type": "markdown",
   "id": "8a0e7878",
   "metadata": {},
   "source": [
    "We can use the crosstab function if we want to see how well the predicted values matche up to the true labels."
   ]
  },
  {
   "cell_type": "code",
   "execution_count": null,
   "id": "65f6d1f4",
   "metadata": {},
   "outputs": [],
   "source": [
    "pd.crosstab(icu_test['STA'], y_pred)"
   ]
  },
  {
   "cell_type": "markdown",
   "id": "7d8c856d",
   "metadata": {},
   "source": [
    "There's also a cm_analysis helper function if we want another way to visualize the results."
   ]
  },
  {
   "cell_type": "code",
   "execution_count": null,
   "id": "a7c610dd",
   "metadata": {},
   "outputs": [],
   "source": [
    "cm_analysis(icu_test['STA'], y_pred, labels = [0, 1], figsize = (7,6))"
   ]
  }
 ],
 "metadata": {
  "kernelspec": {
   "display_name": "Python 3 (ipykernel)",
   "language": "python",
   "name": "python3"
  },
  "language_info": {
   "codemirror_mode": {
    "name": "ipython",
    "version": 3
   },
   "file_extension": ".py",
   "mimetype": "text/x-python",
   "name": "python",
   "nbconvert_exporter": "python",
   "pygments_lexer": "ipython3",
   "version": "3.8.3"
  }
 },
 "nbformat": 4,
 "nbformat_minor": 5
}
