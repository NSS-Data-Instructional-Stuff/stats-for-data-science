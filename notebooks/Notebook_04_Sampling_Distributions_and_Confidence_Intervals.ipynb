{
 "cells": [
  {
   "cell_type": "markdown",
   "id": "5d136ade-3676-49f2-9157-b93bf5d8dd8a",
   "metadata": {},
   "source": [
    "# Sampling Distributions and Confidence Intervals"
   ]
  },
  {
   "cell_type": "code",
   "execution_count": null,
   "id": "da70fa35",
   "metadata": {},
   "outputs": [],
   "source": [
    "import pandas as pd\n",
    "import matplotlib.pyplot as plt\n",
    "import numpy as np"
   ]
  },
  {
   "cell_type": "code",
   "execution_count": null,
   "id": "ed0b3c1d-6149-4fd0-898c-7b4eb690f24b",
   "metadata": {},
   "outputs": [],
   "source": [
    "nba = pd.read_csv('../data/nba_players.csv')\n",
    "nba.head()"
   ]
  },
  {
   "cell_type": "markdown",
   "id": "7b65d5f2-74e5-41ed-9755-db84213e00e1",
   "metadata": {},
   "source": [
    "First, let's consider the `height_inches` column; specifically, we'll look at the mean of this column."
   ]
  },
  {
   "cell_type": "code",
   "execution_count": null,
   "id": "25397fb7",
   "metadata": {},
   "outputs": [],
   "source": [
    "column = 'height_inches'\n",
    "pop_mean = nba[column].mean()\n",
    "pop_mean"
   ]
  },
  {
   "cell_type": "markdown",
   "id": "f5ae8943-f5bd-432e-bfcb-3072432be24b",
   "metadata": {},
   "source": [
    "## Sampling Distribution of the Mean"
   ]
  },
  {
   "cell_type": "markdown",
   "id": "7f759abb-f828-45a4-a7b0-58fe049b0421",
   "metadata": {},
   "source": [
    "**Question:** If I take a sample of 10 randomly selected players, how close to the overall population mean can I expect to be?"
   ]
  },
  {
   "cell_type": "code",
   "execution_count": null,
   "id": "eb278719-7353-493a-a191-40721c1764a8",
   "metadata": {},
   "outputs": [],
   "source": [
    "#Your Code Here"
   ]
  },
  {
   "cell_type": "markdown",
   "id": "f12672cc-ab13-4532-b03e-71535579404c",
   "metadata": {},
   "source": [
    "**Question:** What do you notice about the sample mean values that we are getting?  \n",
    "Observations:  \n"
   ]
  },
  {
   "cell_type": "markdown",
   "id": "4c1d1320-66d8-4a5a-ba24-aa4679fda937",
   "metadata": {},
   "source": [
    "To help understand this better, let's utilize a `for` loop to take a large number of samples."
   ]
  },
  {
   "cell_type": "code",
   "execution_count": null,
   "id": "f2cce842-7476-4bd3-be33-3383d16b6f1d",
   "metadata": {},
   "outputs": [],
   "source": [
    "# Your Code Here"
   ]
  },
  {
   "cell_type": "markdown",
   "id": "004c94fb-6cc9-4bc8-ad53-d530e5aa963d",
   "metadata": {},
   "source": [
    "Now, let's do some analysis on this set of sample means."
   ]
  },
  {
   "cell_type": "code",
   "execution_count": null,
   "id": "4574e8b0-7981-49e5-a62b-156e8f76002b",
   "metadata": {},
   "outputs": [],
   "source": [
    "# Your Code Here"
   ]
  },
  {
   "cell_type": "markdown",
   "id": "13226e70-940c-4e50-8db0-69043cd811b2",
   "metadata": {},
   "source": [
    "**Question:** What do we learn in looking at the set of sample means?  \n",
    "Observations:\n"
   ]
  },
  {
   "cell_type": "markdown",
   "id": "b49ef16e-a609-439b-b8cb-286375086ab9",
   "metadata": {},
   "source": [
    "What happens if we vary the sample size?"
   ]
  },
  {
   "cell_type": "code",
   "execution_count": null,
   "id": "eacfeb8f-9843-48cd-bb90-b491c3da7757",
   "metadata": {},
   "outputs": [],
   "source": [
    "# Your Code Here"
   ]
  },
  {
   "cell_type": "markdown",
   "id": "971af243-5cdd-4c8c-9408-7b15ffd29dd1",
   "metadata": {},
   "source": [
    "Does this always work? What happens if we look at a different column? height_inches? salary?"
   ]
  },
  {
   "cell_type": "code",
   "execution_count": null,
   "id": "02c1bc16-8cae-4913-81be-37ba2feeffa0",
   "metadata": {},
   "outputs": [],
   "source": [
    "# Your Code Here"
   ]
  },
  {
   "cell_type": "markdown",
   "id": "f0599f59-9de2-48f6-8862-97d2cdef78b8",
   "metadata": {},
   "source": [
    "Observations:\n"
   ]
  },
  {
   "cell_type": "markdown",
   "id": "869649da-9e8b-4370-8c7a-6abcbd91180b",
   "metadata": {},
   "source": [
    "## Confidence Intervals"
   ]
  },
  {
   "cell_type": "markdown",
   "id": "752e0fbb-9781-4863-b782-19f60776f114",
   "metadata": {},
   "source": [
    "**Question:** If I take a random sample, how often will it be within one standard error of the population mean?"
   ]
  },
  {
   "cell_type": "code",
   "execution_count": null,
   "id": "5a50f31b-8638-4069-9e05-fa78186c6e3c",
   "metadata": {},
   "outputs": [],
   "source": [
    "# Your Code Here"
   ]
  },
  {
   "cell_type": "markdown",
   "id": "4b6b5855-fac7-4ffb-83a2-185ef2f895e1",
   "metadata": {},
   "source": [
    "**Question:** If I take a random sample, how often will it be within two standard errors of the population mean?"
   ]
  },
  {
   "cell_type": "code",
   "execution_count": null,
   "id": "fa8de3a7",
   "metadata": {},
   "outputs": [],
   "source": [
    "# Your Code Here"
   ]
  },
  {
   "cell_type": "markdown",
   "id": "7f2b50e7-f60a-43d0-bf30-509114f09dcd",
   "metadata": {},
   "source": [
    "**Question:** How many standard errors do I need to go to capture 95% of sample means?"
   ]
  },
  {
   "cell_type": "code",
   "execution_count": null,
   "id": "4d7f10dd",
   "metadata": {},
   "outputs": [],
   "source": [
    "# Your Code Here"
   ]
  },
  {
   "cell_type": "markdown",
   "id": "2afddbbe-6d3b-48d8-9e16-41014814270c",
   "metadata": {},
   "source": [
    "Based on this, we have a recipe for coming up with an interval that we can be reasonably confident contains the population mean (meaning that it will work 95% of the time).\n",
    "\n",
    "Let's test whether it works."
   ]
  },
  {
   "cell_type": "code",
   "execution_count": null,
   "id": "e7f847f6-5af7-4e27-a240-200748d42df6",
   "metadata": {},
   "outputs": [],
   "source": [
    "# Your Code Here"
   ]
  },
  {
   "cell_type": "markdown",
   "id": "ba9d09c7-73c9-4016-b7ee-efd6cc6f77ee",
   "metadata": {},
   "source": [
    "But, we have a problem - this recipe requires knowing the population standard deviation! What can we do instead?"
   ]
  },
  {
   "cell_type": "code",
   "execution_count": null,
   "id": "27947721-de7d-4b8d-a41d-7535821c4c3e",
   "metadata": {},
   "outputs": [],
   "source": [
    "# Your Code Here"
   ]
  },
  {
   "cell_type": "markdown",
   "id": "56c2c284-a2c6-4805-9ddd-a7624cfd9da7",
   "metadata": {},
   "source": [
    "What if sample size is small?"
   ]
  },
  {
   "cell_type": "code",
   "execution_count": null,
   "id": "d4d6a5e4-deeb-4b6e-893f-62785a66b493",
   "metadata": {},
   "outputs": [],
   "source": [
    "# Your Code Here"
   ]
  }
 ],
 "metadata": {
  "kernelspec": {
   "display_name": "Python 3 (ipykernel)",
   "language": "python",
   "name": "python3"
  },
  "language_info": {
   "codemirror_mode": {
    "name": "ipython",
    "version": 3
   },
   "file_extension": ".py",
   "mimetype": "text/x-python",
   "name": "python",
   "nbconvert_exporter": "python",
   "pygments_lexer": "ipython3",
   "version": "3.9.16"
  }
 },
 "nbformat": 4,
 "nbformat_minor": 5
}
