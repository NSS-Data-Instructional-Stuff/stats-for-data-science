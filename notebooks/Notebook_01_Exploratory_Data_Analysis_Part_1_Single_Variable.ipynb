{
 "cells": [
  {
   "cell_type": "markdown",
   "metadata": {},
   "source": [
    "# Exploratory Data Analysis\n",
    "\n",
    "Exploratory data analysis (EDA) is the process of looking for patterns, differences, and other features within a dataset. You are trying to analyze your dataset to summarize its main characteristics.\n",
    "\n",
    "EDA can be used to check your data for inconsistencies or identify limitations in the data, as well as identifying trends or outliers in the data.\n",
    "\n",
    "EDA can be done to generate ideas or hypotheses about your population of interest.\n",
    "\n",
    "EDA is often done visually, by creating plots, or numerically, by calculating **descriptive statistics**.\n",
    "\n",
    "The tools that you use depend on whether you are looking at numeric or categorical variables."
   ]
  },
  {
   "cell_type": "markdown",
   "metadata": {},
   "source": [
    "You will be using the `pandas` and `numpy` libraries to perform some of your calculations and the `pyplot` module from `matplotlib`. You must first import these library. You will *alias* `pandas` as `pd` so that when you refer to it later, you only need to type `pd`. Similarly, you will alias `numpy` and `matplotlib.pyplot`."
   ]
  },
  {
   "cell_type": "code",
   "execution_count": 1,
   "metadata": {},
   "outputs": [],
   "source": [
    "import pandas as pd\n",
    "import matplotlib.pyplot as plt\n",
    "import numpy as np"
   ]
  },
  {
   "cell_type": "markdown",
   "metadata": {},
   "source": [
    "## Qualitative/Categorial Variables\n",
    "\n",
    "Recall that qualitative variables are those that fall into two or more levels/groups.\n",
    "\n",
    "The most interesting information in regard to qualitative variables is the number of observations per level/group.\n",
    "\n",
    "You can also look for the **mode** of a categorical variable, or the most frequent observation.\n",
    "\n",
    "This can be displayed in a **frequency table**, which shows a count of observations per category.\n",
    "\n",
    "For this example, we'll look at data from the 2018 Central Park Squirrel Census, which can be obtained from https://data.cityofnewyork.us/Environment/2018-Central-Park-Squirrel-Census-Squirrel-Data/vfnx-vebw."
   ]
  },
  {
   "cell_type": "markdown",
   "metadata": {},
   "source": [
    "The first step is to read the data into a pandas DataFrame so the we can manipulate it."
   ]
  },
  {
   "cell_type": "code",
   "execution_count": 2,
   "metadata": {},
   "outputs": [],
   "source": [
    "squirrels = pd.read_csv('../data/2018_Central_Park_Squirrel_Census_-_Squirrel_Data.csv')"
   ]
  },
  {
   "cell_type": "markdown",
   "metadata": {},
   "source": [
    "You can look at the first few rows by using the `.head()` **method**. This is a function which is built in to DataFrames.\n",
    "\n",
    "To use a dataframe method, you normally type the name of the dataframe followed by a `.` and the name of the method you wish to use. \n",
    "\n",
    "Note also that when using methods, you need to put a set of parentheses after the name of the method."
   ]
  },
  {
   "cell_type": "code",
   "execution_count": 3,
   "metadata": {},
   "outputs": [
    {
     "data": {
      "text/html": [
       "<div>\n",
       "<style scoped>\n",
       "    .dataframe tbody tr th:only-of-type {\n",
       "        vertical-align: middle;\n",
       "    }\n",
       "\n",
       "    .dataframe tbody tr th {\n",
       "        vertical-align: top;\n",
       "    }\n",
       "\n",
       "    .dataframe thead th {\n",
       "        text-align: right;\n",
       "    }\n",
       "</style>\n",
       "<table border=\"1\" class=\"dataframe\">\n",
       "  <thead>\n",
       "    <tr style=\"text-align: right;\">\n",
       "      <th></th>\n",
       "      <th>X</th>\n",
       "      <th>Y</th>\n",
       "      <th>Unique Squirrel ID</th>\n",
       "      <th>Hectare</th>\n",
       "      <th>Shift</th>\n",
       "      <th>Date</th>\n",
       "      <th>Hectare Squirrel Number</th>\n",
       "      <th>Age</th>\n",
       "      <th>Primary Fur Color</th>\n",
       "      <th>Highlight Fur Color</th>\n",
       "      <th>...</th>\n",
       "      <th>Approaches</th>\n",
       "      <th>Indifferent</th>\n",
       "      <th>Runs from</th>\n",
       "      <th>Other Interactions</th>\n",
       "      <th>Lat/Long</th>\n",
       "      <th>Zip Codes</th>\n",
       "      <th>Community Districts</th>\n",
       "      <th>Borough Boundaries</th>\n",
       "      <th>City Council Districts</th>\n",
       "      <th>Police Precincts</th>\n",
       "    </tr>\n",
       "  </thead>\n",
       "  <tbody>\n",
       "    <tr>\n",
       "      <th>0</th>\n",
       "      <td>-73.956134</td>\n",
       "      <td>40.794082</td>\n",
       "      <td>37F-PM-1014-03</td>\n",
       "      <td>37F</td>\n",
       "      <td>PM</td>\n",
       "      <td>10142018</td>\n",
       "      <td>3</td>\n",
       "      <td>NaN</td>\n",
       "      <td>NaN</td>\n",
       "      <td>NaN</td>\n",
       "      <td>...</td>\n",
       "      <td>False</td>\n",
       "      <td>False</td>\n",
       "      <td>False</td>\n",
       "      <td>NaN</td>\n",
       "      <td>POINT (-73.9561344937861 40.7940823884086)</td>\n",
       "      <td>NaN</td>\n",
       "      <td>19</td>\n",
       "      <td>4</td>\n",
       "      <td>19</td>\n",
       "      <td>13</td>\n",
       "    </tr>\n",
       "    <tr>\n",
       "      <th>1</th>\n",
       "      <td>-73.957044</td>\n",
       "      <td>40.794851</td>\n",
       "      <td>37E-PM-1006-03</td>\n",
       "      <td>37E</td>\n",
       "      <td>PM</td>\n",
       "      <td>10062018</td>\n",
       "      <td>3</td>\n",
       "      <td>Adult</td>\n",
       "      <td>Gray</td>\n",
       "      <td>Cinnamon</td>\n",
       "      <td>...</td>\n",
       "      <td>False</td>\n",
       "      <td>False</td>\n",
       "      <td>True</td>\n",
       "      <td>me</td>\n",
       "      <td>POINT (-73.9570437717691 40.794850940803904)</td>\n",
       "      <td>NaN</td>\n",
       "      <td>19</td>\n",
       "      <td>4</td>\n",
       "      <td>19</td>\n",
       "      <td>13</td>\n",
       "    </tr>\n",
       "    <tr>\n",
       "      <th>2</th>\n",
       "      <td>-73.976831</td>\n",
       "      <td>40.766718</td>\n",
       "      <td>2E-AM-1010-03</td>\n",
       "      <td>02E</td>\n",
       "      <td>AM</td>\n",
       "      <td>10102018</td>\n",
       "      <td>3</td>\n",
       "      <td>Adult</td>\n",
       "      <td>Cinnamon</td>\n",
       "      <td>NaN</td>\n",
       "      <td>...</td>\n",
       "      <td>False</td>\n",
       "      <td>True</td>\n",
       "      <td>False</td>\n",
       "      <td>NaN</td>\n",
       "      <td>POINT (-73.9768311751004 40.76671780725581)</td>\n",
       "      <td>NaN</td>\n",
       "      <td>19</td>\n",
       "      <td>4</td>\n",
       "      <td>19</td>\n",
       "      <td>13</td>\n",
       "    </tr>\n",
       "    <tr>\n",
       "      <th>3</th>\n",
       "      <td>-73.975725</td>\n",
       "      <td>40.769703</td>\n",
       "      <td>5D-PM-1018-05</td>\n",
       "      <td>05D</td>\n",
       "      <td>PM</td>\n",
       "      <td>10182018</td>\n",
       "      <td>5</td>\n",
       "      <td>Juvenile</td>\n",
       "      <td>Gray</td>\n",
       "      <td>NaN</td>\n",
       "      <td>...</td>\n",
       "      <td>False</td>\n",
       "      <td>False</td>\n",
       "      <td>True</td>\n",
       "      <td>NaN</td>\n",
       "      <td>POINT (-73.9757249834141 40.7697032606755)</td>\n",
       "      <td>NaN</td>\n",
       "      <td>19</td>\n",
       "      <td>4</td>\n",
       "      <td>19</td>\n",
       "      <td>13</td>\n",
       "    </tr>\n",
       "    <tr>\n",
       "      <th>4</th>\n",
       "      <td>-73.959313</td>\n",
       "      <td>40.797533</td>\n",
       "      <td>39B-AM-1018-01</td>\n",
       "      <td>39B</td>\n",
       "      <td>AM</td>\n",
       "      <td>10182018</td>\n",
       "      <td>1</td>\n",
       "      <td>NaN</td>\n",
       "      <td>NaN</td>\n",
       "      <td>NaN</td>\n",
       "      <td>...</td>\n",
       "      <td>False</td>\n",
       "      <td>False</td>\n",
       "      <td>False</td>\n",
       "      <td>NaN</td>\n",
       "      <td>POINT (-73.9593126695714 40.797533370163)</td>\n",
       "      <td>NaN</td>\n",
       "      <td>19</td>\n",
       "      <td>4</td>\n",
       "      <td>19</td>\n",
       "      <td>13</td>\n",
       "    </tr>\n",
       "    <tr>\n",
       "      <th>5</th>\n",
       "      <td>-73.956570</td>\n",
       "      <td>40.790256</td>\n",
       "      <td>33H-AM-1019-02</td>\n",
       "      <td>33H</td>\n",
       "      <td>AM</td>\n",
       "      <td>10192018</td>\n",
       "      <td>2</td>\n",
       "      <td>Juvenile</td>\n",
       "      <td>Gray</td>\n",
       "      <td>Cinnamon</td>\n",
       "      <td>...</td>\n",
       "      <td>False</td>\n",
       "      <td>False</td>\n",
       "      <td>False</td>\n",
       "      <td>NaN</td>\n",
       "      <td>POINT (-73.9565700386162 40.7902561000937)</td>\n",
       "      <td>NaN</td>\n",
       "      <td>19</td>\n",
       "      <td>4</td>\n",
       "      <td>19</td>\n",
       "      <td>13</td>\n",
       "    </tr>\n",
       "    <tr>\n",
       "      <th>6</th>\n",
       "      <td>-73.971974</td>\n",
       "      <td>40.769305</td>\n",
       "      <td>6G-PM-1020-02</td>\n",
       "      <td>06G</td>\n",
       "      <td>PM</td>\n",
       "      <td>10202018</td>\n",
       "      <td>2</td>\n",
       "      <td>Adult</td>\n",
       "      <td>Gray</td>\n",
       "      <td>NaN</td>\n",
       "      <td>...</td>\n",
       "      <td>False</td>\n",
       "      <td>True</td>\n",
       "      <td>False</td>\n",
       "      <td>NaN</td>\n",
       "      <td>POINT (-73.9719735582476 40.7693045133578)</td>\n",
       "      <td>NaN</td>\n",
       "      <td>19</td>\n",
       "      <td>4</td>\n",
       "      <td>19</td>\n",
       "      <td>13</td>\n",
       "    </tr>\n",
       "    <tr>\n",
       "      <th>7</th>\n",
       "      <td>-73.960261</td>\n",
       "      <td>40.794288</td>\n",
       "      <td>35C-PM-1013-03</td>\n",
       "      <td>35C</td>\n",
       "      <td>PM</td>\n",
       "      <td>10132018</td>\n",
       "      <td>3</td>\n",
       "      <td>NaN</td>\n",
       "      <td>Gray</td>\n",
       "      <td>Cinnamon</td>\n",
       "      <td>...</td>\n",
       "      <td>False</td>\n",
       "      <td>False</td>\n",
       "      <td>True</td>\n",
       "      <td>NaN</td>\n",
       "      <td>POINT (-73.9602609920814 40.79428830455661)</td>\n",
       "      <td>NaN</td>\n",
       "      <td>19</td>\n",
       "      <td>4</td>\n",
       "      <td>19</td>\n",
       "      <td>13</td>\n",
       "    </tr>\n",
       "    <tr>\n",
       "      <th>8</th>\n",
       "      <td>-73.977072</td>\n",
       "      <td>40.772975</td>\n",
       "      <td>7B-AM-1008-09</td>\n",
       "      <td>07B</td>\n",
       "      <td>AM</td>\n",
       "      <td>10082018</td>\n",
       "      <td>9</td>\n",
       "      <td>Adult</td>\n",
       "      <td>Gray</td>\n",
       "      <td>NaN</td>\n",
       "      <td>...</td>\n",
       "      <td>False</td>\n",
       "      <td>True</td>\n",
       "      <td>False</td>\n",
       "      <td>NaN</td>\n",
       "      <td>POINT (-73.9770718586754 40.7729752391435)</td>\n",
       "      <td>NaN</td>\n",
       "      <td>19</td>\n",
       "      <td>4</td>\n",
       "      <td>19</td>\n",
       "      <td>13</td>\n",
       "    </tr>\n",
       "    <tr>\n",
       "      <th>9</th>\n",
       "      <td>-73.959641</td>\n",
       "      <td>40.790313</td>\n",
       "      <td>32E-PM-1017-14</td>\n",
       "      <td>32E</td>\n",
       "      <td>PM</td>\n",
       "      <td>10172018</td>\n",
       "      <td>14</td>\n",
       "      <td>Adult</td>\n",
       "      <td>Gray</td>\n",
       "      <td>NaN</td>\n",
       "      <td>...</td>\n",
       "      <td>False</td>\n",
       "      <td>False</td>\n",
       "      <td>True</td>\n",
       "      <td>NaN</td>\n",
       "      <td>POINT (-73.9596413903948 40.7903128889029)</td>\n",
       "      <td>NaN</td>\n",
       "      <td>19</td>\n",
       "      <td>4</td>\n",
       "      <td>19</td>\n",
       "      <td>13</td>\n",
       "    </tr>\n",
       "  </tbody>\n",
       "</table>\n",
       "<p>10 rows × 36 columns</p>\n",
       "</div>"
      ],
      "text/plain": [
       "           X          Y Unique Squirrel ID Hectare Shift      Date  \\\n",
       "0 -73.956134  40.794082     37F-PM-1014-03     37F    PM  10142018   \n",
       "1 -73.957044  40.794851     37E-PM-1006-03     37E    PM  10062018   \n",
       "2 -73.976831  40.766718      2E-AM-1010-03     02E    AM  10102018   \n",
       "3 -73.975725  40.769703      5D-PM-1018-05     05D    PM  10182018   \n",
       "4 -73.959313  40.797533     39B-AM-1018-01     39B    AM  10182018   \n",
       "5 -73.956570  40.790256     33H-AM-1019-02     33H    AM  10192018   \n",
       "6 -73.971974  40.769305      6G-PM-1020-02     06G    PM  10202018   \n",
       "7 -73.960261  40.794288     35C-PM-1013-03     35C    PM  10132018   \n",
       "8 -73.977072  40.772975      7B-AM-1008-09     07B    AM  10082018   \n",
       "9 -73.959641  40.790313     32E-PM-1017-14     32E    PM  10172018   \n",
       "\n",
       "   Hectare Squirrel Number       Age Primary Fur Color Highlight Fur Color  \\\n",
       "0                        3       NaN               NaN                 NaN   \n",
       "1                        3     Adult              Gray            Cinnamon   \n",
       "2                        3     Adult          Cinnamon                 NaN   \n",
       "3                        5  Juvenile              Gray                 NaN   \n",
       "4                        1       NaN               NaN                 NaN   \n",
       "5                        2  Juvenile              Gray            Cinnamon   \n",
       "6                        2     Adult              Gray                 NaN   \n",
       "7                        3       NaN              Gray            Cinnamon   \n",
       "8                        9     Adult              Gray                 NaN   \n",
       "9                       14     Adult              Gray                 NaN   \n",
       "\n",
       "   ... Approaches Indifferent Runs from Other Interactions  \\\n",
       "0  ...      False       False     False                NaN   \n",
       "1  ...      False       False      True                 me   \n",
       "2  ...      False        True     False                NaN   \n",
       "3  ...      False       False      True                NaN   \n",
       "4  ...      False       False     False                NaN   \n",
       "5  ...      False       False     False                NaN   \n",
       "6  ...      False        True     False                NaN   \n",
       "7  ...      False       False      True                NaN   \n",
       "8  ...      False        True     False                NaN   \n",
       "9  ...      False       False      True                NaN   \n",
       "\n",
       "                                       Lat/Long  Zip Codes  \\\n",
       "0    POINT (-73.9561344937861 40.7940823884086)        NaN   \n",
       "1  POINT (-73.9570437717691 40.794850940803904)        NaN   \n",
       "2   POINT (-73.9768311751004 40.76671780725581)        NaN   \n",
       "3    POINT (-73.9757249834141 40.7697032606755)        NaN   \n",
       "4     POINT (-73.9593126695714 40.797533370163)        NaN   \n",
       "5    POINT (-73.9565700386162 40.7902561000937)        NaN   \n",
       "6    POINT (-73.9719735582476 40.7693045133578)        NaN   \n",
       "7   POINT (-73.9602609920814 40.79428830455661)        NaN   \n",
       "8    POINT (-73.9770718586754 40.7729752391435)        NaN   \n",
       "9    POINT (-73.9596413903948 40.7903128889029)        NaN   \n",
       "\n",
       "   Community Districts  Borough Boundaries  City Council Districts  \\\n",
       "0                   19                   4                      19   \n",
       "1                   19                   4                      19   \n",
       "2                   19                   4                      19   \n",
       "3                   19                   4                      19   \n",
       "4                   19                   4                      19   \n",
       "5                   19                   4                      19   \n",
       "6                   19                   4                      19   \n",
       "7                   19                   4                      19   \n",
       "8                   19                   4                      19   \n",
       "9                   19                   4                      19   \n",
       "\n",
       "   Police Precincts  \n",
       "0                13  \n",
       "1                13  \n",
       "2                13  \n",
       "3                13  \n",
       "4                13  \n",
       "5                13  \n",
       "6                13  \n",
       "7                13  \n",
       "8                13  \n",
       "9                13  \n",
       "\n",
       "[10 rows x 36 columns]"
      ]
     },
     "execution_count": 3,
     "metadata": {},
     "output_type": "execute_result"
    }
   ],
   "source": [
    "squirrels.head(10)"
   ]
  },
  {
   "cell_type": "markdown",
   "metadata": {},
   "source": [
    "**Question:** What do you notice when looking at the first 10 rows? "
   ]
  },
  {
   "cell_type": "markdown",
   "metadata": {},
   "source": [
    "One of the variables in the dataset is the primary fur color. \n",
    "\n",
    "If you want to see how many squirrels there were for each fur color, you can use the `value_counts` method from `pandas` to create a frequency table."
   ]
  },
  {
   "cell_type": "code",
   "execution_count": 4,
   "metadata": {
    "scrolled": true
   },
   "outputs": [
    {
     "data": {
      "text/plain": [
       "Gray        2473\n",
       "Cinnamon     392\n",
       "Black        103\n",
       "Name: Primary Fur Color, dtype: int64"
      ]
     },
     "execution_count": 4,
     "metadata": {},
     "output_type": "execute_result"
    }
   ],
   "source": [
    "squirrels['Primary Fur Color'].value_counts()"
   ]
  },
  {
   "cell_type": "markdown",
   "metadata": {},
   "source": [
    "You can see that gray squirrels are by far the most common squirrel spotted in Central Park in the dataset."
   ]
  },
  {
   "cell_type": "markdown",
   "metadata": {},
   "source": [
    "If you are not interested in the *number* of observations of each group, but instead the *proportion* of observations in each category, you can add the `normalize = True` argument."
   ]
  },
  {
   "cell_type": "code",
   "execution_count": 5,
   "metadata": {
    "scrolled": true
   },
   "outputs": [
    {
     "data": {
      "text/plain": [
       "Gray        0.833221\n",
       "Cinnamon    0.132075\n",
       "Black       0.034704\n",
       "Name: Primary Fur Color, dtype: float64"
      ]
     },
     "execution_count": 5,
     "metadata": {},
     "output_type": "execute_result"
    }
   ],
   "source": [
    "squirrels['Primary Fur Color'].value_counts(normalize = True)"
   ]
  },
  {
   "cell_type": "markdown",
   "metadata": {},
   "source": [
    "If you want to visualize the frequency per color, you can create a **bar plot**."
   ]
  },
  {
   "cell_type": "code",
   "execution_count": 6,
   "metadata": {},
   "outputs": [
    {
     "data": {
      "text/plain": [
       "<AxesSubplot:>"
      ]
     },
     "execution_count": 6,
     "metadata": {},
     "output_type": "execute_result"
    },
    {
     "data": {
      "image/png": "[encoded data removed]",
      "text/plain": [
       "<Figure size 432x288 with 1 Axes>"
      ]
     },
     "metadata": {
      "needs_background": "light"
     },
     "output_type": "display_data"
    }
   ],
   "source": [
    "squirrels['Primary Fur Color'].value_counts().plot(kind = 'bar')"
   ]
  },
  {
   "cell_type": "markdown",
   "metadata": {},
   "source": [
    "A few small improvements you can make:\n",
    "1. Add a semicolon to the last line, which suppresses the unneeded text output.\n",
    "2. Use the `.xticks()` function from matplotlib to remove the rotation for the labels.\n",
    "3. Use the `.title()` method to add a title to our plot."
   ]
  },
  {
   "cell_type": "code",
   "execution_count": 7,
   "metadata": {},
   "outputs": [
    {
     "data": {
      "image/png": "[encoded data removed]",
      "text/plain": [
       "<Figure size 432x288 with 1 Axes>"
      ]
     },
     "metadata": {
      "needs_background": "light"
     },
     "output_type": "display_data"
    }
   ],
   "source": [
    "squirrels['Primary Fur Color'].value_counts().plot(kind = 'bar')\n",
    "plt.xticks(rotation = 0)\n",
    "plt.title('Number of Squirrels by Each Primary Fur Color');"
   ]
  },
  {
   "cell_type": "markdown",
   "metadata": {},
   "source": [
    "### Your Turn \n",
    "\n",
    "**Question 1:** What percentage of the time were squirrels observed approaching (as indicated by the \"Approaches\" column?"
   ]
  },
  {
   "cell_type": "code",
   "execution_count": 8,
   "metadata": {},
   "outputs": [],
   "source": [
    "# Your Code Here"
   ]
  },
  {
   "cell_type": "markdown",
   "metadata": {},
   "source": [
    "**Question 2:** Which age group (contained in the \"Age\" column) was most commonly spotted? Make a bar chart to show this."
   ]
  },
  {
   "cell_type": "code",
   "execution_count": 9,
   "metadata": {},
   "outputs": [],
   "source": [
    "# Your Code Here"
   ]
  },
  {
   "cell_type": "markdown",
   "metadata": {},
   "source": [
    "**Question 3:** Are there any squirrels that were observed multiple times? \n",
    "\n",
    "Bonus: How many squirrels were observed multiple times?"
   ]
  },
  {
   "cell_type": "code",
   "execution_count": 10,
   "metadata": {},
   "outputs": [],
   "source": [
    "# Your Code Here"
   ]
  },
  {
   "cell_type": "markdown",
   "metadata": {},
   "source": [
    "## Quantitative/Numerical Variables\n",
    "\n",
    "In this notebook you'll be looking at the salaries and the heights of the players for the 2019-2020 Los Angeles Lakers. As opposed to categorical variable, there are number of ways we can understand numerical variables."
   ]
  },
  {
   "cell_type": "markdown",
   "metadata": {},
   "source": [
    "First, we'll read in the dataset from a csv file."
   ]
  },
  {
   "cell_type": "code",
   "execution_count": 11,
   "metadata": {},
   "outputs": [],
   "source": [
    "lakers = pd.read_csv('../data/Lakers.csv')"
   ]
  },
  {
   "cell_type": "markdown",
   "metadata": {},
   "source": [
    "Take a look at it."
   ]
  },
  {
   "cell_type": "code",
   "execution_count": 12,
   "metadata": {},
   "outputs": [
    {
     "data": {
      "text/html": [
       "<div>\n",
       "<style scoped>\n",
       "    .dataframe tbody tr th:only-of-type {\n",
       "        vertical-align: middle;\n",
       "    }\n",
       "\n",
       "    .dataframe tbody tr th {\n",
       "        vertical-align: top;\n",
       "    }\n",
       "\n",
       "    .dataframe thead th {\n",
       "        text-align: right;\n",
       "    }\n",
       "</style>\n",
       "<table border=\"1\" class=\"dataframe\">\n",
       "  <thead>\n",
       "    <tr style=\"text-align: right;\">\n",
       "      <th></th>\n",
       "      <th>player</th>\n",
       "      <th>salary</th>\n",
       "      <th>height_inches</th>\n",
       "    </tr>\n",
       "  </thead>\n",
       "  <tbody>\n",
       "    <tr>\n",
       "      <th>0</th>\n",
       "      <td>LeBron James</td>\n",
       "      <td>37436858</td>\n",
       "      <td>80</td>\n",
       "    </tr>\n",
       "    <tr>\n",
       "      <th>1</th>\n",
       "      <td>Anthony Davis</td>\n",
       "      <td>27093019</td>\n",
       "      <td>82</td>\n",
       "    </tr>\n",
       "    <tr>\n",
       "      <th>2</th>\n",
       "      <td>Danny Green</td>\n",
       "      <td>14634146</td>\n",
       "      <td>78</td>\n",
       "    </tr>\n",
       "    <tr>\n",
       "      <th>3</th>\n",
       "      <td>Kentavious Caldwell-Pope</td>\n",
       "      <td>8089282</td>\n",
       "      <td>77</td>\n",
       "    </tr>\n",
       "    <tr>\n",
       "      <th>4</th>\n",
       "      <td>Avery Bradley</td>\n",
       "      <td>4767000</td>\n",
       "      <td>74</td>\n",
       "    </tr>\n",
       "    <tr>\n",
       "      <th>5</th>\n",
       "      <td>JaVale McGee</td>\n",
       "      <td>4000000</td>\n",
       "      <td>84</td>\n",
       "    </tr>\n",
       "    <tr>\n",
       "      <th>6</th>\n",
       "      <td>DeMarcus Cousins</td>\n",
       "      <td>3500000</td>\n",
       "      <td>83</td>\n",
       "    </tr>\n",
       "    <tr>\n",
       "      <th>7</th>\n",
       "      <td>Quinn Cook</td>\n",
       "      <td>3000000</td>\n",
       "      <td>74</td>\n",
       "    </tr>\n",
       "    <tr>\n",
       "      <th>8</th>\n",
       "      <td>Alex Caruso</td>\n",
       "      <td>2750000</td>\n",
       "      <td>77</td>\n",
       "    </tr>\n",
       "    <tr>\n",
       "      <th>9</th>\n",
       "      <td>Jared Dudley</td>\n",
       "      <td>2564753</td>\n",
       "      <td>79</td>\n",
       "    </tr>\n",
       "    <tr>\n",
       "      <th>10</th>\n",
       "      <td>Dwight Howard</td>\n",
       "      <td>2564753</td>\n",
       "      <td>83</td>\n",
       "    </tr>\n",
       "    <tr>\n",
       "      <th>11</th>\n",
       "      <td>Rajon Rondo</td>\n",
       "      <td>2564753</td>\n",
       "      <td>73</td>\n",
       "    </tr>\n",
       "    <tr>\n",
       "      <th>12</th>\n",
       "      <td>Troy Daniels</td>\n",
       "      <td>2028594</td>\n",
       "      <td>76</td>\n",
       "    </tr>\n",
       "    <tr>\n",
       "      <th>13</th>\n",
       "      <td>Kyle Kuzma</td>\n",
       "      <td>1974600</td>\n",
       "      <td>81</td>\n",
       "    </tr>\n",
       "    <tr>\n",
       "      <th>14</th>\n",
       "      <td>Talen Horton-Tucker</td>\n",
       "      <td>898310</td>\n",
       "      <td>76</td>\n",
       "    </tr>\n",
       "  </tbody>\n",
       "</table>\n",
       "</div>"
      ],
      "text/plain": [
       "                      player    salary  height_inches\n",
       "0               LeBron James  37436858             80\n",
       "1              Anthony Davis  27093019             82\n",
       "2                Danny Green  14634146             78\n",
       "3   Kentavious Caldwell-Pope   8089282             77\n",
       "4              Avery Bradley   4767000             74\n",
       "5               JaVale McGee   4000000             84\n",
       "6           DeMarcus Cousins   3500000             83\n",
       "7                 Quinn Cook   3000000             74\n",
       "8                Alex Caruso   2750000             77\n",
       "9               Jared Dudley   2564753             79\n",
       "10             Dwight Howard   2564753             83\n",
       "11               Rajon Rondo   2564753             73\n",
       "12              Troy Daniels   2028594             76\n",
       "13                Kyle Kuzma   1974600             81\n",
       "14       Talen Horton-Tucker    898310             76"
      ]
     },
     "execution_count": 12,
     "metadata": {},
     "output_type": "execute_result"
    }
   ],
   "source": [
    "lakers"
   ]
  },
  {
   "cell_type": "markdown",
   "metadata": {},
   "source": [
    "### Descriptive Statistics\n",
    "\n",
    "**Goal:** Describe a data set in terms of its important features. Summarize a data set using just a few numbers and/or a plot. Rather than looking at the entire dataset at once, convert it into an easily digestible form.\n",
    "\n",
    "There are three major categories of descriptive statistics:\n",
    "* Measures of Central Tendency\n",
    "* Measures of Variability/Spread\n",
    "* Measures of Position"
   ]
  },
  {
   "cell_type": "markdown",
   "metadata": {},
   "source": [
    "# Measures of Central Tendency\n",
    "\n",
    "Give a central or \"typical\" value of a data set.\n",
    "\n",
    "Most common measures of central tendency:\n",
    "* mean\n",
    "* median\n",
    "* mode"
   ]
  },
  {
   "cell_type": "markdown",
   "metadata": {},
   "source": [
    "## Mean\n",
    "\n",
    "Also known as the **average** or **arithmetic mean**. \n",
    "\n",
    "Defined as total (sum) of the values of a set of observations divided by the number of observations. \n",
    "\n",
    "The notation for the mean differs depending on if you are calculating it for a sample or for the entire population.\n",
    "\n",
    "$$\\text{Sample Mean: } \\bar{x} = \\frac{x_1 + x_2 + \\cdots + x_n}{n} = \\frac{\\sum\\limits_{i=1}^n x_i}{n}$$\n",
    "\n",
    "$$\\text{Population Mean: } \\mu = \\frac{x_1 + x_2 + \\cdots + x_n}{n} = \\frac{\\sum\\limits_{i=1}^n x_i}{n}$$\n",
    "\n",
    "The mean represents the “balance point” of the data. \n",
    "\n",
    "It is the amount that all observations would have if the total amount of the variable was evenly distributed to all observations."
   ]
  },
  {
   "cell_type": "markdown",
   "metadata": {},
   "source": [
    "First, you'll manually calculate the mean, so that you can see how to use some of the methods available in `pandas`. "
   ]
  },
  {
   "cell_type": "code",
   "execution_count": 13,
   "metadata": {},
   "outputs": [
    {
     "data": {
      "text/plain": [
       "117866068"
      ]
     },
     "execution_count": 13,
     "metadata": {},
     "output_type": "execute_result"
    }
   ],
   "source": [
    "lakers['salary'].sum()"
   ]
  },
  {
   "cell_type": "code",
   "execution_count": 14,
   "metadata": {},
   "outputs": [
    {
     "data": {
      "text/plain": [
       "15"
      ]
     },
     "execution_count": 14,
     "metadata": {},
     "output_type": "execute_result"
    }
   ],
   "source": [
    "lakers['salary'].count()"
   ]
  },
  {
   "cell_type": "code",
   "execution_count": 15,
   "metadata": {},
   "outputs": [
    {
     "data": {
      "text/plain": [
       "7857737.866666666"
      ]
     },
     "execution_count": 15,
     "metadata": {},
     "output_type": "execute_result"
    }
   ],
   "source": [
    "lakers['salary'].sum() / lakers['salary'].count()"
   ]
  },
  {
   "cell_type": "markdown",
   "metadata": {},
   "source": [
    "The `pandas` library has many of the common descriptive statistics available as methods. For example, to compute the mean salary, you didn't need to compute the sum and count, instead you could have taken advantage of the `mean` method."
   ]
  },
  {
   "cell_type": "code",
   "execution_count": 16,
   "metadata": {},
   "outputs": [
    {
     "data": {
      "text/plain": [
       "7857737.866666666"
      ]
     },
     "execution_count": 16,
     "metadata": {},
     "output_type": "execute_result"
    }
   ],
   "source": [
    "lakers['salary'].mean()"
   ]
  },
  {
   "cell_type": "markdown",
   "metadata": {},
   "source": [
    "This says that if you distributed the total payroll evenly to all players, they would each receive a salary of $7,857,737.\n",
    "\n",
    "Look back at the full dataset and notice that only 4 out of the 15 players made above the average, with the top three players making significantly higher than the average. This is typical for data sets where you have extreme observations.\n",
    "\n",
    "In this case, since Lebron James and Anthony Davis earn much higher salaries than the typical player, they end up pulling the average salary up."
   ]
  },
  {
   "cell_type": "markdown",
   "metadata": {},
   "source": [
    "You can also calculate the mean player height."
   ]
  },
  {
   "cell_type": "code",
   "execution_count": 17,
   "metadata": {},
   "outputs": [
    {
     "data": {
      "text/plain": [
       "78.46666666666667"
      ]
     },
     "execution_count": 17,
     "metadata": {},
     "output_type": "execute_result"
    }
   ],
   "source": [
    "lakers['height_inches'].mean()"
   ]
  },
  {
   "cell_type": "markdown",
   "metadata": {},
   "source": [
    "You can sort the table by height now to see how the mean compares to the overall distribution."
   ]
  },
  {
   "cell_type": "code",
   "execution_count": 18,
   "metadata": {},
   "outputs": [
    {
     "data": {
      "text/html": [
       "<div>\n",
       "<style scoped>\n",
       "    .dataframe tbody tr th:only-of-type {\n",
       "        vertical-align: middle;\n",
       "    }\n",
       "\n",
       "    .dataframe tbody tr th {\n",
       "        vertical-align: top;\n",
       "    }\n",
       "\n",
       "    .dataframe thead th {\n",
       "        text-align: right;\n",
       "    }\n",
       "</style>\n",
       "<table border=\"1\" class=\"dataframe\">\n",
       "  <thead>\n",
       "    <tr style=\"text-align: right;\">\n",
       "      <th></th>\n",
       "      <th>player</th>\n",
       "      <th>salary</th>\n",
       "      <th>height_inches</th>\n",
       "    </tr>\n",
       "  </thead>\n",
       "  <tbody>\n",
       "    <tr>\n",
       "      <th>0</th>\n",
       "      <td>Rajon Rondo</td>\n",
       "      <td>2564753</td>\n",
       "      <td>73</td>\n",
       "    </tr>\n",
       "    <tr>\n",
       "      <th>1</th>\n",
       "      <td>Avery Bradley</td>\n",
       "      <td>4767000</td>\n",
       "      <td>74</td>\n",
       "    </tr>\n",
       "    <tr>\n",
       "      <th>2</th>\n",
       "      <td>Quinn Cook</td>\n",
       "      <td>3000000</td>\n",
       "      <td>74</td>\n",
       "    </tr>\n",
       "    <tr>\n",
       "      <th>3</th>\n",
       "      <td>Troy Daniels</td>\n",
       "      <td>2028594</td>\n",
       "      <td>76</td>\n",
       "    </tr>\n",
       "    <tr>\n",
       "      <th>4</th>\n",
       "      <td>Talen Horton-Tucker</td>\n",
       "      <td>898310</td>\n",
       "      <td>76</td>\n",
       "    </tr>\n",
       "    <tr>\n",
       "      <th>5</th>\n",
       "      <td>Kentavious Caldwell-Pope</td>\n",
       "      <td>8089282</td>\n",
       "      <td>77</td>\n",
       "    </tr>\n",
       "    <tr>\n",
       "      <th>6</th>\n",
       "      <td>Alex Caruso</td>\n",
       "      <td>2750000</td>\n",
       "      <td>77</td>\n",
       "    </tr>\n",
       "    <tr>\n",
       "      <th>7</th>\n",
       "      <td>Danny Green</td>\n",
       "      <td>14634146</td>\n",
       "      <td>78</td>\n",
       "    </tr>\n",
       "    <tr>\n",
       "      <th>8</th>\n",
       "      <td>Jared Dudley</td>\n",
       "      <td>2564753</td>\n",
       "      <td>79</td>\n",
       "    </tr>\n",
       "    <tr>\n",
       "      <th>9</th>\n",
       "      <td>LeBron James</td>\n",
       "      <td>37436858</td>\n",
       "      <td>80</td>\n",
       "    </tr>\n",
       "    <tr>\n",
       "      <th>10</th>\n",
       "      <td>Kyle Kuzma</td>\n",
       "      <td>1974600</td>\n",
       "      <td>81</td>\n",
       "    </tr>\n",
       "    <tr>\n",
       "      <th>11</th>\n",
       "      <td>Anthony Davis</td>\n",
       "      <td>27093019</td>\n",
       "      <td>82</td>\n",
       "    </tr>\n",
       "    <tr>\n",
       "      <th>12</th>\n",
       "      <td>DeMarcus Cousins</td>\n",
       "      <td>3500000</td>\n",
       "      <td>83</td>\n",
       "    </tr>\n",
       "    <tr>\n",
       "      <th>13</th>\n",
       "      <td>Dwight Howard</td>\n",
       "      <td>2564753</td>\n",
       "      <td>83</td>\n",
       "    </tr>\n",
       "    <tr>\n",
       "      <th>14</th>\n",
       "      <td>JaVale McGee</td>\n",
       "      <td>4000000</td>\n",
       "      <td>84</td>\n",
       "    </tr>\n",
       "  </tbody>\n",
       "</table>\n",
       "</div>"
      ],
      "text/plain": [
       "                      player    salary  height_inches\n",
       "0                Rajon Rondo   2564753             73\n",
       "1              Avery Bradley   4767000             74\n",
       "2                 Quinn Cook   3000000             74\n",
       "3               Troy Daniels   2028594             76\n",
       "4        Talen Horton-Tucker    898310             76\n",
       "5   Kentavious Caldwell-Pope   8089282             77\n",
       "6                Alex Caruso   2750000             77\n",
       "7                Danny Green  14634146             78\n",
       "8               Jared Dudley   2564753             79\n",
       "9               LeBron James  37436858             80\n",
       "10                Kyle Kuzma   1974600             81\n",
       "11             Anthony Davis  27093019             82\n",
       "12          DeMarcus Cousins   3500000             83\n",
       "13             Dwight Howard   2564753             83\n",
       "14              JaVale McGee   4000000             84"
      ]
     },
     "execution_count": 18,
     "metadata": {},
     "output_type": "execute_result"
    }
   ],
   "source": [
    "lakers.sort_values('height_inches').reset_index(drop=True)        # The reset_index part renumbers the rows"
   ]
  },
  {
   "cell_type": "markdown",
   "metadata": {},
   "source": [
    "You can see that the average height, being between the 8th and 9th observation, is almost exactly in the middle of the overall distribution."
   ]
  },
  {
   "cell_type": "markdown",
   "metadata": {},
   "source": [
    "### Outliers\n",
    "\n",
    "Lebron James' salary is so much larger than the rest of the players, that it could be classified as an **outlier**. An outlier is a data point which differs significantly from other observations. It is either much higher or much lower than almost all others.\n",
    "\n",
    "There is no precise definition of an \"outlier\", and it often depends on the particular data set you are looking at and on applying some domain knowledge of the problem at hand. We will see some common rule-of-thumbs for labeling observations as outliers in following sections.\n",
    "\n",
    "If a dataset contains outliers, certain descriptive statistics can be misleading. In our case, Lebron James' salary increases the mean so that only 4 players in the dataset have salaries larger than the mean salary.\n",
    "\n",
    "Depending on what you are doing with your dataset, you may or may not need to do anything besides note any points that may be outliers. When doing exploratory analysis, the main thing you need to do with outliers is take note of them and think about them. If you are looking at a sample trying to understand a larger population, you can think about the process that led to the outliers in your sample and what that means about the larger population.\n",
    "\n",
    "If you are concerned about outliers or think that there is a good chance that your dataset contains outliers, there are other descriptive statistics which are not as sensitive to them. Such statistics are termed as **robust** statistics."
   ]
  },
  {
   "cell_type": "markdown",
   "metadata": {},
   "source": [
    "## Median\n",
    "\n",
    "The **median** is the number which divides the dataset exactly in half. It is the middle value if the data is arranged by size.\n",
    "\n",
    "For an odd number of observations, the median will be a value from the data set.\n",
    "\n",
    "For an even number of observations, the median is the mean of the two centermost observations."
   ]
  },
  {
   "cell_type": "markdown",
   "metadata": {},
   "source": [
    "In our `lakers` dataset, we have 15 observations, which means that the 8th observation corresponds to the median. In this case, Quinn Cook, who has a salary of $3,000,000."
   ]
  },
  {
   "cell_type": "code",
   "execution_count": 19,
   "metadata": {},
   "outputs": [
    {
     "data": {
      "text/plain": [
       "3000000.0"
      ]
     },
     "execution_count": 19,
     "metadata": {},
     "output_type": "execute_result"
    }
   ],
   "source": [
    "lakers['salary'].median()"
   ]
  },
  {
   "cell_type": "markdown",
   "metadata": {},
   "source": [
    "We can also look at the median height."
   ]
  },
  {
   "cell_type": "code",
   "execution_count": 20,
   "metadata": {},
   "outputs": [
    {
     "data": {
      "text/plain": [
       "78.0"
      ]
     },
     "execution_count": 20,
     "metadata": {},
     "output_type": "execute_result"
    }
   ],
   "source": [
    "lakers['height_inches'].median()"
   ]
  },
  {
   "cell_type": "markdown",
   "metadata": {},
   "source": [
    "Notice that the mean and median heights are very close to each other, whereas the mean and median salaries are quite far apart. If the mean and median are quite different, this is often a sign of either the presence of outliers or that you are working with a *skewed* dataset. You'll learn more about skewed datasets later in this notebook."
   ]
  },
  {
   "cell_type": "markdown",
   "metadata": {},
   "source": [
    "## Trimmed Mean\n",
    "\n",
    "Another option to reduce the effect of outliers is to use a **trimmed mean**. To compute the trimmed mean, you can remove the largest and smallest *x*% of observations and then calculate the mean. Often, the largest and smallest 10% are removed. This is a compromise between the mean and the median, in that it still takes into account a large portion of the dataset, while being less influeced by extreme observations.\n",
    "\n",
    "To calculate the trimmed mean, you can use the `trim_mean` function from the `scipy` `stats` module. \n",
    "\n",
    "When we import it notice that we can import just the function that we need."
   ]
  },
  {
   "cell_type": "code",
   "execution_count": 21,
   "metadata": {},
   "outputs": [],
   "source": [
    "from scipy.stats import trim_mean"
   ]
  },
  {
   "cell_type": "markdown",
   "metadata": {},
   "source": [
    "To use this function, you need to pass in the data and specify the `proportiontocut` argument, as a decimal."
   ]
  },
  {
   "cell_type": "code",
   "execution_count": 22,
   "metadata": {},
   "outputs": [
    {
     "data": {
      "text/plain": [
       "6117761.538461538"
      ]
     },
     "execution_count": 22,
     "metadata": {},
     "output_type": "execute_result"
    }
   ],
   "source": [
    "trim_mean(lakers['salary'], proportiontocut=0.1)"
   ]
  },
  {
   "cell_type": "code",
   "execution_count": 23,
   "metadata": {},
   "outputs": [
    {
     "data": {
      "text/plain": [
       "78.46153846153847"
      ]
     },
     "execution_count": 23,
     "metadata": {},
     "output_type": "execute_result"
    }
   ],
   "source": [
    "trim_mean(lakers['height_inches'], proportiontocut=0.1)"
   ]
  },
  {
   "cell_type": "markdown",
   "metadata": {},
   "source": [
    "You can see that in contrast to salaries, the 10% trimmed mean for heights is very close to the mean and median value. This can be attributed to the fact that there are a small number of players with very large salaries compared to the rest of the team. This is not the case for heights. We'll explore this idea more in the next section on distribution shape."
   ]
  },
  {
   "cell_type": "markdown",
   "metadata": {},
   "source": [
    "## Distribution Shape\n",
    "\n",
    "When looking at a numerical variable, we can also inspect the *shape* of the distribution of that variable.\n",
    "\n",
    "The **distribution** refers to the possible values of that variable and which values occur more or less frequently than others.\n",
    "\n",
    "When talking about the shape of a distribution, there are a few different aspects we can examine:\n",
    "* **Symmetry:** Is the distribution symmetric? If so, is it \"bell-shaped\"? Is it flat?\n",
    "* **Skewness:** If it is not symmetic, does it have a long tail to one side?\n",
    "* **Peaks/Modes:** How many peaks does it have? Unimodal? Bimodal? Multimodal?\n",
    "* **Spread:** How narrow/wide is the distribution?"
   ]
  },
  {
   "cell_type": "markdown",
   "metadata": {},
   "source": [
    "### Histograms\n",
    "\n",
    "If you are trying to understand the shape of the distribution of a variable, the most common tool to use is the histrogram.\n",
    "\n",
    "A histogram shows how many observations lie within a certain class interval. That is, it divides the dataset into *bins*, and the height of the plot above each interval is proportional to the number of observations that fall within that bin.\n",
    "\n",
    "Procedure:\n",
    "* Separate data into equal-width, non-overlapping bins\n",
    "* Count number of data points in each bin"
   ]
  },
  {
   "cell_type": "code",
   "execution_count": 24,
   "metadata": {},
   "outputs": [
    {
     "data": {
      "image/png": "[encoded data removed]",
      "text/plain": [
       "<Figure size 720x432 with 1 Axes>"
      ]
     },
     "metadata": {
      "needs_background": "light"
     },
     "output_type": "display_data"
    }
   ],
   "source": [
    "plt.figure(figsize = (10,6))                 # Create a bigger plot\n",
    "\n",
    "lakers['salary'].hist()\n",
    "plt.xlabel('salary')\n",
    "plt.ylabel('count')\n",
    "plt.title('Histogram of Lakers\\' Salaries');"
   ]
  },
  {
   "cell_type": "markdown",
   "metadata": {},
   "source": [
    "When constructing a histogram, you must decide how many bins to use, and it can sometimes change your understanding or give a clearer picture of the distribution you are examining."
   ]
  },
  {
   "cell_type": "code",
   "execution_count": 25,
   "metadata": {},
   "outputs": [
    {
     "data": {
      "image/png": "[encoded data removed]",
      "text/plain": [
       "<Figure size 720x432 with 1 Axes>"
      ]
     },
     "metadata": {
      "needs_background": "light"
     },
     "output_type": "display_data"
    }
   ],
   "source": [
    "plt.figure(figsize = (10,6))                 # Create a bigger plot\n",
    "\n",
    "lakers['salary'].hist(bins = 25)\n",
    "plt.xlabel('salary')\n",
    "plt.ylabel('count')\n",
    "plt.title('Histogram of Lakers\\' Salaries');"
   ]
  },
  {
   "cell_type": "markdown",
   "metadata": {},
   "source": [
    "For the Lakers salary dataset, you can see that there are a few unusually large observations. Another way to say this is that the dataset has a long tail to the right. It is most definitely not symmetric.\n",
    "\n",
    "When a dataset has a long tail to the right, you say that it is **right-skewed**. \n",
    "\n",
    "Analogously, a dataset with a long tail to the left (unusually small observations) would be said to be **left-skewed**.\n",
    "\n",
    "A long tail to one side will tend to pull the mean in that direction. The median is typically not affected as much by a long tail.\n",
    "\n",
    "For the distribution of salaries, there appears to be a single peak on the left, so this dataset would be classified as **unimodal**."
   ]
  },
  {
   "cell_type": "code",
   "execution_count": 26,
   "metadata": {},
   "outputs": [
    {
     "data": {
      "image/png": "[encoded data removed]",
      "text/plain": [
       "<Figure size 720x432 with 1 Axes>"
      ]
     },
     "metadata": {
      "needs_background": "light"
     },
     "output_type": "display_data"
    }
   ],
   "source": [
    "plt.figure(figsize = (10,6))   \n",
    "\n",
    "lakers.salary.hist(bins = 25)\n",
    "plt.hlines(y = 0, xmin = 0, xmax = lakers['salary'].max() + 500000, color = 'black')\n",
    "plt.annotate(text = 'Mean', ha = 'center', va = 'top', fontweight = 'bold',\n",
    "             xy = (lakers['salary'].mean(), -.1), xytext = (lakers['salary'].mean(), -1), arrowprops=dict(width = 8, headwidth = 20, facecolor = 'red'))\n",
    "plt.ylim(-1.5, 6.3)\n",
    "plt.xlabel('salary')\n",
    "plt.ylabel('count')\n",
    "plt.title('Histogram of Lakers\\' Salaries');"
   ]
  },
  {
   "cell_type": "code",
   "execution_count": 27,
   "metadata": {},
   "outputs": [
    {
     "data": {
      "image/png": "[encoded data removed]",
      "text/plain": [
       "<Figure size 720x432 with 1 Axes>"
      ]
     },
     "metadata": {
      "needs_background": "light"
     },
     "output_type": "display_data"
    }
   ],
   "source": [
    "plt.figure(figsize = (10,6))   \n",
    "\n",
    "lakers['salary'].hist(bins = 25)\n",
    "plt.hlines(y = 0, xmin = 0, xmax = lakers.salary.max() + 500000)\n",
    "plt.annotate(text = 'Median', ha = 'center', va = 'top', fontweight = 'bold',\n",
    "             xy = (lakers['salary'].median(), -.1), xytext = (lakers['salary'].median(), -1), arrowprops=dict(width = 8, headwidth = 20, facecolor = 'red'))\n",
    "plt.ylim(-1.5, 6.3)\n",
    "plt.xlabel('salary')\n",
    "plt.ylabel('count')\n",
    "plt.title('Histogram of Lakers\\' Salaries');"
   ]
  },
  {
   "cell_type": "code",
   "execution_count": 28,
   "metadata": {},
   "outputs": [
    {
     "data": {
      "image/png": "[encoded data removed]",
      "text/plain": [
       "<Figure size 720x432 with 1 Axes>"
      ]
     },
     "metadata": {
      "needs_background": "light"
     },
     "output_type": "display_data"
    }
   ],
   "source": [
    "plt.figure(figsize = (10,6))   \n",
    "\n",
    "lakers.salary.hist(bins = 25)\n",
    "plt.hlines(y = 0, xmin = 0, xmax = lakers['salary'].max() + 500000)\n",
    "plt.annotate(text = 'Mean', ha = 'center', va = 'top', fontweight = 'bold',\n",
    "             xy = (lakers['salary'].mean(), -.1), xytext = (lakers['salary'].mean(), -1), arrowprops=dict(width = 8, headwidth = 20, facecolor = 'red'))\n",
    "plt.annotate(text = 'Median', ha = 'center', va = 'top', fontweight = 'bold',\n",
    "             xy = (lakers['salary'].median(), -.1), xytext = (lakers['salary'].median(), -1), arrowprops=dict(width = 8, headwidth = 20, facecolor = 'blue'))\n",
    "plt.ylim(-1.5, 6.3)\n",
    "plt.xlabel('salary')\n",
    "plt.ylabel('count')\n",
    "plt.title('Histogram of Lakers\\' Salaries');"
   ]
  },
  {
   "cell_type": "markdown",
   "metadata": {},
   "source": [
    "You can also look at the distribution of heights."
   ]
  },
  {
   "cell_type": "code",
   "execution_count": 29,
   "metadata": {},
   "outputs": [
    {
     "data": {
      "image/png": "[encoded data removed]",
      "text/plain": [
       "<Figure size 720x432 with 1 Axes>"
      ]
     },
     "metadata": {
      "needs_background": "light"
     },
     "output_type": "display_data"
    }
   ],
   "source": [
    "plt.figure(figsize = (10,6))   \n",
    "\n",
    "lakers['height_inches'].hist(edgecolor = 'black', linewidth = 2)\n",
    "plt.xlabel('height (in)')\n",
    "plt.ylabel('count')\n",
    "plt.title('Histogram of Lakers\\' Heights');"
   ]
  },
  {
   "cell_type": "markdown",
   "metadata": {},
   "source": [
    "This is a small dataset, so it's hard to definitively classify the shape. It does not appear to be skewed, but is also not symmetric, since there are more values on the lower range than on the upper range.\n",
    "\n",
    "There are two peaks, one on either side, so it could be classified as a **bimodal** distribution."
   ]
  },
  {
   "cell_type": "code",
   "execution_count": 30,
   "metadata": {},
   "outputs": [
    {
     "data": {
      "image/png": "[encoded data removed]",
      "text/plain": [
       "<Figure size 720x432 with 1 Axes>"
      ]
     },
     "metadata": {
      "needs_background": "light"
     },
     "output_type": "display_data"
    }
   ],
   "source": [
    "plt.figure(figsize = (10,6))   \n",
    "\n",
    "lakers['height_inches'].hist(edgecolor = 'black', linewidth = 2)\n",
    "plt.hlines(y = 0, xmin = lakers['height_inches'].min() - 0.5, xmax = lakers['height_inches'].max() + 0.5)\n",
    "plt.annotate(text = 'Mean', ha = 'center', va = 'top', fontweight = 'bold',\n",
    "             xy = (lakers['height_inches'].mean(), -.1), xytext = (lakers['height_inches'].mean(), -.75), arrowprops=dict(width = 8, headwidth = 20, facecolor = 'red'))\n",
    "plt.ylim(-1, 3.2)\n",
    "plt.xlabel('height (in)')\n",
    "plt.ylabel('count')\n",
    "plt.title('Histogram of Lakers\\' Heights');"
   ]
  },
  {
   "cell_type": "code",
   "execution_count": 31,
   "metadata": {},
   "outputs": [
    {
     "data": {
      "image/png": "[encoded data removed]",
      "text/plain": [
       "<Figure size 720x432 with 1 Axes>"
      ]
     },
     "metadata": {
      "needs_background": "light"
     },
     "output_type": "display_data"
    }
   ],
   "source": [
    "plt.figure(figsize = (10,6))   \n",
    "\n",
    "lakers['height_inches'].hist(edgecolor = 'black', linewidth = 2)\n",
    "plt.hlines(y = 0, xmin = lakers['height_inches'].min() - 0.5, xmax = lakers['height_inches'].max() + 0.5)\n",
    "plt.annotate(text = 'Median', ha = 'center', va = 'top', fontweight = 'bold',\n",
    "             xy = (lakers['height_inches'].median(), -.1), xytext = (lakers['height_inches'].median(), -.75), arrowprops=dict(width = 8, headwidth = 20, facecolor = 'blue'))\n",
    "plt.ylim(-1, 3.2)\n",
    "plt.xlabel('height (in)')\n",
    "plt.ylabel('count')\n",
    "plt.title('Histogram of Lakers\\' Heights');"
   ]
  },
  {
   "cell_type": "markdown",
   "metadata": {},
   "source": [
    "Why do you need to care about how many modes a distribution has? When analyzing bimodal distribution, using the mean or even the median can be misleading. It can easily be the case that there are very few observations close to the mean or median. This can be a problem is you are interpreting these measures of central tendency as \"typical\" values. This can happen when the overall population is made up of two or more heterogeneous groups.\n",
    "\n",
    "See https://www.nalp.org/startingsalarydistributionclassof2009 for an example of a bimodal distribution where normal descriptive statistics are misleading. This website shows the distribution of starting salaries for lawyers in 2009. For lawyers, salaries are typically very high (for those that get full-time positions) or very low (for those that can only secure part-time employment). As a result, the salaries follow a bimodal distribution and almost no one makes the mean or median salary.\n",
    "\n",
    "<img src=\"images/2009_bimodal_in_color_for_web.gif\" width=\"500\">"
   ]
  },
  {
   "cell_type": "markdown",
   "metadata": {},
   "source": [
    "# Measures of Spread\n",
    "\n",
    "**Goal:** Give an idea of how similar or varied the observations in the dataset are."
   ]
  },
  {
   "cell_type": "markdown",
   "metadata": {},
   "source": [
    "## Range\n",
    "\n",
    "The range measures how \"wide\" a dataset is. It depends only on the largest and smallest observations, so it is highly influenced by outliers.\n",
    "\n",
    "$$ \\text{range} = \\text{maximum observation} - \\text{minimum observation}$$"
   ]
  },
  {
   "cell_type": "code",
   "execution_count": 32,
   "metadata": {},
   "outputs": [
    {
     "data": {
      "text/plain": [
       "37436858"
      ]
     },
     "execution_count": 32,
     "metadata": {},
     "output_type": "execute_result"
    }
   ],
   "source": [
    "lakers['salary'].max()"
   ]
  },
  {
   "cell_type": "markdown",
   "metadata": {},
   "source": [
    "If you want to know who has the largest salary, you can use the `nlargest` method."
   ]
  },
  {
   "cell_type": "code",
   "execution_count": 33,
   "metadata": {},
   "outputs": [
    {
     "data": {
      "text/html": [
       "<div>\n",
       "<style scoped>\n",
       "    .dataframe tbody tr th:only-of-type {\n",
       "        vertical-align: middle;\n",
       "    }\n",
       "\n",
       "    .dataframe tbody tr th {\n",
       "        vertical-align: top;\n",
       "    }\n",
       "\n",
       "    .dataframe thead th {\n",
       "        text-align: right;\n",
       "    }\n",
       "</style>\n",
       "<table border=\"1\" class=\"dataframe\">\n",
       "  <thead>\n",
       "    <tr style=\"text-align: right;\">\n",
       "      <th></th>\n",
       "      <th>player</th>\n",
       "      <th>salary</th>\n",
       "      <th>height_inches</th>\n",
       "    </tr>\n",
       "  </thead>\n",
       "  <tbody>\n",
       "    <tr>\n",
       "      <th>0</th>\n",
       "      <td>LeBron James</td>\n",
       "      <td>37436858</td>\n",
       "      <td>80</td>\n",
       "    </tr>\n",
       "  </tbody>\n",
       "</table>\n",
       "</div>"
      ],
      "text/plain": [
       "         player    salary  height_inches\n",
       "0  LeBron James  37436858             80"
      ]
     },
     "execution_count": 33,
     "metadata": {},
     "output_type": "execute_result"
    }
   ],
   "source": [
    "lakers.nlargest(1, 'salary')"
   ]
  },
  {
   "cell_type": "markdown",
   "metadata": {},
   "source": [
    "Similar for the minimum."
   ]
  },
  {
   "cell_type": "code",
   "execution_count": 34,
   "metadata": {},
   "outputs": [
    {
     "data": {
      "text/plain": [
       "898310"
      ]
     },
     "execution_count": 34,
     "metadata": {},
     "output_type": "execute_result"
    }
   ],
   "source": [
    "lakers['salary'].min()"
   ]
  },
  {
   "cell_type": "code",
   "execution_count": 35,
   "metadata": {},
   "outputs": [
    {
     "data": {
      "text/html": [
       "<div>\n",
       "<style scoped>\n",
       "    .dataframe tbody tr th:only-of-type {\n",
       "        vertical-align: middle;\n",
       "    }\n",
       "\n",
       "    .dataframe tbody tr th {\n",
       "        vertical-align: top;\n",
       "    }\n",
       "\n",
       "    .dataframe thead th {\n",
       "        text-align: right;\n",
       "    }\n",
       "</style>\n",
       "<table border=\"1\" class=\"dataframe\">\n",
       "  <thead>\n",
       "    <tr style=\"text-align: right;\">\n",
       "      <th></th>\n",
       "      <th>player</th>\n",
       "      <th>salary</th>\n",
       "      <th>height_inches</th>\n",
       "    </tr>\n",
       "  </thead>\n",
       "  <tbody>\n",
       "    <tr>\n",
       "      <th>14</th>\n",
       "      <td>Talen Horton-Tucker</td>\n",
       "      <td>898310</td>\n",
       "      <td>76</td>\n",
       "    </tr>\n",
       "  </tbody>\n",
       "</table>\n",
       "</div>"
      ],
      "text/plain": [
       "                 player  salary  height_inches\n",
       "14  Talen Horton-Tucker  898310             76"
      ]
     },
     "execution_count": 35,
     "metadata": {},
     "output_type": "execute_result"
    }
   ],
   "source": [
    "lakers.nsmallest(1, 'salary')"
   ]
  },
  {
   "cell_type": "markdown",
   "metadata": {},
   "source": [
    "To find the range, you can subtract the minimum value from the maximum value."
   ]
  },
  {
   "cell_type": "code",
   "execution_count": 36,
   "metadata": {},
   "outputs": [
    {
     "data": {
      "text/plain": [
       "36538548"
      ]
     },
     "execution_count": 36,
     "metadata": {},
     "output_type": "execute_result"
    }
   ],
   "source": [
    "lakers['salary'].max() - lakers['salary'].min()"
   ]
  },
  {
   "cell_type": "markdown",
   "metadata": {},
   "source": [
    "The difference between the highest paid and lowest paid Laker is over \\$36 million."
   ]
  },
  {
   "cell_type": "code",
   "execution_count": 37,
   "metadata": {},
   "outputs": [],
   "source": [
    "from nssstats.plots import range_plot"
   ]
  },
  {
   "cell_type": "code",
   "execution_count": 38,
   "metadata": {},
   "outputs": [
    {
     "data": {
      "image/png": "[encoded data removed]",
      "text/plain": [
       "<Figure size 720x432 with 1 Axes>"
      ]
     },
     "metadata": {
      "needs_background": "light"
     },
     "output_type": "display_data"
    }
   ],
   "source": [
    "plt.figure(figsize = (10,6))\n",
    "\n",
    "range_plot(lakers['salary'], bins = 25, edgecolor = 'black', linewidth = 2)\n",
    "plt.xlabel('salary')\n",
    "plt.ylabel('count')\n",
    "plt.title('Histogram of Lakers\\' Salaries');"
   ]
  },
  {
   "cell_type": "markdown",
   "metadata": {},
   "source": [
    "What about for heights?"
   ]
  },
  {
   "cell_type": "code",
   "execution_count": 39,
   "metadata": {},
   "outputs": [
    {
     "data": {
      "text/plain": [
       "11"
      ]
     },
     "execution_count": 39,
     "metadata": {},
     "output_type": "execute_result"
    }
   ],
   "source": [
    "lakers['height_inches'].max() - lakers['height_inches'].min()"
   ]
  },
  {
   "cell_type": "code",
   "execution_count": 40,
   "metadata": {},
   "outputs": [
    {
     "data": {
      "image/png": "[encoded data removed]",
      "text/plain": [
       "<Figure size 720x432 with 1 Axes>"
      ]
     },
     "metadata": {
      "needs_background": "light"
     },
     "output_type": "display_data"
    }
   ],
   "source": [
    "plt.figure(figsize = (10,6))\n",
    "\n",
    "range_plot(lakers['height_inches'], edgecolor = 'black', linewidth = 2)\n",
    "plt.xlabel('height (in)')\n",
    "plt.ylabel('count')\n",
    "plt.title('Histogram of Lakers\\' Heights');"
   ]
  },
  {
   "cell_type": "markdown",
   "metadata": {},
   "source": [
    "There is less than a foot of difference between the tallest and shortest players."
   ]
  },
  {
   "cell_type": "markdown",
   "metadata": {},
   "source": [
    "## Variance and Standard Deviation\n",
    "\n",
    "The range of a dataset gives a quick glance at how varied a dataset is. It does have a major drawback, though, in that it only depends on two data points: the largest and smallest. What if you want to consider the entire dataset?\n",
    "\n",
    "You could start by looking at the deviations from the mean. That is, we could look at the difference between a player's salary and the mean salary."
   ]
  },
  {
   "cell_type": "code",
   "execution_count": 41,
   "metadata": {},
   "outputs": [],
   "source": [
    "from ipywidgets import interact, IntSlider, fixed\n",
    "from nssstats.plots import deviation_plot"
   ]
  },
  {
   "cell_type": "code",
   "execution_count": 42,
   "metadata": {},
   "outputs": [
    {
     "data": {
      "application/vnd.jupyter.widget-view+json": {
       "model_id": "208ef55f87c94b83af61647257b0fc34",
       "version_major": 2,
       "version_minor": 0
      },
      "text/plain": [
       "interactive(children=(Dropdown(description='Player', options=('LeBron James', 'Anthony Davis', 'Danny Green', …"
      ]
     },
     "metadata": {},
     "output_type": "display_data"
    }
   ],
   "source": [
    "interact(deviation_plot, Player = lakers['player'], df = fixed(lakers));"
   ]
  },
  {
   "cell_type": "markdown",
   "metadata": {},
   "source": [
    "Notice how this deviation is positive if the player makes an above-average salary and negative if he makes a below-average salary.\n",
    "\n",
    "Now, what if you want to look at how large these deviations are on average? \n",
    "\n",
    "There is one problem with simply taking the average of the deviations: if you were to sum the deviations, you would get zero, meaning that, on average, the deviation is zero."
   ]
  },
  {
   "cell_type": "code",
   "execution_count": 43,
   "metadata": {},
   "outputs": [
    {
     "data": {
      "text/html": [
       "<div>\n",
       "<style scoped>\n",
       "    .dataframe tbody tr th:only-of-type {\n",
       "        vertical-align: middle;\n",
       "    }\n",
       "\n",
       "    .dataframe tbody tr th {\n",
       "        vertical-align: top;\n",
       "    }\n",
       "\n",
       "    .dataframe thead th {\n",
       "        text-align: right;\n",
       "    }\n",
       "</style>\n",
       "<table border=\"1\" class=\"dataframe\">\n",
       "  <thead>\n",
       "    <tr style=\"text-align: right;\">\n",
       "      <th></th>\n",
       "      <th>player</th>\n",
       "      <th>salary</th>\n",
       "      <th>height_inches</th>\n",
       "      <th>deviation_from_mean</th>\n",
       "    </tr>\n",
       "  </thead>\n",
       "  <tbody>\n",
       "    <tr>\n",
       "      <th>0</th>\n",
       "      <td>LeBron James</td>\n",
       "      <td>37436858</td>\n",
       "      <td>80</td>\n",
       "      <td>2.957912e+07</td>\n",
       "    </tr>\n",
       "    <tr>\n",
       "      <th>1</th>\n",
       "      <td>Anthony Davis</td>\n",
       "      <td>27093019</td>\n",
       "      <td>82</td>\n",
       "      <td>1.923528e+07</td>\n",
       "    </tr>\n",
       "    <tr>\n",
       "      <th>2</th>\n",
       "      <td>Danny Green</td>\n",
       "      <td>14634146</td>\n",
       "      <td>78</td>\n",
       "      <td>6.776408e+06</td>\n",
       "    </tr>\n",
       "    <tr>\n",
       "      <th>3</th>\n",
       "      <td>Kentavious Caldwell-Pope</td>\n",
       "      <td>8089282</td>\n",
       "      <td>77</td>\n",
       "      <td>2.315441e+05</td>\n",
       "    </tr>\n",
       "    <tr>\n",
       "      <th>4</th>\n",
       "      <td>Avery Bradley</td>\n",
       "      <td>4767000</td>\n",
       "      <td>74</td>\n",
       "      <td>-3.090738e+06</td>\n",
       "    </tr>\n",
       "    <tr>\n",
       "      <th>5</th>\n",
       "      <td>JaVale McGee</td>\n",
       "      <td>4000000</td>\n",
       "      <td>84</td>\n",
       "      <td>-3.857738e+06</td>\n",
       "    </tr>\n",
       "    <tr>\n",
       "      <th>6</th>\n",
       "      <td>DeMarcus Cousins</td>\n",
       "      <td>3500000</td>\n",
       "      <td>83</td>\n",
       "      <td>-4.357738e+06</td>\n",
       "    </tr>\n",
       "    <tr>\n",
       "      <th>7</th>\n",
       "      <td>Quinn Cook</td>\n",
       "      <td>3000000</td>\n",
       "      <td>74</td>\n",
       "      <td>-4.857738e+06</td>\n",
       "    </tr>\n",
       "    <tr>\n",
       "      <th>8</th>\n",
       "      <td>Alex Caruso</td>\n",
       "      <td>2750000</td>\n",
       "      <td>77</td>\n",
       "      <td>-5.107738e+06</td>\n",
       "    </tr>\n",
       "    <tr>\n",
       "      <th>9</th>\n",
       "      <td>Jared Dudley</td>\n",
       "      <td>2564753</td>\n",
       "      <td>79</td>\n",
       "      <td>-5.292985e+06</td>\n",
       "    </tr>\n",
       "    <tr>\n",
       "      <th>10</th>\n",
       "      <td>Dwight Howard</td>\n",
       "      <td>2564753</td>\n",
       "      <td>83</td>\n",
       "      <td>-5.292985e+06</td>\n",
       "    </tr>\n",
       "    <tr>\n",
       "      <th>11</th>\n",
       "      <td>Rajon Rondo</td>\n",
       "      <td>2564753</td>\n",
       "      <td>73</td>\n",
       "      <td>-5.292985e+06</td>\n",
       "    </tr>\n",
       "    <tr>\n",
       "      <th>12</th>\n",
       "      <td>Troy Daniels</td>\n",
       "      <td>2028594</td>\n",
       "      <td>76</td>\n",
       "      <td>-5.829144e+06</td>\n",
       "    </tr>\n",
       "    <tr>\n",
       "      <th>13</th>\n",
       "      <td>Kyle Kuzma</td>\n",
       "      <td>1974600</td>\n",
       "      <td>81</td>\n",
       "      <td>-5.883138e+06</td>\n",
       "    </tr>\n",
       "    <tr>\n",
       "      <th>14</th>\n",
       "      <td>Talen Horton-Tucker</td>\n",
       "      <td>898310</td>\n",
       "      <td>76</td>\n",
       "      <td>-6.959428e+06</td>\n",
       "    </tr>\n",
       "  </tbody>\n",
       "</table>\n",
       "</div>"
      ],
      "text/plain": [
       "                      player    salary  height_inches  deviation_from_mean\n",
       "0               LeBron James  37436858             80         2.957912e+07\n",
       "1              Anthony Davis  27093019             82         1.923528e+07\n",
       "2                Danny Green  14634146             78         6.776408e+06\n",
       "3   Kentavious Caldwell-Pope   8089282             77         2.315441e+05\n",
       "4              Avery Bradley   4767000             74        -3.090738e+06\n",
       "5               JaVale McGee   4000000             84        -3.857738e+06\n",
       "6           DeMarcus Cousins   3500000             83        -4.357738e+06\n",
       "7                 Quinn Cook   3000000             74        -4.857738e+06\n",
       "8                Alex Caruso   2750000             77        -5.107738e+06\n",
       "9               Jared Dudley   2564753             79        -5.292985e+06\n",
       "10             Dwight Howard   2564753             83        -5.292985e+06\n",
       "11               Rajon Rondo   2564753             73        -5.292985e+06\n",
       "12              Troy Daniels   2028594             76        -5.829144e+06\n",
       "13                Kyle Kuzma   1974600             81        -5.883138e+06\n",
       "14       Talen Horton-Tucker    898310             76        -6.959428e+06"
      ]
     },
     "execution_count": 43,
     "metadata": {},
     "output_type": "execute_result"
    }
   ],
   "source": [
    "lakers['deviation_from_mean'] = lakers['salary'] - lakers['salary'].mean()\n",
    "lakers"
   ]
  },
  {
   "cell_type": "markdown",
   "metadata": {},
   "source": [
    "**Question:** What is the average deviation from the mean?"
   ]
  },
  {
   "cell_type": "code",
   "execution_count": 44,
   "metadata": {},
   "outputs": [],
   "source": [
    "# Your Code Here"
   ]
  },
  {
   "cell_type": "code",
   "execution_count": 45,
   "metadata": {},
   "outputs": [
    {
     "data": {
      "text/plain": [
       "-3.7252902984619143e-10"
      ]
     },
     "execution_count": 45,
     "metadata": {},
     "output_type": "execute_result"
    }
   ],
   "source": [
    "lakers['deviation_from_mean'].mean()"
   ]
  },
  {
   "cell_type": "markdown",
   "metadata": {},
   "source": [
    "**Question:** Why did we get this result?"
   ]
  },
  {
   "cell_type": "markdown",
   "metadata": {},
   "source": [
    "A solution for the problem that we just encountered is to, for each datapoint $x_i$, look at the squared deviation $(x_i - \\mu)^2$."
   ]
  },
  {
   "cell_type": "markdown",
   "metadata": {},
   "source": [
    "If you now take the mean of these squared deviations, you get what is called the **variance**. Note that this formula is only valid if you are looking at a *population*. You'll see the difference for a sample shortly.\n",
    "$$\\text{Population Variance: } \\sigma^2 = \\frac{\\sum\\limits_{i = 1}^n(x_i - \\mu)^2}{n}$$"
   ]
  },
  {
   "cell_type": "code",
   "execution_count": 46,
   "metadata": {},
   "outputs": [
    {
     "data": {
      "text/html": [
       "<div>\n",
       "<style scoped>\n",
       "    .dataframe tbody tr th:only-of-type {\n",
       "        vertical-align: middle;\n",
       "    }\n",
       "\n",
       "    .dataframe tbody tr th {\n",
       "        vertical-align: top;\n",
       "    }\n",
       "\n",
       "    .dataframe thead th {\n",
       "        text-align: right;\n",
       "    }\n",
       "</style>\n",
       "<table border=\"1\" class=\"dataframe\">\n",
       "  <thead>\n",
       "    <tr style=\"text-align: right;\">\n",
       "      <th></th>\n",
       "      <th>player</th>\n",
       "      <th>salary</th>\n",
       "      <th>height_inches</th>\n",
       "      <th>deviation_from_mean</th>\n",
       "      <th>squared_deviation</th>\n",
       "    </tr>\n",
       "  </thead>\n",
       "  <tbody>\n",
       "    <tr>\n",
       "      <th>0</th>\n",
       "      <td>LeBron James</td>\n",
       "      <td>37436858</td>\n",
       "      <td>80</td>\n",
       "      <td>2.957912e+07</td>\n",
       "      <td>8.749243e+14</td>\n",
       "    </tr>\n",
       "    <tr>\n",
       "      <th>1</th>\n",
       "      <td>Anthony Davis</td>\n",
       "      <td>27093019</td>\n",
       "      <td>82</td>\n",
       "      <td>1.923528e+07</td>\n",
       "      <td>3.699960e+14</td>\n",
       "    </tr>\n",
       "    <tr>\n",
       "      <th>2</th>\n",
       "      <td>Danny Green</td>\n",
       "      <td>14634146</td>\n",
       "      <td>78</td>\n",
       "      <td>6.776408e+06</td>\n",
       "      <td>4.591971e+13</td>\n",
       "    </tr>\n",
       "    <tr>\n",
       "      <th>3</th>\n",
       "      <td>Kentavious Caldwell-Pope</td>\n",
       "      <td>8089282</td>\n",
       "      <td>77</td>\n",
       "      <td>2.315441e+05</td>\n",
       "      <td>5.361269e+10</td>\n",
       "    </tr>\n",
       "    <tr>\n",
       "      <th>4</th>\n",
       "      <td>Avery Bradley</td>\n",
       "      <td>4767000</td>\n",
       "      <td>74</td>\n",
       "      <td>-3.090738e+06</td>\n",
       "      <td>9.552661e+12</td>\n",
       "    </tr>\n",
       "    <tr>\n",
       "      <th>5</th>\n",
       "      <td>JaVale McGee</td>\n",
       "      <td>4000000</td>\n",
       "      <td>84</td>\n",
       "      <td>-3.857738e+06</td>\n",
       "      <td>1.488214e+13</td>\n",
       "    </tr>\n",
       "    <tr>\n",
       "      <th>6</th>\n",
       "      <td>DeMarcus Cousins</td>\n",
       "      <td>3500000</td>\n",
       "      <td>83</td>\n",
       "      <td>-4.357738e+06</td>\n",
       "      <td>1.898988e+13</td>\n",
       "    </tr>\n",
       "    <tr>\n",
       "      <th>7</th>\n",
       "      <td>Quinn Cook</td>\n",
       "      <td>3000000</td>\n",
       "      <td>74</td>\n",
       "      <td>-4.857738e+06</td>\n",
       "      <td>2.359762e+13</td>\n",
       "    </tr>\n",
       "    <tr>\n",
       "      <th>8</th>\n",
       "      <td>Alex Caruso</td>\n",
       "      <td>2750000</td>\n",
       "      <td>77</td>\n",
       "      <td>-5.107738e+06</td>\n",
       "      <td>2.608899e+13</td>\n",
       "    </tr>\n",
       "    <tr>\n",
       "      <th>9</th>\n",
       "      <td>Jared Dudley</td>\n",
       "      <td>2564753</td>\n",
       "      <td>79</td>\n",
       "      <td>-5.292985e+06</td>\n",
       "      <td>2.801569e+13</td>\n",
       "    </tr>\n",
       "    <tr>\n",
       "      <th>10</th>\n",
       "      <td>Dwight Howard</td>\n",
       "      <td>2564753</td>\n",
       "      <td>83</td>\n",
       "      <td>-5.292985e+06</td>\n",
       "      <td>2.801569e+13</td>\n",
       "    </tr>\n",
       "    <tr>\n",
       "      <th>11</th>\n",
       "      <td>Rajon Rondo</td>\n",
       "      <td>2564753</td>\n",
       "      <td>73</td>\n",
       "      <td>-5.292985e+06</td>\n",
       "      <td>2.801569e+13</td>\n",
       "    </tr>\n",
       "    <tr>\n",
       "      <th>12</th>\n",
       "      <td>Troy Daniels</td>\n",
       "      <td>2028594</td>\n",
       "      <td>76</td>\n",
       "      <td>-5.829144e+06</td>\n",
       "      <td>3.397892e+13</td>\n",
       "    </tr>\n",
       "    <tr>\n",
       "      <th>13</th>\n",
       "      <td>Kyle Kuzma</td>\n",
       "      <td>1974600</td>\n",
       "      <td>81</td>\n",
       "      <td>-5.883138e+06</td>\n",
       "      <td>3.461131e+13</td>\n",
       "    </tr>\n",
       "    <tr>\n",
       "      <th>14</th>\n",
       "      <td>Talen Horton-Tucker</td>\n",
       "      <td>898310</td>\n",
       "      <td>76</td>\n",
       "      <td>-6.959428e+06</td>\n",
       "      <td>4.843364e+13</td>\n",
       "    </tr>\n",
       "  </tbody>\n",
       "</table>\n",
       "</div>"
      ],
      "text/plain": [
       "                      player    salary  height_inches  deviation_from_mean  \\\n",
       "0               LeBron James  37436858             80         2.957912e+07   \n",
       "1              Anthony Davis  27093019             82         1.923528e+07   \n",
       "2                Danny Green  14634146             78         6.776408e+06   \n",
       "3   Kentavious Caldwell-Pope   8089282             77         2.315441e+05   \n",
       "4              Avery Bradley   4767000             74        -3.090738e+06   \n",
       "5               JaVale McGee   4000000             84        -3.857738e+06   \n",
       "6           DeMarcus Cousins   3500000             83        -4.357738e+06   \n",
       "7                 Quinn Cook   3000000             74        -4.857738e+06   \n",
       "8                Alex Caruso   2750000             77        -5.107738e+06   \n",
       "9               Jared Dudley   2564753             79        -5.292985e+06   \n",
       "10             Dwight Howard   2564753             83        -5.292985e+06   \n",
       "11               Rajon Rondo   2564753             73        -5.292985e+06   \n",
       "12              Troy Daniels   2028594             76        -5.829144e+06   \n",
       "13                Kyle Kuzma   1974600             81        -5.883138e+06   \n",
       "14       Talen Horton-Tucker    898310             76        -6.959428e+06   \n",
       "\n",
       "    squared_deviation  \n",
       "0        8.749243e+14  \n",
       "1        3.699960e+14  \n",
       "2        4.591971e+13  \n",
       "3        5.361269e+10  \n",
       "4        9.552661e+12  \n",
       "5        1.488214e+13  \n",
       "6        1.898988e+13  \n",
       "7        2.359762e+13  \n",
       "8        2.608899e+13  \n",
       "9        2.801569e+13  \n",
       "10       2.801569e+13  \n",
       "11       2.801569e+13  \n",
       "12       3.397892e+13  \n",
       "13       3.461131e+13  \n",
       "14       4.843364e+13  "
      ]
     },
     "execution_count": 46,
     "metadata": {},
     "output_type": "execute_result"
    }
   ],
   "source": [
    "lakers['squared_deviation'] = lakers['deviation_from_mean']**2\n",
    "lakers"
   ]
  },
  {
   "cell_type": "code",
   "execution_count": 47,
   "metadata": {},
   "outputs": [
    {
     "data": {
      "text/plain": [
       "105671728309241.28"
      ]
     },
     "execution_count": 47,
     "metadata": {},
     "output_type": "execute_result"
    }
   ],
   "source": [
    "lakers['squared_deviation'].mean()"
   ]
  },
  {
   "cell_type": "markdown",
   "metadata": {},
   "source": [
    "There is only one problem now: the variance is is squared units, not in our original unit. If we want to convert it to the starting units, you can take the square root and obtain what is called the **standard deviation**:\n",
    "\n",
    "$$\\text{Population Standard Deviation: } \\sigma = \\sqrt{\\sigma^2} $$"
   ]
  },
  {
   "cell_type": "code",
   "execution_count": 48,
   "metadata": {},
   "outputs": [
    {
     "data": {
      "text/plain": [
       "10279675.496300517"
      ]
     },
     "execution_count": 48,
     "metadata": {},
     "output_type": "execute_result"
    }
   ],
   "source": [
    "np.sqrt(lakers['squared_deviation'].mean())"
   ]
  },
  {
   "cell_type": "markdown",
   "metadata": {},
   "source": [
    "When working with sample, there is a small modification that must be done to calculate the variance and standard deviation. Instead of dividing the $n$, the number of observations, you instead divide by $n-1$:\n",
    "\n",
    "$$\\text{Sample Variance: } s^2 = \\frac{\\sum\\limits_{i = 1}^n(x_i - \\bar{x})^2}{n - 1}$$\n",
    "\n",
    "$$\\text{Sample Standard Deviation: } s = \\sqrt{s^2} $$"
   ]
  },
  {
   "cell_type": "markdown",
   "metadata": {},
   "source": [
    "**Question:** What is the effect of this difference? (Is the sample variance larger or smaller than the population variance?)\n",
    "\n",
    "\n",
    "**Why do we have this difference?** \n",
    "\n",
    "Informally, the reason that you do this is that you are trying to approximate the population variance. You want to estimate the deviation from the mean, but at the same time, you don't know the true population mean to start with, only an estimate from the sample ($\\bar{x}$). So you are making an estimate using an estimate. To compensate for this, you need to inflate your estimate of the variance slightly, by dividing by $n - 1$ instead of $n$."
   ]
  },
  {
   "cell_type": "markdown",
   "metadata": {},
   "source": [
    "By default, most function that calculate the variance or standard deviation will assume that you are looking at a sample. However, in this case, you have the entire population, so you need to adjust it. If you are using `pandas` methods, you can specify `ddof = 0`, which sets the \"delta degrees of freedom\", or the amount that the \"degrees of freedom\" differ from the number of observations, to be 0.\n",
    "\n",
    "If you are calculating the standard deviation of a sample, you need to use `ddof = 1` (which is the default behavior)."
   ]
  },
  {
   "cell_type": "code",
   "execution_count": 49,
   "metadata": {},
   "outputs": [
    {
     "data": {
      "text/plain": [
       "105671728309241.28"
      ]
     },
     "execution_count": 49,
     "metadata": {},
     "output_type": "execute_result"
    }
   ],
   "source": [
    "lakers['salary'].var(ddof = 0)"
   ]
  },
  {
   "cell_type": "code",
   "execution_count": 50,
   "metadata": {},
   "outputs": [
    {
     "data": {
      "text/plain": [
       "10279675.496300517"
      ]
     },
     "execution_count": 50,
     "metadata": {},
     "output_type": "execute_result"
    }
   ],
   "source": [
    "lakers['salary'].std(ddof = 0)"
   ]
  },
  {
   "cell_type": "markdown",
   "metadata": {},
   "source": [
    "Compare this to the default behavior:"
   ]
  },
  {
   "cell_type": "code",
   "execution_count": 51,
   "metadata": {},
   "outputs": [
    {
     "data": {
      "text/plain": [
       "10640475.031818764"
      ]
     },
     "execution_count": 51,
     "metadata": {},
     "output_type": "execute_result"
    }
   ],
   "source": [
    "lakers['salary'].std()"
   ]
  },
  {
   "cell_type": "code",
   "execution_count": 52,
   "metadata": {},
   "outputs": [],
   "source": [
    "from nssstats.plots import std_plot"
   ]
  },
  {
   "cell_type": "code",
   "execution_count": 53,
   "metadata": {},
   "outputs": [
    {
     "data": {
      "image/png": "[encoded data removed]",
      "text/plain": [
       "<Figure size 720x432 with 1 Axes>"
      ]
     },
     "metadata": {
      "needs_background": "light"
     },
     "output_type": "display_data"
    }
   ],
   "source": [
    "plt.figure(figsize = (10,6))\n",
    "\n",
    "std_plot(lakers['salary'], bins = 25, edgecolor = 'black', linewidth = 2)"
   ]
  },
  {
   "cell_type": "markdown",
   "metadata": {},
   "source": [
    "Let's compare with the standard deviation for heights."
   ]
  },
  {
   "cell_type": "code",
   "execution_count": 54,
   "metadata": {},
   "outputs": [
    {
     "data": {
      "text/plain": [
       "3.461534662865912"
      ]
     },
     "execution_count": 54,
     "metadata": {},
     "output_type": "execute_result"
    }
   ],
   "source": [
    "lakers['height_inches'].std(ddof = 0)"
   ]
  },
  {
   "cell_type": "code",
   "execution_count": 55,
   "metadata": {},
   "outputs": [
    {
     "data": {
      "image/png": "[encoded data removed]",
      "text/plain": [
       "<Figure size 720x432 with 1 Axes>"
      ]
     },
     "metadata": {
      "needs_background": "light"
     },
     "output_type": "display_data"
    }
   ],
   "source": [
    "plt.figure(figsize = (10,6))\n",
    "\n",
    "std_plot(lakers['height_inches'], edgecolor = 'black', linewidth = 2)"
   ]
  },
  {
   "cell_type": "markdown",
   "metadata": {},
   "source": [
    "## Relative Standard Deviation (Coefficient of Variation)\n",
    "\n",
    "What you may have noticed is that there is the standard deviation is salaries is much higher than that of heights. This has to do with the fact that the standard deviation is measured on the same scale as the variable at hand. So since salaries are measured in the hundreds of thousands or millions, whereas height is measured in the tens, it is not surprising that there is such a difference in standard deviations.\n",
    "\n",
    "However, there is a way to compare distributions in a unitless way. Namely, the *coefficient of variation*. It is defined as the ratio of the standard deviation to the mean.\n",
    "\n",
    "$\\text{CV} = \\cfrac{\\sigma}{\\mu}$"
   ]
  },
  {
   "cell_type": "markdown",
   "metadata": {},
   "source": [
    "For salaries:"
   ]
  },
  {
   "cell_type": "code",
   "execution_count": 56,
   "metadata": {},
   "outputs": [
    {
     "data": {
      "text/plain": [
       "1.3082232661270057"
      ]
     },
     "execution_count": 56,
     "metadata": {},
     "output_type": "execute_result"
    }
   ],
   "source": [
    "lakers['salary'].std(ddof = 0) / lakers['salary'].mean()"
   ]
  },
  {
   "cell_type": "markdown",
   "metadata": {},
   "source": [
    "This says that the standard deviation is 1.3 times as large as the mean. This frequently happens with highly skewed data."
   ]
  },
  {
   "cell_type": "markdown",
   "metadata": {},
   "source": [
    "For heights:"
   ]
  },
  {
   "cell_type": "code",
   "execution_count": 57,
   "metadata": {},
   "outputs": [
    {
     "data": {
      "text/plain": [
       "0.044114715329642035"
      ]
     },
     "execution_count": 57,
     "metadata": {},
     "output_type": "execute_result"
    }
   ],
   "source": [
    "lakers['height_inches'].std(ddof = 0) / lakers['height_inches'].mean()"
   ]
  },
  {
   "cell_type": "markdown",
   "metadata": {},
   "source": [
    "On the other hand, there is very little variation in heights."
   ]
  },
  {
   "cell_type": "markdown",
   "metadata": {},
   "source": [
    "## $z$-scores\n",
    "\n",
    "Often, you are not as interested in understanding \"how much\", but instead \"how different from average?\". That is, you may wish to measure how \"unusual\" a particular observation is. \n",
    "\n",
    "A $z$-score allows you to answer this question, in terms of the number of standard deviations from the mean. It is *unitless*, which means that it does not depend on what is being measured and the scale of the measurements, but instead you can compare across different types of measurements.\n",
    "\n",
    "$$ z\\text{-score} = \\frac{\\text{observation} - \\text{mean}}{\\text{standard deviation}}$$\n",
    "\n",
    "A $z$-score of 1.4 says that an observation is 1.4 standard deviations larger than the average value, whereas a $z$-score of -2.8 says that an observation is 2.8 standard deviations lower than the mean."
   ]
  },
  {
   "cell_type": "markdown",
   "metadata": {},
   "source": [
    "If a dataset is reasonably close to being normally-distributed (meaning that the histogram looks roughly bell-shaped), then it will be highly unusual for an observation to have a $z$-score with magnitude 3 or larger.\n",
    "\n",
    "**Warning**: Be cautious when using $z$-scores for small datasets, as the maximum $z$-score is limited to $\\frac{n−1}{\\sqrt{n}}$ For example, for our dataset of 15 observations, the maximum $z$-score is $\\frac{14}{\\sqrt{15}} \\approx 3.6$. \n",
    "\n",
    "Further complicating the situation is that the presence of an outlier can inflate the mean and standard deviation, especially for a small dataset, which further distorts the interpretation of $z$-scores."
   ]
  },
  {
   "cell_type": "code",
   "execution_count": 58,
   "metadata": {},
   "outputs": [
    {
     "data": {
      "text/html": [
       "<div>\n",
       "<style scoped>\n",
       "    .dataframe tbody tr th:only-of-type {\n",
       "        vertical-align: middle;\n",
       "    }\n",
       "\n",
       "    .dataframe tbody tr th {\n",
       "        vertical-align: top;\n",
       "    }\n",
       "\n",
       "    .dataframe thead th {\n",
       "        text-align: right;\n",
       "    }\n",
       "</style>\n",
       "<table border=\"1\" class=\"dataframe\">\n",
       "  <thead>\n",
       "    <tr style=\"text-align: right;\">\n",
       "      <th></th>\n",
       "      <th>player</th>\n",
       "      <th>salary</th>\n",
       "      <th>height_inches</th>\n",
       "      <th>deviation_from_mean</th>\n",
       "      <th>squared_deviation</th>\n",
       "      <th>salary_z-score</th>\n",
       "    </tr>\n",
       "  </thead>\n",
       "  <tbody>\n",
       "    <tr>\n",
       "      <th>0</th>\n",
       "      <td>LeBron James</td>\n",
       "      <td>37436858</td>\n",
       "      <td>80</td>\n",
       "      <td>2.957912e+07</td>\n",
       "      <td>8.749243e+14</td>\n",
       "      <td>2.877437</td>\n",
       "    </tr>\n",
       "    <tr>\n",
       "      <th>1</th>\n",
       "      <td>Anthony Davis</td>\n",
       "      <td>27093019</td>\n",
       "      <td>82</td>\n",
       "      <td>1.923528e+07</td>\n",
       "      <td>3.699960e+14</td>\n",
       "      <td>1.871195</td>\n",
       "    </tr>\n",
       "    <tr>\n",
       "      <th>2</th>\n",
       "      <td>Danny Green</td>\n",
       "      <td>14634146</td>\n",
       "      <td>78</td>\n",
       "      <td>6.776408e+06</td>\n",
       "      <td>4.591971e+13</td>\n",
       "      <td>0.659204</td>\n",
       "    </tr>\n",
       "    <tr>\n",
       "      <th>3</th>\n",
       "      <td>Kentavious Caldwell-Pope</td>\n",
       "      <td>8089282</td>\n",
       "      <td>77</td>\n",
       "      <td>2.315441e+05</td>\n",
       "      <td>5.361269e+10</td>\n",
       "      <td>0.022524</td>\n",
       "    </tr>\n",
       "    <tr>\n",
       "      <th>4</th>\n",
       "      <td>Avery Bradley</td>\n",
       "      <td>4767000</td>\n",
       "      <td>74</td>\n",
       "      <td>-3.090738e+06</td>\n",
       "      <td>9.552661e+12</td>\n",
       "      <td>-0.300665</td>\n",
       "    </tr>\n",
       "    <tr>\n",
       "      <th>5</th>\n",
       "      <td>JaVale McGee</td>\n",
       "      <td>4000000</td>\n",
       "      <td>84</td>\n",
       "      <td>-3.857738e+06</td>\n",
       "      <td>1.488214e+13</td>\n",
       "      <td>-0.375278</td>\n",
       "    </tr>\n",
       "    <tr>\n",
       "      <th>6</th>\n",
       "      <td>DeMarcus Cousins</td>\n",
       "      <td>3500000</td>\n",
       "      <td>83</td>\n",
       "      <td>-4.357738e+06</td>\n",
       "      <td>1.898988e+13</td>\n",
       "      <td>-0.423918</td>\n",
       "    </tr>\n",
       "    <tr>\n",
       "      <th>7</th>\n",
       "      <td>Quinn Cook</td>\n",
       "      <td>3000000</td>\n",
       "      <td>74</td>\n",
       "      <td>-4.857738e+06</td>\n",
       "      <td>2.359762e+13</td>\n",
       "      <td>-0.472558</td>\n",
       "    </tr>\n",
       "    <tr>\n",
       "      <th>8</th>\n",
       "      <td>Alex Caruso</td>\n",
       "      <td>2750000</td>\n",
       "      <td>77</td>\n",
       "      <td>-5.107738e+06</td>\n",
       "      <td>2.608899e+13</td>\n",
       "      <td>-0.496877</td>\n",
       "    </tr>\n",
       "    <tr>\n",
       "      <th>9</th>\n",
       "      <td>Jared Dudley</td>\n",
       "      <td>2564753</td>\n",
       "      <td>79</td>\n",
       "      <td>-5.292985e+06</td>\n",
       "      <td>2.801569e+13</td>\n",
       "      <td>-0.514898</td>\n",
       "    </tr>\n",
       "    <tr>\n",
       "      <th>10</th>\n",
       "      <td>Dwight Howard</td>\n",
       "      <td>2564753</td>\n",
       "      <td>83</td>\n",
       "      <td>-5.292985e+06</td>\n",
       "      <td>2.801569e+13</td>\n",
       "      <td>-0.514898</td>\n",
       "    </tr>\n",
       "    <tr>\n",
       "      <th>11</th>\n",
       "      <td>Rajon Rondo</td>\n",
       "      <td>2564753</td>\n",
       "      <td>73</td>\n",
       "      <td>-5.292985e+06</td>\n",
       "      <td>2.801569e+13</td>\n",
       "      <td>-0.514898</td>\n",
       "    </tr>\n",
       "    <tr>\n",
       "      <th>12</th>\n",
       "      <td>Troy Daniels</td>\n",
       "      <td>2028594</td>\n",
       "      <td>76</td>\n",
       "      <td>-5.829144e+06</td>\n",
       "      <td>3.397892e+13</td>\n",
       "      <td>-0.567055</td>\n",
       "    </tr>\n",
       "    <tr>\n",
       "      <th>13</th>\n",
       "      <td>Kyle Kuzma</td>\n",
       "      <td>1974600</td>\n",
       "      <td>81</td>\n",
       "      <td>-5.883138e+06</td>\n",
       "      <td>3.461131e+13</td>\n",
       "      <td>-0.572308</td>\n",
       "    </tr>\n",
       "    <tr>\n",
       "      <th>14</th>\n",
       "      <td>Talen Horton-Tucker</td>\n",
       "      <td>898310</td>\n",
       "      <td>76</td>\n",
       "      <td>-6.959428e+06</td>\n",
       "      <td>4.843364e+13</td>\n",
       "      <td>-0.677009</td>\n",
       "    </tr>\n",
       "  </tbody>\n",
       "</table>\n",
       "</div>"
      ],
      "text/plain": [
       "                      player    salary  height_inches  deviation_from_mean  \\\n",
       "0               LeBron James  37436858             80         2.957912e+07   \n",
       "1              Anthony Davis  27093019             82         1.923528e+07   \n",
       "2                Danny Green  14634146             78         6.776408e+06   \n",
       "3   Kentavious Caldwell-Pope   8089282             77         2.315441e+05   \n",
       "4              Avery Bradley   4767000             74        -3.090738e+06   \n",
       "5               JaVale McGee   4000000             84        -3.857738e+06   \n",
       "6           DeMarcus Cousins   3500000             83        -4.357738e+06   \n",
       "7                 Quinn Cook   3000000             74        -4.857738e+06   \n",
       "8                Alex Caruso   2750000             77        -5.107738e+06   \n",
       "9               Jared Dudley   2564753             79        -5.292985e+06   \n",
       "10             Dwight Howard   2564753             83        -5.292985e+06   \n",
       "11               Rajon Rondo   2564753             73        -5.292985e+06   \n",
       "12              Troy Daniels   2028594             76        -5.829144e+06   \n",
       "13                Kyle Kuzma   1974600             81        -5.883138e+06   \n",
       "14       Talen Horton-Tucker    898310             76        -6.959428e+06   \n",
       "\n",
       "    squared_deviation  salary_z-score  \n",
       "0        8.749243e+14        2.877437  \n",
       "1        3.699960e+14        1.871195  \n",
       "2        4.591971e+13        0.659204  \n",
       "3        5.361269e+10        0.022524  \n",
       "4        9.552661e+12       -0.300665  \n",
       "5        1.488214e+13       -0.375278  \n",
       "6        1.898988e+13       -0.423918  \n",
       "7        2.359762e+13       -0.472558  \n",
       "8        2.608899e+13       -0.496877  \n",
       "9        2.801569e+13       -0.514898  \n",
       "10       2.801569e+13       -0.514898  \n",
       "11       2.801569e+13       -0.514898  \n",
       "12       3.397892e+13       -0.567055  \n",
       "13       3.461131e+13       -0.572308  \n",
       "14       4.843364e+13       -0.677009  "
      ]
     },
     "execution_count": 58,
     "metadata": {},
     "output_type": "execute_result"
    }
   ],
   "source": [
    "lakers['salary_z-score'] = (lakers['salary'] - lakers['salary'].mean()) / lakers['salary'].std(ddof = 0)\n",
    "lakers"
   ]
  },
  {
   "cell_type": "code",
   "execution_count": 59,
   "metadata": {},
   "outputs": [
    {
     "data": {
      "text/html": [
       "<div>\n",
       "<style scoped>\n",
       "    .dataframe tbody tr th:only-of-type {\n",
       "        vertical-align: middle;\n",
       "    }\n",
       "\n",
       "    .dataframe tbody tr th {\n",
       "        vertical-align: top;\n",
       "    }\n",
       "\n",
       "    .dataframe thead th {\n",
       "        text-align: right;\n",
       "    }\n",
       "</style>\n",
       "<table border=\"1\" class=\"dataframe\">\n",
       "  <thead>\n",
       "    <tr style=\"text-align: right;\">\n",
       "      <th></th>\n",
       "      <th>player</th>\n",
       "      <th>salary</th>\n",
       "      <th>height_inches</th>\n",
       "      <th>deviation_from_mean</th>\n",
       "      <th>squared_deviation</th>\n",
       "      <th>salary_z-score</th>\n",
       "      <th>height_z-score</th>\n",
       "    </tr>\n",
       "  </thead>\n",
       "  <tbody>\n",
       "    <tr>\n",
       "      <th>0</th>\n",
       "      <td>LeBron James</td>\n",
       "      <td>37436858</td>\n",
       "      <td>80</td>\n",
       "      <td>2.957912e+07</td>\n",
       "      <td>8.749243e+14</td>\n",
       "      <td>2.877437</td>\n",
       "      <td>0.442963</td>\n",
       "    </tr>\n",
       "    <tr>\n",
       "      <th>1</th>\n",
       "      <td>Anthony Davis</td>\n",
       "      <td>27093019</td>\n",
       "      <td>82</td>\n",
       "      <td>1.923528e+07</td>\n",
       "      <td>3.699960e+14</td>\n",
       "      <td>1.871195</td>\n",
       "      <td>1.020742</td>\n",
       "    </tr>\n",
       "    <tr>\n",
       "      <th>2</th>\n",
       "      <td>Danny Green</td>\n",
       "      <td>14634146</td>\n",
       "      <td>78</td>\n",
       "      <td>6.776408e+06</td>\n",
       "      <td>4.591971e+13</td>\n",
       "      <td>0.659204</td>\n",
       "      <td>-0.134815</td>\n",
       "    </tr>\n",
       "    <tr>\n",
       "      <th>3</th>\n",
       "      <td>Kentavious Caldwell-Pope</td>\n",
       "      <td>8089282</td>\n",
       "      <td>77</td>\n",
       "      <td>2.315441e+05</td>\n",
       "      <td>5.361269e+10</td>\n",
       "      <td>0.022524</td>\n",
       "      <td>-0.423704</td>\n",
       "    </tr>\n",
       "    <tr>\n",
       "      <th>4</th>\n",
       "      <td>Avery Bradley</td>\n",
       "      <td>4767000</td>\n",
       "      <td>74</td>\n",
       "      <td>-3.090738e+06</td>\n",
       "      <td>9.552661e+12</td>\n",
       "      <td>-0.300665</td>\n",
       "      <td>-1.290372</td>\n",
       "    </tr>\n",
       "    <tr>\n",
       "      <th>5</th>\n",
       "      <td>JaVale McGee</td>\n",
       "      <td>4000000</td>\n",
       "      <td>84</td>\n",
       "      <td>-3.857738e+06</td>\n",
       "      <td>1.488214e+13</td>\n",
       "      <td>-0.375278</td>\n",
       "      <td>1.598520</td>\n",
       "    </tr>\n",
       "    <tr>\n",
       "      <th>6</th>\n",
       "      <td>DeMarcus Cousins</td>\n",
       "      <td>3500000</td>\n",
       "      <td>83</td>\n",
       "      <td>-4.357738e+06</td>\n",
       "      <td>1.898988e+13</td>\n",
       "      <td>-0.423918</td>\n",
       "      <td>1.309631</td>\n",
       "    </tr>\n",
       "    <tr>\n",
       "      <th>7</th>\n",
       "      <td>Quinn Cook</td>\n",
       "      <td>3000000</td>\n",
       "      <td>74</td>\n",
       "      <td>-4.857738e+06</td>\n",
       "      <td>2.359762e+13</td>\n",
       "      <td>-0.472558</td>\n",
       "      <td>-1.290372</td>\n",
       "    </tr>\n",
       "    <tr>\n",
       "      <th>8</th>\n",
       "      <td>Alex Caruso</td>\n",
       "      <td>2750000</td>\n",
       "      <td>77</td>\n",
       "      <td>-5.107738e+06</td>\n",
       "      <td>2.608899e+13</td>\n",
       "      <td>-0.496877</td>\n",
       "      <td>-0.423704</td>\n",
       "    </tr>\n",
       "    <tr>\n",
       "      <th>9</th>\n",
       "      <td>Jared Dudley</td>\n",
       "      <td>2564753</td>\n",
       "      <td>79</td>\n",
       "      <td>-5.292985e+06</td>\n",
       "      <td>2.801569e+13</td>\n",
       "      <td>-0.514898</td>\n",
       "      <td>0.154074</td>\n",
       "    </tr>\n",
       "    <tr>\n",
       "      <th>10</th>\n",
       "      <td>Dwight Howard</td>\n",
       "      <td>2564753</td>\n",
       "      <td>83</td>\n",
       "      <td>-5.292985e+06</td>\n",
       "      <td>2.801569e+13</td>\n",
       "      <td>-0.514898</td>\n",
       "      <td>1.309631</td>\n",
       "    </tr>\n",
       "    <tr>\n",
       "      <th>11</th>\n",
       "      <td>Rajon Rondo</td>\n",
       "      <td>2564753</td>\n",
       "      <td>73</td>\n",
       "      <td>-5.292985e+06</td>\n",
       "      <td>2.801569e+13</td>\n",
       "      <td>-0.514898</td>\n",
       "      <td>-1.579261</td>\n",
       "    </tr>\n",
       "    <tr>\n",
       "      <th>12</th>\n",
       "      <td>Troy Daniels</td>\n",
       "      <td>2028594</td>\n",
       "      <td>76</td>\n",
       "      <td>-5.829144e+06</td>\n",
       "      <td>3.397892e+13</td>\n",
       "      <td>-0.567055</td>\n",
       "      <td>-0.712593</td>\n",
       "    </tr>\n",
       "    <tr>\n",
       "      <th>13</th>\n",
       "      <td>Kyle Kuzma</td>\n",
       "      <td>1974600</td>\n",
       "      <td>81</td>\n",
       "      <td>-5.883138e+06</td>\n",
       "      <td>3.461131e+13</td>\n",
       "      <td>-0.572308</td>\n",
       "      <td>0.731853</td>\n",
       "    </tr>\n",
       "    <tr>\n",
       "      <th>14</th>\n",
       "      <td>Talen Horton-Tucker</td>\n",
       "      <td>898310</td>\n",
       "      <td>76</td>\n",
       "      <td>-6.959428e+06</td>\n",
       "      <td>4.843364e+13</td>\n",
       "      <td>-0.677009</td>\n",
       "      <td>-0.712593</td>\n",
       "    </tr>\n",
       "  </tbody>\n",
       "</table>\n",
       "</div>"
      ],
      "text/plain": [
       "                      player    salary  height_inches  deviation_from_mean  \\\n",
       "0               LeBron James  37436858             80         2.957912e+07   \n",
       "1              Anthony Davis  27093019             82         1.923528e+07   \n",
       "2                Danny Green  14634146             78         6.776408e+06   \n",
       "3   Kentavious Caldwell-Pope   8089282             77         2.315441e+05   \n",
       "4              Avery Bradley   4767000             74        -3.090738e+06   \n",
       "5               JaVale McGee   4000000             84        -3.857738e+06   \n",
       "6           DeMarcus Cousins   3500000             83        -4.357738e+06   \n",
       "7                 Quinn Cook   3000000             74        -4.857738e+06   \n",
       "8                Alex Caruso   2750000             77        -5.107738e+06   \n",
       "9               Jared Dudley   2564753             79        -5.292985e+06   \n",
       "10             Dwight Howard   2564753             83        -5.292985e+06   \n",
       "11               Rajon Rondo   2564753             73        -5.292985e+06   \n",
       "12              Troy Daniels   2028594             76        -5.829144e+06   \n",
       "13                Kyle Kuzma   1974600             81        -5.883138e+06   \n",
       "14       Talen Horton-Tucker    898310             76        -6.959428e+06   \n",
       "\n",
       "    squared_deviation  salary_z-score  height_z-score  \n",
       "0        8.749243e+14        2.877437        0.442963  \n",
       "1        3.699960e+14        1.871195        1.020742  \n",
       "2        4.591971e+13        0.659204       -0.134815  \n",
       "3        5.361269e+10        0.022524       -0.423704  \n",
       "4        9.552661e+12       -0.300665       -1.290372  \n",
       "5        1.488214e+13       -0.375278        1.598520  \n",
       "6        1.898988e+13       -0.423918        1.309631  \n",
       "7        2.359762e+13       -0.472558       -1.290372  \n",
       "8        2.608899e+13       -0.496877       -0.423704  \n",
       "9        2.801569e+13       -0.514898        0.154074  \n",
       "10       2.801569e+13       -0.514898        1.309631  \n",
       "11       2.801569e+13       -0.514898       -1.579261  \n",
       "12       3.397892e+13       -0.567055       -0.712593  \n",
       "13       3.461131e+13       -0.572308        0.731853  \n",
       "14       4.843364e+13       -0.677009       -0.712593  "
      ]
     },
     "execution_count": 59,
     "metadata": {},
     "output_type": "execute_result"
    }
   ],
   "source": [
    "lakers['height_z-score'] = (lakers['height_inches'] - lakers['height_inches'].mean()) / lakers['height_inches'].std(ddof = 0)\n",
    "lakers"
   ]
  },
  {
   "cell_type": "markdown",
   "metadata": {},
   "source": [
    "From this, you can see that the heights of players on the team show (relatively) less dispersion. While Lebron James' salary is nearly 3 standard deviations above the average salary, the tallest player is only about 1.6 standard deviations above average.\n",
    "\n",
    "Further, you can see that the distributions of heights is much more symmetric, and does not have a tail to either side. At the same time, for this distribution, it is not really bell-shaped either, since you do not see a large number of players near the average height."
   ]
  },
  {
   "cell_type": "markdown",
   "metadata": {},
   "source": [
    "# Measures of Position\n",
    "\n",
    "Measures of position have to do with ranking where an observation is in the dataset with respect to all other values."
   ]
  },
  {
   "cell_type": "markdown",
   "metadata": {},
   "source": [
    "## Quartiles and Quantiles/Percentiles\n",
    "\n",
    "You have already encountered a special case of quantiles and percentiles, in the form of the median. Recall that the median of a dataset is the middle observation, if the observations are placed in ascending order. Another way to view this is that the median separates the lower half of the dataset from the upper half.\n",
    "\n",
    "Instead of dividing a dataset into halves, **quartiles** divide a dataset into quarters. \n",
    "\n",
    "The **first quartile** separates the smallest quarter of observations from the highest three-quarters, the **second quartile**, aka the median, separates the smallest half of observations from the largest half of observations, and the **third quartile** separates the smallest three-quarters from the largest quarter of observations.\n",
    "\n",
    "Quartiles (and more generally, **quantiles**) can be calculated using the `quantile` method."
   ]
  },
  {
   "cell_type": "code",
   "execution_count": 60,
   "metadata": {},
   "outputs": [
    {
     "data": {
      "text/plain": [
       "2564753.0"
      ]
     },
     "execution_count": 60,
     "metadata": {},
     "output_type": "execute_result"
    }
   ],
   "source": [
    "lakers['salary'].quantile(q = 0.25)"
   ]
  },
  {
   "cell_type": "code",
   "execution_count": 61,
   "metadata": {},
   "outputs": [
    {
     "data": {
      "text/plain": [
       "3000000.0"
      ]
     },
     "execution_count": 61,
     "metadata": {},
     "output_type": "execute_result"
    }
   ],
   "source": [
    "lakers['salary'].quantile(q = 0.5)"
   ]
  },
  {
   "cell_type": "code",
   "execution_count": 62,
   "metadata": {},
   "outputs": [
    {
     "data": {
      "text/plain": [
       "6428141.0"
      ]
     },
     "execution_count": 62,
     "metadata": {},
     "output_type": "execute_result"
    }
   ],
   "source": [
    "lakers['salary'].quantile(q = 0.75)"
   ]
  },
  {
   "cell_type": "markdown",
   "metadata": {},
   "source": [
    "You can use the quantiles to find the **interquartile range**, which is defined as the distance from the first to the third quartile. In a way, it is a trimmed version of the range, which is not as sensitive to extreme values."
   ]
  },
  {
   "cell_type": "code",
   "execution_count": 63,
   "metadata": {},
   "outputs": [
    {
     "data": {
      "text/plain": [
       "3863388.0"
      ]
     },
     "execution_count": 63,
     "metadata": {},
     "output_type": "execute_result"
    }
   ],
   "source": [
    "lakers['salary'].quantile(q = 0.75) - lakers['salary'].quantile(q = 0.25)"
   ]
  },
  {
   "cell_type": "code",
   "execution_count": 64,
   "metadata": {},
   "outputs": [],
   "source": [
    "from nssstats.plots import iqr_plot"
   ]
  },
  {
   "cell_type": "code",
   "execution_count": 65,
   "metadata": {},
   "outputs": [
    {
     "data": {
      "image/png": "[encoded data removed]",
      "text/plain": [
       "<Figure size 720x432 with 1 Axes>"
      ]
     },
     "metadata": {
      "needs_background": "light"
     },
     "output_type": "display_data"
    }
   ],
   "source": [
    "plt.figure(figsize = (10,6))\n",
    "\n",
    "iqr_plot(lakers['salary'], bins = 25, edgecolor = 'black', linewidth = 2)"
   ]
  },
  {
   "cell_type": "markdown",
   "metadata": {},
   "source": [
    "This tells us that the middle half of observations all fall into a range of width $3.8 million."
   ]
  },
  {
   "cell_type": "code",
   "execution_count": 66,
   "metadata": {},
   "outputs": [
    {
     "data": {
      "image/png": "[encoded data removed]",
      "text/plain": [
       "<Figure size 720x432 with 1 Axes>"
      ]
     },
     "metadata": {
      "needs_background": "light"
     },
     "output_type": "display_data"
    }
   ],
   "source": [
    "plt.figure(figsize = (10,6))\n",
    "\n",
    "iqr_plot(lakers['height_inches'], edgecolor = 'black', linewidth = 2)"
   ]
  },
  {
   "cell_type": "markdown",
   "metadata": {},
   "source": [
    "More generally, you can look at the quantiles or percentiles. The $n$th percentile separtes the lowest $n$% of observations from the rest. For example, the 90th percentile divides the lowest 90% of observations from the highest 10%. \n",
    "\n",
    "To find percentiles, you can use the quantile function from pandas."
   ]
  },
  {
   "cell_type": "code",
   "execution_count": 67,
   "metadata": {},
   "outputs": [
    {
     "data": {
      "text/plain": [
       "1996197.6"
      ]
     },
     "execution_count": 67,
     "metadata": {},
     "output_type": "execute_result"
    }
   ],
   "source": [
    "lakers['salary'].quantile(q = 0.1)"
   ]
  },
  {
   "cell_type": "code",
   "execution_count": 68,
   "metadata": {},
   "outputs": [
    {
     "data": {
      "text/plain": [
       "22109469.799999997"
      ]
     },
     "execution_count": 68,
     "metadata": {},
     "output_type": "execute_result"
    }
   ],
   "source": [
    "lakers['salary'].quantile(q = 0.9)"
   ]
  },
  {
   "cell_type": "markdown",
   "metadata": {},
   "source": [
    "Percentiles can be used to identify unusual observations, or to trim outliers from a data set.\n",
    "\n",
    "If you want to understand how a variable is distributed, you have already seen how to use a histogram. An alternative type of plot that you can use is a **boxplot** (aka **box-and-whiskers plot**). This type of plot displays a box which starts at the first quartile and extend to the third quartile, with the second quartile marked. It also has whiskers that extend to last observations contained within the **outlier boundaries**. \n",
    "\n",
    "These boundaries are (usually) defined as being at 1.5 times the interquartile range below the first quartile and above the third quartile. Any points outside of the outiler boundaries are plotted individually."
   ]
  },
  {
   "cell_type": "code",
   "execution_count": 69,
   "metadata": {},
   "outputs": [],
   "source": [
    "import seaborn as sns"
   ]
  },
  {
   "cell_type": "code",
   "execution_count": 70,
   "metadata": {},
   "outputs": [
    {
     "data": {
      "image/png": "[encoded data removed]",
      "text/plain": [
       "<Figure size 720x432 with 1 Axes>"
      ]
     },
     "metadata": {
      "needs_background": "light"
     },
     "output_type": "display_data"
    }
   ],
   "source": [
    "plt.figure(figsize = (10,6))\n",
    "sns.boxplot(x = lakers['salary']);"
   ]
  },
  {
   "cell_type": "markdown",
   "metadata": {},
   "source": [
    "Looking at the boxplot, we can detect that most salaries are less than \\$10 million, but that there are three players with very high salaries."
   ]
  },
  {
   "cell_type": "code",
   "execution_count": 71,
   "metadata": {},
   "outputs": [
    {
     "data": {
      "image/png": "[encoded data removed]",
      "text/plain": [
       "<Figure size 720x432 with 1 Axes>"
      ]
     },
     "metadata": {
      "needs_background": "light"
     },
     "output_type": "display_data"
    }
   ],
   "source": [
    "plt.figure(figsize = (10,6))\n",
    "\n",
    "sns.boxplot(x = lakers['height_inches']);"
   ]
  },
  {
   "cell_type": "markdown",
   "metadata": {},
   "source": [
    "Boxplots are also good for comparing the distribution of a variable across two or more categories. For example, let's compare salaries for the Lakers to salaries for the Memphis Grizzlies."
   ]
  },
  {
   "cell_type": "code",
   "execution_count": 72,
   "metadata": {},
   "outputs": [],
   "source": [
    "lakers_grizzlies = pd.read_csv('../data/Lakers_Grizzlies.csv')"
   ]
  },
  {
   "cell_type": "code",
   "execution_count": 73,
   "metadata": {},
   "outputs": [
    {
     "data": {
      "text/html": [
       "<div>\n",
       "<style scoped>\n",
       "    .dataframe tbody tr th:only-of-type {\n",
       "        vertical-align: middle;\n",
       "    }\n",
       "\n",
       "    .dataframe tbody tr th {\n",
       "        vertical-align: top;\n",
       "    }\n",
       "\n",
       "    .dataframe thead th {\n",
       "        text-align: right;\n",
       "    }\n",
       "</style>\n",
       "<table border=\"1\" class=\"dataframe\">\n",
       "  <thead>\n",
       "    <tr style=\"text-align: right;\">\n",
       "      <th></th>\n",
       "      <th>player</th>\n",
       "      <th>salary</th>\n",
       "      <th>team</th>\n",
       "    </tr>\n",
       "  </thead>\n",
       "  <tbody>\n",
       "    <tr>\n",
       "      <th>0</th>\n",
       "      <td>Gorgui Dieng</td>\n",
       "      <td>16229213</td>\n",
       "      <td>Grizzlies</td>\n",
       "    </tr>\n",
       "    <tr>\n",
       "      <th>1</th>\n",
       "      <td>Jonas Valančiūnas</td>\n",
       "      <td>16000000</td>\n",
       "      <td>Grizzlies</td>\n",
       "    </tr>\n",
       "    <tr>\n",
       "      <th>2</th>\n",
       "      <td>Justise Winslow</td>\n",
       "      <td>13000000</td>\n",
       "      <td>Grizzlies</td>\n",
       "    </tr>\n",
       "    <tr>\n",
       "      <th>3</th>\n",
       "      <td>Kyle Anderson</td>\n",
       "      <td>9073050</td>\n",
       "      <td>Grizzlies</td>\n",
       "    </tr>\n",
       "    <tr>\n",
       "      <th>4</th>\n",
       "      <td>Ja Morant</td>\n",
       "      <td>8730240</td>\n",
       "      <td>Grizzlies</td>\n",
       "    </tr>\n",
       "    <tr>\n",
       "      <th>5</th>\n",
       "      <td>Tyus Jones</td>\n",
       "      <td>8408000</td>\n",
       "      <td>Grizzlies</td>\n",
       "    </tr>\n",
       "    <tr>\n",
       "      <th>6</th>\n",
       "      <td>Josh Jackson</td>\n",
       "      <td>7059480</td>\n",
       "      <td>Grizzlies</td>\n",
       "    </tr>\n",
       "    <tr>\n",
       "      <th>7</th>\n",
       "      <td>Jaren Jackson</td>\n",
       "      <td>6927480</td>\n",
       "      <td>Grizzlies</td>\n",
       "    </tr>\n",
       "    <tr>\n",
       "      <th>8</th>\n",
       "      <td>Marko Guduric</td>\n",
       "      <td>2625000</td>\n",
       "      <td>Grizzlies</td>\n",
       "    </tr>\n",
       "    <tr>\n",
       "      <th>9</th>\n",
       "      <td>Brandon Clarke</td>\n",
       "      <td>2478840</td>\n",
       "      <td>Grizzlies</td>\n",
       "    </tr>\n",
       "    <tr>\n",
       "      <th>10</th>\n",
       "      <td>Grayson Allen</td>\n",
       "      <td>2429400</td>\n",
       "      <td>Grizzlies</td>\n",
       "    </tr>\n",
       "    <tr>\n",
       "      <th>11</th>\n",
       "      <td>Jordan Bell</td>\n",
       "      <td>1620564</td>\n",
       "      <td>Grizzlies</td>\n",
       "    </tr>\n",
       "    <tr>\n",
       "      <th>12</th>\n",
       "      <td>Dillon Brooks</td>\n",
       "      <td>1618520</td>\n",
       "      <td>Grizzlies</td>\n",
       "    </tr>\n",
       "    <tr>\n",
       "      <th>13</th>\n",
       "      <td>De'Anthony Melton</td>\n",
       "      <td>1416852</td>\n",
       "      <td>Grizzlies</td>\n",
       "    </tr>\n",
       "    <tr>\n",
       "      <th>14</th>\n",
       "      <td>LeBron James</td>\n",
       "      <td>37436858</td>\n",
       "      <td>Lakers</td>\n",
       "    </tr>\n",
       "    <tr>\n",
       "      <th>15</th>\n",
       "      <td>Anthony Davis</td>\n",
       "      <td>27093019</td>\n",
       "      <td>Lakers</td>\n",
       "    </tr>\n",
       "    <tr>\n",
       "      <th>16</th>\n",
       "      <td>Danny Green</td>\n",
       "      <td>14634146</td>\n",
       "      <td>Lakers</td>\n",
       "    </tr>\n",
       "    <tr>\n",
       "      <th>17</th>\n",
       "      <td>Kentavious Caldwell-Pope</td>\n",
       "      <td>8089282</td>\n",
       "      <td>Lakers</td>\n",
       "    </tr>\n",
       "    <tr>\n",
       "      <th>18</th>\n",
       "      <td>Avery Bradley</td>\n",
       "      <td>4767000</td>\n",
       "      <td>Lakers</td>\n",
       "    </tr>\n",
       "    <tr>\n",
       "      <th>19</th>\n",
       "      <td>JaVale McGee</td>\n",
       "      <td>4000000</td>\n",
       "      <td>Lakers</td>\n",
       "    </tr>\n",
       "    <tr>\n",
       "      <th>20</th>\n",
       "      <td>DeMarcus Cousins</td>\n",
       "      <td>3500000</td>\n",
       "      <td>Lakers</td>\n",
       "    </tr>\n",
       "    <tr>\n",
       "      <th>21</th>\n",
       "      <td>Quinn Cook</td>\n",
       "      <td>3000000</td>\n",
       "      <td>Lakers</td>\n",
       "    </tr>\n",
       "    <tr>\n",
       "      <th>22</th>\n",
       "      <td>Alex Caruso</td>\n",
       "      <td>2750000</td>\n",
       "      <td>Lakers</td>\n",
       "    </tr>\n",
       "    <tr>\n",
       "      <th>23</th>\n",
       "      <td>Jared Dudley</td>\n",
       "      <td>2564753</td>\n",
       "      <td>Lakers</td>\n",
       "    </tr>\n",
       "    <tr>\n",
       "      <th>24</th>\n",
       "      <td>Dwight Howard</td>\n",
       "      <td>2564753</td>\n",
       "      <td>Lakers</td>\n",
       "    </tr>\n",
       "    <tr>\n",
       "      <th>25</th>\n",
       "      <td>Rajon Rondo</td>\n",
       "      <td>2564753</td>\n",
       "      <td>Lakers</td>\n",
       "    </tr>\n",
       "    <tr>\n",
       "      <th>26</th>\n",
       "      <td>Troy Daniels</td>\n",
       "      <td>2028594</td>\n",
       "      <td>Lakers</td>\n",
       "    </tr>\n",
       "    <tr>\n",
       "      <th>27</th>\n",
       "      <td>Kyle Kuzma</td>\n",
       "      <td>1974600</td>\n",
       "      <td>Lakers</td>\n",
       "    </tr>\n",
       "    <tr>\n",
       "      <th>28</th>\n",
       "      <td>Talen Horton-Tucker</td>\n",
       "      <td>898310</td>\n",
       "      <td>Lakers</td>\n",
       "    </tr>\n",
       "  </tbody>\n",
       "</table>\n",
       "</div>"
      ],
      "text/plain": [
       "                      player    salary       team\n",
       "0               Gorgui Dieng  16229213  Grizzlies\n",
       "1          Jonas Valančiūnas  16000000  Grizzlies\n",
       "2            Justise Winslow  13000000  Grizzlies\n",
       "3              Kyle Anderson   9073050  Grizzlies\n",
       "4                  Ja Morant   8730240  Grizzlies\n",
       "5                 Tyus Jones   8408000  Grizzlies\n",
       "6               Josh Jackson   7059480  Grizzlies\n",
       "7              Jaren Jackson   6927480  Grizzlies\n",
       "8              Marko Guduric   2625000  Grizzlies\n",
       "9             Brandon Clarke   2478840  Grizzlies\n",
       "10             Grayson Allen   2429400  Grizzlies\n",
       "11               Jordan Bell   1620564  Grizzlies\n",
       "12             Dillon Brooks   1618520  Grizzlies\n",
       "13         De'Anthony Melton   1416852  Grizzlies\n",
       "14              LeBron James  37436858     Lakers\n",
       "15             Anthony Davis  27093019     Lakers\n",
       "16               Danny Green  14634146     Lakers\n",
       "17  Kentavious Caldwell-Pope   8089282     Lakers\n",
       "18             Avery Bradley   4767000     Lakers\n",
       "19              JaVale McGee   4000000     Lakers\n",
       "20          DeMarcus Cousins   3500000     Lakers\n",
       "21                Quinn Cook   3000000     Lakers\n",
       "22               Alex Caruso   2750000     Lakers\n",
       "23              Jared Dudley   2564753     Lakers\n",
       "24             Dwight Howard   2564753     Lakers\n",
       "25               Rajon Rondo   2564753     Lakers\n",
       "26              Troy Daniels   2028594     Lakers\n",
       "27                Kyle Kuzma   1974600     Lakers\n",
       "28       Talen Horton-Tucker    898310     Lakers"
      ]
     },
     "execution_count": 73,
     "metadata": {},
     "output_type": "execute_result"
    }
   ],
   "source": [
    "lakers_grizzlies"
   ]
  },
  {
   "cell_type": "markdown",
   "metadata": {},
   "source": [
    "You can add an argument to tell seaborn how to divide the data into categories. "
   ]
  },
  {
   "cell_type": "code",
   "execution_count": 74,
   "metadata": {},
   "outputs": [
    {
     "data": {
      "image/png": "[encoded data removed]",
      "text/plain": [
       "<Figure size 720x432 with 1 Axes>"
      ]
     },
     "metadata": {
      "needs_background": "light"
     },
     "output_type": "display_data"
    }
   ],
   "source": [
    "plt.figure(figsize = (10,6))\n",
    "\n",
    "sns.boxplot(data = lakers_grizzlies, x = \"team\", y = \"salary\");"
   ]
  },
  {
   "cell_type": "markdown",
   "metadata": {},
   "source": [
    "**Question:** What does this boxplot tell us about the distribution of salaries for the Grizzlies compared to the Lakers?"
   ]
  },
  {
   "cell_type": "markdown",
   "metadata": {},
   "source": [
    "To wrap up this notebook, you will now look at a dataset consisting of a sample 1000 home appraisal values from Nashville/Davidson County from the year 2009."
   ]
  },
  {
   "cell_type": "code",
   "execution_count": 75,
   "metadata": {},
   "outputs": [
    {
     "data": {
      "text/html": [
       "<div>\n",
       "<style scoped>\n",
       "    .dataframe tbody tr th:only-of-type {\n",
       "        vertical-align: middle;\n",
       "    }\n",
       "\n",
       "    .dataframe tbody tr th {\n",
       "        vertical-align: top;\n",
       "    }\n",
       "\n",
       "    .dataframe thead th {\n",
       "        text-align: right;\n",
       "    }\n",
       "</style>\n",
       "<table border=\"1\" class=\"dataframe\">\n",
       "  <thead>\n",
       "    <tr style=\"text-align: right;\">\n",
       "      <th></th>\n",
       "      <th>council_district</th>\n",
       "      <th>total_appr</th>\n",
       "      <th>finished_area</th>\n",
       "      <th>year</th>\n",
       "    </tr>\n",
       "  </thead>\n",
       "  <tbody>\n",
       "    <tr>\n",
       "      <th>0</th>\n",
       "      <td>2</td>\n",
       "      <td>129400.0</td>\n",
       "      <td>2243.0</td>\n",
       "      <td>2009</td>\n",
       "    </tr>\n",
       "    <tr>\n",
       "      <th>1</th>\n",
       "      <td>26</td>\n",
       "      <td>174700.0</td>\n",
       "      <td>1408.0</td>\n",
       "      <td>2009</td>\n",
       "    </tr>\n",
       "    <tr>\n",
       "      <th>2</th>\n",
       "      <td>4</td>\n",
       "      <td>299200.0</td>\n",
       "      <td>3037.0</td>\n",
       "      <td>2009</td>\n",
       "    </tr>\n",
       "    <tr>\n",
       "      <th>3</th>\n",
       "      <td>15</td>\n",
       "      <td>141600.0</td>\n",
       "      <td>1770.0</td>\n",
       "      <td>2009</td>\n",
       "    </tr>\n",
       "    <tr>\n",
       "      <th>4</th>\n",
       "      <td>33</td>\n",
       "      <td>80600.0</td>\n",
       "      <td>973.0</td>\n",
       "      <td>2009</td>\n",
       "    </tr>\n",
       "  </tbody>\n",
       "</table>\n",
       "</div>"
      ],
      "text/plain": [
       "   council_district  total_appr  finished_area  year\n",
       "0                 2    129400.0         2243.0  2009\n",
       "1                26    174700.0         1408.0  2009\n",
       "2                 4    299200.0         3037.0  2009\n",
       "3                15    141600.0         1770.0  2009\n",
       "4                33     80600.0          973.0  2009"
      ]
     },
     "execution_count": 75,
     "metadata": {},
     "output_type": "execute_result"
    }
   ],
   "source": [
    "houses_2009 = pd.read_csv('../data/appraisal_sample.csv')\n",
    "\n",
    "houses_2009.head()"
   ]
  },
  {
   "cell_type": "markdown",
   "metadata": {},
   "source": [
    "First, let's look at the measures of central tendency."
   ]
  },
  {
   "cell_type": "code",
   "execution_count": 76,
   "metadata": {},
   "outputs": [
    {
     "data": {
      "text/plain": [
       "201457.145"
      ]
     },
     "execution_count": 76,
     "metadata": {},
     "output_type": "execute_result"
    }
   ],
   "source": [
    "houses_2009['total_appr'].mean()"
   ]
  },
  {
   "cell_type": "code",
   "execution_count": 77,
   "metadata": {},
   "outputs": [
    {
     "data": {
      "text/plain": [
       "144100.0"
      ]
     },
     "execution_count": 77,
     "metadata": {},
     "output_type": "execute_result"
    }
   ],
   "source": [
    "houses_2009['total_appr'].median()"
   ]
  },
  {
   "cell_type": "markdown",
   "metadata": {},
   "source": [
    "Then some measures of spread."
   ]
  },
  {
   "cell_type": "code",
   "execution_count": 78,
   "metadata": {},
   "outputs": [
    {
     "data": {
      "text/plain": [
       "3092400.0"
      ]
     },
     "execution_count": 78,
     "metadata": {},
     "output_type": "execute_result"
    }
   ],
   "source": [
    "houses_2009['total_appr'].max()"
   ]
  },
  {
   "cell_type": "code",
   "execution_count": 79,
   "metadata": {},
   "outputs": [
    {
     "data": {
      "text/plain": [
       "10200.0"
      ]
     },
     "execution_count": 79,
     "metadata": {},
     "output_type": "execute_result"
    }
   ],
   "source": [
    "houses_2009['total_appr'].min()"
   ]
  },
  {
   "cell_type": "code",
   "execution_count": 80,
   "metadata": {},
   "outputs": [
    {
     "data": {
      "text/plain": [
       "3082200.0"
      ]
     },
     "execution_count": 80,
     "metadata": {},
     "output_type": "execute_result"
    }
   ],
   "source": [
    "houses_2009['total_appr'].max() - houses_2009['total_appr'].min()"
   ]
  },
  {
   "cell_type": "code",
   "execution_count": 81,
   "metadata": {},
   "outputs": [
    {
     "data": {
      "image/png": "[encoded data removed]",
      "text/plain": [
       "<Figure size 720x432 with 1 Axes>"
      ]
     },
     "metadata": {
      "needs_background": "light"
     },
     "output_type": "display_data"
    }
   ],
   "source": [
    "plt.figure(figsize = (10,6))\n",
    "\n",
    "range_plot(houses_2009['total_appr'], bins=40, edgecolor = 'black', linewidth = 2)"
   ]
  },
  {
   "cell_type": "markdown",
   "metadata": {},
   "source": [
    "When computing the standard deviation, remember to set the ddof = 1 since we are looking at a sample and not the entire population."
   ]
  },
  {
   "cell_type": "code",
   "execution_count": 82,
   "metadata": {},
   "outputs": [
    {
     "data": {
      "text/plain": [
       "230514.3876363769"
      ]
     },
     "execution_count": 82,
     "metadata": {},
     "output_type": "execute_result"
    }
   ],
   "source": [
    "houses_2009['total_appr'].std(ddof = 1)"
   ]
  },
  {
   "cell_type": "code",
   "execution_count": 83,
   "metadata": {},
   "outputs": [
    {
     "data": {
      "image/png": "[encoded data removed]",
      "text/plain": [
       "<Figure size 720x432 with 1 Axes>"
      ]
     },
     "metadata": {
      "needs_background": "light"
     },
     "output_type": "display_data"
    }
   ],
   "source": [
    "plt.figure(figsize = (10,6))\n",
    "\n",
    "std_plot(houses_2009['total_appr'], bins = 40, edgecolor = 'black', linewidth = 2)"
   ]
  },
  {
   "cell_type": "code",
   "execution_count": 84,
   "metadata": {},
   "outputs": [
    {
     "data": {
      "image/png": "[encoded data removed]",
      "text/plain": [
       "<Figure size 720x432 with 1 Axes>"
      ]
     },
     "metadata": {
      "needs_background": "light"
     },
     "output_type": "display_data"
    }
   ],
   "source": [
    "plt.figure(figsize = (10,6))\n",
    "\n",
    "iqr_plot(houses_2009['total_appr'], bins = 40, edgecolor = 'black', linewidth = 2)"
   ]
  },
  {
   "cell_type": "markdown",
   "metadata": {},
   "source": [
    "You have seen that there is a large range and standard deviation in this dataset. Find the potential outilers for this dataset by looking at $z$-scores."
   ]
  },
  {
   "cell_type": "code",
   "execution_count": 85,
   "metadata": {},
   "outputs": [],
   "source": [
    "mu = houses_2009['total_appr'].mean()\n",
    "sigma = houses_2009['total_appr'].std()"
   ]
  },
  {
   "cell_type": "code",
   "execution_count": 86,
   "metadata": {
    "scrolled": true
   },
   "outputs": [],
   "source": [
    "houses_2009['z_score'] = (houses_2009['total_appr'] - mu) / sigma"
   ]
  },
  {
   "cell_type": "markdown",
   "metadata": {},
   "source": [
    "You can inspect those houses which have very large z-scores. To filter a dataframe, you can pass in an inequality inside a bracket, like in the following cell:"
   ]
  },
  {
   "cell_type": "code",
   "execution_count": 87,
   "metadata": {
    "scrolled": false
   },
   "outputs": [
    {
     "data": {
      "text/html": [
       "<div>\n",
       "<style scoped>\n",
       "    .dataframe tbody tr th:only-of-type {\n",
       "        vertical-align: middle;\n",
       "    }\n",
       "\n",
       "    .dataframe tbody tr th {\n",
       "        vertical-align: top;\n",
       "    }\n",
       "\n",
       "    .dataframe thead th {\n",
       "        text-align: right;\n",
       "    }\n",
       "</style>\n",
       "<table border=\"1\" class=\"dataframe\">\n",
       "  <thead>\n",
       "    <tr style=\"text-align: right;\">\n",
       "      <th></th>\n",
       "      <th>council_district</th>\n",
       "      <th>total_appr</th>\n",
       "      <th>finished_area</th>\n",
       "      <th>year</th>\n",
       "      <th>z_score</th>\n",
       "    </tr>\n",
       "  </thead>\n",
       "  <tbody>\n",
       "    <tr>\n",
       "      <th>950</th>\n",
       "      <td>23</td>\n",
       "      <td>3092400.0</td>\n",
       "      <td>7893.50000</td>\n",
       "      <td>2009</td>\n",
       "      <td>12.541269</td>\n",
       "    </tr>\n",
       "    <tr>\n",
       "      <th>819</th>\n",
       "      <td>34</td>\n",
       "      <td>3010100.0</td>\n",
       "      <td>7782.00000</td>\n",
       "      <td>2009</td>\n",
       "      <td>12.184241</td>\n",
       "    </tr>\n",
       "    <tr>\n",
       "      <th>632</th>\n",
       "      <td>34</td>\n",
       "      <td>2997500.0</td>\n",
       "      <td>7090.39990</td>\n",
       "      <td>2009</td>\n",
       "      <td>12.129581</td>\n",
       "    </tr>\n",
       "    <tr>\n",
       "      <th>130</th>\n",
       "      <td>23</td>\n",
       "      <td>2636100.0</td>\n",
       "      <td>11347.09961</td>\n",
       "      <td>2009</td>\n",
       "      <td>10.561783</td>\n",
       "    </tr>\n",
       "    <tr>\n",
       "      <th>616</th>\n",
       "      <td>23</td>\n",
       "      <td>1530500.0</td>\n",
       "      <td>5061.50000</td>\n",
       "      <td>2009</td>\n",
       "      <td>5.765553</td>\n",
       "    </tr>\n",
       "    <tr>\n",
       "      <th>851</th>\n",
       "      <td>34</td>\n",
       "      <td>1451500.0</td>\n",
       "      <td>4030.00000</td>\n",
       "      <td>2009</td>\n",
       "      <td>5.422841</td>\n",
       "    </tr>\n",
       "    <tr>\n",
       "      <th>661</th>\n",
       "      <td>1</td>\n",
       "      <td>1365000.0</td>\n",
       "      <td>6706.41992</td>\n",
       "      <td>2009</td>\n",
       "      <td>5.047593</td>\n",
       "    </tr>\n",
       "    <tr>\n",
       "      <th>570</th>\n",
       "      <td>25</td>\n",
       "      <td>1075100.0</td>\n",
       "      <td>4467.00000</td>\n",
       "      <td>2009</td>\n",
       "      <td>3.789971</td>\n",
       "    </tr>\n",
       "    <tr>\n",
       "      <th>282</th>\n",
       "      <td>34</td>\n",
       "      <td>966300.0</td>\n",
       "      <td>5808.95020</td>\n",
       "      <td>2009</td>\n",
       "      <td>3.317983</td>\n",
       "    </tr>\n",
       "  </tbody>\n",
       "</table>\n",
       "</div>"
      ],
      "text/plain": [
       "     council_district  total_appr  finished_area  year    z_score\n",
       "950                23   3092400.0     7893.50000  2009  12.541269\n",
       "819                34   3010100.0     7782.00000  2009  12.184241\n",
       "632                34   2997500.0     7090.39990  2009  12.129581\n",
       "130                23   2636100.0    11347.09961  2009  10.561783\n",
       "616                23   1530500.0     5061.50000  2009   5.765553\n",
       "851                34   1451500.0     4030.00000  2009   5.422841\n",
       "661                 1   1365000.0     6706.41992  2009   5.047593\n",
       "570                25   1075100.0     4467.00000  2009   3.789971\n",
       "282                34    966300.0     5808.95020  2009   3.317983"
      ]
     },
     "execution_count": 87,
     "metadata": {},
     "output_type": "execute_result"
    }
   ],
   "source": [
    "houses_2009[houses_2009['z_score'] > 3].sort_values('total_appr', ascending = False)"
   ]
  },
  {
   "cell_type": "markdown",
   "metadata": {},
   "source": [
    "## Density Estimation\n",
    "\n",
    "As you have more observations, you can use more bins when creating our histogram. At a certain point, it becomes too \"spiky\", and you lose out on the true picture. An alternative strategy is to smooth out the histogram using what's called kernel density estimation.\n",
    "\n",
    "When creating a histogram, you are really performing **density estimation**. That is, you are trying to understand the **probability density function** (something we'll learn more about later) which underlies the observed data.\n",
    "\n",
    "When doing statistical analysis, you are usually assuming that your dataset is only a sample from some larger population. A probability density function describes how likely you are to see observations within a certain range. Since you are only looking at a sample, you can't know what the true probability density function looks like, but you can use a variety of techniques to estimate it."
   ]
  },
  {
   "cell_type": "code",
   "execution_count": 88,
   "metadata": {},
   "outputs": [
    {
     "data": {
      "image/png": "[encoded data removed]",
      "text/plain": [
       "<Figure size 720x432 with 1 Axes>"
      ]
     },
     "metadata": {
      "needs_background": "light"
     },
     "output_type": "display_data"
    }
   ],
   "source": [
    "plt.figure(figsize = (10,6))\n",
    "\n",
    "houses_2009['total_appr'].hist(edgecolor = 'black', linewidth = 2);"
   ]
  },
  {
   "cell_type": "markdown",
   "metadata": {},
   "source": [
    "One downside to a histogram is that it can be highly sensitive to the choice of number of bins.\n",
    "\n",
    "Since this dataset has a handful of very large outliers, you will only look at home appraised at less than \\$1,000,000."
   ]
  },
  {
   "cell_type": "code",
   "execution_count": 89,
   "metadata": {},
   "outputs": [
    {
     "data": {
      "image/png": "[encoded data removed]",
      "text/plain": [
       "<Figure size 720x432 with 1 Axes>"
      ]
     },
     "metadata": {
      "needs_background": "light"
     },
     "output_type": "display_data"
    }
   ],
   "source": [
    "plt.figure(figsize = (10,6))\n",
    "\n",
    "houses_2009[houses_2009['total_appr'] < 1000000]['total_appr'].hist(bins = 20, \n",
    "                                                                    edgecolor = 'black', linewidth = 2);"
   ]
  },
  {
   "cell_type": "markdown",
   "metadata": {},
   "source": [
    "As you increase the number of bins, you get more and more detail."
   ]
  },
  {
   "cell_type": "code",
   "execution_count": 90,
   "metadata": {},
   "outputs": [
    {
     "data": {
      "image/png": "[encoded data removed]",
      "text/plain": [
       "<Figure size 720x432 with 1 Axes>"
      ]
     },
     "metadata": {
      "needs_background": "light"
     },
     "output_type": "display_data"
    }
   ],
   "source": [
    "plt.figure(figsize = (10,6))\n",
    "\n",
    "houses_2009[houses_2009['total_appr'] < 1000000]['total_appr'].hist(bins = 50,\n",
    "                                                                   edgecolor = 'black', linewidth = 2);"
   ]
  },
  {
   "cell_type": "code",
   "execution_count": 91,
   "metadata": {},
   "outputs": [
    {
     "data": {
      "image/png": "[encoded data removed]",
      "text/plain": [
       "<Figure size 720x432 with 1 Axes>"
      ]
     },
     "metadata": {
      "needs_background": "light"
     },
     "output_type": "display_data"
    }
   ],
   "source": [
    "plt.figure(figsize = (10,6))\n",
    "\n",
    "houses_2009[houses_2009['total_appr'] < 1000000]['total_appr'].hist(bins = 100, \n",
    "                                                                   edgecolor = 'black', linewidth = 2);"
   ]
  },
  {
   "cell_type": "markdown",
   "metadata": {},
   "source": [
    "But at a certain point, you are getting almost \"too much\" detail, and it is hard to know if you are actually seeing important aspects of the dataset or you are just seeing relics from the random sampling plus the binning process."
   ]
  },
  {
   "cell_type": "code",
   "execution_count": 92,
   "metadata": {},
   "outputs": [
    {
     "data": {
      "image/png": "[encoded data removed]",
      "text/plain": [
       "<Figure size 720x432 with 1 Axes>"
      ]
     },
     "metadata": {
      "needs_background": "light"
     },
     "output_type": "display_data"
    }
   ],
   "source": [
    "plt.figure(figsize = (10,6))\n",
    "\n",
    "houses_2009[houses_2009['total_appr'] < 1000000]['total_appr'].hist(bins = 250,\n",
    "                                                                    edgecolor = 'black', linewidth = 1);"
   ]
  },
  {
   "cell_type": "markdown",
   "metadata": {},
   "source": [
    "As you have seen, the histogram is extremely sensitive to the choice of bins. As an alternative, a **Kernel Density Estimation** is a way to \"smooth\" a histogram. For a very cool interactive explanation of kernel density estimation, see [this post](https://mathisonian.github.io/kde/).\n",
    "\n",
    "One way you can get a density estimate is by using the `kdeplot` function from `seaborn`."
   ]
  },
  {
   "cell_type": "code",
   "execution_count": 93,
   "metadata": {},
   "outputs": [
    {
     "data": {
      "image/png": "[encoded data removed]",
      "text/plain": [
       "<Figure size 720x432 with 1 Axes>"
      ]
     },
     "metadata": {
      "needs_background": "light"
     },
     "output_type": "display_data"
    }
   ],
   "source": [
    "fig, ax = plt.subplots(figsize = (10,6))\n",
    "sns.kdeplot(houses_2009[houses_2009['total_appr'] < 1000000]['total_appr']);"
   ]
  }
 ],
 "metadata": {
  "kernelspec": {
   "display_name": "Python 3",
   "language": "python",
   "name": "python3"
  },
  "language_info": {
   "codemirror_mode": {
    "name": "ipython",
    "version": 3
   },
   "file_extension": ".py",
   "mimetype": "text/x-python",
   "name": "python",
   "nbconvert_exporter": "python",
   "pygments_lexer": "ipython3",
   "version": "3.8.3"
  }
 },
 "nbformat": 4,
 "nbformat_minor": 2
}
