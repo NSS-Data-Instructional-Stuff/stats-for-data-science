{
 "cells": [
  {
   "cell_type": "markdown",
   "id": "ca61ef4c",
   "metadata": {},
   "source": [
    "## Mutual Information\n",
    "\n",
    "Recall the notion of **dependence** and **independence** of events.\n",
    "\n",
    "Events $A$ and $B$ are independent if $P(A|B) = P(A)$.\n",
    "\n",
    "Equivalently, $A$ and $B$ are independent if $P(A\\text{ and }B) = P(A)\\cdot P(B)$."
   ]
  },
  {
   "cell_type": "markdown",
   "id": "757bd9b5",
   "metadata": {},
   "source": [
    "For two events, we can calculate their **pointwise mutual information (PMI)** as $$\\text{PMI}(A,B) = \\ln\\left(\\frac{P(A\\text{ and }B)}{P(A)\\cdot P(B)}\\right)$$"
   ]
  },
  {
   "cell_type": "markdown",
   "id": "f730c956",
   "metadata": {},
   "source": [
    "Note that if $A$ and $B$ are independent, then PMI$(A,B) = \\ln(1) = 0$."
   ]
  },
  {
   "cell_type": "code",
   "execution_count": 27,
   "id": "42bdd4a2",
   "metadata": {},
   "outputs": [],
   "source": [
    "import pandas as pd\n",
    "import numpy as np"
   ]
  },
  {
   "cell_type": "markdown",
   "id": "1117c7eb",
   "metadata": {},
   "source": [
    "Let's look at an example using the squirrels data."
   ]
  },
  {
   "cell_type": "code",
   "execution_count": 14,
   "id": "d3e8e9fb",
   "metadata": {},
   "outputs": [],
   "source": [
    "squirrels = (\n",
    "    pd.read_csv('../data/2018_Central_Park_Squirrel_Census_-_Squirrel_Data.csv')\n",
    "    .dropna(subset = ['Primary Fur Color', 'Runs from', 'Climbing'])\n",
    "    .reset_index(drop = True)\n",
    ")"
   ]
  },
  {
   "cell_type": "code",
   "execution_count": 16,
   "id": "9c75d990",
   "metadata": {},
   "outputs": [
    {
     "data": {
      "text/html": [
       "<div>\n",
       "<style scoped>\n",
       "    .dataframe tbody tr th:only-of-type {\n",
       "        vertical-align: middle;\n",
       "    }\n",
       "\n",
       "    .dataframe tbody tr th {\n",
       "        vertical-align: top;\n",
       "    }\n",
       "\n",
       "    .dataframe thead th {\n",
       "        text-align: right;\n",
       "    }\n",
       "</style>\n",
       "<table border=\"1\" class=\"dataframe\">\n",
       "  <thead>\n",
       "    <tr style=\"text-align: right;\">\n",
       "      <th>Runs from</th>\n",
       "      <th>False</th>\n",
       "      <th>True</th>\n",
       "    </tr>\n",
       "    <tr>\n",
       "      <th>Primary Fur Color</th>\n",
       "      <th></th>\n",
       "      <th></th>\n",
       "    </tr>\n",
       "  </thead>\n",
       "  <tbody>\n",
       "    <tr>\n",
       "      <th>Black</th>\n",
       "      <td>0.689320</td>\n",
       "      <td>0.310680</td>\n",
       "    </tr>\n",
       "    <tr>\n",
       "      <th>Cinnamon</th>\n",
       "      <td>0.778061</td>\n",
       "      <td>0.221939</td>\n",
       "    </tr>\n",
       "    <tr>\n",
       "      <th>Gray</th>\n",
       "      <td>0.777194</td>\n",
       "      <td>0.222806</td>\n",
       "    </tr>\n",
       "  </tbody>\n",
       "</table>\n",
       "</div>"
      ],
      "text/plain": [
       "Runs from             False      True\n",
       "Primary Fur Color                    \n",
       "Black              0.689320  0.310680\n",
       "Cinnamon           0.778061  0.221939\n",
       "Gray               0.777194  0.222806"
      ]
     },
     "execution_count": 16,
     "metadata": {},
     "output_type": "execute_result"
    }
   ],
   "source": [
    "pd.crosstab(squirrels['Primary Fur Color'], squirrels['Runs from'], normalize = 'index')"
   ]
  },
  {
   "cell_type": "markdown",
   "id": "06df75bd",
   "metadata": {},
   "source": [
    "Let's consider the events A: Primary Fur Color = Black and B: Runs from = True."
   ]
  },
  {
   "cell_type": "code",
   "execution_count": 20,
   "id": "fb03cb55",
   "metadata": {},
   "outputs": [
    {
     "data": {
      "text/plain": [
       "0.034703504043126686"
      ]
     },
     "execution_count": 20,
     "metadata": {},
     "output_type": "execute_result"
    }
   ],
   "source": [
    "# P(A)\n",
    "prob_a = squirrels['Primary Fur Color'].value_counts(normalize = True)['Black']\n",
    "prob_a"
   ]
  },
  {
   "cell_type": "code",
   "execution_count": 22,
   "id": "519bd9da",
   "metadata": {},
   "outputs": [
    {
     "data": {
      "text/plain": [
       "0.22574123989218328"
      ]
     },
     "execution_count": 22,
     "metadata": {},
     "output_type": "execute_result"
    }
   ],
   "source": [
    "# P(B)\n",
    "prob_b = squirrels['Runs from'].value_counts(normalize = True)[True]\n",
    "prob_b"
   ]
  },
  {
   "cell_type": "code",
   "execution_count": 23,
   "id": "33047dc6",
   "metadata": {},
   "outputs": [
    {
     "data": {
      "text/plain": [
       "0.007834012031298814"
      ]
     },
     "execution_count": 23,
     "metadata": {},
     "output_type": "execute_result"
    }
   ],
   "source": [
    "prob_a * prob_b"
   ]
  },
  {
   "cell_type": "code",
   "execution_count": 24,
   "id": "69b36f8a",
   "metadata": {},
   "outputs": [
    {
     "data": {
      "text/html": [
       "<div>\n",
       "<style scoped>\n",
       "    .dataframe tbody tr th:only-of-type {\n",
       "        vertical-align: middle;\n",
       "    }\n",
       "\n",
       "    .dataframe tbody tr th {\n",
       "        vertical-align: top;\n",
       "    }\n",
       "\n",
       "    .dataframe thead th {\n",
       "        text-align: right;\n",
       "    }\n",
       "</style>\n",
       "<table border=\"1\" class=\"dataframe\">\n",
       "  <thead>\n",
       "    <tr style=\"text-align: right;\">\n",
       "      <th>Runs from</th>\n",
       "      <th>False</th>\n",
       "      <th>True</th>\n",
       "    </tr>\n",
       "    <tr>\n",
       "      <th>Primary Fur Color</th>\n",
       "      <th></th>\n",
       "      <th></th>\n",
       "    </tr>\n",
       "  </thead>\n",
       "  <tbody>\n",
       "    <tr>\n",
       "      <th>Black</th>\n",
       "      <td>0.023922</td>\n",
       "      <td>0.010782</td>\n",
       "    </tr>\n",
       "    <tr>\n",
       "      <th>Cinnamon</th>\n",
       "      <td>0.102763</td>\n",
       "      <td>0.029313</td>\n",
       "    </tr>\n",
       "    <tr>\n",
       "      <th>Gray</th>\n",
       "      <td>0.647574</td>\n",
       "      <td>0.185647</td>\n",
       "    </tr>\n",
       "  </tbody>\n",
       "</table>\n",
       "</div>"
      ],
      "text/plain": [
       "Runs from             False      True\n",
       "Primary Fur Color                    \n",
       "Black              0.023922  0.010782\n",
       "Cinnamon           0.102763  0.029313\n",
       "Gray               0.647574  0.185647"
      ]
     },
     "execution_count": 24,
     "metadata": {},
     "output_type": "execute_result"
    }
   ],
   "source": [
    "pd.crosstab(squirrels['Primary Fur Color'], squirrels['Runs from'], normalize = True)"
   ]
  },
  {
   "cell_type": "code",
   "execution_count": 26,
   "id": "10bc2bf2",
   "metadata": {},
   "outputs": [
    {
     "data": {
      "text/plain": [
       "0.01078167115902965"
      ]
     },
     "execution_count": 26,
     "metadata": {},
     "output_type": "execute_result"
    }
   ],
   "source": [
    "prob_a_and_b = pd.crosstab(squirrels['Primary Fur Color'], squirrels['Runs from'], normalize = True).loc['Black', True]\n",
    "prob_a_and_b"
   ]
  },
  {
   "cell_type": "code",
   "execution_count": 29,
   "id": "312944a1",
   "metadata": {},
   "outputs": [
    {
     "data": {
      "text/plain": [
       "0.31937280647235017"
      ]
     },
     "execution_count": 29,
     "metadata": {},
     "output_type": "execute_result"
    }
   ],
   "source": [
    "pmi = np.log(prob_a_and_b / (prob_a * prob_b))\n",
    "pmi"
   ]
  },
  {
   "cell_type": "markdown",
   "id": "23731222",
   "metadata": {},
   "source": [
    "pmi > 0\n",
    "\n",
    "Interpretation: We more black squirrels that ran away than would be expected if primary fur color and running away were independent."
   ]
  },
  {
   "cell_type": "markdown",
   "id": "19709fce",
   "metadata": {},
   "source": [
    "For discrete variables $X$ and $Y$, the **mutual information** between $X$ and $Y$ is given by\n",
    "\n",
    "$$\\text{MI}(X, Y) = \\sum_{x \\in X}\\sum_{y \\in Y} P(X = x\\text{ and }Y = y)\\cdot \\ln\\left(\\frac{P(X = x\\text{ and }Y = y)}{P(X = x)\\cdot P(Y = y)}\\right)$$\n",
    "\n",
    "$$ = \\sum_{x \\in X}\\sum_{y \\in Y} P(X = x\\text{ and }Y = y)\\cdot \\text{PMI}(x, y)$$\n",
    "\n",
    "(You can also define mutual information for continuous variables, but it requires using an integral.)"
   ]
  },
  {
   "cell_type": "markdown",
   "id": "39b52dcb",
   "metadata": {},
   "source": [
    "If $X$ and $Y$ are independent, then MI$(X,Y)$ = 0.\n",
    "\n",
    "It is also true (but harder to prove) that if MI$(X,Y) = 0$, then $X$ and $Y$ are independent. (See [these notes](https://mathweb.ucsd.edu/~lrothsch/information.pdf) for a proof)."
   ]
  },
  {
   "cell_type": "code",
   "execution_count": 30,
   "id": "6ab4910f",
   "metadata": {},
   "outputs": [],
   "source": [
    "from sklearn.metrics import mutual_info_score"
   ]
  },
  {
   "cell_type": "code",
   "execution_count": 31,
   "id": "8c028838",
   "metadata": {},
   "outputs": [
    {
     "data": {
      "text/plain": [
       "0.000689736693261167"
      ]
     },
     "execution_count": 31,
     "metadata": {},
     "output_type": "execute_result"
    }
   ],
   "source": [
    "mutual_info_score(labels_true = None, labels_pred = None, \n",
    "                  contingency = pd.crosstab(squirrels['Primary Fur Color'], squirrels['Runs from']))"
   ]
  },
  {
   "cell_type": "markdown",
   "id": "e98ad915",
   "metadata": {},
   "source": [
    "On its own, it is hard to judge the strength of the mutual information score, but it can be used to compare different variables."
   ]
  },
  {
   "cell_type": "code",
   "execution_count": 38,
   "id": "fc4d481b",
   "metadata": {},
   "outputs": [
    {
     "data": {
      "text/html": [
       "<div>\n",
       "<style scoped>\n",
       "    .dataframe tbody tr th:only-of-type {\n",
       "        vertical-align: middle;\n",
       "    }\n",
       "\n",
       "    .dataframe tbody tr th {\n",
       "        vertical-align: top;\n",
       "    }\n",
       "\n",
       "    .dataframe thead th {\n",
       "        text-align: right;\n",
       "    }\n",
       "</style>\n",
       "<table border=\"1\" class=\"dataframe\">\n",
       "  <thead>\n",
       "    <tr style=\"text-align: right;\">\n",
       "      <th>Climbing</th>\n",
       "      <th>False</th>\n",
       "      <th>True</th>\n",
       "    </tr>\n",
       "    <tr>\n",
       "      <th>Primary Fur Color</th>\n",
       "      <th></th>\n",
       "      <th></th>\n",
       "    </tr>\n",
       "  </thead>\n",
       "  <tbody>\n",
       "    <tr>\n",
       "      <th>Black</th>\n",
       "      <td>0.757282</td>\n",
       "      <td>0.242718</td>\n",
       "    </tr>\n",
       "    <tr>\n",
       "      <th>Cinnamon</th>\n",
       "      <td>0.790816</td>\n",
       "      <td>0.209184</td>\n",
       "    </tr>\n",
       "    <tr>\n",
       "      <th>Gray</th>\n",
       "      <td>0.784472</td>\n",
       "      <td>0.215528</td>\n",
       "    </tr>\n",
       "  </tbody>\n",
       "</table>\n",
       "</div>"
      ],
      "text/plain": [
       "Climbing              False      True\n",
       "Primary Fur Color                    \n",
       "Black              0.757282  0.242718\n",
       "Cinnamon           0.790816  0.209184\n",
       "Gray               0.784472  0.215528"
      ]
     },
     "execution_count": 38,
     "metadata": {},
     "output_type": "execute_result"
    }
   ],
   "source": [
    "pd.crosstab(squirrels['Primary Fur Color'], squirrels['Climbing'], normalize = 'index')"
   ]
  },
  {
   "cell_type": "code",
   "execution_count": 39,
   "id": "7be2fa9e",
   "metadata": {},
   "outputs": [
    {
     "data": {
      "text/plain": [
       "8.951238402454126e-05"
      ]
     },
     "execution_count": 39,
     "metadata": {},
     "output_type": "execute_result"
    }
   ],
   "source": [
    "mutual_info_score(labels_true = None, labels_pred = None, \n",
    "                  contingency = pd.crosstab(squirrels['Primary Fur Color'], squirrels['Climbing']))"
   ]
  },
  {
   "cell_type": "code",
   "execution_count": 44,
   "id": "96d5921d",
   "metadata": {},
   "outputs": [
    {
     "data": {
      "text/plain": [
       "0.003212864957886726"
      ]
     },
     "execution_count": 44,
     "metadata": {},
     "output_type": "execute_result"
    }
   ],
   "source": [
    "mutual_info_score(labels_true = None, labels_pred = None, \n",
    "                  contingency = pd.crosstab(squirrels['Primary Fur Color'], squirrels['Approaches']))"
   ]
  },
  {
   "cell_type": "code",
   "execution_count": 43,
   "id": "7c9e8ac7",
   "metadata": {},
   "outputs": [
    {
     "data": {
      "text/html": [
       "<div>\n",
       "<style scoped>\n",
       "    .dataframe tbody tr th:only-of-type {\n",
       "        vertical-align: middle;\n",
       "    }\n",
       "\n",
       "    .dataframe tbody tr th {\n",
       "        vertical-align: top;\n",
       "    }\n",
       "\n",
       "    .dataframe thead th {\n",
       "        text-align: right;\n",
       "    }\n",
       "</style>\n",
       "<table border=\"1\" class=\"dataframe\">\n",
       "  <thead>\n",
       "    <tr style=\"text-align: right;\">\n",
       "      <th>Approaches</th>\n",
       "      <th>False</th>\n",
       "      <th>True</th>\n",
       "    </tr>\n",
       "    <tr>\n",
       "      <th>Primary Fur Color</th>\n",
       "      <th></th>\n",
       "      <th></th>\n",
       "    </tr>\n",
       "  </thead>\n",
       "  <tbody>\n",
       "    <tr>\n",
       "      <th>Black</th>\n",
       "      <td>0.941748</td>\n",
       "      <td>0.058252</td>\n",
       "    </tr>\n",
       "    <tr>\n",
       "      <th>Cinnamon</th>\n",
       "      <td>0.887755</td>\n",
       "      <td>0.112245</td>\n",
       "    </tr>\n",
       "    <tr>\n",
       "      <th>Gray</th>\n",
       "      <td>0.949050</td>\n",
       "      <td>0.050950</td>\n",
       "    </tr>\n",
       "  </tbody>\n",
       "</table>\n",
       "</div>"
      ],
      "text/plain": [
       "Approaches            False      True\n",
       "Primary Fur Color                    \n",
       "Black              0.941748  0.058252\n",
       "Cinnamon           0.887755  0.112245\n",
       "Gray               0.949050  0.050950"
      ]
     },
     "execution_count": 43,
     "metadata": {},
     "output_type": "execute_result"
    }
   ],
   "source": [
    "pd.crosstab(squirrels['Primary Fur Color'], squirrels['Approaches'], normalize = 'index')"
   ]
  }
 ],
 "metadata": {
  "kernelspec": {
   "display_name": "Python 3 (ipykernel)",
   "language": "python",
   "name": "python3"
  },
  "language_info": {
   "codemirror_mode": {
    "name": "ipython",
    "version": 3
   },
   "file_extension": ".py",
   "mimetype": "text/x-python",
   "name": "python",
   "nbconvert_exporter": "python",
   "pygments_lexer": "ipython3",
   "version": "3.8.3"
  }
 },
 "nbformat": 4,
 "nbformat_minor": 5
}
