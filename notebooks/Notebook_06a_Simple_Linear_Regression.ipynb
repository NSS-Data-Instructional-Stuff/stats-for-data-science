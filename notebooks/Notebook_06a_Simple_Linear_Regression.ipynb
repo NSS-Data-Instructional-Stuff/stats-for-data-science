{
 "cells": [
  {
   "cell_type": "markdown",
   "id": "13c1cb80",
   "metadata": {},
   "source": [
    "## Introduction to Linear Regression\n",
    "\n",
    "In this notebook, we'll see how we can use the _statsmodels_ library to perform linear regression in Python."
   ]
  },
  {
   "cell_type": "code",
   "execution_count": null,
   "id": "ac37fe64",
   "metadata": {},
   "outputs": [],
   "source": [
    "import pandas as pd\n",
    "import numpy as np\n",
    "import matplotlib.pyplot as plt\n",
    "import seaborn as sns\n",
    "from scipy.stats import norm"
   ]
  },
  {
   "cell_type": "markdown",
   "id": "b4037db2",
   "metadata": {},
   "source": [
    "We'll be using a dataset on possums in Australia and New Guinea, borrowed from the OpenIntro Statistics textbook.\n",
    "\n",
    "You can read more about it here: https://www.openintro.org/data/index.php?data=possum\n",
    "\n",
    "Our goal will be to understand the relationship between the total length in cm (`total_l`) and the other variables in our dataset."
   ]
  },
  {
   "cell_type": "code",
   "execution_count": null,
   "id": "4ad7ff00",
   "metadata": {},
   "outputs": [],
   "source": [
    "possum = pd.read_csv('../data/possum.csv')"
   ]
  },
  {
   "cell_type": "code",
   "execution_count": null,
   "id": "4bc376fe",
   "metadata": {},
   "outputs": [],
   "source": [
    "possum.head()"
   ]
  },
  {
   "cell_type": "code",
   "execution_count": null,
   "id": "cba5feef",
   "metadata": {},
   "outputs": [],
   "source": [
    "plt.hist(possum['total_l'], bins = 'fd', edgecolor = 'black');"
   ]
  },
  {
   "cell_type": "markdown",
   "id": "55396712",
   "metadata": {},
   "source": [
    "Let's start by looking at the total length (`total_l`) vs. the length of the head in mm (`head_l`)."
   ]
  },
  {
   "cell_type": "code",
   "execution_count": null,
   "id": "712307cf",
   "metadata": {},
   "outputs": [],
   "source": [
    "possum.plot(\n",
    "    kind = 'scatter',\n",
    "    x = 'head_l',\n",
    "    y = 'total_l'\n",
    ");"
   ]
  },
  {
   "cell_type": "markdown",
   "id": "f39357a2",
   "metadata": {},
   "source": [
    "**Question:** How would you describe this relationship?\n",
    "\n",
    "\n",
    "\n"
   ]
  },
  {
   "cell_type": "markdown",
   "id": "61bc3512",
   "metadata": {},
   "source": [
    "Recall that the model we will be fitting is\n",
    "\n",
    "$$(\\text{total_l})_i = \\beta_0 + \\beta_1\\cdot(\\text{head_l})_i + \\epsilon_i$$\n",
    "\n",
    "where the $\\epsilon_i$ values are independent and normally distributed with a mean of 0 and constant (across $i$) variance $\\sigma^2$.\n",
    "\n",
    "To fit our model, we'll use the [statsmodels](https://www.statsmodels.org/stable/index.html) library. Specifically, we'll be using the formula api."
   ]
  },
  {
   "cell_type": "code",
   "execution_count": null,
   "id": "9a1f2423",
   "metadata": {},
   "outputs": [],
   "source": [
    "import statsmodels.formula.api as sm"
   ]
  },
  {
   "cell_type": "markdown",
   "id": "32b8113b",
   "metadata": {},
   "source": [
    "We'll use the [ols class](https://www.statsmodels.org/devel/generated/statsmodels.formula.api.ols.html). \n",
    "\n",
    "For this, we need to specify the following:\n",
    "* **formula:** A formula specifying the model. These use the [patsy formulas](https://patsy.readthedocs.io/en/latest/formulas.html), which look like \"target ~ predictors\".\n",
    "* **data:** The dataset, as a _pandas_ DataFrame."
   ]
  },
  {
   "cell_type": "code",
   "execution_count": null,
   "id": "63379e97",
   "metadata": {},
   "outputs": [],
   "source": [
    "lr = sm.ols(\n",
    "    formula = 'total_l ~ head_l',\n",
    "    data = possum\n",
    ").fit()                                                  # We can go ahead and tell it to fit the model"
   ]
  },
  {
   "cell_type": "markdown",
   "id": "6746abe5",
   "metadata": {},
   "source": [
    "Let's look at the output."
   ]
  },
  {
   "cell_type": "code",
   "execution_count": null,
   "id": "46b59617",
   "metadata": {},
   "outputs": [],
   "source": [
    "lr.summary()"
   ]
  },
  {
   "cell_type": "markdown",
   "id": "01442bbe",
   "metadata": {},
   "source": [
    "Filling in the coefficients from the model, we get\n",
    "\n",
    "$$(\\text{total_l})_i =  9.8882 + 0.8337\\cdot(\\text{head_l})_i + \\epsilon_i$$\n",
    "\n",
    "This says that for every one mm increase in the length of the head, the average total length increases by 0.8337 cm.\n",
    "\n",
    "Let's overlay the line over our scatterplot.\n",
    "\n",
    "To do this, we'll make use of the `predict` method of our fit model."
   ]
  },
  {
   "cell_type": "code",
   "execution_count": null,
   "id": "f7f9f839",
   "metadata": {},
   "outputs": [],
   "source": [
    "x_pred = pd.DataFrame({'head_l': np.linspace(start = possum['head_l'].min(),\n",
    "                                    stop = possum['head_l'].max(), num = 250)})\n",
    "\n",
    "pred = lr.predict(x_pred)\n",
    "\n",
    "possum.plot(\n",
    "    kind = 'scatter',\n",
    "    x = 'head_l',\n",
    "    y = 'total_l',\n",
    "    figsize = (10,6)\n",
    ")\n",
    "\n",
    "plt.plot(x_pred['head_l'], pred, color = 'black');"
   ]
  },
  {
   "cell_type": "markdown",
   "id": "82c6e9f2",
   "metadata": {},
   "source": [
    "How good is the fit of this model? Let's look at the $R^2$ value. It is accessible through the `rsquared` attribute."
   ]
  },
  {
   "cell_type": "code",
   "execution_count": null,
   "id": "7a509229",
   "metadata": {},
   "outputs": [],
   "source": [
    "lr.rsquared"
   ]
  },
  {
   "cell_type": "markdown",
   "id": "9f99dfa2",
   "metadata": {},
   "source": [
    "Let's verify that this is the correct value. Recall the formula for $R^2$:\n",
    "\n",
    "$$R^2 = \\frac{TSS - RSS}{TSS}$$\n",
    "\n",
    "TSS: Total sum of squares\n",
    "\n",
    "RSS: Residual sum of squares"
   ]
  },
  {
   "cell_type": "markdown",
   "id": "6a0faf91",
   "metadata": {},
   "source": [
    "To compute TSS, we need to look at the difference between the target values and the average value of the target variable."
   ]
  },
  {
   "cell_type": "code",
   "execution_count": null,
   "id": "d2060113",
   "metadata": {},
   "outputs": [],
   "source": [
    "tss = ((possum['total_l'] - possum['total_l'].mean())**2).sum()"
   ]
  },
  {
   "cell_type": "markdown",
   "id": "a5effaef",
   "metadata": {},
   "source": [
    "For RSS, we need to consider the difference between the target and the predicted value."
   ]
  },
  {
   "cell_type": "code",
   "execution_count": null,
   "id": "a10ae4cd",
   "metadata": {},
   "outputs": [],
   "source": [
    "rss = ((possum['total_l'] - lr.fittedvalues)**2).sum()"
   ]
  },
  {
   "cell_type": "markdown",
   "id": "5783d838",
   "metadata": {},
   "source": [
    "Now, we can verify that we get the same result."
   ]
  },
  {
   "cell_type": "code",
   "execution_count": null,
   "id": "842e79e3",
   "metadata": {},
   "outputs": [],
   "source": [
    "(tss - rss) / tss"
   ]
  },
  {
   "cell_type": "markdown",
   "id": "f27e821d",
   "metadata": {},
   "source": [
    "Let's look more closely at the results. First, is the slope coefficient statistically significant?\n",
    "\n",
    "We could perform a hypothesis test with null hypothesis\n",
    "\n",
    "$H_0: \\beta_1 = 0$\n",
    "\n",
    "and alternative hypothesis\n",
    "\n",
    "$H_A: \\beta_1 \\neq 0$.\n",
    "\n",
    "The result of this hypothesis test is present in the model summary. Specifically, it is the P>|t| value associated with head_l. We can access it through the `pvalues` attribute. "
   ]
  },
  {
   "cell_type": "code",
   "execution_count": null,
   "id": "da626d86",
   "metadata": {},
   "outputs": [],
   "source": [
    "lr.pvalues['head_l']"
   ]
  },
  {
   "cell_type": "markdown",
   "id": "0d4baf30",
   "metadata": {},
   "source": [
    "Based on this, it is safe to reject the null hypothesis and conclude that there is a linear relationship between head length and total length.\n",
    "\n",
    "We could have also looked at the confidence interval for $\\beta_1$, which is also displayed in the summary, or we could access it through the `conf_int` method. To use this, you pass in 1 - confidence level."
   ]
  },
  {
   "cell_type": "code",
   "execution_count": null,
   "id": "23112e42",
   "metadata": {},
   "outputs": [],
   "source": [
    "lr.conf_int(0.05)"
   ]
  },
  {
   "cell_type": "code",
   "execution_count": null,
   "id": "8015ec5f",
   "metadata": {},
   "outputs": [],
   "source": [
    "possum['head_l'].describe()"
   ]
  },
  {
   "cell_type": "markdown",
   "id": "87e97f91",
   "metadata": {},
   "source": [
    "Now, let's use our model to make some predictions.\n",
    "\n",
    "**Question:** For possum's with head length of 91, what average total length does the model predict? \n",
    "\n",
    "We can answer this using the `predict` method. It expects a DataFrame with `head_l` column."
   ]
  },
  {
   "cell_type": "code",
   "execution_count": null,
   "id": "e8d1730a",
   "metadata": {},
   "outputs": [],
   "source": [
    "lr.predict(pd.DataFrame({'head_l': [91]}))"
   ]
  },
  {
   "cell_type": "markdown",
   "id": "e5936e5b",
   "metadata": {},
   "source": [
    "If we want a confidence interval for this estimated average, we need to use the `get_prediction` method and ask for the confidence interval."
   ]
  },
  {
   "cell_type": "code",
   "execution_count": null,
   "id": "793b7a43",
   "metadata": {},
   "outputs": [],
   "source": [
    "lr.get_prediction(pd.DataFrame({'head_l': [91]})).conf_int()"
   ]
  },
  {
   "cell_type": "markdown",
   "id": "ab58e84e",
   "metadata": {},
   "source": [
    "If we want a **prediction interval**, which tells us what we can expect for a new observation, we can specify `obs = True`."
   ]
  },
  {
   "cell_type": "code",
   "execution_count": null,
   "id": "9af45e14",
   "metadata": {},
   "outputs": [],
   "source": [
    "lr.get_prediction(pd.DataFrame({'head_l': [91]})).conf_int(obs = True)"
   ]
  },
  {
   "cell_type": "markdown",
   "id": "33324150",
   "metadata": {},
   "source": [
    "Notice that the confidence interval here is much wider."
   ]
  },
  {
   "cell_type": "markdown",
   "id": "f7d694a1",
   "metadata": {},
   "source": [
    "We can also get all of these results using the `summary_frame` method."
   ]
  },
  {
   "cell_type": "code",
   "execution_count": null,
   "id": "d0a4578d",
   "metadata": {},
   "outputs": [],
   "source": [
    "lr.get_prediction(pd.DataFrame({'head_l': [91]})).summary_frame()"
   ]
  },
  {
   "cell_type": "markdown",
   "id": "7fed0542",
   "metadata": {},
   "source": [
    "Let's display the confidence bands over a range of head_l values."
   ]
  },
  {
   "cell_type": "code",
   "execution_count": null,
   "id": "cee05bb5",
   "metadata": {},
   "outputs": [],
   "source": [
    "x_pred = pd.DataFrame({'head_l': np.linspace(start = possum['head_l'].min(),\n",
    "                                    stop = possum['head_l'].max(), num = 250)})\n",
    "\n",
    "pred = lr.get_prediction(x_pred).summary_frame()\n",
    "\n",
    "possum.plot(\n",
    "    kind = 'scatter',\n",
    "    x = 'head_l',\n",
    "    y = 'total_l',\n",
    "    figsize = (10,6)\n",
    ")\n",
    "\n",
    "plt.plot(x_pred['head_l'], pred['mean'], color = 'grey', label = 'predicted mean')\n",
    "\n",
    "plt.plot(x_pred['head_l'], pred['mean_ci_lower'], color = 'blue', label = 'confidence interval')\n",
    "plt.plot(x_pred['head_l'], pred['mean_ci_upper'], color = 'blue')\n",
    "\n",
    "plt.plot(x_pred['head_l'], pred['obs_ci_lower'], color = 'black', label = 'prediction interval')\n",
    "plt.plot(x_pred['head_l'], pred['obs_ci_upper'], color = 'black')\n",
    "\n",
    "plt.legend();"
   ]
  },
  {
   "cell_type": "markdown",
   "id": "79353720",
   "metadata": {},
   "source": [
    "A couple of things to notice:\n",
    "\n",
    "* The prediction interval is much wider than the confidence interval for the mean.\n",
    "* The width of the intervals are not constant. The further we are from the average value of `head_l`, the wider the interval grows."
   ]
  },
  {
   "cell_type": "markdown",
   "id": "7730a31b",
   "metadata": {},
   "source": [
    "## Diagnostics\n",
    "\n",
    "In order to rely on these intervals, the assumptions of the linear model must be true. Remember the assumptions of the linear regression model:\n",
    "\n",
    "1. The mean of the response at each value of the predictor is a linear function of the predictor variables.\n",
    "2. The errors are independent.\n",
    "3. The errors at each value of the predictor variables are normally distributed.\n",
    "4. The errors have equal variance across all values of the predictor variables.\n",
    "\n",
    "There are various consequences if these assumptions are violated. If the goal of building the model is to make accurate predictions (for example, when doing linear regression in the context of machine learning), but if our goal is inference, it is important to check these assumptions.\n",
    "\n",
    "\n",
    "Based on the plots above, the first assumption that the mean response is a linear function of the predictor variables looks reasonable.\n",
    "\n",
    "Now, let's take a look at the residuals to check the other three assumptions. A common way to do this is to look at the residuals vs. the fitted values."
   ]
  },
  {
   "cell_type": "code",
   "execution_count": null,
   "id": "0e732f1e",
   "metadata": {},
   "outputs": [],
   "source": [
    "plt.scatter(x = lr.fittedvalues, y = lr.resid);"
   ]
  },
  {
   "cell_type": "markdown",
   "id": "0c334d0f",
   "metadata": {},
   "source": [
    "There don't appear to be any patterns in the residual plot. Let's check a histogram and QQ-plot."
   ]
  },
  {
   "cell_type": "code",
   "execution_count": null,
   "id": "f8bdbf73",
   "metadata": {},
   "outputs": [],
   "source": [
    "plt.hist(lr.resid, bins = 'fd', edgecolor = 'black');"
   ]
  },
  {
   "cell_type": "code",
   "execution_count": null,
   "id": "952c903f",
   "metadata": {},
   "outputs": [],
   "source": [
    "from scipy.stats import probplot"
   ]
  },
  {
   "cell_type": "code",
   "execution_count": null,
   "id": "de280d50",
   "metadata": {},
   "outputs": [],
   "source": [
    "probplot(lr.resid, plot = plt);"
   ]
  },
  {
   "cell_type": "markdown",
   "id": "63d82c0b",
   "metadata": {},
   "source": [
    "If we want to be extra sure, we can use a [Kolmogorov-Smirnov test](https://en.wikipedia.org/wiki/Kolmogorov%E2%80%93Smirnov_test). This test has the null hypothesis that the data comes from a normal distribution. "
   ]
  },
  {
   "cell_type": "code",
   "execution_count": null,
   "id": "5b4f76c6",
   "metadata": {},
   "outputs": [],
   "source": [
    "import statsmodels.api as stats"
   ]
  },
  {
   "cell_type": "code",
   "execution_count": null,
   "id": "2dcd2640",
   "metadata": {},
   "outputs": [],
   "source": [
    "stats.stats.diagnostic.kstest_normal(lr.resid)"
   ]
  },
  {
   "cell_type": "markdown",
   "id": "060d5eac",
   "metadata": {},
   "source": [
    "The second value is the p-value. In this case, since the p-value is large, we don't have enough evidence to reject the null hypothesis. It looks like a normal distribution is a reasonable model for the residuals."
   ]
  },
  {
   "cell_type": "markdown",
   "id": "4d77173f",
   "metadata": {},
   "source": [
    "We also need that the residuals have constant variance. We can test that using a [White Test](https://en.wikipedia.org/wiki/White_test) for homoskedasticity. Here, the null hypothesis is that the variance of the residuals does not depend on the value of the predictors."
   ]
  },
  {
   "cell_type": "code",
   "execution_count": null,
   "id": "83020b28",
   "metadata": {},
   "outputs": [],
   "source": [
    "stats.stats.het_white(lr.resid, lr.model.exog)"
   ]
  },
  {
   "cell_type": "markdown",
   "id": "ce215157",
   "metadata": {},
   "source": [
    "Here, we need to pay attention to the second output value, which is the p-value for the test. Again, the p-value is large, so there is not enough evidence to conclude that the variance depends on the value of the predictors."
   ]
  },
  {
   "cell_type": "markdown",
   "id": "dcc1f4e8",
   "metadata": {},
   "source": [
    "## Categorical Predictors\n",
    "\n",
    "Let's investigate whether the sex of the possum makes a statistically significant differene on the average total length.\n",
    "\n",
    "**Null Hypothesis:** The average value of the total length does not depend linearly on the sex of the possum ($\\beta_1 = 0$).\n",
    "\n",
    "**Alternative Hypothesis:** The average value of the total length does depend linearly on the sex of the possum ($\\beta_1 \\neq 0$).\n",
    "\n",
    "Before fitting our model, let's look at a boxplot."
   ]
  },
  {
   "cell_type": "code",
   "execution_count": null,
   "id": "f706248d",
   "metadata": {},
   "outputs": [],
   "source": [
    "sns.boxplot(data = possum,\n",
    "           x = 'sex', y = 'total_l');"
   ]
  },
  {
   "cell_type": "code",
   "execution_count": null,
   "id": "f386d8c8",
   "metadata": {},
   "outputs": [],
   "source": [
    "possum.groupby('sex')['total_l'].describe()"
   ]
  },
  {
   "cell_type": "markdown",
   "id": "8929761a",
   "metadata": {},
   "source": [
    "There are differences in the average values, but are these differences statistically significant?\n",
    "\n",
    "Notice that we are using a categorical predictor variable in this case. Statsmodels allows for fitting models using categorical predictors in the same way as we used numeric predictors."
   ]
  },
  {
   "cell_type": "code",
   "execution_count": null,
   "id": "8556e485",
   "metadata": {},
   "outputs": [],
   "source": [
    "lr_sex = sm.ols('total_l ~ sex', data = possum).fit()\n",
    "lr_sex.summary()"
   ]
  },
  {
   "cell_type": "markdown",
   "id": "ae0efe08",
   "metadata": {},
   "source": [
    "**Question:** Looking at the summary output, what conclusion can we reach about the sex variable?"
   ]
  },
  {
   "cell_type": "code",
   "execution_count": null,
   "id": "95422393",
   "metadata": {},
   "outputs": [],
   "source": [
    "cars = pd.read_csv('../data/auto-mpg.csv')"
   ]
  },
  {
   "cell_type": "code",
   "execution_count": null,
   "id": "83a95108",
   "metadata": {},
   "outputs": [],
   "source": [
    "cars.head(2)"
   ]
  },
  {
   "cell_type": "code",
   "execution_count": null,
   "id": "94e30a15",
   "metadata": {},
   "outputs": [],
   "source": [
    "cars.plot(kind = 'scatter', x = 'displacement', y = 'mpg', figsize = (10,6));"
   ]
  },
  {
   "cell_type": "code",
   "execution_count": null,
   "id": "ef77916f",
   "metadata": {},
   "outputs": [],
   "source": [
    "lr_cars = sm.ols('mpg ~ displacement', data = cars).fit()\n",
    "lr_cars.summary()"
   ]
  },
  {
   "cell_type": "markdown",
   "id": "42097e4f",
   "metadata": {},
   "source": [
    "If we plot the residuals against the values of the predictor, we can see a pattern. This is indicative that the assumption of linearity may not be correct and a different model or some kind of transformation might be appropriate."
   ]
  },
  {
   "cell_type": "code",
   "execution_count": null,
   "id": "61673d1b",
   "metadata": {},
   "outputs": [],
   "source": [
    "plt.figure(figsize = (10,6))\n",
    "plt.scatter(cars['displacement'], lr_cars.resid)\n",
    "xmin, xmax = plt.xlim()\n",
    "plt.hlines(y = 0, xmin = xmin, xmax = xmax)\n",
    "plt.xlim(xmin, xmax);"
   ]
  },
  {
   "cell_type": "code",
   "execution_count": null,
   "id": "ac74d9e6",
   "metadata": {},
   "outputs": [],
   "source": [
    "probplot(lr_cars.resid, plot = plt);"
   ]
  },
  {
   "cell_type": "code",
   "execution_count": null,
   "id": "47fadeb9",
   "metadata": {},
   "outputs": [],
   "source": [
    "stats.stats.diagnostic.kstest_normal(lr_cars.resid)"
   ]
  },
  {
   "cell_type": "code",
   "execution_count": null,
   "id": "59f9ac16",
   "metadata": {},
   "outputs": [],
   "source": [
    "stats.stats.het_white(lr_cars.resid, lr_cars.model.exog)"
   ]
  },
  {
   "cell_type": "markdown",
   "id": "364a1a11",
   "metadata": {},
   "source": [
    "Let's see how our confidence and prediction intervals look inaccurate when the assumptions are not met."
   ]
  },
  {
   "cell_type": "code",
   "execution_count": null,
   "id": "e3c13ac0",
   "metadata": {},
   "outputs": [],
   "source": [
    "var = 'displacement'\n",
    "\n",
    "x_pred = pd.DataFrame({\n",
    "    var: np.linspace(start = cars[var].min(),\n",
    "                               stop = cars[var].max(), num = 250)\n",
    "})\n",
    "\n",
    "pred = lr_cars.get_prediction(x_pred).summary_frame()\n",
    "\n",
    "cars.plot(kind = 'scatter', x = var, y = 'mpg', figsize = (10,6))\n",
    "\n",
    "plt.plot(x_pred[var], pred['mean'], color = 'grey', label = 'predicted mean')\n",
    "\n",
    "plt.plot(x_pred[var], pred['mean_ci_lower'], color = 'blue', label = 'confidence interval')\n",
    "plt.plot(x_pred[var], pred['mean_ci_upper'], color = 'blue')\n",
    "\n",
    "plt.plot(x_pred[var], pred['obs_ci_lower'], color = 'black', label = 'prediction interval')\n",
    "plt.plot(x_pred[var], pred['obs_ci_upper'], color = 'black')\n",
    "\n",
    "plt.legend();"
   ]
  }
 ],
 "metadata": {
  "kernelspec": {
   "display_name": "Python 3 (ipykernel)",
   "language": "python",
   "name": "python3"
  },
  "language_info": {
   "codemirror_mode": {
    "name": "ipython",
    "version": 3
   },
   "file_extension": ".py",
   "mimetype": "text/x-python",
   "name": "python",
   "nbconvert_exporter": "python",
   "pygments_lexer": "ipython3",
   "version": "3.8.3"
  }
 },
 "nbformat": 4,
 "nbformat_minor": 5
}
