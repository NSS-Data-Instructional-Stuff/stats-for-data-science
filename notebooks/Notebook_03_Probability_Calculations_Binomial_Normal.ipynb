{
 "cells": [
  {
   "cell_type": "code",
   "execution_count": 1,
   "metadata": {},
   "outputs": [],
   "source": [
    "import numpy as np\n",
    "import matplotlib.pyplot as plt\n",
    "import pandas as pd\n",
    "import seaborn as sns\n",
    "from ipywidgets import interact, FloatSlider, IntSlider"
   ]
  },
  {
   "cell_type": "markdown",
   "metadata": {},
   "source": [
    "# Working with Probability Distributions\n",
    "\n",
    "Most common probability distributions are contained in the `scipy stats` module."
   ]
  },
  {
   "cell_type": "markdown",
   "metadata": {},
   "source": [
    "## The Binomial Distribution\n",
    "\n",
    "For example, if you want to work with the binomial distribution, you can use:"
   ]
  },
  {
   "cell_type": "code",
   "execution_count": 2,
   "metadata": {},
   "outputs": [],
   "source": [
    "from scipy.stats import binom"
   ]
  },
  {
   "cell_type": "markdown",
   "metadata": {},
   "source": [
    "For calculating probabilties of a specific number of successes, you can use the `pmf` function. Note that pmf stands for \"probability mass function\"."
   ]
  },
  {
   "cell_type": "markdown",
   "metadata": {},
   "source": [
    "To use this, you need to specify the following arguments:\n",
    "* k: desired number of successes\n",
    "* n: total number of trials\n",
    "* p: probability of success"
   ]
  },
  {
   "cell_type": "markdown",
   "metadata": {},
   "source": [
    "**Example:** If we flip a fair coin (probability of heads = 0.5) 10 times, what is the probability of it landing on heads exactly 7 times?\n",
    "\n",
    "k =\n",
    "\n",
    "n =   \n",
    "\n",
    "p =   "
   ]
  },
  {
   "cell_type": "code",
   "execution_count": 3,
   "metadata": {},
   "outputs": [
    {
     "data": {
      "text/plain": [
       "0.11718750000000014"
      ]
     },
     "execution_count": 3,
     "metadata": {},
     "output_type": "execute_result"
    }
   ],
   "source": [
    "binom.pmf(k = 7, n = 10, p = 0.5)"
   ]
  },
  {
   "cell_type": "markdown",
   "metadata": {},
   "source": [
    "<img style=\"float: left;\" src=\"images/binom_normal/02.png\" width=\"600\">"
   ]
  },
  {
   "cell_type": "markdown",
   "metadata": {},
   "source": [
    "**Example:** If we have a bent coin where the probability of heads is 0.7 which we flip ten times, what is the probability of it landing on heads exactly 7 times?\n",
    "\n",
    "k =\n",
    "\n",
    "n =\n",
    "\n",
    "p = "
   ]
  },
  {
   "cell_type": "code",
   "execution_count": 4,
   "metadata": {},
   "outputs": [],
   "source": [
    "# Your code here."
   ]
  },
  {
   "cell_type": "markdown",
   "metadata": {},
   "source": [
    "**Question:** If we flip a coin ten times, what is the probability that it lands on heads either 6 or 7 times?"
   ]
  },
  {
   "cell_type": "code",
   "execution_count": 4,
   "metadata": {},
   "outputs": [],
   "source": [
    "# Fill this in"
   ]
  },
  {
   "cell_type": "markdown",
   "metadata": {},
   "source": [
    "<img style=\"float: left;\" src=\"images/binom_normal/03.png\" width=\"600\">"
   ]
  },
  {
   "cell_type": "markdown",
   "metadata": {},
   "source": [
    "**Question:** If we flip a coin ten times, what is the probability that it lands on heads either 7 or fewer times?"
   ]
  },
  {
   "cell_type": "markdown",
   "metadata": {},
   "source": [
    "<img style=\"float: left;\" src=\"images/binom_normal/04.png\" width=\"600\">"
   ]
  },
  {
   "cell_type": "markdown",
   "metadata": {},
   "source": [
    "If you want to find the probability of $x$ _or fewer_ successes you can - rather than using the probability mass function - use the **cumulative distribution fuction**, or **cdf**. \n",
    "\n",
    "For a random variable X, the cdf is defined as\n",
    "\n",
    "$$F(x) := P(X \\leq x) = \\text{the probability that value of the random variable is } x \\text{ or less}$$\n",
    "\n",
    "<img style=\"float: left;\" src=\"images/binom_normal/05.png\" width=\"600\">"
   ]
  },
  {
   "cell_type": "markdown",
   "metadata": {},
   "source": [
    "<img style=\"float: left;\" src=\"images/binom_normal/06.png\" width=\"600\">"
   ]
  },
  {
   "cell_type": "markdown",
   "metadata": {},
   "source": [
    "You can compute this value using the `.cdf` function:"
   ]
  },
  {
   "cell_type": "code",
   "execution_count": 6,
   "metadata": {},
   "outputs": [
    {
     "data": {
      "text/plain": [
       "0.9453125"
      ]
     },
     "execution_count": 6,
     "metadata": {},
     "output_type": "execute_result"
    }
   ],
   "source": [
    "binom.cdf(k = 7, n = 10, p = 0.5)"
   ]
  },
  {
   "cell_type": "markdown",
   "metadata": {},
   "source": [
    "<img style=\"float: left;\" src=\"images/binom_normal/07.png\" width=\"600\">"
   ]
  },
  {
   "cell_type": "markdown",
   "metadata": {},
   "source": [
    "<img style=\"float: left;\" src=\"images/binom_normal/08.png\" width=\"800\">"
   ]
  },
  {
   "cell_type": "code",
   "execution_count": 7,
   "metadata": {},
   "outputs": [
    {
     "data": {
      "text/plain": [
       "0.65625"
      ]
     },
     "execution_count": 7,
     "metadata": {},
     "output_type": "execute_result"
    }
   ],
   "source": [
    "binom.cdf(k = 6, n = 10, p = 0.5) - binom.cdf(k = 3, n = 10, p = 0.5)"
   ]
  },
  {
   "cell_type": "markdown",
   "metadata": {},
   "source": [
    "<img style=\"float: left;\" src=\"images/binom_normal/09.png\" width=\"600\">"
   ]
  },
  {
   "cell_type": "markdown",
   "metadata": {},
   "source": [
    "<img style=\"float: left;\" src=\"images/binom_normal/10.png\" width=\"800\">"
   ]
  },
  {
   "cell_type": "code",
   "execution_count": 8,
   "metadata": {},
   "outputs": [
    {
     "data": {
      "text/plain": [
       "0.6230468749999999"
      ]
     },
     "execution_count": 8,
     "metadata": {},
     "output_type": "execute_result"
    }
   ],
   "source": [
    "1 - binom.cdf(k = 4, n = 10, p = 0.5)"
   ]
  },
  {
   "cell_type": "markdown",
   "metadata": {},
   "source": [
    "## Mean/Expected Value of a Random Variable\n",
    "\n",
    "Similar to data sets, random variables have a mean. For random variables, the mean is also called the **expected value**.\n",
    "\n",
    "Loosely speaking, if we simulated outcomes from our random variable a large number of times, the mean outcome would equal the mean of the random variable.\n",
    "\n",
    "More formally, if $X$ is a discrete random variable with pmf $f(x)$, then the expected value of $X$ is given by \n",
    "\n",
    "$$E[X] = \\sum_{x} x \\cdot f(x)$$\n",
    "\n",
    "where the sum runs over all possible outcomes."
   ]
  },
  {
   "cell_type": "markdown",
   "metadata": {},
   "source": [
    "The `binom` distribution we imported earlier will let us simulate a binomial random variable using the `.rvs` method.\n",
    "\n",
    "To do it once, we specify the number of trials (n) and the probability of success (p)."
   ]
  },
  {
   "cell_type": "code",
   "execution_count": 9,
   "metadata": {},
   "outputs": [
    {
     "data": {
      "text/plain": [
       "2"
      ]
     },
     "execution_count": 9,
     "metadata": {},
     "output_type": "execute_result"
    }
   ],
   "source": [
    "binom.rvs(n = 10, p = 0.4)"
   ]
  },
  {
   "cell_type": "markdown",
   "metadata": {},
   "source": [
    "We can also generate a multiple simulations by increasing the `size` argument."
   ]
  },
  {
   "cell_type": "code",
   "execution_count": 11,
   "metadata": {},
   "outputs": [
    {
     "data": {
      "text/plain": [
       "array([2, 4, 3, 4, 7, 8, 7, 2, 2, 2, 6, 6, 5, 3, 4, 3, 4, 6, 6, 3])"
      ]
     },
     "execution_count": 11,
     "metadata": {},
     "output_type": "execute_result"
    }
   ],
   "source": [
    "binom.rvs(n = 10, p = 0.4, size = 20)"
   ]
  },
  {
   "cell_type": "markdown",
   "metadata": {},
   "source": [
    "**Question:** Simulate a large number of outcomes from a binomial random variable with $n = 10$ and $p = 0.4$. What is the mean value of these outcomes?"
   ]
  },
  {
   "cell_type": "code",
   "execution_count": 17,
   "metadata": {},
   "outputs": [],
   "source": [
    "# Your code here"
   ]
  },
  {
   "cell_type": "markdown",
   "metadata": {},
   "source": [
    "**Question:** Now, change the values of $n$ and $p$ in whatever way you like. How does this change the average outcome?\n",
    "\n",
    "Do you have a guess as far as how to calculate the expected value of binomial random variable with $n$ trials and probability of success $p$?"
   ]
  },
  {
   "cell_type": "code",
   "execution_count": 18,
   "metadata": {},
   "outputs": [],
   "source": [
    "# Your code here"
   ]
  },
  {
   "cell_type": "markdown",
   "metadata": {},
   "source": [
    "## Variance and Standard Deviation of a Random Variable\n",
    "\n",
    "A random variable also has a variance and standard deviation. \n",
    "\n",
    "Loosely speaking, if we simulated outcomes from our random variable a large number of times, the variance and standard deviation of the outcomes would equal the variance and standard deviation of that variable, respectively."
   ]
  },
  {
   "cell_type": "code",
   "execution_count": 42,
   "metadata": {},
   "outputs": [
    {
     "data": {
      "text/plain": [
       "2.5114246991"
      ]
     },
     "execution_count": 42,
     "metadata": {},
     "output_type": "execute_result"
    }
   ],
   "source": [
    "(binom.rvs(n = 10, p = 0.5, size = 100000)).var()"
   ]
  },
  {
   "cell_type": "markdown",
   "metadata": {},
   "source": [
    "**Question:** What do you think the relationship between the probability of success, $p$, and the variance is? Experiment to test your guess by keeping $n$ fixed but varying $p$."
   ]
  },
  {
   "cell_type": "code",
   "execution_count": 14,
   "metadata": {},
   "outputs": [],
   "source": [
    "# Your Code Here"
   ]
  },
  {
   "cell_type": "code",
   "execution_count": 26,
   "metadata": {},
   "outputs": [],
   "source": [
    "probs = np.linspace(start = 0, stop = 1, num = 100)   # Get 100 evenly-spaced numbers between 0 and 1\n",
    "var = [(binom.rvs(n = 10, p = p, size = 100000)).var() for p in probs]             # Approximate the variance for each values of p"
   ]
  },
  {
   "cell_type": "code",
   "execution_count": 27,
   "metadata": {},
   "outputs": [
    {
     "data": {
      "image/png": "[encoded data removed]",
      "text/plain": [
       "<Figure size 720x432 with 1 Axes>"
      ]
     },
     "metadata": {
      "needs_background": "light"
     },
     "output_type": "display_data"
    }
   ],
   "source": [
    "plt.figure(figsize = (10,6))\n",
    "plt.plot(p, var)\n",
    "plt.title('Estimated Variance as $p$ Varies', fontsize = 14)\n",
    "plt.xlabel('Probability of Success ($p$)', fontsize = 12);"
   ]
  },
  {
   "cell_type": "markdown",
   "metadata": {},
   "source": [
    "**Question:** What does this plot tell us?"
   ]
  },
  {
   "cell_type": "markdown",
   "metadata": {},
   "source": [
    "## The Normal Distribution"
   ]
  },
  {
   "cell_type": "markdown",
   "metadata": {},
   "source": [
    "If you are going to work with normal distributions, import `norm` from `scipy.stats`."
   ]
  },
  {
   "cell_type": "code",
   "execution_count": 29,
   "metadata": {},
   "outputs": [],
   "source": [
    "from scipy.stats import norm"
   ]
  },
  {
   "cell_type": "markdown",
   "metadata": {},
   "source": [
    "The following interactive widget demonstrates how the two parameters, $\\mu$ and $\\sigma$ affect the shape and location of a normal distribution."
   ]
  },
  {
   "cell_type": "code",
   "execution_count": 18,
   "metadata": {},
   "outputs": [
    {
     "data": {
      "application/vnd.jupyter.widget-view+json": {
       "model_id": "70d81b9cf5dc4f9d83c99d0bf53baec6",
       "version_major": 2,
       "version_minor": 0
      },
      "text/plain": [
       "interactive(children=(FloatSlider(value=0.0, description='mu', max=3.0, min=-3.0), FloatSlider(value=1.0, desc…"
      ]
     },
     "metadata": {},
     "output_type": "display_data"
    }
   ],
   "source": [
    "@interact(mu = FloatSlider(value = 0, min = -3, max = 3, step = 0.1),\n",
    "         sigma = FloatSlider(value = 1, min = 0.1, max = 3, step = 0.1))\n",
    "def normal_pdf(mu, sigma):\n",
    "    x = np.arange(start = -4, stop = 4, step = 0.01)\n",
    "    plt.figure(figsize = (10,6))\n",
    "    plt.plot(x, norm.pdf(x, loc = mu, scale = sigma), color = 'black')\n",
    "    plt.fill_between(x, norm.pdf(x, loc = mu, scale = sigma), color = 'cornflowerblue')\n",
    "    plt.hlines(y = 0, xmin = -4, xmax = 4, color = 'black')\n",
    "    plt.ylabel('Density')\n",
    "    plt.title('Normal Distribution\\n $\\mu$ = {}, $\\sigma$= {}'.format(mu, sigma))\n",
    "    plt.xlim(-4, 4);"
   ]
  },
  {
   "cell_type": "markdown",
   "metadata": {},
   "source": [
    "For calculating probabilities with the normal distribution, you will usually need to use its cdf."
   ]
  },
  {
   "cell_type": "markdown",
   "metadata": {},
   "source": [
    "**Example:** For a random variable which is normally distributed with a mean of 100 and standard deviation of 10, what is the probability that the variable is less than 80?\n",
    "\n",
    "Recall that the cdf tells the probability that the random variable is $x$ or less.\n",
    "\n",
    "When using the `cdf` or `pdf` for a normal distribution, you need to specify the value(s) of $x$ along with\n",
    "* loc: the mean\n",
    "* scale: the standard deviation"
   ]
  },
  {
   "cell_type": "code",
   "execution_count": 19,
   "metadata": {},
   "outputs": [
    {
     "data": {
      "text/plain": [
       "0.022750131948179195"
      ]
     },
     "execution_count": 19,
     "metadata": {},
     "output_type": "execute_result"
    }
   ],
   "source": [
    "norm.cdf(x = 80, loc = 100, scale = 10)"
   ]
  },
  {
   "cell_type": "markdown",
   "metadata": {},
   "source": [
    "<img style=\"float: left;\" src=\"images/binom_normal/11.png\" width=\"600\">"
   ]
  },
  {
   "cell_type": "markdown",
   "metadata": {},
   "source": [
    "**Example:** For a random variable which is normally distributed with a mean of 100 and standard deviation of 10, what is the probability that the variable is more than 85 but less than 115?\n",
    "\n",
    "To answer this, you need to do the trick with subtracting two areas. Remember that the cdf only tells the probability of a particular value or less."
   ]
  },
  {
   "cell_type": "code",
   "execution_count": 20,
   "metadata": {},
   "outputs": [
    {
     "data": {
      "text/plain": [
       "0.8663855974622838"
      ]
     },
     "execution_count": 20,
     "metadata": {},
     "output_type": "execute_result"
    }
   ],
   "source": [
    "norm.cdf(x = 115, loc = 100, scale = 10) - norm.cdf(x = 85, loc = 100, scale = 10)"
   ]
  },
  {
   "cell_type": "markdown",
   "metadata": {},
   "source": [
    "<img style=\"float: left;\" src=\"images/binom_normal/12.png\" width=\"600\">"
   ]
  },
  {
   "cell_type": "markdown",
   "metadata": {},
   "source": [
    "**Example:** For a random variable which is normally distributed with a mean of 100 and standard deviation of 10, what is the probability that the variable is more than 90?\n",
    "\n",
    "Again, you will need to do the subtraction trick."
   ]
  },
  {
   "cell_type": "code",
   "execution_count": 21,
   "metadata": {},
   "outputs": [
    {
     "data": {
      "text/plain": [
       "0.8413447460685429"
      ]
     },
     "execution_count": 21,
     "metadata": {},
     "output_type": "execute_result"
    }
   ],
   "source": [
    "1 - norm.cdf(x = 90, loc = 100, scale = 10)"
   ]
  },
  {
   "cell_type": "markdown",
   "metadata": {},
   "source": [
    "<img style=\"float: left;\" src=\"images/binom_normal/13.png\" width=\"600\">"
   ]
  },
  {
   "cell_type": "markdown",
   "metadata": {},
   "source": [
    "### Using the Normal Distribution to Estimate Probabilities"
   ]
  },
  {
   "cell_type": "markdown",
   "metadata": {},
   "source": [
    "The dataset NHANES_heights_weights.csv contains a sample of participants in the National Health and Nutrition Examination Survey. Specifically, it contains the heights and weights of all male participants between the ages of 30 and 40."
   ]
  },
  {
   "cell_type": "code",
   "execution_count": 43,
   "metadata": {},
   "outputs": [],
   "source": [
    "nhanes = pd.read_csv('../data/NHANES_heights_weights.csv')"
   ]
  },
  {
   "cell_type": "code",
   "execution_count": 44,
   "metadata": {},
   "outputs": [
    {
     "data": {
      "text/html": [
       "<div>\n",
       "<style scoped>\n",
       "    .dataframe tbody tr th:only-of-type {\n",
       "        vertical-align: middle;\n",
       "    }\n",
       "\n",
       "    .dataframe tbody tr th {\n",
       "        vertical-align: top;\n",
       "    }\n",
       "\n",
       "    .dataframe thead th {\n",
       "        text-align: right;\n",
       "    }\n",
       "</style>\n",
       "<table border=\"1\" class=\"dataframe\">\n",
       "  <thead>\n",
       "    <tr style=\"text-align: right;\">\n",
       "      <th></th>\n",
       "      <th>SEQN</th>\n",
       "      <th>weight_kg</th>\n",
       "      <th>height_cm</th>\n",
       "      <th>age</th>\n",
       "      <th>gender</th>\n",
       "    </tr>\n",
       "  </thead>\n",
       "  <tbody>\n",
       "    <tr>\n",
       "      <th>0</th>\n",
       "      <td>83856.0</td>\n",
       "      <td>89.1</td>\n",
       "      <td>181.5</td>\n",
       "      <td>30.0</td>\n",
       "      <td>male</td>\n",
       "    </tr>\n",
       "    <tr>\n",
       "      <th>1</th>\n",
       "      <td>83863.0</td>\n",
       "      <td>95.8</td>\n",
       "      <td>175.6</td>\n",
       "      <td>35.0</td>\n",
       "      <td>male</td>\n",
       "    </tr>\n",
       "    <tr>\n",
       "      <th>2</th>\n",
       "      <td>83910.0</td>\n",
       "      <td>73.2</td>\n",
       "      <td>178.9</td>\n",
       "      <td>37.0</td>\n",
       "      <td>male</td>\n",
       "    </tr>\n",
       "    <tr>\n",
       "      <th>3</th>\n",
       "      <td>83931.0</td>\n",
       "      <td>78.7</td>\n",
       "      <td>174.0</td>\n",
       "      <td>37.0</td>\n",
       "      <td>male</td>\n",
       "    </tr>\n",
       "    <tr>\n",
       "      <th>4</th>\n",
       "      <td>84011.0</td>\n",
       "      <td>119.6</td>\n",
       "      <td>178.2</td>\n",
       "      <td>32.0</td>\n",
       "      <td>male</td>\n",
       "    </tr>\n",
       "  </tbody>\n",
       "</table>\n",
       "</div>"
      ],
      "text/plain": [
       "      SEQN  weight_kg  height_cm   age gender\n",
       "0  83856.0       89.1      181.5  30.0   male\n",
       "1  83863.0       95.8      175.6  35.0   male\n",
       "2  83910.0       73.2      178.9  37.0   male\n",
       "3  83931.0       78.7      174.0  37.0   male\n",
       "4  84011.0      119.6      178.2  32.0   male"
      ]
     },
     "execution_count": 44,
     "metadata": {},
     "output_type": "execute_result"
    }
   ],
   "source": [
    "nhanes.head()"
   ]
  },
  {
   "cell_type": "markdown",
   "metadata": {},
   "source": [
    "You can get a quick glimpse at the characteristics of the dataset using the `.describe()` method."
   ]
  },
  {
   "cell_type": "code",
   "execution_count": 46,
   "metadata": {},
   "outputs": [
    {
     "data": {
      "text/plain": [
       "count    446.000000\n",
       "mean     174.223767\n",
       "std        7.770183\n",
       "min      149.600000\n",
       "25%      169.300000\n",
       "50%      174.500000\n",
       "75%      179.300000\n",
       "max      193.800000\n",
       "Name: height_cm, dtype: float64"
      ]
     },
     "execution_count": 46,
     "metadata": {},
     "output_type": "execute_result"
    }
   ],
   "source": [
    "nhanes['height_cm'].describe()"
   ]
  },
  {
   "cell_type": "markdown",
   "metadata": {},
   "source": [
    "To get a better idea of the distribution of values, we can look at a histogram."
   ]
  },
  {
   "cell_type": "code",
   "execution_count": 49,
   "metadata": {},
   "outputs": [
    {
     "data": {
      "image/png": "[encoded data removed]",
      "text/plain": [
       "<Figure size 432x288 with 1 Axes>"
      ]
     },
     "metadata": {
      "needs_background": "light"
     },
     "output_type": "display_data"
    }
   ],
   "source": [
    "plt.hist(nhanes['height_cm'], bins = 20, edgecolor = 'black');"
   ]
  },
  {
   "cell_type": "markdown",
   "metadata": {},
   "source": [
    "You can see that the data is roughly bell-shaped. There are some statistical tests which can be used to check whether a sample appears to have come from a normal distribution. \n",
    "\n",
    "Another option is to use what's called a **quantile-quantile plot**, or **Q-Q plot**. This type of plot can be used to assess whether it is plausible that a set of observations came from a particular distribution.\n",
    "\n",
    "Specifically, a Q-Q plot is a scatterplot which shows the theoretical quantiles from the candidate distribution against the observed quantiles from the sample. If the plot is close to the identity plot (the diagonal line), then we can conclude that it is plausible (but not certain) that the sample came from that distribution. \n",
    "\n",
    "When looking at a Q-Q plot to evalate whether it is plausible to estimate a distribution using a normal distribution, the quantiles for a normal distribution with the same mean and standard deviation as the dataset are calculated.\n",
    "\n",
    "You will use the following function to create our Q-Q plots. You just need to pass in the column of interest."
   ]
  },
  {
   "cell_type": "code",
   "execution_count": 50,
   "metadata": {},
   "outputs": [],
   "source": [
    "from nssstats.plots import qq_plot"
   ]
  },
  {
   "cell_type": "code",
   "execution_count": 51,
   "metadata": {},
   "outputs": [
    {
     "name": "stderr",
     "output_type": "stream",
     "text": [
      "/home/michael/anaconda3/lib/python3.8/site-packages/statsmodels/graphics/gofplots.py:993: UserWarning: marker is redundantly defined by the 'marker' keyword argument and the fmt string \"bo\" (-> marker='o'). The keyword argument will take precedence.\n",
      "  ax.plot(x, y, fmt, **plot_style)\n"
     ]
    },
    {
     "data": {
      "image/png": "[encoded data removed]",
      "text/plain": [
       "<Figure size 720x432 with 1 Axes>"
      ]
     },
     "metadata": {
      "needs_background": "light"
     },
     "output_type": "display_data"
    }
   ],
   "source": [
    "fig, ax = plt.subplots(figsize = (10,6))\n",
    "qq_plot(nhanes['height_cm'], ax = ax)"
   ]
  },
  {
   "cell_type": "markdown",
   "metadata": {},
   "source": [
    "You can see that, with just a few exceptions, the sample data hugs the diagonal line. You are probably safe to model the overall distribution using a normal distribution.\n",
    "\n",
    "You can approximate the population distribution using a normal distribution with the same mean and standard deviation as the sample."
   ]
  },
  {
   "cell_type": "code",
   "execution_count": 52,
   "metadata": {},
   "outputs": [
    {
     "name": "stdout",
     "output_type": "stream",
     "text": [
      "mu = 174.22376681614358\n",
      "sigma = 7.7614674413081355\n"
     ]
    }
   ],
   "source": [
    "mu = np.mean(nhanes['height_cm'])\n",
    "sigma = np.std(nhanes['height_cm'])\n",
    "\n",
    "print('mu = {}'.format(mu))\n",
    "print('sigma = {}'.format(sigma))"
   ]
  },
  {
   "cell_type": "markdown",
   "metadata": {},
   "source": [
    "Let's take a look at the hypothetical normal distribution against the sample data."
   ]
  },
  {
   "cell_type": "code",
   "execution_count": 55,
   "metadata": {},
   "outputs": [
    {
     "data": {
      "image/png": "[encoded data removed]",
      "text/plain": [
       "<Figure size 720x432 with 1 Axes>"
      ]
     },
     "metadata": {
      "needs_background": "light"
     },
     "output_type": "display_data"
    }
   ],
   "source": [
    "plt.figure(figsize = (10,6))\n",
    "x = np.arange(start = -4 * sigma + mu, stop = 4 * sigma + mu, step = 0.01)  # Generate a set of x-values\n",
    "y = norm.pdf(x, loc = mu, scale = sigma)                                    # Get the corresponding normal pdf values\n",
    "plt.plot(x, y, color = 'black')      \n",
    "nhanes['height_cm'].hist(density = True, edgecolor = 'black');"
   ]
  },
  {
   "cell_type": "markdown",
   "metadata": {},
   "source": [
    "You can see that it's not a perfect fit, but is reasonably close.\n",
    "\n",
    "Using this distribution, you can make predictions about the overall population.\n",
    "\n",
    "Approximately what proportion of 30 - 40 year-old males will be under 5 feet tall (152.4 cm)?"
   ]
  },
  {
   "cell_type": "code",
   "execution_count": null,
   "metadata": {},
   "outputs": [],
   "source": [
    "# Your Code Here"
   ]
  },
  {
   "cell_type": "markdown",
   "metadata": {},
   "source": [
    "Approximately what proportion of 30 - 40 year-old males will be over 6 feet tall (182.88 cm)?"
   ]
  },
  {
   "cell_type": "code",
   "execution_count": 41,
   "metadata": {},
   "outputs": [],
   "source": [
    "# Your Code Here"
   ]
  },
  {
   "cell_type": "markdown",
   "metadata": {},
   "source": [
    "Approximately what proportion of 30 - 40 year-old males will be over 7 feet tall (213.36 cm)?"
   ]
  },
  {
   "cell_type": "code",
   "execution_count": 42,
   "metadata": {},
   "outputs": [],
   "source": [
    "# Your Code Here"
   ]
  }
 ],
 "metadata": {
  "kernelspec": {
   "display_name": "Python 3",
   "language": "python",
   "name": "python3"
  },
  "language_info": {
   "codemirror_mode": {
    "name": "ipython",
    "version": 3
   },
   "file_extension": ".py",
   "mimetype": "text/x-python",
   "name": "python",
   "nbconvert_exporter": "python",
   "pygments_lexer": "ipython3",
   "version": "3.8.3"
  }
 },
 "nbformat": 4,
 "nbformat_minor": 2
}
