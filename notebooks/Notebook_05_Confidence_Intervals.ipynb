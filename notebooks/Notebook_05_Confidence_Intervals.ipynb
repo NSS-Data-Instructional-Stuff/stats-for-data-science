{
 "cells": [
  {
   "cell_type": "markdown",
   "metadata": {},
   "source": [
    "# Statistical Inference\n",
    "\n",
    "In the slides you saw how, if you understand the sampling distribution of a statistic, you can compute a confidence interval. In this notebook, you'll see how to use Python to create these confidence intervals."
   ]
  },
  {
   "cell_type": "markdown",
   "metadata": {},
   "source": [
    "## Confidence Intervals\n",
    "\n",
    "**Big Idea:** Create an interval so that C\\% of the time, the parameter of interest lands within that interval (C is the confidence level - typically 95\\% or 99\\%).\n",
    "\n",
    "A confidence interval lets you quantify the uncertainty associated with a point estimate. Wider interval means more uncertainty.\n",
    "\n",
    "**General Formula for Confidence Interval:**\n",
    "\n",
    "$$ \\text{point estimate} \\pm \\text{margin of error} $$\n",
    "\n",
    "In the case that you can approxmiate the sampling distribution of the statistic of interest (most commonly in the case of a mean or proportion), then you can express the margin of error in terms of the standard deviation of this distribution (the *standard error of the estimate*) and a critical value, which is based on the confidence level.\n",
    "\n",
    "$$ \\text{point estimate} \\pm \\text{standard error of estimate} \\cdot \\text{critical value}$$\n",
    "\n",
    "Higher confidence means larger critical value and hence, a wider interval.\n",
    "\n",
    "Also, you know that the standard error of the estimate shrinks as sample size increases, so you can get a narrower confidence interval by taking a larger sample."
   ]
  },
  {
   "cell_type": "code",
   "execution_count": null,
   "metadata": {},
   "outputs": [],
   "source": [
    "import pandas as pd\n",
    "import numpy as np\n",
    "import matplotlib.pyplot as plt"
   ]
  },
  {
   "cell_type": "markdown",
   "metadata": {},
   "source": [
    "## Confidence Intervals for the Mean\n",
    "\n",
    "You have seen from the slides how to create a confidence interval for the mean. In Python, you'll use the `t.interval` function from `scipy.stats`.\n"
   ]
  },
  {
   "cell_type": "markdown",
   "metadata": {},
   "source": [
    "In this example, you will be using data from the [American Time Use Survey](https://www.bls.gov/tus/). Specifically, you'll be looking at a sample of 50 adults and the number of minutes they reported sleeping for the survey day."
   ]
  },
  {
   "cell_type": "code",
   "execution_count": null,
   "metadata": {},
   "outputs": [],
   "source": [
    "sleeping = pd.read_csv('../data/atus_sleeping.csv')"
   ]
  },
  {
   "cell_type": "code",
   "execution_count": null,
   "metadata": {},
   "outputs": [],
   "source": [
    "sleeping.head()"
   ]
  },
  {
   "cell_type": "markdown",
   "metadata": {},
   "source": [
    "First, look at the distribution of the sample values."
   ]
  },
  {
   "cell_type": "code",
   "execution_count": null,
   "metadata": {},
   "outputs": [],
   "source": [
    "sleeping['minutes_spent_sleeping'].hist();"
   ]
  },
  {
   "cell_type": "markdown",
   "metadata": {},
   "source": [
    "In order for your confidence interval to be valid, you need to make sure that the data is reasonably close to normally distributed. This can be relaxed if you have a large enough sample, but with only 50 observations, it is best to check for normality.\n",
    "\n",
    "Recall that you can check for normality by looking at a Q-Q plot."
   ]
  },
  {
   "cell_type": "code",
   "execution_count": null,
   "metadata": {},
   "outputs": [],
   "source": [
    "from scipy.stats import probplot"
   ]
  },
  {
   "cell_type": "code",
   "execution_count": null,
   "metadata": {},
   "outputs": [],
   "source": [
    "probplot(sleeping['minutes_spent_sleeping'], plot=plt);"
   ]
  },
  {
   "cell_type": "markdown",
   "metadata": {},
   "source": [
    "It is not perfect, but with the exception of a couple of very high values, it looks reasonably close to a normal distribution.\n",
    "\n",
    "Now, find the point estimate you will use for the mean. You can use the sample mean as the point estimate:"
   ]
  },
  {
   "cell_type": "code",
   "execution_count": null,
   "metadata": {},
   "outputs": [],
   "source": [
    "sleeping['minutes_spent_sleeping'].mean()"
   ]
  },
  {
   "cell_type": "markdown",
   "metadata": {},
   "source": [
    "Also, look to see how much variability there is in the sample by calculating the standard deviation:"
   ]
  },
  {
   "cell_type": "code",
   "execution_count": null,
   "metadata": {},
   "outputs": [],
   "source": [
    "sleeping.minutes_spent_sleeping.std()"
   ]
  },
  {
   "cell_type": "markdown",
   "metadata": {},
   "source": [
    "You can see that on average, people in this sample slept for 550.96 minutes (9.18 hours), but there is a lot a variability in the reported values. \n",
    "\n",
    "Armed with this knowledge, construct your confidence interval. Let's import a couple of useful functions from `scipy.stats`."
   ]
  },
  {
   "cell_type": "code",
   "execution_count": null,
   "metadata": {},
   "outputs": [],
   "source": [
    "from scipy.stats import t, sem"
   ]
  },
  {
   "cell_type": "markdown",
   "metadata": {},
   "source": [
    "Let's first look at the standard error.\n",
    "\n",
    "Recall that this is an estimate of the variability in the sample means across all possible samples with the same size as our sample.\n",
    "\n",
    "You can manually calculate it: "
   ]
  },
  {
   "cell_type": "code",
   "execution_count": null,
   "metadata": {},
   "outputs": [],
   "source": [
    "sleeping['minutes_spent_sleeping'].std() / np.sqrt(len(sleeping['minutes_spent_sleeping']))"
   ]
  },
  {
   "cell_type": "markdown",
   "metadata": {},
   "source": [
    "Or we can use the `sem` function:"
   ]
  },
  {
   "cell_type": "code",
   "execution_count": null,
   "metadata": {},
   "outputs": [],
   "source": [
    "sem(sleeping['minutes_spent_sleeping'])"
   ]
  },
  {
   "cell_type": "markdown",
   "metadata": {},
   "source": [
    "What about the critical value? Let's say we want to 95% confidence interval. That means that we need to find the point for which only 2.5% of the area under the curve is to the right. This is the same as the 97.5 quantile. For this we can use the `ppf` method. "
   ]
  },
  {
   "cell_type": "code",
   "execution_count": null,
   "metadata": {},
   "outputs": [],
   "source": [
    "t.ppf(q = 0.975, df = sleeping['minutes_spent_sleeping'].count() - 1)"
   ]
  },
  {
   "cell_type": "markdown",
   "metadata": {},
   "source": [
    "Putting everything together:"
   ]
  },
  {
   "cell_type": "code",
   "execution_count": null,
   "metadata": {},
   "outputs": [],
   "source": [
    "point_estimate = sleeping['minutes_spent_sleeping'].mean()\n",
    "se = sem(sleeping['minutes_spent_sleeping'])\n",
    "critical_value = t.ppf(q = 0.975, df = sleeping['minutes_spent_sleeping'].count() - 1)\n",
    "\n",
    "lower_bound = point_estimate - critical_value*se\n",
    "upper_bound = point_estimate + critical_value*se\n",
    "\n",
    "print(lower_bound, upper_bound)"
   ]
  },
  {
   "cell_type": "markdown",
   "metadata": {},
   "source": [
    "Instead of manually calculating the interval, we can make use of the `t.interval` function.\n",
    "\n",
    "To use this function, you need to specify 4 things:\n",
    "* confidence: The confidence level\n",
    "* df: The number of degrees of freedom for the $t$-distribution, equal to the the sample size - 1\n",
    "* loc: The sample mean\n",
    "* scale: The standard error, equal to $\\frac{s}{\\sqrt{n}}$  "
   ]
  },
  {
   "cell_type": "code",
   "execution_count": null,
   "metadata": {},
   "outputs": [],
   "source": [
    "t.interval(\n",
    "    confidence = 0.95, \n",
    "    df = sleeping['minutes_spent_sleeping'].count() - 1, \n",
    "    loc = sleeping['minutes_spent_sleeping'].mean(), \n",
    "    scale = sem(sleeping['minutes_spent_sleeping'])\n",
    ")"
   ]
  },
  {
   "cell_type": "markdown",
   "metadata": {},
   "source": [
    "You can be 95% confident that the population mean is between 508 minutes and 594 minutes.\n",
    "\n",
    "In this case, what is the margin of error?  \n",
    "\n",
    "For the case of a t-interval, the margin of error is equal to the distance from the point estimate to either the upper or lower bounds of the confidence interval. Recall from above that the point estimate was 550.96."
   ]
  },
  {
   "cell_type": "code",
   "execution_count": null,
   "metadata": {},
   "outputs": [],
   "source": [
    "conf_int = t.interval(\n",
    "    confidence = 0.95, \n",
    "    df = sleeping['minutes_spent_sleeping'].count() - 1, \n",
    "    loc = sleeping['minutes_spent_sleeping'].mean(), \n",
    "    scale = sem(sleeping['minutes_spent_sleeping'])\n",
    ")"
   ]
  },
  {
   "cell_type": "code",
   "execution_count": null,
   "metadata": {},
   "outputs": [],
   "source": [
    "conf_int[1] - sleeping['minutes_spent_sleeping'].mean()"
   ]
  },
  {
   "cell_type": "code",
   "execution_count": null,
   "metadata": {},
   "outputs": [],
   "source": [
    "sleeping['minutes_spent_sleeping'].mean() - conf_int[0]"
   ]
  },
  {
   "cell_type": "markdown",
   "metadata": {},
   "source": [
    "Notice that, due to the symmetry of the confidence interval, you get the same margin of error for either difference."
   ]
  },
  {
   "cell_type": "markdown",
   "metadata": {},
   "source": [
    "What happens if we change our confidence level? Create a new confidence interval, but this time do an 80\\% confidence interval."
   ]
  },
  {
   "cell_type": "code",
   "execution_count": null,
   "metadata": {},
   "outputs": [],
   "source": [
    "# Your Code Here"
   ]
  },
  {
   "cell_type": "markdown",
   "metadata": {},
   "source": [
    "**Question:** How does the margin of error change from the margin of error for the 95\\% confidence interval? Why do you think that is?"
   ]
  },
  {
   "cell_type": "code",
   "execution_count": null,
   "metadata": {},
   "outputs": [],
   "source": [
    "# Your Code Here"
   ]
  },
  {
   "cell_type": "markdown",
   "metadata": {},
   "source": [
    "Now, create a 99\\% confidence interval. What happens with the margin of error now?"
   ]
  },
  {
   "cell_type": "code",
   "execution_count": null,
   "metadata": {},
   "outputs": [],
   "source": [
    "# Your Code Here"
   ]
  },
  {
   "cell_type": "markdown",
   "metadata": {},
   "source": [
    "**Question:** What can we say in general about the confidence level and the margin of error?"
   ]
  },
  {
   "cell_type": "markdown",
   "metadata": {},
   "source": [
    "## Confidence Intervals for the Proportion\n",
    "\n",
    "For this example, you'll be working wit a sample of 250 participants in the 2015 [National Health and Nutrition Examination Survey](https://www.cdc.gov/nchs/nhanes/index.htm) who were at least 18 years old.\n",
    "\n",
    "Specifically, using this sample, estimate the proportion of US adults who smoke. In this dataset, there is a column indicating whether the person smoked tobacco in the last five days, so you can use this to make your estimate."
   ]
  },
  {
   "cell_type": "code",
   "execution_count": null,
   "metadata": {},
   "outputs": [],
   "source": [
    "smoking = pd.read_csv('../data/NHANES_smoking.csv')\n",
    "smoking.head()"
   ]
  },
  {
   "cell_type": "markdown",
   "metadata": {},
   "source": [
    "First, let's take a look at the data and see how it is divided between the two categories:"
   ]
  },
  {
   "cell_type": "code",
   "execution_count": null,
   "metadata": {},
   "outputs": [],
   "source": [
    "smoking['smoked_in_last_5_days'].value_counts()"
   ]
  },
  {
   "cell_type": "code",
   "execution_count": null,
   "metadata": {},
   "outputs": [],
   "source": [
    "smoking['smoked_in_last_5_days'].value_counts(normalize = True)"
   ]
  },
  {
   "cell_type": "markdown",
   "metadata": {},
   "source": [
    "Based on the sample, the point estimate for the proportion of adults who smoked in the last 5 days is 21.6%.\n",
    "\n",
    "Now, create our confidence interval."
   ]
  },
  {
   "cell_type": "markdown",
   "metadata": {},
   "source": [
    "Confidence intervals for the proportion can be constructed using the `proportion_confint` function from the `statsmodels.stats.proportion` module."
   ]
  },
  {
   "cell_type": "code",
   "execution_count": null,
   "metadata": {},
   "outputs": [],
   "source": [
    "from statsmodels.stats.proportion import proportion_confint"
   ]
  },
  {
   "cell_type": "markdown",
   "metadata": {},
   "source": [
    "To use this function, you need to specify\n",
    "* count: The number of \"successes\"\n",
    "* nobs: the total number of observations\n",
    "* alpha: 1 - confidence level"
   ]
  },
  {
   "cell_type": "markdown",
   "metadata": {},
   "source": [
    "If you want to get the count of people who did smoke in the last 5 days, you can use `.loc`"
   ]
  },
  {
   "cell_type": "code",
   "execution_count": null,
   "metadata": {},
   "outputs": [],
   "source": [
    "smoking['smoked_in_last_5_days'].value_counts().loc[True]"
   ]
  },
  {
   "cell_type": "markdown",
   "metadata": {},
   "source": [
    "To get the total number of observations, we can sum up the value counts. "
   ]
  },
  {
   "cell_type": "code",
   "execution_count": null,
   "metadata": {},
   "outputs": [],
   "source": [
    "smoking['smoked_in_last_5_days'].value_counts().sum()"
   ]
  },
  {
   "cell_type": "code",
   "execution_count": null,
   "metadata": {},
   "outputs": [],
   "source": [
    "proportion_confint( \n",
    "    count = smoking['smoked_in_last_5_days'].value_counts().loc[True],\n",
    "    nobs = smoking['smoked_in_last_5_days'].value_counts().sum(),\n",
    "    alpha = 0.05\n",
    ")"
   ]
  },
  {
   "cell_type": "markdown",
   "metadata": {},
   "source": [
    "This shows that we can be 95% confident that the true proportion of US adults who regularly smoke tobacco is between 16.5% and 26.7%."
   ]
  }
 ],
 "metadata": {
  "kernelspec": {
   "display_name": "Python 3 (ipykernel)",
   "language": "python",
   "name": "python3"
  },
  "language_info": {
   "codemirror_mode": {
    "name": "ipython",
    "version": 3
   },
   "file_extension": ".py",
   "mimetype": "text/x-python",
   "name": "python",
   "nbconvert_exporter": "python",
   "pygments_lexer": "ipython3",
   "version": "3.9.16"
  }
 },
 "nbformat": 4,
 "nbformat_minor": 4
}
