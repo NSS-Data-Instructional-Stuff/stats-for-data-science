{
 "cells": [
  {
   "cell_type": "markdown",
   "metadata": {},
   "source": [
    "# Hypothesis Testing"
   ]
  },
  {
   "cell_type": "markdown",
   "metadata": {},
   "source": [
    "The American Time Use Survey (ATUS) measures the amount of time people spend doing various activities, such as paid work, childcare, volunteering, and socializing.\n",
    "\n",
    "Based on this survey, Americans reported that on average, they spend 527 minutes sleeping.\n",
    "\n",
    "We suspect that unemployed people will spend more time than the average person sleeping. To try and determine if this is true, we have a sample of the amount of time spent sleeping as reported by 20 unemployed participants contained in the `time_use_sample.csv` file."
   ]
  },
  {
   "cell_type": "markdown",
   "metadata": {},
   "source": [
    "First, let's establish our null and alternative hypotheses. We're trying to determine if unemployed people get more sleep on average than the general population, so we'll start by assuming that they do not. That is the average amount of sleep for the unemployed population is equal to 527 minutes.\n",
    "\n",
    "$H_0: \\mu = 527$\n",
    "\n",
    "For our alternative hypothesis, we want to see if the average is higher for unemployed people.\n",
    "\n",
    "$H_A: \\mu > 527$\n",
    "\n",
    "This is a **one-tailed** test, since you are only interested in testing is the average is greater than 527, rather than if it is not equal to 527.\n",
    "\n",
    "Also, we need to specify our significance level. Here, you can use the standard significance level of 0.05."
   ]
  },
  {
   "cell_type": "markdown",
   "metadata": {},
   "source": [
    "Now, let's look at the data."
   ]
  },
  {
   "cell_type": "code",
   "execution_count": 1,
   "metadata": {},
   "outputs": [],
   "source": [
    "import pandas as pd\n",
    "import numpy as np\n",
    "import matplotlib.pyplot as plt\n",
    "%matplotlib inline"
   ]
  },
  {
   "cell_type": "code",
   "execution_count": 2,
   "metadata": {},
   "outputs": [],
   "source": [
    "time_use_sample = pd.read_csv('../data/time_use_sample.csv')"
   ]
  },
  {
   "cell_type": "code",
   "execution_count": 3,
   "metadata": {},
   "outputs": [
    {
     "data": {
      "text/html": [
       "<div>\n",
       "<style scoped>\n",
       "    .dataframe tbody tr th:only-of-type {\n",
       "        vertical-align: middle;\n",
       "    }\n",
       "\n",
       "    .dataframe tbody tr th {\n",
       "        vertical-align: top;\n",
       "    }\n",
       "\n",
       "    .dataframe thead th {\n",
       "        text-align: right;\n",
       "    }\n",
       "</style>\n",
       "<table border=\"1\" class=\"dataframe\">\n",
       "  <thead>\n",
       "    <tr style=\"text-align: right;\">\n",
       "      <th></th>\n",
       "      <th>participant_id</th>\n",
       "      <th>minutes_spent_sleeping</th>\n",
       "    </tr>\n",
       "  </thead>\n",
       "  <tbody>\n",
       "    <tr>\n",
       "      <th>0</th>\n",
       "      <td>20180101180006</td>\n",
       "      <td>480</td>\n",
       "    </tr>\n",
       "    <tr>\n",
       "      <th>1</th>\n",
       "      <td>20180101180021</td>\n",
       "      <td>450</td>\n",
       "    </tr>\n",
       "    <tr>\n",
       "      <th>2</th>\n",
       "      <td>20180101180025</td>\n",
       "      <td>845</td>\n",
       "    </tr>\n",
       "    <tr>\n",
       "      <th>3</th>\n",
       "      <td>20180101180054</td>\n",
       "      <td>615</td>\n",
       "    </tr>\n",
       "    <tr>\n",
       "      <th>4</th>\n",
       "      <td>20180101180096</td>\n",
       "      <td>480</td>\n",
       "    </tr>\n",
       "  </tbody>\n",
       "</table>\n",
       "</div>"
      ],
      "text/plain": [
       "   participant_id  minutes_spent_sleeping\n",
       "0  20180101180006                     480\n",
       "1  20180101180021                     450\n",
       "2  20180101180025                     845\n",
       "3  20180101180054                     615\n",
       "4  20180101180096                     480"
      ]
     },
     "execution_count": 3,
     "metadata": {},
     "output_type": "execute_result"
    }
   ],
   "source": [
    "time_use_sample.head()"
   ]
  },
  {
   "cell_type": "markdown",
   "metadata": {},
   "source": [
    "Let's take a look at the distribution of reported sleeping times."
   ]
  },
  {
   "cell_type": "code",
   "execution_count": 4,
   "metadata": {},
   "outputs": [
    {
     "data": {
      "image/png": "[encoded data removed]",
      "text/plain": [
       "<Figure size 432x288 with 1 Axes>"
      ]
     },
     "metadata": {
      "needs_background": "light"
     },
     "output_type": "display_data"
    }
   ],
   "source": [
    "time_use_sample.minutes_spent_sleeping.hist();"
   ]
  },
  {
   "cell_type": "code",
   "execution_count": 5,
   "metadata": {},
   "outputs": [
    {
     "data": {
      "text/html": [
       "<div>\n",
       "<style scoped>\n",
       "    .dataframe tbody tr th:only-of-type {\n",
       "        vertical-align: middle;\n",
       "    }\n",
       "\n",
       "    .dataframe tbody tr th {\n",
       "        vertical-align: top;\n",
       "    }\n",
       "\n",
       "    .dataframe thead th {\n",
       "        text-align: right;\n",
       "    }\n",
       "</style>\n",
       "<table border=\"1\" class=\"dataframe\">\n",
       "  <thead>\n",
       "    <tr style=\"text-align: right;\">\n",
       "      <th></th>\n",
       "      <th>participant_id</th>\n",
       "      <th>minutes_spent_sleeping</th>\n",
       "    </tr>\n",
       "  </thead>\n",
       "  <tbody>\n",
       "    <tr>\n",
       "      <th>count</th>\n",
       "      <td>2.000000e+01</td>\n",
       "      <td>20.00000</td>\n",
       "    </tr>\n",
       "    <tr>\n",
       "      <th>mean</th>\n",
       "      <td>2.018010e+13</td>\n",
       "      <td>582.50000</td>\n",
       "    </tr>\n",
       "    <tr>\n",
       "      <th>std</th>\n",
       "      <td>3.136922e+02</td>\n",
       "      <td>176.33864</td>\n",
       "    </tr>\n",
       "    <tr>\n",
       "      <th>min</th>\n",
       "      <td>2.018010e+13</td>\n",
       "      <td>350.00000</td>\n",
       "    </tr>\n",
       "    <tr>\n",
       "      <th>25%</th>\n",
       "      <td>2.018010e+13</td>\n",
       "      <td>480.00000</td>\n",
       "    </tr>\n",
       "    <tr>\n",
       "      <th>50%</th>\n",
       "      <td>2.018010e+13</td>\n",
       "      <td>540.00000</td>\n",
       "    </tr>\n",
       "    <tr>\n",
       "      <th>75%</th>\n",
       "      <td>2.018010e+13</td>\n",
       "      <td>588.75000</td>\n",
       "    </tr>\n",
       "    <tr>\n",
       "      <th>max</th>\n",
       "      <td>2.018010e+13</td>\n",
       "      <td>1085.00000</td>\n",
       "    </tr>\n",
       "  </tbody>\n",
       "</table>\n",
       "</div>"
      ],
      "text/plain": [
       "       participant_id  minutes_spent_sleeping\n",
       "count    2.000000e+01                20.00000\n",
       "mean     2.018010e+13               582.50000\n",
       "std      3.136922e+02               176.33864\n",
       "min      2.018010e+13               350.00000\n",
       "25%      2.018010e+13               480.00000\n",
       "50%      2.018010e+13               540.00000\n",
       "75%      2.018010e+13               588.75000\n",
       "max      2.018010e+13              1085.00000"
      ]
     },
     "execution_count": 5,
     "metadata": {},
     "output_type": "execute_result"
    }
   ],
   "source": [
    "time_use_sample.describe()"
   ]
  },
  {
   "cell_type": "markdown",
   "metadata": {},
   "source": [
    "On average, in this sample, people reported sleeping for an average of 582.5 minutes, but there was quite a bit of variability, with the standard deviation being 176 minutes.\n",
    "\n",
    "Our sample mean was significantly higher (by almost an hour) than the overall average of 527 minutes. However, the high variability of the responses suggests that this difference may be due to sampling error and because of a true difference in the population."
   ]
  },
  {
   "cell_type": "markdown",
   "metadata": {},
   "source": [
    "To run the hypothesis test, we need to quantify how unusual the observed values would be if the null hypothesis were true. You can do this by looking at what the **sampling distribution of the mean** would be, under the null hypothesis. Recall from the confidence intervals section that, as long as the population is approximately normal, or we have a large enough sample size, we can use a $t$-distribution to understand the sampling distribution of the mean.\n",
    "\n",
    "Specifically, \n",
    "$$t = \\frac{\\bar{x} - \\mu}{s/\\sqrt{n}}$$ \n",
    "\n",
    "follows a $t$-distribution with $n-1$ degrees of freedom, where $n$ is the sample size. Here $t$ is your **test statistic** and will be the basis for determining whether or not to reject the null hypothesis.\n",
    "\n",
    "The sample distribution in this case is slightly skewed to the right, but looks close enough to normal that we should be okay in using a $t$-test. Let's look at what the distribution of our test statistic would look like if the null hypothesis were true."
   ]
  },
  {
   "cell_type": "code",
   "execution_count": 6,
   "metadata": {},
   "outputs": [],
   "source": [
    "from scipy.stats import t"
   ]
  },
  {
   "cell_type": "code",
   "execution_count": 7,
   "metadata": {},
   "outputs": [
    {
     "data": {
      "image/png": "[encoded data removed]",
      "text/plain": [
       "<Figure size 432x288 with 1 Axes>"
      ]
     },
     "metadata": {
      "needs_background": "light"
     },
     "output_type": "display_data"
    }
   ],
   "source": [
    "x = np.linspace(start = -3, stop = 3, num = 150)\n",
    "y = t.pdf(x, df = len(time_use_sample) - 1)\n",
    "\n",
    "plt.title('Sample Distribution of $t$, Assuming $H_0$')\n",
    "\n",
    "plt.plot(x,y);"
   ]
  },
  {
   "cell_type": "markdown",
   "metadata": {},
   "source": [
    "Now, let's calculate our test statistic so we can see where it lands on this plot."
   ]
  },
  {
   "cell_type": "code",
   "execution_count": 8,
   "metadata": {},
   "outputs": [
    {
     "name": "stdout",
     "output_type": "stream",
     "text": [
      "1.407539188071736\n"
     ]
    }
   ],
   "source": [
    "x_bar = time_use_sample.minutes_spent_sleeping.mean()\n",
    "s = time_use_sample.minutes_spent_sleeping.std()\n",
    "\n",
    "t_value = (x_bar - 527)/(s / np.sqrt(len(time_use_sample)))\n",
    "print(t_value)"
   ]
  },
  {
   "cell_type": "markdown",
   "metadata": {},
   "source": [
    "What you see is that the observed value is 1.407. Just how unusual would this be, if the null hypothesis were true? First, let's see where the test statistic lands on the sampling distribution of the mean. You can do this using the hypot_plot_mean function imported from nssstats.plots."
   ]
  },
  {
   "cell_type": "code",
   "execution_count": 9,
   "metadata": {},
   "outputs": [],
   "source": [
    "from nssstats.plots import hypot_plot_mean "
   ]
  },
  {
   "cell_type": "code",
   "execution_count": 10,
   "metadata": {},
   "outputs": [
    {
     "data": {
      "image/png": "[encoded data removed]",
      "text/plain": [
       "<Figure size 576x288 with 1 Axes>"
      ]
     },
     "metadata": {},
     "output_type": "display_data"
    }
   ],
   "source": [
    "hypot_plot_mean(time_use_sample.minutes_spent_sleeping, popmean=527, type = 'right', area = False)"
   ]
  },
  {
   "cell_type": "markdown",
   "metadata": {},
   "source": [
    "Recall that the $p$-value quantifies how unusual our observation would be, if the null hypothesis were true. That is, how likely it would be to see a sample mean as extreme or more extreme. Since we are doing a one-tailed test, more extreme would correspond to a sample test statistic to the right of our observed test statistic. How likely is that? The likelihood is equal to the area under the curve to the right of the observed test statistic.\n",
    "\n",
    "We can find that area using the cumulative distribution funtion for the $t$ distribution with 19 degrees of freedom (one fewer than the sample size). Since you are calculating area to the right, you need to use the trick where you subtract the cdf value from 1."
   ]
  },
  {
   "cell_type": "code",
   "execution_count": 11,
   "metadata": {},
   "outputs": [
    {
     "data": {
      "text/plain": [
       "0.08770886698597757"
      ]
     },
     "execution_count": 11,
     "metadata": {},
     "output_type": "execute_result"
    }
   ],
   "source": [
    "1 - t.cdf(t_value, df = len(time_use_sample) - 1)"
   ]
  },
  {
   "cell_type": "code",
   "execution_count": 12,
   "metadata": {},
   "outputs": [
    {
     "data": {
      "image/png": "[encoded data removed]",
      "text/plain": [
       "<Figure size 576x288 with 1 Axes>"
      ]
     },
     "metadata": {},
     "output_type": "display_data"
    }
   ],
   "source": [
    "hypot_plot_mean(time_use_sample.minutes_spent_sleeping, popmean=527, type = 'right')"
   ]
  },
  {
   "cell_type": "markdown",
   "metadata": {},
   "source": [
    "What we can see is that, if the null hypothesis is true, we would see something at least as extreme as our sample mean almost 9% of the time. This is not less than the threshold of 5%, so you should not reject the null hypothesis. We do not have sufficient evidence to conslude that unemployed people sleep more on average than the general population. \n",
    "\n",
    "Above, you manually calculated the test statistic and $p$-value, but in practice you can use the `ttest_1samp` function from scipy stats."
   ]
  },
  {
   "cell_type": "code",
   "execution_count": 13,
   "metadata": {},
   "outputs": [],
   "source": [
    "from scipy.stats import ttest_1samp"
   ]
  },
  {
   "cell_type": "markdown",
   "metadata": {},
   "source": [
    "To use this function, you need to pass in the column containing the data you want to test. In this case, that is `time_use_sample.minutes_spent_sleeping`. You also need to pass in the population mean under the null hypothesis. In this case, the hypothesized mean is 527.\n",
    "\n",
    "Warning - the function `ttest_1samp` does only two-sided tests. This means that we are checking whether the mean is not equal to the proposed population mean. By symmetry of $t$-distributions, we can adjust by cutting the reported $p$-value in half."
   ]
  },
  {
   "cell_type": "code",
   "execution_count": 14,
   "metadata": {},
   "outputs": [
    {
     "data": {
      "text/plain": [
       "Ttest_1sampResult(statistic=1.4075391880717358, pvalue=0.1754177339719552)"
      ]
     },
     "execution_count": 14,
     "metadata": {},
     "output_type": "execute_result"
    }
   ],
   "source": [
    "t_result = ttest_1samp(time_use_sample.minutes_spent_sleeping, popmean = 527)\n",
    "t_result"
   ]
  },
  {
   "cell_type": "markdown",
   "metadata": {},
   "source": [
    "What does this mean? Well, first we must divide the reported $p$-value in half since we are conducting a one-sided test."
   ]
  },
  {
   "cell_type": "code",
   "execution_count": 15,
   "metadata": {},
   "outputs": [
    {
     "data": {
      "text/plain": [
       "0.0877088669859776"
      ]
     },
     "execution_count": 15,
     "metadata": {},
     "output_type": "execute_result"
    }
   ],
   "source": [
    "t_result.pvalue / 2"
   ]
  },
  {
   "cell_type": "markdown",
   "metadata": {},
   "source": [
    "Based on the results of this test, we see that, even if the true mean is only 527, we will see a sample mean of at least 582.5 8.77% of the time. \n",
    "\n",
    "The standard is to only reject the null hypothesis if there is less than a 5% chance of the sample mean being as large as it was. In this case, we do not have enough evidence to  reject to conclude that unemployed people get more sleep than the general population."
   ]
  },
  {
   "cell_type": "markdown",
   "metadata": {},
   "source": [
    "Let's try to understand why, even though there was such large difference (almost an hour), we were not able to conclude that this difference really exists. It has to do with two factors:\n",
    "\n",
    "* First, we had a very large sample standard deviation (120 minutes). When there is a lot of variability in the population, we get a wider sampling distribution, meaning that is it more likely for a given sample mean to be much different from the population mean.\n",
    "\n",
    "* Second, we have a small sample size. The sampling distribution of the mean's variance is inversely proportional to the sample size, so a small sample size results in a large variance in the sampling distribution, and hence, more likelihood of sample means far from the population mean."
   ]
  },
  {
   "cell_type": "markdown",
   "metadata": {},
   "source": [
    "Let's repeat this analysis, but this time with a larger sample size."
   ]
  },
  {
   "cell_type": "code",
   "execution_count": 16,
   "metadata": {},
   "outputs": [],
   "source": [
    "time_use_sample = pd.read_csv('../data/time_use_sample_b.csv')"
   ]
  },
  {
   "cell_type": "code",
   "execution_count": 17,
   "metadata": {},
   "outputs": [
    {
     "data": {
      "text/plain": [
       "count    1000.000000\n",
       "mean      539.354000\n",
       "std       149.885391\n",
       "min         0.000000\n",
       "25%       450.000000\n",
       "50%       540.000000\n",
       "75%       615.000000\n",
       "max      1350.000000\n",
       "Name: minutes_spent_sleeping, dtype: float64"
      ]
     },
     "execution_count": 17,
     "metadata": {},
     "output_type": "execute_result"
    }
   ],
   "source": [
    "time_use_sample.minutes_spent_sleeping.describe()"
   ]
  },
  {
   "cell_type": "code",
   "execution_count": 18,
   "metadata": {},
   "outputs": [
    {
     "data": {
      "image/png": "[encoded data removed]",
      "text/plain": [
       "<Figure size 432x288 with 1 Axes>"
      ]
     },
     "metadata": {
      "needs_background": "light"
     },
     "output_type": "display_data"
    }
   ],
   "source": [
    "time_use_sample.minutes_spent_sleeping.hist();"
   ]
  },
  {
   "cell_type": "code",
   "execution_count": 19,
   "metadata": {},
   "outputs": [
    {
     "data": {
      "text/plain": [
       "Ttest_1sampResult(statistic=2.606443367042204, pvalue=0.009285015789459897)"
      ]
     },
     "execution_count": 19,
     "metadata": {},
     "output_type": "execute_result"
    }
   ],
   "source": [
    "t_result = ttest_1samp(time_use_sample.minutes_spent_sleeping, popmean = 527)\n",
    "t_result"
   ]
  },
  {
   "cell_type": "code",
   "execution_count": 20,
   "metadata": {},
   "outputs": [
    {
     "data": {
      "text/plain": [
       "0.004642507894729949"
      ]
     },
     "execution_count": 20,
     "metadata": {},
     "output_type": "execute_result"
    }
   ],
   "source": [
    "t_result.pvalue / 2"
   ]
  },
  {
   "cell_type": "code",
   "execution_count": 21,
   "metadata": {},
   "outputs": [
    {
     "data": {
      "image/png": "[encoded data removed]",
      "text/plain": [
       "<Figure size 576x288 with 1 Axes>"
      ]
     },
     "metadata": {},
     "output_type": "display_data"
    }
   ],
   "source": [
    "hypot_plot_mean(time_use_sample.minutes_spent_sleeping, popmean = 527, type = 'right')"
   ]
  },
  {
   "cell_type": "markdown",
   "metadata": {},
   "source": [
    "This time, we still have a very large sample standard deviation, but our sample size is so large, that the sampling distribution will have much lower variance.\n",
    "\n",
    "The $p$-value that we get shows that, if unemployed people slept on average for 527 minutes, there would only be a 0.5% chance of observing a sample mean at least as large as the one that we observed.\n",
    "\n",
    "This means that we can reject the null hypothesis in favor of the alternative hypothesis."
   ]
  },
  {
   "cell_type": "markdown",
   "metadata": {},
   "source": [
    "## Two-Sample Tests\n",
    "\n",
    "Oftentimes, we will be testing to see if there is a difference between two populations. For example, we might want to compare amount of time spent sleeping by the male population vs the female population from the American Time Use Survey. In this case, we won't specify a direction for the difference. That is, we won't test that males get more sleep that females or vice versa. We'll only test that there is some difference. This means that we are doing a two-tailed test."
   ]
  },
  {
   "cell_type": "markdown",
   "metadata": {},
   "source": [
    "Before bringing in the data, let's state the null and alternative hypotheses. Remember that the null hypothesis says that there is no difference between the population means. Let $\\mu_M$ represent the average time spent sleeping by males and $\\mu_F$ represent the average time spent sleeping by females.\n",
    "\n",
    "**Null Hypothesis:**\n",
    "\n",
    "$H_0: \\mu_M = \\mu_F$\n",
    "\n",
    "**Alternative Hypothesis:**\n",
    "\n",
    "$H_A: \\mu_M \\neq \\mu_F$"
   ]
  },
  {
   "cell_type": "markdown",
   "metadata": {},
   "source": [
    "Now, you can bring in the data, which is a sample of 25 men and 25 women along with the amount of time they reported sleeping."
   ]
  },
  {
   "cell_type": "code",
   "execution_count": 22,
   "metadata": {},
   "outputs": [],
   "source": [
    "sleeping = pd.read_csv('../data/atus_sleeping.csv')"
   ]
  },
  {
   "cell_type": "markdown",
   "metadata": {},
   "source": [
    "First, we can look at some summary statistics."
   ]
  },
  {
   "cell_type": "code",
   "execution_count": 23,
   "metadata": {},
   "outputs": [
    {
     "data": {
      "text/html": [
       "<div>\n",
       "<style scoped>\n",
       "    .dataframe tbody tr th:only-of-type {\n",
       "        vertical-align: middle;\n",
       "    }\n",
       "\n",
       "    .dataframe tbody tr th {\n",
       "        vertical-align: top;\n",
       "    }\n",
       "\n",
       "    .dataframe thead th {\n",
       "        text-align: right;\n",
       "    }\n",
       "</style>\n",
       "<table border=\"1\" class=\"dataframe\">\n",
       "  <thead>\n",
       "    <tr style=\"text-align: right;\">\n",
       "      <th></th>\n",
       "      <th>count</th>\n",
       "      <th>mean</th>\n",
       "      <th>std</th>\n",
       "      <th>min</th>\n",
       "      <th>25%</th>\n",
       "      <th>50%</th>\n",
       "      <th>75%</th>\n",
       "      <th>max</th>\n",
       "    </tr>\n",
       "    <tr>\n",
       "      <th>sex</th>\n",
       "      <th></th>\n",
       "      <th></th>\n",
       "      <th></th>\n",
       "      <th></th>\n",
       "      <th></th>\n",
       "      <th></th>\n",
       "      <th></th>\n",
       "      <th></th>\n",
       "    </tr>\n",
       "  </thead>\n",
       "  <tbody>\n",
       "    <tr>\n",
       "      <th>Female</th>\n",
       "      <td>25.0</td>\n",
       "      <td>582.32</td>\n",
       "      <td>127.678868</td>\n",
       "      <td>330.0</td>\n",
       "      <td>500.0</td>\n",
       "      <td>584.0</td>\n",
       "      <td>660.0</td>\n",
       "      <td>955.0</td>\n",
       "    </tr>\n",
       "    <tr>\n",
       "      <th>Male</th>\n",
       "      <td>25.0</td>\n",
       "      <td>519.60</td>\n",
       "      <td>169.033774</td>\n",
       "      <td>270.0</td>\n",
       "      <td>420.0</td>\n",
       "      <td>485.0</td>\n",
       "      <td>629.0</td>\n",
       "      <td>1030.0</td>\n",
       "    </tr>\n",
       "  </tbody>\n",
       "</table>\n",
       "</div>"
      ],
      "text/plain": [
       "        count    mean         std    min    25%    50%    75%     max\n",
       "sex                                                                  \n",
       "Female   25.0  582.32  127.678868  330.0  500.0  584.0  660.0   955.0\n",
       "Male     25.0  519.60  169.033774  270.0  420.0  485.0  629.0  1030.0"
      ]
     },
     "execution_count": 23,
     "metadata": {},
     "output_type": "execute_result"
    }
   ],
   "source": [
    "sleeping.groupby('sex')['minutes_spent_sleeping'].describe()"
   ]
  },
  {
   "cell_type": "code",
   "execution_count": 24,
   "metadata": {},
   "outputs": [],
   "source": [
    "import seaborn as sns"
   ]
  },
  {
   "cell_type": "code",
   "execution_count": 25,
   "metadata": {},
   "outputs": [
    {
     "data": {
      "image/png": "[encoded data removed]",
      "text/plain": [
       "<Figure size 432x288 with 1 Axes>"
      ]
     },
     "metadata": {
      "needs_background": "light"
     },
     "output_type": "display_data"
    }
   ],
   "source": [
    "sns.boxplot(data = sleeping, x = 'sex', y = 'minutes_spent_sleeping');"
   ]
  },
  {
   "cell_type": "markdown",
   "metadata": {},
   "source": [
    "We also need to look at our data to  ensure that it looks reasonably normally distributed."
   ]
  },
  {
   "cell_type": "code",
   "execution_count": 26,
   "metadata": {},
   "outputs": [
    {
     "data": {
      "image/png": "[encoded data removed]",
      "text/plain": [
       "<Figure size 432x288 with 1 Axes>"
      ]
     },
     "metadata": {
      "needs_background": "light"
     },
     "output_type": "display_data"
    }
   ],
   "source": [
    "sleeping.loc[sleeping['sex'] == 'Male', 'minutes_spent_sleeping'].hist();"
   ]
  },
  {
   "cell_type": "code",
   "execution_count": 27,
   "metadata": {},
   "outputs": [
    {
     "data": {
      "image/png": "[encoded data removed]",
      "text/plain": [
       "<Figure size 432x288 with 1 Axes>"
      ]
     },
     "metadata": {
      "needs_background": "light"
     },
     "output_type": "display_data"
    }
   ],
   "source": [
    "sleeping.loc[sleeping['sex'] == 'Female', 'minutes_spent_sleeping'].hist();"
   ]
  },
  {
   "cell_type": "markdown",
   "metadata": {},
   "source": [
    "There does appear to be a difference between males and females in terms of the amount of time spent sleeping. However, there is quite a bit of variability in our datasets, so we need to check to see how likely the difference that we observe is due simply to the randomness inherent in sampling."
   ]
  },
  {
   "cell_type": "markdown",
   "metadata": {},
   "source": [
    "Before you can proceed, you need to know what test statistic to calculate. In this case, you are trying to say something about the difference in means between males and females, so it would make sense for the test statistic to involve this difference.\n",
    "\n",
    "You already know that you can use a $t$-distribution to make inferences about a single mean. It turns out that you can also use a $t$-distribution to make inferences about the difference in sample means, also. \n",
    "\n",
    "To calculate the test statistic, you also need to know the standard error of the difference in means. That is, how much variance will there be in the difference between sample means? There are a number of different formulas to estimate the standard error, but the safest to use in most cases is Welch's formula, which does not assume equal variances from the population. This means that you need to calculate a pooled standard deviation. This is calculated as\n",
    "\n",
    "$$s = \\sqrt{\\frac{s_1^2}{N_1} + \\frac{s_2^2}{N_2}}$$\n",
    "\n",
    "where $s_1$ and $s_2$ are the sample standard deviations and $N_1$ and $N_2$ are the sample sizes.\n",
    "\n",
    "Putting all of this together, our test statistic will be\n",
    "\n",
    "$$t = \\frac{\\bar{x}_1 - \\bar{x}_2}{s}$$"
   ]
  },
  {
   "cell_type": "code",
   "execution_count": 33,
   "metadata": {},
   "outputs": [
    {
     "data": {
      "text/plain": [
       "42.36711460555227"
      ]
     },
     "execution_count": 33,
     "metadata": {},
     "output_type": "execute_result"
    }
   ],
   "source": [
    "x1 = sleeping.loc[sleeping['sex'] == 'Male', 'minutes_spent_sleeping'].mean()\n",
    "s1 = sleeping.loc[sleeping['sex'] == 'Male', 'minutes_spent_sleeping'].std()\n",
    "n1 = sleeping.loc[sleeping['sex'] == 'Male', 'minutes_spent_sleeping'].count()\n",
    "\n",
    "x2 = sleeping.loc[sleeping['sex'] == 'Female', 'minutes_spent_sleeping'].mean()\n",
    "s2 = sleeping.loc[sleeping['sex'] == 'Female', 'minutes_spent_sleeping'].std()\n",
    "n2 = sleeping.loc[sleeping['sex'] == 'Female', 'minutes_spent_sleeping'].count()\n",
    "\n",
    "s = np.sqrt(s1**2 / n1 + s2**2 / n2)\n",
    "s"
   ]
  },
  {
   "cell_type": "code",
   "execution_count": 34,
   "metadata": {},
   "outputs": [
    {
     "data": {
      "text/plain": [
       "-1.4803934746073193"
      ]
     },
     "execution_count": 34,
     "metadata": {},
     "output_type": "execute_result"
    }
   ],
   "source": [
    "t_value = (x1 - x2) / s \n",
    "t_value"
   ]
  },
  {
   "cell_type": "markdown",
   "metadata": {},
   "source": [
    "Now we must determine how unusual this test statistic would be if there were no difference population means. First, let's see where our test statistic is on the plot of the sampling distribution."
   ]
  },
  {
   "cell_type": "code",
   "execution_count": 35,
   "metadata": {},
   "outputs": [],
   "source": [
    "from nssstats.plots import hypot_plot_mean_2sample"
   ]
  },
  {
   "cell_type": "code",
   "execution_count": 36,
   "metadata": {},
   "outputs": [
    {
     "data": {
      "image/png": "[encoded data removed]",
      "text/plain": [
       "<Figure size 576x288 with 1 Axes>"
      ]
     },
     "metadata": {},
     "output_type": "display_data"
    }
   ],
   "source": [
    "hypot_plot_mean_2sample(sleeping.loc[sleeping.sex == 'Male', 'minutes_spent_sleeping'],\n",
    "                       sleeping.loc[sleeping.sex == 'Female', 'minutes_spent_sleeping'], \n",
    "                        type='both', area = False)"
   ]
  },
  {
   "cell_type": "markdown",
   "metadata": {},
   "source": [
    "Since you are doing a two-tailed test, \"more extreme\" means either to the left of the observed test statistic *or* to the right of the absolute value of the test statistic. We can calculate this using the cdf for the appropriate $t$-distribution and taking advantage of the fact that it is symmetric."
   ]
  },
  {
   "cell_type": "markdown",
   "metadata": {},
   "source": [
    "You also need to know the number of degrees of freedom for the corresponding $t$-distribution. When using Welch's formula, the number of degrees of freedom is somewhat complicated, given by the following expression:\n",
    "\n",
    "$$df = \\left(\\frac{S_1^2}{n_1}+ \\frac{S_2^2}{n_2}\\right)^2 / \\left(\\frac{S_1^4}{n_1^2(n_1-1)} + \\frac{S_2^4}{n_2^2(n_2-1)} \\right)$$"
   ]
  },
  {
   "cell_type": "code",
   "execution_count": 43,
   "metadata": {},
   "outputs": [
    {
     "data": {
      "text/plain": [
       "44.66069504954623"
      ]
     },
     "execution_count": 43,
     "metadata": {},
     "output_type": "execute_result"
    }
   ],
   "source": [
    "df = (s1**2/n1 + s2**2/n2)**2 / (s1**4 / (n1**2*(n1 - 1)) + s2**4/(n2**2*(n2-1)))\n",
    "df"
   ]
  },
  {
   "cell_type": "code",
   "execution_count": 44,
   "metadata": {},
   "outputs": [
    {
     "data": {
      "text/plain": [
       "0.14578885880640693"
      ]
     },
     "execution_count": 44,
     "metadata": {},
     "output_type": "execute_result"
    }
   ],
   "source": [
    "2*t.cdf(t_value, df = df)"
   ]
  },
  {
   "cell_type": "code",
   "execution_count": 45,
   "metadata": {
    "scrolled": true
   },
   "outputs": [
    {
     "data": {
      "image/png": "[encoded data removed]",
      "text/plain": [
       "<Figure size 576x288 with 1 Axes>"
      ]
     },
     "metadata": {},
     "output_type": "display_data"
    }
   ],
   "source": [
    "hypot_plot_mean_2sample(sleeping.loc[sleeping.sex == 'Male', 'minutes_spent_sleeping'],\n",
    "                       sleeping.loc[sleeping.sex == 'Female', 'minutes_spent_sleeping'], type='both')"
   ]
  },
  {
   "cell_type": "markdown",
   "metadata": {},
   "source": [
    "This says that if the null hypothesis is true and there is not difference in average sleeping times, you can expect to see a difference as large as what you observed more than 14% of the time. This is not particularly compelling evidence that the null is not true. You should not reject the null. There is not enough evidence to conclude that there is a difference in average sleeping times between males and females."
   ]
  },
  {
   "cell_type": "markdown",
   "metadata": {},
   "source": [
    "Again, in practice you will usually want to use the scipy stats function for this type of hypothesis test. In this case, you would use the `ttest_ind` since you are testing something about two independent samples. Note that when using this function, you need to specify equal_var = False to perform a Welch $t$-test."
   ]
  },
  {
   "cell_type": "code",
   "execution_count": 46,
   "metadata": {},
   "outputs": [],
   "source": [
    "from scipy.stats import ttest_ind"
   ]
  },
  {
   "cell_type": "code",
   "execution_count": 47,
   "metadata": {},
   "outputs": [
    {
     "data": {
      "text/plain": [
       "Ttest_indResult(statistic=-1.4803934746073193, pvalue=0.14578885880640693)"
      ]
     },
     "execution_count": 47,
     "metadata": {},
     "output_type": "execute_result"
    }
   ],
   "source": [
    "t_results = ttest_ind(sleeping.loc[sleeping.sex == 'Male', 'minutes_spent_sleeping'],\n",
    "                      sleeping.loc[sleeping.sex == 'Female', 'minutes_spent_sleeping'],\n",
    "                     equal_var = False)\n",
    "t_results"
   ]
  },
  {
   "cell_type": "markdown",
   "metadata": {},
   "source": [
    "What this tells us is that if the hypothesis that there is no difference between the population means is true, then we would only see a difference at least as large as the one we observed in our dataset 14.58% of the time. This does not meet the 5% threshold, so based on our sample we cannot conclude that there is a statistically significant difference between the average number of minutes spent sleeping between males and females."
   ]
  },
  {
   "cell_type": "code",
   "execution_count": null,
   "metadata": {},
   "outputs": [],
   "source": []
  },
  {
   "cell_type": "markdown",
   "metadata": {},
   "source": [
    "## Hypothesis Testing for Proportion\n",
    "\n",
    "We can not only test a hypothesis about a mean, but also about a proportion. Let's look at the squirrel census data again.\n",
    "\n",
    "A lot of people have never seen a black squirrel, so me might hypothesize that black squirrels are more skittish and run from humans more frequently.\n",
    "\n",
    "Let's formally state this as a null and alternative hypothesis.\n",
    "\n",
    "**Null Hypothesis:** There is no difference in the proportion of black squirrels who run compared to the proportion of other other colors of squirrels who run.\n",
    "$$H_0: p_{black} = p_{other}$$\n",
    "\n",
    "**Alternative Hypothesis:** The proportion of black squirrels who run is higher than the proportion of other color colors of squirrels who run.\n",
    "$$H_1: p_{black} > p_{other}$$\n",
    "\n",
    "Now, let's bring in the data."
   ]
  },
  {
   "cell_type": "code",
   "execution_count": 48,
   "metadata": {},
   "outputs": [],
   "source": [
    "squirrels = pd.read_csv('../data/2018_Central_Park_Squirrel_Census_-_Squirrel_Data.csv')"
   ]
  },
  {
   "cell_type": "code",
   "execution_count": 49,
   "metadata": {},
   "outputs": [],
   "source": [
    "# Remove the rows with missing values for the Fur Color\n",
    "squirrels = squirrels[~squirrels['Primary Fur Color'].isna()]\n",
    "\n",
    "# Create a Boolean column indicating whether a squirrel's primary fur color is black\n",
    "squirrels['Black'] = squirrels['Primary Fur Color'] == 'Black'"
   ]
  },
  {
   "cell_type": "markdown",
   "metadata": {},
   "source": [
    "Let's run a cross-tabulation to see how often black squirrels run compared to other colors."
   ]
  },
  {
   "cell_type": "code",
   "execution_count": 50,
   "metadata": {},
   "outputs": [
    {
     "data": {
      "text/html": [
       "<div>\n",
       "<style scoped>\n",
       "    .dataframe tbody tr th:only-of-type {\n",
       "        vertical-align: middle;\n",
       "    }\n",
       "\n",
       "    .dataframe tbody tr th {\n",
       "        vertical-align: top;\n",
       "    }\n",
       "\n",
       "    .dataframe thead th {\n",
       "        text-align: right;\n",
       "    }\n",
       "</style>\n",
       "<table border=\"1\" class=\"dataframe\">\n",
       "  <thead>\n",
       "    <tr style=\"text-align: right;\">\n",
       "      <th>Black</th>\n",
       "      <th>False</th>\n",
       "      <th>True</th>\n",
       "      <th>All</th>\n",
       "    </tr>\n",
       "    <tr>\n",
       "      <th>Runs from</th>\n",
       "      <th></th>\n",
       "      <th></th>\n",
       "      <th></th>\n",
       "    </tr>\n",
       "  </thead>\n",
       "  <tbody>\n",
       "    <tr>\n",
       "      <th>False</th>\n",
       "      <td>2227</td>\n",
       "      <td>71</td>\n",
       "      <td>2298</td>\n",
       "    </tr>\n",
       "    <tr>\n",
       "      <th>True</th>\n",
       "      <td>638</td>\n",
       "      <td>32</td>\n",
       "      <td>670</td>\n",
       "    </tr>\n",
       "    <tr>\n",
       "      <th>All</th>\n",
       "      <td>2865</td>\n",
       "      <td>103</td>\n",
       "      <td>2968</td>\n",
       "    </tr>\n",
       "  </tbody>\n",
       "</table>\n",
       "</div>"
      ],
      "text/plain": [
       "Black      False  True   All\n",
       "Runs from                   \n",
       "False       2227    71  2298\n",
       "True         638    32   670\n",
       "All         2865   103  2968"
      ]
     },
     "execution_count": 50,
     "metadata": {},
     "output_type": "execute_result"
    }
   ],
   "source": [
    "ct = pd.crosstab(squirrels['Runs from'], squirrels['Black'], margins = True)\n",
    "ct"
   ]
  },
  {
   "cell_type": "markdown",
   "metadata": {},
   "source": [
    "The columns of this table indicate whether a squirrel was black or not and the rows indicate whether that squirrel ran.\n",
    "\n",
    "Now, let's normalize by column to see the results as proportions."
   ]
  },
  {
   "cell_type": "code",
   "execution_count": 52,
   "metadata": {},
   "outputs": [
    {
     "data": {
      "text/html": [
       "<div>\n",
       "<style scoped>\n",
       "    .dataframe tbody tr th:only-of-type {\n",
       "        vertical-align: middle;\n",
       "    }\n",
       "\n",
       "    .dataframe tbody tr th {\n",
       "        vertical-align: top;\n",
       "    }\n",
       "\n",
       "    .dataframe thead th {\n",
       "        text-align: right;\n",
       "    }\n",
       "</style>\n",
       "<table border=\"1\" class=\"dataframe\">\n",
       "  <thead>\n",
       "    <tr style=\"text-align: right;\">\n",
       "      <th>Black</th>\n",
       "      <th>False</th>\n",
       "      <th>True</th>\n",
       "    </tr>\n",
       "    <tr>\n",
       "      <th>Runs from</th>\n",
       "      <th></th>\n",
       "      <th></th>\n",
       "    </tr>\n",
       "  </thead>\n",
       "  <tbody>\n",
       "    <tr>\n",
       "      <th>False</th>\n",
       "      <td>0.777312</td>\n",
       "      <td>0.68932</td>\n",
       "    </tr>\n",
       "    <tr>\n",
       "      <th>True</th>\n",
       "      <td>0.222688</td>\n",
       "      <td>0.31068</td>\n",
       "    </tr>\n",
       "  </tbody>\n",
       "</table>\n",
       "</div>"
      ],
      "text/plain": [
       "Black         False    True \n",
       "Runs from                   \n",
       "False      0.777312  0.68932\n",
       "True       0.222688  0.31068"
      ]
     },
     "execution_count": 52,
     "metadata": {},
     "output_type": "execute_result"
    }
   ],
   "source": [
    "pd.crosstab(squirrels['Runs from'], squirrels['Black'], normalize='columns')"
   ]
  },
  {
   "cell_type": "markdown",
   "metadata": {},
   "source": [
    "We can see that we observed that black squirrels were more likely to run. But do we have enough evidence to conclude that this holds for the entire squirrel population?"
   ]
  },
  {
   "cell_type": "markdown",
   "metadata": {},
   "source": [
    "We can test this using a `proportions_ztest` from the `statsmodels` library.\n",
    "\n",
    "We need to pass in an array containing the count of squirrels who ran in each group, then an array with the total number of observations per group, and finally, the alternative hypothesis direction.\n",
    "\n",
    "We can access the counts that we need by using the `.loc` accessor on the `ct` table we created earlier. To use `.loc`, you specify `ct.loc[<row label>, <column label>]`\n",
    "\n",
    "For example, to get the count of non-black squirrels who run, we can use"
   ]
  },
  {
   "cell_type": "code",
   "execution_count": 53,
   "metadata": {},
   "outputs": [
    {
     "data": {
      "text/plain": [
       "638"
      ]
     },
     "execution_count": 53,
     "metadata": {},
     "output_type": "execute_result"
    }
   ],
   "source": [
    "ct.loc[True, False]"
   ]
  },
  {
   "cell_type": "code",
   "execution_count": 55,
   "metadata": {},
   "outputs": [],
   "source": [
    "from statsmodels.stats.proportion import proportions_ztest"
   ]
  },
  {
   "cell_type": "code",
   "execution_count": 56,
   "metadata": {},
   "outputs": [
    {
     "name": "stdout",
     "output_type": "stream",
     "text": [
      "zscore = 2.099, pvalue = 0.018\n"
     ]
    }
   ],
   "source": [
    "counts = [ct.loc[True, True], ct.loc[True, False]]\n",
    "nobs = [ct.loc['All',True], ct.loc['All', False]]\n",
    "\n",
    "zscore, pvalue = proportions_ztest(counts, nobs, alternative = 'larger')\n",
    "print('zscore = {:.3f}, pvalue = {:.3f}'.format(zscore, pvalue))"
   ]
  },
  {
   "cell_type": "code",
   "execution_count": 57,
   "metadata": {},
   "outputs": [],
   "source": [
    "from nssstats.plots import hypot_plot_proportion_2sample"
   ]
  },
  {
   "cell_type": "code",
   "execution_count": 58,
   "metadata": {},
   "outputs": [
    {
     "data": {
      "image/png": "[encoded data removed]",
      "text/plain": [
       "<Figure size 576x288 with 1 Axes>"
      ]
     },
     "metadata": {},
     "output_type": "display_data"
    }
   ],
   "source": [
    "hypot_plot_proportion_2sample(counts, nobs, alternative = 'larger')"
   ]
  },
  {
   "cell_type": "markdown",
   "metadata": {},
   "source": [
    "What this tells us is that if there really is no difference in population proportions, we would see a difference this extreme only 1.8% of the time. Since this is below the 5% threshold, we can reject the null hypothesis in favor of the alternative and conclude that black squirrels are more likely to run away."
   ]
  }
 ],
 "metadata": {
  "kernelspec": {
   "display_name": "Python 3",
   "language": "python",
   "name": "python3"
  },
  "language_info": {
   "codemirror_mode": {
    "name": "ipython",
    "version": 3
   },
   "file_extension": ".py",
   "mimetype": "text/x-python",
   "name": "python",
   "nbconvert_exporter": "python",
   "pygments_lexer": "ipython3",
   "version": "3.7.4"
  }
 },
 "nbformat": 4,
 "nbformat_minor": 2
}
