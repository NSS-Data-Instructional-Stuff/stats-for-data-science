{
 "cells": [
  {
   "cell_type": "markdown",
   "metadata": {},
   "source": [
    "# Statistical Inference\n",
    "\n",
    "We saw in the slides how, if we understand the sampling distribution of a statistic, we can compute a confidence itnerval. In this notebook, we'll see how to use Python to create these confidence intervals."
   ]
  },
  {
   "cell_type": "markdown",
   "metadata": {},
   "source": [
    "## Confidence Intervals\n",
    "\n",
    "**Big Idea:** Create an interval so that C\\% of the time, the parameter of interest lands within that interval (C is the confidence level - typically 95\\% or 99\\%).\n",
    "\n",
    "A confidence interval lets us quantify the uncertainty associated with a point estimate. Wider interval means more uncertainty.\n",
    "\n",
    "**General Formula for Confidence Interval:**\n",
    "\n",
    "$$ \\text{point estimate} \\pm \\text{margin of error} $$\n",
    "\n",
    "$$ \\text{point estimate} \\pm \\text{standard error of estimate} \\cdot \\text{critical value}$$\n",
    "\n",
    "So we need to know the standard error of the estimate (which we can in some cases approximate via the Central Limit Theorem) and the critical value, which is tied to the desired confidence level.\n",
    "\n",
    "Higher confidence means larger critical value and hence, wider interval.\n",
    "\n",
    "Also, we know that the standard error the estimate shrinks as sample size increases, so we can get a narrower confidence interval by taking a larger sample."
   ]
  },
  {
   "cell_type": "code",
   "execution_count": 1,
   "metadata": {},
   "outputs": [],
   "source": [
    "import numpy as np\n",
    "import matplotlib.pyplot as plt\n",
    "import scipy.stats as stats\n",
    "import seaborn as sns\n",
    "%matplotlib inline"
   ]
  },
  {
   "cell_type": "markdown",
   "metadata": {},
   "source": [
    "## Confidence Intervals for the Mean\n",
    "\n",
    "We have seen from the slides how to create a confidence interval for the mean. In Python, we'll use the `t.interval` function from `scipy.stats`.\n"
   ]
  },
  {
   "cell_type": "code",
   "execution_count": 18,
   "metadata": {},
   "outputs": [],
   "source": [
    "from scipy.stats import t, norm, sem"
   ]
  },
  {
   "cell_type": "code",
   "execution_count": 4,
   "metadata": {},
   "outputs": [],
   "source": [
    "import pandas as pd\n",
    "import numpy as np\n",
    "import matplotlib.pyplot as plt\n",
    "%matplotlib inline"
   ]
  },
  {
   "cell_type": "markdown",
   "metadata": {},
   "source": [
    "In this example, we'll be using data from the [American Time Use Survey](https://www.bls.gov/tus/). Specifically, we'll be looking at a sample of 50 adults and the number of minutes they reported sleeping for the survey day."
   ]
  },
  {
   "cell_type": "code",
   "execution_count": 9,
   "metadata": {},
   "outputs": [],
   "source": [
    "sleeping = pd.read_csv('../data/atus_sleeping.csv')"
   ]
  },
  {
   "cell_type": "code",
   "execution_count": 10,
   "metadata": {},
   "outputs": [
    {
     "data": {
      "text/html": [
       "<div>\n",
       "<style scoped>\n",
       "    .dataframe tbody tr th:only-of-type {\n",
       "        vertical-align: middle;\n",
       "    }\n",
       "\n",
       "    .dataframe tbody tr th {\n",
       "        vertical-align: top;\n",
       "    }\n",
       "\n",
       "    .dataframe thead th {\n",
       "        text-align: right;\n",
       "    }\n",
       "</style>\n",
       "<table border=\"1\" class=\"dataframe\">\n",
       "  <thead>\n",
       "    <tr style=\"text-align: right;\">\n",
       "      <th></th>\n",
       "      <th>participant_id</th>\n",
       "      <th>minutes_spent_sleeping</th>\n",
       "      <th>sex</th>\n",
       "    </tr>\n",
       "  </thead>\n",
       "  <tbody>\n",
       "    <tr>\n",
       "      <th>0</th>\n",
       "      <td>20181211181182</td>\n",
       "      <td>270</td>\n",
       "      <td>Male</td>\n",
       "    </tr>\n",
       "    <tr>\n",
       "      <th>1</th>\n",
       "      <td>20180908180663</td>\n",
       "      <td>600</td>\n",
       "      <td>Male</td>\n",
       "    </tr>\n",
       "    <tr>\n",
       "      <th>2</th>\n",
       "      <td>20180706181412</td>\n",
       "      <td>355</td>\n",
       "      <td>Male</td>\n",
       "    </tr>\n",
       "    <tr>\n",
       "      <th>3</th>\n",
       "      <td>20181009181978</td>\n",
       "      <td>405</td>\n",
       "      <td>Male</td>\n",
       "    </tr>\n",
       "    <tr>\n",
       "      <th>4</th>\n",
       "      <td>20180503180964</td>\n",
       "      <td>270</td>\n",
       "      <td>Male</td>\n",
       "    </tr>\n",
       "  </tbody>\n",
       "</table>\n",
       "</div>"
      ],
      "text/plain": [
       "   participant_id  minutes_spent_sleeping   sex\n",
       "0  20181211181182                     270  Male\n",
       "1  20180908180663                     600  Male\n",
       "2  20180706181412                     355  Male\n",
       "3  20181009181978                     405  Male\n",
       "4  20180503180964                     270  Male"
      ]
     },
     "execution_count": 10,
     "metadata": {},
     "output_type": "execute_result"
    }
   ],
   "source": [
    "sleeping.head()"
   ]
  },
  {
   "cell_type": "markdown",
   "metadata": {},
   "source": [
    "First, let's look at the distribution of our sample values."
   ]
  },
  {
   "cell_type": "code",
   "execution_count": 11,
   "metadata": {},
   "outputs": [
    {
     "data": {
      "image/png": "[encoded data removed]",
      "text/plain": [
       "<Figure size 432x288 with 1 Axes>"
      ]
     },
     "metadata": {
      "needs_background": "light"
     },
     "output_type": "display_data"
    }
   ],
   "source": [
    "sleeping.minutes_spent_sleeping.hist();"
   ]
  },
  {
   "cell_type": "code",
   "execution_count": 12,
   "metadata": {},
   "outputs": [
    {
     "data": {
      "text/plain": [
       "550.96"
      ]
     },
     "execution_count": 12,
     "metadata": {},
     "output_type": "execute_result"
    }
   ],
   "source": [
    "sleeping.minutes_spent_sleeping.mean()"
   ]
  },
  {
   "cell_type": "code",
   "execution_count": 14,
   "metadata": {},
   "outputs": [
    {
     "data": {
      "text/plain": [
       "151.60070539925277"
      ]
     },
     "execution_count": 14,
     "metadata": {},
     "output_type": "execute_result"
    }
   ],
   "source": [
    "sleeping.minutes_spent_sleeping.std()"
   ]
  },
  {
   "cell_type": "markdown",
   "metadata": {},
   "source": [
    "We can see that on average, people in this sample slept for 550.96 minutes (9.18 hours), but there is a lot a variability in the reported values. Let's construct our confidence interval.\n",
    "\n",
    "For this, we need to specify 4 things:\n",
    "* alpha: The confidence level\n",
    "* df: The number of degrees of freedom for the $t$-distribution, equal to the the sample size - 1\n",
    "* loc: The sample mean\n",
    "* scale: The standard error, equal to $\\frac{s}{\\sqrt{n}}$ This can be calculated using the `sem` function. "
   ]
  },
  {
   "cell_type": "code",
   "execution_count": 46,
   "metadata": {},
   "outputs": [
    {
     "data": {
      "text/plain": [
       "(507.875556291199, 594.044443708801)"
      ]
     },
     "execution_count": 46,
     "metadata": {},
     "output_type": "execute_result"
    }
   ],
   "source": [
    "t.interval(alpha = 0.95, \n",
    "           df = len(sleeping.minutes_spent_sleeping) - 1, \n",
    "           loc = np.mean(sleeping.minutes_spent_sleeping), \n",
    "           scale = sem(sleeping.minutes_spent_sleeping))"
   ]
  },
  {
   "cell_type": "markdown",
   "metadata": {},
   "source": [
    "We can be 95% confident that the population mean is between 507 minutes and 594 minutes."
   ]
  },
  {
   "cell_type": "markdown",
   "metadata": {},
   "source": [
    "## Confidence Intervals for the Proportion\n",
    "\n",
    "For this example, we've got a sample of 250 participants in the 2015 [National Health and Nutrition Examination Survey](https://www.cdc.gov/nchs/nhanes/index.htm) who were at least 18 years old.\n",
    "\n",
    "Specifically, using this sample we would like to estimate the proportion of US adults who smoke. In this dataset, we have a column indicating whether the person smoked tobacco in the last five days, so we'll use this to make our estimate. In this column, a value of 1 indicates that the person did smoke in the last 5 days and a value of 2 indicates that they did not."
   ]
  },
  {
   "cell_type": "code",
   "execution_count": 17,
   "metadata": {},
   "outputs": [
    {
     "data": {
      "text/html": [
       "<div>\n",
       "<style scoped>\n",
       "    .dataframe tbody tr th:only-of-type {\n",
       "        vertical-align: middle;\n",
       "    }\n",
       "\n",
       "    .dataframe tbody tr th {\n",
       "        vertical-align: top;\n",
       "    }\n",
       "\n",
       "    .dataframe thead th {\n",
       "        text-align: right;\n",
       "    }\n",
       "</style>\n",
       "<table border=\"1\" class=\"dataframe\">\n",
       "  <thead>\n",
       "    <tr style=\"text-align: right;\">\n",
       "      <th></th>\n",
       "      <th>SEQN</th>\n",
       "      <th>age</th>\n",
       "      <th>smoked_in_last_5_days</th>\n",
       "    </tr>\n",
       "  </thead>\n",
       "  <tbody>\n",
       "    <tr>\n",
       "      <th>0</th>\n",
       "      <td>89458.0</td>\n",
       "      <td>70.0</td>\n",
       "      <td>2.0</td>\n",
       "    </tr>\n",
       "    <tr>\n",
       "      <th>1</th>\n",
       "      <td>93352.0</td>\n",
       "      <td>40.0</td>\n",
       "      <td>2.0</td>\n",
       "    </tr>\n",
       "    <tr>\n",
       "      <th>2</th>\n",
       "      <td>92045.0</td>\n",
       "      <td>40.0</td>\n",
       "      <td>2.0</td>\n",
       "    </tr>\n",
       "    <tr>\n",
       "      <th>3</th>\n",
       "      <td>86461.0</td>\n",
       "      <td>31.0</td>\n",
       "      <td>2.0</td>\n",
       "    </tr>\n",
       "    <tr>\n",
       "      <th>4</th>\n",
       "      <td>84212.0</td>\n",
       "      <td>67.0</td>\n",
       "      <td>2.0</td>\n",
       "    </tr>\n",
       "  </tbody>\n",
       "</table>\n",
       "</div>"
      ],
      "text/plain": [
       "      SEQN   age  smoked_in_last_5_days\n",
       "0  89458.0  70.0                    2.0\n",
       "1  93352.0  40.0                    2.0\n",
       "2  92045.0  40.0                    2.0\n",
       "3  86461.0  31.0                    2.0\n",
       "4  84212.0  67.0                    2.0"
      ]
     },
     "execution_count": 17,
     "metadata": {},
     "output_type": "execute_result"
    }
   ],
   "source": [
    "smoking = pd.read_csv('../data/NHANES_smoking.csv')\n",
    "smoking.head()"
   ]
  },
  {
   "cell_type": "code",
   "execution_count": null,
   "metadata": {},
   "outputs": [],
   "source": []
  },
  {
   "cell_type": "markdown",
   "metadata": {},
   "source": [
    "Confidence intervals for the proportion can be constructed using the `proportion_confint` function from the `statsmodels.stats.proportion` module."
   ]
  },
  {
   "cell_type": "code",
   "execution_count": 19,
   "metadata": {},
   "outputs": [],
   "source": [
    "from statsmodels.stats.proportion import proportion_confint"
   ]
  },
  {
   "cell_type": "markdown",
   "metadata": {},
   "source": [
    "To use this function, we need to specify\n",
    "* count: The number of \"successes\"\n",
    "* nobs: the total number of observations\n",
    "* alpha: 1 - confidence level\n",
    "\n",
    "**Warning:** This function treats alpha differently than the confidence interval function above, where alpha corresponded to the confidence level."
   ]
  },
  {
   "cell_type": "markdown",
   "metadata": {},
   "source": [
    "To get the count, we can make use the `value_counts` method."
   ]
  },
  {
   "cell_type": "code",
   "execution_count": 20,
   "metadata": {},
   "outputs": [
    {
     "data": {
      "text/plain": [
       "2.0    196\n",
       "1.0     54\n",
       "Name: smoked_in_last_5_days, dtype: int64"
      ]
     },
     "execution_count": 20,
     "metadata": {},
     "output_type": "execute_result"
    }
   ],
   "source": [
    "smoking.smoked_in_last_5_days.value_counts()"
   ]
  },
  {
   "cell_type": "markdown",
   "metadata": {},
   "source": [
    "If we want to view this as a proportion, we can use the `normalize = True` argument. "
   ]
  },
  {
   "cell_type": "code",
   "execution_count": 23,
   "metadata": {},
   "outputs": [
    {
     "data": {
      "text/plain": [
       "2.0    0.784\n",
       "1.0    0.216\n",
       "Name: smoked_in_last_5_days, dtype: float64"
      ]
     },
     "execution_count": 23,
     "metadata": {},
     "output_type": "execute_result"
    }
   ],
   "source": [
    "smoking.smoked_in_last_5_days.value_counts(normalize = True)"
   ]
  },
  {
   "cell_type": "markdown",
   "metadata": {},
   "source": [
    "We can see that in our sample, 21.6% of respondents indicated that they had smoked in the last 5 days. This value represents our _point estimate_."
   ]
  },
  {
   "cell_type": "markdown",
   "metadata": {},
   "source": [
    "If we want to get the count of people who did smoke in the last 5 days, we can use `.loc`"
   ]
  },
  {
   "cell_type": "code",
   "execution_count": 24,
   "metadata": {},
   "outputs": [
    {
     "data": {
      "text/plain": [
       "54"
      ]
     },
     "execution_count": 24,
     "metadata": {},
     "output_type": "execute_result"
    }
   ],
   "source": [
    "smoking.smoked_in_last_5_days.value_counts().loc[1]"
   ]
  },
  {
   "cell_type": "code",
   "execution_count": 25,
   "metadata": {},
   "outputs": [
    {
     "data": {
      "text/plain": [
       "(0.16498909910493145, 0.2670109008950685)"
      ]
     },
     "execution_count": 25,
     "metadata": {},
     "output_type": "execute_result"
    }
   ],
   "source": [
    "proportion_confint( count = smoking.smoked_in_last_5_days.value_counts().loc[1],\n",
    "                   nobs = len(smoking),\n",
    "                   alpha = 0.05\n",
    "                  )"
   ]
  },
  {
   "cell_type": "markdown",
   "metadata": {},
   "source": [
    "This shows that we can be 95% confident that the true proportion of US adults who regularly smoke tobacco is between 16.5% and 26.7%."
   ]
  },
  {
   "cell_type": "code",
   "execution_count": null,
   "metadata": {},
   "outputs": [],
   "source": []
  }
 ],
 "metadata": {
  "kernelspec": {
   "display_name": "Python 3",
   "language": "python",
   "name": "python3"
  },
  "language_info": {
   "codemirror_mode": {
    "name": "ipython",
    "version": 3
   },
   "file_extension": ".py",
   "mimetype": "text/x-python",
   "name": "python",
   "nbconvert_exporter": "python",
   "pygments_lexer": "ipython3",
   "version": "3.7.4"
  }
 },
 "nbformat": 4,
 "nbformat_minor": 2
}
