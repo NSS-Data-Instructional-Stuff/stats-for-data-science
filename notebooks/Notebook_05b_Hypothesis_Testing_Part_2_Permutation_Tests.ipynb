{
 "cells": [
  {
   "cell_type": "markdown",
   "metadata": {},
   "source": [
    "## Resampling/Permutation Tests\n",
    "\n",
    "In this notebook, we'll see how we can perform a permutation test to determine if two populations have the same distribution.\n",
    "\n",
    "For more information about permutation testing, see these notes: http://faculty.washington.edu/yenchic/18W_425/Lec3_permutation.pdf"
   ]
  },
  {
   "cell_type": "code",
   "execution_count": null,
   "metadata": {},
   "outputs": [],
   "source": [
    "import pandas as pd\n",
    "import numpy as np\n",
    "import matplotlib.pyplot as plt"
   ]
  },
  {
   "cell_type": "markdown",
   "metadata": {},
   "source": [
    "**Example 1:** In this example, we'll look at the number of minutes spent sleeping reported to the American Time Use Survey.\n",
    "\n",
    "Specifically, we'll be comparing the amount of time spent sleeping reported by males to the amount reported by females.\n",
    "\n",
    "**Null Hypothesis:** The distribution of the time spent sleeping by females is the same as the distribution for males.\n",
    "\n",
    "**Alternative Hypothesis:** The distribution of the time spent sleeping by females has a higher mean than the distribution for males.\n",
    "\n",
    "To assess this, we'll look at the mean minutes by group."
   ]
  },
  {
   "cell_type": "code",
   "execution_count": null,
   "metadata": {},
   "outputs": [],
   "source": [
    "sleeping = pd.read_csv('../data/atus_sleeping.csv')\n",
    "sleeping.head(2)"
   ]
  },
  {
   "cell_type": "code",
   "execution_count": null,
   "metadata": {},
   "outputs": [],
   "source": [
    "group_means = sleeping[['minutes_spent_sleeping', 'sex']].groupby('sex')['minutes_spent_sleeping'].mean()\n",
    "group_means"
   ]
  },
  {
   "cell_type": "code",
   "execution_count": null,
   "metadata": {},
   "outputs": [],
   "source": [
    "observed_difference = group_means['Female'] - group_means['Male']\n",
    "observed_difference"
   ]
  },
  {
   "cell_type": "markdown",
   "metadata": {},
   "source": [
    "To perform a permutation test, we need to shuffle the labels, then at the new difference observed by group."
   ]
  },
  {
   "cell_type": "code",
   "execution_count": null,
   "metadata": {},
   "outputs": [],
   "source": [
    "num_group1 = len(sleeping.loc[sleeping['sex'] == 'Female'])     # How many observations were female?\n",
    "values = sleeping['minutes_spent_sleeping'].tolist()            # Extract the values column as a list\n",
    "values[:5]"
   ]
  },
  {
   "cell_type": "code",
   "execution_count": null,
   "metadata": {},
   "outputs": [],
   "source": [
    "# Then, use the shuffle method from numpy to permute the values\n",
    "np.random.shuffle(values)\n",
    "values[:5]"
   ]
  },
  {
   "cell_type": "code",
   "execution_count": null,
   "metadata": {},
   "outputs": [],
   "source": [
    "# Finally, look at the permuted differences\n",
    "# We can allocate the beginning of the shuffled values to females and the remainder to males.\n",
    "np.mean(values[:num_group1]) - np.mean(values[num_group1:])"
   ]
  },
  {
   "cell_type": "markdown",
   "metadata": {},
   "source": [
    "Let's automate this process using a for loop."
   ]
  },
  {
   "cell_type": "code",
   "execution_count": null,
   "metadata": {},
   "outputs": [],
   "source": [
    "df = sleeping\n",
    "column = 'minutes_spent_sleeping'\n",
    "groups = 'sex'\n",
    "group1 = 'Female'\n",
    "\n",
    "permutation_differences = []\n",
    "values = df[column].tolist()\n",
    "num_group1 = len(df[df[groups] == group1])\n",
    "\n",
    "for _ in range(10000):\n",
    "    np.random.shuffle(values)\n",
    "    permutation_differences.append(np.mean(values[:num_group1]) - np.mean(values[num_group1:]))\n",
    "    \n",
    "permutation_differences = np.array(permutation_differences)"
   ]
  },
  {
   "cell_type": "markdown",
   "metadata": {},
   "source": [
    "Now, we can compare the distribution of permutation differences to the observed difference."
   ]
  },
  {
   "cell_type": "code",
   "execution_count": null,
   "metadata": {},
   "outputs": [],
   "source": [
    "plt.hist(permutation_differences, bins = 40, edgecolor = 'black')\n",
    "ymin, ymax = plt.ylim()\n",
    "plt.vlines(x = observed_difference,\n",
    "           ymin = ymin,\n",
    "           ymax = ymax,\n",
    "           linestyle = '--',\n",
    "           color = 'red');"
   ]
  },
  {
   "cell_type": "markdown",
   "metadata": {},
   "source": [
    "Finally, see for what proportion of permutations, we saw at least as extreme a difference in means."
   ]
  },
  {
   "cell_type": "code",
   "execution_count": null,
   "metadata": {},
   "outputs": [],
   "source": [
    "(permutation_differences >= observed_difference).mean()"
   ]
  },
  {
   "cell_type": "markdown",
   "metadata": {},
   "source": [
    "**Question:** What is our conclusion?\n",
    "\n"
   ]
  },
  {
   "cell_type": "markdown",
   "metadata": {},
   "source": [
    "**Example 2:** In this example, we'll look at the number of minutes spent grooming reported to the American Time Use Survey. \n",
    "\n",
    "**Null Hypothesis:** The distribution of the time spent grooming by females is the same as the distribution for males.\n",
    "\n",
    "**Alternative Hypothesis:** The distribution of the time spent grooming by females has a higher mean than the distribution for males."
   ]
  },
  {
   "cell_type": "code",
   "execution_count": null,
   "metadata": {},
   "outputs": [],
   "source": [
    "grooming = pd.read_csv('../data/atus_grooming.csv')"
   ]
  },
  {
   "cell_type": "code",
   "execution_count": null,
   "metadata": {},
   "outputs": [],
   "source": [
    "grooming.head()"
   ]
  },
  {
   "cell_type": "markdown",
   "metadata": {},
   "source": [
    "**Your Turn**\n",
    "\n",
    "First, calculate the observed difference in the average number of minutes spent grooming by males and the average number of minutes spent grooming by females. Save the result to the `observed_difference` variable."
   ]
  },
  {
   "cell_type": "code",
   "execution_count": null,
   "metadata": {},
   "outputs": [],
   "source": [
    "# Your Code Here"
   ]
  },
  {
   "cell_type": "markdown",
   "metadata": {},
   "source": [
    "Now, copy and paste and modify the code above to find 10000 permutation differences and save them to a numpy array `permutation_differences`."
   ]
  },
  {
   "cell_type": "code",
   "execution_count": null,
   "metadata": {},
   "outputs": [],
   "source": [
    "# Your Code Here"
   ]
  },
  {
   "cell_type": "markdown",
   "metadata": {},
   "source": [
    "Next, run the cell below to look at the distribution of permutation differences compared to your observed difference."
   ]
  },
  {
   "cell_type": "code",
   "execution_count": null,
   "metadata": {},
   "outputs": [],
   "source": [
    "plt.hist(permutation_differences, bins = 40, edgecolor = 'black')\n",
    "ymin, ymax = plt.ylim()\n",
    "plt.vlines(x = observed_difference,\n",
    "           ymin = ymin,\n",
    "           ymax = ymax,\n",
    "          linestyle = '--',\n",
    "          color = 'red');"
   ]
  },
  {
   "cell_type": "markdown",
   "metadata": {},
   "source": [
    "Finally, find the proportion of permutation differences that were as extreme or more extreme than the observed difference."
   ]
  },
  {
   "cell_type": "code",
   "execution_count": null,
   "metadata": {},
   "outputs": [],
   "source": [
    "# Your Code Here"
   ]
  },
  {
   "cell_type": "markdown",
   "metadata": {},
   "source": [
    "**Question:** What is our conclusion?"
   ]
  }
 ],
 "metadata": {
  "kernelspec": {
   "display_name": "Python 3",
   "language": "python",
   "name": "python3"
  },
  "language_info": {
   "codemirror_mode": {
    "name": "ipython",
    "version": 3
   },
   "file_extension": ".py",
   "mimetype": "text/x-python",
   "name": "python",
   "nbconvert_exporter": "python",
   "pygments_lexer": "ipython3",
   "version": "3.8.3"
  }
 },
 "nbformat": 4,
 "nbformat_minor": 2
}
