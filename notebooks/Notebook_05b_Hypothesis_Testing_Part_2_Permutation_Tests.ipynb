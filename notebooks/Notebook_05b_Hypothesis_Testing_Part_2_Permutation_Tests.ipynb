{
 "cells": [
  {
   "cell_type": "markdown",
   "metadata": {},
   "source": [
    "## Resampling/Permutation Tests\n",
    "\n",
    "In this notebook, we'll see how we can perform a permutation test to determine if two populations have the same distribution.\n",
    "\n",
    "For more information about permutation testing, see these notes: http://faculty.washington.edu/yenchic/18W_425/Lec3_permutation.pdf"
   ]
  },
  {
   "cell_type": "code",
   "execution_count": 1,
   "metadata": {},
   "outputs": [],
   "source": [
    "import pandas as pd\n",
    "import numpy as np\n",
    "import matplotlib.pyplot as plt"
   ]
  },
  {
   "cell_type": "markdown",
   "metadata": {},
   "source": [
    "**Example 1:** In this example, we'll look at the number of minutes spent sleeping reported to the American Time Use Survey.\n",
    "\n",
    "Specifically, we'll be comparing the amount of time spent sleeping reported by males to the amount reported by females.\n",
    "\n",
    "**Null Hypothesis:** The distribution of the time spent sleeping by females is the same as the distribution for males.\n",
    "\n",
    "**Alternative Hypothesis:** The distribution of the time spent sleeping by females has a higher mean than the distribution for males.\n",
    "\n",
    "To assess this, we'll look at the mean minutes by group."
   ]
  },
  {
   "cell_type": "code",
   "execution_count": 2,
   "metadata": {},
   "outputs": [
    {
     "data": {
      "text/html": [
       "<div>\n",
       "<style scoped>\n",
       "    .dataframe tbody tr th:only-of-type {\n",
       "        vertical-align: middle;\n",
       "    }\n",
       "\n",
       "    .dataframe tbody tr th {\n",
       "        vertical-align: top;\n",
       "    }\n",
       "\n",
       "    .dataframe thead th {\n",
       "        text-align: right;\n",
       "    }\n",
       "</style>\n",
       "<table border=\"1\" class=\"dataframe\">\n",
       "  <thead>\n",
       "    <tr style=\"text-align: right;\">\n",
       "      <th></th>\n",
       "      <th>participant_id</th>\n",
       "      <th>minutes_spent_sleeping</th>\n",
       "      <th>sex</th>\n",
       "    </tr>\n",
       "  </thead>\n",
       "  <tbody>\n",
       "    <tr>\n",
       "      <th>0</th>\n",
       "      <td>20181211181182</td>\n",
       "      <td>270</td>\n",
       "      <td>Male</td>\n",
       "    </tr>\n",
       "    <tr>\n",
       "      <th>1</th>\n",
       "      <td>20180908180663</td>\n",
       "      <td>600</td>\n",
       "      <td>Male</td>\n",
       "    </tr>\n",
       "  </tbody>\n",
       "</table>\n",
       "</div>"
      ],
      "text/plain": [
       "   participant_id  minutes_spent_sleeping   sex\n",
       "0  20181211181182                     270  Male\n",
       "1  20180908180663                     600  Male"
      ]
     },
     "execution_count": 2,
     "metadata": {},
     "output_type": "execute_result"
    }
   ],
   "source": [
    "sleeping = pd.read_csv('../data/atus_sleeping.csv')\n",
    "sleeping.head(2)"
   ]
  },
  {
   "cell_type": "code",
   "execution_count": 3,
   "metadata": {},
   "outputs": [
    {
     "data": {
      "text/plain": [
       "sex\n",
       "Female    582.32\n",
       "Male      519.60\n",
       "Name: minutes_spent_sleeping, dtype: float64"
      ]
     },
     "execution_count": 3,
     "metadata": {},
     "output_type": "execute_result"
    }
   ],
   "source": [
    "group_means = sleeping[['minutes_spent_sleeping', 'sex']].groupby('sex')['minutes_spent_sleeping'].mean()\n",
    "group_means"
   ]
  },
  {
   "cell_type": "code",
   "execution_count": 4,
   "metadata": {},
   "outputs": [
    {
     "data": {
      "text/plain": [
       "62.72000000000003"
      ]
     },
     "execution_count": 4,
     "metadata": {},
     "output_type": "execute_result"
    }
   ],
   "source": [
    "observed_difference = group_means['Female'] - group_means['Male']\n",
    "observed_difference"
   ]
  },
  {
   "cell_type": "markdown",
   "metadata": {},
   "source": [
    "To perform a permutation test, we need to shuffle the labels, then at the new difference observed by group."
   ]
  },
  {
   "cell_type": "code",
   "execution_count": 5,
   "metadata": {},
   "outputs": [
    {
     "data": {
      "text/plain": [
       "[270, 600, 355, 405, 270]"
      ]
     },
     "execution_count": 5,
     "metadata": {},
     "output_type": "execute_result"
    }
   ],
   "source": [
    "num_group1 = len(sleeping.loc[sleeping['sex'] == 'Female'])     # How many observations were female?\n",
    "values = sleeping['minutes_spent_sleeping'].tolist()            # Extract the values column as a list\n",
    "values[:5]"
   ]
  },
  {
   "cell_type": "code",
   "execution_count": 6,
   "metadata": {},
   "outputs": [
    {
     "data": {
      "text/plain": [
       "[575, 540, 560, 660, 775]"
      ]
     },
     "execution_count": 6,
     "metadata": {},
     "output_type": "execute_result"
    }
   ],
   "source": [
    "# Then, use the shuffle method from numpy to permute the values\n",
    "np.random.shuffle(values)\n",
    "values[:5]"
   ]
  },
  {
   "cell_type": "code",
   "execution_count": 7,
   "metadata": {},
   "outputs": [
    {
     "data": {
      "text/plain": [
       "23.43999999999994"
      ]
     },
     "execution_count": 7,
     "metadata": {},
     "output_type": "execute_result"
    }
   ],
   "source": [
    "# Finally, look at the permuted differences\n",
    "# We can allocate the beginning of the shuffled values to females and the remainder to males.\n",
    "np.mean(values[:num_group1]) - np.mean(values[num_group1:])"
   ]
  },
  {
   "cell_type": "markdown",
   "metadata": {},
   "source": [
    "Let's automate this process using a for loop."
   ]
  },
  {
   "cell_type": "code",
   "execution_count": 8,
   "metadata": {},
   "outputs": [],
   "source": [
    "df = sleeping\n",
    "column = 'minutes_spent_sleeping'\n",
    "groups = 'sex'\n",
    "group1 = 'Female'\n",
    "\n",
    "permutation_differences = []\n",
    "values = df[column].tolist()\n",
    "num_group1 = len(df[df[groups] == group1])\n",
    "\n",
    "for _ in range(10000):\n",
    "    np.random.shuffle(values)\n",
    "    permutation_differences.append(np.mean(values[:num_group1]) - np.mean(values[num_group1:]))\n",
    "    \n",
    "permutation_differences = np.array(permutation_differences)"
   ]
  },
  {
   "cell_type": "markdown",
   "metadata": {},
   "source": [
    "Now, we can compare the distribution of permutation differences to the observed difference."
   ]
  },
  {
   "cell_type": "code",
   "execution_count": 9,
   "metadata": {},
   "outputs": [
    {
     "data": {
      "image/png": "[encoded data removed]",
      "text/plain": [
       "<Figure size 432x288 with 1 Axes>"
      ]
     },
     "metadata": {
      "needs_background": "light"
     },
     "output_type": "display_data"
    }
   ],
   "source": [
    "plt.hist(permutation_differences, bins = 40, edgecolor = 'black')\n",
    "ymin, ymax = plt.ylim()\n",
    "plt.vlines(x = observed_difference,\n",
    "           ymin = ymin,\n",
    "           ymax = ymax,\n",
    "           linestyle = '--',\n",
    "           color = 'red');"
   ]
  },
  {
   "cell_type": "markdown",
   "metadata": {},
   "source": [
    "Finally, see for what proportion of permutations, we saw at least as extreme a difference in means."
   ]
  },
  {
   "cell_type": "code",
   "execution_count": 10,
   "metadata": {},
   "outputs": [
    {
     "data": {
      "text/plain": [
       "0.0749"
      ]
     },
     "execution_count": 10,
     "metadata": {},
     "output_type": "execute_result"
    }
   ],
   "source": [
    "(permutation_differences >= observed_difference).mean()"
   ]
  },
  {
   "cell_type": "markdown",
   "metadata": {},
   "source": [
    "**Question:** What is our conclusion?\n",
    "\n"
   ]
  },
  {
   "cell_type": "markdown",
   "metadata": {},
   "source": [
    "**Example 2:** In this example, we'll look at the number of minutes spent grooming reported to the American Time Use Survey. \n",
    "\n",
    "**Null Hypothesis:** The distribution of the time spent grooming by females is the same as the distribution for males.\n",
    "\n",
    "**Alternative Hypothesis:** The distribution of the time spent grooming by females has a higher mean than the distribution for males."
   ]
  },
  {
   "cell_type": "code",
   "execution_count": 11,
   "metadata": {},
   "outputs": [],
   "source": [
    "grooming = pd.read_csv('../data/atus_grooming.csv')"
   ]
  },
  {
   "cell_type": "code",
   "execution_count": 12,
   "metadata": {},
   "outputs": [
    {
     "data": {
      "text/html": [
       "<div>\n",
       "<style scoped>\n",
       "    .dataframe tbody tr th:only-of-type {\n",
       "        vertical-align: middle;\n",
       "    }\n",
       "\n",
       "    .dataframe tbody tr th {\n",
       "        vertical-align: top;\n",
       "    }\n",
       "\n",
       "    .dataframe thead th {\n",
       "        text-align: right;\n",
       "    }\n",
       "</style>\n",
       "<table border=\"1\" class=\"dataframe\">\n",
       "  <thead>\n",
       "    <tr style=\"text-align: right;\">\n",
       "      <th></th>\n",
       "      <th>participant_id</th>\n",
       "      <th>minutes_spent_grooming</th>\n",
       "      <th>sex</th>\n",
       "    </tr>\n",
       "  </thead>\n",
       "  <tbody>\n",
       "    <tr>\n",
       "      <th>0</th>\n",
       "      <td>20180301182171</td>\n",
       "      <td>30</td>\n",
       "      <td>Male</td>\n",
       "    </tr>\n",
       "    <tr>\n",
       "      <th>1</th>\n",
       "      <td>20180807181204</td>\n",
       "      <td>0</td>\n",
       "      <td>Male</td>\n",
       "    </tr>\n",
       "    <tr>\n",
       "      <th>2</th>\n",
       "      <td>20180807181773</td>\n",
       "      <td>10</td>\n",
       "      <td>Male</td>\n",
       "    </tr>\n",
       "    <tr>\n",
       "      <th>3</th>\n",
       "      <td>20180403182157</td>\n",
       "      <td>0</td>\n",
       "      <td>Male</td>\n",
       "    </tr>\n",
       "    <tr>\n",
       "      <th>4</th>\n",
       "      <td>20180605181860</td>\n",
       "      <td>31</td>\n",
       "      <td>Male</td>\n",
       "    </tr>\n",
       "  </tbody>\n",
       "</table>\n",
       "</div>"
      ],
      "text/plain": [
       "   participant_id  minutes_spent_grooming   sex\n",
       "0  20180301182171                      30  Male\n",
       "1  20180807181204                       0  Male\n",
       "2  20180807181773                      10  Male\n",
       "3  20180403182157                       0  Male\n",
       "4  20180605181860                      31  Male"
      ]
     },
     "execution_count": 12,
     "metadata": {},
     "output_type": "execute_result"
    }
   ],
   "source": [
    "grooming.head()"
   ]
  },
  {
   "cell_type": "code",
   "execution_count": 13,
   "metadata": {},
   "outputs": [
    {
     "data": {
      "text/plain": [
       "20.68"
      ]
     },
     "execution_count": 13,
     "metadata": {},
     "output_type": "execute_result"
    }
   ],
   "source": [
    "group_means = grooming[['minutes_spent_grooming', 'sex']].groupby('sex')['minutes_spent_grooming'].mean()\n",
    "observed_difference = group_means['Female'] - group_means['Male']\n",
    "observed_difference"
   ]
  },
  {
   "cell_type": "code",
   "execution_count": 20,
   "metadata": {},
   "outputs": [],
   "source": [
    "df = grooming\n",
    "column = 'minutes_spent_grooming'\n",
    "groups = 'sex'\n",
    "group1 = 'Female'\n",
    "\n",
    "permutation_differences = []\n",
    "values = df[column].tolist()\n",
    "num_group1 = len(df[df[groups] == group1])\n",
    "\n",
    "for _ in range(10000):\n",
    "    np.random.shuffle(values)\n",
    "    permutation_differences.append(np.mean(values[:num_group1]) - np.mean(values[num_group1:]))\n",
    "    \n",
    "permutation_differences = np.array(permutation_differences)"
   ]
  },
  {
   "cell_type": "code",
   "execution_count": 21,
   "metadata": {},
   "outputs": [
    {
     "data": {
      "image/png": "[encoded data removed]",
      "text/plain": [
       "<Figure size 432x288 with 1 Axes>"
      ]
     },
     "metadata": {
      "needs_background": "light"
     },
     "output_type": "display_data"
    }
   ],
   "source": [
    "plt.hist(permutation_differences, bins = 40, edgecolor = 'black')\n",
    "ymin, ymax = plt.ylim()\n",
    "plt.vlines(x = observed_difference,\n",
    "           ymin = ymin,\n",
    "           ymax = ymax,\n",
    "          linestyle = '--',\n",
    "          color = 'red');"
   ]
  },
  {
   "cell_type": "code",
   "execution_count": 22,
   "metadata": {},
   "outputs": [
    {
     "data": {
      "text/plain": [
       "0.0039"
      ]
     },
     "execution_count": 22,
     "metadata": {},
     "output_type": "execute_result"
    }
   ],
   "source": [
    "(permutation_differences >= observed_difference).mean()"
   ]
  },
  {
   "cell_type": "markdown",
   "metadata": {},
   "source": [
    "**Question:** What is our conclusion?"
   ]
  }
 ],
 "metadata": {
  "kernelspec": {
   "display_name": "Python 3",
   "language": "python",
   "name": "python3"
  },
  "language_info": {
   "codemirror_mode": {
    "name": "ipython",
    "version": 3
   },
   "file_extension": ".py",
   "mimetype": "text/x-python",
   "name": "python",
   "nbconvert_exporter": "python",
   "pygments_lexer": "ipython3",
   "version": "3.8.3"
  }
 },
 "nbformat": 4,
 "nbformat_minor": 2
}
