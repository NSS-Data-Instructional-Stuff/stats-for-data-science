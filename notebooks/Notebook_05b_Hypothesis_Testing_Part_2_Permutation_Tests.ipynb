{
 "cells": [
  {
   "cell_type": "markdown",
   "metadata": {},
   "source": [
    "## Resampling/Permutation Tests\n",
    "\n",
    "With **resampling**, you draw repeated samples from observed data with the goal of assessing random variability in a statistic. Similar to the bootstrap, you are not going to try to analytically determine the distribution of the test statistic, but instead build it out of the observed sample.\n",
    "\n",
    "**The Big Idea:** We are trying to determine if two samples came from the same underlying distribution. If they came from the same distribution, then the label is irrelevant, and if we shuffle them, then it is still a sample from the same distribution.\n",
    "\n",
    "You start with the null hypothesis - that the two samples came from the same distribution, and then look at the distribution of some test statistic (eg. difference in means) by randomly permuting the samples a large number of times and recalculating the test statistic."
   ]
  },
  {
   "cell_type": "markdown",
   "metadata": {},
   "source": [
    "That is, the $p$-value is the proportion of test statistics calculated from permutations that were _at least as extreme_ as the observed test statistic.\n",
    "\n",
    "This is a non-parametric method, since you don't care how the data was generated (i.e., it doesn't matter if it was from a normal distribution).\n",
    "\n",
    "See: http://faculty.washington.edu/yenchic/18W_425/Lec3_permutation.pdf"
   ]
  },
  {
   "cell_type": "markdown",
   "metadata": {},
   "source": [
    "Let's look at the example with the amount of time spent sleeping. First, capture the observed difference in means."
   ]
  },
  {
   "cell_type": "code",
   "execution_count": null,
   "metadata": {},
   "outputs": [],
   "source": [
    "import pandas as pd\n",
    "import numpy as np\n",
    "import matplotlib.pyplot as plt\n",
    "%matplotlib inline"
   ]
  },
  {
   "cell_type": "code",
   "execution_count": null,
   "metadata": {},
   "outputs": [],
   "source": [
    "sleeping = pd.read_csv('../data/atus_sleeping.csv')\n",
    "sleeping.head()"
   ]
  },
  {
   "cell_type": "markdown",
   "metadata": {},
   "source": [
    "Before bringing in the data, let's state the null and alternative hypotheses. \n",
    "\n",
    "**Null Hypothesis:**\n",
    "\n",
    "$H_0$: The distribution of minutes spent sleeping for males is the same as for females.\n",
    "\n",
    "**Alternative Hypothesis:**\n",
    "\n",
    "$H_1:$ The distribution of minutes spent sleeping for males is the different from the distribution for females.\n",
    "\n",
    "Again, you can use the 0.05 significance level."
   ]
  },
  {
   "cell_type": "markdown",
   "metadata": {},
   "source": [
    "Let's find the observed difference in means. We can start by using `groupby`."
   ]
  },
  {
   "cell_type": "code",
   "execution_count": null,
   "metadata": {},
   "outputs": [],
   "source": [
    "means = sleeping.groupby('sex')['minutes_spent_sleeping'].mean()\n",
    "means"
   ]
  },
  {
   "cell_type": "markdown",
   "metadata": {},
   "source": [
    "Then calculate the difference in means."
   ]
  },
  {
   "cell_type": "code",
   "execution_count": null,
   "metadata": {},
   "outputs": [],
   "source": [
    "observed_value = means['Female'] - means['Male']\n",
    "observed_value"
   ]
  },
  {
   "cell_type": "markdown",
   "metadata": {},
   "source": [
    "To generate our permutations, we can use the `resample` funtion from scikit-learn."
   ]
  },
  {
   "cell_type": "code",
   "execution_count": null,
   "metadata": {},
   "outputs": [],
   "source": [
    "from sklearn.utils import resample"
   ]
  },
  {
   "cell_type": "markdown",
   "metadata": {},
   "source": [
    "Before scaling up, let's see how it looks to do one permutation."
   ]
  },
  {
   "cell_type": "code",
   "execution_count": null,
   "metadata": {},
   "outputs": [],
   "source": [
    "# First make a copy of the data\n",
    "sleeping_permutation = sleeping.copy() \n",
    "\n",
    "\n",
    "# Then shuffle the sex column. Note that the replace argument must be False\n",
    "sleeping_permutation['sex'] = resample(sleeping_permutation['sex'], replace = False).tolist()"
   ]
  },
  {
   "cell_type": "markdown",
   "metadata": {},
   "source": [
    "From there, we can repeat the same steps as above."
   ]
  },
  {
   "cell_type": "code",
   "execution_count": null,
   "metadata": {},
   "outputs": [],
   "source": [
    "means = sleeping_permutation.groupby('sex')['minutes_spent_sleeping'].mean()\n",
    "means['Female'] - means['Male']"
   ]
  },
  {
   "cell_type": "markdown",
   "metadata": {},
   "source": [
    "Now that we have seen it for one permutation, let's use a for loop to scale it up."
   ]
  },
  {
   "cell_type": "code",
   "execution_count": null,
   "metadata": {},
   "outputs": [],
   "source": [
    "num_permutations = 10000\n",
    "\n",
    "permutation_df = sleeping.copy()\n",
    "\n",
    "permutation_values = []\n",
    "\n",
    "for _ in range(num_permutations):\n",
    "    permutation_df['sex'] = resample(permutation_df['sex'].tolist(), replace = False)\n",
    "    \n",
    "    means = permutation_df.groupby('sex')['minutes_spent_sleeping'].mean()\n",
    "    permutation_values.append(means['Female'] - means['Male'])"
   ]
  },
  {
   "cell_type": "markdown",
   "metadata": {},
   "source": [
    "We can create a histogram to compare our observed value to the permutation differences."
   ]
  },
  {
   "cell_type": "code",
   "execution_count": null,
   "metadata": {},
   "outputs": [],
   "source": [
    "plt.hist(permutation_values, edgecolor = 'black', bins = 25)\n",
    "ymin, ymax = plt.ylim()\n",
    "plt.vlines(x = observed_value, ymin = ymin, ymax = ymax, color = 'red', linestyle = '--')\n",
    "plt.ylim(ymin, ymax);"
   ]
  },
  {
   "cell_type": "markdown",
   "metadata": {},
   "source": [
    "To get the p-value, we need to find the percentage of permutation differences that are more extreme than the observed difference."
   ]
  },
  {
   "cell_type": "code",
   "execution_count": null,
   "metadata": {},
   "outputs": [],
   "source": [
    "(np.array(permutation_values) > observed_value).mean()"
   ]
  },
  {
   "cell_type": "markdown",
   "metadata": {},
   "source": [
    "**Question:** What is our conclusion?"
   ]
  },
  {
   "cell_type": "markdown",
   "metadata": {},
   "source": [
    "Now, repeat this for the grooming dataset."
   ]
  },
  {
   "cell_type": "code",
   "execution_count": null,
   "metadata": {},
   "outputs": [],
   "source": [
    "grooming = pd.read_csv('../data/atus_grooming.csv')\n",
    "grooming.head()"
   ]
  },
  {
   "cell_type": "code",
   "execution_count": null,
   "metadata": {},
   "outputs": [],
   "source": [
    "means = grooming.groupby('sex')['minutes_spent_grooming'].mean()\n",
    "observed_value = means['Female'] - means['Male']\n",
    "observed_value"
   ]
  },
  {
   "cell_type": "code",
   "execution_count": null,
   "metadata": {},
   "outputs": [],
   "source": [
    "num_permutations = 10000\n",
    "\n",
    "permutation_df = grooming.copy()\n",
    "\n",
    "permutation_values = []\n",
    "\n",
    "for _ in range(num_permutations):\n",
    "    permutation_df['sex'] = resample(permutation_df['sex'].tolist(), replace = False)\n",
    "    \n",
    "    means = permutation_df.groupby('sex')['minutes_spent_grooming'].mean()\n",
    "    permutation_values.append(means['Female'] - means['Male'])"
   ]
  },
  {
   "cell_type": "code",
   "execution_count": null,
   "metadata": {},
   "outputs": [],
   "source": [
    "plt.hist(permutation_values, edgecolor = 'black', bins = 25)\n",
    "ymin, ymax = plt.ylim()\n",
    "plt.vlines(x = observed_value, ymin = ymin, ymax = ymax, color = 'red', linestyle = '--')\n",
    "plt.ylim(ymin, ymax);"
   ]
  },
  {
   "cell_type": "code",
   "execution_count": null,
   "metadata": {},
   "outputs": [],
   "source": [
    "(np.array(permutation_values) > observed_value).mean()"
   ]
  },
  {
   "cell_type": "markdown",
   "metadata": {},
   "source": [
    "**Question:** What is our conclusion?"
   ]
  },
  {
   "cell_type": "markdown",
   "metadata": {},
   "source": [
    "## Permutation Testing of Correlation\n",
    "\n",
    "Let's see how to conduct a hypothesis test about correlation. We'll step through the example from the slides. Recall that the null and alternative hypotheses were\n",
    "\n",
    "$$H_0: \\text{There is no relationship between temperature and NOx concentration}$$\n",
    "\n",
    "$$H_1: \\text{There is a relationship between temperature and NOx concentration.}$$\n",
    "\n",
    "Read in the data."
   ]
  },
  {
   "cell_type": "code",
   "execution_count": null,
   "metadata": {},
   "outputs": [],
   "source": [
    "air_quality = pd.read_csv('../data/air_quality.csv')"
   ]
  },
  {
   "cell_type": "code",
   "execution_count": null,
   "metadata": {},
   "outputs": [],
   "source": [
    "air_quality.head()"
   ]
  },
  {
   "cell_type": "markdown",
   "metadata": {},
   "source": [
    "The scatterplot of the two relevant variables: `Temperature` and `NOx`"
   ]
  },
  {
   "cell_type": "code",
   "execution_count": null,
   "metadata": {},
   "outputs": [],
   "source": [
    "air_quality.plot(kind = 'scatter', x = 'Temperature', y = 'NOx');"
   ]
  },
  {
   "cell_type": "markdown",
   "metadata": {},
   "source": [
    "The observed correlation:"
   ]
  },
  {
   "cell_type": "code",
   "execution_count": null,
   "metadata": {},
   "outputs": [],
   "source": [
    "air_quality[['Temperature','NOx']].corr()"
   ]
  },
  {
   "cell_type": "code",
   "execution_count": null,
   "metadata": {},
   "outputs": [],
   "source": [
    "observed_value = air_quality[['Temperature','NOx']].corr().iloc[0,1]\n",
    "observed_value"
   ]
  },
  {
   "cell_type": "code",
   "execution_count": null,
   "metadata": {},
   "outputs": [],
   "source": [
    "num_permutations = 10000\n",
    "\n",
    "permutation_df = air_quality.copy()\n",
    "\n",
    "permutation_values = []\n",
    "\n",
    "for _ in range(num_permutations):\n",
    "    permutation_df['NOx'] = resample(permutation_df['NOx'].tolist(), replace = False)\n",
    "    \n",
    "    permutation_values.append(permutation_df[['Temperature','NOx']].corr().iloc[0,1])"
   ]
  },
  {
   "cell_type": "code",
   "execution_count": null,
   "metadata": {},
   "outputs": [],
   "source": [
    "plt.hist(permutation_values, edgecolor = 'black', bins = 25)\n",
    "ymin, ymax = plt.ylim()\n",
    "plt.vlines(x = observed_value, ymin = ymin, ymax = ymax, color = 'red', linestyle = '--')\n",
    "plt.ylim(ymin, ymax);"
   ]
  },
  {
   "cell_type": "code",
   "execution_count": null,
   "metadata": {},
   "outputs": [],
   "source": [
    "(np.array(permutation_values) < observed_value).mean() + (np.array(permutation_values) > -observed_value).mean()"
   ]
  },
  {
   "cell_type": "markdown",
   "metadata": {},
   "source": [
    "**Question:** What is our conclusion?"
   ]
  }
 ],
 "metadata": {
  "kernelspec": {
   "display_name": "Python 3 (ipykernel)",
   "language": "python",
   "name": "python3"
  },
  "language_info": {
   "codemirror_mode": {
    "name": "ipython",
    "version": 3
   },
   "file_extension": ".py",
   "mimetype": "text/x-python",
   "name": "python",
   "nbconvert_exporter": "python",
   "pygments_lexer": "ipython3",
   "version": "3.8.3"
  }
 },
 "nbformat": 4,
 "nbformat_minor": 2
}
