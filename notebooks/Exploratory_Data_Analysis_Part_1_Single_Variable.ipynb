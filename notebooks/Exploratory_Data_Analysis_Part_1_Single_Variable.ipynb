{
 "cells": [
  {
   "cell_type": "markdown",
   "metadata": {},
   "source": [
    "# Exploratory Data Analysis\n",
    "\n",
    "Exploratory data analysis (EDA) is the process of looking for patterns, differences, and other features within a dataset. We are trying to analyze our dataset to summarize its main characteristics.\n",
    "\n",
    "EDA can be used to check your data for inconsistencies or identify limitations in the data, as well as identifying trends or outliers in the data.\n",
    "\n",
    "EDA is often done visually, by creating plots, or numerically, by calculating **descriptive statistics**.\n",
    "\n",
    "TODO: Add a section about categorical vs numeric vaiables. Talk about plots for categorical - frequency and relative frequency."
   ]
  },
  {
   "cell_type": "markdown",
   "metadata": {},
   "source": [
    "# Descriptive Statistics\n",
    "\n",
    "**Goal:** Describe a data set in terms of its important features. Summarize a data set using a few numbers and/or a plot.\n",
    "\n",
    "Ways to describe data:\n",
    "* Shape\n",
    "* Central Tendency\n",
    "* Spread"
   ]
  },
  {
   "cell_type": "markdown",
   "metadata": {},
   "source": [
    "## Shape\n",
    "\n",
    "Symmetry/Skewness\n",
    "\n",
    "Modality"
   ]
  },
  {
   "cell_type": "markdown",
   "metadata": {},
   "source": [
    "# Measures of Central Tendency\n",
    "\n",
    "Give a central or \"typical\" value of a data set.\n",
    "The most common ones are the mean, median, and mode."
   ]
  },
  {
   "cell_type": "markdown",
   "metadata": {},
   "source": [
    "## Mean\n",
    "\n",
    "Also known as the *average* or *arithmetic mean*. Defined as total (sum) of the values of a set of observations divided by the number of observations. When calculating the mean, the only difference between a sample and population mean is the notation.\n",
    "\n",
    "$$\\text{Sample Mean: } \\bar{x} = \\frac{x_1 + x_2 + \\cdots + x_n}{n} = \\frac{\\sum\\limits_{i=1}^n x_i}{n}$$\n",
    "\n",
    "$$\\text{Population Mean: } \\mu = \\frac{x_1 + x_2 + \\cdots + x_n}{n} = \\frac{\\sum\\limits_{i=1}^n x_i}{n}$$\n",
    "\n",
    "Represents the “balance point” of the data. \n",
    "\n",
    "It is the amount that all observations would have if the total amount of the variable was evenly distributed to all observations."
   ]
  },
  {
   "cell_type": "code",
   "execution_count": 31,
   "metadata": {},
   "outputs": [],
   "source": [
    "import pandas as pd\n",
    "%matplotlib inline"
   ]
  },
  {
   "cell_type": "code",
   "execution_count": 32,
   "metadata": {},
   "outputs": [],
   "source": [
    "lakers = pd.read_csv('../data/Lakers.csv')"
   ]
  },
  {
   "cell_type": "code",
   "execution_count": 33,
   "metadata": {},
   "outputs": [
    {
     "data": {
      "text/html": [
       "<div>\n",
       "<style scoped>\n",
       "    .dataframe tbody tr th:only-of-type {\n",
       "        vertical-align: middle;\n",
       "    }\n",
       "\n",
       "    .dataframe tbody tr th {\n",
       "        vertical-align: top;\n",
       "    }\n",
       "\n",
       "    .dataframe thead th {\n",
       "        text-align: right;\n",
       "    }\n",
       "</style>\n",
       "<table border=\"1\" class=\"dataframe\">\n",
       "  <thead>\n",
       "    <tr style=\"text-align: right;\">\n",
       "      <th></th>\n",
       "      <th>player</th>\n",
       "      <th>salary</th>\n",
       "      <th>height_inches</th>\n",
       "    </tr>\n",
       "  </thead>\n",
       "  <tbody>\n",
       "    <tr>\n",
       "      <th>0</th>\n",
       "      <td>LeBron James</td>\n",
       "      <td>37436858</td>\n",
       "      <td>80</td>\n",
       "    </tr>\n",
       "    <tr>\n",
       "      <th>1</th>\n",
       "      <td>Anthony Davis</td>\n",
       "      <td>27093019</td>\n",
       "      <td>82</td>\n",
       "    </tr>\n",
       "    <tr>\n",
       "      <th>2</th>\n",
       "      <td>Danny Green</td>\n",
       "      <td>14634146</td>\n",
       "      <td>78</td>\n",
       "    </tr>\n",
       "    <tr>\n",
       "      <th>3</th>\n",
       "      <td>Kentavious Caldwell-Pope</td>\n",
       "      <td>8089282</td>\n",
       "      <td>77</td>\n",
       "    </tr>\n",
       "    <tr>\n",
       "      <th>4</th>\n",
       "      <td>Avery Bradley</td>\n",
       "      <td>4767000</td>\n",
       "      <td>74</td>\n",
       "    </tr>\n",
       "    <tr>\n",
       "      <th>5</th>\n",
       "      <td>JaVale McGee</td>\n",
       "      <td>4000000</td>\n",
       "      <td>84</td>\n",
       "    </tr>\n",
       "    <tr>\n",
       "      <th>6</th>\n",
       "      <td>DeMarcus Cousins</td>\n",
       "      <td>3500000</td>\n",
       "      <td>83</td>\n",
       "    </tr>\n",
       "    <tr>\n",
       "      <th>7</th>\n",
       "      <td>Quinn Cook</td>\n",
       "      <td>3000000</td>\n",
       "      <td>74</td>\n",
       "    </tr>\n",
       "    <tr>\n",
       "      <th>8</th>\n",
       "      <td>Alex Caruso</td>\n",
       "      <td>2750000</td>\n",
       "      <td>77</td>\n",
       "    </tr>\n",
       "    <tr>\n",
       "      <th>9</th>\n",
       "      <td>Jared Dudley</td>\n",
       "      <td>2564753</td>\n",
       "      <td>79</td>\n",
       "    </tr>\n",
       "    <tr>\n",
       "      <th>10</th>\n",
       "      <td>Dwight Howard</td>\n",
       "      <td>2564753</td>\n",
       "      <td>83</td>\n",
       "    </tr>\n",
       "    <tr>\n",
       "      <th>11</th>\n",
       "      <td>Rajon Rondo</td>\n",
       "      <td>2564753</td>\n",
       "      <td>73</td>\n",
       "    </tr>\n",
       "    <tr>\n",
       "      <th>12</th>\n",
       "      <td>Troy Daniels</td>\n",
       "      <td>2028594</td>\n",
       "      <td>76</td>\n",
       "    </tr>\n",
       "    <tr>\n",
       "      <th>13</th>\n",
       "      <td>Kyle Kuzma</td>\n",
       "      <td>1974600</td>\n",
       "      <td>81</td>\n",
       "    </tr>\n",
       "    <tr>\n",
       "      <th>14</th>\n",
       "      <td>Talen Horton-Tucker</td>\n",
       "      <td>898310</td>\n",
       "      <td>76</td>\n",
       "    </tr>\n",
       "  </tbody>\n",
       "</table>\n",
       "</div>"
      ],
      "text/plain": [
       "                      player    salary  height_inches\n",
       "0               LeBron James  37436858             80\n",
       "1              Anthony Davis  27093019             82\n",
       "2                Danny Green  14634146             78\n",
       "3   Kentavious Caldwell-Pope   8089282             77\n",
       "4              Avery Bradley   4767000             74\n",
       "5               JaVale McGee   4000000             84\n",
       "6           DeMarcus Cousins   3500000             83\n",
       "7                 Quinn Cook   3000000             74\n",
       "8                Alex Caruso   2750000             77\n",
       "9               Jared Dudley   2564753             79\n",
       "10             Dwight Howard   2564753             83\n",
       "11               Rajon Rondo   2564753             73\n",
       "12              Troy Daniels   2028594             76\n",
       "13                Kyle Kuzma   1974600             81\n",
       "14       Talen Horton-Tucker    898310             76"
      ]
     },
     "execution_count": 33,
     "metadata": {},
     "output_type": "execute_result"
    }
   ],
   "source": [
    "lakers"
   ]
  },
  {
   "cell_type": "code",
   "execution_count": 34,
   "metadata": {},
   "outputs": [
    {
     "name": "stdout",
     "output_type": "stream",
     "text": [
      "Total Lakers' payroll  $117,866,068\n"
     ]
    }
   ],
   "source": [
    "print('Total Lakers\\' payroll ', '${:,}'.format(lakers.salary.sum()))"
   ]
  },
  {
   "cell_type": "code",
   "execution_count": 35,
   "metadata": {},
   "outputs": [
    {
     "data": {
      "text/plain": [
       "7857737.866666666"
      ]
     },
     "execution_count": 35,
     "metadata": {},
     "output_type": "execute_result"
    }
   ],
   "source": [
    "lakers.salary.sum() / lakers.salary.count()"
   ]
  },
  {
   "cell_type": "code",
   "execution_count": 36,
   "metadata": {},
   "outputs": [
    {
     "data": {
      "text/plain": [
       "7857737.866666666"
      ]
     },
     "execution_count": 36,
     "metadata": {},
     "output_type": "execute_result"
    }
   ],
   "source": [
    "lakers.salary.mean()"
   ]
  },
  {
   "cell_type": "markdown",
   "metadata": {},
   "source": [
    "This says that if we distributed the total payroll evenly to all players, they would each receive a salary of $7,857,737.\n",
    "\n",
    "Notice that only 4 out of the 15 players made above the average, with the top three players making significantly higher than the average. This is typical for data sets where you have extreme observations."
   ]
  },
  {
   "cell_type": "markdown",
   "metadata": {},
   "source": [
    "## Outliers\n",
    "\n",
    "This is probably a good place to mention outliers. They can be looked at again through different lenses later (eg. $z$-scores).\n",
    "\n",
    "There is no precise definition of an \"outlier\", and it often depends on particular data set you a looking at and on applying some domain knowledge of the problem at hand."
   ]
  },
  {
   "cell_type": "markdown",
   "metadata": {},
   "source": [
    "## Median\n",
    "\n",
    "The middle value if the data is arranged by size.\n",
    "\n",
    "For an odd number of observations, the median will be a value from the data set.\n",
    "\n",
    "For an odd number of observations, the median is the mean of the two centermost observations.\n",
    "\n",
    "The median divides the dataset exactly in half. "
   ]
  },
  {
   "cell_type": "markdown",
   "metadata": {},
   "source": [
    "In our `lakers` dataset, we have 15 observations, which means that the 8th observation corresponds to the median. In this case, Quinn Cook, who has a salary of $3,000,000."
   ]
  },
  {
   "cell_type": "code",
   "execution_count": 37,
   "metadata": {},
   "outputs": [
    {
     "data": {
      "text/plain": [
       "3000000.0"
      ]
     },
     "execution_count": 37,
     "metadata": {},
     "output_type": "execute_result"
    }
   ],
   "source": [
    "lakers.salary.median()"
   ]
  },
  {
   "cell_type": "markdown",
   "metadata": {},
   "source": [
    "## Trimmed Mean\n",
    "\n",
    "Another option to reduce the effect of outliers is to use a **trimmed mean**. To compute the trimmed mean, you can remove the largest and smallest *x*% of observations and then calculate the mean. Often, the largest and smallest 10% are removed. This is a compromise between the mean and the median, in that it still takes into account a large portion of the dataset, while being less influeced by extreme observations.\n",
    "\n",
    "To calculate the trimmed mean, we can use the `trim_mean` function from the scipy stats module. To use this function, we need to pass in the data and specify the `proportiontocut` argument, as a decimal."
   ]
  },
  {
   "cell_type": "code",
   "execution_count": 138,
   "metadata": {},
   "outputs": [],
   "source": [
    "from scipy.stats import trim_mean"
   ]
  },
  {
   "cell_type": "code",
   "execution_count": 144,
   "metadata": {},
   "outputs": [
    {
     "data": {
      "text/plain": [
       "6117761.538461538"
      ]
     },
     "execution_count": 144,
     "metadata": {},
     "output_type": "execute_result"
    }
   ],
   "source": [
    "trim_mean(lakers.salary, proportiontocut=.1)"
   ]
  },
  {
   "cell_type": "markdown",
   "metadata": {},
   "source": [
    "## Distribution Shape\n",
    "\n",
    "Notice that the median is significantly lower than the mean. This is typical for skewed datasets.\n",
    "\n",
    "A dataset is **skewed** if most of its elements are within a certain range, but there are some number of unusually high or unusually low observations.\n",
    "\n",
    "We can detect skewness by plotting out the distribution of the dataset. \n",
    "\n",
    "Measures of central tendency can reveal asymmetries in our dataset."
   ]
  },
  {
   "cell_type": "markdown",
   "metadata": {},
   "source": [
    "### Histograms\n",
    "\n",
    "A histogram shows how many observations lie within a certain class interval. That is, it divides the dataset into *bins*, and the height of the plot above each interval is proportional to the number of observations that fall within that bin.\n",
    "\n",
    "Procedure:\n",
    "* Separate data into equal-width, non-overlapping bins\n",
    "* Count number of data points in each bin\n",
    "\n",
    "Must decide how many bins to use. Rule of thumb: $\\text{number of bins} = \\sqrt{\\text{sample size}}$"
   ]
  },
  {
   "cell_type": "code",
   "execution_count": 38,
   "metadata": {},
   "outputs": [
    {
     "data": {
      "image/png": "[encoded data removed]",
      "text/plain": [
       "<Figure size 432x288 with 1 Axes>"
      ]
     },
     "metadata": {
      "needs_background": "light"
     },
     "output_type": "display_data"
    }
   ],
   "source": [
    "lakers.salary.hist();"
   ]
  },
  {
   "cell_type": "markdown",
   "metadata": {},
   "source": [
    "Sometimes, you need to adjust the number of bins in order to get a clearer idea of the distribution of your dataset."
   ]
  },
  {
   "cell_type": "code",
   "execution_count": 39,
   "metadata": {},
   "outputs": [
    {
     "data": {
      "image/png": "[encoded data removed]",
      "text/plain": [
       "<Figure size 432x288 with 1 Axes>"
      ]
     },
     "metadata": {
      "needs_background": "light"
     },
     "output_type": "display_data"
    }
   ],
   "source": [
    "lakers.salary.hist(bins = 25);"
   ]
  },
  {
   "cell_type": "markdown",
   "metadata": {},
   "source": [
    "For our Lakers salary dataset, we can see that there are a few unusually large observations. Another way to say this is that the dataset has a long tail to the right. When a dataset has a long tail to the right, we say that it is **right-skewed**. Analogously, a dataset with a long tail to the left (unusually small observations) would be said to be **left-skewed**."
   ]
  },
  {
   "cell_type": "markdown",
   "metadata": {},
   "source": [
    "# Measures of Spread\n",
    "\n",
    "Give an idea of how similar or varied the observations in the dataset are. Typical measures: range, variance, and standard deviation."
   ]
  },
  {
   "cell_type": "markdown",
   "metadata": {},
   "source": [
    "## Range\n",
    "\n",
    "The range measures how \"wide\" a dataset is. It depends only on the largest and smallest observations.\n",
    "\n",
    "$$ \\text{range} = \\text{maximum observation} - \\text{minimum observation}$$"
   ]
  },
  {
   "cell_type": "code",
   "execution_count": 136,
   "metadata": {},
   "outputs": [
    {
     "data": {
      "text/html": [
       "<div>\n",
       "<style scoped>\n",
       "    .dataframe tbody tr th:only-of-type {\n",
       "        vertical-align: middle;\n",
       "    }\n",
       "\n",
       "    .dataframe tbody tr th {\n",
       "        vertical-align: top;\n",
       "    }\n",
       "\n",
       "    .dataframe thead th {\n",
       "        text-align: right;\n",
       "    }\n",
       "</style>\n",
       "<table border=\"1\" class=\"dataframe\">\n",
       "  <thead>\n",
       "    <tr style=\"text-align: right;\">\n",
       "      <th></th>\n",
       "      <th>player</th>\n",
       "      <th>salary</th>\n",
       "      <th>height_inches</th>\n",
       "      <th>deviation</th>\n",
       "      <th>squared_deviation</th>\n",
       "      <th>salary_z-score</th>\n",
       "      <th>height_z-score</th>\n",
       "    </tr>\n",
       "  </thead>\n",
       "  <tbody>\n",
       "    <tr>\n",
       "      <th>0</th>\n",
       "      <td>LeBron James</td>\n",
       "      <td>37436858</td>\n",
       "      <td>80</td>\n",
       "      <td>2.957912e+07</td>\n",
       "      <td>8.749243e+14</td>\n",
       "      <td>2.877437</td>\n",
       "      <td>0.442963</td>\n",
       "    </tr>\n",
       "  </tbody>\n",
       "</table>\n",
       "</div>"
      ],
      "text/plain": [
       "         player    salary  height_inches     deviation  squared_deviation  \\\n",
       "0  LeBron James  37436858             80  2.957912e+07       8.749243e+14   \n",
       "\n",
       "   salary_z-score  height_z-score  \n",
       "0        2.877437        0.442963  "
      ]
     },
     "execution_count": 136,
     "metadata": {},
     "output_type": "execute_result"
    }
   ],
   "source": [
    "lakers.nlargest(1, 'salary')"
   ]
  },
  {
   "cell_type": "code",
   "execution_count": 137,
   "metadata": {},
   "outputs": [
    {
     "data": {
      "text/html": [
       "<div>\n",
       "<style scoped>\n",
       "    .dataframe tbody tr th:only-of-type {\n",
       "        vertical-align: middle;\n",
       "    }\n",
       "\n",
       "    .dataframe tbody tr th {\n",
       "        vertical-align: top;\n",
       "    }\n",
       "\n",
       "    .dataframe thead th {\n",
       "        text-align: right;\n",
       "    }\n",
       "</style>\n",
       "<table border=\"1\" class=\"dataframe\">\n",
       "  <thead>\n",
       "    <tr style=\"text-align: right;\">\n",
       "      <th></th>\n",
       "      <th>player</th>\n",
       "      <th>salary</th>\n",
       "      <th>height_inches</th>\n",
       "      <th>deviation</th>\n",
       "      <th>squared_deviation</th>\n",
       "      <th>salary_z-score</th>\n",
       "      <th>height_z-score</th>\n",
       "    </tr>\n",
       "  </thead>\n",
       "  <tbody>\n",
       "    <tr>\n",
       "      <th>14</th>\n",
       "      <td>Talen Horton-Tucker</td>\n",
       "      <td>898310</td>\n",
       "      <td>76</td>\n",
       "      <td>-6.959428e+06</td>\n",
       "      <td>4.843364e+13</td>\n",
       "      <td>-0.677009</td>\n",
       "      <td>-0.712593</td>\n",
       "    </tr>\n",
       "  </tbody>\n",
       "</table>\n",
       "</div>"
      ],
      "text/plain": [
       "                 player  salary  height_inches     deviation  \\\n",
       "14  Talen Horton-Tucker  898310             76 -6.959428e+06   \n",
       "\n",
       "    squared_deviation  salary_z-score  height_z-score  \n",
       "14       4.843364e+13       -0.677009       -0.712593  "
      ]
     },
     "execution_count": 137,
     "metadata": {},
     "output_type": "execute_result"
    }
   ],
   "source": [
    "lakers.nsmallest(1, 'salary')"
   ]
  },
  {
   "cell_type": "code",
   "execution_count": 40,
   "metadata": {},
   "outputs": [
    {
     "data": {
      "text/plain": [
       "36538548"
      ]
     },
     "execution_count": 40,
     "metadata": {},
     "output_type": "execute_result"
    }
   ],
   "source": [
    "lakers.salary.max() - lakers.salary.min()"
   ]
  },
  {
   "cell_type": "markdown",
   "metadata": {},
   "source": [
    "Notice that since the range only uses the largest and smallest observations, while ignoring all others, it is very sensitive to unusually large or small observations."
   ]
  },
  {
   "cell_type": "markdown",
   "metadata": {},
   "source": [
    "## Variance and Standard Deviation\n",
    "\n",
    "The variance and standard deviation give an idea about how far, on average, observations are from the mean. The formula for variance and standard deviation differ depending on whether we are looking at the entire population or a sample.\n",
    "\n",
    "$$\\text{Population Variance: } \\sigma^2 = \\frac{\\sum\\limits_{i = 1}^n(x_i - \\mu)^2}{n}$$\n",
    "\n",
    "$$\\text{Population Standard Deviation: } \\sigma = \\sqrt{\\sigma^2} $$\n",
    "\n",
    "$$\\text{Sample Variance: } s^2 = \\frac{\\sum\\limits_{i = 1}^n(x_i - \\bar{x})^2}{n - 1}$$\n",
    "\n",
    "$$\\text{Sample Standard Deviation: } s = \\sqrt{s^2} $$"
   ]
  },
  {
   "cell_type": "markdown",
   "metadata": {},
   "source": [
    "Why the difference? When working with a sample, we divide by $n - 1$, that is, one less than the number of observations. Informally, the reason that we do this is that we are trying to approximate the population variance. We want to estimate the deviation from the mean, but at the same time, we don't know the true population mean to start with, only an estimate from the sample ($\\bar{x}$). So we are making an estimate using an estimate. To compensate for this, we need to inflate our estimate of the variance slightly, by dividing by $n - 1$ instead of $n$.\n",
    "\n",
    "Why do we have two measures - variance AND standard deviation? Notice that the units for the variance will be the squared original units.\n",
    "\n",
    "By taking the square root, we are putting our measure back into the original units."
   ]
  },
  {
   "cell_type": "markdown",
   "metadata": {},
   "source": [
    "By default, most function that calculate the variance or standard deviation will assume that we are looking at a sample. However, in this case, we have the entire population, so we need to adjust it. If we are using `pandas` methods, we can specify `ddof = 0`, which sets the \"delta degrees of freedom\", or the amount that the \"degrees of freedom\" differ from the number of observations, to be 0."
   ]
  },
  {
   "cell_type": "code",
   "execution_count": 41,
   "metadata": {},
   "outputs": [
    {
     "data": {
      "text/plain": [
       "105671728309241.28"
      ]
     },
     "execution_count": 41,
     "metadata": {},
     "output_type": "execute_result"
    }
   ],
   "source": [
    "lakers.salary.var(ddof = 0)"
   ]
  },
  {
   "cell_type": "code",
   "execution_count": 42,
   "metadata": {},
   "outputs": [
    {
     "data": {
      "text/plain": [
       "10279675.496300517"
      ]
     },
     "execution_count": 42,
     "metadata": {},
     "output_type": "execute_result"
    }
   ],
   "source": [
    "lakers.salary.std(ddof = 0)"
   ]
  },
  {
   "cell_type": "code",
   "execution_count": 43,
   "metadata": {},
   "outputs": [
    {
     "data": {
      "text/html": [
       "<div>\n",
       "<style scoped>\n",
       "    .dataframe tbody tr th:only-of-type {\n",
       "        vertical-align: middle;\n",
       "    }\n",
       "\n",
       "    .dataframe tbody tr th {\n",
       "        vertical-align: top;\n",
       "    }\n",
       "\n",
       "    .dataframe thead th {\n",
       "        text-align: right;\n",
       "    }\n",
       "</style>\n",
       "<table border=\"1\" class=\"dataframe\">\n",
       "  <thead>\n",
       "    <tr style=\"text-align: right;\">\n",
       "      <th></th>\n",
       "      <th>player</th>\n",
       "      <th>salary</th>\n",
       "      <th>height_inches</th>\n",
       "      <th>deviation</th>\n",
       "    </tr>\n",
       "  </thead>\n",
       "  <tbody>\n",
       "    <tr>\n",
       "      <th>0</th>\n",
       "      <td>LeBron James</td>\n",
       "      <td>37436858</td>\n",
       "      <td>80</td>\n",
       "      <td>2.957912e+07</td>\n",
       "    </tr>\n",
       "    <tr>\n",
       "      <th>1</th>\n",
       "      <td>Anthony Davis</td>\n",
       "      <td>27093019</td>\n",
       "      <td>82</td>\n",
       "      <td>1.923528e+07</td>\n",
       "    </tr>\n",
       "    <tr>\n",
       "      <th>2</th>\n",
       "      <td>Danny Green</td>\n",
       "      <td>14634146</td>\n",
       "      <td>78</td>\n",
       "      <td>6.776408e+06</td>\n",
       "    </tr>\n",
       "    <tr>\n",
       "      <th>3</th>\n",
       "      <td>Kentavious Caldwell-Pope</td>\n",
       "      <td>8089282</td>\n",
       "      <td>77</td>\n",
       "      <td>2.315441e+05</td>\n",
       "    </tr>\n",
       "    <tr>\n",
       "      <th>4</th>\n",
       "      <td>Avery Bradley</td>\n",
       "      <td>4767000</td>\n",
       "      <td>74</td>\n",
       "      <td>-3.090738e+06</td>\n",
       "    </tr>\n",
       "    <tr>\n",
       "      <th>5</th>\n",
       "      <td>JaVale McGee</td>\n",
       "      <td>4000000</td>\n",
       "      <td>84</td>\n",
       "      <td>-3.857738e+06</td>\n",
       "    </tr>\n",
       "    <tr>\n",
       "      <th>6</th>\n",
       "      <td>DeMarcus Cousins</td>\n",
       "      <td>3500000</td>\n",
       "      <td>83</td>\n",
       "      <td>-4.357738e+06</td>\n",
       "    </tr>\n",
       "    <tr>\n",
       "      <th>7</th>\n",
       "      <td>Quinn Cook</td>\n",
       "      <td>3000000</td>\n",
       "      <td>74</td>\n",
       "      <td>-4.857738e+06</td>\n",
       "    </tr>\n",
       "    <tr>\n",
       "      <th>8</th>\n",
       "      <td>Alex Caruso</td>\n",
       "      <td>2750000</td>\n",
       "      <td>77</td>\n",
       "      <td>-5.107738e+06</td>\n",
       "    </tr>\n",
       "    <tr>\n",
       "      <th>9</th>\n",
       "      <td>Jared Dudley</td>\n",
       "      <td>2564753</td>\n",
       "      <td>79</td>\n",
       "      <td>-5.292985e+06</td>\n",
       "    </tr>\n",
       "    <tr>\n",
       "      <th>10</th>\n",
       "      <td>Dwight Howard</td>\n",
       "      <td>2564753</td>\n",
       "      <td>83</td>\n",
       "      <td>-5.292985e+06</td>\n",
       "    </tr>\n",
       "    <tr>\n",
       "      <th>11</th>\n",
       "      <td>Rajon Rondo</td>\n",
       "      <td>2564753</td>\n",
       "      <td>73</td>\n",
       "      <td>-5.292985e+06</td>\n",
       "    </tr>\n",
       "    <tr>\n",
       "      <th>12</th>\n",
       "      <td>Troy Daniels</td>\n",
       "      <td>2028594</td>\n",
       "      <td>76</td>\n",
       "      <td>-5.829144e+06</td>\n",
       "    </tr>\n",
       "    <tr>\n",
       "      <th>13</th>\n",
       "      <td>Kyle Kuzma</td>\n",
       "      <td>1974600</td>\n",
       "      <td>81</td>\n",
       "      <td>-5.883138e+06</td>\n",
       "    </tr>\n",
       "    <tr>\n",
       "      <th>14</th>\n",
       "      <td>Talen Horton-Tucker</td>\n",
       "      <td>898310</td>\n",
       "      <td>76</td>\n",
       "      <td>-6.959428e+06</td>\n",
       "    </tr>\n",
       "  </tbody>\n",
       "</table>\n",
       "</div>"
      ],
      "text/plain": [
       "                      player    salary  height_inches     deviation\n",
       "0               LeBron James  37436858             80  2.957912e+07\n",
       "1              Anthony Davis  27093019             82  1.923528e+07\n",
       "2                Danny Green  14634146             78  6.776408e+06\n",
       "3   Kentavious Caldwell-Pope   8089282             77  2.315441e+05\n",
       "4              Avery Bradley   4767000             74 -3.090738e+06\n",
       "5               JaVale McGee   4000000             84 -3.857738e+06\n",
       "6           DeMarcus Cousins   3500000             83 -4.357738e+06\n",
       "7                 Quinn Cook   3000000             74 -4.857738e+06\n",
       "8                Alex Caruso   2750000             77 -5.107738e+06\n",
       "9               Jared Dudley   2564753             79 -5.292985e+06\n",
       "10             Dwight Howard   2564753             83 -5.292985e+06\n",
       "11               Rajon Rondo   2564753             73 -5.292985e+06\n",
       "12              Troy Daniels   2028594             76 -5.829144e+06\n",
       "13                Kyle Kuzma   1974600             81 -5.883138e+06\n",
       "14       Talen Horton-Tucker    898310             76 -6.959428e+06"
      ]
     },
     "execution_count": 43,
     "metadata": {},
     "output_type": "execute_result"
    }
   ],
   "source": [
    "lakers['deviation'] = lakers.salary - lakers.salary.mean()\n",
    "lakers"
   ]
  },
  {
   "cell_type": "code",
   "execution_count": 44,
   "metadata": {},
   "outputs": [
    {
     "data": {
      "text/html": [
       "<div>\n",
       "<style scoped>\n",
       "    .dataframe tbody tr th:only-of-type {\n",
       "        vertical-align: middle;\n",
       "    }\n",
       "\n",
       "    .dataframe tbody tr th {\n",
       "        vertical-align: top;\n",
       "    }\n",
       "\n",
       "    .dataframe thead th {\n",
       "        text-align: right;\n",
       "    }\n",
       "</style>\n",
       "<table border=\"1\" class=\"dataframe\">\n",
       "  <thead>\n",
       "    <tr style=\"text-align: right;\">\n",
       "      <th></th>\n",
       "      <th>player</th>\n",
       "      <th>salary</th>\n",
       "      <th>height_inches</th>\n",
       "      <th>deviation</th>\n",
       "      <th>squared_deviation</th>\n",
       "    </tr>\n",
       "  </thead>\n",
       "  <tbody>\n",
       "    <tr>\n",
       "      <th>0</th>\n",
       "      <td>LeBron James</td>\n",
       "      <td>37436858</td>\n",
       "      <td>80</td>\n",
       "      <td>2.957912e+07</td>\n",
       "      <td>8.749243e+14</td>\n",
       "    </tr>\n",
       "    <tr>\n",
       "      <th>1</th>\n",
       "      <td>Anthony Davis</td>\n",
       "      <td>27093019</td>\n",
       "      <td>82</td>\n",
       "      <td>1.923528e+07</td>\n",
       "      <td>3.699960e+14</td>\n",
       "    </tr>\n",
       "    <tr>\n",
       "      <th>2</th>\n",
       "      <td>Danny Green</td>\n",
       "      <td>14634146</td>\n",
       "      <td>78</td>\n",
       "      <td>6.776408e+06</td>\n",
       "      <td>4.591971e+13</td>\n",
       "    </tr>\n",
       "    <tr>\n",
       "      <th>3</th>\n",
       "      <td>Kentavious Caldwell-Pope</td>\n",
       "      <td>8089282</td>\n",
       "      <td>77</td>\n",
       "      <td>2.315441e+05</td>\n",
       "      <td>5.361269e+10</td>\n",
       "    </tr>\n",
       "    <tr>\n",
       "      <th>4</th>\n",
       "      <td>Avery Bradley</td>\n",
       "      <td>4767000</td>\n",
       "      <td>74</td>\n",
       "      <td>-3.090738e+06</td>\n",
       "      <td>9.552661e+12</td>\n",
       "    </tr>\n",
       "    <tr>\n",
       "      <th>5</th>\n",
       "      <td>JaVale McGee</td>\n",
       "      <td>4000000</td>\n",
       "      <td>84</td>\n",
       "      <td>-3.857738e+06</td>\n",
       "      <td>1.488214e+13</td>\n",
       "    </tr>\n",
       "    <tr>\n",
       "      <th>6</th>\n",
       "      <td>DeMarcus Cousins</td>\n",
       "      <td>3500000</td>\n",
       "      <td>83</td>\n",
       "      <td>-4.357738e+06</td>\n",
       "      <td>1.898988e+13</td>\n",
       "    </tr>\n",
       "    <tr>\n",
       "      <th>7</th>\n",
       "      <td>Quinn Cook</td>\n",
       "      <td>3000000</td>\n",
       "      <td>74</td>\n",
       "      <td>-4.857738e+06</td>\n",
       "      <td>2.359762e+13</td>\n",
       "    </tr>\n",
       "    <tr>\n",
       "      <th>8</th>\n",
       "      <td>Alex Caruso</td>\n",
       "      <td>2750000</td>\n",
       "      <td>77</td>\n",
       "      <td>-5.107738e+06</td>\n",
       "      <td>2.608899e+13</td>\n",
       "    </tr>\n",
       "    <tr>\n",
       "      <th>9</th>\n",
       "      <td>Jared Dudley</td>\n",
       "      <td>2564753</td>\n",
       "      <td>79</td>\n",
       "      <td>-5.292985e+06</td>\n",
       "      <td>2.801569e+13</td>\n",
       "    </tr>\n",
       "    <tr>\n",
       "      <th>10</th>\n",
       "      <td>Dwight Howard</td>\n",
       "      <td>2564753</td>\n",
       "      <td>83</td>\n",
       "      <td>-5.292985e+06</td>\n",
       "      <td>2.801569e+13</td>\n",
       "    </tr>\n",
       "    <tr>\n",
       "      <th>11</th>\n",
       "      <td>Rajon Rondo</td>\n",
       "      <td>2564753</td>\n",
       "      <td>73</td>\n",
       "      <td>-5.292985e+06</td>\n",
       "      <td>2.801569e+13</td>\n",
       "    </tr>\n",
       "    <tr>\n",
       "      <th>12</th>\n",
       "      <td>Troy Daniels</td>\n",
       "      <td>2028594</td>\n",
       "      <td>76</td>\n",
       "      <td>-5.829144e+06</td>\n",
       "      <td>3.397892e+13</td>\n",
       "    </tr>\n",
       "    <tr>\n",
       "      <th>13</th>\n",
       "      <td>Kyle Kuzma</td>\n",
       "      <td>1974600</td>\n",
       "      <td>81</td>\n",
       "      <td>-5.883138e+06</td>\n",
       "      <td>3.461131e+13</td>\n",
       "    </tr>\n",
       "    <tr>\n",
       "      <th>14</th>\n",
       "      <td>Talen Horton-Tucker</td>\n",
       "      <td>898310</td>\n",
       "      <td>76</td>\n",
       "      <td>-6.959428e+06</td>\n",
       "      <td>4.843364e+13</td>\n",
       "    </tr>\n",
       "  </tbody>\n",
       "</table>\n",
       "</div>"
      ],
      "text/plain": [
       "                      player    salary  height_inches     deviation  \\\n",
       "0               LeBron James  37436858             80  2.957912e+07   \n",
       "1              Anthony Davis  27093019             82  1.923528e+07   \n",
       "2                Danny Green  14634146             78  6.776408e+06   \n",
       "3   Kentavious Caldwell-Pope   8089282             77  2.315441e+05   \n",
       "4              Avery Bradley   4767000             74 -3.090738e+06   \n",
       "5               JaVale McGee   4000000             84 -3.857738e+06   \n",
       "6           DeMarcus Cousins   3500000             83 -4.357738e+06   \n",
       "7                 Quinn Cook   3000000             74 -4.857738e+06   \n",
       "8                Alex Caruso   2750000             77 -5.107738e+06   \n",
       "9               Jared Dudley   2564753             79 -5.292985e+06   \n",
       "10             Dwight Howard   2564753             83 -5.292985e+06   \n",
       "11               Rajon Rondo   2564753             73 -5.292985e+06   \n",
       "12              Troy Daniels   2028594             76 -5.829144e+06   \n",
       "13                Kyle Kuzma   1974600             81 -5.883138e+06   \n",
       "14       Talen Horton-Tucker    898310             76 -6.959428e+06   \n",
       "\n",
       "    squared_deviation  \n",
       "0        8.749243e+14  \n",
       "1        3.699960e+14  \n",
       "2        4.591971e+13  \n",
       "3        5.361269e+10  \n",
       "4        9.552661e+12  \n",
       "5        1.488214e+13  \n",
       "6        1.898988e+13  \n",
       "7        2.359762e+13  \n",
       "8        2.608899e+13  \n",
       "9        2.801569e+13  \n",
       "10       2.801569e+13  \n",
       "11       2.801569e+13  \n",
       "12       3.397892e+13  \n",
       "13       3.461131e+13  \n",
       "14       4.843364e+13  "
      ]
     },
     "execution_count": 44,
     "metadata": {},
     "output_type": "execute_result"
    }
   ],
   "source": [
    "lakers['squared_deviation'] = lakers.deviation**2\n",
    "lakers"
   ]
  },
  {
   "cell_type": "code",
   "execution_count": 45,
   "metadata": {},
   "outputs": [
    {
     "data": {
      "text/plain": [
       "105671728309241.28"
      ]
     },
     "execution_count": 45,
     "metadata": {},
     "output_type": "execute_result"
    }
   ],
   "source": [
    "lakers.squared_deviation.mean()"
   ]
  },
  {
   "cell_type": "code",
   "execution_count": null,
   "metadata": {},
   "outputs": [],
   "source": []
  },
  {
   "cell_type": "markdown",
   "metadata": {},
   "source": [
    "# Measures of Position\n",
    "\n",
    "Measures of position have to do with ranking where an observation is in the dataset with respect to all other values."
   ]
  },
  {
   "cell_type": "markdown",
   "metadata": {},
   "source": [
    "## $z$-scores\n",
    "\n",
    "A $z$-score measures the position of an observation, in terms of number of standard deviations from the mean. In some sense, it measures how \"unusual\" a particular observation is. It is unitless, which makes it easier to interpret in many cases. \n",
    "\n",
    "$$ z\\text{-score} = \\frac{\\text{observation} - \\bar{x}}{s^2}$$\n",
    "\n",
    "A $z$-score of 1.4 says that an observation is 1.4 standard deviations larger than the average value, whereas a $z$-score of -2.8 says that an observation is 2.8 standard deviations lower than the mean.\n",
    "\n",
    "If a dataset is reasonably close to normally-distributed (meaning that the histogram looks roughly bell-shaped), then it will be highly unusual for an observation to have a $z$-score with magnitude 3 or larger.\n",
    "\n",
    "Warning about $z$-scores: Be careful when using $z$-scores for small datasets. The maximum $z$-score is limited to $\\frac{n−1}{\\sqrt{n}}$ For our dataset of 15 observations, the maximum $z$-score is $\\frac{14}{\\sqrt{15}} \\approx 3.6$. \n",
    "\n",
    "Further complicating the situation when there are outliers is that an outlier can inflate the mean and standard deviation, especially for a small dataset."
   ]
  },
  {
   "cell_type": "code",
   "execution_count": 46,
   "metadata": {},
   "outputs": [
    {
     "data": {
      "text/html": [
       "<div>\n",
       "<style scoped>\n",
       "    .dataframe tbody tr th:only-of-type {\n",
       "        vertical-align: middle;\n",
       "    }\n",
       "\n",
       "    .dataframe tbody tr th {\n",
       "        vertical-align: top;\n",
       "    }\n",
       "\n",
       "    .dataframe thead th {\n",
       "        text-align: right;\n",
       "    }\n",
       "</style>\n",
       "<table border=\"1\" class=\"dataframe\">\n",
       "  <thead>\n",
       "    <tr style=\"text-align: right;\">\n",
       "      <th></th>\n",
       "      <th>player</th>\n",
       "      <th>salary</th>\n",
       "      <th>height_inches</th>\n",
       "      <th>deviation</th>\n",
       "      <th>squared_deviation</th>\n",
       "      <th>salary_z-score</th>\n",
       "    </tr>\n",
       "  </thead>\n",
       "  <tbody>\n",
       "    <tr>\n",
       "      <th>0</th>\n",
       "      <td>LeBron James</td>\n",
       "      <td>37436858</td>\n",
       "      <td>80</td>\n",
       "      <td>2.957912e+07</td>\n",
       "      <td>8.749243e+14</td>\n",
       "      <td>2.877437</td>\n",
       "    </tr>\n",
       "    <tr>\n",
       "      <th>1</th>\n",
       "      <td>Anthony Davis</td>\n",
       "      <td>27093019</td>\n",
       "      <td>82</td>\n",
       "      <td>1.923528e+07</td>\n",
       "      <td>3.699960e+14</td>\n",
       "      <td>1.871195</td>\n",
       "    </tr>\n",
       "    <tr>\n",
       "      <th>2</th>\n",
       "      <td>Danny Green</td>\n",
       "      <td>14634146</td>\n",
       "      <td>78</td>\n",
       "      <td>6.776408e+06</td>\n",
       "      <td>4.591971e+13</td>\n",
       "      <td>0.659204</td>\n",
       "    </tr>\n",
       "    <tr>\n",
       "      <th>3</th>\n",
       "      <td>Kentavious Caldwell-Pope</td>\n",
       "      <td>8089282</td>\n",
       "      <td>77</td>\n",
       "      <td>2.315441e+05</td>\n",
       "      <td>5.361269e+10</td>\n",
       "      <td>0.022524</td>\n",
       "    </tr>\n",
       "    <tr>\n",
       "      <th>4</th>\n",
       "      <td>Avery Bradley</td>\n",
       "      <td>4767000</td>\n",
       "      <td>74</td>\n",
       "      <td>-3.090738e+06</td>\n",
       "      <td>9.552661e+12</td>\n",
       "      <td>-0.300665</td>\n",
       "    </tr>\n",
       "    <tr>\n",
       "      <th>5</th>\n",
       "      <td>JaVale McGee</td>\n",
       "      <td>4000000</td>\n",
       "      <td>84</td>\n",
       "      <td>-3.857738e+06</td>\n",
       "      <td>1.488214e+13</td>\n",
       "      <td>-0.375278</td>\n",
       "    </tr>\n",
       "    <tr>\n",
       "      <th>6</th>\n",
       "      <td>DeMarcus Cousins</td>\n",
       "      <td>3500000</td>\n",
       "      <td>83</td>\n",
       "      <td>-4.357738e+06</td>\n",
       "      <td>1.898988e+13</td>\n",
       "      <td>-0.423918</td>\n",
       "    </tr>\n",
       "    <tr>\n",
       "      <th>7</th>\n",
       "      <td>Quinn Cook</td>\n",
       "      <td>3000000</td>\n",
       "      <td>74</td>\n",
       "      <td>-4.857738e+06</td>\n",
       "      <td>2.359762e+13</td>\n",
       "      <td>-0.472558</td>\n",
       "    </tr>\n",
       "    <tr>\n",
       "      <th>8</th>\n",
       "      <td>Alex Caruso</td>\n",
       "      <td>2750000</td>\n",
       "      <td>77</td>\n",
       "      <td>-5.107738e+06</td>\n",
       "      <td>2.608899e+13</td>\n",
       "      <td>-0.496877</td>\n",
       "    </tr>\n",
       "    <tr>\n",
       "      <th>9</th>\n",
       "      <td>Jared Dudley</td>\n",
       "      <td>2564753</td>\n",
       "      <td>79</td>\n",
       "      <td>-5.292985e+06</td>\n",
       "      <td>2.801569e+13</td>\n",
       "      <td>-0.514898</td>\n",
       "    </tr>\n",
       "    <tr>\n",
       "      <th>10</th>\n",
       "      <td>Dwight Howard</td>\n",
       "      <td>2564753</td>\n",
       "      <td>83</td>\n",
       "      <td>-5.292985e+06</td>\n",
       "      <td>2.801569e+13</td>\n",
       "      <td>-0.514898</td>\n",
       "    </tr>\n",
       "    <tr>\n",
       "      <th>11</th>\n",
       "      <td>Rajon Rondo</td>\n",
       "      <td>2564753</td>\n",
       "      <td>73</td>\n",
       "      <td>-5.292985e+06</td>\n",
       "      <td>2.801569e+13</td>\n",
       "      <td>-0.514898</td>\n",
       "    </tr>\n",
       "    <tr>\n",
       "      <th>12</th>\n",
       "      <td>Troy Daniels</td>\n",
       "      <td>2028594</td>\n",
       "      <td>76</td>\n",
       "      <td>-5.829144e+06</td>\n",
       "      <td>3.397892e+13</td>\n",
       "      <td>-0.567055</td>\n",
       "    </tr>\n",
       "    <tr>\n",
       "      <th>13</th>\n",
       "      <td>Kyle Kuzma</td>\n",
       "      <td>1974600</td>\n",
       "      <td>81</td>\n",
       "      <td>-5.883138e+06</td>\n",
       "      <td>3.461131e+13</td>\n",
       "      <td>-0.572308</td>\n",
       "    </tr>\n",
       "    <tr>\n",
       "      <th>14</th>\n",
       "      <td>Talen Horton-Tucker</td>\n",
       "      <td>898310</td>\n",
       "      <td>76</td>\n",
       "      <td>-6.959428e+06</td>\n",
       "      <td>4.843364e+13</td>\n",
       "      <td>-0.677009</td>\n",
       "    </tr>\n",
       "  </tbody>\n",
       "</table>\n",
       "</div>"
      ],
      "text/plain": [
       "                      player    salary  height_inches     deviation  \\\n",
       "0               LeBron James  37436858             80  2.957912e+07   \n",
       "1              Anthony Davis  27093019             82  1.923528e+07   \n",
       "2                Danny Green  14634146             78  6.776408e+06   \n",
       "3   Kentavious Caldwell-Pope   8089282             77  2.315441e+05   \n",
       "4              Avery Bradley   4767000             74 -3.090738e+06   \n",
       "5               JaVale McGee   4000000             84 -3.857738e+06   \n",
       "6           DeMarcus Cousins   3500000             83 -4.357738e+06   \n",
       "7                 Quinn Cook   3000000             74 -4.857738e+06   \n",
       "8                Alex Caruso   2750000             77 -5.107738e+06   \n",
       "9               Jared Dudley   2564753             79 -5.292985e+06   \n",
       "10             Dwight Howard   2564753             83 -5.292985e+06   \n",
       "11               Rajon Rondo   2564753             73 -5.292985e+06   \n",
       "12              Troy Daniels   2028594             76 -5.829144e+06   \n",
       "13                Kyle Kuzma   1974600             81 -5.883138e+06   \n",
       "14       Talen Horton-Tucker    898310             76 -6.959428e+06   \n",
       "\n",
       "    squared_deviation  salary_z-score  \n",
       "0        8.749243e+14        2.877437  \n",
       "1        3.699960e+14        1.871195  \n",
       "2        4.591971e+13        0.659204  \n",
       "3        5.361269e+10        0.022524  \n",
       "4        9.552661e+12       -0.300665  \n",
       "5        1.488214e+13       -0.375278  \n",
       "6        1.898988e+13       -0.423918  \n",
       "7        2.359762e+13       -0.472558  \n",
       "8        2.608899e+13       -0.496877  \n",
       "9        2.801569e+13       -0.514898  \n",
       "10       2.801569e+13       -0.514898  \n",
       "11       2.801569e+13       -0.514898  \n",
       "12       3.397892e+13       -0.567055  \n",
       "13       3.461131e+13       -0.572308  \n",
       "14       4.843364e+13       -0.677009  "
      ]
     },
     "execution_count": 46,
     "metadata": {},
     "output_type": "execute_result"
    }
   ],
   "source": [
    "lakers['salary_z-score'] = (lakers.salary - lakers.salary.mean()) / lakers.salary.std(ddof = 0)\n",
    "lakers"
   ]
  },
  {
   "cell_type": "code",
   "execution_count": 47,
   "metadata": {},
   "outputs": [
    {
     "data": {
      "image/png": "[encoded data removed]",
      "text/plain": [
       "<Figure size 432x288 with 1 Axes>"
      ]
     },
     "metadata": {
      "needs_background": "light"
     },
     "output_type": "display_data"
    }
   ],
   "source": [
    "lakers.height_inches.hist();"
   ]
  },
  {
   "cell_type": "code",
   "execution_count": 48,
   "metadata": {},
   "outputs": [
    {
     "data": {
      "text/html": [
       "<div>\n",
       "<style scoped>\n",
       "    .dataframe tbody tr th:only-of-type {\n",
       "        vertical-align: middle;\n",
       "    }\n",
       "\n",
       "    .dataframe tbody tr th {\n",
       "        vertical-align: top;\n",
       "    }\n",
       "\n",
       "    .dataframe thead th {\n",
       "        text-align: right;\n",
       "    }\n",
       "</style>\n",
       "<table border=\"1\" class=\"dataframe\">\n",
       "  <thead>\n",
       "    <tr style=\"text-align: right;\">\n",
       "      <th></th>\n",
       "      <th>player</th>\n",
       "      <th>salary</th>\n",
       "      <th>height_inches</th>\n",
       "      <th>deviation</th>\n",
       "      <th>squared_deviation</th>\n",
       "      <th>salary_z-score</th>\n",
       "      <th>height_z-score</th>\n",
       "    </tr>\n",
       "  </thead>\n",
       "  <tbody>\n",
       "    <tr>\n",
       "      <th>0</th>\n",
       "      <td>LeBron James</td>\n",
       "      <td>37436858</td>\n",
       "      <td>80</td>\n",
       "      <td>2.957912e+07</td>\n",
       "      <td>8.749243e+14</td>\n",
       "      <td>2.877437</td>\n",
       "      <td>0.442963</td>\n",
       "    </tr>\n",
       "    <tr>\n",
       "      <th>1</th>\n",
       "      <td>Anthony Davis</td>\n",
       "      <td>27093019</td>\n",
       "      <td>82</td>\n",
       "      <td>1.923528e+07</td>\n",
       "      <td>3.699960e+14</td>\n",
       "      <td>1.871195</td>\n",
       "      <td>1.020742</td>\n",
       "    </tr>\n",
       "    <tr>\n",
       "      <th>2</th>\n",
       "      <td>Danny Green</td>\n",
       "      <td>14634146</td>\n",
       "      <td>78</td>\n",
       "      <td>6.776408e+06</td>\n",
       "      <td>4.591971e+13</td>\n",
       "      <td>0.659204</td>\n",
       "      <td>-0.134815</td>\n",
       "    </tr>\n",
       "    <tr>\n",
       "      <th>3</th>\n",
       "      <td>Kentavious Caldwell-Pope</td>\n",
       "      <td>8089282</td>\n",
       "      <td>77</td>\n",
       "      <td>2.315441e+05</td>\n",
       "      <td>5.361269e+10</td>\n",
       "      <td>0.022524</td>\n",
       "      <td>-0.423704</td>\n",
       "    </tr>\n",
       "    <tr>\n",
       "      <th>4</th>\n",
       "      <td>Avery Bradley</td>\n",
       "      <td>4767000</td>\n",
       "      <td>74</td>\n",
       "      <td>-3.090738e+06</td>\n",
       "      <td>9.552661e+12</td>\n",
       "      <td>-0.300665</td>\n",
       "      <td>-1.290372</td>\n",
       "    </tr>\n",
       "    <tr>\n",
       "      <th>5</th>\n",
       "      <td>JaVale McGee</td>\n",
       "      <td>4000000</td>\n",
       "      <td>84</td>\n",
       "      <td>-3.857738e+06</td>\n",
       "      <td>1.488214e+13</td>\n",
       "      <td>-0.375278</td>\n",
       "      <td>1.598520</td>\n",
       "    </tr>\n",
       "    <tr>\n",
       "      <th>6</th>\n",
       "      <td>DeMarcus Cousins</td>\n",
       "      <td>3500000</td>\n",
       "      <td>83</td>\n",
       "      <td>-4.357738e+06</td>\n",
       "      <td>1.898988e+13</td>\n",
       "      <td>-0.423918</td>\n",
       "      <td>1.309631</td>\n",
       "    </tr>\n",
       "    <tr>\n",
       "      <th>7</th>\n",
       "      <td>Quinn Cook</td>\n",
       "      <td>3000000</td>\n",
       "      <td>74</td>\n",
       "      <td>-4.857738e+06</td>\n",
       "      <td>2.359762e+13</td>\n",
       "      <td>-0.472558</td>\n",
       "      <td>-1.290372</td>\n",
       "    </tr>\n",
       "    <tr>\n",
       "      <th>8</th>\n",
       "      <td>Alex Caruso</td>\n",
       "      <td>2750000</td>\n",
       "      <td>77</td>\n",
       "      <td>-5.107738e+06</td>\n",
       "      <td>2.608899e+13</td>\n",
       "      <td>-0.496877</td>\n",
       "      <td>-0.423704</td>\n",
       "    </tr>\n",
       "    <tr>\n",
       "      <th>9</th>\n",
       "      <td>Jared Dudley</td>\n",
       "      <td>2564753</td>\n",
       "      <td>79</td>\n",
       "      <td>-5.292985e+06</td>\n",
       "      <td>2.801569e+13</td>\n",
       "      <td>-0.514898</td>\n",
       "      <td>0.154074</td>\n",
       "    </tr>\n",
       "    <tr>\n",
       "      <th>10</th>\n",
       "      <td>Dwight Howard</td>\n",
       "      <td>2564753</td>\n",
       "      <td>83</td>\n",
       "      <td>-5.292985e+06</td>\n",
       "      <td>2.801569e+13</td>\n",
       "      <td>-0.514898</td>\n",
       "      <td>1.309631</td>\n",
       "    </tr>\n",
       "    <tr>\n",
       "      <th>11</th>\n",
       "      <td>Rajon Rondo</td>\n",
       "      <td>2564753</td>\n",
       "      <td>73</td>\n",
       "      <td>-5.292985e+06</td>\n",
       "      <td>2.801569e+13</td>\n",
       "      <td>-0.514898</td>\n",
       "      <td>-1.579261</td>\n",
       "    </tr>\n",
       "    <tr>\n",
       "      <th>12</th>\n",
       "      <td>Troy Daniels</td>\n",
       "      <td>2028594</td>\n",
       "      <td>76</td>\n",
       "      <td>-5.829144e+06</td>\n",
       "      <td>3.397892e+13</td>\n",
       "      <td>-0.567055</td>\n",
       "      <td>-0.712593</td>\n",
       "    </tr>\n",
       "    <tr>\n",
       "      <th>13</th>\n",
       "      <td>Kyle Kuzma</td>\n",
       "      <td>1974600</td>\n",
       "      <td>81</td>\n",
       "      <td>-5.883138e+06</td>\n",
       "      <td>3.461131e+13</td>\n",
       "      <td>-0.572308</td>\n",
       "      <td>0.731853</td>\n",
       "    </tr>\n",
       "    <tr>\n",
       "      <th>14</th>\n",
       "      <td>Talen Horton-Tucker</td>\n",
       "      <td>898310</td>\n",
       "      <td>76</td>\n",
       "      <td>-6.959428e+06</td>\n",
       "      <td>4.843364e+13</td>\n",
       "      <td>-0.677009</td>\n",
       "      <td>-0.712593</td>\n",
       "    </tr>\n",
       "  </tbody>\n",
       "</table>\n",
       "</div>"
      ],
      "text/plain": [
       "                      player    salary  height_inches     deviation  \\\n",
       "0               LeBron James  37436858             80  2.957912e+07   \n",
       "1              Anthony Davis  27093019             82  1.923528e+07   \n",
       "2                Danny Green  14634146             78  6.776408e+06   \n",
       "3   Kentavious Caldwell-Pope   8089282             77  2.315441e+05   \n",
       "4              Avery Bradley   4767000             74 -3.090738e+06   \n",
       "5               JaVale McGee   4000000             84 -3.857738e+06   \n",
       "6           DeMarcus Cousins   3500000             83 -4.357738e+06   \n",
       "7                 Quinn Cook   3000000             74 -4.857738e+06   \n",
       "8                Alex Caruso   2750000             77 -5.107738e+06   \n",
       "9               Jared Dudley   2564753             79 -5.292985e+06   \n",
       "10             Dwight Howard   2564753             83 -5.292985e+06   \n",
       "11               Rajon Rondo   2564753             73 -5.292985e+06   \n",
       "12              Troy Daniels   2028594             76 -5.829144e+06   \n",
       "13                Kyle Kuzma   1974600             81 -5.883138e+06   \n",
       "14       Talen Horton-Tucker    898310             76 -6.959428e+06   \n",
       "\n",
       "    squared_deviation  salary_z-score  height_z-score  \n",
       "0        8.749243e+14        2.877437        0.442963  \n",
       "1        3.699960e+14        1.871195        1.020742  \n",
       "2        4.591971e+13        0.659204       -0.134815  \n",
       "3        5.361269e+10        0.022524       -0.423704  \n",
       "4        9.552661e+12       -0.300665       -1.290372  \n",
       "5        1.488214e+13       -0.375278        1.598520  \n",
       "6        1.898988e+13       -0.423918        1.309631  \n",
       "7        2.359762e+13       -0.472558       -1.290372  \n",
       "8        2.608899e+13       -0.496877       -0.423704  \n",
       "9        2.801569e+13       -0.514898        0.154074  \n",
       "10       2.801569e+13       -0.514898        1.309631  \n",
       "11       2.801569e+13       -0.514898       -1.579261  \n",
       "12       3.397892e+13       -0.567055       -0.712593  \n",
       "13       3.461131e+13       -0.572308        0.731853  \n",
       "14       4.843364e+13       -0.677009       -0.712593  "
      ]
     },
     "execution_count": 48,
     "metadata": {},
     "output_type": "execute_result"
    }
   ],
   "source": [
    "lakers['height_z-score'] = (lakers.height_inches - lakers.height_inches.mean()) / lakers.height_inches.std(ddof = 0)\n",
    "lakers"
   ]
  },
  {
   "cell_type": "markdown",
   "metadata": {},
   "source": [
    "From this, we can see that the heights of players on the team show (relatively) less dispersion. While Lebron James' salary is nearly 3 standard deviations above the average salary, the tallest player is only about 1.6 standard deviations above average.\n",
    "\n",
    "Further, we can see that the distributions of heights is much more symmetric, and does not have a tail to either side. At the same time, for this distribution, it is not really bell-shaped either, since we do not see a large number of players near the average height."
   ]
  },
  {
   "cell_type": "markdown",
   "metadata": {},
   "source": [
    "## Relative Standard Deviation (Coefficient of Variation)\n",
    "\n",
    "$\\text{CV} = \\frac{\\sigma}{\\mu}$\n",
    "\n",
    "How large is the standard deviation when compared to the mean? Useful for comparing the distribution of two variables, when they are measured on different scales.\n",
    "\n",
    "Maybe this is skippable??"
   ]
  },
  {
   "cell_type": "markdown",
   "metadata": {},
   "source": [
    "## Quartiles and Quantiles/Percentiles\n",
    "\n",
    "We have already encountered a special case of quantiles and percentiles, in the form of the median. Recall that the median of a dataset is middle observation, if the observations are placed in ascending order. Another way to view this is that the median separates the lower half of the dataset from the upper half.\n",
    "\n",
    "Instead of dividing a dataset into halves, **quartiles** divide a dataset into quarters. The **first quartile** separates the smallest quarter of observations from the highest three-quarters, the **second quartile**, aka the median, separates teh smallest half of observations from the largest half of observations, and the **third quartile** separates the smallest three-quarters from the largest quarter of observations."
   ]
  },
  {
   "cell_type": "code",
   "execution_count": 49,
   "metadata": {},
   "outputs": [
    {
     "data": {
      "text/plain": [
       "2564753.0"
      ]
     },
     "execution_count": 49,
     "metadata": {},
     "output_type": "execute_result"
    }
   ],
   "source": [
    "lakers.salary.quantile(q = 0.25)"
   ]
  },
  {
   "cell_type": "code",
   "execution_count": 50,
   "metadata": {},
   "outputs": [
    {
     "data": {
      "text/plain": [
       "3000000.0"
      ]
     },
     "execution_count": 50,
     "metadata": {},
     "output_type": "execute_result"
    }
   ],
   "source": [
    "lakers.salary.quantile(q = 0.5)"
   ]
  },
  {
   "cell_type": "code",
   "execution_count": 51,
   "metadata": {},
   "outputs": [
    {
     "data": {
      "text/plain": [
       "6428141.0"
      ]
     },
     "execution_count": 51,
     "metadata": {},
     "output_type": "execute_result"
    }
   ],
   "source": [
    "lakers.salary.quantile(q = 0.75)"
   ]
  },
  {
   "cell_type": "markdown",
   "metadata": {},
   "source": [
    "We can use the quantiles to find the **interquartile range**, which is defined as the distance from the first to the third quartile. In a way, it is a trimmed version of the range, which is not as sensitive to extreme values."
   ]
  },
  {
   "cell_type": "code",
   "execution_count": 52,
   "metadata": {},
   "outputs": [
    {
     "data": {
      "text/plain": [
       "3863388.0"
      ]
     },
     "execution_count": 52,
     "metadata": {},
     "output_type": "execute_result"
    }
   ],
   "source": [
    "lakers.salary.quantile(q = 0.75) - lakers.salary.quantile(q = 0.25)"
   ]
  },
  {
   "cell_type": "markdown",
   "metadata": {},
   "source": [
    "This tells us that the middle half of observations all fall into a range of width $3.8 million."
   ]
  },
  {
   "cell_type": "markdown",
   "metadata": {},
   "source": [
    "More generally, we can look at the quantiles or percentiles. The $n$th percentile separtes the lowest $n$% of observations from the rest. For example, the 90th percentile divides the lowest 90% of observations from the highest 10%. \n",
    "\n",
    "To find percentiles, we can use the quantile function from pandas."
   ]
  },
  {
   "cell_type": "code",
   "execution_count": 53,
   "metadata": {},
   "outputs": [
    {
     "data": {
      "text/plain": [
       "1996197.6"
      ]
     },
     "execution_count": 53,
     "metadata": {},
     "output_type": "execute_result"
    }
   ],
   "source": [
    "lakers.salary.quantile(q = 0.1)"
   ]
  },
  {
   "cell_type": "code",
   "execution_count": 54,
   "metadata": {},
   "outputs": [
    {
     "data": {
      "text/plain": [
       "22109469.799999997"
      ]
     },
     "execution_count": 54,
     "metadata": {},
     "output_type": "execute_result"
    }
   ],
   "source": [
    "lakers.salary.quantile(q = 0.9)"
   ]
  },
  {
   "cell_type": "markdown",
   "metadata": {},
   "source": [
    "Percentiles can be used to identify unusual observations, or to trim outliers from a data set.\n",
    "\n",
    "If we want to understand how a variable is distributed, we have already seen how we can use a histogram. An alternative type of plot that we can use is a **boxplot** (aka **box-and-whiskers plot**). This type of plot displays a box which starts at the first quartile and extend to the third quartile, with the second quartile marked. It also has whiskers that extend to last observations contained within the **outlier boundaries**. \n",
    "\n",
    "These boundaries are (usually) defined as being at 1.5 times the interquartile range below the first quartile and above the third quartile. Any points outside of the outiler boundaries are plotted individually."
   ]
  },
  {
   "cell_type": "code",
   "execution_count": 55,
   "metadata": {},
   "outputs": [],
   "source": [
    "import seaborn as sns"
   ]
  },
  {
   "cell_type": "code",
   "execution_count": 56,
   "metadata": {},
   "outputs": [
    {
     "data": {
      "image/png": "[encoded data removed]",
      "text/plain": [
       "<Figure size 432x288 with 1 Axes>"
      ]
     },
     "metadata": {
      "needs_background": "light"
     },
     "output_type": "display_data"
    }
   ],
   "source": [
    "sns.boxplot(lakers.salary);"
   ]
  },
  {
   "cell_type": "markdown",
   "metadata": {},
   "source": [
    "Boxplots are also good for comparing the distribution of a variable across two or more categories. For example, let's compare salaries for the Lakers to salaries for the Memphis Grizzlies."
   ]
  },
  {
   "cell_type": "code",
   "execution_count": 57,
   "metadata": {},
   "outputs": [],
   "source": [
    "lakers_grizzlies = pd.read_csv('../data/Lakers_Grizzlies.csv')"
   ]
  },
  {
   "cell_type": "code",
   "execution_count": 58,
   "metadata": {},
   "outputs": [
    {
     "data": {
      "text/html": [
       "<div>\n",
       "<style scoped>\n",
       "    .dataframe tbody tr th:only-of-type {\n",
       "        vertical-align: middle;\n",
       "    }\n",
       "\n",
       "    .dataframe tbody tr th {\n",
       "        vertical-align: top;\n",
       "    }\n",
       "\n",
       "    .dataframe thead th {\n",
       "        text-align: right;\n",
       "    }\n",
       "</style>\n",
       "<table border=\"1\" class=\"dataframe\">\n",
       "  <thead>\n",
       "    <tr style=\"text-align: right;\">\n",
       "      <th></th>\n",
       "      <th>player</th>\n",
       "      <th>salary</th>\n",
       "      <th>team</th>\n",
       "    </tr>\n",
       "  </thead>\n",
       "  <tbody>\n",
       "    <tr>\n",
       "      <th>0</th>\n",
       "      <td>Gorgui Dieng</td>\n",
       "      <td>16229213</td>\n",
       "      <td>Grizzlies</td>\n",
       "    </tr>\n",
       "    <tr>\n",
       "      <th>1</th>\n",
       "      <td>Jonas Valančiūnas</td>\n",
       "      <td>16000000</td>\n",
       "      <td>Grizzlies</td>\n",
       "    </tr>\n",
       "    <tr>\n",
       "      <th>2</th>\n",
       "      <td>Justise Winslow</td>\n",
       "      <td>13000000</td>\n",
       "      <td>Grizzlies</td>\n",
       "    </tr>\n",
       "    <tr>\n",
       "      <th>3</th>\n",
       "      <td>Kyle Anderson</td>\n",
       "      <td>9073050</td>\n",
       "      <td>Grizzlies</td>\n",
       "    </tr>\n",
       "    <tr>\n",
       "      <th>4</th>\n",
       "      <td>Ja Morant</td>\n",
       "      <td>8730240</td>\n",
       "      <td>Grizzlies</td>\n",
       "    </tr>\n",
       "    <tr>\n",
       "      <th>5</th>\n",
       "      <td>Tyus Jones</td>\n",
       "      <td>8408000</td>\n",
       "      <td>Grizzlies</td>\n",
       "    </tr>\n",
       "    <tr>\n",
       "      <th>6</th>\n",
       "      <td>Josh Jackson</td>\n",
       "      <td>7059480</td>\n",
       "      <td>Grizzlies</td>\n",
       "    </tr>\n",
       "    <tr>\n",
       "      <th>7</th>\n",
       "      <td>Jaren Jackson</td>\n",
       "      <td>6927480</td>\n",
       "      <td>Grizzlies</td>\n",
       "    </tr>\n",
       "    <tr>\n",
       "      <th>8</th>\n",
       "      <td>Marko Guduric</td>\n",
       "      <td>2625000</td>\n",
       "      <td>Grizzlies</td>\n",
       "    </tr>\n",
       "    <tr>\n",
       "      <th>9</th>\n",
       "      <td>Brandon Clarke</td>\n",
       "      <td>2478840</td>\n",
       "      <td>Grizzlies</td>\n",
       "    </tr>\n",
       "    <tr>\n",
       "      <th>10</th>\n",
       "      <td>Grayson Allen</td>\n",
       "      <td>2429400</td>\n",
       "      <td>Grizzlies</td>\n",
       "    </tr>\n",
       "    <tr>\n",
       "      <th>11</th>\n",
       "      <td>Jordan Bell</td>\n",
       "      <td>1620564</td>\n",
       "      <td>Grizzlies</td>\n",
       "    </tr>\n",
       "    <tr>\n",
       "      <th>12</th>\n",
       "      <td>Dillon Brooks</td>\n",
       "      <td>1618520</td>\n",
       "      <td>Grizzlies</td>\n",
       "    </tr>\n",
       "    <tr>\n",
       "      <th>13</th>\n",
       "      <td>De'Anthony Melton</td>\n",
       "      <td>1416852</td>\n",
       "      <td>Grizzlies</td>\n",
       "    </tr>\n",
       "    <tr>\n",
       "      <th>14</th>\n",
       "      <td>LeBron James</td>\n",
       "      <td>37436858</td>\n",
       "      <td>Lakers</td>\n",
       "    </tr>\n",
       "    <tr>\n",
       "      <th>15</th>\n",
       "      <td>Anthony Davis</td>\n",
       "      <td>27093019</td>\n",
       "      <td>Lakers</td>\n",
       "    </tr>\n",
       "    <tr>\n",
       "      <th>16</th>\n",
       "      <td>Danny Green</td>\n",
       "      <td>14634146</td>\n",
       "      <td>Lakers</td>\n",
       "    </tr>\n",
       "    <tr>\n",
       "      <th>17</th>\n",
       "      <td>Kentavious Caldwell-Pope</td>\n",
       "      <td>8089282</td>\n",
       "      <td>Lakers</td>\n",
       "    </tr>\n",
       "    <tr>\n",
       "      <th>18</th>\n",
       "      <td>Avery Bradley</td>\n",
       "      <td>4767000</td>\n",
       "      <td>Lakers</td>\n",
       "    </tr>\n",
       "    <tr>\n",
       "      <th>19</th>\n",
       "      <td>JaVale McGee</td>\n",
       "      <td>4000000</td>\n",
       "      <td>Lakers</td>\n",
       "    </tr>\n",
       "    <tr>\n",
       "      <th>20</th>\n",
       "      <td>DeMarcus Cousins</td>\n",
       "      <td>3500000</td>\n",
       "      <td>Lakers</td>\n",
       "    </tr>\n",
       "    <tr>\n",
       "      <th>21</th>\n",
       "      <td>Quinn Cook</td>\n",
       "      <td>3000000</td>\n",
       "      <td>Lakers</td>\n",
       "    </tr>\n",
       "    <tr>\n",
       "      <th>22</th>\n",
       "      <td>Alex Caruso</td>\n",
       "      <td>2750000</td>\n",
       "      <td>Lakers</td>\n",
       "    </tr>\n",
       "    <tr>\n",
       "      <th>23</th>\n",
       "      <td>Jared Dudley</td>\n",
       "      <td>2564753</td>\n",
       "      <td>Lakers</td>\n",
       "    </tr>\n",
       "    <tr>\n",
       "      <th>24</th>\n",
       "      <td>Dwight Howard</td>\n",
       "      <td>2564753</td>\n",
       "      <td>Lakers</td>\n",
       "    </tr>\n",
       "    <tr>\n",
       "      <th>25</th>\n",
       "      <td>Rajon Rondo</td>\n",
       "      <td>2564753</td>\n",
       "      <td>Lakers</td>\n",
       "    </tr>\n",
       "    <tr>\n",
       "      <th>26</th>\n",
       "      <td>Troy Daniels</td>\n",
       "      <td>2028594</td>\n",
       "      <td>Lakers</td>\n",
       "    </tr>\n",
       "    <tr>\n",
       "      <th>27</th>\n",
       "      <td>Kyle Kuzma</td>\n",
       "      <td>1974600</td>\n",
       "      <td>Lakers</td>\n",
       "    </tr>\n",
       "    <tr>\n",
       "      <th>28</th>\n",
       "      <td>Talen Horton-Tucker</td>\n",
       "      <td>898310</td>\n",
       "      <td>Lakers</td>\n",
       "    </tr>\n",
       "  </tbody>\n",
       "</table>\n",
       "</div>"
      ],
      "text/plain": [
       "                      player    salary       team\n",
       "0               Gorgui Dieng  16229213  Grizzlies\n",
       "1          Jonas Valančiūnas  16000000  Grizzlies\n",
       "2            Justise Winslow  13000000  Grizzlies\n",
       "3              Kyle Anderson   9073050  Grizzlies\n",
       "4                  Ja Morant   8730240  Grizzlies\n",
       "5                 Tyus Jones   8408000  Grizzlies\n",
       "6               Josh Jackson   7059480  Grizzlies\n",
       "7              Jaren Jackson   6927480  Grizzlies\n",
       "8              Marko Guduric   2625000  Grizzlies\n",
       "9             Brandon Clarke   2478840  Grizzlies\n",
       "10             Grayson Allen   2429400  Grizzlies\n",
       "11               Jordan Bell   1620564  Grizzlies\n",
       "12             Dillon Brooks   1618520  Grizzlies\n",
       "13         De'Anthony Melton   1416852  Grizzlies\n",
       "14              LeBron James  37436858     Lakers\n",
       "15             Anthony Davis  27093019     Lakers\n",
       "16               Danny Green  14634146     Lakers\n",
       "17  Kentavious Caldwell-Pope   8089282     Lakers\n",
       "18             Avery Bradley   4767000     Lakers\n",
       "19              JaVale McGee   4000000     Lakers\n",
       "20          DeMarcus Cousins   3500000     Lakers\n",
       "21                Quinn Cook   3000000     Lakers\n",
       "22               Alex Caruso   2750000     Lakers\n",
       "23              Jared Dudley   2564753     Lakers\n",
       "24             Dwight Howard   2564753     Lakers\n",
       "25               Rajon Rondo   2564753     Lakers\n",
       "26              Troy Daniels   2028594     Lakers\n",
       "27                Kyle Kuzma   1974600     Lakers\n",
       "28       Talen Horton-Tucker    898310     Lakers"
      ]
     },
     "execution_count": 58,
     "metadata": {},
     "output_type": "execute_result"
    }
   ],
   "source": [
    "lakers_grizzlies"
   ]
  },
  {
   "cell_type": "code",
   "execution_count": 59,
   "metadata": {},
   "outputs": [
    {
     "data": {
      "image/png": "[encoded data removed]",
      "text/plain": [
       "<Figure size 432x288 with 1 Axes>"
      ]
     },
     "metadata": {
      "needs_background": "light"
     },
     "output_type": "display_data"
    }
   ],
   "source": [
    "sns.boxplot(data = lakers_grizzlies, x = \"team\", y = \"salary\");"
   ]
  },
  {
   "cell_type": "markdown",
   "metadata": {},
   "source": [
    "From this boxplot, we can see that the Grizzlies have a wider interquartile range and higher median salary with no points considered as outliers. This may be due in part to the NBA's salary cap, which limits the total payroll of each team. Since the Lakers have several extremely highly-compensated players, it leaves less money to go around to the remaining players."
   ]
  },
  {
   "cell_type": "code",
   "execution_count": 60,
   "metadata": {},
   "outputs": [
    {
     "data": {
      "text/plain": [
       "6972617.071428572"
      ]
     },
     "execution_count": 60,
     "metadata": {},
     "output_type": "execute_result"
    }
   ],
   "source": [
    "lakers_grizzlies[lakers_grizzlies.team == 'Grizzlies'].salary.mean()"
   ]
  },
  {
   "cell_type": "markdown",
   "metadata": {},
   "source": [
    "## Density Estimation\n",
    "\n",
    "As we have more observations, we can use more bins when creating our histogram. At a certain point, it becomes too \"spiky\", and we lose out on the true picture. An alternative strategy is to smooth out the histogram using what's called kernel density estimation.\n",
    "\n",
    "When creating a histogram, we are really performing **density estimation**. That is, we are trying to understand the **probability density function** which underlies our observed data.\n",
    "\n",
    "When doing statistical analysis, we are usually assuming that our dataset is only a sample from some larger population. A probability density function describes how likely we are to see observations within a certain range. Since we are only looking at a sample, we can't know what the true probability density function looks like, but we can use a variety of techniques to estimate it."
   ]
  },
  {
   "cell_type": "markdown",
   "metadata": {},
   "source": [
    "We will now look at a dataset consisting of a sample 1000 home appriasal values from Nashville/Davidson County over 3 different years (3000 total observations)."
   ]
  },
  {
   "cell_type": "code",
   "execution_count": 86,
   "metadata": {},
   "outputs": [],
   "source": [
    "nash_appraisal = pd.read_csv('../data/appraisal_sample.csv')\n",
    "\n",
    "nash_appraisal.head()"
   ]
  },
  {
   "cell_type": "markdown",
   "metadata": {},
   "source": [
    "One downside to a histogram is that it can be highly sensitive to the choice of number of bins.\n",
    "\n",
    "Since this dataset has a handful of very large outliers, we will only look at home appraised at less than \\$1,000,000."
   ]
  },
  {
   "cell_type": "code",
   "execution_count": 94,
   "metadata": {},
   "outputs": [
    {
     "data": {
      "image/png": "[encoded data removed]",
      "text/plain": [
       "<Figure size 432x288 with 1 Axes>"
      ]
     },
     "metadata": {
      "needs_background": "light"
     },
     "output_type": "display_data"
    }
   ],
   "source": [
    "nash_appraisal[nash_appraisal.total_appr < 1000000].total_appr.hist(bins = 20);"
   ]
  },
  {
   "cell_type": "markdown",
   "metadata": {},
   "source": [
    "As we increase the number of bins, we get more and more detail."
   ]
  },
  {
   "cell_type": "code",
   "execution_count": 95,
   "metadata": {},
   "outputs": [
    {
     "data": {
      "image/png": "[encoded data removed]",
      "text/plain": [
       "<Figure size 432x288 with 1 Axes>"
      ]
     },
     "metadata": {
      "needs_background": "light"
     },
     "output_type": "display_data"
    }
   ],
   "source": [
    "nash_appraisal[nash_appraisal.total_appr < 1000000].total_appr.hist(bins = 50);"
   ]
  },
  {
   "cell_type": "code",
   "execution_count": 96,
   "metadata": {},
   "outputs": [
    {
     "data": {
      "image/png": "[encoded data removed]",
      "text/plain": [
       "<Figure size 432x288 with 1 Axes>"
      ]
     },
     "metadata": {
      "needs_background": "light"
     },
     "output_type": "display_data"
    }
   ],
   "source": [
    "nash_appraisal[nash_appraisal.total_appr < 1000000].total_appr.hist(bins = 100);"
   ]
  },
  {
   "cell_type": "markdown",
   "metadata": {},
   "source": [
    "But at a certain point, we are getting almost \"too much\" detail, and it is hard to know if we are actually seeing important aspects of the dataset, or are just seeing relics from the random sampling plus the binning process."
   ]
  },
  {
   "cell_type": "code",
   "execution_count": 97,
   "metadata": {},
   "outputs": [
    {
     "data": {
      "image/png": "[encoded data removed]",
      "text/plain": [
       "<Figure size 432x288 with 1 Axes>"
      ]
     },
     "metadata": {
      "needs_background": "light"
     },
     "output_type": "display_data"
    }
   ],
   "source": [
    "nash_appraisal[nash_appraisal.total_appr < 1000000].total_appr.hist(bins = 200);"
   ]
  },
  {
   "cell_type": "code",
   "execution_count": 65,
   "metadata": {},
   "outputs": [],
   "source": [
    "import seaborn as sns\n",
    "import matplotlib.pyplot as plt"
   ]
  },
  {
   "cell_type": "markdown",
   "metadata": {},
   "source": [
    "As we have seen, the histogram is extremely sensitive to the choice of bins. As an alternative, a Kernel Density Estimation is a way to \"smooth\" a histogram. One way we can get a density estimate by using the `distplot` function from `seaborn`. This will create a histogram with a kde superimposed."
   ]
  },
  {
   "cell_type": "code",
   "execution_count": 98,
   "metadata": {},
   "outputs": [
    {
     "data": {
      "image/png": "[encoded data removed]",
      "text/plain": [
       "<Figure size 576x432 with 1 Axes>"
      ]
     },
     "metadata": {
      "needs_background": "light"
     },
     "output_type": "display_data"
    }
   ],
   "source": [
    "fig, ax = plt.subplots(figsize = (8,6))\n",
    "sns.distplot(nash_appraisal[nash_appraisal.total_appr < 1000000].total_appr);"
   ]
  },
  {
   "cell_type": "markdown",
   "metadata": {},
   "source": [
    "If we want just the kernel density estimation, we can use the `kdeplot` instead. Kernel density estimation works by looking at the density of observations within a certain \"bandwidth\" around each point. We can adjust the bandwidth to see the effect on the density estimation:"
   ]
  },
  {
   "cell_type": "code",
   "execution_count": 104,
   "metadata": {},
   "outputs": [
    {
     "data": {
      "image/png": "[encoded data removed]",
      "text/plain": [
       "<Figure size 432x288 with 1 Axes>"
      ]
     },
     "metadata": {
      "needs_background": "light"
     },
     "output_type": "display_data"
    }
   ],
   "source": [
    "sns.kdeplot(nash_appraisal[nash_appraisal.total_appr < 1000000].total_appr, bw = 100);"
   ]
  },
  {
   "cell_type": "code",
   "execution_count": 106,
   "metadata": {},
   "outputs": [
    {
     "data": {
      "image/png": "[encoded data removed]",
      "text/plain": [
       "<Figure size 432x288 with 1 Axes>"
      ]
     },
     "metadata": {
      "needs_background": "light"
     },
     "output_type": "display_data"
    }
   ],
   "source": [
    "sns.kdeplot(nash_appraisal[nash_appraisal.total_appr < 1000000].total_appr, bw = 10000);"
   ]
  },
  {
   "cell_type": "code",
   "execution_count": 108,
   "metadata": {},
   "outputs": [
    {
     "data": {
      "image/png": "[encoded data removed]",
      "text/plain": [
       "<Figure size 432x288 with 1 Axes>"
      ]
     },
     "metadata": {
      "needs_background": "light"
     },
     "output_type": "display_data"
    }
   ],
   "source": [
    "sns.kdeplot(nash_appraisal[nash_appraisal.total_appr < 1000000].total_appr, bw = 25000);"
   ]
  },
  {
   "cell_type": "code",
   "execution_count": 109,
   "metadata": {},
   "outputs": [
    {
     "data": {
      "image/png": "[encoded data removed]",
      "text/plain": [
       "<Figure size 432x288 with 1 Axes>"
      ]
     },
     "metadata": {
      "needs_background": "light"
     },
     "output_type": "display_data"
    }
   ],
   "source": [
    "sns.kdeplot(nash_appraisal[nash_appraisal.total_appr < 1000000].total_appr, bw = 100000);"
   ]
  },
  {
   "cell_type": "code",
   "execution_count": 110,
   "metadata": {},
   "outputs": [
    {
     "data": {
      "image/png": "[encoded data removed]",
      "text/plain": [
       "<Figure size 432x288 with 1 Axes>"
      ]
     },
     "metadata": {
      "needs_background": "light"
     },
     "output_type": "display_data"
    }
   ],
   "source": [
    "sns.kdeplot(nash_appraisal[nash_appraisal.total_appr < 1000000].total_appr, bw = 500000);"
   ]
  },
  {
   "cell_type": "markdown",
   "metadata": {},
   "source": [
    "By default, `kdeplot` will use a method to make a guess at a good bandwidth."
   ]
  },
  {
   "cell_type": "code",
   "execution_count": 114,
   "metadata": {},
   "outputs": [
    {
     "data": {
      "image/png": "[encoded data removed]",
      "text/plain": [
       "<Figure size 432x288 with 1 Axes>"
      ]
     },
     "metadata": {
      "needs_background": "light"
     },
     "output_type": "display_data"
    }
   ],
   "source": [
    "sns.kdeplot(nash_appraisal[nash_appraisal.total_appr < 1000000].total_appr);"
   ]
  },
  {
   "cell_type": "markdown",
   "metadata": {},
   "source": [
    "## Violin Plots?\n",
    "\n",
    "Need to have KDE prior to this. Plus, it is a generalization of box plots, so could also be good to have.\n",
    "\n",
    "What dataset to use here?"
   ]
  },
  {
   "cell_type": "code",
   "execution_count": 126,
   "metadata": {},
   "outputs": [
    {
     "data": {
      "image/png": "[encoded data removed]",
      "text/plain": [
       "<Figure size 432x288 with 1 Axes>"
      ]
     },
     "metadata": {
      "needs_background": "light"
     },
     "output_type": "display_data"
    }
   ],
   "source": [
    "sns.boxplot(data = nash_appraisal[nash_appraisal.total_appr < 1000000], \n",
    "               y = 'total_appr');"
   ]
  },
  {
   "cell_type": "code",
   "execution_count": 122,
   "metadata": {},
   "outputs": [
    {
     "data": {
      "image/png": "[encoded data removed]",
      "text/plain": [
       "<Figure size 432x288 with 1 Axes>"
      ]
     },
     "metadata": {
      "needs_background": "light"
     },
     "output_type": "display_data"
    }
   ],
   "source": [
    "sns.violinplot(data = nash_appraisal[nash_appraisal.total_appr < 1000000], \n",
    "               y = 'total_appr');"
   ]
  },
  {
   "cell_type": "code",
   "execution_count": 119,
   "metadata": {},
   "outputs": [
    {
     "data": {
      "image/png": "[encoded data removed]",
      "text/plain": [
       "<Figure size 432x288 with 1 Axes>"
      ]
     },
     "metadata": {
      "needs_background": "light"
     },
     "output_type": "display_data"
    }
   ],
   "source": [
    "sns.violinplot(data = nash_appraisal[nash_appraisal.total_appr < 1000000], \n",
    "               x = 'year', y = 'total_appr');"
   ]
  },
  {
   "cell_type": "code",
   "execution_count": 127,
   "metadata": {},
   "outputs": [],
   "source": [
    "nash_appraisal_2017 = nash_appraisal[nash_appraisal.year == 2017]"
   ]
  },
  {
   "cell_type": "code",
   "execution_count": 128,
   "metadata": {},
   "outputs": [],
   "source": [
    "mu = nash_appraisal_2017.total_appr.mean()\n",
    "sigma = nash_appraisal_2017.total_appr.std()"
   ]
  },
  {
   "cell_type": "code",
   "execution_count": 145,
   "metadata": {},
   "outputs": [
    {
     "name": "stderr",
     "output_type": "stream",
     "text": [
      "/home/michael/anaconda3/lib/python3.7/site-packages/ipykernel_launcher.py:1: SettingWithCopyWarning: \n",
      "A value is trying to be set on a copy of a slice from a DataFrame.\n",
      "Try using .loc[row_indexer,col_indexer] = value instead\n",
      "\n",
      "See the caveats in the documentation: http://pandas.pydata.org/pandas-docs/stable/user_guide/indexing.html#returning-a-view-versus-a-copy\n",
      "  \"\"\"Entry point for launching an IPython kernel.\n"
     ]
    }
   ],
   "source": [
    "nash_appraisal_2017['z_score'] = (nash_appraisal_2017.total_appr - mu) / sigma"
   ]
  },
  {
   "cell_type": "code",
   "execution_count": 149,
   "metadata": {},
   "outputs": [
    {
     "data": {
      "text/html": [
       "<div>\n",
       "<style scoped>\n",
       "    .dataframe tbody tr th:only-of-type {\n",
       "        vertical-align: middle;\n",
       "    }\n",
       "\n",
       "    .dataframe tbody tr th {\n",
       "        vertical-align: top;\n",
       "    }\n",
       "\n",
       "    .dataframe thead th {\n",
       "        text-align: right;\n",
       "    }\n",
       "</style>\n",
       "<table border=\"1\" class=\"dataframe\">\n",
       "  <thead>\n",
       "    <tr style=\"text-align: right;\">\n",
       "      <th></th>\n",
       "      <th>council_district</th>\n",
       "      <th>total_appr</th>\n",
       "      <th>finished_area</th>\n",
       "      <th>year</th>\n",
       "      <th>z-score</th>\n",
       "      <th>z_score</th>\n",
       "    </tr>\n",
       "  </thead>\n",
       "  <tbody>\n",
       "    <tr>\n",
       "      <th>2918</th>\n",
       "      <td>34</td>\n",
       "      <td>2729000.0</td>\n",
       "      <td>10161.79980</td>\n",
       "      <td>2017</td>\n",
       "      <td>10.688041</td>\n",
       "      <td>10.688041</td>\n",
       "    </tr>\n",
       "    <tr>\n",
       "      <th>2954</th>\n",
       "      <td>25</td>\n",
       "      <td>2365400.0</td>\n",
       "      <td>8020.25000</td>\n",
       "      <td>2017</td>\n",
       "      <td>9.111466</td>\n",
       "      <td>9.111466</td>\n",
       "    </tr>\n",
       "    <tr>\n",
       "      <th>2118</th>\n",
       "      <td>34</td>\n",
       "      <td>2340200.0</td>\n",
       "      <td>8959.01465</td>\n",
       "      <td>2017</td>\n",
       "      <td>9.002199</td>\n",
       "      <td>9.002199</td>\n",
       "    </tr>\n",
       "    <tr>\n",
       "      <th>2680</th>\n",
       "      <td>23</td>\n",
       "      <td>1861400.0</td>\n",
       "      <td>5702.00000</td>\n",
       "      <td>2017</td>\n",
       "      <td>6.926115</td>\n",
       "      <td>6.926115</td>\n",
       "    </tr>\n",
       "    <tr>\n",
       "      <th>2255</th>\n",
       "      <td>23</td>\n",
       "      <td>1704600.0</td>\n",
       "      <td>5411.00000</td>\n",
       "      <td>2017</td>\n",
       "      <td>6.246228</td>\n",
       "      <td>6.246228</td>\n",
       "    </tr>\n",
       "    <tr>\n",
       "      <th>2896</th>\n",
       "      <td>34</td>\n",
       "      <td>1523500.0</td>\n",
       "      <td>5482.00000</td>\n",
       "      <td>2017</td>\n",
       "      <td>5.460976</td>\n",
       "      <td>5.460976</td>\n",
       "    </tr>\n",
       "    <tr>\n",
       "      <th>2758</th>\n",
       "      <td>34</td>\n",
       "      <td>1382600.0</td>\n",
       "      <td>5167.50000</td>\n",
       "      <td>2017</td>\n",
       "      <td>4.850032</td>\n",
       "      <td>4.850032</td>\n",
       "    </tr>\n",
       "    <tr>\n",
       "      <th>2456</th>\n",
       "      <td>34</td>\n",
       "      <td>1344700.0</td>\n",
       "      <td>8107.50000</td>\n",
       "      <td>2017</td>\n",
       "      <td>4.685697</td>\n",
       "      <td>4.685697</td>\n",
       "    </tr>\n",
       "    <tr>\n",
       "      <th>2441</th>\n",
       "      <td>34</td>\n",
       "      <td>1321200.0</td>\n",
       "      <td>6057.50000</td>\n",
       "      <td>2017</td>\n",
       "      <td>4.583800</td>\n",
       "      <td>4.583800</td>\n",
       "    </tr>\n",
       "    <tr>\n",
       "      <th>2764</th>\n",
       "      <td>25</td>\n",
       "      <td>1273500.0</td>\n",
       "      <td>5584.81982</td>\n",
       "      <td>2017</td>\n",
       "      <td>4.376972</td>\n",
       "      <td>4.376972</td>\n",
       "    </tr>\n",
       "    <tr>\n",
       "      <th>2372</th>\n",
       "      <td>34</td>\n",
       "      <td>1229800.0</td>\n",
       "      <td>6473.00000</td>\n",
       "      <td>2017</td>\n",
       "      <td>4.187489</td>\n",
       "      <td>4.187489</td>\n",
       "    </tr>\n",
       "    <tr>\n",
       "      <th>2421</th>\n",
       "      <td>34</td>\n",
       "      <td>1173800.0</td>\n",
       "      <td>5921.91992</td>\n",
       "      <td>2017</td>\n",
       "      <td>3.944672</td>\n",
       "      <td>3.944672</td>\n",
       "    </tr>\n",
       "    <tr>\n",
       "      <th>2235</th>\n",
       "      <td>23</td>\n",
       "      <td>1096600.0</td>\n",
       "      <td>3339.00000</td>\n",
       "      <td>2017</td>\n",
       "      <td>3.609932</td>\n",
       "      <td>3.609932</td>\n",
       "    </tr>\n",
       "    <tr>\n",
       "      <th>2777</th>\n",
       "      <td>24</td>\n",
       "      <td>1057600.0</td>\n",
       "      <td>4200.18018</td>\n",
       "      <td>2017</td>\n",
       "      <td>3.440827</td>\n",
       "      <td>3.440827</td>\n",
       "    </tr>\n",
       "    <tr>\n",
       "      <th>2602</th>\n",
       "      <td>25</td>\n",
       "      <td>1048700.0</td>\n",
       "      <td>5573.60010</td>\n",
       "      <td>2017</td>\n",
       "      <td>3.402237</td>\n",
       "      <td>3.402237</td>\n",
       "    </tr>\n",
       "    <tr>\n",
       "      <th>2800</th>\n",
       "      <td>25</td>\n",
       "      <td>1032600.0</td>\n",
       "      <td>4702.00000</td>\n",
       "      <td>2017</td>\n",
       "      <td>3.332427</td>\n",
       "      <td>3.332427</td>\n",
       "    </tr>\n",
       "    <tr>\n",
       "      <th>2627</th>\n",
       "      <td>25</td>\n",
       "      <td>998100.0</td>\n",
       "      <td>3725.50000</td>\n",
       "      <td>2017</td>\n",
       "      <td>3.182834</td>\n",
       "      <td>3.182834</td>\n",
       "    </tr>\n",
       "    <tr>\n",
       "      <th>2900</th>\n",
       "      <td>11</td>\n",
       "      <td>968600.0</td>\n",
       "      <td>4508.00000</td>\n",
       "      <td>2017</td>\n",
       "      <td>3.054922</td>\n",
       "      <td>3.054922</td>\n",
       "    </tr>\n",
       "  </tbody>\n",
       "</table>\n",
       "</div>"
      ],
      "text/plain": [
       "      council_district  total_appr  finished_area  year    z-score    z_score\n",
       "2918                34   2729000.0    10161.79980  2017  10.688041  10.688041\n",
       "2954                25   2365400.0     8020.25000  2017   9.111466   9.111466\n",
       "2118                34   2340200.0     8959.01465  2017   9.002199   9.002199\n",
       "2680                23   1861400.0     5702.00000  2017   6.926115   6.926115\n",
       "2255                23   1704600.0     5411.00000  2017   6.246228   6.246228\n",
       "2896                34   1523500.0     5482.00000  2017   5.460976   5.460976\n",
       "2758                34   1382600.0     5167.50000  2017   4.850032   4.850032\n",
       "2456                34   1344700.0     8107.50000  2017   4.685697   4.685697\n",
       "2441                34   1321200.0     6057.50000  2017   4.583800   4.583800\n",
       "2764                25   1273500.0     5584.81982  2017   4.376972   4.376972\n",
       "2372                34   1229800.0     6473.00000  2017   4.187489   4.187489\n",
       "2421                34   1173800.0     5921.91992  2017   3.944672   3.944672\n",
       "2235                23   1096600.0     3339.00000  2017   3.609932   3.609932\n",
       "2777                24   1057600.0     4200.18018  2017   3.440827   3.440827\n",
       "2602                25   1048700.0     5573.60010  2017   3.402237   3.402237\n",
       "2800                25   1032600.0     4702.00000  2017   3.332427   3.332427\n",
       "2627                25    998100.0     3725.50000  2017   3.182834   3.182834\n",
       "2900                11    968600.0     4508.00000  2017   3.054922   3.054922"
      ]
     },
     "execution_count": 149,
     "metadata": {},
     "output_type": "execute_result"
    }
   ],
   "source": [
    "nash_appraisal_2017[nash_appraisal_2017.z_score > 3].sort_values('total_appr', ascending = False)"
   ]
  },
  {
   "cell_type": "code",
   "execution_count": null,
   "metadata": {},
   "outputs": [],
   "source": []
  }
 ],
 "metadata": {
  "kernelspec": {
   "display_name": "Python 3",
   "language": "python",
   "name": "python3"
  },
  "language_info": {
   "codemirror_mode": {
    "name": "ipython",
    "version": 3
   },
   "file_extension": ".py",
   "mimetype": "text/x-python",
   "name": "python",
   "nbconvert_exporter": "python",
   "pygments_lexer": "ipython3",
   "version": "3.7.4"
  }
 },
 "nbformat": 4,
 "nbformat_minor": 2
}
