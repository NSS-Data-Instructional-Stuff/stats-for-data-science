{
 "cells": [
  {
   "cell_type": "markdown",
   "metadata": {},
   "source": [
    "# EDA Part 2: Looking at Two Variables"
   ]
  },
  {
   "cell_type": "markdown",
   "metadata": {},
   "source": [
    "# Scatterplots\n",
    "\n",
    "So far, you have looked at exploring one variable at a time through summary statistics, histograms, boxplots, etc.\n",
    "\n",
    "What do you do when you have more than one numeric variable? You can start by visualizing the relationship between the variables through a scatterplot.\n",
    "\n",
    "A scatterplot can provide a quick view of the general relationship between variables. On a scatterplot, each point corresponds to a single observation."
   ]
  },
  {
   "cell_type": "markdown",
   "metadata": {},
   "source": [
    "## Things to Look for in a Scatterplot:\n",
    "\n",
    "1. **Direction of Association:** Positive or Negative\n",
    "2. **Form of Association:** Linear? Curved? Neither?\n",
    "3. **Strength of Association**\n",
    "4. **Outliers**"
   ]
  },
  {
   "cell_type": "code",
   "execution_count": null,
   "metadata": {},
   "outputs": [],
   "source": [
    "import pandas as pd\n",
    "import matplotlib.pyplot as plt\n",
    "import numpy as np"
   ]
  },
  {
   "cell_type": "markdown",
   "metadata": {},
   "source": [
    "Load the `auto-mpg.csv` dataset and look at the first 5 rows with the `pandas` `.head()` method."
   ]
  },
  {
   "cell_type": "code",
   "execution_count": null,
   "metadata": {},
   "outputs": [],
   "source": [
    "cars = pd.read_csv('../data/auto-mpg.csv')"
   ]
  },
  {
   "cell_type": "code",
   "execution_count": null,
   "metadata": {},
   "outputs": [],
   "source": [
    "cars.head()"
   ]
  },
  {
   "cell_type": "markdown",
   "metadata": {},
   "source": [
    "You want to see the relationship between horsepower and engine size (displacement). First make sure these are both numeric variables and don't contain null values. You can use the `pandas` `.info()` method to check both of these things."
   ]
  },
  {
   "cell_type": "code",
   "execution_count": null,
   "metadata": {},
   "outputs": [],
   "source": [
    "cars.info()"
   ]
  },
  {
   "cell_type": "markdown",
   "metadata": {},
   "source": [
    "You can see that displacement is a floating point decimal (float64). You can also see that horsepower is an object - python's designation for a string or textual data. You need to convert horsepower to a numeric data type."
   ]
  },
  {
   "cell_type": "code",
   "execution_count": null,
   "metadata": {},
   "outputs": [],
   "source": [
    "cars['horsepower'].sort_values()"
   ]
  },
  {
   "cell_type": "code",
   "execution_count": null,
   "metadata": {},
   "outputs": [],
   "source": [
    "cars['horsepower'] = pd.to_numeric(cars['horsepower'], errors='coerce')\n",
    "cars.head(3)"
   ]
  },
  {
   "cell_type": "code",
   "execution_count": null,
   "metadata": {},
   "outputs": [],
   "source": [
    "cars.info()"
   ]
  },
  {
   "cell_type": "markdown",
   "metadata": {},
   "source": [
    "The `errors = 'coerce'` argument introduced some missing values into our data set. To save ourselves some trouble later, let's drop the null values."
   ]
  },
  {
   "cell_type": "code",
   "execution_count": null,
   "metadata": {},
   "outputs": [],
   "source": [
    "cars = cars.dropna()"
   ]
  },
  {
   "cell_type": "markdown",
   "metadata": {},
   "source": [
    "Now you are ready to plot your scatterplot!\n",
    "\n",
    "Note that if we want a larger plot, we'll need to pass in `figsize` as an argument to the `.plot` method."
   ]
  },
  {
   "cell_type": "code",
   "execution_count": null,
   "metadata": {},
   "outputs": [],
   "source": [
    "cars.plot(kind = 'scatter', x = 'displacement', y = 'horsepower', figsize = (10,6))\n",
    "plt.title('Horsepower vs. Displacement');"
   ]
  },
  {
   "cell_type": "markdown",
   "metadata": {},
   "source": [
    "**Question:** Based on this scatterplot, what can we say about the relationship between displacement and horsepower?"
   ]
  },
  {
   "cell_type": "markdown",
   "metadata": {},
   "source": [
    "**Write a few observations about the scatterplot here.**"
   ]
  },
  {
   "cell_type": "markdown",
   "metadata": {},
   "source": [
    "If you want to bring in an additional variable, such as number of cylinders to see how it is related to the first two, you can do so by using seaborn to color the points, using the `hue` argument."
   ]
  },
  {
   "cell_type": "code",
   "execution_count": null,
   "metadata": {},
   "outputs": [],
   "source": [
    "import seaborn as sns"
   ]
  },
  {
   "cell_type": "code",
   "execution_count": null,
   "metadata": {},
   "outputs": [],
   "source": [
    "plt.figure(figsize = (12,8))\n",
    "\n",
    "sns.scatterplot(data = cars, x = 'displacement', y = 'horsepower',\n",
    "                hue = 'cylinders', palette = 'Blues', edgecolor = 'black'\n",
    "               )\n",
    "plt.title('Horsepower vs. Displacement');"
   ]
  },
  {
   "cell_type": "markdown",
   "metadata": {},
   "source": [
    "**Question:** What additional information does this give us about this relationship?\n",
    "\n",
    "**Write down your observations here.**"
   ]
  },
  {
   "cell_type": "markdown",
   "metadata": {},
   "source": [
    "There are a few cars that are somewhat far from the general trend. Let's investigate. We can accomplish this by slicing the dataframe. This is done by adding a set of square brackets including the conditions we are using to slice the data.\n",
    "\n",
    "For example, if we want to find all cars with over 200 horsepower, we can do it by typing:"
   ]
  },
  {
   "cell_type": "code",
   "execution_count": null,
   "metadata": {},
   "outputs": [],
   "source": [
    "cars['horsepower'] > 200"
   ]
  },
  {
   "cell_type": "code",
   "execution_count": null,
   "metadata": {},
   "outputs": [],
   "source": [
    "cars[cars['horsepower'] > 200]"
   ]
  },
  {
   "cell_type": "markdown",
   "metadata": {},
   "source": [
    "Notice that if you are specifying multiple conditions, you must place each condition inside a set of parentheses and separate them with an ampersand &. In this context, the & means \"and\". In the event that you want to slice based on an \"or\" condition, you can use the pipe |."
   ]
  },
  {
   "cell_type": "code",
   "execution_count": null,
   "metadata": {},
   "outputs": [],
   "source": [
    "cars[(cars['displacement'] < 250) & (cars['horsepower'] > 175)]"
   ]
  },
  {
   "cell_type": "markdown",
   "metadata": {},
   "source": [
    "These three vehicles are all large trucks.\n",
    "\n",
    "There is a single 6-cylinder vehicle that stands out since it has higher horsepower than other cars with its displacement value. Investigate this car."
   ]
  },
  {
   "cell_type": "code",
   "execution_count": null,
   "metadata": {},
   "outputs": [],
   "source": [
    "# Your Code Here"
   ]
  },
  {
   "cell_type": "markdown",
   "metadata": {},
   "source": [
    "Next, take a look at the relationship between weight and acceleration.\n",
    "\n",
    "Note that acceleration shows time (in seconds) to accelerate from O to 60 mph."
   ]
  },
  {
   "cell_type": "code",
   "execution_count": null,
   "metadata": {},
   "outputs": [],
   "source": [
    "cars.plot(kind = 'scatter', x = 'weight', y = 'acceleration', figsize = (12,8))\n",
    "plt.title('Acceleration vs. Weight');"
   ]
  },
  {
   "cell_type": "markdown",
   "metadata": {},
   "source": [
    "**Question:** What does the plot tell us?"
   ]
  },
  {
   "cell_type": "markdown",
   "metadata": {},
   "source": [
    "**Write a few observations here.**"
   ]
  },
  {
   "cell_type": "markdown",
   "metadata": {},
   "source": [
    "Next, create a scatterplot to take a look at the relationship between horsepower and the cars fuel efficiency (mpg)."
   ]
  },
  {
   "cell_type": "code",
   "execution_count": null,
   "metadata": {
    "scrolled": false
   },
   "outputs": [],
   "source": [
    "cars.plot(kind = 'scatter', x = 'horsepower', y = 'mpg', figsize = (12,8))\n",
    "plt.title('Miles per Gallon vs. Horsepower');"
   ]
  },
  {
   "cell_type": "markdown",
   "metadata": {},
   "source": [
    "**Question:** What does this scatterplot tell us?"
   ]
  },
  {
   "cell_type": "markdown",
   "metadata": {},
   "source": [
    "There is one car that has around 130 horsepower but an unusually high mpg for that range of horsepower. Which car is it?"
   ]
  },
  {
   "cell_type": "code",
   "execution_count": null,
   "metadata": {},
   "outputs": [],
   "source": [
    "# Your Code Here\n"
   ]
  },
  {
   "cell_type": "markdown",
   "metadata": {},
   "source": [
    "Now, let's see how we can quantify the relationship between two variables.\n",
    "\n",
    "\n",
    "## Covariance\n",
    "\n",
    "For a dataset $\\{(x_1, y_1), (x_2, y_2), \\ldots, (x_n, y_n)\\}$ we define the **covariance** as\n",
    "\n",
    "$$cov(X, Y) = \\frac{\\sum_{i=1}^n (x_i - \\bar{x})(y_i - \\bar{y})}{n-1}$$\n",
    "\n",
    "where $\\bar{x}$ is the mean of the $x_i$'s and $\\bar{y}$ is the mean of the $y_i$'s."
   ]
  },
  {
   "cell_type": "markdown",
   "metadata": {},
   "source": [
    "To calculate covariance, we can use the `cov` method from pandas. We'll slice the dataframe down to the variables that we are interested in before applying this method.\n",
    "\n",
    "Note that this returns the *covariance matrix*."
   ]
  },
  {
   "cell_type": "code",
   "execution_count": null,
   "metadata": {},
   "outputs": [],
   "source": [
    "cars[['displacement', 'horsepower']].cov()"
   ]
  },
  {
   "cell_type": "markdown",
   "metadata": {},
   "source": []
  },
  {
   "cell_type": "markdown",
   "metadata": {},
   "source": [
    "First, let's look at a special case - the covariance of a variable with itself:\n",
    "\n",
    "$$cov(X, X) = \\frac{\\sum_{i=1}^n (x_i - \\bar{x})(x_i - \\bar{x})}{n-1}$$\n",
    "\n",
    "$$ = \\frac{\\sum_{i=1}^n (x_i - \\bar{x})^2}{n-1}$$\n",
    "\n",
    "**Question:** What is this the same as?"
   ]
  },
  {
   "cell_type": "code",
   "execution_count": null,
   "metadata": {},
   "outputs": [],
   "source": [
    "cars['displacement'].var()"
   ]
  },
  {
   "cell_type": "code",
   "execution_count": null,
   "metadata": {},
   "outputs": [],
   "source": [
    "cars['horsepower'].var()"
   ]
  },
  {
   "cell_type": "markdown",
   "metadata": {},
   "source": [
    "Now, what about when we're looking at the covariance of two different variables?\n",
    "\n",
    "Take a look at your scatterplot again. This time we'll add a vertical line to show the mean value for displacement(plotted along the horizontal axis) and a horizontal line to show the mean value of horsepower (plotted along the vertical axis)."
   ]
  },
  {
   "cell_type": "code",
   "execution_count": null,
   "metadata": {},
   "outputs": [],
   "source": [
    "from nssstats.plots import quadrant_plot, half_plot"
   ]
  },
  {
   "cell_type": "code",
   "execution_count": null,
   "metadata": {},
   "outputs": [],
   "source": [
    "quadrant_plot(cars.displacement, cars.horsepower, labels = ['displacement', 'horsepower'], figsize = (12,8))"
   ]
  },
  {
   "cell_type": "markdown",
   "metadata": {},
   "source": [
    "Let's analyze the four quadrants that have been determined by partitioning at the average values. Starting with the upper left quadrant."
   ]
  },
  {
   "cell_type": "code",
   "execution_count": null,
   "metadata": {},
   "outputs": [],
   "source": [
    "quadrant_plot(cars.displacement,\n",
    "              cars.horsepower,\n",
    "              labels = ['displacement', 'horsepower'],\n",
    "              quadrant = 4,\n",
    "              figsize = (12,8))"
   ]
  },
  {
   "cell_type": "markdown",
   "metadata": {},
   "source": [
    "Points in the upper left quadrant have lower than average displacement and higher than average horsepower. Thus, $(x_i - \\bar{x})(y_i - \\bar{y})$ will be a negative number times a positive number, so negative overall."
   ]
  },
  {
   "cell_type": "markdown",
   "metadata": {},
   "source": [
    "Next take a look at the lower right quadrant."
   ]
  },
  {
   "cell_type": "code",
   "execution_count": null,
   "metadata": {},
   "outputs": [],
   "source": [
    "quadrant_plot(cars.displacement,\n",
    "              cars.horsepower,\n",
    "              labels = ['displacement', 'horsepower'],\n",
    "              quadrant = 2,\n",
    "              figsize = (12,8))"
   ]
  },
  {
   "cell_type": "markdown",
   "metadata": {},
   "source": [
    "For points in the lower right, where horsepower is below average and displacement is above average, $(x_i - \\bar{x})(y_i - \\bar{y})$ will also be negative."
   ]
  },
  {
   "cell_type": "markdown",
   "metadata": {},
   "source": [
    "Next, focus on the lower left quadrant, where both displacement and horsepower are below the mean."
   ]
  },
  {
   "cell_type": "code",
   "execution_count": null,
   "metadata": {},
   "outputs": [],
   "source": [
    "quadrant_plot(cars.displacement,\n",
    "              cars.horsepower,\n",
    "              labels = ['displacement', 'horsepower'],\n",
    "              quadrant = 3,\n",
    "              figsize = (12,8))"
   ]
  },
  {
   "cell_type": "markdown",
   "metadata": {},
   "source": [
    "Points in the lower left quadrant have lower than average displacement and lower than average horsepower. Thus, $(x_i - \\bar{x})(y_i - \\bar{y})$ will be a positive number times a positive number, so positive overall."
   ]
  },
  {
   "cell_type": "markdown",
   "metadata": {},
   "source": [
    "Finally, take a look at the upper right quadrant."
   ]
  },
  {
   "cell_type": "code",
   "execution_count": null,
   "metadata": {},
   "outputs": [],
   "source": [
    "quadrant_plot(cars.displacement,\n",
    "              cars.horsepower,\n",
    "              labels = ['displacement', 'horsepower'],\n",
    "              quadrant = 1,\n",
    "              figsize = (12,8))"
   ]
  },
  {
   "cell_type": "markdown",
   "metadata": {},
   "source": [
    "For points in the upper right quadrant, $(x_i - \\bar{x})(y_i - \\bar{y})$ will be positive.\n",
    "\n",
    "If you have more points in the lower left and upper right, when finding the covariance, you will be adding a lot of positive numbers, so the outcome is likely to be positive.\n",
    "\n",
    "If you have more points in the upper left and lower right, when calculating the covariance, you will be adding a lot of negative numbers, so the outcome is likely to be negative.\n",
    "\n",
    "These two scenarios correspond to a positive trend and a negative trend, respectively.\n",
    "\n",
    "On the other hand, if points are roughly evenly spread around the four quadrants (no trend), then when finding the covariance, you will be adding a lot of both positive and negative values, so overall, the covariance will be close to zero."
   ]
  },
  {
   "cell_type": "markdown",
   "metadata": {},
   "source": [
    "Let's look at this in another way. First look at observations with below-average displacement."
   ]
  },
  {
   "cell_type": "code",
   "execution_count": null,
   "metadata": {},
   "outputs": [],
   "source": [
    "half_plot(cars.displacement, cars.horsepower, labels = ['displacement', 'horsepower'],\n",
    "          figsize = (12,8), half = 'left')"
   ]
  },
  {
   "cell_type": "markdown",
   "metadata": {},
   "source": [
    "Notice that most observations with below-average displacement will also have below-average horsepower.\n",
    "\n",
    "Now, look at points that have above-average displacement."
   ]
  },
  {
   "cell_type": "code",
   "execution_count": null,
   "metadata": {},
   "outputs": [],
   "source": [
    "half_plot(cars.displacement, cars.horsepower, labels = ['displacement', 'horsepower'],\n",
    "          figsize = (12,8), half = 'right')"
   ]
  },
  {
   "cell_type": "markdown",
   "metadata": {},
   "source": [
    "Notice that most points with above-average displacement also have above-average horsepower.\n",
    "\n",
    "This is another way to understand covariance. \n",
    "\n",
    "**Positive covariance** between variables $a$ and $b$ means that observations with above-average values for $a$ tend to also have above-average values for $b$ and vice versa.\n",
    "\n",
    "**Negative covariance** between variables $a$ and $b$ means that observations with above-average values for $a$ tend to have below-average values for $b$ and vice versa.\n",
    "\n",
    "Covariance actually does a little more than this - it detects the strength of a _linear_ relationship - that is, do the points tend to follow a straight line?\n",
    "\n",
    "You can check this using the horsepower and mpg variables."
   ]
  },
  {
   "cell_type": "code",
   "execution_count": null,
   "metadata": {},
   "outputs": [],
   "source": [
    "cars[['horsepower', 'mpg']].cov()"
   ]
  },
  {
   "cell_type": "code",
   "execution_count": null,
   "metadata": {},
   "outputs": [],
   "source": [
    "half_plot(cars.displacement, cars.mpg, labels = ['displacement', 'mpg'],\n",
    "          figsize = (12,8), half = 'left')"
   ]
  },
  {
   "cell_type": "code",
   "execution_count": null,
   "metadata": {},
   "outputs": [],
   "source": [
    "half_plot(cars.displacement, cars.mpg, labels = ['displacement', 'mpg'],\n",
    "          figsize = (12,8), half = 'right')"
   ]
  },
  {
   "cell_type": "markdown",
   "metadata": {},
   "source": [
    "By examining the sign and the magnitude of the covariance, you can get an idea of the existence or nonexistence of a trend in the data. \n",
    "\n",
    "But there is one major drawback, which is that the magnitude of $(x_i - \\bar{x})$ and $(y_i - \\bar{y})$ depends on the measurement scale of the variables. In this case, you are measuring these difference in displacement and horsepower units (and so when you multiply them, you have displacement units $\\cdot$ horsepower units).\n",
    "\n",
    "A better approach would be to standardize these differences, so that you get a unitless measure of trend. This is exactly what the correlation does."
   ]
  },
  {
   "cell_type": "markdown",
   "metadata": {},
   "source": [
    "## (Pearson) Correlation\n",
    "\n",
    "How can you normalize these differences? The most common way to do it is to convert it into units of standard deviations (by dividing the absolute differences by the standard deviation).\n",
    "\n",
    "$$ r = \\frac{\\sum_{i=1}^n \\frac{(x_i - \\bar{x})}{s_X}\\frac{(y_i - \\bar{y})}{s_Y}}{n-1} = \\frac{cov(X,Y)}{s_X \\cdot s_Y} $$\n",
    "\n",
    "**Question:** Look at the numerator. What are $\\frac{(x_i - \\bar{x})}{s_X}$ and $\\frac{(y_i - \\bar{y})}{s_Y}$?"
   ]
  },
  {
   "cell_type": "markdown",
   "metadata": {},
   "source": [
    "For correlation, we can use the `corr` method. "
   ]
  },
  {
   "cell_type": "code",
   "execution_count": null,
   "metadata": {},
   "outputs": [],
   "source": [
    "cars[['displacement', 'horsepower']].corr()"
   ]
  },
  {
   "cell_type": "markdown",
   "metadata": {},
   "source": [
    "This shows that the correlation between displacement and horsepower is roughly 0.897."
   ]
  },
  {
   "cell_type": "markdown",
   "metadata": {},
   "source": [
    "The correlation will always be between -1 and 1, where higher magnitudes (further from zero in either direction) signify a stronger association and the sign determines whether it is a positive or negative association.\n",
    "\n",
    "This table give a rule of thumb for assessing the strength of a relationship based on the correlation.\n",
    "\n",
    "| $r$  | interpretation  |\n",
    "|---|---|\n",
    "| 1  | Perfect positive relationship  |\n",
    "| 0.8  | Strong positive relationship  |\n",
    "| 0.5 | Moderate positive relationship  |\n",
    "| 0.2 | Weak positive relationship |\n",
    "| 0 | No linear relationship |\n",
    "| -0.2 | Weak negative relationship |\n",
    "| -0.5 | Moderate negative relationship |\n",
    "| -0.8 | Strong negative relationship |\n",
    "| -1 | Perfect negative relationship |\n",
    "\n",
    "\n",
    "The following interactive plot can be used to see what different levels of correlation look like."
   ]
  },
  {
   "cell_type": "code",
   "execution_count": null,
   "metadata": {},
   "outputs": [],
   "source": [
    "from ipywidgets import interact, FloatSlider\n",
    "\n",
    "@interact(corr = FloatSlider(value = 0.8, min = -1, max = 1, step = 0.01, continuous_update = False))\n",
    "def make_corr_plot(corr):\n",
    "    xx = np.array([0, 1])\n",
    "    yy = np.array([0, 1])\n",
    "    means = [xx.mean(), yy.mean()]  \n",
    "    stds = [xx.std() / 3, yy.std() / 3]\n",
    "    corr = corr       # correlation\n",
    "    covs = [[stds[0]**2          , stds[0]*stds[1]*corr], \n",
    "            [stds[0]*stds[1]*corr,           stds[1]**2]] \n",
    "\n",
    "    m = np.random.multivariate_normal(means, covs, 1000).T\n",
    "    fig, ax = plt.subplots(figsize = (8,6))\n",
    "    plt.scatter(m[0], m[1])\n",
    "    plt.title('Correlation = {:.2f}'.format(corr))\n",
    "    ax.axis('equal');"
   ]
  },
  {
   "cell_type": "markdown",
   "metadata": {},
   "source": [
    "The Pearson correlation measures the strength of a *linear* relationship between variables. That is, how strongly they follow a line. If you want to see this trendline, you can use the polyfit method from numpy. You'll learn much more about this trendline when we talk about linear regression later in the course."
   ]
  },
  {
   "cell_type": "code",
   "execution_count": null,
   "metadata": {},
   "outputs": [],
   "source": [
    "fig, ax = plt.subplots(figsize = (12,8))\n",
    "cars.plot(kind = 'scatter', x = 'displacement', y = 'horsepower', ax = ax)\n",
    "\n",
    "x = np.linspace(cars['displacement'].min(), cars['displacement'].max(), 100)\n",
    "z = np.polyfit(cars['displacement'], cars['horsepower'], 1)\n",
    "p = np.poly1d(z)\n",
    "plt.plot(x,p(x),\"r--\")\n",
    "\n",
    "plt.title('horsepower vs. displacement');"
   ]
  },
  {
   "cell_type": "markdown",
   "metadata": {},
   "source": [
    "**Caution:** the correlation coefficient that you have encountered so far only measures the strength of a *linear* relationship. It is possible that two variables can have a strong *nonlinear* relationship that cannot be detected by using the correlation coefficient. It is advisable to always plot your variables against each other rather than just relying on the correlation coefficient.\n",
    "\n",
    "For example, the following variables have a very strong relationship. In fact, there is a formula to find the value of $y$ based on the value of $x$."
   ]
  },
  {
   "cell_type": "code",
   "execution_count": null,
   "metadata": {},
   "outputs": [],
   "source": [
    "x = np.linspace(start = -3, stop = 3, num=50)\n",
    "y = x**2\n",
    "\n",
    "plt.scatter(x,y);"
   ]
  },
  {
   "cell_type": "markdown",
   "metadata": {},
   "source": [
    "However, you won't get very far trying to detect this relationship using the correlation coefficient, which in this case is essentially 0.\n",
    "\n",
    "Notice that I can also calculate correlation using functions from numpy."
   ]
  },
  {
   "cell_type": "code",
   "execution_count": null,
   "metadata": {},
   "outputs": [],
   "source": [
    "np.corrcoef(x,y)"
   ]
  },
  {
   "cell_type": "markdown",
   "metadata": {},
   "source": [
    "Now, let's look at the correlations between all of our variables."
   ]
  },
  {
   "cell_type": "code",
   "execution_count": null,
   "metadata": {},
   "outputs": [],
   "source": [
    "cars[['mpg', 'cylinders', 'displacement', 'horsepower', 'acceleration', 'weight']].corr()"
   ]
  },
  {
   "cell_type": "markdown",
   "metadata": {},
   "source": [
    "To find the correlation between any two variables, find the intersection of the row and column for those variables.\n",
    "\n",
    "For example, the correlation between weight and acceleration is -0.417.\n",
    "\n",
    "It appears that the strongest relationship is between cylinders and displacement.\n",
    "\n",
    "Because cylinders is a discrete variable, a scatterplot of cylinders vs displacement has points only at each discrete value of cylinder and not continuously along the horizontal axis. "
   ]
  },
  {
   "cell_type": "code",
   "execution_count": null,
   "metadata": {},
   "outputs": [],
   "source": [
    "cars.plot(kind = 'scatter', x = 'cylinders', y = 'displacement', figsize = (12,8))\n",
    "x = np.linspace(cars['cylinders'].min(), cars['cylinders'].max(), 100)\n",
    "z = np.polyfit(cars['cylinders'], cars['displacement'], 1)\n",
    "p = np.poly1d(z)\n",
    "plt.plot(x,p(x),\"r--\");"
   ]
  },
  {
   "cell_type": "markdown",
   "metadata": {},
   "source": [
    "Note that the type of correlation discussed above is called Pearson's correlation coefficient. It is what is most commonly referred to by the term \"correlation\", but it is not the only correlation measure. For a discussion of other types of correlations and appropriate use cases of these, see https://www.ncbi.nlm.nih.gov/pmc/articles/PMC3576830/."
   ]
  },
  {
   "cell_type": "markdown",
   "metadata": {},
   "source": [
    "# Exploring Categorical-Numeric Relationships"
   ]
  },
  {
   "cell_type": "code",
   "execution_count": null,
   "metadata": {
    "scrolled": true
   },
   "outputs": [],
   "source": [
    "cars.head()"
   ]
  },
  {
   "cell_type": "markdown",
   "metadata": {},
   "source": [
    "The cars dataset includes a categorical variable, the model year. Note that while year is a number, in this context it is not a measurement. Instead, it is a grouping variable, making it categorical.\n",
    "\n",
    "In `pandas`, if we want to explore categorical vs numeric variables, we usually do it by using `groupby`. To groupby, you need to specify the column(s) to group on, followed by the column you want to aggregate, and finally an aggregation type.\n",
    "\n",
    "Let's say we want a basic count of cars by year.\n",
    "* groupby: model year\n",
    "* column to aggregate: car name (can really use any column here)\n",
    "* aggregation: count"
   ]
  },
  {
   "cell_type": "code",
   "execution_count": null,
   "metadata": {},
   "outputs": [],
   "source": [
    "cars.groupby('model year')['car name'].count()"
   ]
  },
  {
   "cell_type": "markdown",
   "metadata": {},
   "source": [
    "We can feed the result of our groupby into a plot."
   ]
  },
  {
   "cell_type": "code",
   "execution_count": null,
   "metadata": {},
   "outputs": [],
   "source": [
    "plt.figure(figsize = (10,6))\n",
    "\n",
    "cars.groupby('model year')['car name'].count().plot(kind = 'bar')\n",
    "plt.title('Count of Cars by Model Year')\n",
    "plt.ylabel('count')\n",
    "plt.xticks(rotation = 0);"
   ]
  },
  {
   "cell_type": "markdown",
   "metadata": {},
   "source": [
    "However, we are not just limited to counting. We can apply any sort of aggregation we want. For example, let's say we want to see the average mpg by year.\n",
    "\n",
    "* groupby: model year\n",
    "* column to aggregate: mpg\n",
    "* aggregation: mean"
   ]
  },
  {
   "cell_type": "code",
   "execution_count": null,
   "metadata": {},
   "outputs": [],
   "source": [
    "plt.figure(figsize = (10,6))\n",
    "\n",
    "cars.groupby('model year')['mpg'].mean().plot(kind = 'bar')\n",
    "plt.title('Mean mpg per Model Year')\n",
    "plt.ylabel('mpg')\n",
    "plt.xticks(rotation = 0);"
   ]
  },
  {
   "cell_type": "markdown",
   "metadata": {},
   "source": [
    "**Question:** What does this plot tell us?"
   ]
  },
  {
   "cell_type": "markdown",
   "metadata": {},
   "source": [
    "While the above plot gives some idea about how mpg has changed over the years, it is only giving a single snapshot per year. A boxplot, which you saw in the last set of slides gives a more complete picture since it shows the overall distribution of mpg values per year. A boxplot shows not just the average value but can reveal the something about the spread of values in a given year."
   ]
  },
  {
   "cell_type": "code",
   "execution_count": null,
   "metadata": {},
   "outputs": [],
   "source": [
    "plt.figure(figsize = (10,6))\n",
    "\n",
    "sns.boxplot(data = cars, x = 'model year', y = 'mpg');"
   ]
  },
  {
   "cell_type": "markdown",
   "metadata": {},
   "source": [
    "**Question:** What additional information do we get from the boxplot that was not obvious from the mean plot above?"
   ]
  },
  {
   "cell_type": "markdown",
   "metadata": {},
   "source": [
    "**Your Turn** The origin variable shows the origin of the vehicle (1 = American, 2 = European, 3 = Japanese)\n",
    "\n",
    "Look at the relationship between mpg and origin. What do you find?"
   ]
  },
  {
   "cell_type": "code",
   "execution_count": null,
   "metadata": {},
   "outputs": [],
   "source": [
    "# Your Code Here"
   ]
  },
  {
   "cell_type": "markdown",
   "metadata": {},
   "source": [
    "**Your Turn #2**: Above, we treated cylinders as a numeric variable, but we might also want to view it as a categorical variable. Examine the relationship between number of cylinders and the acceleration. What do you find? You might also look at the relationship between cylinders and other variables."
   ]
  },
  {
   "cell_type": "code",
   "execution_count": null,
   "metadata": {},
   "outputs": [],
   "source": [
    "# Your Code Here"
   ]
  },
  {
   "cell_type": "markdown",
   "metadata": {},
   "source": [
    "## Categorical-Categorical\n",
    "\n",
    "When studying two categorical variables, you can perform *cross-tabulation* to see how the sample is distributed across the categories.\n",
    "\n",
    "For this example, you'll look at data from the 2018 Central Park Squirrel Census, which can be obtained from https://data.cityofnewyork.us/Environment/2018-Central-Park-Squirrel-Census-Squirrel-Data/vfnx-vebw."
   ]
  },
  {
   "cell_type": "code",
   "execution_count": null,
   "metadata": {},
   "outputs": [],
   "source": [
    "squirrels = pd.read_csv('../data/2018_Central_Park_Squirrel_Census_-_Squirrel_Data.csv')\n",
    "squirrels.head()"
   ]
  },
  {
   "cell_type": "markdown",
   "metadata": {},
   "source": [
    "Let's say you are interested in seeing if squirrels of different colors behave differently around humans. You'll be looking specifically at the `Primary Fur Color` and `Runs from` column, which indicates \"Squirrel was seen running from humans, seeing them as a threat.\" You'll be using the `pandas` `crosstab` function for this."
   ]
  },
  {
   "cell_type": "code",
   "execution_count": null,
   "metadata": {},
   "outputs": [],
   "source": [
    "pd.crosstab(squirrels['Primary Fur Color'], squirrels['Runs from'])"
   ]
  },
  {
   "cell_type": "markdown",
   "metadata": {},
   "source": [
    "By default, `crosstab` will return counts, which can give an idea about the relative size of each group, but makes it difficult to assess exact proportions. Luckily, you can normalize your measurements to give relative proportions by specifying the `normalize` argument. To normalize across rows, you can specify `normalize = 'index'`."
   ]
  },
  {
   "cell_type": "code",
   "execution_count": null,
   "metadata": {},
   "outputs": [],
   "source": [
    "pd.crosstab(squirrels['Primary Fur Color'], squirrels['Runs from'], normalize='index')"
   ]
  },
  {
   "cell_type": "markdown",
   "metadata": {},
   "source": [
    "Based on this, you can see that a larger proportion of black squirrels run from humans than other colors of squirrels.\n",
    "\n",
    "You can visualize your findings using a side-by-side barplot."
   ]
  },
  {
   "cell_type": "code",
   "execution_count": null,
   "metadata": {},
   "outputs": [],
   "source": [
    "pd.crosstab(squirrels['Primary Fur Color'],\n",
    "            squirrels['Runs from'], \n",
    "            normalize='index').plot(kind = 'bar', \n",
    "                                    edgecolor = 'black', \n",
    "                                    width = 0.75)\n",
    "plt.ylabel('Proportion');"
   ]
  },
  {
   "cell_type": "markdown",
   "metadata": {},
   "source": [
    "Or you can show them in a stacked bar plot."
   ]
  },
  {
   "cell_type": "code",
   "execution_count": null,
   "metadata": {},
   "outputs": [],
   "source": [
    "pd.crosstab(squirrels['Primary Fur Color'], \n",
    "            squirrels['Runs from'], \n",
    "            normalize='index').plot(kind = 'bar', \n",
    "                                    edgecolor = 'black', \n",
    "                                    width = 0.75,\n",
    "                                    stacked = True)\n",
    "plt.ylabel('Proportion');"
   ]
  },
  {
   "cell_type": "markdown",
   "metadata": {},
   "source": [
    "**Your turn** \n",
    "\n",
    "Create a stacked bar plot from the cars dataset showing the proportion of cars having each number of cylinders by year. \n",
    "\n",
    "What new information does this plot give about this dataset? "
   ]
  },
  {
   "cell_type": "code",
   "execution_count": null,
   "metadata": {},
   "outputs": [],
   "source": [
    "# Your Code Here"
   ]
  }
 ],
 "metadata": {
  "kernelspec": {
   "display_name": "Python 3 (ipykernel)",
   "language": "python",
   "name": "python3"
  },
  "language_info": {
   "codemirror_mode": {
    "name": "ipython",
    "version": 3
   },
   "file_extension": ".py",
   "mimetype": "text/x-python",
   "name": "python",
   "nbconvert_exporter": "python",
   "pygments_lexer": "ipython3",
   "version": "3.8.3"
  }
 },
 "nbformat": 4,
 "nbformat_minor": 2
}
