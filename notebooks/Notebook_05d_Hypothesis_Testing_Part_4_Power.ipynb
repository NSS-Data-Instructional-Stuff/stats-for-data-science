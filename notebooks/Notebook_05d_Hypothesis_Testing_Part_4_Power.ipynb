{
 "cells": [
  {
   "cell_type": "markdown",
   "id": "9e65d00d",
   "metadata": {},
   "source": [
    "## Power Calculations\n",
    "\n",
    "To perform power calculations, we can use the `tt_ind_solve_power` function from `statsmodels`."
   ]
  },
  {
   "cell_type": "code",
   "execution_count": null,
   "id": "6d4c9098",
   "metadata": {},
   "outputs": [],
   "source": [
    "from statsmodels.stats.power import tt_ind_solve_power"
   ]
  },
  {
   "cell_type": "markdown",
   "id": "a41084a5",
   "metadata": {},
   "source": [
    "First, take a look at the docstring."
   ]
  },
  {
   "cell_type": "code",
   "execution_count": null,
   "id": "4bf99f95",
   "metadata": {},
   "outputs": [],
   "source": [
    "tt_ind_solve_power?"
   ]
  },
  {
   "cell_type": "markdown",
   "id": "be146c26",
   "metadata": {},
   "source": [
    "Note that the way this function works, we need to specify all but one parameter, and the function will return the omitted one."
   ]
  },
  {
   "cell_type": "markdown",
   "id": "a9c41d94",
   "metadata": {},
   "source": [
    "### Finding the Power of a Test\n",
    "\n",
    "To determine the power of a test, we need to specify what effect size we want to detect.\n",
    "\n",
    "Recall that effect size can be understood as how many standard deviations of difference there is between the two groups.\n",
    "\n",
    "For example, in our test where we had a sample size of 20 per group, if we wanted to detect an effect size of 0.5 standard deviations, our test would have power equal to the output from the following cell:"
   ]
  },
  {
   "cell_type": "code",
   "execution_count": null,
   "id": "3de40488",
   "metadata": {},
   "outputs": [],
   "source": [
    "tt_ind_solve_power(effect_size = 0.5, \n",
    "                   nobs1 = 20, \n",
    "                   alpha = 0.05)"
   ]
  },
  {
   "cell_type": "markdown",
   "id": "fa2c12a6",
   "metadata": {},
   "source": [
    "Note that the power of the test is only 0.34, meaning that if there were a 0.5 standard deviation difference, we would only detect it about a third of the time. You could say that the test we ran was **underpowered**."
   ]
  },
  {
   "cell_type": "markdown",
   "id": "29090f55",
   "metadata": {},
   "source": [
    "On the other hand, if we wanted to detect a larger effect size, say 1 standard deviation, the power would have been:"
   ]
  },
  {
   "cell_type": "code",
   "execution_count": null,
   "id": "a206868d",
   "metadata": {},
   "outputs": [],
   "source": [
    "tt_ind_solve_power(effect_size = 1, \n",
    "                   nobs1 = 20, \n",
    "                   alpha = 0.05)"
   ]
  },
  {
   "cell_type": "markdown",
   "id": "9551f078",
   "metadata": {},
   "source": [
    "**Question:** Explore what happens to the power if you vary the desired effect size. What do you think the relationship between effect size and power is (all else held constant)?"
   ]
  },
  {
   "cell_type": "markdown",
   "id": "df132dde",
   "metadata": {},
   "source": [
    "**Question:** Explore what happens to the power if you vary the number of observations. What do you think the relationship between number of observations and power is (all else held constant)?"
   ]
  },
  {
   "cell_type": "markdown",
   "id": "1cb439e5",
   "metadata": {},
   "source": [
    "### Determining Necessary Sample Size\n",
    "\n",
    "If you have in mind a minimum effect size that you want to be able to detect, it is usually a good idea to determine necessary sample size before running a statistical test. \n",
    "\n",
    "This is especially true for A/B testing.\n",
    "\n",
    "A very common power level to aim for is 0.8. Let's see how large a sample size we would need to detect an effect size of 0.5 standard deviations with a power of 0.8."
   ]
  },
  {
   "cell_type": "code",
   "execution_count": null,
   "id": "a38eaa24",
   "metadata": {},
   "outputs": [],
   "source": [
    "tt_ind_solve_power(effect_size = 0.5, \n",
    "                   power = 0.8, \n",
    "                   alpha = 0.05)"
   ]
  },
  {
   "cell_type": "markdown",
   "id": "7bdc77c7",
   "metadata": {},
   "source": [
    "This says that we would need a sample size of about 64 per group.\n",
    "\n",
    "What if we want to detect a much smaller effect size, say only 0.1 standard deviations?"
   ]
  },
  {
   "cell_type": "code",
   "execution_count": null,
   "id": "ff72ef2e",
   "metadata": {},
   "outputs": [],
   "source": [
    "tt_ind_solve_power(effect_size = 0.1, \n",
    "                   power = 0.8, \n",
    "                   alpha = 0.05)"
   ]
  },
  {
   "cell_type": "markdown",
   "id": "46f6654a",
   "metadata": {},
   "source": [
    "**Question:** Explore what happens to the number of observations needed if you vary the desired effect size. What do you think the relationship between number of observations and effect size is (all else held constant)?"
   ]
  }
 ],
 "metadata": {
  "kernelspec": {
   "display_name": "Python 3",
   "language": "python",
   "name": "python3"
  },
  "language_info": {
   "codemirror_mode": {
    "name": "ipython",
    "version": 3
   },
   "file_extension": ".py",
   "mimetype": "text/x-python",
   "name": "python",
   "nbconvert_exporter": "python",
   "pygments_lexer": "ipython3",
   "version": "3.8.3"
  }
 },
 "nbformat": 4,
 "nbformat_minor": 5
}
